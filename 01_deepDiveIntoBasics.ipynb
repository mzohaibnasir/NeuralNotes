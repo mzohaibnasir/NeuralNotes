{
  "cells": [
    {
      "cell_type": "markdown",
      "metadata": {
        "id": "view-in-github",
        "colab_type": "text"
      },
      "source": [
        "<a href=\"https://colab.research.google.com/github/mzohaibnasir/NeuralNotes/blob/main/01_deepDiveIntoBasics.ipynb\" target=\"_parent\"><img src=\"https://colab.research.google.com/assets/colab-badge.svg\" alt=\"Open In Colab\"/></a>"
      ]
    },
    {
      "cell_type": "markdown",
      "metadata": {
        "id": "whHjnNEGAypl"
      },
      "source": [
        "# lec Matrix Multiplication"
      ]
    },
    {
      "cell_type": "code",
      "execution_count": 1,
      "metadata": {
        "id": "chL8abzFGQnv"
      },
      "outputs": [],
      "source": [
        "from pathlib import Path\n",
        "import pickle , gzip,math, os, time, shutil,matplotlib.pyplot as plt, matplotlib as mpl\n",
        "import numpy as np\n",
        "import torch"
      ]
    },
    {
      "cell_type": "code",
      "execution_count": 1,
      "metadata": {
        "id": "4-Dy0q5rAyAF"
      },
      "outputs": [],
      "source": []
    },
    {
      "cell_type": "code",
      "execution_count": 2,
      "metadata": {
        "id": "pHtv6gx_GnYJ"
      },
      "outputs": [],
      "source": [
        "MNIST_URL='https://github.com/mnielsen/neural-networks-and-deep-learning/blob/d15df08a69ed33ae16a2fff874f83b57a956172c/data/mnist.pkl.gz?raw=true'\n",
        "path_data = Path('data')\n",
        "path_data.mkdir(exist_ok=True )\n",
        "path_gz=path_data/'mnist.pkl.gz'"
      ]
    },
    {
      "cell_type": "code",
      "execution_count": 3,
      "metadata": {
        "id": "IRD-xEFeGoCQ"
      },
      "outputs": [],
      "source": [
        "from urllib.request import urlretrieve\n",
        "\n",
        "if not path_gz.exists(): urlretrieve(MNIST_URL, path_gz)"
      ]
    },
    {
      "cell_type": "code",
      "execution_count": 4,
      "metadata": {
        "id": "RUnlAUWUGoEU",
        "colab": {
          "base_uri": "https://localhost:8080/"
        },
        "outputId": "5541f3db-5812-43c3-90d0-3beeb227d874"
      },
      "outputs": [
        {
          "output_type": "stream",
          "name": "stdout",
          "text": [
            "total 16656\n",
            "-rw-r--r-- 1 root root 17051982 Jan  6 12:26 mnist.pkl.gz\n"
          ]
        }
      ],
      "source": [
        "!ls -l data"
      ]
    },
    {
      "cell_type": "code",
      "execution_count": 5,
      "metadata": {
        "id": "zkn5NodRGoGT"
      },
      "outputs": [],
      "source": [
        "with gzip.open(path_gz, 'rb') as f:   #read as binary as opposed to text\n",
        "   ((x_train,y_train), (x_valid,y_valid), _) = pickle.load(f, encoding='latin-1') #destructuring"
      ]
    },
    {
      "cell_type": "code",
      "execution_count": 6,
      "metadata": {
        "id": "0237CfqtVwVM",
        "colab": {
          "base_uri": "https://localhost:8080/"
        },
        "outputId": "f71f7346-651c-402a-cb8c-e4bf2cdaaa4f"
      },
      "outputs": [
        {
          "output_type": "execute_result",
          "data": {
            "text/plain": [
              "(50000, 784)"
            ]
          },
          "metadata": {},
          "execution_count": 6
        }
      ],
      "source": [
        "np.array(x_train).shape"
      ]
    },
    {
      "cell_type": "code",
      "execution_count": 7,
      "metadata": {
        "id": "D9B5v6NJGoHo",
        "colab": {
          "base_uri": "https://localhost:8080/"
        },
        "outputId": "acec3ccd-c0a4-427d-c79b-83629fa6ea2f"
      },
      "outputs": [
        {
          "output_type": "execute_result",
          "data": {
            "text/plain": [
              "[0.0,\n",
              " 0.0,\n",
              " 0.0,\n",
              " 0.19140625,\n",
              " 0.9296875,\n",
              " 0.98828125,\n",
              " 0.98828125,\n",
              " 0.98828125,\n",
              " 0.98828125,\n",
              " 0.98828125]"
            ]
          },
          "metadata": {},
          "execution_count": 7
        }
      ],
      "source": [
        "lst1 = list(x_train[0]) # numpy to list  # pick single image\n",
        "vals=lst1[200:210]\n",
        "vals # is a list of 10 things"
      ]
    },
    {
      "cell_type": "code",
      "execution_count": 8,
      "metadata": {
        "id": "s-ehhZ616ohD"
      },
      "outputs": [],
      "source": [
        "# plt.imshow(x_train[0])\n",
        "# plt.show()"
      ]
    },
    {
      "cell_type": "code",
      "execution_count": 9,
      "metadata": {
        "id": "CEvfkZ8yKrHC"
      },
      "outputs": [],
      "source": [
        "# plt.imshow(torch.reshape(x_train[0],(28,28)))\n",
        "# plt.show()"
      ]
    },
    {
      "cell_type": "code",
      "execution_count": 10,
      "metadata": {
        "id": "nQ2zZGdtV598",
        "colab": {
          "base_uri": "https://localhost:8080/"
        },
        "outputId": "d38cfa16-096a-4d6f-fd59-ba0b13ba4c47"
      },
      "outputs": [
        {
          "output_type": "execute_result",
          "data": {
            "text/plain": [
              "(784,)"
            ]
          },
          "metadata": {},
          "execution_count": 10
        }
      ],
      "source": [
        "np.array(lst1).shape"
      ]
    },
    {
      "cell_type": "code",
      "execution_count": 11,
      "metadata": {
        "id": "7muckn2BRXSZ",
        "colab": {
          "base_uri": "https://localhost:8080/"
        },
        "outputId": "9dcf44f8-86ce-4b6f-a101-95868cc8a61d"
      },
      "outputs": [
        {
          "output_type": "execute_result",
          "data": {
            "text/plain": [
              "(784, 0.0)"
            ]
          },
          "metadata": {},
          "execution_count": 11
        }
      ],
      "source": [
        "len(lst1), lst1[0] #784 because 28*28 image"
      ]
    },
    {
      "cell_type": "code",
      "execution_count": 12,
      "metadata": {
        "id": "i56_ADSNRXVL",
        "colab": {
          "base_uri": "https://localhost:8080/",
          "height": 70
        },
        "outputId": "afd5f868-43aa-4c38-f8ea-e50b76447c61"
      },
      "outputs": [
        {
          "output_type": "execute_result",
          "data": {
            "text/plain": [
              "'\\n  In Python, the yield keyword is a powerful tool used to create generator functions. Unlike regular functions that return a single value,\\n  generator functions use yield to lazily generate a sequence of values. This makes them memory-efficient and ideal for iterating over large\\n  datasets or performing repetitive tasks.\\n\\n'"
            ],
            "application/vnd.google.colaboratory.intrinsic+json": {
              "type": "string"
            }
          },
          "metadata": {},
          "execution_count": 12
        }
      ],
      "source": [
        "# 784*1 back to 28*28 image\n",
        "def chunks(x,sz):\n",
        "  for i in range(0, len(x), sz):\n",
        "    yield x[i:i+sz]   # yield sort of returns a bit but then it continues # it creates an iterator , iterator is something you can call next on many time\n",
        "\n",
        "\n",
        "\"\"\"\n",
        "  In Python, the yield keyword is a powerful tool used to create generator functions. Unlike regular functions that return a single value,\n",
        "  generator functions use yield to lazily generate a sequence of values. This makes them memory-efficient and ideal for iterating over large\n",
        "  datasets or performing repetitive tasks.\n",
        "\n",
        "\"\"\"\n"
      ]
    },
    {
      "cell_type": "code",
      "execution_count": 13,
      "metadata": {
        "id": "8Cc9CyxzzZZX",
        "colab": {
          "base_uri": "https://localhost:8080/",
          "height": 447
        },
        "outputId": "e9d5ddf0-a06e-436b-980a-2e6c5e1fd7da"
      },
      "outputs": [
        {
          "output_type": "execute_result",
          "data": {
            "text/plain": [
              "<matplotlib.image.AxesImage at 0x7f620b7aa1d0>"
            ]
          },
          "metadata": {},
          "execution_count": 13
        },
        {
          "output_type": "display_data",
          "data": {
            "text/plain": [
              "<Figure size 640x480 with 1 Axes>"
            ],
            "image/png": "[encoded data removed]"
          },
          "metadata": {}
        }
      ],
      "source": [
        "plt.imshow(list(chunks(lst1,28)))"
      ]
    },
    {
      "cell_type": "code",
      "execution_count": 14,
      "metadata": {
        "id": "55DWsrYJT2wY",
        "colab": {
          "base_uri": "https://localhost:8080/"
        },
        "outputId": "4f669f51-bdf4-46f9-f060-039e71c054df"
      },
      "outputs": [
        {
          "output_type": "execute_result",
          "data": {
            "text/plain": [
              "[0.0, 0.0, 0.0, 0.19140625, 0.9296875]"
            ]
          },
          "metadata": {},
          "execution_count": 14
        }
      ],
      "source": [
        "val_iter = chunks(vals,5)\n",
        "next(val_iter) #next mean yield the next thing"
      ]
    },
    {
      "cell_type": "code",
      "execution_count": 15,
      "metadata": {
        "id": "mJ834foYUJS_",
        "colab": {
          "base_uri": "https://localhost:8080/"
        },
        "outputId": "c889ea18-5075-4a91-9245-62385c519f83"
      },
      "outputs": [
        {
          "output_type": "execute_result",
          "data": {
            "text/plain": [
              "[0.98828125, 0.98828125, 0.98828125, 0.98828125, 0.98828125]"
            ]
          },
          "metadata": {},
          "execution_count": 15
        }
      ],
      "source": [
        "next(val_iter)"
      ]
    },
    {
      "cell_type": "code",
      "execution_count": 16,
      "metadata": {
        "id": "414em4GFGoKc",
        "colab": {
          "base_uri": "https://localhost:8080/"
        },
        "outputId": "87e20948-35b0-4957-d9de-12ab379ce16b"
      },
      "outputs": [
        {
          "output_type": "execute_result",
          "data": {
            "text/plain": [
              "[[0.0, 0.0, 0.0, 0.19140625, 0.9296875],\n",
              " [0.98828125, 0.98828125, 0.98828125, 0.98828125, 0.98828125]]"
            ]
          },
          "metadata": {},
          "execution_count": 16
        }
      ],
      "source": [
        "list(chunks(vals,5)) # two  lists of five elements"
      ]
    },
    {
      "cell_type": "code",
      "execution_count": 17,
      "metadata": {
        "id": "DW4BRqG5QjYw",
        "colab": {
          "base_uri": "https://localhost:8080/",
          "height": 447
        },
        "outputId": "ca5b3471-a1eb-46fd-f91c-21c7fc41796b"
      },
      "outputs": [
        {
          "output_type": "execute_result",
          "data": {
            "text/plain": [
              "<matplotlib.image.AxesImage at 0x7f61fff8bfd0>"
            ]
          },
          "metadata": {},
          "execution_count": 17
        },
        {
          "output_type": "display_data",
          "data": {
            "text/plain": [
              "<Figure size 640x480 with 1 Axes>"
            ],
            "image/png": "[encoded data removed]"
          },
          "metadata": {}
        }
      ],
      "source": [
        "mpl.rcParams['image.cmap'] = 'gray'\n",
        "\n",
        "plt.imshow(list(chunks(lst1, 28)))"
      ]
    },
    {
      "cell_type": "code",
      "execution_count": 18,
      "metadata": {
        "id": "dMgeWZ1QQja_"
      },
      "outputs": [],
      "source": [
        "from itertools import islice"
      ]
    },
    {
      "cell_type": "code",
      "execution_count": 19,
      "metadata": {
        "id": "KhsCEzbUQjdF",
        "colab": {
          "base_uri": "https://localhost:8080/"
        },
        "outputId": "74fcc1da-d4c4-470f-8f32-91f2950cec16"
      },
      "outputs": [
        {
          "output_type": "execute_result",
          "data": {
            "text/plain": [
              "(0.0, 0.0, 0.0, 0.19140625, 0.9296875, 0.98828125)"
            ]
          },
          "metadata": {},
          "execution_count": 19
        }
      ],
      "source": [
        "it = iter(vals)\n",
        "next(it),next(it),next(it),next(it),next(it),next(it)"
      ]
    },
    {
      "cell_type": "code",
      "execution_count": 19,
      "metadata": {
        "id": "JeIlDf2eQjfM"
      },
      "outputs": [],
      "source": []
    },
    {
      "cell_type": "code",
      "execution_count": 20,
      "metadata": {
        "id": "XVS3kqHuQjhY"
      },
      "outputs": [],
      "source": [
        "it = iter(vals)\n",
        "isit = islice(it,5) # split it into 5, 6 would be error\n"
      ]
    },
    {
      "cell_type": "code",
      "execution_count": 21,
      "metadata": {
        "id": "APWyKFN4Qjja",
        "colab": {
          "base_uri": "https://localhost:8080/"
        },
        "outputId": "e1b64b3a-4187-4f9e-b839-a4b8fce77811"
      },
      "outputs": [
        {
          "output_type": "execute_result",
          "data": {
            "text/plain": [
              "(0.0, 0.0, 0.0, 0.19140625, 0.9296875)"
            ]
          },
          "metadata": {},
          "execution_count": 21
        }
      ],
      "source": [
        "next(isit),next(isit),next(isit),next(isit),next(isit)"
      ]
    },
    {
      "cell_type": "code",
      "execution_count": 22,
      "metadata": {
        "id": "9XDFHmJUQjlV"
      },
      "outputs": [],
      "source": [
        "# next(isit)"
      ]
    },
    {
      "cell_type": "code",
      "execution_count": 23,
      "metadata": {
        "id": "COl1hmz_QjoL",
        "colab": {
          "base_uri": "https://localhost:8080/"
        },
        "outputId": "31ab21a6-48c6-4edf-ed13-38687968593e"
      },
      "outputs": [
        {
          "output_type": "execute_result",
          "data": {
            "text/plain": [
              "[0.0, 0.0, 0.0, 0.19140625, 0.9296875]"
            ]
          },
          "metadata": {},
          "execution_count": 23
        }
      ],
      "source": [
        "it = iter(vals)\n",
        "isit = islice(it,5) # split it into 5, 6 would be error\n",
        "list(isit)"
      ]
    },
    {
      "cell_type": "code",
      "execution_count": 24,
      "metadata": {
        "id": "LbtJYaTPmWNz"
      },
      "outputs": [],
      "source": [
        "it = iter(lst1)\n",
        "# functuions are calable\n",
        "img = list(iter(lambda: list(islice(it, 28)), [] ))    # call lamda untill it returns \"[]\"\n",
        "\n",
        "# here [] is sentinel mean it will call lambda/callable untill [] is return\n",
        "# untill it returns the sentinel"
      ]
    },
    {
      "cell_type": "code",
      "execution_count": 24,
      "metadata": {
        "id": "PYGATTt-mYSX"
      },
      "outputs": [],
      "source": []
    },
    {
      "cell_type": "code",
      "execution_count": 25,
      "metadata": {
        "id": "2OidMf4ImYUe",
        "colab": {
          "base_uri": "https://localhost:8080/"
        },
        "outputId": "4ff2d811-6b5f-46ad-cf0c-2109763d85d7"
      },
      "outputs": [
        {
          "output_type": "execute_result",
          "data": {
            "text/plain": [
              "(1, 2, 3, 4)"
            ]
          },
          "metadata": {},
          "execution_count": 25
        }
      ],
      "source": [
        "alpha = [1,2,3,4,5]\n",
        "a = iter(alpha)\n",
        "next(a),next(a),next(a),next(a),"
      ]
    },
    {
      "cell_type": "code",
      "execution_count": 25,
      "metadata": {
        "id": "dwxkeUy0mYWa"
      },
      "outputs": [],
      "source": []
    },
    {
      "cell_type": "markdown",
      "metadata": {
        "id": "YYh5qz3LsIv9"
      },
      "source": [
        "### Matrix & tensor"
      ]
    },
    {
      "cell_type": "code",
      "execution_count": 26,
      "metadata": {
        "id": "_Lc2lfMkmYYK",
        "colab": {
          "base_uri": "https://localhost:8080/",
          "height": 447
        },
        "outputId": "07ea6857-a912-4291-ca2a-1db2a6c7b3a6"
      },
      "outputs": [
        {
          "output_type": "execute_result",
          "data": {
            "text/plain": [
              "<matplotlib.image.AxesImage at 0x7f61ffffc880>"
            ]
          },
          "metadata": {},
          "execution_count": 26
        },
        {
          "output_type": "display_data",
          "data": {
            "text/plain": [
              "<Figure size 640x480 with 1 Axes>"
            ],
            "image/png": "[encoded data removed]"
          },
          "metadata": {}
        }
      ],
      "source": [
        "it = iter(lst1)\n",
        "img = list(iter(\n",
        "    lambda: list(islice(it,28)),\n",
        "    []\n",
        "))\n",
        "\n",
        "plt.imshow(img)"
      ]
    },
    {
      "cell_type": "code",
      "execution_count": 27,
      "metadata": {
        "id": "Q1OKiaF6mYaK"
      },
      "outputs": [],
      "source": [
        "## noew img is list of lists(images)"
      ]
    },
    {
      "cell_type": "code",
      "execution_count": 28,
      "metadata": {
        "id": "5zRLb0D8vGiT",
        "colab": {
          "base_uri": "https://localhost:8080/"
        },
        "outputId": "ceb4a056-03c9-454e-c3ed-8f1e21785b5c"
      },
      "outputs": [
        {
          "output_type": "execute_result",
          "data": {
            "text/plain": [
              "[0.0,\n",
              " 0.0,\n",
              " 0.0,\n",
              " 0.0,\n",
              " 0.0,\n",
              " 0.0,\n",
              " 0.0,\n",
              " 0.0,\n",
              " 0.0,\n",
              " 0.0,\n",
              " 0.09375,\n",
              " 0.4453125,\n",
              " 0.86328125,\n",
              " 0.98828125,\n",
              " 0.98828125,\n",
              " 0.98828125,\n",
              " 0.98828125,\n",
              " 0.78515625,\n",
              " 0.3046875,\n",
              " 0.0,\n",
              " 0.0,\n",
              " 0.0,\n",
              " 0.0,\n",
              " 0.0,\n",
              " 0.0,\n",
              " 0.0,\n",
              " 0.0,\n",
              " 0.0]"
            ]
          },
          "metadata": {},
          "execution_count": 28
        }
      ],
      "source": [
        "img[20]"
      ]
    },
    {
      "cell_type": "code",
      "execution_count": 29,
      "metadata": {
        "id": "kCqmr72gvG97",
        "colab": {
          "base_uri": "https://localhost:8080/"
        },
        "outputId": "fd7ac4bd-cbc8-46c9-ba36-c88deb889966"
      },
      "outputs": [
        {
          "output_type": "execute_result",
          "data": {
            "text/plain": [
              "0.86328125"
            ]
          },
          "metadata": {},
          "execution_count": 29
        }
      ],
      "source": [
        "img[20][12]"
      ]
    },
    {
      "cell_type": "code",
      "execution_count": 30,
      "metadata": {
        "id": "cB2iuwOEvHAN"
      },
      "outputs": [],
      "source": [
        "# to write it in m[20,5] form rather than m[20][5]\n",
        "class Matrix:\n",
        "  def __init__(self, xs): self.xs =xs\n",
        "\n",
        "  def __getitem__(self, idxs): return self.xs[idxs[0]][ idxs[1]]\n",
        "\n"
      ]
    },
    {
      "cell_type": "code",
      "execution_count": 31,
      "metadata": {
        "id": "ibPJ-dHPvHBb",
        "colab": {
          "base_uri": "https://localhost:8080/"
        },
        "outputId": "ffef3617-8e90-4681-b5be-924f2cdb98ed"
      },
      "outputs": [
        {
          "output_type": "execute_result",
          "data": {
            "text/plain": [
              "0.98828125"
            ]
          },
          "metadata": {},
          "execution_count": 31
        }
      ],
      "source": [
        "m = Matrix(img)\n",
        "m[20,15]"
      ]
    },
    {
      "cell_type": "code",
      "execution_count": 31,
      "metadata": {
        "id": "2HI13EtEvHEO"
      },
      "outputs": [],
      "source": []
    },
    {
      "cell_type": "code",
      "execution_count": 32,
      "metadata": {
        "id": "Nh3KkQmNwjFk"
      },
      "outputs": [],
      "source": [
        "import torch\n",
        "from torch import tensor"
      ]
    },
    {
      "cell_type": "code",
      "execution_count": 33,
      "metadata": {
        "id": "GVJptfFMwjIV",
        "colab": {
          "base_uri": "https://localhost:8080/"
        },
        "outputId": "1a15e27e-509c-4f39-8aac-6b4338c10125"
      },
      "outputs": [
        {
          "output_type": "execute_result",
          "data": {
            "text/plain": [
              "tensor([1., 2., 3.], dtype=torch.float64)"
            ]
          },
          "metadata": {},
          "execution_count": 33
        }
      ],
      "source": [
        "tensor([1,2,3], dtype = torch.float64)"
      ]
    },
    {
      "cell_type": "code",
      "execution_count": 34,
      "metadata": {
        "id": "59UqMkfdwjLH",
        "colab": {
          "base_uri": "https://localhost:8080/"
        },
        "outputId": "035fac2c-28a0-49e9-9a92-ad718fd7a87f"
      },
      "outputs": [
        {
          "output_type": "execute_result",
          "data": {
            "text/plain": [
              "tensor([[1, 2, 3],\n",
              "        [3, 4, 5]])"
            ]
          },
          "metadata": {},
          "execution_count": 34
        }
      ],
      "source": [
        "tens = tensor(\n",
        "    [\n",
        "        [1,2,3],\n",
        "        [3,4,5]\n",
        "    ]\n",
        ")\n",
        "\n",
        "tens"
      ]
    },
    {
      "cell_type": "code",
      "execution_count": 35,
      "metadata": {
        "id": "gH55SOWxx4do",
        "colab": {
          "base_uri": "https://localhost:8080/"
        },
        "outputId": "6c6f246c-f140-4b88-9c6f-ad4446a8fc80"
      },
      "outputs": [
        {
          "output_type": "execute_result",
          "data": {
            "text/plain": [
              "tensor(0.9883)"
            ]
          },
          "metadata": {},
          "execution_count": 35
        }
      ],
      "source": [
        "tens = tensor(img)\n",
        "\n",
        "tens[20,15]"
      ]
    },
    {
      "cell_type": "code",
      "execution_count": 35,
      "metadata": {
        "id": "xPjdYex4x4ga"
      },
      "outputs": [],
      "source": []
    },
    {
      "cell_type": "code",
      "execution_count": 36,
      "metadata": {
        "id": "ojZICJnwwjMV",
        "colab": {
          "base_uri": "https://localhost:8080/"
        },
        "outputId": "55ebd685-9956-497b-c0df-f2145b303f20"
      },
      "outputs": [
        {
          "output_type": "execute_result",
          "data": {
            "text/plain": [
              "(torch.Size([50000, 784]),\n",
              " torch.Size([50000]),\n",
              " torch.Size([10000, 784]),\n",
              " torch.Size([10000]))"
            ]
          },
          "metadata": {},
          "execution_count": 36
        }
      ],
      "source": [
        "x_train, y_train, x_valid, y_valid = map( tensor, (x_train, y_train, x_valid, y_valid))\n",
        "\n",
        "x_train.shape , y_train.shape, x_valid.shape, y_valid.shape"
      ]
    },
    {
      "cell_type": "code",
      "execution_count": 37,
      "metadata": {
        "id": "NFP5aBOuwjOh",
        "colab": {
          "base_uri": "https://localhost:8080/",
          "height": 35
        },
        "outputId": "be8a8aa9-f0f0-44ab-fd61-58f2e38befbe"
      },
      "outputs": [
        {
          "output_type": "execute_result",
          "data": {
            "text/plain": [
              "'torch.FloatTensor'"
            ],
            "application/vnd.google.colaboratory.intrinsic+json": {
              "type": "string"
            }
          },
          "metadata": {},
          "execution_count": 37
        }
      ],
      "source": [
        "x_train.type()"
      ]
    },
    {
      "cell_type": "code",
      "execution_count": 38,
      "metadata": {
        "id": "L6eLvNQ_wjQ3",
        "colab": {
          "base_uri": "https://localhost:8080/"
        },
        "outputId": "fe2f4b61-bae0-4da1-950b-70f47f491a02"
      },
      "outputs": [
        {
          "output_type": "execute_result",
          "data": {
            "text/plain": [
              "torch.Size([50000, 28, 28])"
            ]
          },
          "metadata": {},
          "execution_count": 38
        }
      ],
      "source": [
        "imgs = x_train.reshape(-1, 28,28)  # -1 will make pytorch figure out 50000 automatiaclly\n",
        "\n",
        "imgs.shape # rank3 tensor"
      ]
    },
    {
      "cell_type": "code",
      "execution_count": 39,
      "metadata": {
        "id": "66PrVO9nwjSb",
        "colab": {
          "base_uri": "https://localhost:8080/",
          "height": 447
        },
        "outputId": "6f66eea2-bea9-4ab5-a7e3-e88b3cc90e1f"
      },
      "outputs": [
        {
          "output_type": "execute_result",
          "data": {
            "text/plain": [
              "<matplotlib.image.AxesImage at 0x7f61ffe7e890>"
            ]
          },
          "metadata": {},
          "execution_count": 39
        },
        {
          "output_type": "display_data",
          "data": {
            "text/plain": [
              "<Figure size 640x480 with 1 Axes>"
            ],
            "image/png": "[encoded data removed]"
          },
          "metadata": {}
        }
      ],
      "source": [
        "plt.imshow(imgs[10])"
      ]
    },
    {
      "cell_type": "code",
      "execution_count": 40,
      "metadata": {
        "id": "OocyAlZNwjUX",
        "colab": {
          "base_uri": "https://localhost:8080/"
        },
        "outputId": "017dea57-2ec5-4f68-f310-f56c65f8b6df"
      },
      "outputs": [
        {
          "output_type": "execute_result",
          "data": {
            "text/plain": [
              "tensor(0.2734)"
            ]
          },
          "metadata": {},
          "execution_count": 40
        }
      ],
      "source": [
        "imgs[0,12,14]"
      ]
    },
    {
      "cell_type": "code",
      "execution_count": 41,
      "metadata": {
        "id": "wJgmC5oUwjWP",
        "colab": {
          "base_uri": "https://localhost:8080/"
        },
        "outputId": "a39b839e-5fc2-4e42-e18f-5c2389bb477d"
      },
      "outputs": [
        {
          "output_type": "execute_result",
          "data": {
            "text/plain": [
              "(tensor([5, 0, 4,  ..., 8, 4, 8]), torch.Size([50000]))"
            ]
          },
          "metadata": {},
          "execution_count": 41
        }
      ],
      "source": [
        "n,c = x_train.shape\n",
        "y_train, y_train.shape"
      ]
    },
    {
      "cell_type": "code",
      "execution_count": 42,
      "metadata": {
        "id": "wWvX4EN9wjYj",
        "colab": {
          "base_uri": "https://localhost:8080/"
        },
        "outputId": "16136f19-0137-465a-ec2d-ea72790ae467"
      },
      "outputs": [
        {
          "output_type": "execute_result",
          "data": {
            "text/plain": [
              "(tensor(0), tensor(9))"
            ]
          },
          "metadata": {},
          "execution_count": 42
        }
      ],
      "source": [
        "min(y_train), max(y_train)"
      ]
    },
    {
      "cell_type": "code",
      "execution_count": 43,
      "metadata": {
        "id": "ZJpTitDEwjaN",
        "colab": {
          "base_uri": "https://localhost:8080/"
        },
        "outputId": "eea9f88c-f749-4643-9bc9-d13534f0ef75"
      },
      "outputs": [
        {
          "output_type": "execute_result",
          "data": {
            "text/plain": [
              "(tensor(0), tensor(9))"
            ]
          },
          "metadata": {},
          "execution_count": 43
        }
      ],
      "source": [
        "y_train.min(), y_train.max()"
      ]
    },
    {
      "cell_type": "code",
      "execution_count": 43,
      "metadata": {
        "id": "XP1lfXYR0JwU"
      },
      "outputs": [],
      "source": []
    },
    {
      "cell_type": "code",
      "execution_count": 43,
      "metadata": {
        "id": "uzrtmZHX0WSO"
      },
      "outputs": [],
      "source": []
    },
    {
      "cell_type": "code",
      "execution_count": 43,
      "metadata": {
        "id": "tauV9a3e0WT9"
      },
      "outputs": [],
      "source": []
    },
    {
      "cell_type": "code",
      "execution_count": 43,
      "metadata": {
        "id": "SGmZg70c0WVe"
      },
      "outputs": [],
      "source": []
    },
    {
      "cell_type": "code",
      "execution_count": 43,
      "metadata": {
        "id": "YvbSh-CI0WYg"
      },
      "outputs": [],
      "source": []
    },
    {
      "cell_type": "markdown",
      "metadata": {
        "id": "Et9S8Cem0Whe"
      },
      "source": [
        "## Random Number genreator\n"
      ]
    },
    {
      "cell_type": "code",
      "execution_count": 44,
      "metadata": {
        "id": "iOMib2Oh0rIf"
      },
      "outputs": [],
      "source": [
        "# for random nnumbers no correlation and uniform distribution"
      ]
    },
    {
      "cell_type": "code",
      "execution_count": 45,
      "metadata": {
        "id": "qaB8G0Qg0rp-"
      },
      "outputs": [],
      "source": [
        "# rand_state =None\n",
        "# def seed(a):\n",
        "#   global rnd_state\n",
        "\n",
        "#   x,y,z - rand_state\n",
        "#   x="
      ]
    },
    {
      "cell_type": "code",
      "execution_count": 45,
      "metadata": {
        "id": "dVKgcLoq0rsO"
      },
      "outputs": [],
      "source": []
    },
    {
      "cell_type": "code",
      "execution_count": 45,
      "metadata": {
        "id": "2OgHG2CH0ruF"
      },
      "outputs": [],
      "source": []
    },
    {
      "cell_type": "code",
      "execution_count": 46,
      "metadata": {
        "id": "bWSB2x7hE8yb",
        "colab": {
          "base_uri": "https://localhost:8080/"
        },
        "outputId": "044734d7-9d49-4338-c708-b38e36b3f2f7"
      },
      "outputs": [
        {
          "output_type": "execute_result",
          "data": {
            "text/plain": [
              "[[0], [1], [2], [3], [4], [5], [6], [7], [8], [9]]"
            ]
          },
          "metadata": {},
          "execution_count": 46
        }
      ],
      "source": [
        "l = [0,1,2,3,4,5,6,7,8,9]\n",
        "\n",
        "\n",
        "def c(x, sz):\n",
        "  for i in range(0, len(x),sz):\n",
        "    yield x[i:i+sz]\n",
        "\n",
        "list(c(l, 1))"
      ]
    },
    {
      "cell_type": "markdown",
      "metadata": {
        "id": "HQlkIph3E6aN"
      },
      "source": [
        "## matrix multiplication"
      ]
    },
    {
      "cell_type": "code",
      "execution_count": 47,
      "metadata": {
        "id": "VYimhrHn0rwq"
      },
      "outputs": [],
      "source": [
        "torch.manual_seed(1)\n",
        "weights =  torch.randn(784,10)\n",
        "bias = torch.zeros(10)"
      ]
    },
    {
      "cell_type": "code",
      "execution_count": 48,
      "metadata": {
        "id": "PGlVp34pE8uF"
      },
      "outputs": [],
      "source": [
        "m1 = x_valid[:5]\n",
        "m2 = weights"
      ]
    },
    {
      "cell_type": "code",
      "execution_count": 49,
      "metadata": {
        "id": "aQfo6L59E8wO",
        "colab": {
          "base_uri": "https://localhost:8080/"
        },
        "outputId": "078677e8-3579-4d73-e1d9-f41bc3d0f2af"
      },
      "outputs": [
        {
          "output_type": "execute_result",
          "data": {
            "text/plain": [
              "(torch.Size([5, 784]), torch.Size([784, 10]))"
            ]
          },
          "metadata": {},
          "execution_count": 49
        }
      ],
      "source": [
        "m1.shape,m2.shape"
      ]
    },
    {
      "cell_type": "code",
      "execution_count": 50,
      "metadata": {
        "id": "DVt7JijHE80J",
        "colab": {
          "base_uri": "https://localhost:8080/"
        },
        "outputId": "22cb068c-bb90-4d50-9a30-4bf247701db1"
      },
      "outputs": [
        {
          "output_type": "execute_result",
          "data": {
            "text/plain": [
              "((5, 784), (784, 10))"
            ]
          },
          "metadata": {},
          "execution_count": 50
        }
      ],
      "source": [
        "ar,ac = m1.shape\n",
        "br,bc = m2.shape\n",
        "\n",
        "(ar,ac),(br,bc)"
      ]
    },
    {
      "cell_type": "code",
      "execution_count": 51,
      "metadata": {
        "id": "1elef4UdE83M",
        "colab": {
          "base_uri": "https://localhost:8080/"
        },
        "outputId": "8853aeea-786c-403a-9acf-0eac5724a328"
      },
      "outputs": [
        {
          "output_type": "execute_result",
          "data": {
            "text/plain": [
              "torch.Size([5, 10])"
            ]
          },
          "metadata": {},
          "execution_count": 51
        }
      ],
      "source": [
        "t1 = torch.zeros(ar,bc) # resultant would be\n",
        "t1.shape"
      ]
    },
    {
      "cell_type": "code",
      "execution_count": 52,
      "metadata": {
        "id": "KiPWg7OZ1g__"
      },
      "outputs": [],
      "source": [
        "# for i in range(ar): #5\n",
        "#   for j in range(bc): #10\n",
        "#     for k in range(ac): #784\n",
        "#       t1[i,j] += m1[i,k] * m2[k,j]\n",
        "#       # print(f'{i} , {j}, {k}')\n"
      ]
    },
    {
      "cell_type": "code",
      "execution_count": 53,
      "metadata": {
        "id": "EYqU8RxS1h5S",
        "colab": {
          "base_uri": "https://localhost:8080/"
        },
        "outputId": "4b532f15-9b83-4376-dad6-76136311977f"
      },
      "outputs": [
        {
          "output_type": "execute_result",
          "data": {
            "text/plain": [
              "tensor([[0., 0., 0., 0., 0., 0., 0., 0., 0., 0.],\n",
              "        [0., 0., 0., 0., 0., 0., 0., 0., 0., 0.],\n",
              "        [0., 0., 0., 0., 0., 0., 0., 0., 0., 0.],\n",
              "        [0., 0., 0., 0., 0., 0., 0., 0., 0., 0.],\n",
              "        [0., 0., 0., 0., 0., 0., 0., 0., 0., 0.]])"
            ]
          },
          "metadata": {},
          "execution_count": 53
        }
      ],
      "source": [
        "t1"
      ]
    },
    {
      "cell_type": "code",
      "execution_count": 54,
      "metadata": {
        "id": "4V8PCPYw1h9B",
        "colab": {
          "base_uri": "https://localhost:8080/"
        },
        "outputId": "0b0233af-a28c-4320-cedf-868494ad9924"
      },
      "outputs": [
        {
          "output_type": "execute_result",
          "data": {
            "text/plain": [
              "tensor([[-10.9417,  -0.6844,  -7.0038,  -4.0066,  -2.0857,  -3.3588,   3.9127,\n",
              "          -3.4375, -11.4696,  -2.1153],\n",
              "        [ 14.5430,   5.9977,   2.8914,  -4.0777,   6.5914, -14.7383,  -9.2787,\n",
              "           2.1577, -15.2772,  -2.6758],\n",
              "        [  2.2204,  -3.2171,  -4.7988,  -6.0453,  14.1661,  -8.9824,  -4.7922,\n",
              "          -5.4446, -20.6758,  13.5657],\n",
              "        [ -6.7097,   8.8998,  -7.4611,  -7.8966,   2.6994,  -4.7260, -11.0278,\n",
              "         -12.9776,  -6.4443,   3.6376],\n",
              "        [ -2.4444,  -6.4034,  -2.3984,  -9.0371,  11.1772,  -5.7724,  -8.9214,\n",
              "          -3.7862,  -8.9827,   5.2797]])"
            ]
          },
          "metadata": {},
          "execution_count": 54
        }
      ],
      "source": [
        "t1 = m1@ m2\n",
        "t1"
      ]
    },
    {
      "cell_type": "code",
      "execution_count": 55,
      "metadata": {
        "id": "zkcrODnn1h_j",
        "colab": {
          "base_uri": "https://localhost:8080/"
        },
        "outputId": "d73a9770-d599-4b6e-cdde-774614f11fd6"
      },
      "outputs": [
        {
          "output_type": "execute_result",
          "data": {
            "text/plain": [
              "tensor([[-10.9,  -0.7,  -7.0,  -4.0,  -2.1,  -3.4,   3.9,  -3.4, -11.5,  -2.1],\n",
              "        [ 14.5,   6.0,   2.9,  -4.1,   6.6, -14.7,  -9.3,   2.2, -15.3,  -2.7],\n",
              "        [  2.2,  -3.2,  -4.8,  -6.0,  14.2,  -9.0,  -4.8,  -5.4, -20.7,  13.6],\n",
              "        [ -6.7,   8.9,  -7.5,  -7.9,   2.7,  -4.7, -11.0, -13.0,  -6.4,   3.6],\n",
              "        [ -2.4,  -6.4,  -2.4,  -9.0,  11.2,  -5.8,  -8.9,  -3.8,  -9.0,   5.3]])"
            ]
          },
          "metadata": {},
          "execution_count": 55
        }
      ],
      "source": [
        "torch.set_printoptions(precision=1,\n",
        "                       linewidth=140,\n",
        "                       sci_mode=False)\n",
        "t1"
      ]
    },
    {
      "cell_type": "code",
      "execution_count": 56,
      "metadata": {
        "id": "AHZtXSpR1iCN",
        "colab": {
          "base_uri": "https://localhost:8080/"
        },
        "outputId": "116f4265-c7ed-4568-f331-ea985ef2ff73"
      },
      "outputs": [
        {
          "output_type": "execute_result",
          "data": {
            "text/plain": [
              "tensor([[-10.9,  -0.7,  -7.0,  -4.0,  -2.1,  -3.4,   3.9,  -3.4, -11.5,  -2.1],\n",
              "        [ 14.5,   6.0,   2.9,  -4.1,   6.6, -14.7,  -9.3,   2.2, -15.3,  -2.7],\n",
              "        [  2.2,  -3.2,  -4.8,  -6.0,  14.2,  -9.0,  -4.8,  -5.4, -20.7,  13.6],\n",
              "        [ -6.7,   8.9,  -7.5,  -7.9,   2.7,  -4.7, -11.0, -13.0,  -6.4,   3.6],\n",
              "        [ -2.4,  -6.4,  -2.4,  -9.0,  11.2,  -5.8,  -8.9,  -3.8,  -9.0,   5.3]])"
            ]
          },
          "metadata": {},
          "execution_count": 56
        }
      ],
      "source": [
        "import numpy as np\n",
        "np.set_printoptions(precision=2, linewidth=140)\n",
        "t1"
      ]
    },
    {
      "cell_type": "code",
      "execution_count": 57,
      "metadata": {
        "id": "mTB2ZUQ33dUe"
      },
      "outputs": [],
      "source": [
        "# def matmul(a,b):\n",
        "#   (ar,ac) ,(br,bc) = a.shape, b.shape\n",
        "#   c=torch.zeros(ar, bc)\n",
        "#   for i in range(ar):\n",
        "#     for j in range(bc):\n",
        "#       for k in range(ac):\n",
        "#         c[i,j] += a[i,k]*b[k,j]\n",
        "#   return c\n",
        "\n",
        "\n",
        "# matmul(m1,m2)"
      ]
    },
    {
      "cell_type": "code",
      "execution_count": 58,
      "metadata": {
        "id": "fs6tCa6A4DVf"
      },
      "outputs": [],
      "source": [
        "# %time _=matmul(m1,m2)"
      ]
    },
    {
      "cell_type": "code",
      "execution_count": 58,
      "metadata": {
        "id": "ObN7ShzOTuoN"
      },
      "outputs": [],
      "source": []
    },
    {
      "cell_type": "code",
      "execution_count": 59,
      "metadata": {
        "id": "3lvYBw_K5EQP",
        "colab": {
          "base_uri": "https://localhost:8080/"
        },
        "outputId": "97821d79-8712-4f5a-ae37-f4393d2dc604"
      },
      "outputs": [
        {
          "output_type": "stream",
          "name": "stdout",
          "text": [
            "CPU times: user 1.31 s, sys: 38.7 ms, total: 1.35 s\n",
            "Wall time: 2.89 s\n"
          ]
        }
      ],
      "source": [
        "def triLoopMultiplication(a,b):\n",
        "  (ar,ac) ,(br,bc) = a.shape, b.shape\n",
        "  c = torch.zeros(ar, bc)\n",
        "  for i in range(ar):\n",
        "    for j in range(bc):\n",
        "      for k in range(ac):\n",
        "        c[i,j] += a[i,k]*b[k,j]\n",
        "  return c\n",
        "\n",
        "\n",
        "%time _=triLoopMultiplication(m1,m2)"
      ]
    },
    {
      "cell_type": "code",
      "execution_count": 59,
      "metadata": {
        "id": "mO1lfNJyTuse"
      },
      "outputs": [],
      "source": []
    },
    {
      "cell_type": "code",
      "execution_count": 59,
      "metadata": {
        "id": "lBhnydHGTut0"
      },
      "outputs": [],
      "source": []
    },
    {
      "cell_type": "code",
      "execution_count": 59,
      "metadata": {
        "id": "4bWcp_w0Tuvt"
      },
      "outputs": [],
      "source": []
    },
    {
      "cell_type": "code",
      "execution_count": 59,
      "metadata": {
        "id": "bYrkUhuUTuyd"
      },
      "outputs": [],
      "source": []
    },
    {
      "cell_type": "code",
      "execution_count": 59,
      "metadata": {
        "id": "RGfsL-xCTu1Q"
      },
      "outputs": [],
      "source": []
    },
    {
      "cell_type": "code",
      "execution_count": 60,
      "metadata": {
        "id": "-MEi8q8U8XN7",
        "colab": {
          "base_uri": "https://localhost:8080/"
        },
        "outputId": "54cac8d8-0c9a-45de-c281-08ef11585790"
      },
      "outputs": [
        {
          "output_type": "execute_result",
          "data": {
            "text/plain": [
              "39200"
            ]
          },
          "metadata": {},
          "execution_count": 60
        }
      ],
      "source": [
        "ar*bc*ac"
      ]
    },
    {
      "cell_type": "code",
      "execution_count": 61,
      "metadata": {
        "id": "vGFsdBSY8fSy",
        "colab": {
          "base_uri": "https://localhost:8080/"
        },
        "outputId": "fcc95ca4-5b7f-4afa-d8b3-1096ebaf38de"
      },
      "outputs": [
        {
          "output_type": "stream",
          "name": "stdout",
          "text": [
            "CPU times: user 512 µs, sys: 0 ns, total: 512 µs\n",
            "Wall time: 1.56 ms\n"
          ]
        }
      ],
      "source": [
        "%time _=m1@m2"
      ]
    },
    {
      "cell_type": "code",
      "execution_count": 62,
      "metadata": {
        "id": "p2oxtEGT8nhv"
      },
      "outputs": [],
      "source": [
        "# so python is slow"
      ]
    },
    {
      "cell_type": "markdown",
      "metadata": {
        "id": "jWp8QdZm8uQ7"
      },
      "source": [
        "## Numba  \n",
        "  just-in-time compiler\n",
        "  takes python and turns it to basic machine code\n"
      ]
    },
    {
      "cell_type": "code",
      "execution_count": 63,
      "metadata": {
        "id": "PQh3k8zx8pnN"
      },
      "outputs": [],
      "source": [
        "# !pip install numba\n",
        "from numba import njit"
      ]
    },
    {
      "cell_type": "code",
      "execution_count": 64,
      "metadata": {
        "id": "D_EE2usA8p8r"
      },
      "outputs": [],
      "source": [
        "@njit\n",
        "def dot(a,b):\n",
        "  res=0\n",
        "  for i in range(len(a)):\n",
        "    res+=a[i]*b[i]\n",
        "  return res\n"
      ]
    },
    {
      "cell_type": "code",
      "execution_count": 65,
      "metadata": {
        "id": "VJ2klfmV8qBC"
      },
      "outputs": [],
      "source": [
        "a= [0,1,2,3,4]\n",
        "b=[0,1,2,3,4]"
      ]
    },
    {
      "cell_type": "code",
      "execution_count": 66,
      "metadata": {
        "id": "7eTqTuhI-hr5",
        "colab": {
          "base_uri": "https://localhost:8080/"
        },
        "outputId": "20d532fa-18b9-4146-d926-30b13a2338b9"
      },
      "outputs": [
        {
          "output_type": "stream",
          "name": "stderr",
          "text": [
            "/usr/local/lib/python3.10/dist-packages/numba/core/ir_utils.py:2172: NumbaPendingDeprecationWarning: \n",
            "Encountered the use of a type that is scheduled for deprecation: type 'reflected list' found for argument 'a' of function 'dot'.\n",
            "\n",
            "For more information visit https://numba.readthedocs.io/en/stable/reference/deprecation.html#deprecation-of-reflection-for-list-and-set-types\n",
            "\n",
            "File \"<ipython-input-64-6f0283a0bb89>\", line 2:\n",
            "@njit\n",
            "def dot(a,b):\n",
            "^\n",
            "\n",
            "  warnings.warn(NumbaPendingDeprecationWarning(msg, loc=loc))\n",
            "/usr/local/lib/python3.10/dist-packages/numba/core/ir_utils.py:2172: NumbaPendingDeprecationWarning: \n",
            "Encountered the use of a type that is scheduled for deprecation: type 'reflected list' found for argument 'b' of function 'dot'.\n",
            "\n",
            "For more information visit https://numba.readthedocs.io/en/stable/reference/deprecation.html#deprecation-of-reflection-for-list-and-set-types\n",
            "\n",
            "File \"<ipython-input-64-6f0283a0bb89>\", line 2:\n",
            "@njit\n",
            "def dot(a,b):\n",
            "^\n",
            "\n",
            "  warnings.warn(NumbaPendingDeprecationWarning(msg, loc=loc))\n"
          ]
        },
        {
          "output_type": "stream",
          "name": "stdout",
          "text": [
            "CPU times: user 833 ms, sys: 77.6 ms, total: 911 ms\n",
            "Wall time: 2.5 s\n"
          ]
        }
      ],
      "source": [
        "%time _= dot(a,b)"
      ]
    },
    {
      "cell_type": "code",
      "execution_count": 67,
      "metadata": {
        "id": "NXPji5YB8qDR",
        "colab": {
          "base_uri": "https://localhost:8080/"
        },
        "outputId": "1dce91a6-28b9-43a7-a9a6-93b17db112d4"
      },
      "outputs": [
        {
          "output_type": "execute_result",
          "data": {
            "text/plain": [
              "tensor([[-10.9,  -0.7,  -7.0,  -4.0,  -2.1,  -3.4,   3.9,  -3.4, -11.5,  -2.1],\n",
              "        [ 14.5,   6.0,   2.9,  -4.1,   6.6, -14.7,  -9.3,   2.2, -15.3,  -2.7],\n",
              "        [  2.2,  -3.2,  -4.8,  -6.0,  14.2,  -9.0,  -4.8,  -5.4, -20.7,  13.6],\n",
              "        [ -6.7,   8.9,  -7.5,  -7.9,   2.7,  -4.7, -11.0, -13.0,  -6.4,   3.6],\n",
              "        [ -2.4,  -6.4,  -2.4,  -9.0,  11.2,  -5.8,  -8.9,  -3.8,  -9.0,   5.3]])"
            ]
          },
          "metadata": {},
          "execution_count": 67
        }
      ],
      "source": [
        "# only two loops\n",
        "def matmul(a,b):\n",
        "  # a,b = np.array(a) , np.array(b)\n",
        "  (ar,ac) ,(br,bc) = a.shape, b.shape\n",
        "  c=torch.zeros(ar, bc)\n",
        "  for i in range(ar):\n",
        "    for j in range(bc):\n",
        "        c[i,j] = dot(a[i,:], b[:,j])\n",
        "  return c\n",
        "\n",
        "m1a, m2a = m1.numpy(), m2.numpy()\n",
        "matmul(m1a,m2a)"
      ]
    },
    {
      "cell_type": "code",
      "execution_count": 68,
      "metadata": {
        "id": "ap66Hzc18qGB"
      },
      "outputs": [],
      "source": [
        "# !pip install fastcore\n",
        "from fastcore.test import *"
      ]
    },
    {
      "cell_type": "code",
      "execution_count": 69,
      "metadata": {
        "id": "ZFvu-Q-iAi4C"
      },
      "outputs": [],
      "source": [
        "test_close(t1, matmul(m1a, m2a))"
      ]
    },
    {
      "cell_type": "code",
      "execution_count": 70,
      "metadata": {
        "id": "H4qhlZwaFNx7",
        "colab": {
          "base_uri": "https://localhost:8080/"
        },
        "outputId": "1036fc36-907f-43e6-9ee5-8274a91bf059"
      },
      "outputs": [
        {
          "output_type": "stream",
          "name": "stdout",
          "text": [
            "1.67 ms ± 698 µs per loop (mean ± std. dev. of 7 runs, 50 loops each)\n"
          ]
        }
      ],
      "source": [
        "%timeit -n 50 matmul(m1a, m2a)"
      ]
    },
    {
      "cell_type": "code",
      "execution_count": 71,
      "metadata": {
        "id": "Qe9ujcw4FTmh",
        "colab": {
          "base_uri": "https://localhost:8080/"
        },
        "outputId": "d92552fa-f977-43e0-ce0b-fe2bb7284a23"
      },
      "outputs": [
        {
          "output_type": "execute_result",
          "data": {
            "text/plain": [
              "tensor([6, 6, 3])"
            ]
          },
          "metadata": {},
          "execution_count": 71
        }
      ],
      "source": [
        "a = torch.tensor([ 2, 2, 2],\n",
        "                 dtype = torch.int32)\n",
        "b = torch.tensor([ 4, 4 , 1])\n",
        "a+b"
      ]
    },
    {
      "cell_type": "code",
      "execution_count": 72,
      "metadata": {
        "id": "5fpdO-6bn6yM",
        "colab": {
          "base_uri": "https://localhost:8080/"
        },
        "outputId": "437f1347-c46e-433c-d9d4-f5a711f2e6ef"
      },
      "outputs": [
        {
          "output_type": "execute_result",
          "data": {
            "text/plain": [
              "tensor(0.7)"
            ]
          },
          "metadata": {},
          "execution_count": 72
        }
      ],
      "source": [
        "( a < b ).float().mean()"
      ]
    },
    {
      "cell_type": "code",
      "execution_count": 73,
      "metadata": {
        "id": "B_ay23ndx_n1",
        "colab": {
          "base_uri": "https://localhost:8080/"
        },
        "outputId": "d2dd1115-fd0a-424b-cb5e-af12d77cc6b9"
      },
      "outputs": [
        {
          "output_type": "execute_result",
          "data": {
            "text/plain": [
              "tensor([[1, 2, 3],\n",
              "        [4, 5, 6],\n",
              "        [7, 8, 9]])"
            ]
          },
          "metadata": {},
          "execution_count": 73
        }
      ],
      "source": [
        "m = tensor(\n",
        "    [\n",
        "      [1,2,3],\n",
        "      [4,5,6],\n",
        "      [7,8,9]\n",
        "    ]\n",
        ")\n",
        "m"
      ]
    },
    {
      "cell_type": "markdown",
      "metadata": {
        "id": "pt4-LIP80gZI"
      },
      "source": [
        "#### Forbenius norm:\n",
        "  sum of square over each rows and columns of matrix and then sqrt"
      ]
    },
    {
      "cell_type": "code",
      "execution_count": 74,
      "metadata": {
        "id": "xHykCXsJx_qC",
        "colab": {
          "base_uri": "https://localhost:8080/"
        },
        "outputId": "ff50c4a6-3815-43e8-9a55-a7b6d8fba2e8"
      },
      "outputs": [
        {
          "output_type": "execute_result",
          "data": {
            "text/plain": [
              "tensor(285)"
            ]
          },
          "metadata": {},
          "execution_count": 74
        }
      ],
      "source": [
        "sf = (m*m).sum()\n",
        "sf"
      ]
    },
    {
      "cell_type": "code",
      "execution_count": 75,
      "metadata": {
        "id": "bQ6Kg7e4x_sQ",
        "colab": {
          "base_uri": "https://localhost:8080/"
        },
        "outputId": "8dbf54e8-0de3-4255-d1d5-b1c30817cdb3"
      },
      "outputs": [
        {
          "output_type": "execute_result",
          "data": {
            "text/plain": [
              "tensor(16.9)"
            ]
          },
          "metadata": {},
          "execution_count": 75
        }
      ],
      "source": [
        "sf.sqrt()"
      ]
    },
    {
      "cell_type": "code",
      "execution_count": 76,
      "metadata": {
        "id": "mwrSxa8rx_uW",
        "colab": {
          "base_uri": "https://localhost:8080/"
        },
        "outputId": "5400235f-806b-4fdd-95a0-8b8a1eb493da"
      },
      "outputs": [
        {
          "output_type": "execute_result",
          "data": {
            "text/plain": [
              "(tensor([7, 8, 9]), tensor([3, 6, 9]))"
            ]
          },
          "metadata": {},
          "execution_count": 76
        }
      ],
      "source": [
        "m[2,:] , m[:,2]"
      ]
    },
    {
      "cell_type": "code",
      "execution_count": 77,
      "metadata": {
        "id": "Hxt3U2Y9x_wk",
        "colab": {
          "base_uri": "https://localhost:8080/"
        },
        "outputId": "33669190-f794-4da5-826e-b7cf3edfd59d"
      },
      "outputs": [
        {
          "output_type": "execute_result",
          "data": {
            "text/plain": [
              "tensor([7, 8, 9])"
            ]
          },
          "metadata": {},
          "execution_count": 77
        }
      ],
      "source": [
        "m[2]"
      ]
    },
    {
      "cell_type": "code",
      "execution_count": 78,
      "metadata": {
        "id": "9YGqdETmx_yk",
        "colab": {
          "base_uri": "https://localhost:8080/"
        },
        "outputId": "bd63928e-80ee-4e01-c84b-fd42d0ad354e"
      },
      "outputs": [
        {
          "output_type": "execute_result",
          "data": {
            "text/plain": [
              "tensor([[-10.9,  -0.7,  -7.0,  -4.0,  -2.1,  -3.4,   3.9,  -3.4, -11.5,  -2.1],\n",
              "        [ 14.5,   6.0,   2.9,  -4.1,   6.6, -14.7,  -9.3,   2.2, -15.3,  -2.7],\n",
              "        [  2.2,  -3.2,  -4.8,  -6.0,  14.2,  -9.0,  -4.8,  -5.4, -20.7,  13.6],\n",
              "        [ -6.7,   8.9,  -7.5,  -7.9,   2.7,  -4.7, -11.0, -13.0,  -6.4,   3.6],\n",
              "        [ -2.4,  -6.4,  -2.4,  -9.0,  11.2,  -5.8,  -8.9,  -3.8,  -9.0,   5.3]])"
            ]
          },
          "metadata": {},
          "execution_count": 78
        }
      ],
      "source": [
        "# only two loops\n",
        "def matmul(a,b):\n",
        "  # a,b = np.array(a) , np.array(b)\n",
        "  (ar,ac) ,(br,bc) = a.shape, b.shape\n",
        "  c=torch.zeros(ar, bc)\n",
        "  for i in range(ar):\n",
        "    for j in range(bc):\n",
        "            c[i, j] = torch.tensor((a[i, :] * b[:, j]).sum())\n",
        "  return c\n",
        "\n",
        "m1a, m2a = m1.numpy(), m2.numpy()\n",
        "matmul(m1a,m2a)"
      ]
    },
    {
      "cell_type": "code",
      "execution_count": 79,
      "metadata": {
        "id": "1twWrn8pUYPc"
      },
      "outputs": [],
      "source": [
        "# # only two loops\n",
        "# def matmul(a,b):\n",
        "#   # a,b = np.array(a) , np.array(b)\n",
        "#   (ar,ac) ,(br,bc) = a.shape, b.shape\n",
        "#   c=torch.zeros(ar, bc)\n",
        "#   for i in range(ar):\n",
        "#     for j in range(bc):\n",
        "#             c[i, j] = torch.dot(a[i, :], b[:, j])\n",
        "#   return c\n",
        "\n",
        "# matmul(m1,m2)"
      ]
    },
    {
      "cell_type": "code",
      "execution_count": 80,
      "metadata": {
        "id": "rlaQXUUI6-El",
        "colab": {
          "base_uri": "https://localhost:8080/"
        },
        "outputId": "332f4d6e-b684-4cb2-e87b-9fe6fc06d7da"
      },
      "outputs": [
        {
          "output_type": "stream",
          "name": "stdout",
          "text": [
            "CPU times: user 1.89 ms, sys: 162 µs, total: 2.05 ms\n",
            "Wall time: 4.32 ms\n"
          ]
        }
      ],
      "source": [
        "# Using dot product to reduce a loop\n",
        "def biLoopMultiplication(a,b):\n",
        "  (ar,ac) ,(br,bc) = a.shape, b.shape\n",
        "  c=torch.zeros(ar, bc)\n",
        "  for i in range(ar):\n",
        "    for j in range(bc):\n",
        "            c[i, j] = torch.dot(a[i, :], b[:, j])\n",
        "  return c\n",
        "\n",
        "%time _= biLoopMultiplication(m1, m2)"
      ]
    },
    {
      "cell_type": "markdown",
      "metadata": {
        "id": "n1A0D39cUHvq"
      },
      "source": [
        "### Broadcasting\n",
        "\n",
        " how arrays with diffeent shapes are treated during arithmetic operations!"
      ]
    },
    {
      "cell_type": "code",
      "execution_count": 81,
      "metadata": {
        "id": "gKx1wcOnONMQ",
        "colab": {
          "base_uri": "https://localhost:8080/"
        },
        "outputId": "a351138f-b5d8-4fff-d6b2-d85dfb929e15"
      },
      "outputs": [
        {
          "output_type": "execute_result",
          "data": {
            "text/plain": [
              "tensor([False, False,  True])"
            ]
          },
          "metadata": {},
          "execution_count": 81
        }
      ],
      "source": [
        "a=torch.tensor([1,2,3])\n",
        "a>2"
      ]
    },
    {
      "cell_type": "code",
      "execution_count": 82,
      "metadata": {
        "id": "dgZ5LIkMONPJ",
        "colab": {
          "base_uri": "https://localhost:8080/"
        },
        "outputId": "62d5e138-ab1e-4888-94b0-bd33332d4368"
      },
      "outputs": [
        {
          "output_type": "execute_result",
          "data": {
            "text/plain": [
              "tensor([1])"
            ]
          },
          "metadata": {},
          "execution_count": 82
        }
      ],
      "source": [
        "a[a<2]"
      ]
    },
    {
      "cell_type": "code",
      "execution_count": 83,
      "metadata": {
        "id": "RTs6mjv1ONR4",
        "colab": {
          "base_uri": "https://localhost:8080/"
        },
        "outputId": "88e3d635-a245-4b4c-9563-dee5aa8252a1"
      },
      "outputs": [
        {
          "output_type": "execute_result",
          "data": {
            "text/plain": [
              "tensor([3, 5, 7])"
            ]
          },
          "metadata": {},
          "execution_count": 83
        }
      ],
      "source": [
        "2*a+1"
      ]
    },
    {
      "cell_type": "code",
      "execution_count": 84,
      "metadata": {
        "id": "F676eUWGONUu",
        "colab": {
          "base_uri": "https://localhost:8080/"
        },
        "outputId": "66dc78b8-b9ab-4e61-cd33-7f5451d3b0d7"
      },
      "outputs": [
        {
          "output_type": "execute_result",
          "data": {
            "text/plain": [
              "tensor([10, 20, 30])"
            ]
          },
          "metadata": {},
          "execution_count": 84
        }
      ],
      "source": [
        "# we can slo broadcast vector across metrtices\n",
        "\n",
        "c=torch.tensor([10,20,30]);c"
      ]
    },
    {
      "cell_type": "code",
      "execution_count": 85,
      "metadata": {
        "id": "zasoyvrcONXF",
        "colab": {
          "base_uri": "https://localhost:8080/"
        },
        "outputId": "18f3dbb2-9791-47d1-aee2-96fe87c9a53d"
      },
      "outputs": [
        {
          "output_type": "execute_result",
          "data": {
            "text/plain": [
              "tensor([[1, 2, 3],\n",
              "        [4, 5, 6],\n",
              "        [7, 8, 9]])"
            ]
          },
          "metadata": {},
          "execution_count": 85
        }
      ],
      "source": [
        "m"
      ]
    },
    {
      "cell_type": "code",
      "execution_count": 86,
      "metadata": {
        "id": "x47mlg_nONZl",
        "colab": {
          "base_uri": "https://localhost:8080/"
        },
        "outputId": "91fa3f7c-71c2-431e-a592-8f996f1e98c1"
      },
      "outputs": [
        {
          "output_type": "execute_result",
          "data": {
            "text/plain": [
              "(torch.Size([3, 3]), torch.Size([3]))"
            ]
          },
          "metadata": {},
          "execution_count": 86
        }
      ],
      "source": [
        "m.shape, c.shape"
      ]
    },
    {
      "cell_type": "code",
      "execution_count": 87,
      "metadata": {
        "id": "yvrNKKHzONcx",
        "colab": {
          "base_uri": "https://localhost:8080/"
        },
        "outputId": "c22af3ae-7a55-4a59-b9e2-617290f3ef70"
      },
      "outputs": [
        {
          "output_type": "execute_result",
          "data": {
            "text/plain": [
              "tensor([[11, 22, 33],\n",
              "        [14, 25, 36],\n",
              "        [17, 28, 39]])"
            ]
          },
          "metadata": {},
          "execution_count": 87
        }
      ],
      "source": [
        "m+c"
      ]
    },
    {
      "cell_type": "code",
      "execution_count": 88,
      "metadata": {
        "id": "v-dKnydNONfV",
        "colab": {
          "base_uri": "https://localhost:8080/"
        },
        "outputId": "a384d734-a0a2-4a14-abb0-9d4dab22bdb9"
      },
      "outputs": [
        {
          "output_type": "execute_result",
          "data": {
            "text/plain": [
              "tensor([[11, 22, 33],\n",
              "        [14, 25, 36],\n",
              "        [17, 28, 39]])"
            ]
          },
          "metadata": {},
          "execution_count": 88
        }
      ],
      "source": [
        "c+m"
      ]
    },
    {
      "cell_type": "code",
      "execution_count": 89,
      "metadata": {
        "id": "pAyqf6gFONhP",
        "colab": {
          "base_uri": "https://localhost:8080/"
        },
        "outputId": "4e2653f4-ec88-43c8-8afa-00d1499b93e0"
      },
      "outputs": [
        {
          "output_type": "execute_result",
          "data": {
            "text/plain": [
              "tensor([[10, 20, 30],\n",
              "        [10, 20, 30],\n",
              "        [10, 20, 30]])"
            ]
          },
          "metadata": {},
          "execution_count": 89
        }
      ],
      "source": [
        "t = c.expand_as(m)\n",
        "t\n"
      ]
    },
    {
      "cell_type": "code",
      "execution_count": 90,
      "metadata": {
        "id": "CGvJRDh9ONme",
        "colab": {
          "base_uri": "https://localhost:8080/"
        },
        "outputId": "e68d71be-b2c6-40ab-de54-a738d38eafc7"
      },
      "outputs": [
        {
          "output_type": "stream",
          "name": "stderr",
          "text": [
            "<ipython-input-90-6087dc2ace11>:1: UserWarning: TypedStorage is deprecated. It will be removed in the future and UntypedStorage will be the only storage class. This should only matter to you if you are using storages directly.  To access UntypedStorage directly, use tensor.untyped_storage() instead of tensor.storage()\n",
            "  t.storage() #  # here it does not create 3 copies... t.storage sho\n"
          ]
        },
        {
          "output_type": "execute_result",
          "data": {
            "text/plain": [
              " 10\n",
              " 20\n",
              " 30\n",
              "[torch.storage.TypedStorage(dtype=torch.int64, device=cpu) of size 3]"
            ]
          },
          "metadata": {},
          "execution_count": 90
        }
      ],
      "source": [
        "t.storage() #  # here it does not create 3 copies... t.storage sho"
      ]
    },
    {
      "cell_type": "code",
      "execution_count": 91,
      "metadata": {
        "id": "Hq2-Q3hBONj3",
        "colab": {
          "base_uri": "https://localhost:8080/"
        },
        "outputId": "d3618084-0606-449d-a633-eb2473518ddb"
      },
      "outputs": [
        {
          "output_type": "execute_result",
          "data": {
            "text/plain": [
              "tensor([[11, 22, 33],\n",
              "        [14, 25, 36],\n",
              "        [17, 28, 39]])"
            ]
          },
          "metadata": {},
          "execution_count": 91
        }
      ],
      "source": [
        "m + t"
      ]
    },
    {
      "cell_type": "code",
      "execution_count": 92,
      "metadata": {
        "id": "6BOgpOgnONqb",
        "colab": {
          "base_uri": "https://localhost:8080/"
        },
        "outputId": "dece9286-fa47-4f49-9e3b-8d000ac1864c"
      },
      "outputs": [
        {
          "output_type": "execute_result",
          "data": {
            "text/plain": [
              "((0, 1), torch.Size([3, 3]))"
            ]
          },
          "metadata": {},
          "execution_count": 92
        }
      ],
      "source": [
        "t.stride(), t.shape"
      ]
    },
    {
      "cell_type": "code",
      "execution_count": 93,
      "metadata": {
        "id": "PyllXEUoONsf",
        "colab": {
          "base_uri": "https://localhost:8080/"
        },
        "outputId": "3d08dec8-6bed-4835-ab85-3fa3238b4851"
      },
      "outputs": [
        {
          "output_type": "execute_result",
          "data": {
            "text/plain": [
              "(tensor([10, 20, 30]),\n",
              " torch.Size([3]),\n",
              " tensor([[10, 20, 30]]),\n",
              " torch.Size([1, 3]))"
            ]
          },
          "metadata": {},
          "execution_count": 93
        }
      ],
      "source": [
        " c, c.shape, c.unsqueeze(0), c.unsqueeze(0).shape"
      ]
    },
    {
      "cell_type": "code",
      "execution_count": 94,
      "metadata": {
        "id": "KSsp6WZTONvA",
        "colab": {
          "base_uri": "https://localhost:8080/"
        },
        "outputId": "08df925e-5568-43fd-d6c8-f066c352ef21"
      },
      "outputs": [
        {
          "output_type": "execute_result",
          "data": {
            "text/plain": [
              "(tensor([10, 20, 30]),\n",
              " torch.Size([3]),\n",
              " tensor([[10, 20, 30]]),\n",
              " torch.Size([1, 3]))"
            ]
          },
          "metadata": {},
          "execution_count": 94
        }
      ],
      "source": [
        " c, c.shape, c[None, :], c[None, :].shape  # None adds new axis here"
      ]
    },
    {
      "cell_type": "code",
      "execution_count": 95,
      "metadata": {
        "id": "SAnyhQanONxD",
        "colab": {
          "base_uri": "https://localhost:8080/"
        },
        "outputId": "d9bf0042-82b8-4fad-d377-4e6703e61b13"
      },
      "outputs": [
        {
          "output_type": "execute_result",
          "data": {
            "text/plain": [
              "(tensor([10, 20, 30]),\n",
              " torch.Size([3]),\n",
              " tensor([[10],\n",
              "         [20],\n",
              "         [30]]),\n",
              " torch.Size([3, 1]),\n",
              " tensor([[10],\n",
              "         [20],\n",
              "         [30]]),\n",
              " torch.Size([3, 1]))"
            ]
          },
          "metadata": {},
          "execution_count": 95
        }
      ],
      "source": [
        " c, c.shape, c.unsqueeze(1), c.unsqueeze(1).shape, c[:, None], c[:, None].shape"
      ]
    },
    {
      "cell_type": "code",
      "execution_count": 96,
      "metadata": {
        "id": "3AlOI0L6x_1X",
        "colab": {
          "base_uri": "https://localhost:8080/"
        },
        "outputId": "5f43876c-2b61-462e-c5f8-c07eb4c27aa7"
      },
      "outputs": [
        {
          "output_type": "execute_result",
          "data": {
            "text/plain": [
              "torch.Size([1, 3])"
            ]
          },
          "metadata": {},
          "execution_count": 96
        }
      ],
      "source": [
        "c[None].shape # row matrix bcz ,: is optional     #trailing column is optional"
      ]
    },
    {
      "cell_type": "code",
      "execution_count": 97,
      "metadata": {
        "id": "07OhqU6EPL3A",
        "colab": {
          "base_uri": "https://localhost:8080/"
        },
        "outputId": "8d2a6e4a-6637-4162-8c99-0975085d3d38"
      },
      "outputs": [
        {
          "output_type": "execute_result",
          "data": {
            "text/plain": [
              "torch.Size([3, 1])"
            ]
          },
          "metadata": {},
          "execution_count": 97
        }
      ],
      "source": [
        "c[..., None].shape  #In summary, c[..., None] adds a new dimension of size 1 to the end of the original tensor's shape."
      ]
    },
    {
      "cell_type": "code",
      "execution_count": 98,
      "metadata": {
        "id": "1aPB3hjNPj8A",
        "colab": {
          "base_uri": "https://localhost:8080/"
        },
        "outputId": "cd55ee3e-bfa7-4f47-8dd2-b551a52eadb0"
      },
      "outputs": [
        {
          "output_type": "execute_result",
          "data": {
            "text/plain": [
              "tensor([10, 20, 30])"
            ]
          },
          "metadata": {},
          "execution_count": 98
        }
      ],
      "source": [
        "c"
      ]
    },
    {
      "cell_type": "code",
      "execution_count": 99,
      "metadata": {
        "id": "0ZcEizyNQNPC",
        "colab": {
          "base_uri": "https://localhost:8080/"
        },
        "outputId": "94e2dbb7-c4e0-44fc-96bc-034af84fb8c4"
      },
      "outputs": [
        {
          "output_type": "execute_result",
          "data": {
            "text/plain": [
              "(tensor([[10, 20, 30],\n",
              "         [10, 20, 30],\n",
              "         [10, 20, 30]]),\n",
              " tensor([[10, 10, 10],\n",
              "         [20, 20, 20],\n",
              "         [30, 30, 30]]))"
            ]
          },
          "metadata": {},
          "execution_count": 99
        }
      ],
      "source": [
        "c.expand_as(m) , c[:,None].expand_as(m)"
      ]
    },
    {
      "cell_type": "code",
      "execution_count": 100,
      "metadata": {
        "id": "h1aEmMBBQRdA",
        "colab": {
          "base_uri": "https://localhost:8080/"
        },
        "outputId": "94df5b18-9046-4c18-f556-9843e6f92a9e"
      },
      "outputs": [
        {
          "output_type": "execute_result",
          "data": {
            "text/plain": [
              "(torch.Size([3]),\n",
              " tensor([10, 20, 30]),\n",
              " tensor([[10],\n",
              "         [20],\n",
              "         [30]]),\n",
              " torch.Size([3, 1]),\n",
              " torch.Size([3, 3]))"
            ]
          },
          "metadata": {},
          "execution_count": 100
        }
      ],
      "source": [
        "c.shape, c, c[:,None], c[:,None].shape , m.shape     # c[:,None] is column so it witll be spred across | c across cols"
      ]
    },
    {
      "cell_type": "code",
      "execution_count": 101,
      "metadata": {
        "id": "WZx7hV--QhH3",
        "colab": {
          "base_uri": "https://localhost:8080/"
        },
        "outputId": "743af7d0-69a9-43f0-a8ad-660692fb63ce"
      },
      "outputs": [
        {
          "output_type": "execute_result",
          "data": {
            "text/plain": [
              "tensor([[11, 12, 13],\n",
              "        [24, 25, 26],\n",
              "        [37, 38, 39]])"
            ]
          },
          "metadata": {},
          "execution_count": 101
        }
      ],
      "source": [
        "m + c[:, None] # same as m+  c[:,None].expand_as(m)  ,  c.expand_as(m) is done autimatically"
      ]
    },
    {
      "cell_type": "code",
      "execution_count": 102,
      "metadata": {
        "id": "mYyAZat9RBjC",
        "colab": {
          "base_uri": "https://localhost:8080/"
        },
        "outputId": "a577e48f-0a60-464c-fc10-418af16a0216"
      },
      "outputs": [
        {
          "output_type": "execute_result",
          "data": {
            "text/plain": [
              "(tensor([[11, 22, 33],\n",
              "         [14, 25, 36],\n",
              "         [17, 28, 39]]),\n",
              " tensor([[11, 22, 33],\n",
              "         [14, 25, 36],\n",
              "         [17, 28, 39]]))"
            ]
          },
          "metadata": {},
          "execution_count": 102
        }
      ],
      "source": [
        "m + c,  m + c[None,:]"
      ]
    },
    {
      "cell_type": "code",
      "execution_count": 103,
      "metadata": {
        "id": "h0Jti4NgRMrT",
        "colab": {
          "base_uri": "https://localhost:8080/"
        },
        "outputId": "579ba4f1-84ee-4ff5-ba82-3ea3df7e3aa4"
      },
      "outputs": [
        {
          "output_type": "execute_result",
          "data": {
            "text/plain": [
              "(tensor([[11, 12, 13],\n",
              "         [24, 25, 26],\n",
              "         [37, 38, 39]]),\n",
              " tensor([[11, 22, 33],\n",
              "         [14, 25, 36],\n",
              "         [17, 28, 39]]))"
            ]
          },
          "metadata": {},
          "execution_count": 103
        }
      ],
      "source": [
        "m + c[:, None], m + c[None,:]"
      ]
    },
    {
      "cell_type": "code",
      "execution_count": 104,
      "metadata": {
        "id": "T4MbvbQfJNDq",
        "colab": {
          "base_uri": "https://localhost:8080/"
        },
        "outputId": "9bf7b5f2-db48-44a8-9947-5a5a73141bad"
      },
      "outputs": [
        {
          "output_type": "execute_result",
          "data": {
            "text/plain": [
              "(tensor([[10, 20, 30]]),\n",
              " tensor([[10],\n",
              "         [20],\n",
              "         [30]]))"
            ]
          },
          "metadata": {},
          "execution_count": 104
        }
      ],
      "source": [
        "c[None, :] , c[:,None]"
      ]
    },
    {
      "cell_type": "code",
      "execution_count": 105,
      "metadata": {
        "id": "X-Ow5A4cTDzL",
        "colab": {
          "base_uri": "https://localhost:8080/"
        },
        "outputId": "8c4d6d88-1071-4d81-ab20-d17012af879f"
      },
      "outputs": [
        {
          "output_type": "execute_result",
          "data": {
            "text/plain": [
              "tensor([[100, 200, 300],\n",
              "        [200, 400, 600],\n",
              "        [300, 600, 900]])"
            ]
          },
          "metadata": {},
          "execution_count": 105
        }
      ],
      "source": [
        "c[None, :] * c[:,None] # or c[None] * c[:,None]"
      ]
    },
    {
      "cell_type": "code",
      "execution_count": 106,
      "metadata": {
        "id": "OvQ_y-woJNGn",
        "colab": {
          "base_uri": "https://localhost:8080/"
        },
        "outputId": "f5373ab4-137e-4e2d-ed05-ce2043940d13"
      },
      "outputs": [
        {
          "output_type": "execute_result",
          "data": {
            "text/plain": [
              "tensor([[False,  True,  True],\n",
              "        [False, False,  True],\n",
              "        [False, False, False]])"
            ]
          },
          "metadata": {},
          "execution_count": 106
        }
      ],
      "source": [
        "c[None, :] > c[:,None]"
      ]
    },
    {
      "cell_type": "code",
      "execution_count": 106,
      "metadata": {
        "id": "Y-C-pP5gM7RZ"
      },
      "outputs": [],
      "source": []
    },
    {
      "cell_type": "code",
      "execution_count": 107,
      "metadata": {
        "id": "thlHI48YMIc9"
      },
      "outputs": [],
      "source": [
        "# when operating on two tensors, np/pytorch compares their shapes elementwise. It starts with the trailing dimensionss and works its way forward. Two dims are compatible when -\n",
        "# - tthey are equal\n",
        "# -one of them is 1, in which case dimension is broadcasted to make it same size\n",
        "\n",
        "\n",
        "# for broadcstng one of dim need to be 1\n",
        "\n",
        "\n",
        "# for image (3d)   256*256*3\n",
        "# scalar (1d)     1*1*3        # 1*1* is assumption\n",
        "\n",
        "# result (3d)   256*256*3\n"
      ]
    },
    {
      "cell_type": "code",
      "execution_count": 108,
      "metadata": {
        "id": "2W7x9Bw8JNIW",
        "colab": {
          "base_uri": "https://localhost:8080/"
        },
        "outputId": "8941059e-c7ad-401d-d5da-3b9e5ff99bee"
      },
      "outputs": [
        {
          "output_type": "execute_result",
          "data": {
            "text/plain": [
              "(torch.Size([784]), torch.Size([784, 10]))"
            ]
          },
          "metadata": {},
          "execution_count": 108
        }
      ],
      "source": [
        "digit = m1[0]\n",
        "digit.shape, m2.shape"
      ]
    },
    {
      "cell_type": "code",
      "execution_count": 109,
      "metadata": {
        "id": "U8yGh9-HJNKz",
        "colab": {
          "base_uri": "https://localhost:8080/"
        },
        "outputId": "b7f86d0c-a1d7-4a23-e82c-a86af4ff225e"
      },
      "outputs": [
        {
          "output_type": "execute_result",
          "data": {
            "text/plain": [
              "torch.Size([784, 1])"
            ]
          },
          "metadata": {},
          "execution_count": 109
        }
      ],
      "source": [
        "digit[:,None].shape"
      ]
    },
    {
      "cell_type": "code",
      "execution_count": 110,
      "metadata": {
        "id": "J4p5t8BpJNMj",
        "colab": {
          "base_uri": "https://localhost:8080/"
        },
        "outputId": "8fe3e0f3-f683-4930-fbdd-b5c65b61c0be"
      },
      "outputs": [
        {
          "output_type": "execute_result",
          "data": {
            "text/plain": [
              "torch.Size([784, 10])"
            ]
          },
          "metadata": {},
          "execution_count": 110
        }
      ],
      "source": [
        "digit[:,None].expand_as(m2).shape"
      ]
    },
    {
      "cell_type": "code",
      "execution_count": 111,
      "metadata": {
        "id": "WKBP4i-dJNPB",
        "colab": {
          "base_uri": "https://localhost:8080/"
        },
        "outputId": "8d29658d-36f9-4fd8-de3d-d44719115b73"
      },
      "outputs": [
        {
          "output_type": "execute_result",
          "data": {
            "text/plain": [
              "torch.Size([784, 10])"
            ]
          },
          "metadata": {},
          "execution_count": 111
        }
      ],
      "source": [
        "(digit[:,None]*m2).shape"
      ]
    },
    {
      "cell_type": "code",
      "execution_count": 112,
      "metadata": {
        "id": "3L0Gm-ewJNRJ",
        "colab": {
          "base_uri": "https://localhost:8080/"
        },
        "outputId": "c1458053-cb2c-4c6e-9549-7ec7cee6c558"
      },
      "outputs": [
        {
          "output_type": "stream",
          "name": "stdout",
          "text": [
            "torch.Size([5, 784]) \t torch.Size([784, 10])\n"
          ]
        }
      ],
      "source": [
        "# only two loops\n",
        "def matmul(a,b):\n",
        "  # a,b = np.array(a) , np.array(b)\n",
        "  (ar,ac) ,(br,bc) = a.shape, b.shape\n",
        "  c=torch.zeros(ar, bc)\n",
        "  for i in range(ar):\n",
        "    # for j in range(bc):\n",
        "            # c[i, j] = torch.dot(a[i, :], b[:, j])\n",
        "    c[i] = (a[i, :, None]*b).sum(dim=0)   # ith row\n",
        "\n",
        "  return c\n",
        "\n",
        "matmul(m1,m2)\n",
        "print(m1.shape, \"\\t\", m2.shape)"
      ]
    },
    {
      "cell_type": "code",
      "execution_count": 113,
      "metadata": {
        "id": "I4_bkaETJNT2",
        "colab": {
          "base_uri": "https://localhost:8080/"
        },
        "outputId": "3da074e8-c3bd-4cc8-d8f4-520d9dd523e0"
      },
      "outputs": [
        {
          "output_type": "execute_result",
          "data": {
            "text/plain": [
              "(torch.Size([1, 784]), torch.Size([784]))"
            ]
          },
          "metadata": {},
          "execution_count": 113
        }
      ],
      "source": [
        "digit[...][None].shape, digit.shape"
      ]
    },
    {
      "cell_type": "code",
      "execution_count": 114,
      "metadata": {
        "id": "xdGdTmJzKCIg",
        "colab": {
          "base_uri": "https://localhost:8080/",
          "height": 447
        },
        "outputId": "7d7f13e3-7a95-43a5-a6a1-cc30a03976db"
      },
      "outputs": [
        {
          "output_type": "execute_result",
          "data": {
            "text/plain": [
              "<matplotlib.image.AxesImage at 0x7f6202f7f970>"
            ]
          },
          "metadata": {},
          "execution_count": 114
        },
        {
          "output_type": "display_data",
          "data": {
            "text/plain": [
              "<Figure size 640x480 with 1 Axes>"
            ],
            "image/png": "[encoded data removed]"
          },
          "metadata": {}
        }
      ],
      "source": [
        "plt.imshow(torch.reshape(digit,(28,28)))\n"
      ]
    },
    {
      "cell_type": "code",
      "execution_count": 115,
      "metadata": {
        "id": "RalB919QK9Uv",
        "colab": {
          "base_uri": "https://localhost:8080/"
        },
        "outputId": "ccdaeed2-fcff-4ca7-d0a0-77c162b0d98c"
      },
      "outputs": [
        {
          "output_type": "execute_result",
          "data": {
            "text/plain": [
              "tensor([[[ 1,  4,  9],\n",
              "         [ 5, 12,  3]]])"
            ]
          },
          "metadata": {},
          "execution_count": 115
        }
      ],
      "source": [
        "m,c\n",
        "\n",
        "x=torch.tensor([\n",
        "    [1,2,3],\n",
        "    [4,5,6],\n",
        "    [7,8,9]\n",
        "\n",
        "])\n",
        "b=tensor([1,2,3])\n",
        "bs  = tensor([[[1,2,3],[5,6,1]]])\n",
        "x,b.expand_as(x)\n",
        "\n",
        "# x,bs, bs.expand_as(x)\n",
        "\n",
        "bs*b\n"
      ]
    },
    {
      "cell_type": "code",
      "execution_count": 116,
      "metadata": {
        "id": "tr9JSLoUTwMW",
        "colab": {
          "base_uri": "https://localhost:8080/"
        },
        "outputId": "b643e5e2-0b3a-4fe8-e747-43929004489c"
      },
      "outputs": [
        {
          "output_type": "execute_result",
          "data": {
            "text/plain": [
              "tensor([[  1.0,  -3.0,  -2.1,  ..., -15.1, -17.7,   0.6],\n",
              "        [  6.9,  -0.3,   0.8,  ..., -17.1, -25.4,  16.2],\n",
              "        [-10.2,   7.4,   4.1,  ...,  -6.7,  -6.8,  -1.6],\n",
              "        ...,\n",
              "        [  7.4,   7.6,  -3.5,  ...,  -1.0, -16.2,   2.1],\n",
              "        [  3.2,   9.5,  -9.4,  ...,   3.0, -19.6,  -2.0],\n",
              "        [ 15.7,   4.1,  -5.6,  ...,   8.1, -12.2,   0.4]])"
            ]
          },
          "metadata": {},
          "execution_count": 116
        }
      ],
      "source": [
        "tr = matmul(x_train, weights)\n",
        "tr\n"
      ]
    },
    {
      "cell_type": "code",
      "execution_count": 117,
      "metadata": {
        "id": "nn6zYz2x8m6B",
        "colab": {
          "base_uri": "https://localhost:8080/"
        },
        "outputId": "e0cdd256-d1cb-404a-e598-e372785a4b37"
      },
      "outputs": [
        {
          "output_type": "stream",
          "name": "stdout",
          "text": [
            "CPU times: user 419 µs, sys: 0 ns, total: 419 µs\n",
            "Wall time: 617 µs\n"
          ]
        }
      ],
      "source": [
        "def uniLoopMultiplication(a,b):\n",
        "    (ar,ac),(br,bc) = a.shape,b.shape\n",
        "    c = torch.zeros(ar, bc)\n",
        "    for i in range(ar):\n",
        "        c[i] = (a[i,:,None] * b).sum(dim=0) # broadcast version\n",
        "    return c\n",
        "\n",
        "%time _= uniLoopMultiplication(m1, m2)"
      ]
    },
    {
      "cell_type": "markdown",
      "metadata": {
        "id": "s4ANwfv5cAnb"
      },
      "source": [
        "#### Einstein Summation(einsum)\n",
        "  is a compact representaion for combinng products and sums in a general way.\n",
        "\n",
        "  Key rules are:\n",
        "  - repeating letters between input arrays means that values along those axes with be multiplied together,\n",
        "  - Omitting a letter from the output means that values along that axis wil be summed."
      ]
    },
    {
      "cell_type": "code",
      "execution_count": 118,
      "metadata": {
        "id": "-iMBVjTyTwO3",
        "colab": {
          "base_uri": "https://localhost:8080/"
        },
        "outputId": "57a052f2-b16c-4e40-d80e-6a1f8847313a"
      },
      "outputs": [
        {
          "output_type": "execute_result",
          "data": {
            "text/plain": [
              "(torch.Size([5, 784]), torch.Size([784, 10]))"
            ]
          },
          "metadata": {},
          "execution_count": 118
        }
      ],
      "source": [
        "m1.shape, m2.shape"
      ]
    },
    {
      "cell_type": "code",
      "execution_count": 119,
      "metadata": {
        "id": "s0VuFD5ZTwRH",
        "colab": {
          "base_uri": "https://localhost:8080/"
        },
        "outputId": "8b1db613-3657-4209-dc49-787cfe149293"
      },
      "outputs": [
        {
          "output_type": "execute_result",
          "data": {
            "text/plain": [
              "(torch.Size([5, 784]), torch.Size([784, 10]), torch.Size([5, 784, 10]))"
            ]
          },
          "metadata": {},
          "execution_count": 119
        }
      ],
      "source": [
        "# c[i,j] += a[i,k] * b[k,j]\n",
        "# c[i,j] = (a[i,:] * b[:,j]).sum()\n",
        "mr = torch.einsum('ik,kj -> ikj', m1,m2)   #here ikj, k is multiplied!    #now to omit any letter from ikj, just sum it\n",
        "m1.shape, m2.shape, mr.shape"
      ]
    },
    {
      "cell_type": "code",
      "execution_count": 120,
      "metadata": {
        "id": "l7s03SowTwTo",
        "colab": {
          "base_uri": "https://localhost:8080/"
        },
        "outputId": "b54865c9-6e03-47fe-fccc-e77fa6c3a6cf"
      },
      "outputs": [
        {
          "output_type": "execute_result",
          "data": {
            "text/plain": [
              "(tensor([[-10.9,  -0.7,  -7.0,  -4.0,  -2.1,  -3.4,   3.9,  -3.4, -11.5,  -2.1],\n",
              "         [ 14.5,   6.0,   2.9,  -4.1,   6.6, -14.7,  -9.3,   2.2, -15.3,  -2.7],\n",
              "         [  2.2,  -3.2,  -4.8,  -6.0,  14.2,  -9.0,  -4.8,  -5.4, -20.7,  13.6],\n",
              "         [ -6.7,   8.9,  -7.5,  -7.9,   2.7,  -4.7, -11.0, -13.0,  -6.4,   3.6],\n",
              "         [ -2.4,  -6.4,  -2.4,  -9.0,  11.2,  -5.8,  -8.9,  -3.8,  -9.0,   5.3]]),\n",
              " torch.Size([5, 10]))"
            ]
          },
          "metadata": {},
          "execution_count": 120
        }
      ],
      "source": [
        "mr.sum(1), mr.sum(1).shape  # ikj => ij  # sum on that dimension will eliminate that dim #"
      ]
    },
    {
      "cell_type": "code",
      "execution_count": 120,
      "metadata": {
        "id": "N0H_hKL2EaNT"
      },
      "outputs": [],
      "source": []
    },
    {
      "cell_type": "code",
      "execution_count": 121,
      "metadata": {
        "id": "8-imIqG9EaQC",
        "colab": {
          "base_uri": "https://localhost:8080/"
        },
        "outputId": "9d2b01d5-4be7-41e5-cc85-7950792b8568"
      },
      "outputs": [
        {
          "output_type": "execute_result",
          "data": {
            "text/plain": [
              "(torch.Size([5, 784]), torch.Size([784, 10]), torch.Size([5, 784, 10]))"
            ]
          },
          "metadata": {},
          "execution_count": 121
        }
      ],
      "source": [
        "\n",
        "mr = torch.einsum('ij,jk -> ijk', m1,m2)   #here ijk, j is multiplied!\n",
        "m1.shape, m2.shape, mr.shape"
      ]
    },
    {
      "cell_type": "code",
      "execution_count": 122,
      "metadata": {
        "id": "j1L8ijBQIvAC",
        "colab": {
          "base_uri": "https://localhost:8080/"
        },
        "outputId": "d490d000-cbc4-450f-877e-d3a6d03db56e"
      },
      "outputs": [
        {
          "output_type": "execute_result",
          "data": {
            "text/plain": [
              "(tensor([[-10.9,  -0.7,  -7.0,  -4.0,  -2.1,  -3.4,   3.9,  -3.4, -11.5,  -2.1],\n",
              "         [ 14.5,   6.0,   2.9,  -4.1,   6.6, -14.7,  -9.3,   2.2, -15.3,  -2.7],\n",
              "         [  2.2,  -3.2,  -4.8,  -6.0,  14.2,  -9.0,  -4.8,  -5.4, -20.7,  13.6],\n",
              "         [ -6.7,   8.9,  -7.5,  -7.9,   2.7,  -4.7, -11.0, -13.0,  -6.4,   3.6],\n",
              "         [ -2.4,  -6.4,  -2.4,  -9.0,  11.2,  -5.8,  -8.9,  -3.8,  -9.0,   5.3]]),\n",
              " torch.Size([5, 10]))"
            ]
          },
          "metadata": {},
          "execution_count": 122
        }
      ],
      "source": [
        "mr.sum(1), mr.sum(1).shape  # ikj => ij  # sum on that dimension will eliminate that dim"
      ]
    },
    {
      "cell_type": "code",
      "execution_count": 123,
      "metadata": {
        "id": "JeOQollSTwV2",
        "colab": {
          "base_uri": "https://localhost:8080/"
        },
        "outputId": "de2f9dee-8828-4f71-da4b-39ac4bdbe75e"
      },
      "outputs": [
        {
          "output_type": "execute_result",
          "data": {
            "text/plain": [
              "(tensor([[-10.9,  -0.7,  -7.0,  -4.0,  -2.1,  -3.4,   3.9,  -3.4, -11.5,  -2.1],\n",
              "         [ 14.5,   6.0,   2.9,  -4.1,   6.6, -14.7,  -9.3,   2.2, -15.3,  -2.7],\n",
              "         [  2.2,  -3.2,  -4.8,  -6.0,  14.2,  -9.0,  -4.8,  -5.4, -20.7,  13.6],\n",
              "         [ -6.7,   8.9,  -7.5,  -7.9,   2.7,  -4.7, -11.0, -13.0,  -6.4,   3.6],\n",
              "         [ -2.4,  -6.4,  -2.4,  -9.0,  11.2,  -5.8,  -8.9,  -3.8,  -9.0,   5.3]]),\n",
              " torch.Size([5, 10]))"
            ]
          },
          "metadata": {},
          "execution_count": 123
        }
      ],
      "source": [
        "mr = torch.einsum('ik,kj -> ij', m1,m2)\n",
        "mr,mr.shape"
      ]
    },
    {
      "cell_type": "code",
      "execution_count": 124,
      "metadata": {
        "id": "aIvhwn9tTwYi",
        "colab": {
          "base_uri": "https://localhost:8080/"
        },
        "outputId": "1f2b2390-6147-4563-fc01-94d043c41cd0"
      },
      "outputs": [
        {
          "output_type": "execute_result",
          "data": {
            "text/plain": [
              "tensor(-152.4)"
            ]
          },
          "metadata": {},
          "execution_count": 124
        }
      ],
      "source": [
        "   torch.einsum('ik,kj -> ', m1,m2)"
      ]
    },
    {
      "cell_type": "code",
      "execution_count": 125,
      "metadata": {
        "id": "0zUklQ2k4sby",
        "colab": {
          "base_uri": "https://localhost:8080/"
        },
        "outputId": "1aec9e3f-852c-4a50-8b0d-207209f618a6"
      },
      "outputs": [
        {
          "output_type": "execute_result",
          "data": {
            "text/plain": [
              "tensor([[-10.9,  -0.7,  -7.0,  -4.0,  -2.1,  -3.4,   3.9,  -3.4, -11.5,  -2.1],\n",
              "        [ 14.5,   6.0,   2.9,  -4.1,   6.6, -14.7,  -9.3,   2.2, -15.3,  -2.7],\n",
              "        [  2.2,  -3.2,  -4.8,  -6.0,  14.2,  -9.0,  -4.8,  -5.4, -20.7,  13.6],\n",
              "        [ -6.7,   8.9,  -7.5,  -7.9,   2.7,  -4.7, -11.0, -13.0,  -6.4,   3.6],\n",
              "        [ -2.4,  -6.4,  -2.4,  -9.0,  11.2,  -5.8,  -8.9,  -3.8,  -9.0,   5.3]])"
            ]
          },
          "metadata": {},
          "execution_count": 125
        }
      ],
      "source": [
        "def matmul(a,b):\n",
        "  return torch.einsum('ij,jk->ik',a,b)\n",
        "\n",
        "matmul(m1,m2)"
      ]
    },
    {
      "cell_type": "code",
      "execution_count": 126,
      "metadata": {
        "id": "8TQxPbMM_X9M"
      },
      "outputs": [],
      "source": [
        "test_close(tr, matmul(x_train, weights ), eps=1e-3)"
      ]
    },
    {
      "cell_type": "code",
      "execution_count": 127,
      "metadata": {
        "id": "r-a1NqSh_mBC",
        "colab": {
          "base_uri": "https://localhost:8080/"
        },
        "outputId": "430158d4-9262-48ef-b859-a71080211a0b"
      },
      "outputs": [
        {
          "output_type": "stream",
          "name": "stdout",
          "text": [
            "CPU times: user 221 µs, sys: 0 ns, total: 221 µs\n",
            "Wall time: 229 µs\n"
          ]
        }
      ],
      "source": [
        "def einSum(a,b):\n",
        "  return torch.einsum('ij,jk->ik',a,b)\n",
        "\n",
        "\n",
        "%time _= einSum(m1, m2)"
      ]
    },
    {
      "cell_type": "markdown",
      "metadata": {
        "id": "7J2RRjphA0Jo"
      },
      "source": [
        "but we dont need to all that bcz pytorch does that for us using @"
      ]
    },
    {
      "cell_type": "code",
      "execution_count": 128,
      "metadata": {
        "id": "KVlNtICgBJgN"
      },
      "outputs": [],
      "source": [
        "# pytorch op @ or torch.matmul"
      ]
    },
    {
      "cell_type": "code",
      "execution_count": 129,
      "metadata": {
        "id": "XviwSORgA32S"
      },
      "outputs": [],
      "source": [
        "test_close(tr,x_train@weights,eps=1e-3)"
      ]
    },
    {
      "cell_type": "code",
      "execution_count": 130,
      "metadata": {
        "id": "jNdJoK13A34Y",
        "colab": {
          "base_uri": "https://localhost:8080/"
        },
        "outputId": "9b7eecee-22b3-4160-cf6e-57c8ee48bdac"
      },
      "outputs": [
        {
          "output_type": "stream",
          "name": "stdout",
          "text": [
            "26.9 ms ± 1.83 ms per loop (mean ± std. dev. of 7 runs, 5 loops each)\n"
          ]
        }
      ],
      "source": [
        "%timeit -n 5 _=torch.matmul(x_train, weights)"
      ]
    },
    {
      "cell_type": "code",
      "execution_count": 131,
      "metadata": {
        "id": "OrwpQ-RAA36i",
        "colab": {
          "base_uri": "https://localhost:8080/"
        },
        "outputId": "2b1cf0d0-a296-4275-800a-8edefad1fca9"
      },
      "outputs": [
        {
          "output_type": "execute_result",
          "data": {
            "text/plain": [
              "(torch.Size([5, 784]), torch.Size([784, 10]))"
            ]
          },
          "metadata": {},
          "execution_count": 131
        }
      ],
      "source": [
        "m1.shape, m2.shape"
      ]
    },
    {
      "cell_type": "markdown",
      "metadata": {
        "id": "VLsu0OhuBczX"
      },
      "source": [
        "#### Using CUDA"
      ]
    },
    {
      "cell_type": "code",
      "execution_count": 132,
      "metadata": {
        "id": "J8cMJuYeA39K",
        "colab": {
          "base_uri": "https://localhost:8080/"
        },
        "outputId": "bedad4af-ea9a-4b4f-9b28-992a5b35604a"
      },
      "outputs": [
        {
          "output_type": "execute_result",
          "data": {
            "text/plain": [
              "tensor([[-10.9,  -0.7,  -7.0,   0.0,   0.0,   0.0,   0.0,   0.0,   0.0,   0.0],\n",
              "        [  0.0,   6.0,   0.0,   0.0,   0.0,   0.0,   0.0,   0.0,   0.0,   0.0],\n",
              "        [  0.0,   0.0,   0.0,   0.0,   0.0,   0.0,   0.0,   0.0,   0.0,   0.0],\n",
              "        [  0.0,   0.0,   0.0,   0.0,   0.0,   0.0,   0.0,   0.0,   0.0,   0.0],\n",
              "        [  0.0,   0.0,   0.0,   0.0,   0.0,   0.0,   0.0,   0.0,   0.0,   0.0]])"
            ]
          },
          "metadata": {},
          "execution_count": 132
        }
      ],
      "source": [
        "# parallel\n",
        "\n",
        "\" writing code for filling just 0,0\"\n",
        "\n",
        "def matmul(grid , a,b,c):\n",
        "  i,j = grid\n",
        "  if(i<c.shape[0] and j<c.shape[1]):\n",
        "    tmp=0\n",
        "    for k in range(a.shape[1]): tmp+=a[i,k]*b[k,j]\n",
        "\n",
        "    c[i][j] = tmp\n",
        "\n",
        "\n",
        "\n",
        "\n",
        "res = torch.zeros(ar,bc)\n",
        "matmul((0,0),m1,m2,res)\n",
        "matmul((0,1),m1,m2,res)\n",
        "matmul((1,1),m1,m2,res)\n",
        "matmul((0,2),m1,m2,res)\n",
        "res  # we can do all this parallel\n"
      ]
    },
    {
      "cell_type": "code",
      "execution_count": 133,
      "metadata": {
        "id": "w9uU9t2FA3_c"
      },
      "outputs": [],
      "source": [
        "def launch_kernel(kernel, grid_x, grid_y, *args,**kwargs):\n",
        "  for i in range(grid_x):\n",
        "    for j in range(grid_y):\n",
        "      kernel((i,j),*args,**kwargs)"
      ]
    },
    {
      "cell_type": "code",
      "execution_count": 134,
      "metadata": {
        "id": "ZGAyWCTLHEZA",
        "colab": {
          "base_uri": "https://localhost:8080/"
        },
        "outputId": "3c78c0c7-a51b-4322-a519-5d9f86fddb86"
      },
      "outputs": [
        {
          "output_type": "execute_result",
          "data": {
            "text/plain": [
              "tensor([[-10.9,  -0.7,  -7.0,  -4.0,  -2.1,  -3.4,   3.9,  -3.4, -11.5,  -2.1],\n",
              "        [ 14.5,   6.0,   2.9,  -4.1,   6.6, -14.7,  -9.3,   2.2, -15.3,  -2.7],\n",
              "        [  2.2,  -3.2,  -4.8,  -6.0,  14.2,  -9.0,  -4.8,  -5.4, -20.7,  13.6],\n",
              "        [ -6.7,   8.9,  -7.5,  -7.9,   2.7,  -4.7, -11.0, -13.0,  -6.4,   3.6],\n",
              "        [ -2.4,  -6.4,  -2.4,  -9.0,  11.2,  -5.8,  -8.9,  -3.8,  -9.0,   5.3]])"
            ]
          },
          "metadata": {},
          "execution_count": 134
        }
      ],
      "source": [
        "res = torch.zeros(ar,bc)\n",
        "launch_kernel(matmul, ar,bc, m1,m2, res)\n",
        "res"
      ]
    },
    {
      "cell_type": "code",
      "execution_count": 135,
      "metadata": {
        "id": "KhdyxgLFHEbS"
      },
      "outputs": [],
      "source": [
        "from numba import cuda\n",
        "\n",
        "\n",
        "@cuda.jit\n",
        "def matmul(a,b,c):\n",
        "  i,j = cuda.grid(2)  # 2 mean dims of grid\n",
        "  if(i<c.shape[0] and j<c.shape[1]):\n",
        "    tmp=0\n",
        "    for k in range(a.shape[1]): tmp+=a[i,k]*b[k,j]\n",
        "\n",
        "    c[i][j] = tmp\n"
      ]
    },
    {
      "cell_type": "code",
      "execution_count": 136,
      "metadata": {
        "id": "YWsRZJe7HEdI"
      },
      "outputs": [],
      "source": [
        "# r = np.zeros(tr.shape)\n",
        "# #m1g,m2g,rg = cuda.to_device(x_train), cuda.to_device(weights), cuda.to_device(r)\n",
        "\n",
        "# m1g,m2g,rg = map(cuda.to_device, (x_train,weights,r))"
      ]
    },
    {
      "cell_type": "code",
      "execution_count": 137,
      "metadata": {
        "id": "fy-_rPo4I2B1"
      },
      "outputs": [],
      "source": [
        "# r.shape"
      ]
    },
    {
      "cell_type": "code",
      "execution_count": 138,
      "metadata": {
        "id": "Qatfp9M-HEfW"
      },
      "outputs": [],
      "source": [
        "# TPB = 16\n",
        "# rr,rc = r.shape\n",
        "# blockspergrid = (math.ceil(rr / TPB), math.ceil(rc / TPB))\n",
        "# blockspergrid"
      ]
    },
    {
      "cell_type": "code",
      "execution_count": 139,
      "metadata": {
        "id": "1M7nnOduHEhh"
      },
      "outputs": [],
      "source": [
        "# matmul[blockspergrid, (TPB,TPB)](m1g,m2g,rg)  #[blockspergrid, (TPB,TPB)]\n",
        "# r = rg.copy_to_host() # copying to host\n",
        "# test_close(tr, r, eps=1e-3)"
      ]
    },
    {
      "cell_type": "code",
      "execution_count": 140,
      "metadata": {
        "id": "lZjiGwhlHEj0"
      },
      "outputs": [],
      "source": [
        "# m1c,m2c = x_train.cuda(),weights.cuda()   # .cuda() directly copies to gpu"
      ]
    },
    {
      "cell_type": "code",
      "execution_count": 141,
      "metadata": {
        "id": "9Ph4FcgqJtDo"
      },
      "outputs": [],
      "source": [
        "# r=(m1c@m2c).cpu()  # willm copy to host after processing"
      ]
    },
    {
      "cell_type": "code",
      "execution_count": 142,
      "metadata": {
        "id": "4lDXTdG-JtGH"
      },
      "outputs": [],
      "source": [
        "# %timeit -n 10 r=(m1c@m2c).cpu()\n"
      ]
    },
    {
      "cell_type": "code",
      "execution_count": 142,
      "metadata": {
        "id": "x4TMxvXJJtIc"
      },
      "outputs": [],
      "source": []
    },
    {
      "cell_type": "code",
      "execution_count": 142,
      "metadata": {
        "id": "LPJ-J7QcJtKh"
      },
      "outputs": [],
      "source": []
    },
    {
      "cell_type": "code",
      "execution_count": 142,
      "metadata": {
        "id": "Xx764E1xJtMq"
      },
      "outputs": [],
      "source": []
    },
    {
      "cell_type": "code",
      "execution_count": 142,
      "metadata": {
        "id": "UhSfA_hPJtPD"
      },
      "outputs": [],
      "source": []
    },
    {
      "cell_type": "code",
      "execution_count": 142,
      "metadata": {
        "id": "-djD_0s2JtRP"
      },
      "outputs": [],
      "source": []
    },
    {
      "cell_type": "code",
      "execution_count": 142,
      "metadata": {
        "id": "3zUsQgEyJtTU"
      },
      "outputs": [],
      "source": []
    },
    {
      "cell_type": "code",
      "execution_count": 142,
      "metadata": {
        "id": "GYwmrW5uJtWO"
      },
      "outputs": [],
      "source": []
    },
    {
      "cell_type": "code",
      "execution_count": 142,
      "metadata": {
        "id": "obHa_LTrJtYW"
      },
      "outputs": [],
      "source": []
    },
    {
      "cell_type": "code",
      "execution_count": 142,
      "metadata": {
        "id": "JRaAUv1PJtah"
      },
      "outputs": [],
      "source": []
    },
    {
      "cell_type": "markdown",
      "metadata": {
        "id": "L0gBnQ2Up-im"
      },
      "source": [
        "# Mean Shift to practice above"
      ]
    },
    {
      "cell_type": "markdown",
      "metadata": {
        "id": "DXGHy2lZqNtE"
      },
      "source": [
        "## Clustering\n",
        "  grouping data into clusters"
      ]
    },
    {
      "cell_type": "code",
      "execution_count": 143,
      "metadata": {
        "id": "Z__fFo8gqDRe"
      },
      "outputs": [],
      "source": [
        "import math, matplotlib.pyplot as plt, operator, torch\n",
        "from functools import partial\n",
        "\n",
        "\n",
        "torch.manual_seed(42)\n",
        "torch.set_printoptions(precision=3, linewidth=140, sci_mode=False)"
      ]
    },
    {
      "cell_type": "code",
      "execution_count": 144,
      "metadata": {
        "id": "gHldv5TvqDUt"
      },
      "outputs": [],
      "source": [
        "n_clusters, n_samples = 6,250"
      ]
    },
    {
      "cell_type": "markdown",
      "metadata": {
        "id": "5MJB7MWtFN7Q"
      },
      "source": [
        "TO GENERATE OUR DATA, we are going to pick 6 random pointd, which we'll call cetroids and for each epoint we are going to generate 250 random oin=ints about it"
      ]
    },
    {
      "cell_type": "code",
      "execution_count": 145,
      "metadata": {
        "id": "_nI8_-4bFNY1"
      },
      "outputs": [],
      "source": [
        "centroids =  torch.rand(n_clusters,2)*70-35   # ,2 mean x and y coords for each point then we are going to randomly generate data around those six centroids"
      ]
    },
    {
      "cell_type": "code",
      "execution_count": 146,
      "metadata": {
        "id": "t8dRtTN9qDW-"
      },
      "outputs": [],
      "source": [
        "from torch.distributions.multivariate_normal import MultivariateNormal\n",
        "from torch import tensor"
      ]
    },
    {
      "cell_type": "code",
      "execution_count": 147,
      "metadata": {
        "id": "aDVz_CpdGMmL"
      },
      "outputs": [],
      "source": [
        "def sample(m):\n",
        "  return MultivariateNormal(m, torch.diag(tensor([5.,5.]))).sample((n_samples,))\n",
        "\n",
        "# m: mean\n",
        "# torch.diag(tensor([5.,5.])) mean covariance matrix to refecct relation between columns\n",
        "# sample((n_samples,)) : of samples"
      ]
    },
    {
      "cell_type": "code",
      "execution_count": 148,
      "metadata": {
        "id": "_oAbVoLFqDY5",
        "colab": {
          "base_uri": "https://localhost:8080/"
        },
        "outputId": "37448d27-5a87-4e29-b394-5a715672b29a"
      },
      "outputs": [
        {
          "output_type": "execute_result",
          "data": {
            "text/plain": [
              "torch.Size([1500, 2])"
            ]
          },
          "metadata": {},
          "execution_count": 148
        }
      ],
      "source": [
        "slices = [ sample(c) for c in centroids]\n",
        "data= torch.cat(slices)\n",
        "data.shape"
      ]
    },
    {
      "cell_type": "code",
      "execution_count": 149,
      "metadata": {
        "id": "Shd01isZqDa_"
      },
      "outputs": [],
      "source": [
        "# [sample(c) for c in centroids][1]"
      ]
    },
    {
      "cell_type": "code",
      "execution_count": 150,
      "metadata": {
        "id": "BS-MlChAqDc4"
      },
      "outputs": [],
      "source": [
        "\n",
        "def plot_data(centroids, data, n_samples, ax=None):\n",
        "    if ax is None: _,ax = plt.subplots()\n",
        "    for i, centroid in enumerate(centroids):\n",
        "        samples = data[i*n_samples:(i+1)*n_samples]\n",
        "        ax.scatter(samples[:,0], samples[:,1], s=1)\n",
        "        ax.plot(*centroid, markersize=10, marker=\"x\", color='k', mew=5)\n",
        "        ax.plot(*centroid, markersize=5, marker=\"x\", color='m', mew=2)"
      ]
    },
    {
      "cell_type": "code",
      "execution_count": 151,
      "metadata": {
        "id": "atPezu8KG_T3",
        "colab": {
          "base_uri": "https://localhost:8080/",
          "height": 430
        },
        "outputId": "87a1a055-6c37-45b2-d513-71d25749286f"
      },
      "outputs": [
        {
          "output_type": "display_data",
          "data": {
            "text/plain": [
              "<Figure size 640x480 with 1 Axes>"
            ],
            "image/png": "[encoded data removed]"
          },
          "metadata": {}
        }
      ],
      "source": [
        "plot_data(centroids, data, n_samples)"
      ]
    },
    {
      "cell_type": "markdown",
      "metadata": {
        "id": "ZQRwX9tIr3id"
      },
      "source": [
        "##Mean shift\n",
        "Most people that have come across clustering algorithms have learnt about k-means. Mean shift clustering is a newer and less well-known approach, but it has some important advantages:\n",
        "\n",
        "* It doesn't require selecting the number of clusters in advance, but instead just requires a bandwidth to be specified, which can be easily chosen automatically\n",
        "* It can handle clusters of any shape, whereas k-means (without using special extensions) requires that clusters be roughly ball shaped.\n",
        "\n",
        "The algorithm is as follows:\n",
        "\n",
        "* For each data point x in the sample X, find the distance between that point x and every other point in X\n",
        "* Create weights for each point in X by using the Gaussian kernel of that point's distance to x\n",
        " * This weighting approach penalizes points further away from x\n",
        " * The rate at which the weights fall to zero is determined by the bandwidth, which is the standard deviation of the Gaussian\n",
        "* Update x as the weighted average of all other points in X, weighted based on the previous step\n",
        "\n",
        "\n",
        "This will iteratively push points that are close together even closer until they are next to each other."
      ]
    },
    {
      "cell_type": "code",
      "execution_count": 152,
      "metadata": {
        "id": "gH_Z7A0xG_Y0",
        "colab": {
          "base_uri": "https://localhost:8080/"
        },
        "outputId": "f0a1b028-0e31-4b35-c5b8-6203bebbe99f"
      },
      "outputs": [
        {
          "output_type": "execute_result",
          "data": {
            "text/plain": [
              "torch.Size([1500, 2])"
            ]
          },
          "metadata": {},
          "execution_count": 152
        }
      ],
      "source": [
        "data.shape"
      ]
    },
    {
      "cell_type": "code",
      "execution_count": 153,
      "metadata": {
        "id": "wDAeLsuHG_Wj",
        "colab": {
          "base_uri": "https://localhost:8080/"
        },
        "outputId": "90046815-0a57-43bd-ff2f-e6b60251fa68"
      },
      "outputs": [
        {
          "output_type": "execute_result",
          "data": {
            "text/plain": [
              "tensor([ 9.222, 11.604])"
            ]
          },
          "metadata": {},
          "execution_count": 153
        }
      ],
      "source": [
        "midp = data.mean(0)\n",
        "midp"
      ]
    },
    {
      "cell_type": "code",
      "execution_count": 154,
      "metadata": {
        "id": "OLx3zbrtrTRs",
        "colab": {
          "base_uri": "https://localhost:8080/",
          "height": 430
        },
        "outputId": "7bb15027-81ef-42ca-a507-ae365dab1cb1"
      },
      "outputs": [
        {
          "output_type": "display_data",
          "data": {
            "text/plain": [
              "<Figure size 640x480 with 1 Axes>"
            ],
            "image/png": "[encoded data removed]"
          },
          "metadata": {}
        }
      ],
      "source": [
        "plot_data([midp]*6, data, n_samples)"
      ]
    },
    {
      "cell_type": "markdown",
      "metadata": {
        "id": "BbXL5bcquX-d"
      },
      "source": [
        "So here's the definition of the gaussian kernel, which you may remember from high school... This person at the science march certainly remembered!"
      ]
    },
    {
      "cell_type": "code",
      "execution_count": 155,
      "metadata": {
        "id": "leo3R8CBrTO5"
      },
      "outputs": [],
      "source": [
        "def gaussian(d, bw): return torch.exp(-0.5*((d/bw))**2) / (bw*math.sqrt(2*math.pi))\n"
      ]
    },
    {
      "cell_type": "code",
      "execution_count": 156,
      "metadata": {
        "id": "SQAUZrLorSrv",
        "colab": {
          "base_uri": "https://localhost:8080/",
          "height": 430
        },
        "outputId": "57020d39-6a00-4fa5-902f-931cbbd64f2c"
      },
      "outputs": [
        {
          "output_type": "display_data",
          "data": {
            "text/plain": [
              "<Figure size 640x480 with 1 Axes>"
            ],
            "image/png": "[encoded data removed]"
          },
          "metadata": {}
        }
      ],
      "source": [
        "def plot_func(f):\n",
        "    x = torch.linspace(0,10,100)\n",
        "    plt.plot(x, f(x))\n",
        "\n",
        "plot_func(partial(gaussian, bw=2.5))\n"
      ]
    },
    {
      "cell_type": "code",
      "execution_count": 157,
      "metadata": {
        "id": "dCgu0abAG_cE",
        "colab": {
          "base_uri": "https://localhost:8080/"
        },
        "outputId": "b6bb5d38-e691-4b65-b875-1c0b87e69b96"
      },
      "outputs": [
        {
          "output_type": "execute_result",
          "data": {
            "text/plain": [
              "functools.partial"
            ]
          },
          "metadata": {},
          "execution_count": 157
        }
      ],
      "source": [
        "partial"
      ]
    },
    {
      "cell_type": "code",
      "execution_count": 158,
      "metadata": {
        "id": "MZ63Vlezzpf4"
      },
      "outputs": [],
      "source": [
        "f = partial(gaussian, bw=2.5)"
      ]
    },
    {
      "cell_type": "code",
      "execution_count": 159,
      "metadata": {
        "id": "ZQ2X1Axzzpir",
        "colab": {
          "base_uri": "https://localhost:8080/"
        },
        "outputId": "ccf40155-336f-4b61-8842-d95322450b0e"
      },
      "outputs": [
        {
          "output_type": "execute_result",
          "data": {
            "text/plain": [
              "tensor(0.044)"
            ]
          },
          "metadata": {},
          "execution_count": 159
        }
      ],
      "source": [
        "f(tensor(4.))  # same as graph above"
      ]
    },
    {
      "cell_type": "markdown",
      "metadata": {
        "id": "drsWJ5lxu7rM"
      },
      "source": [
        "In our implementation, we choose the bandwidth to be 2.5.\n",
        "\n",
        "One easy way to choose bandwidth is to find which bandwidth covers one third of the data."
      ]
    },
    {
      "cell_type": "code",
      "execution_count": 160,
      "metadata": {
        "id": "MVa_M20eG_fG"
      },
      "outputs": [],
      "source": [
        "def tri(d,i):\n",
        "  return  (-d+i).clamp_min(0)/i  # triangular weighting with clamp_min"
      ]
    },
    {
      "cell_type": "code",
      "execution_count": 161,
      "metadata": {
        "id": "Fs_Pz378G_hz",
        "colab": {
          "base_uri": "https://localhost:8080/",
          "height": 430
        },
        "outputId": "8dd9d32e-dfec-4b81-dfe5-5eeaf0081170"
      },
      "outputs": [
        {
          "output_type": "display_data",
          "data": {
            "text/plain": [
              "<Figure size 640x480 with 1 Axes>"
            ],
            "image/png": "[encoded data removed]"
          },
          "metadata": {}
        }
      ],
      "source": [
        "plot_func(partial(tri, i=8))"
      ]
    },
    {
      "cell_type": "code",
      "execution_count": 162,
      "metadata": {
        "id": "tjPsta6LG_j7"
      },
      "outputs": [],
      "source": [
        "# so we can use this but initially we will be using clamp_moin version"
      ]
    },
    {
      "cell_type": "code",
      "execution_count": 163,
      "metadata": {
        "id": "y9L-bybW0dq7",
        "colab": {
          "base_uri": "https://localhost:8080/"
        },
        "outputId": "81ba8e36-e489-412b-e4c7-3c5f1505847d"
      },
      "outputs": [
        {
          "output_type": "execute_result",
          "data": {
            "text/plain": [
              "tensor([26.204, 26.349])"
            ]
          },
          "metadata": {},
          "execution_count": 163
        }
      ],
      "source": [
        "X = data.clone()\n",
        "x = data[0]\n",
        "x\n"
      ]
    },
    {
      "cell_type": "code",
      "execution_count": 164,
      "metadata": {
        "id": "T3qAu1_8G_ly",
        "colab": {
          "base_uri": "https://localhost:8080/"
        },
        "outputId": "2da2ed01-252e-4284-c4bd-65f371b20b7a"
      },
      "outputs": [
        {
          "output_type": "execute_result",
          "data": {
            "text/plain": [
              "(torch.Size([2]),\n",
              " torch.Size([1500, 2]),\n",
              " torch.Size([1, 2]),\n",
              " torch.Size([2, 1]))"
            ]
          },
          "metadata": {},
          "execution_count": 164
        }
      ],
      "source": [
        "x.shape, X.shape, x[None].shape,x[:,None].shape"
      ]
    },
    {
      "cell_type": "code",
      "execution_count": 165,
      "metadata": {
        "id": "5O7DMMkFG_oY",
        "colab": {
          "base_uri": "https://localhost:8080/"
        },
        "outputId": "72048b47-c63f-4e3a-8e9e-6b85c124e273"
      },
      "outputs": [
        {
          "output_type": "execute_result",
          "data": {
            "text/plain": [
              "(tensor([[ 0.000,  0.000],\n",
              "         [ 0.513, -3.865],\n",
              "         [-4.227, -2.345],\n",
              "         [ 0.557, -3.685]]),\n",
              " tensor([[ 0.000,  0.000],\n",
              "         [ 0.513, -3.865],\n",
              "         [-4.227, -2.345],\n",
              "         [ 0.557, -3.685]]))"
            ]
          },
          "metadata": {},
          "execution_count": 165
        }
      ],
      "source": [
        "(x[None] -X)[:4] , (x -X)[:4]"
      ]
    },
    {
      "cell_type": "code",
      "execution_count": 166,
      "metadata": {
        "id": "ZtkvN_va1F1v",
        "colab": {
          "base_uri": "https://localhost:8080/"
        },
        "outputId": "cde8917f-85b8-4b1e-e7ac-4cf28de2f807"
      },
      "outputs": [
        {
          "output_type": "execute_result",
          "data": {
            "text/plain": [
              "(tensor([26.204, 26.349]), tensor([26.204, 26.349]))"
            ]
          },
          "metadata": {},
          "execution_count": 166
        }
      ],
      "source": [
        "x, X[0]"
      ]
    },
    {
      "cell_type": "markdown",
      "metadata": {
        "id": "ChgSwNvt6M_T"
      },
      "source": [
        "##### trick : If you have two shapes of different length, we can use shorter length and it will add unit axis to the front making it as long as necessary to make it compatible with longer shape.. it's actually doing broascastin and replicating (x[None] -X)[:4] , (x -X)[:4]"
      ]
    },
    {
      "cell_type": "code",
      "execution_count": 167,
      "metadata": {
        "id": "U3VEbRZdqDe-",
        "colab": {
          "base_uri": "https://localhost:8080/"
        },
        "outputId": "267e4bdc-e6c4-434f-b256-658984e7bf50"
      },
      "outputs": [
        {
          "output_type": "execute_result",
          "data": {
            "text/plain": [
              "(torch.Size([1500, 2]), torch.Size([1500, 2]))"
            ]
          },
          "metadata": {},
          "execution_count": 167
        }
      ],
      "source": [
        "(x[None] -X).shape , (x -X).shape"
      ]
    },
    {
      "cell_type": "code",
      "execution_count": 168,
      "metadata": {
        "id": "nAPh4vozqDhX",
        "colab": {
          "base_uri": "https://localhost:8080/"
        },
        "outputId": "ea8e0445-4416-432d-88d6-38ed95c84e0f"
      },
      "outputs": [
        {
          "output_type": "execute_result",
          "data": {
            "text/plain": [
              "(tensor([0.000, 3.899, 4.834, 3.726, 6.273, 4.122, 6.560, 6.002]),\n",
              " torch.Size([1500]))"
            ]
          },
          "metadata": {},
          "execution_count": 168
        }
      ],
      "source": [
        "dist = ((x-X)**2).sum(1).sqrt() # torch.einsum(\"ij->i\",((x-X)**2)).sqrt()\n",
        "dist[:8], dist.shape"
      ]
    },
    {
      "cell_type": "code",
      "execution_count": 168,
      "metadata": {
        "id": "SWwZR6sO6LJu"
      },
      "outputs": [],
      "source": []
    },
    {
      "cell_type": "markdown",
      "metadata": {
        "id": "KK-3dX4B8Law"
      },
      "source": [
        "according to pythogarious\n",
        "\n",
        "c^2 = a^2 + b^2   => c = ( Δa^2 + Δb^2) ^(1/2)\n",
        "\n",
        "but what if we just:\n",
        "* first cover Δx then Δy and simply add this distance it would be same as above equation so that eq would be: c = ( Δa + Δb) ^(1/1) ~ Δa + Δb  which is just sum.\n",
        "\n",
        "\n",
        "so Norm is: if we got list of numbers we can add them each for power of `alpha` and take `1/alpha` of whole sum, that would be whole norm.\n",
        "\n",
        "\n",
        "*   (Σ(v^α))^(1/α)  where as v is list of numbers.. this is general equation of norm\n"
      ]
    },
    {
      "cell_type": "code",
      "execution_count": 168,
      "metadata": {
        "id": "BO5u6gp46LL3"
      },
      "outputs": [],
      "source": []
    },
    {
      "cell_type": "code",
      "execution_count": 169,
      "metadata": {
        "id": "rLuXksiK6LOr",
        "colab": {
          "base_uri": "https://localhost:8080/"
        },
        "outputId": "e0169208-5ca9-4928-e26b-c5cd16b28c2e"
      },
      "outputs": [
        {
          "output_type": "execute_result",
          "data": {
            "text/plain": [
              "tensor([0.000, 3.899, 4.834, 3.726, 6.273, 4.122, 6.560, 6.002])"
            ]
          },
          "metadata": {},
          "execution_count": 169
        }
      ],
      "source": [
        "#einsum\n",
        "torch.einsum(\"ij->i\",((x-X)**2)).sqrt()[:8]"
      ]
    },
    {
      "cell_type": "markdown",
      "metadata": {
        "id": "Hjy3PbRS3ugy"
      },
      "source": []
    },
    {
      "cell_type": "code",
      "execution_count": 170,
      "metadata": {
        "id": "IsROKLv7qDj5",
        "colab": {
          "base_uri": "https://localhost:8080/"
        },
        "outputId": "0da40a4d-99e7-41d9-ffd2-d8fa3f30dd19"
      },
      "outputs": [
        {
          "output_type": "execute_result",
          "data": {
            "text/plain": [
              "(torch.Size([1500]),\n",
              " tensor([    0.160,     0.047,     0.025,  ...,     0.000,     0.000,     0.000]))"
            ]
          },
          "metadata": {},
          "execution_count": 170
        }
      ],
      "source": [
        "weight  = gaussian(dist, 2.5)\n",
        "weight.shape, weight"
      ]
    },
    {
      "cell_type": "code",
      "execution_count": 170,
      "metadata": {
        "id": "EAVxsZQ6DTlo"
      },
      "outputs": [],
      "source": []
    },
    {
      "cell_type": "markdown",
      "metadata": {
        "id": "ey66ucQaDWpu"
      },
      "source": [
        "Now we want weighted avg of with  weight\n",
        "\n",
        "We need to mutip[y every axis of `X` with `weight`"
      ]
    },
    {
      "cell_type": "code",
      "execution_count": 171,
      "metadata": {
        "id": "X6xxCaqJqDmU",
        "colab": {
          "base_uri": "https://localhost:8080/"
        },
        "outputId": "7edb9fff-d962-40f6-b0bc-13f0f7a789bd"
      },
      "outputs": [
        {
          "output_type": "execute_result",
          "data": {
            "text/plain": [
              "(torch.Size([1500]),\n",
              " torch.Size([1500, 2]),\n",
              " torch.Size([1, 1500]),\n",
              " torch.Size([1500, 1]))"
            ]
          },
          "metadata": {},
          "execution_count": 171
        }
      ],
      "source": [
        "weight.shape, X.shape, weight[None].shape, weight[:,None].shape"
      ]
    },
    {
      "cell_type": "code",
      "execution_count": 172,
      "metadata": {
        "id": "-hRQ68iwDCci",
        "colab": {
          "base_uri": "https://localhost:8080/"
        },
        "outputId": "ba194856-bd96-4425-890b-68d453bc87ee"
      },
      "outputs": [
        {
          "output_type": "execute_result",
          "data": {
            "text/plain": [
              "(torch.Size([1, 1500]), torch.Size([1500, 1]))"
            ]
          },
          "metadata": {},
          "execution_count": 172
        }
      ],
      "source": [
        "weight[None].shape, weight[:,None].shape"
      ]
    },
    {
      "cell_type": "code",
      "execution_count": 173,
      "metadata": {
        "id": "UfHVUc5bDDcz",
        "colab": {
          "base_uri": "https://localhost:8080/"
        },
        "outputId": "c0acc11a-713c-4233-830a-b676f703c83e"
      },
      "outputs": [
        {
          "output_type": "execute_result",
          "data": {
            "text/plain": [
              "torch.Size([1500, 2])"
            ]
          },
          "metadata": {},
          "execution_count": 173
        }
      ],
      "source": [
        "(X * weight[:,None] ).shape # because we want to multiuply `weight` with each column of X, so [:,None] format"
      ]
    },
    {
      "cell_type": "code",
      "execution_count": 174,
      "metadata": {
        "id": "4tx242GuDDez"
      },
      "outputs": [],
      "source": [
        "# (X * weight ).shape  # wont work because things are compatible if  they are equal or one of them is 1"
      ]
    },
    {
      "cell_type": "markdown",
      "metadata": {
        "id": "9cze9b5mGSos"
      },
      "source": [
        "#### Compatibility in matrix multiplication if :\n",
        "* they are equal\n",
        "* one of them is 1"
      ]
    },
    {
      "cell_type": "code",
      "execution_count": 175,
      "metadata": {
        "id": "3elibiP8DDhd"
      },
      "outputs": [],
      "source": [
        "def one_update(X):\n",
        "  for i,x in enumerate(X):\n",
        "    dist = torch.sqrt(((x-X)**2).sum(1))\n",
        "    weight = gaussian(dist, 2.5)\n",
        "    #weight= tri(dist,8)\n",
        "    X[i] = (weight[:,None]*X).sum(0)/weight.sum()\n"
      ]
    },
    {
      "cell_type": "code",
      "execution_count": 176,
      "metadata": {
        "id": "mRNsoJzSDDkO"
      },
      "outputs": [],
      "source": [
        "def meanshift(data):\n",
        "  X=data.clone()\n",
        "  for it in range(5): one_update(X)  # do update on data\n",
        "  return X\n"
      ]
    },
    {
      "cell_type": "code",
      "execution_count": 177,
      "metadata": {
        "id": "I6AFXwOmDDmX",
        "colab": {
          "base_uri": "https://localhost:8080/"
        },
        "outputId": "953030df-99a2-4812-dd5a-053170429011"
      },
      "outputs": [
        {
          "output_type": "stream",
          "name": "stdout",
          "text": [
            "CPU times: user 1.38 s, sys: 2.38 ms, total: 1.38 s\n",
            "Wall time: 1.38 s\n"
          ]
        }
      ],
      "source": [
        "%time X=meanshift(data)"
      ]
    },
    {
      "cell_type": "code",
      "execution_count": 178,
      "metadata": {
        "id": "0WnBJHuoDDoS",
        "colab": {
          "base_uri": "https://localhost:8080/",
          "height": 430
        },
        "outputId": "739c47e6-b707-45ad-d289-30bae4cab5a9"
      },
      "outputs": [
        {
          "output_type": "display_data",
          "data": {
            "text/plain": [
              "<Figure size 640x480 with 1 Axes>"
            ],
            "image/png": "[encoded data removed]"
          },
          "metadata": {}
        }
      ],
      "source": [
        "plot_data(centroids+2, X, n_samples)"
      ]
    },
    {
      "cell_type": "code",
      "execution_count": 179,
      "metadata": {
        "id": "NUYv3HBAIFe7",
        "colab": {
          "base_uri": "https://localhost:8080/",
          "height": 577
        },
        "outputId": "f8d2b74e-d58f-4274-8b8a-ae7fb801941b"
      },
      "outputs": [
        {
          "output_type": "execute_result",
          "data": {
            "text/plain": [
              "<IPython.core.display.HTML object>"
            ],
            "text/html": [
              "\n",
              "<link rel=\"stylesheet\"\n",
              "href=\"https://maxcdn.bootstrapcdn.com/font-awesome/4.4.0/css/font-awesome.min.css\">\n",
              "<script language=\"javascript\">\n",
              "  function isInternetExplorer() {\n",
              "    ua = navigator.userAgent;\n",
              "    /* MSIE used to detect old browsers and Trident used to newer ones*/\n",
              "    return ua.indexOf(\"MSIE \") > -1 || ua.indexOf(\"Trident/\") > -1;\n",
              "  }\n",
              "\n",
              "  /* Define the Animation class */\n",
              "  function Animation(frames, img_id, slider_id, interval, loop_select_id){\n",
              "    this.img_id = img_id;\n",
              "    this.slider_id = slider_id;\n",
              "    this.loop_select_id = loop_select_id;\n",
              "    this.interval = interval;\n",
              "    this.current_frame = 0;\n",
              "    this.direction = 0;\n",
              "    this.timer = null;\n",
              "    this.frames = new Array(frames.length);\n",
              "\n",
              "    for (var i=0; i<frames.length; i++)\n",
              "    {\n",
              "     this.frames[i] = new Image();\n",
              "     this.frames[i].src = frames[i];\n",
              "    }\n",
              "    var slider = document.getElementById(this.slider_id);\n",
              "    slider.max = this.frames.length - 1;\n",
              "    if (isInternetExplorer()) {\n",
              "        // switch from oninput to onchange because IE <= 11 does not conform\n",
              "        // with W3C specification. It ignores oninput and onchange behaves\n",
              "        // like oninput. In contrast, Microsoft Edge behaves correctly.\n",
              "        slider.setAttribute('onchange', slider.getAttribute('oninput'));\n",
              "        slider.setAttribute('oninput', null);\n",
              "    }\n",
              "    this.set_frame(this.current_frame);\n",
              "  }\n",
              "\n",
              "  Animation.prototype.get_loop_state = function(){\n",
              "    var button_group = document[this.loop_select_id].state;\n",
              "    for (var i = 0; i < button_group.length; i++) {\n",
              "        var button = button_group[i];\n",
              "        if (button.checked) {\n",
              "            return button.value;\n",
              "        }\n",
              "    }\n",
              "    return undefined;\n",
              "  }\n",
              "\n",
              "  Animation.prototype.set_frame = function(frame){\n",
              "    this.current_frame = frame;\n",
              "    document.getElementById(this.img_id).src =\n",
              "            this.frames[this.current_frame].src;\n",
              "    document.getElementById(this.slider_id).value = this.current_frame;\n",
              "  }\n",
              "\n",
              "  Animation.prototype.next_frame = function()\n",
              "  {\n",
              "    this.set_frame(Math.min(this.frames.length - 1, this.current_frame + 1));\n",
              "  }\n",
              "\n",
              "  Animation.prototype.previous_frame = function()\n",
              "  {\n",
              "    this.set_frame(Math.max(0, this.current_frame - 1));\n",
              "  }\n",
              "\n",
              "  Animation.prototype.first_frame = function()\n",
              "  {\n",
              "    this.set_frame(0);\n",
              "  }\n",
              "\n",
              "  Animation.prototype.last_frame = function()\n",
              "  {\n",
              "    this.set_frame(this.frames.length - 1);\n",
              "  }\n",
              "\n",
              "  Animation.prototype.slower = function()\n",
              "  {\n",
              "    this.interval /= 0.7;\n",
              "    if(this.direction > 0){this.play_animation();}\n",
              "    else if(this.direction < 0){this.reverse_animation();}\n",
              "  }\n",
              "\n",
              "  Animation.prototype.faster = function()\n",
              "  {\n",
              "    this.interval *= 0.7;\n",
              "    if(this.direction > 0){this.play_animation();}\n",
              "    else if(this.direction < 0){this.reverse_animation();}\n",
              "  }\n",
              "\n",
              "  Animation.prototype.anim_step_forward = function()\n",
              "  {\n",
              "    this.current_frame += 1;\n",
              "    if(this.current_frame < this.frames.length){\n",
              "      this.set_frame(this.current_frame);\n",
              "    }else{\n",
              "      var loop_state = this.get_loop_state();\n",
              "      if(loop_state == \"loop\"){\n",
              "        this.first_frame();\n",
              "      }else if(loop_state == \"reflect\"){\n",
              "        this.last_frame();\n",
              "        this.reverse_animation();\n",
              "      }else{\n",
              "        this.pause_animation();\n",
              "        this.last_frame();\n",
              "      }\n",
              "    }\n",
              "  }\n",
              "\n",
              "  Animation.prototype.anim_step_reverse = function()\n",
              "  {\n",
              "    this.current_frame -= 1;\n",
              "    if(this.current_frame >= 0){\n",
              "      this.set_frame(this.current_frame);\n",
              "    }else{\n",
              "      var loop_state = this.get_loop_state();\n",
              "      if(loop_state == \"loop\"){\n",
              "        this.last_frame();\n",
              "      }else if(loop_state == \"reflect\"){\n",
              "        this.first_frame();\n",
              "        this.play_animation();\n",
              "      }else{\n",
              "        this.pause_animation();\n",
              "        this.first_frame();\n",
              "      }\n",
              "    }\n",
              "  }\n",
              "\n",
              "  Animation.prototype.pause_animation = function()\n",
              "  {\n",
              "    this.direction = 0;\n",
              "    if (this.timer){\n",
              "      clearInterval(this.timer);\n",
              "      this.timer = null;\n",
              "    }\n",
              "  }\n",
              "\n",
              "  Animation.prototype.play_animation = function()\n",
              "  {\n",
              "    this.pause_animation();\n",
              "    this.direction = 1;\n",
              "    var t = this;\n",
              "    if (!this.timer) this.timer = setInterval(function() {\n",
              "        t.anim_step_forward();\n",
              "    }, this.interval);\n",
              "  }\n",
              "\n",
              "  Animation.prototype.reverse_animation = function()\n",
              "  {\n",
              "    this.pause_animation();\n",
              "    this.direction = -1;\n",
              "    var t = this;\n",
              "    if (!this.timer) this.timer = setInterval(function() {\n",
              "        t.anim_step_reverse();\n",
              "    }, this.interval);\n",
              "  }\n",
              "</script>\n",
              "\n",
              "<style>\n",
              ".animation {\n",
              "    display: inline-block;\n",
              "    text-align: center;\n",
              "}\n",
              "input[type=range].anim-slider {\n",
              "    width: 374px;\n",
              "    margin-left: auto;\n",
              "    margin-right: auto;\n",
              "}\n",
              ".anim-buttons {\n",
              "    margin: 8px 0px;\n",
              "}\n",
              ".anim-buttons button {\n",
              "    padding: 0;\n",
              "    width: 36px;\n",
              "}\n",
              ".anim-state label {\n",
              "    margin-right: 8px;\n",
              "}\n",
              ".anim-state input {\n",
              "    margin: 0;\n",
              "    vertical-align: middle;\n",
              "}\n",
              "</style>\n",
              "\n",
              "<div class=\"animation\">\n",
              "  <img id=\"_anim_imgc0c39a4ec0044faead60a2a87fa59f9e\">\n",
              "  <div class=\"anim-controls\">\n",
              "    <input id=\"_anim_sliderc0c39a4ec0044faead60a2a87fa59f9e\" type=\"range\" class=\"anim-slider\"\n",
              "           name=\"points\" min=\"0\" max=\"1\" step=\"1\" value=\"0\"\n",
              "           oninput=\"animc0c39a4ec0044faead60a2a87fa59f9e.set_frame(parseInt(this.value));\">\n",
              "    <div class=\"anim-buttons\">\n",
              "      <button title=\"Decrease speed\" aria-label=\"Decrease speed\" onclick=\"animc0c39a4ec0044faead60a2a87fa59f9e.slower()\">\n",
              "          <i class=\"fa fa-minus\"></i></button>\n",
              "      <button title=\"First frame\" aria-label=\"First frame\" onclick=\"animc0c39a4ec0044faead60a2a87fa59f9e.first_frame()\">\n",
              "        <i class=\"fa fa-fast-backward\"></i></button>\n",
              "      <button title=\"Previous frame\" aria-label=\"Previous frame\" onclick=\"animc0c39a4ec0044faead60a2a87fa59f9e.previous_frame()\">\n",
              "          <i class=\"fa fa-step-backward\"></i></button>\n",
              "      <button title=\"Play backwards\" aria-label=\"Play backwards\" onclick=\"animc0c39a4ec0044faead60a2a87fa59f9e.reverse_animation()\">\n",
              "          <i class=\"fa fa-play fa-flip-horizontal\"></i></button>\n",
              "      <button title=\"Pause\" aria-label=\"Pause\" onclick=\"animc0c39a4ec0044faead60a2a87fa59f9e.pause_animation()\">\n",
              "          <i class=\"fa fa-pause\"></i></button>\n",
              "      <button title=\"Play\" aria-label=\"Play\" onclick=\"animc0c39a4ec0044faead60a2a87fa59f9e.play_animation()\">\n",
              "          <i class=\"fa fa-play\"></i></button>\n",
              "      <button title=\"Next frame\" aria-label=\"Next frame\" onclick=\"animc0c39a4ec0044faead60a2a87fa59f9e.next_frame()\">\n",
              "          <i class=\"fa fa-step-forward\"></i></button>\n",
              "      <button title=\"Last frame\" aria-label=\"Last frame\" onclick=\"animc0c39a4ec0044faead60a2a87fa59f9e.last_frame()\">\n",
              "          <i class=\"fa fa-fast-forward\"></i></button>\n",
              "      <button title=\"Increase speed\" aria-label=\"Increase speed\" onclick=\"animc0c39a4ec0044faead60a2a87fa59f9e.faster()\">\n",
              "          <i class=\"fa fa-plus\"></i></button>\n",
              "    </div>\n",
              "    <form title=\"Repetition mode\" aria-label=\"Repetition mode\" action=\"#n\" name=\"_anim_loop_selectc0c39a4ec0044faead60a2a87fa59f9e\"\n",
              "          class=\"anim-state\">\n",
              "      <input type=\"radio\" name=\"state\" value=\"once\" id=\"_anim_radio1_c0c39a4ec0044faead60a2a87fa59f9e\"\n",
              "             checked>\n",
              "      <label for=\"_anim_radio1_c0c39a4ec0044faead60a2a87fa59f9e\">Once</label>\n",
              "      <input type=\"radio\" name=\"state\" value=\"loop\" id=\"_anim_radio2_c0c39a4ec0044faead60a2a87fa59f9e\"\n",
              "             >\n",
              "      <label for=\"_anim_radio2_c0c39a4ec0044faead60a2a87fa59f9e\">Loop</label>\n",
              "      <input type=\"radio\" name=\"state\" value=\"reflect\" id=\"_anim_radio3_c0c39a4ec0044faead60a2a87fa59f9e\"\n",
              "             >\n",
              "      <label for=\"_anim_radio3_c0c39a4ec0044faead60a2a87fa59f9e\">Reflect</label>\n",
              "    </form>\n",
              "  </div>\n",
              "</div>\n",
              "\n",
              "\n",
              "<script language=\"javascript\">\n",
              "  /* Instantiate the Animation class. */\n",
              "  /* The IDs given should match those used in the template above. */\n",
              "  (function() {\n",
              "    var img_id = \"_anim_imgc0c39a4ec0044faead60a2a87fa59f9e\";\n",
              "    var slider_id = \"_anim_sliderc0c39a4ec0044faead60a2a87fa59f9e\";\n",
              "    var loop_select_id = \"_anim_loop_selectc0c39a4ec0044faead60a2a87fa59f9e\";\n",
              "    var frames = new Array(5);\n",
              "    \n",
              "  frames[0] = \"data:image/png;base64,iVBORw0KGgoAAAANSUhEUgAAAoAAAAHgCAYAAAA10dzkAAAAOXRFWHRTb2Z0d2FyZQBNYXRwbG90\\\n",
              "bGliIHZlcnNpb24zLjcuMSwgaHR0cHM6Ly9tYXRwbG90bGliLm9yZy/bCgiHAAAACXBIWXMAAA9h\\\n",
              "AAAPYQGoP6dpAAATmUlEQVR4nO3dsW8baX7H4a8Xbi1VbBZnIGVo6P6JtEmhLuy0nQJIqtKkI9ml\\\n",
              "SUUSiDptt+lcJG3+iSPElAEOcMOKcr+8Qsc5ihJla+n1iPw9T8XhjOgpDM6H77wz82a5XC4DAEAZ\\\n",
              "P7S9AwAAfF8CEACgGAEIAFCMAAQAKEYAAgAUIwABAIoRgAAAxQhAAIBiBCAAQDECEACgGAEIAFCM\\\n",
              "AAQAKEYAAgAUIwABAIoRgAAAxQhAAIBiBCAAQDECEACgGAEIAFCMAAQAKEYAAgAUIwABAIoRgAAA\\\n",
              "xQhAAIBiBCAAQDECEACgGAEIAFCMAAQAKEYAAgAUIwABAIoRgAAAxQhAAIBiBCAAQDECEACgGAEI\\\n",
              "AFCMAAQAKEYAAgAUIwABAIoRgAAAxQhAAIBiBCAAQDECEACgGAEIAFCMAAQAKEYAAgAUIwABAIoR\\\n",
              "gAAAxQhAAIBiBCAAQDECEACgGAEIAFCMAAQAKEYAAgAUIwABAIoRgAAAxQhAAIBi3ra9A/vs119/\\\n",
              "zadPn/Lu3bu8efOm7d0BAL7CcrnM58+f8+OPP+aHH2qOhQnAHXz69Cnv379vezcAgN/gz3/+c/7w\\\n",
              "hz+0vRutEIA7ePfuXZL7/0BHR0ct7w0A8DXu7u7y/v375jhekQDcweq079HRkQAEgD1TefpWzRPf\\\n",
              "AACFCUAAgGIEIABAMQIQAKAYAQh/NRgMMplMnt1mMplkMBh8nx0CgN+Jq4Ah9/E3HA6b5YuLi0fb\\\n",
              "TCaTXF5ePvgbANhHRgApbzP+Li8vH40EbsbfcDgUgADsLQFIaZvxt7IegZvxtyICAdhXb5bL5bLt\\\n",
              "ndhXd3d3OT4+zmKxcCPoPbQt/tZ1u93MZrNnt+n3+0IQYI84fhsBpLBOp7N13UlOkqSJv9XySz8H\\\n",
              "AF4jAUhZFxcXGY/Hj94/y1lGGaWXXpKkl15GGeUsZ4+2HY/HT14wAgCvmVPAOzCEfBjW5/id5CSj\\\n",
              "jJp1iyxynONm+SpXmWaaRPwB7CvHbyOA8GAkcJpprnPdrFuPv+tciz8ADoIRwB34BXFYPnz40Mz5\\\n",
              "+5iPD+JvkUVOc5rk/sKQ29vbNnYRgG/A8dsIICS5Pw28ir9eeg/iL7kfCVzNCZzNZl98YggAvGYC\\\n",
              "kPI25wCe57xZt8iieX2e8+Zq4KduFg0A+0IAUtrmTZ6nmeYmN0nu5/yd5rSZE3iTm2YOYCICAdhf\\\n",
              "5gDuwByC/bbtCR/J/UjgeuxtLq9zQQjAfnH8NgJIYfP5fOu6Vex1u90Hyy/9HAB4jQQgZQ0Gg/T7\\\n",
              "/a3rx+Nxbm9vn7xZ9IrHwAGwjwQgpW2LwPXTutueGCL+ANhXApDyNiPwqTl9mxEo/gDYZ2/b3gF4\\\n",
              "DVYx1+l0tl7QsXp/Pp+LP2CvDQaDZ7/vkvsL5XzfHS4BCH/1NV9yrvYF9t1gMMhwOGyWn/pe27xL\\\n",
              "ggg8PAKQwzNYe4rHYLF9O4BiNuNvFXnrEbgZf6vtReBhMQcQAArYjL+V9Zvab7s/6nA4FIAHxggg\\\n",
              "ABy4bfG3sorA1TPRn2Ik8LAIQA6P074AD3Q6na3rVk86WsXfc08+eu5z2C9OAQPAgdt2P9OznGWU\\\n",
              "UXrpJUl66WWUUc5y9mhbj708LJ4FvAPPEgRgn6zP8TvJSUYZNesWWeQ4f7uI7ipXzUjgocWf47cR\\\n",
              "QAAoY30kcJpprnPdrFuPv+tcH2z8cc8I4A78ggBgH3348KGZ8/cxHx/E3yKLnOY0SdLtdnN7e9vG\\\n",
              "Lv6uHL+NAAJAKetX+/bSexB/yf1I4GpO4Gw2a24Rw2ERgABQxOYcwPOcN+sW+dsdFM5znpOcJHl4\\\n",
              "n0AOhwAEgAI2b/I8zTQ3uUlyP+fvNKfNnMCb3Dy4FYwIPDzmAO7AHAIA9sG2J3wkj+/799x9AA/l\\\n",
              "ghDHbyOAAHDw5vP51nWr2Ot2uw+WX/o57BcBCAAHbjAYpN/vb10/Ho9ze3v75M2iV/r9vsfAHRAB\\\n",
              "CAAFbIvA9dO6254YIv4OjwAEgCI2I/CpOX2bESj+DtPbtncAAPh+VjHX6XS2XtCxen8+n4u/A+Uq\\\n",
              "4B24igiAtv3dv/1P8/r///0fW9yT/eH47RQwAEA5AhAAoBhzAAFgjznty29hBBAAoBgBCABQjAAE\\\n",
              "AChGAAIAFCMAAQCKEYAAAMUIQACAYgQgAEAxAhAAoBgBCABQjAAEAChGAAIAFCMAAQCKEYAAAMUI\\\n",
              "QACAYgQgAEAxAhAAoBgBCABQjAAEAChGAAIAFCMAAQCKEYAAAMUIQACAYgQgAEAxAhAAoBgBeEAG\\\n",
              "g0Emk8mz20wmkwwGg++zQwDAq/S27R3g2xgMBhkOh83yxcXFo20mk0kuLy8f/A0AUI8RwAOwGX+X\\\n",
              "l5ePRgI34284HApAAChKAO65zfhbWY/AzfhbEYEAUNOb5XK5bHsn9tXd3V2Oj4+zWCxydHT03f/9\\\n",
              "bfG3rtvtZjabPbtNv98XggCU0fbx+zUwArjHOp3O1nUnOUmSJv5Wyy/9HADg8AjAPXZxcZHxePzo\\\n",
              "/bOcZZRReuklSXrpZZRRznL2aNvxePzkBSMAwOFyCngHr2UIeX2O30lOMsqoWbfIIsc5bpavcpVp\\\n",
              "pknEHwA1vZbjd5uMAB6A9ZHAaaa5znWzbj3+rnMt/gAAI4C7eG2/ID58+NDM+fuYjw/ib5FFTnOa\\\n",
              "5P7CkNvb2zZ2EQBa99qO320wAnggJpNJE3+99B7EX3I/EriaEzibzb74xBAA4HAJwAOwOQfwPOfN\\\n",
              "ukUWzevznDdXAz91s2gAoAYBuOc2b/I8zTQ3uUlyP+fvNKfNnMCb3DRzABMRCABVmQO4g7bnEGx7\\\n",
              "wkdyPxK4Hnuby+tcEAJAJW0fv18DI4B7bD6fb123ir1ut/tg+aWfAwAcHgG4xwaDQfr9/tb14/E4\\\n",
              "t7e3T94sesVj4ACgHgG457ZF4Ppp3W1PDBF/AFCTADwAmxH41Jy+zQgUfwBQ19u2d4BvYxVznU5n\\\n",
              "6wUdq/fn87n4A4DCXAW8A1cRAcD+cfw2Avhqzf6+27zu/t+sxT0BAA6NOYAAAMUIQACAYpwCfqWc\\\n",
              "9gUAfi9GAAEAihGAAADFCEAAgGIEIABAMQIQAKAYAQgAUIwABAAoRgACABQjAAEAihGAAADFCEAA\\\n",
              "gGIEIABAMQIQAKAYAQgAUIwABAAoRgACABQjAAEAihGAAADFCEAAgGIEIABAMQIQAKAYAQgAUIwA\\\n",
              "BAAoRgACABQjAAEAihGAAADFCEAAgGIEIABAMQIQAKAYAQgAUIwABAAoRgACABQjAAEAihGAAADF\\\n",
              "CEAAgGIEIABAMQIQAKAYAQgAUIwABAAoRgACABQjAAEAihGAAADFCEAAgGIEIABAMQIQAKAYAQgA\\\n",
              "UIwABAAoRgACABQjAAEAihGAAADFCEAAgGIEIABAMQIQnjEYDDKZTJ7dZjKZZDAYfJ8dAoBv4G3b\\\n",
              "OwCv1WAwyHA4bJYvLi4ebTOZTHJ5efngbwDgtTMCCE/YjL/Ly8tHI4Gb8TccDgUgAHtBAMKGzfhb\\\n",
              "WY/AzfhbEYEAX880m/Y4BQxrtsXfyioCZ7PZ1m1Wf+8LC2A702zaZQQQ1nQ6na3rTnKSJE38rZZf\\\n",
              "+jkA1Zlm0z4BCGsuLi4yHo8fvX+Ws4wySi+9JEkvvYwyylnOHm07Ho+f/CULgGk2r8Wb5XK5bHsn\\\n",
              "9tXd3V2Oj4+zWCxydHTU9u7wDa1/+ZzkJKOMmnWLLHKc42b5KleZZppE/AE850vTbJKk2+0+O80m\\\n",
              "Sfr9/k4h6PhtBBCetD4SOM0017lu1q3H33WuxR/AVzLN5vUQgLDFxcVFut1ukuSX/JJFFg/WL7LI\\\n",
              "L/klyf0vVvEH8DzTbF4PAQhbrF/t20vvwchfcj8SuPqyms1mX7yVAQCPI/AkJ/kpPyVJznOej/mY\\\n",
              "85wnSX7KTw9GAsXftyMA4QmbcwBXX0ZJHowEnue8+XJ66io2AB4zzaZ9AhA2bF59Ns00N7lJcv9l\\\n",
              "dJrT5svqJjfNl1MiAgG+lmk27RKAsGbbrQd+zs+5ylXzZfRLfslVrvJzfn60rQgE+DLTbNolAGHN\\\n",
              "fD7fum410rf6xbo+8veSzwGozjSb9glAWDMYDNLv97euH4/Hub29ffIqtpVd708FcMhMs3kd3Ah6\\\n",
              "B24kebieulnp5gTkp04Xiz+A7bZNs0nuRwLXY29zed2uF4Q4fhsBhCdtjgQ+9WWzeSsD8QfwPNNs\\\n",
              "Xo+3be8AvFarmOt0Olt/aa7en8/n4g/gC1bfk9seB7f6sf3cSKEf29+GU8A7MIQMAC/X9jQbx28j\\\n",
              "gBTxx5//2Lz+09mfWtwTADZHArdNs0nSRKCRv29LAAIA351pNu0SgADATv7jn/+pef2v//XfX/13\\\n",
              "XxN1ngDy+xCAlOC0LwD8jdvAAAAUYwQQANjJS0778joYAQQAKEYAAgAUIwABAIoRgAAAxQhAAIBi\\\n",
              "BCAAQDECEACgGAEIAFCMAAQAKEYAAgAUIwABAIoRgAAAxQhAAIBiBCAAQDECEACgGAEIAFCMAAQA\\\n",
              "KEYAAgAUIwABAIoRgAAAxQhAAIBiBCAAQDECEACgGAEIAFCMAAQAKEYAAgAUIwABAIoRgAAAxQhA\\\n",
              "AIBiBCAAQDECEACgGAEIAFCMAAQAKEYAAgAUIwABAIoRgAAAxQhAAIBiBCAAQDECEACgGAEIAFCM\\\n",
              "AAQAKEYAAgAUIwABAIoRgAAAxQhAAIBiBCAAQDECEACgGAEIAFCMAAQAKEYAAgAUIwABAIoRgAAA\\\n",
              "xQhAAIBiBCAAQDECEACgGAEIAFCMAAQAKEYAAgAUIwABAIoRgAAAxQhAAIBiBCAAQDECEACgGAEI\\\n",
              "AFCMAAQAKEYAAgAUIwABAIoRgAAAxQhAAIBiBCAAQDECEACgGAEIAFCMAAQAKEYAAgAUIwABAIoR\\\n",
              "gAAAxQhAAIBiBCAAQDECEACgGAEIAFCMAAQAKEYAAgAUIwABAIoRgAAAxQhAAIBiBCAAQDECEACg\\\n",
              "GAEIAFCMAAQAKEYAAgAUIwABAIoRgAAAxQhAAIBiBCAAQDECEACgGAEIAFCMAAQAKEYAAgAUIwAB\\\n",
              "AIoRgAAAxQhAAIBiBCAAQDECEACgGAEIAFCMAAQAKEYAAgAUIwABAIoRgAAAxQhAAIBiBCAAQDEC\\\n",
              "EACgGAEIAFCMAAQAKEYAAgAUIwABAIoRgAAAxQhAAIBiBCAAQDECEACgGAEIAFCMAAQAKEYAAgAU\\\n",
              "IwABAIoRgAAAxQhAAIBiBCAAQDECEACgGAEIAFCMAAQAKEYAAgAUIwABAIoRgAAAxQhAAIBiBCAA\\\n",
              "QDECEACgGAEIAFCMAAQAKEYAAgAUIwABAIoRgAAAxQhAAIBiBCAAQDECEACgGAEIAFCMAAQAKEYA\\\n",
              "AgAUIwABAIoRgAAAxQhAAIBiBCAAQDECEACgGAEIAFCMAAQAKEYAAgAUIwABAIoRgAAAxQhAAIBi\\\n",
              "BCAAQDECEABo3WAwyGQyeXabyWSSwWDwfXbowL1tewcAgNoGg0GGw2GzfHFx8WibyWSSy8vLB3/D\\\n",
              "b2cEEABozWb8XV5ePhoJ3Iy/4XAoAHckAAGAVmzG38p6BG7G34oI3M2b5XK5bHsn9tXd3V2Oj4+z\\\n",
              "WCxydHTU9u4AwN7YFn/rut1uZrPZs9v0+/0Xh6DjtxFAAKAFnU5n67qTnCRJE3+r5Zd+DtsJQADg\\\n",
              "u7u4uMh4PH70/lnOMsoovfSSJL30MsooZzl7tO14PH7yghG+zCngHRhCBoDdrM/xO8lJRhk16xZZ\\\n",
              "5DjHzfJVrjLNNMlu8ef4bQQQAGjR+kjgNNNc57pZtx5/17n+JvHHPSOAO/ALAgC+jQ8fPjRz/j7m\\\n",
              "44P4W2SR05wmub8w5Pb2dqd/y/HbCCAA0LLJZNLEXy+9B/GX3I8EruYEzmazLz4xhC8TgABAazbn\\\n",
              "AJ7nvFm3yKJ5fZ7z5mrgp24WzcsIQACgFZs3eZ5mmpvcJLmf83ea02ZO4E1umjmAiQjclTmAOzCH\\\n",
              "AAB+m21P+EjuRwLXY29zed1vuSDE8dsIIADQgvl8vnXdKva63e6D5Zd+DtsJQADguxsMBun3+1vX\\\n",
              "j8fj3N7ePnmz6JXf8hg47glAAKAV2yJw/bTutieGiL/dCEAAoDWbEfjUnL7NCBR/u3vb9g4AAIdl\\\n",
              "8i//27y++M9/+OL2q5jrdDpbL+hYvT+fz8XfNyAAAYDWfU3Uefzbt+MUMABAMUYAAYBv6mtO+9Iu\\\n",
              "I4AAAMUIQACAYgQgAEAxAhAAoBgBCABQjAAEAChGAAIAFCMAAQCKEYAAAMUIQACAYgQgAEAxAhAA\\\n",
              "oBgBCABQzNu2d2CfLZfLJMnd3V3LewIAfK3VcXt1HK9IAO7g8+fPSZL379+3vCcAwEt9/vw5x8fH\\\n",
              "be9GK94sK+fvjn799dd8+vQp7969y5s3b9reHQDgKyyXy3z+/Dk//vhjfvih5mw4AQgAUEzN7AUA\\\n",
              "KEwAAgAUIwABAIoRgAAAxQhAAIBiBCAAQDECEACgGAEIAFCMAAQAKEYAAgAUIwABAIoRgAAAxQhA\\\n",
              "AIBiBCAAQDECEACgGAEIAFCMAAQAKEYAAgAUIwABAIoRgAAAxQhAAIBiBCAAQDECEACgGAEIAFCM\\\n",
              "AAQAKEYAAgAUIwABAIoRgAAAxQhAAIBiBCAAQDECEACgGAEIAFCMAAQAKEYAAgAUIwABAIoRgAAA\\\n",
              "xQhAAIBiBCAAQDECEACgGAEIAFCMAAQAKEYAAgAUIwABAIoRgAAAxQhAAIBiBCAAQDECEACgGAEI\\\n",
              "AFCMAAQAKEYAAgAU8xembkzHWj6UDAAAAABJRU5ErkJggg==\\\n",
              "\"\n",
              "  frames[1] = \"data:image/png;base64,iVBORw0KGgoAAAANSUhEUgAAAoAAAAHgCAYAAAA10dzkAAAAOXRFWHRTb2Z0d2FyZQBNYXRwbG90\\\n",
              "bGliIHZlcnNpb24zLjcuMSwgaHR0cHM6Ly9tYXRwbG90bGliLm9yZy/bCgiHAAAACXBIWXMAAA9h\\\n",
              "AAAPYQGoP6dpAAATmUlEQVR4nO3dsW8baX7H4a8Xbi1VbBZnIGVo6P6JtEmhLuy0nQJIqtKkI9ml\\\n",
              "SUUSiDptt+lcJG3+iSPElAEOcMOKcr+8Qsc5ihJla+n1iPw9T8XhjOgpDM6H77wz82a5XC4DAEAZ\\\n",
              "P7S9AwAAfF8CEACgGAEIAFCMAAQAKEYAAgAUIwABAIoRgAAAxQhAAIBiBCAAQDECEACgGAEIAFCM\\\n",
              "AAQAKEYAAgAUIwABAIoRgAAAxQhAAIBiBCAAQDECEACgGAEIAFCMAAQAKEYAAgAUIwABAIoRgAAA\\\n",
              "xQhAAIBiBCAAQDECEACgGAEIAFCMAAQAKEYAAgAUIwABAIoRgAAAxQhAAIBiBCAAQDECEACgGAEI\\\n",
              "AFCMAAQAKEYAAgAUIwABAIoRgAAAxQhAAIBiBCAAQDECEACgGAEIAFCMAAQAKEYAAgAUIwABAIoR\\\n",
              "gAAAxQhAAIBiBCAAQDECEACgGAEIAFCMAAQAKEYAAgAUIwABAIoRgAAAxQhAAIBi3ra9A/vs119/\\\n",
              "zadPn/Lu3bu8efOm7d0BAL7CcrnM58+f8+OPP+aHH2qOhQnAHXz69Cnv379vezcAgN/gz3/+c/7w\\\n",
              "hz+0vRutEIA7ePfuXZL7/0BHR0ct7w0A8DXu7u7y/v375jhekQDcweq079HRkQAEgD1TefpWzRPf\\\n",
              "AACFCUAAgGIEIABAMQIQAKAYAQh/NRgMMplMnt1mMplkMBh8nx0CgN+Jq4Ah9/E3HA6b5YuLi0fb\\\n",
              "TCaTXF5ePvgbANhHRgApbzP+Li8vH40EbsbfcDgUgADsLQFIaZvxt7IegZvxtyICAdhXb5bL5bLt\\\n",
              "ndhXd3d3OT4+zmKxcCPoPbQt/tZ1u93MZrNnt+n3+0IQYI84fhsBpLBOp7N13UlOkqSJv9XySz8H\\\n",
              "AF4jAUhZFxcXGY/Hj94/y1lGGaWXXpKkl15GGeUsZ4+2HY/HT14wAgCvmVPAOzCEfBjW5/id5CSj\\\n",
              "jJp1iyxynONm+SpXmWaaRPwB7CvHbyOA8GAkcJpprnPdrFuPv+tciz8ADoIRwB34BXFYPnz40Mz5\\\n",
              "+5iPD+JvkUVOc5rk/sKQ29vbNnYRgG/A8dsIICS5Pw28ir9eeg/iL7kfCVzNCZzNZl98YggAvGYC\\\n",
              "kPI25wCe57xZt8iieX2e8+Zq4KduFg0A+0IAUtrmTZ6nmeYmN0nu5/yd5rSZE3iTm2YOYCICAdhf\\\n",
              "5gDuwByC/bbtCR/J/UjgeuxtLq9zQQjAfnH8NgJIYfP5fOu6Vex1u90Hyy/9HAB4jQQgZQ0Gg/T7\\\n",
              "/a3rx+Nxbm9vn7xZ9IrHwAGwjwQgpW2LwPXTutueGCL+ANhXApDyNiPwqTl9mxEo/gDYZ2/b3gF4\\\n",
              "DVYx1+l0tl7QsXp/Pp+LP2CvDQaDZ7/vkvsL5XzfHS4BCH/1NV9yrvYF9t1gMMhwOGyWn/pe27xL\\\n",
              "ggg8PAKQwzNYe4rHYLF9O4BiNuNvFXnrEbgZf6vtReBhMQcQAArYjL+V9Zvab7s/6nA4FIAHxggg\\\n",
              "ABy4bfG3sorA1TPRn2Ik8LAIQA6P074AD3Q6na3rVk86WsXfc08+eu5z2C9OAQPAgdt2P9OznGWU\\\n",
              "UXrpJUl66WWUUc5y9mhbj708LJ4FvAPPEgRgn6zP8TvJSUYZNesWWeQ4f7uI7ipXzUjgocWf47cR\\\n",
              "QAAoY30kcJpprnPdrFuPv+tcH2z8cc8I4A78ggBgH3348KGZ8/cxHx/E3yKLnOY0SdLtdnN7e9vG\\\n",
              "Lv6uHL+NAAJAKetX+/bSexB/yf1I4GpO4Gw2a24Rw2ERgABQxOYcwPOcN+sW+dsdFM5znpOcJHl4\\\n",
              "n0AOhwAEgAI2b/I8zTQ3uUlyP+fvNKfNnMCb3Dy4FYwIPDzmAO7AHAIA9sG2J3wkj+/799x9AA/l\\\n",
              "ghDHbyOAAHDw5vP51nWr2Ot2uw+WX/o57BcBCAAHbjAYpN/vb10/Ho9ze3v75M2iV/r9vsfAHRAB\\\n",
              "CAAFbIvA9dO6254YIv4OjwAEgCI2I/CpOX2bESj+DtPbtncAAPh+VjHX6XS2XtCxen8+n4u/A+Uq\\\n",
              "4B24igiAtv3dv/1P8/r///0fW9yT/eH47RQwAEA5AhAAoBhzAAFgjznty29hBBAAoBgBCABQjAAE\\\n",
              "AChGAAIAFCMAAQCKEYAAAMUIQACAYgQgAEAxAhAAoBgBCABQjAAEAChGAAIAFCMAAQCKEYAAAMUI\\\n",
              "QACAYgQgAEAxAhAAoBgBCABQjAAEAChGAAIAFCMAAQCKEYAAAMUIQACAYgQgAEAxAhAAoBgBeEAG\\\n",
              "g0Emk8mz20wmkwwGg++zQwDAq/S27R3g2xgMBhkOh83yxcXFo20mk0kuLy8f/A0AUI8RwAOwGX+X\\\n",
              "l5ePRgI34284HApAAChKAO65zfhbWY/AzfhbEYEAUNOb5XK5bHsn9tXd3V2Oj4+zWCxydHT03f/9\\\n",
              "bfG3rtvtZjabPbtNv98XggCU0fbx+zUwArjHOp3O1nUnOUmSJv5Wyy/9HADg8AjAPXZxcZHxePzo\\\n",
              "/bOcZZRReuklSXrpZZRRznL2aNvxePzkBSMAwOFyCngHr2UIeX2O30lOMsqoWbfIIsc5bpavcpVp\\\n",
              "pknEHwA1vZbjd5uMAB6A9ZHAaaa5znWzbj3+rnMt/gAAI4C7eG2/ID58+NDM+fuYjw/ib5FFTnOa\\\n",
              "5P7CkNvb2zZ2EQBa99qO320wAnggJpNJE3+99B7EX3I/EriaEzibzb74xBAA4HAJwAOwOQfwPOfN\\\n",
              "ukUWzevznDdXAz91s2gAoAYBuOc2b/I8zTQ3uUlyP+fvNKfNnMCb3DRzABMRCABVmQO4g7bnEGx7\\\n",
              "wkdyPxK4Hnuby+tcEAJAJW0fv18DI4B7bD6fb123ir1ut/tg+aWfAwAcHgG4xwaDQfr9/tb14/E4\\\n",
              "t7e3T94sesVj4ACgHgG457ZF4Ppp3W1PDBF/AFCTADwAmxH41Jy+zQgUfwBQ19u2d4BvYxVznU5n\\\n",
              "6wUdq/fn87n4A4DCXAW8A1cRAcD+cfw2Avhqzf6+27zu/t+sxT0BAA6NOYAAAMUIQACAYpwCfqWc\\\n",
              "9gUAfi9GAAEAihGAAADFCEAAgGIEIABAMQIQAKAYAQgAUIwABAAoRgACABQjAAEAihGAAADFCEAA\\\n",
              "gGIEIABAMQIQAKAYAQgAUIwABAAoRgACABQjAAEAihGAAADFCEAAgGIEIABAMQIQAKAYAQgAUIwA\\\n",
              "BAAoRgACABQjAAEAihGAAADFCEAAgGIEIABAMQIQAKAYAQgAUIwABAAoRgACABQjAAEAihGAAADF\\\n",
              "CEAAgGIEIABAMQIQAKAYAQgAUIwABAAoRgACABQjAAEAihGAAADFCEAAgGIEIABAMQIQAKAYAQgA\\\n",
              "UIwABAAoRgACABQjAAEAihGAAADFCEAAgGIEIABAMQIQnjEYDDKZTJ7dZjKZZDAYfJ8dAoBv4G3b\\\n",
              "OwCv1WAwyHA4bJYvLi4ebTOZTHJ5efngbwDgtTMCCE/YjL/Ly8tHI4Gb8TccDgUgAHtBAMKGzfhb\\\n",
              "WY/AzfhbEYEAX880m/Y4BQxrtsXfyioCZ7PZ1m1Wf+8LC2A702zaZQQQ1nQ6na3rTnKSJE38rZZf\\\n",
              "+jkA1Zlm0z4BCGsuLi4yHo8fvX+Ws4wySi+9JEkvvYwyylnOHm07Ho+f/CULgGk2r8Wb5XK5bHsn\\\n",
              "9tXd3V2Oj4+zWCxydHTU9u7wDa1/+ZzkJKOMmnWLLHKc42b5KleZZppE/AE850vTbJKk2+0+O80m\\\n",
              "Sfr9/k4h6PhtBBCetD4SOM0017lu1q3H33WuxR/AVzLN5vUQgLDFxcVFut1ukuSX/JJFFg/WL7LI\\\n",
              "L/klyf0vVvEH8DzTbF4PAQhbrF/t20vvwchfcj8SuPqyms1mX7yVAQCPI/AkJ/kpPyVJznOej/mY\\\n",
              "85wnSX7KTw9GAsXftyMA4QmbcwBXX0ZJHowEnue8+XJ66io2AB4zzaZ9AhA2bF59Ns00N7lJcv9l\\\n",
              "dJrT5svqJjfNl1MiAgG+lmk27RKAsGbbrQd+zs+5ylXzZfRLfslVrvJzfn60rQgE+DLTbNolAGHN\\\n",
              "fD7fum410rf6xbo+8veSzwGozjSb9glAWDMYDNLv97euH4/Hub29ffIqtpVd708FcMhMs3kd3Ah6\\\n",
              "B24kebieulnp5gTkp04Xiz+A7bZNs0nuRwLXY29zed2uF4Q4fhsBhCdtjgQ+9WWzeSsD8QfwPNNs\\\n",
              "Xo+3be8AvFarmOt0Olt/aa7en8/n4g/gC1bfk9seB7f6sf3cSKEf29+GU8A7MIQMAC/X9jQbx28j\\\n",
              "gBTxx5//2Lz+09mfWtwTADZHArdNs0nSRKCRv29LAAIA351pNu0SgADATv7jn/+pef2v//XfX/13\\\n",
              "XxN1ngDy+xCAlOC0LwD8jdvAAAAUYwQQANjJS0778joYAQQAKEYAAgAUIwABAIoRgAAAxQhAAIBi\\\n",
              "BCAAQDECEACgGAEIAFCMAAQAKEYAAgAUIwABAIoRgAAAxQhAAIBiBCAAQDECEACgGAEIAFCMAAQA\\\n",
              "KEYAAgAUIwABAIoRgAAAxQhAAIBiBCAAQDECEACgGAEIAFCMAAQAKEYAAgAUIwABAIoRgAAAxQhA\\\n",
              "AIBiBCAAQDECEACgGAEIAFCMAAQAKEYAAgAUIwABAIoRgAAAxQhAAIBiBCAAQDECEACgGAEIAFCM\\\n",
              "AAQAKEYAAgAUIwABAIoRgAAAxQhAAIBiBCAAQDECEACgGAEIAFCMAAQAKEYAAgAUIwABAIoRgAAA\\\n",
              "xQhAAIBiBCAAQDECEACgGAEIAFCMAAQAKEYAAgAUIwABAIoRgAAAxQhAAIBiBCAAQDECEACgGAEI\\\n",
              "AFCMAAQAKEYAAgAUIwABAIoRgAAAxQhAAIBiBCAAQDECEACgGAEIAFCMAAQAKEYAAgAUIwABAIoR\\\n",
              "gAAAxQhAAIBiBCAAQDECEACgGAEIAFCMAAQAKEYAAgAUIwABAIoRgAAAxQhAAIBiBCAAQDECEACg\\\n",
              "GAEIAFCMAAQAKEYAAgAUIwABAIoRgAAAxQhAAIBiBCAAQDECEACgGAEIAFCMAAQAKEYAAgAUIwAB\\\n",
              "AIoRgAAAxQhAAIBiBCAAQDECEACgGAEIAFCMAAQAKEYAAgAUIwABAIoRgAAAxQhAAIBiBCAAQDEC\\\n",
              "EACgGAEIAFCMAAQAKEYAAgAUIwABAIoRgAAAxQhAAIBiBCAAQDECEACgGAEIAFCMAAQAKEYAAgAU\\\n",
              "IwABAIoRgAAAxQhAAIBiBCAAQDECEACgGAEIAFCMAAQAKEYAAgAUIwABAIoRgAAAxQhAAIBiBCAA\\\n",
              "QDECEACgGAEIAFCMAAQAKEYAAgAUIwABAIoRgAAAxQhAAIBiBCAAQDECEACgGAEIAFCMAAQAKEYA\\\n",
              "AgAUIwABAIoRgAAAxQhAAIBiBCAAQDECEACgGAEIAFCMAAQAKEYAAgAUIwABAIoRgAAAxQhAAIBi\\\n",
              "BCAAQDECEABo3WAwyGQyeXabyWSSwWDwfXbowL1tewcAgNoGg0GGw2GzfHFx8WibyWSSy8vLB3/D\\\n",
              "b2cEEABozWb8XV5ePhoJ3Iy/4XAoAHckAAGAVmzG38p6BG7G34oI3M2b5XK5bHsn9tXd3V2Oj4+z\\\n",
              "WCxydHTU9u4AwN7YFn/rut1uZrPZs9v0+/0Xh6DjtxFAAKAFnU5n67qTnCRJE3+r5Zd+DtsJQADg\\\n",
              "u7u4uMh4PH70/lnOMsoovfSSJL30MsooZzl7tO14PH7yghG+zCngHRhCBoDdrM/xO8lJRhk16xZZ\\\n",
              "5DjHzfJVrjLNNMlu8ef4bQQQAGjR+kjgNNNc57pZtx5/17n+JvHHPSOAO/ALAgC+jQ8fPjRz/j7m\\\n",
              "44P4W2SR05wmub8w5Pb2dqd/y/HbCCAA0LLJZNLEXy+9B/GX3I8EruYEzmazLz4xhC8TgABAazbn\\\n",
              "AJ7nvFm3yKJ5fZ7z5mrgp24WzcsIQACgFZs3eZ5mmpvcJLmf83ea02ZO4E1umjmAiQjclTmAOzCH\\\n",
              "AAB+m21P+EjuRwLXY29zed1vuSDE8dsIIADQgvl8vnXdKva63e6D5Zd+DtsJQADguxsMBun3+1vX\\\n",
              "j8fj3N7ePnmz6JXf8hg47glAAKAV2yJw/bTutieGiL/dCEAAoDWbEfjUnL7NCBR/u3vb9g4AAIdl\\\n",
              "8i//27y++M9/+OL2q5jrdDpbL+hYvT+fz8XfNyAAAYDWfU3Uefzbt+MUMABAMUYAAYBv6mtO+9Iu\\\n",
              "I4AAAMUIQACAYgQgAEAxAhAAoBgBCABQjAAEAChGAAIAFCMAAQCKEYAAAMUIQACAYgQgAEAxAhAA\\\n",
              "oBgBCABQzNu2d2CfLZfLJMnd3V3LewIAfK3VcXt1HK9IAO7g8+fPSZL379+3vCcAwEt9/vw5x8fH\\\n",
              "be9GK94sK+fvjn799dd8+vQp7969y5s3b9reHQDgKyyXy3z+/Dk//vhjfvih5mw4AQgAUEzN7AUA\\\n",
              "KEwAAgAUIwABAIoRgAAAxQhAAIBiBCAAQDECEACgGAEIAFCMAAQAKEYAAgAUIwABAIoRgAAAxQhA\\\n",
              "AIBiBCAAQDECEACgGAEIAFCMAAQAKEYAAgAUIwABAIoRgAAAxQhAAIBiBCAAQDECEACgGAEIAFCM\\\n",
              "AAQAKEYAAgAUIwABAIoRgAAAxQhAAIBiBCAAQDECEACgGAEIAFCMAAQAKEYAAgAUIwABAIoRgAAA\\\n",
              "xQhAAIBiBCAAQDECEACgGAEIAFCMAAQAKEYAAgAUIwABAIoRgAAAxQhAAIBiBCAAQDECEACgGAEI\\\n",
              "AFCMAAQAKEYAAgAU8xembkzHWj6UDAAAAABJRU5ErkJggg==\\\n",
              "\"\n",
              "  frames[2] = \"data:image/png;base64,iVBORw0KGgoAAAANSUhEUgAAAoAAAAHgCAYAAAA10dzkAAAAOXRFWHRTb2Z0d2FyZQBNYXRwbG90\\\n",
              "bGliIHZlcnNpb24zLjcuMSwgaHR0cHM6Ly9tYXRwbG90bGliLm9yZy/bCgiHAAAACXBIWXMAAA9h\\\n",
              "AAAPYQGoP6dpAAATmUlEQVR4nO3dsW8baX7H4a8Xbi1VbBZnIGVo6P6JtEmhLuy0nQJIqtKkI9ml\\\n",
              "SUUSiDptt+lcJG3+iSPElAEOcMOKcr+8Qsc5ihJla+n1iPw9T8XhjOgpDM6H77wz82a5XC4DAEAZ\\\n",
              "P7S9AwAAfF8CEACgGAEIAFCMAAQAKEYAAgAUIwABAIoRgAAAxQhAAIBiBCAAQDECEACgGAEIAFCM\\\n",
              "AAQAKEYAAgAUIwABAIoRgAAAxQhAAIBiBCAAQDECEACgGAEIAFCMAAQAKEYAAgAUIwABAIoRgAAA\\\n",
              "xQhAAIBiBCAAQDECEACgGAEIAFCMAAQAKEYAAgAUIwABAIoRgAAAxQhAAIBiBCAAQDECEACgGAEI\\\n",
              "AFCMAAQAKEYAAgAUIwABAIoRgAAAxQhAAIBiBCAAQDECEACgGAEIAFCMAAQAKEYAAgAUIwABAIoR\\\n",
              "gAAAxQhAAIBiBCAAQDECEACgGAEIAFCMAAQAKEYAAgAUIwABAIoRgAAAxQhAAIBi3ra9A/vs119/\\\n",
              "zadPn/Lu3bu8efOm7d0BAL7CcrnM58+f8+OPP+aHH2qOhQnAHXz69Cnv379vezcAgN/gz3/+c/7w\\\n",
              "hz+0vRutEIA7ePfuXZL7/0BHR0ct7w0A8DXu7u7y/v375jhekQDcweq079HRkQAEgD1TefpWzRPf\\\n",
              "AACFCUAAgGIEIABAMQIQAKAYAQh/NRgMMplMnt1mMplkMBh8nx0CgN+Jq4Ah9/E3HA6b5YuLi0fb\\\n",
              "TCaTXF5ePvgbANhHRgApbzP+Li8vH40EbsbfcDgUgADsLQFIaZvxt7IegZvxtyICAdhXb5bL5bLt\\\n",
              "ndhXd3d3OT4+zmKxcCPoPbQt/tZ1u93MZrNnt+n3+0IQYI84fhsBpLBOp7N13UlOkqSJv9XySz8H\\\n",
              "AF4jAUhZFxcXGY/Hj94/y1lGGaWXXpKkl15GGeUsZ4+2HY/HT14wAgCvmVPAOzCEfBjW5/id5CSj\\\n",
              "jJp1iyxynONm+SpXmWaaRPwB7CvHbyOA8GAkcJpprnPdrFuPv+tciz8ADoIRwB34BXFYPnz40Mz5\\\n",
              "+5iPD+JvkUVOc5rk/sKQ29vbNnYRgG/A8dsIICS5Pw28ir9eeg/iL7kfCVzNCZzNZl98YggAvGYC\\\n",
              "kPI25wCe57xZt8iieX2e8+Zq4KduFg0A+0IAUtrmTZ6nmeYmN0nu5/yd5rSZE3iTm2YOYCICAdhf\\\n",
              "5gDuwByC/bbtCR/J/UjgeuxtLq9zQQjAfnH8NgJIYfP5fOu6Vex1u90Hyy/9HAB4jQQgZQ0Gg/T7\\\n",
              "/a3rx+Nxbm9vn7xZ9IrHwAGwjwQgpW2LwPXTutueGCL+ANhXApDyNiPwqTl9mxEo/gDYZ2/b3gF4\\\n",
              "DVYx1+l0tl7QsXp/Pp+LP2CvDQaDZ7/vkvsL5XzfHS4BCH/1NV9yrvYF9t1gMMhwOGyWn/pe27xL\\\n",
              "ggg8PAKQwzNYe4rHYLF9O4BiNuNvFXnrEbgZf6vtReBhMQcQAArYjL+V9Zvab7s/6nA4FIAHxggg\\\n",
              "ABy4bfG3sorA1TPRn2Ik8LAIQA6P074AD3Q6na3rVk86WsXfc08+eu5z2C9OAQPAgdt2P9OznGWU\\\n",
              "UXrpJUl66WWUUc5y9mhbj708LJ4FvAPPEgRgn6zP8TvJSUYZNesWWeQ4f7uI7ipXzUjgocWf47cR\\\n",
              "QAAoY30kcJpprnPdrFuPv+tcH2z8cc8I4A78ggBgH3348KGZ8/cxHx/E3yKLnOY0SdLtdnN7e9vG\\\n",
              "Lv6uHL+NAAJAKetX+/bSexB/yf1I4GpO4Gw2a24Rw2ERgABQxOYcwPOcN+sW+dsdFM5znpOcJHl4\\\n",
              "n0AOhwAEgAI2b/I8zTQ3uUlyP+fvNKfNnMCb3Dy4FYwIPDzmAO7AHAIA9sG2J3wkj+/799x9AA/l\\\n",
              "ghDHbyOAAHDw5vP51nWr2Ot2uw+WX/o57BcBCAAHbjAYpN/vb10/Ho9ze3v75M2iV/r9vsfAHRAB\\\n",
              "CAAFbIvA9dO6254YIv4OjwAEgCI2I/CpOX2bESj+DtPbtncAAPh+VjHX6XS2XtCxen8+n4u/A+Uq\\\n",
              "4B24igiAtv3dv/1P8/r///0fW9yT/eH47RQwAEA5AhAAoBhzAAFgjznty29hBBAAoBgBCABQjAAE\\\n",
              "AChGAAIAFCMAAQCKEYAAAMUIQACAYgQgAEAxAhAAoBgBCABQjAAEAChGAAIAFCMAAQCKEYAAAMUI\\\n",
              "QACAYgQgAEAxAhAAoBgBCABQjAAEAChGAAIAFCMAAQCKEYAAAMUIQACAYgQgAEAxAhAAoBgBeEAG\\\n",
              "g0Emk8mz20wmkwwGg++zQwDAq/S27R3g2xgMBhkOh83yxcXFo20mk0kuLy8f/A0AUI8RwAOwGX+X\\\n",
              "l5ePRgI34284HApAAChKAO65zfhbWY/AzfhbEYEAUNOb5XK5bHsn9tXd3V2Oj4+zWCxydHT03f/9\\\n",
              "bfG3rtvtZjabPbtNv98XggCU0fbx+zUwArjHOp3O1nUnOUmSJv5Wyy/9HADg8AjAPXZxcZHxePzo\\\n",
              "/bOcZZRReuklSXrpZZRRznL2aNvxePzkBSMAwOFyCngHr2UIeX2O30lOMsqoWbfIIsc5bpavcpVp\\\n",
              "pknEHwA1vZbjd5uMAB6A9ZHAaaa5znWzbj3+rnMt/gAAI4C7eG2/ID58+NDM+fuYjw/ib5FFTnOa\\\n",
              "5P7CkNvb2zZ2EQBa99qO320wAnggJpNJE3+99B7EX3I/EriaEzibzb74xBAA4HAJwAOwOQfwPOfN\\\n",
              "ukUWzevznDdXAz91s2gAoAYBuOc2b/I8zTQ3uUlyP+fvNKfNnMCb3DRzABMRCABVmQO4g7bnEGx7\\\n",
              "wkdyPxK4Hnuby+tcEAJAJW0fv18DI4B7bD6fb123ir1ut/tg+aWfAwAcHgG4xwaDQfr9/tb14/E4\\\n",
              "t7e3T94sesVj4ACgHgG457ZF4Ppp3W1PDBF/AFCTADwAmxH41Jy+zQgUfwBQ19u2d4BvYxVznU5n\\\n",
              "6wUdq/fn87n4A4DCXAW8A1cRAcD+cfw2Avhqzf6+27zu/t+sxT0BAA6NOYAAAMUIQACAYpwCfqWc\\\n",
              "9gUAfi9GAAEAihGAAADFCEAAgGIEIABAMQIQAKAYAQgAUIwABAAoRgACABQjAAEAihGAAADFCEAA\\\n",
              "gGIEIABAMQIQAKAYAQgAUIwABAAoRgACABQjAAEAihGAAADFCEAAgGIEIABAMQIQAKAYAQgAUIwA\\\n",
              "BAAoRgACABQjAAEAihGAAADFCEAAgGIEIABAMQIQAKAYAQgAUIwABAAoRgACABQjAAEAihGAAADF\\\n",
              "CEAAgGIEIABAMQIQAKAYAQgAUIwABAAoRgACABQjAAEAihGAAADFCEAAgGIEIABAMQIQAKAYAQgA\\\n",
              "UIwABAAoRgACABQjAAEAihGAAADFCEAAgGIEIABAMQIQnjEYDDKZTJ7dZjKZZDAYfJ8dAoBv4G3b\\\n",
              "OwCv1WAwyHA4bJYvLi4ebTOZTHJ5efngbwDgtTMCCE/YjL/Ly8tHI4Gb8TccDgUgAHtBAMKGzfhb\\\n",
              "WY/AzfhbEYEAX880m/Y4BQxrtsXfyioCZ7PZ1m1Wf+8LC2A702zaZQQQ1nQ6na3rTnKSJE38rZZf\\\n",
              "+jkA1Zlm0z4BCGsuLi4yHo8fvX+Ws4wySi+9JEkvvYwyylnOHm07Ho+f/CULgGk2r8Wb5XK5bHsn\\\n",
              "9tXd3V2Oj4+zWCxydHTU9u7wDa1/+ZzkJKOMmnWLLHKc42b5KleZZppE/AE850vTbJKk2+0+O80m\\\n",
              "Sfr9/k4h6PhtBBCetD4SOM0017lu1q3H33WuxR/AVzLN5vUQgLDFxcVFut1ukuSX/JJFFg/WL7LI\\\n",
              "L/klyf0vVvEH8DzTbF4PAQhbrF/t20vvwchfcj8SuPqyms1mX7yVAQCPI/AkJ/kpPyVJznOej/mY\\\n",
              "85wnSX7KTw9GAsXftyMA4QmbcwBXX0ZJHowEnue8+XJ66io2AB4zzaZ9AhA2bF59Ns00N7lJcv9l\\\n",
              "dJrT5svqJjfNl1MiAgG+lmk27RKAsGbbrQd+zs+5ylXzZfRLfslVrvJzfn60rQgE+DLTbNolAGHN\\\n",
              "fD7fum410rf6xbo+8veSzwGozjSb9glAWDMYDNLv97euH4/Hub29ffIqtpVd708FcMhMs3kd3Ah6\\\n",
              "B24kebieulnp5gTkp04Xiz+A7bZNs0nuRwLXY29zed2uF4Q4fhsBhCdtjgQ+9WWzeSsD8QfwPNNs\\\n",
              "Xo+3be8AvFarmOt0Olt/aa7en8/n4g/gC1bfk9seB7f6sf3cSKEf29+GU8A7MIQMAC/X9jQbx28j\\\n",
              "gBTxx5//2Lz+09mfWtwTADZHArdNs0nSRKCRv29LAAIA351pNu0SgADATv7jn/+pef2v//XfX/13\\\n",
              "XxN1ngDy+xCAlOC0LwD8jdvAAAAUYwQQANjJS0778joYAQQAKEYAAgAUIwABAIoRgAAAxQhAAIBi\\\n",
              "BCAAQDECEACgGAEIAFCMAAQAKEYAAgAUIwABAIoRgAAAxQhAAIBiBCAAQDECEACgGAEIAFCMAAQA\\\n",
              "KEYAAgAUIwABAIoRgAAAxQhAAIBiBCAAQDECEACgGAEIAFCMAAQAKEYAAgAUIwABAIoRgAAAxQhA\\\n",
              "AIBiBCAAQDECEACgGAEIAFCMAAQAKEYAAgAUIwABAIoRgAAAxQhAAIBiBCAAQDECEACgGAEIAFCM\\\n",
              "AAQAKEYAAgAUIwABAIoRgAAAxQhAAIBiBCAAQDECEACgGAEIAFCMAAQAKEYAAgAUIwABAIoRgAAA\\\n",
              "xQhAAIBiBCAAQDECEACgGAEIAFCMAAQAKEYAAgAUIwABAIoRgAAAxQhAAIBiBCAAQDECEACgGAEI\\\n",
              "AFCMAAQAKEYAAgAUIwABAIoRgAAAxQhAAIBiBCAAQDECEACgGAEIAFCMAAQAKEYAAgAUIwABAIoR\\\n",
              "gAAAxQhAAIBiBCAAQDECEACgGAEIAFCMAAQAKEYAAgAUIwABAIoRgAAAxQhAAIBiBCAAQDECEACg\\\n",
              "GAEIAFCMAAQAKEYAAgAUIwABAIoRgAAAxQhAAIBiBCAAQDECEACgGAEIAFCMAAQAKEYAAgAUIwAB\\\n",
              "AIoRgAAAxQhAAIBiBCAAQDECEACgGAEIAFCMAAQAKEYAAgAUIwABAIoRgAAAxQhAAIBiBCAAQDEC\\\n",
              "EACgGAEIAFCMAAQAKEYAAgAUIwABAIoRgAAAxQhAAIBiBCAAQDECEACgGAEIAFCMAAQAKEYAAgAU\\\n",
              "IwABAIoRgAAAxQhAAIBiBCAAQDECEACgGAEIAFCMAAQAKEYAAgAUIwABAIoRgAAAxQhAAIBiBCAA\\\n",
              "QDECEACgGAEIAFCMAAQAKEYAAgAUIwABAIoRgAAAxQhAAIBiBCAAQDECEACgGAEIAFCMAAQAKEYA\\\n",
              "AgAUIwABAIoRgAAAxQhAAIBiBCAAQDECEACgGAEIAFCMAAQAKEYAAgAUIwABAIoRgAAAxQhAAIBi\\\n",
              "BCAAQDECEABo3WAwyGQyeXabyWSSwWDwfXbowL1tewcAgNoGg0GGw2GzfHFx8WibyWSSy8vLB3/D\\\n",
              "b2cEEABozWb8XV5ePhoJ3Iy/4XAoAHckAAGAVmzG38p6BG7G34oI3M2b5XK5bHsn9tXd3V2Oj4+z\\\n",
              "WCxydHTU9u4AwN7YFn/rut1uZrPZs9v0+/0Xh6DjtxFAAKAFnU5n67qTnCRJE3+r5Zd+DtsJQADg\\\n",
              "u7u4uMh4PH70/lnOMsoovfSSJL30MsooZzl7tO14PH7yghG+zCngHRhCBoDdrM/xO8lJRhk16xZZ\\\n",
              "5DjHzfJVrjLNNMlu8ef4bQQQAGjR+kjgNNNc57pZtx5/17n+JvHHPSOAO/ALAgC+jQ8fPjRz/j7m\\\n",
              "44P4W2SR05wmub8w5Pb2dqd/y/HbCCAA0LLJZNLEXy+9B/GX3I8EruYEzmazLz4xhC8TgABAazbn\\\n",
              "AJ7nvFm3yKJ5fZ7z5mrgp24WzcsIQACgFZs3eZ5mmpvcJLmf83ea02ZO4E1umjmAiQjclTmAOzCH\\\n",
              "AAB+m21P+EjuRwLXY29zed1vuSDE8dsIIADQgvl8vnXdKva63e6D5Zd+DtsJQADguxsMBun3+1vX\\\n",
              "j8fj3N7ePnmz6JXf8hg47glAAKAV2yJw/bTutieGiL/dCEAAoDWbEfjUnL7NCBR/u3vb9g4AAIdl\\\n",
              "8i//27y++M9/+OL2q5jrdDpbL+hYvT+fz8XfNyAAAYDWfU3Uefzbt+MUMABAMUYAAYBv6mtO+9Iu\\\n",
              "I4AAAMUIQACAYgQgAEAxAhAAoBgBCABQjAAEAChGAAIAFCMAAQCKEYAAAMUIQACAYgQgAEAxAhAA\\\n",
              "oBgBCABQzNu2d2CfLZfLJMnd3V3LewIAfK3VcXt1HK9IAO7g8+fPSZL379+3vCcAwEt9/vw5x8fH\\\n",
              "be9GK94sK+fvjn799dd8+vQp7969y5s3b9reHQDgKyyXy3z+/Dk//vhjfvih5mw4AQgAUEzN7AUA\\\n",
              "KEwAAgAUIwABAIoRgAAAxQhAAIBiBCAAQDECEACgGAEIAFCMAAQAKEYAAgAUIwABAIoRgAAAxQhA\\\n",
              "AIBiBCAAQDECEACgGAEIAFCMAAQAKEYAAgAUIwABAIoRgAAAxQhAAIBiBCAAQDECEACgGAEIAFCM\\\n",
              "AAQAKEYAAgAUIwABAIoRgAAAxQhAAIBiBCAAQDECEACgGAEIAFCMAAQAKEYAAgAUIwABAIoRgAAA\\\n",
              "xQhAAIBiBCAAQDECEACgGAEIAFCMAAQAKEYAAgAUIwABAIoRgAAAxQhAAIBiBCAAQDECEACgGAEI\\\n",
              "AFCMAAQAKEYAAgAU8xembkzHWj6UDAAAAABJRU5ErkJggg==\\\n",
              "\"\n",
              "  frames[3] = \"data:image/png;base64,iVBORw0KGgoAAAANSUhEUgAAAoAAAAHgCAYAAAA10dzkAAAAOXRFWHRTb2Z0d2FyZQBNYXRwbG90\\\n",
              "bGliIHZlcnNpb24zLjcuMSwgaHR0cHM6Ly9tYXRwbG90bGliLm9yZy/bCgiHAAAACXBIWXMAAA9h\\\n",
              "AAAPYQGoP6dpAAATmUlEQVR4nO3dsW8baX7H4a8Xbi1VbBZnIGVo6P6JtEmhLuy0nQJIqtKkI9ml\\\n",
              "SUUSiDptt+lcJG3+iSPElAEOcMOKcr+8Qsc5ihJla+n1iPw9T8XhjOgpDM6H77wz82a5XC4DAEAZ\\\n",
              "P7S9AwAAfF8CEACgGAEIAFCMAAQAKEYAAgAUIwABAIoRgAAAxQhAAIBiBCAAQDECEACgGAEIAFCM\\\n",
              "AAQAKEYAAgAUIwABAIoRgAAAxQhAAIBiBCAAQDECEACgGAEIAFCMAAQAKEYAAgAUIwABAIoRgAAA\\\n",
              "xQhAAIBiBCAAQDECEACgGAEIAFCMAAQAKEYAAgAUIwABAIoRgAAAxQhAAIBiBCAAQDECEACgGAEI\\\n",
              "AFCMAAQAKEYAAgAUIwABAIoRgAAAxQhAAIBiBCAAQDECEACgGAEIAFCMAAQAKEYAAgAUIwABAIoR\\\n",
              "gAAAxQhAAIBiBCAAQDECEACgGAEIAFCMAAQAKEYAAgAUIwABAIoRgAAAxQhAAIBi3ra9A/vs119/\\\n",
              "zadPn/Lu3bu8efOm7d0BAL7CcrnM58+f8+OPP+aHH2qOhQnAHXz69Cnv379vezcAgN/gz3/+c/7w\\\n",
              "hz+0vRutEIA7ePfuXZL7/0BHR0ct7w0A8DXu7u7y/v375jhekQDcweq079HRkQAEgD1TefpWzRPf\\\n",
              "AACFCUAAgGIEIABAMQIQAKAYAQh/NRgMMplMnt1mMplkMBh8nx0CgN+Jq4Ah9/E3HA6b5YuLi0fb\\\n",
              "TCaTXF5ePvgbANhHRgApbzP+Li8vH40EbsbfcDgUgADsLQFIaZvxt7IegZvxtyICAdhXb5bL5bLt\\\n",
              "ndhXd3d3OT4+zmKxcCPoPbQt/tZ1u93MZrNnt+n3+0IQYI84fhsBpLBOp7N13UlOkqSJv9XySz8H\\\n",
              "AF4jAUhZFxcXGY/Hj94/y1lGGaWXXpKkl15GGeUsZ4+2HY/HT14wAgCvmVPAOzCEfBjW5/id5CSj\\\n",
              "jJp1iyxynONm+SpXmWaaRPwB7CvHbyOA8GAkcJpprnPdrFuPv+tciz8ADoIRwB34BXFYPnz40Mz5\\\n",
              "+5iPD+JvkUVOc5rk/sKQ29vbNnYRgG/A8dsIICS5Pw28ir9eeg/iL7kfCVzNCZzNZl98YggAvGYC\\\n",
              "kPI25wCe57xZt8iieX2e8+Zq4KduFg0A+0IAUtrmTZ6nmeYmN0nu5/yd5rSZE3iTm2YOYCICAdhf\\\n",
              "5gDuwByC/bbtCR/J/UjgeuxtLq9zQQjAfnH8NgJIYfP5fOu6Vex1u90Hyy/9HAB4jQQgZQ0Gg/T7\\\n",
              "/a3rx+Nxbm9vn7xZ9IrHwAGwjwQgpW2LwPXTutueGCL+ANhXApDyNiPwqTl9mxEo/gDYZ2/b3gF4\\\n",
              "DVYx1+l0tl7QsXp/Pp+LP2CvDQaDZ7/vkvsL5XzfHS4BCH/1NV9yrvYF9t1gMMhwOGyWn/pe27xL\\\n",
              "ggg8PAKQwzNYe4rHYLF9O4BiNuNvFXnrEbgZf6vtReBhMQcQAArYjL+V9Zvab7s/6nA4FIAHxggg\\\n",
              "ABy4bfG3sorA1TPRn2Ik8LAIQA6P074AD3Q6na3rVk86WsXfc08+eu5z2C9OAQPAgdt2P9OznGWU\\\n",
              "UXrpJUl66WWUUc5y9mhbj708LJ4FvAPPEgRgn6zP8TvJSUYZNesWWeQ4f7uI7ipXzUjgocWf47cR\\\n",
              "QAAoY30kcJpprnPdrFuPv+tcH2z8cc8I4A78ggBgH3348KGZ8/cxHx/E3yKLnOY0SdLtdnN7e9vG\\\n",
              "Lv6uHL+NAAJAKetX+/bSexB/yf1I4GpO4Gw2a24Rw2ERgABQxOYcwPOcN+sW+dsdFM5znpOcJHl4\\\n",
              "n0AOhwAEgAI2b/I8zTQ3uUlyP+fvNKfNnMCb3Dy4FYwIPDzmAO7AHAIA9sG2J3wkj+/799x9AA/l\\\n",
              "ghDHbyOAAHDw5vP51nWr2Ot2uw+WX/o57BcBCAAHbjAYpN/vb10/Ho9ze3v75M2iV/r9vsfAHRAB\\\n",
              "CAAFbIvA9dO6254YIv4OjwAEgCI2I/CpOX2bESj+DtPbtncAAPh+VjHX6XS2XtCxen8+n4u/A+Uq\\\n",
              "4B24igiAtv3dv/1P8/r///0fW9yT/eH47RQwAEA5AhAAoBhzAAFgjznty29hBBAAoBgBCABQjAAE\\\n",
              "AChGAAIAFCMAAQCKEYAAAMUIQACAYgQgAEAxAhAAoBgBCABQjAAEAChGAAIAFCMAAQCKEYAAAMUI\\\n",
              "QACAYgQgAEAxAhAAoBgBCABQjAAEAChGAAIAFCMAAQCKEYAAAMUIQACAYgQgAEAxAhAAoBgBeEAG\\\n",
              "g0Emk8mz20wmkwwGg++zQwDAq/S27R3g2xgMBhkOh83yxcXFo20mk0kuLy8f/A0AUI8RwAOwGX+X\\\n",
              "l5ePRgI34284HApAAChKAO65zfhbWY/AzfhbEYEAUNOb5XK5bHsn9tXd3V2Oj4+zWCxydHT03f/9\\\n",
              "bfG3rtvtZjabPbtNv98XggCU0fbx+zUwArjHOp3O1nUnOUmSJv5Wyy/9HADg8AjAPXZxcZHxePzo\\\n",
              "/bOcZZRReuklSXrpZZRRznL2aNvxePzkBSMAwOFyCngHr2UIeX2O30lOMsqoWbfIIsc5bpavcpVp\\\n",
              "pknEHwA1vZbjd5uMAB6A9ZHAaaa5znWzbj3+rnMt/gAAI4C7eG2/ID58+NDM+fuYjw/ib5FFTnOa\\\n",
              "5P7CkNvb2zZ2EQBa99qO320wAnggJpNJE3+99B7EX3I/EriaEzibzb74xBAA4HAJwAOwOQfwPOfN\\\n",
              "ukUWzevznDdXAz91s2gAoAYBuOc2b/I8zTQ3uUlyP+fvNKfNnMCb3DRzABMRCABVmQO4g7bnEGx7\\\n",
              "wkdyPxK4Hnuby+tcEAJAJW0fv18DI4B7bD6fb123ir1ut/tg+aWfAwAcHgG4xwaDQfr9/tb14/E4\\\n",
              "t7e3T94sesVj4ACgHgG457ZF4Ppp3W1PDBF/AFCTADwAmxH41Jy+zQgUfwBQ19u2d4BvYxVznU5n\\\n",
              "6wUdq/fn87n4A4DCXAW8A1cRAcD+cfw2Avhqzf6+27zu/t+sxT0BAA6NOYAAAMUIQACAYpwCfqWc\\\n",
              "9gUAfi9GAAEAihGAAADFCEAAgGIEIABAMQIQAKAYAQgAUIwABAAoRgACABQjAAEAihGAAADFCEAA\\\n",
              "gGIEIABAMQIQAKAYAQgAUIwABAAoRgACABQjAAEAihGAAADFCEAAgGIEIABAMQIQAKAYAQgAUIwA\\\n",
              "BAAoRgACABQjAAEAihGAAADFCEAAgGIEIABAMQIQAKAYAQgAUIwABAAoRgACABQjAAEAihGAAADF\\\n",
              "CEAAgGIEIABAMQIQAKAYAQgAUIwABAAoRgACABQjAAEAihGAAADFCEAAgGIEIABAMQIQAKAYAQgA\\\n",
              "UIwABAAoRgACABQjAAEAihGAAADFCEAAgGIEIABAMQIQnjEYDDKZTJ7dZjKZZDAYfJ8dAoBv4G3b\\\n",
              "OwCv1WAwyHA4bJYvLi4ebTOZTHJ5efngbwDgtTMCCE/YjL/Ly8tHI4Gb8TccDgUgAHtBAMKGzfhb\\\n",
              "WY/AzfhbEYEAX880m/Y4BQxrtsXfyioCZ7PZ1m1Wf+8LC2A702zaZQQQ1nQ6na3rTnKSJE38rZZf\\\n",
              "+jkA1Zlm0z4BCGsuLi4yHo8fvX+Ws4wySi+9JEkvvYwyylnOHm07Ho+f/CULgGk2r8Wb5XK5bHsn\\\n",
              "9tXd3V2Oj4+zWCxydHTU9u7wDa1/+ZzkJKOMmnWLLHKc42b5KleZZppE/AE850vTbJKk2+0+O80m\\\n",
              "Sfr9/k4h6PhtBBCetD4SOM0017lu1q3H33WuxR/AVzLN5vUQgLDFxcVFut1ukuSX/JJFFg/WL7LI\\\n",
              "L/klyf0vVvEH8DzTbF4PAQhbrF/t20vvwchfcj8SuPqyms1mX7yVAQCPI/AkJ/kpPyVJznOej/mY\\\n",
              "85wnSX7KTw9GAsXftyMA4QmbcwBXX0ZJHowEnue8+XJ66io2AB4zzaZ9AhA2bF59Ns00N7lJcv9l\\\n",
              "dJrT5svqJjfNl1MiAgG+lmk27RKAsGbbrQd+zs+5ylXzZfRLfslVrvJzfn60rQgE+DLTbNolAGHN\\\n",
              "fD7fum410rf6xbo+8veSzwGozjSb9glAWDMYDNLv97euH4/Hub29ffIqtpVd708FcMhMs3kd3Ah6\\\n",
              "B24kebieulnp5gTkp04Xiz+A7bZNs0nuRwLXY29zed2uF4Q4fhsBhCdtjgQ+9WWzeSsD8QfwPNNs\\\n",
              "Xo+3be8AvFarmOt0Olt/aa7en8/n4g/gC1bfk9seB7f6sf3cSKEf29+GU8A7MIQMAC/X9jQbx28j\\\n",
              "gBTxx5//2Lz+09mfWtwTADZHArdNs0nSRKCRv29LAAIA351pNu0SgADATv7jn/+pef2v//XfX/13\\\n",
              "XxN1ngDy+xCAlOC0LwD8jdvAAAAUYwQQANjJS0778joYAQQAKEYAAgAUIwABAIoRgAAAxQhAAIBi\\\n",
              "BCAAQDECEACgGAEIAFCMAAQAKEYAAgAUIwABAIoRgAAAxQhAAIBiBCAAQDECEACgGAEIAFCMAAQA\\\n",
              "KEYAAgAUIwABAIoRgAAAxQhAAIBiBCAAQDECEACgGAEIAFCMAAQAKEYAAgAUIwABAIoRgAAAxQhA\\\n",
              "AIBiBCAAQDECEACgGAEIAFCMAAQAKEYAAgAUIwABAIoRgAAAxQhAAIBiBCAAQDECEACgGAEIAFCM\\\n",
              "AAQAKEYAAgAUIwABAIoRgAAAxQhAAIBiBCAAQDECEACgGAEIAFCMAAQAKEYAAgAUIwABAIoRgAAA\\\n",
              "xQhAAIBiBCAAQDECEACgGAEIAFCMAAQAKEYAAgAUIwABAIoRgAAAxQhAAIBiBCAAQDECEACgGAEI\\\n",
              "AFCMAAQAKEYAAgAUIwABAIoRgAAAxQhAAIBiBCAAQDECEACgGAEIAFCMAAQAKEYAAgAUIwABAIoR\\\n",
              "gAAAxQhAAIBiBCAAQDECEACgGAEIAFCMAAQAKEYAAgAUIwABAIoRgAAAxQhAAIBiBCAAQDECEACg\\\n",
              "GAEIAFCMAAQAKEYAAgAUIwABAIoRgAAAxQhAAIBiBCAAQDECEACgGAEIAFCMAAQAKEYAAgAUIwAB\\\n",
              "AIoRgAAAxQhAAIBiBCAAQDECEACgGAEIAFCMAAQAKEYAAgAUIwABAIoRgAAAxQhAAIBiBCAAQDEC\\\n",
              "EACgGAEIAFCMAAQAKEYAAgAUIwABAIoRgAAAxQhAAIBiBCAAQDECEACgGAEIAFCMAAQAKEYAAgAU\\\n",
              "IwABAIoRgAAAxQhAAIBiBCAAQDECEACgGAEIAFCMAAQAKEYAAgAUIwABAIoRgAAAxQhAAIBiBCAA\\\n",
              "QDECEACgGAEIAFCMAAQAKEYAAgAUIwABAIoRgAAAxQhAAIBiBCAAQDECEACgGAEIAFCMAAQAKEYA\\\n",
              "AgAUIwABAIoRgAAAxQhAAIBiBCAAQDECEACgGAEIAFCMAAQAKEYAAgAUIwABAIoRgAAAxQhAAIBi\\\n",
              "BCAAQDECEABo3WAwyGQyeXabyWSSwWDwfXbowL1tewcAgNoGg0GGw2GzfHFx8WibyWSSy8vLB3/D\\\n",
              "b2cEEABozWb8XV5ePhoJ3Iy/4XAoAHckAAGAVmzG38p6BG7G34oI3M2b5XK5bHsn9tXd3V2Oj4+z\\\n",
              "WCxydHTU9u4AwN7YFn/rut1uZrPZs9v0+/0Xh6DjtxFAAKAFnU5n67qTnCRJE3+r5Zd+DtsJQADg\\\n",
              "u7u4uMh4PH70/lnOMsoovfSSJL30MsooZzl7tO14PH7yghG+zCngHRhCBoDdrM/xO8lJRhk16xZZ\\\n",
              "5DjHzfJVrjLNNMlu8ef4bQQQAGjR+kjgNNNc57pZtx5/17n+JvHHPSOAO/ALAgC+jQ8fPjRz/j7m\\\n",
              "44P4W2SR05wmub8w5Pb2dqd/y/HbCCAA0LLJZNLEXy+9B/GX3I8EruYEzmazLz4xhC8TgABAazbn\\\n",
              "AJ7nvFm3yKJ5fZ7z5mrgp24WzcsIQACgFZs3eZ5mmpvcJLmf83ea02ZO4E1umjmAiQjclTmAOzCH\\\n",
              "AAB+m21P+EjuRwLXY29zed1vuSDE8dsIIADQgvl8vnXdKva63e6D5Zd+DtsJQADguxsMBun3+1vX\\\n",
              "j8fj3N7ePnmz6JXf8hg47glAAKAV2yJw/bTutieGiL/dCEAAoDWbEfjUnL7NCBR/u3vb9g4AAIdl\\\n",
              "8i//27y++M9/+OL2q5jrdDpbL+hYvT+fz8XfNyAAAYDWfU3Uefzbt+MUMABAMUYAAYBv6mtO+9Iu\\\n",
              "I4AAAMUIQACAYgQgAEAxAhAAoBgBCABQjAAEAChGAAIAFCMAAQCKEYAAAMUIQACAYgQgAEAxAhAA\\\n",
              "oBgBCABQzNu2d2CfLZfLJMnd3V3LewIAfK3VcXt1HK9IAO7g8+fPSZL379+3vCcAwEt9/vw5x8fH\\\n",
              "be9GK94sK+fvjn799dd8+vQp7969y5s3b9reHQDgKyyXy3z+/Dk//vhjfvih5mw4AQgAUEzN7AUA\\\n",
              "KEwAAgAUIwABAIoRgAAAxQhAAIBiBCAAQDECEACgGAEIAFCMAAQAKEYAAgAUIwABAIoRgAAAxQhA\\\n",
              "AIBiBCAAQDECEACgGAEIAFCMAAQAKEYAAgAUIwABAIoRgAAAxQhAAIBiBCAAQDECEACgGAEIAFCM\\\n",
              "AAQAKEYAAgAUIwABAIoRgAAAxQhAAIBiBCAAQDECEACgGAEIAFCMAAQAKEYAAgAUIwABAIoRgAAA\\\n",
              "xQhAAIBiBCAAQDECEACgGAEIAFCMAAQAKEYAAgAUIwABAIoRgAAAxQhAAIBiBCAAQDECEACgGAEI\\\n",
              "AFCMAAQAKEYAAgAU8xembkzHWj6UDAAAAABJRU5ErkJggg==\\\n",
              "\"\n",
              "  frames[4] = \"data:image/png;base64,iVBORw0KGgoAAAANSUhEUgAAAoAAAAHgCAYAAAA10dzkAAAAOXRFWHRTb2Z0d2FyZQBNYXRwbG90\\\n",
              "bGliIHZlcnNpb24zLjcuMSwgaHR0cHM6Ly9tYXRwbG90bGliLm9yZy/bCgiHAAAACXBIWXMAAA9h\\\n",
              "AAAPYQGoP6dpAAATmUlEQVR4nO3dsW8baX7H4a8Xbi1VbBZnIGVo6P6JtEmhLuy0nQJIqtKkI9ml\\\n",
              "SUUSiDptt+lcJG3+iSPElAEOcMOKcr+8Qsc5ihJla+n1iPw9T8XhjOgpDM6H77wz82a5XC4DAEAZ\\\n",
              "P7S9AwAAfF8CEACgGAEIAFCMAAQAKEYAAgAUIwABAIoRgAAAxQhAAIBiBCAAQDECEACgGAEIAFCM\\\n",
              "AAQAKEYAAgAUIwABAIoRgAAAxQhAAIBiBCAAQDECEACgGAEIAFCMAAQAKEYAAgAUIwABAIoRgAAA\\\n",
              "xQhAAIBiBCAAQDECEACgGAEIAFCMAAQAKEYAAgAUIwABAIoRgAAAxQhAAIBiBCAAQDECEACgGAEI\\\n",
              "AFCMAAQAKEYAAgAUIwABAIoRgAAAxQhAAIBiBCAAQDECEACgGAEIAFCMAAQAKEYAAgAUIwABAIoR\\\n",
              "gAAAxQhAAIBiBCAAQDECEACgGAEIAFCMAAQAKEYAAgAUIwABAIoRgAAAxQhAAIBi3ra9A/vs119/\\\n",
              "zadPn/Lu3bu8efOm7d0BAL7CcrnM58+f8+OPP+aHH2qOhQnAHXz69Cnv379vezcAgN/gz3/+c/7w\\\n",
              "hz+0vRutEIA7ePfuXZL7/0BHR0ct7w0A8DXu7u7y/v375jhekQDcweq079HRkQAEgD1TefpWzRPf\\\n",
              "AACFCUAAgGIEIABAMQIQAKAYAQh/NRgMMplMnt1mMplkMBh8nx0CgN+Jq4Ah9/E3HA6b5YuLi0fb\\\n",
              "TCaTXF5ePvgbANhHRgApbzP+Li8vH40EbsbfcDgUgADsLQFIaZvxt7IegZvxtyICAdhXb5bL5bLt\\\n",
              "ndhXd3d3OT4+zmKxcCPoPbQt/tZ1u93MZrNnt+n3+0IQYI84fhsBpLBOp7N13UlOkqSJv9XySz8H\\\n",
              "AF4jAUhZFxcXGY/Hj94/y1lGGaWXXpKkl15GGeUsZ4+2HY/HT14wAgCvmVPAOzCEfBjW5/id5CSj\\\n",
              "jJp1iyxynONm+SpXmWaaRPwB7CvHbyOA8GAkcJpprnPdrFuPv+tciz8ADoIRwB34BXFYPnz40Mz5\\\n",
              "+5iPD+JvkUVOc5rk/sKQ29vbNnYRgG/A8dsIICS5Pw28ir9eeg/iL7kfCVzNCZzNZl98YggAvGYC\\\n",
              "kPI25wCe57xZt8iieX2e8+Zq4KduFg0A+0IAUtrmTZ6nmeYmN0nu5/yd5rSZE3iTm2YOYCICAdhf\\\n",
              "5gDuwByC/bbtCR/J/UjgeuxtLq9zQQjAfnH8NgJIYfP5fOu6Vex1u90Hyy/9HAB4jQQgZQ0Gg/T7\\\n",
              "/a3rx+Nxbm9vn7xZ9IrHwAGwjwQgpW2LwPXTutueGCL+ANhXApDyNiPwqTl9mxEo/gDYZ2/b3gF4\\\n",
              "DVYx1+l0tl7QsXp/Pp+LP2CvDQaDZ7/vkvsL5XzfHS4BCH/1NV9yrvYF9t1gMMhwOGyWn/pe27xL\\\n",
              "ggg8PAKQwzNYe4rHYLF9O4BiNuNvFXnrEbgZf6vtReBhMQcQAArYjL+V9Zvab7s/6nA4FIAHxggg\\\n",
              "ABy4bfG3sorA1TPRn2Ik8LAIQA6P074AD3Q6na3rVk86WsXfc08+eu5z2C9OAQPAgdt2P9OznGWU\\\n",
              "UXrpJUl66WWUUc5y9mhbj708LJ4FvAPPEgRgn6zP8TvJSUYZNesWWeQ4f7uI7ipXzUjgocWf47cR\\\n",
              "QAAoY30kcJpprnPdrFuPv+tcH2z8cc8I4A78ggBgH3348KGZ8/cxHx/E3yKLnOY0SdLtdnN7e9vG\\\n",
              "Lv6uHL+NAAJAKetX+/bSexB/yf1I4GpO4Gw2a24Rw2ERgABQxOYcwPOcN+sW+dsdFM5znpOcJHl4\\\n",
              "n0AOhwAEgAI2b/I8zTQ3uUlyP+fvNKfNnMCb3Dy4FYwIPDzmAO7AHAIA9sG2J3wkj+/799x9AA/l\\\n",
              "ghDHbyOAAHDw5vP51nWr2Ot2uw+WX/o57BcBCAAHbjAYpN/vb10/Ho9ze3v75M2iV/r9vsfAHRAB\\\n",
              "CAAFbIvA9dO6254YIv4OjwAEgCI2I/CpOX2bESj+DtPbtncAAPh+VjHX6XS2XtCxen8+n4u/A+Uq\\\n",
              "4B24igiAtv3dv/1P8/r///0fW9yT/eH47RQwAEA5AhAAoBhzAAFgjznty29hBBAAoBgBCABQjAAE\\\n",
              "AChGAAIAFCMAAQCKEYAAAMUIQACAYgQgAEAxAhAAoBgBCABQjAAEAChGAAIAFCMAAQCKEYAAAMUI\\\n",
              "QACAYgQgAEAxAhAAoBgBCABQjAAEAChGAAIAFCMAAQCKEYAAAMUIQACAYgQgAEAxAhAAoBgBeEAG\\\n",
              "g0Emk8mz20wmkwwGg++zQwDAq/S27R3g2xgMBhkOh83yxcXFo20mk0kuLy8f/A0AUI8RwAOwGX+X\\\n",
              "l5ePRgI34284HApAAChKAO65zfhbWY/AzfhbEYEAUNOb5XK5bHsn9tXd3V2Oj4+zWCxydHT03f/9\\\n",
              "bfG3rtvtZjabPbtNv98XggCU0fbx+zUwArjHOp3O1nUnOUmSJv5Wyy/9HADg8AjAPXZxcZHxePzo\\\n",
              "/bOcZZRReuklSXrpZZRRznL2aNvxePzkBSMAwOFyCngHr2UIeX2O30lOMsqoWbfIIsc5bpavcpVp\\\n",
              "pknEHwA1vZbjd5uMAB6A9ZHAaaa5znWzbj3+rnMt/gAAI4C7eG2/ID58+NDM+fuYjw/ib5FFTnOa\\\n",
              "5P7CkNvb2zZ2EQBa99qO320wAnggJpNJE3+99B7EX3I/EriaEzibzb74xBAA4HAJwAOwOQfwPOfN\\\n",
              "ukUWzevznDdXAz91s2gAoAYBuOc2b/I8zTQ3uUlyP+fvNKfNnMCb3DRzABMRCABVmQO4g7bnEGx7\\\n",
              "wkdyPxK4Hnuby+tcEAJAJW0fv18DI4B7bD6fb123ir1ut/tg+aWfAwAcHgG4xwaDQfr9/tb14/E4\\\n",
              "t7e3T94sesVj4ACgHgG457ZF4Ppp3W1PDBF/AFCTADwAmxH41Jy+zQgUfwBQ19u2d4BvYxVznU5n\\\n",
              "6wUdq/fn87n4A4DCXAW8A1cRAcD+cfw2Avhqzf6+27zu/t+sxT0BAA6NOYAAAMUIQACAYpwCfqWc\\\n",
              "9gUAfi9GAAEAihGAAADFCEAAgGIEIABAMQIQAKAYAQgAUIwABAAoRgACABQjAAEAihGAAADFCEAA\\\n",
              "gGIEIABAMQIQAKAYAQgAUIwABAAoRgACABQjAAEAihGAAADFCEAAgGIEIABAMQIQAKAYAQgAUIwA\\\n",
              "BAAoRgACABQjAAEAihGAAADFCEAAgGIEIABAMQIQAKAYAQgAUIwABAAoRgACABQjAAEAihGAAADF\\\n",
              "CEAAgGIEIABAMQIQAKAYAQgAUIwABAAoRgACABQjAAEAihGAAADFCEAAgGIEIABAMQIQAKAYAQgA\\\n",
              "UIwABAAoRgACABQjAAEAihGAAADFCEAAgGIEIABAMQIQnjEYDDKZTJ7dZjKZZDAYfJ8dAoBv4G3b\\\n",
              "OwCv1WAwyHA4bJYvLi4ebTOZTHJ5efngbwDgtTMCCE/YjL/Ly8tHI4Gb8TccDgUgAHtBAMKGzfhb\\\n",
              "WY/AzfhbEYEAX880m/Y4BQxrtsXfyioCZ7PZ1m1Wf+8LC2A702zaZQQQ1nQ6na3rTnKSJE38rZZf\\\n",
              "+jkA1Zlm0z4BCGsuLi4yHo8fvX+Ws4wySi+9JEkvvYwyylnOHm07Ho+f/CULgGk2r8Wb5XK5bHsn\\\n",
              "9tXd3V2Oj4+zWCxydHTU9u7wDa1/+ZzkJKOMmnWLLHKc42b5KleZZppE/AE850vTbJKk2+0+O80m\\\n",
              "Sfr9/k4h6PhtBBCetD4SOM0017lu1q3H33WuxR/AVzLN5vUQgLDFxcVFut1ukuSX/JJFFg/WL7LI\\\n",
              "L/klyf0vVvEH8DzTbF4PAQhbrF/t20vvwchfcj8SuPqyms1mX7yVAQCPI/AkJ/kpPyVJznOej/mY\\\n",
              "85wnSX7KTw9GAsXftyMA4QmbcwBXX0ZJHowEnue8+XJ66io2AB4zzaZ9AhA2bF59Ns00N7lJcv9l\\\n",
              "dJrT5svqJjfNl1MiAgG+lmk27RKAsGbbrQd+zs+5ylXzZfRLfslVrvJzfn60rQgE+DLTbNolAGHN\\\n",
              "fD7fum410rf6xbo+8veSzwGozjSb9glAWDMYDNLv97euH4/Hub29ffIqtpVd708FcMhMs3kd3Ah6\\\n",
              "B24kebieulnp5gTkp04Xiz+A7bZNs0nuRwLXY29zed2uF4Q4fhsBhCdtjgQ+9WWzeSsD8QfwPNNs\\\n",
              "Xo+3be8AvFarmOt0Olt/aa7en8/n4g/gC1bfk9seB7f6sf3cSKEf29+GU8A7MIQMAC/X9jQbx28j\\\n",
              "gBTxx5//2Lz+09mfWtwTADZHArdNs0nSRKCRv29LAAIA351pNu0SgADATv7jn/+pef2v//XfX/13\\\n",
              "XxN1ngDy+xCAlOC0LwD8jdvAAAAUYwQQANjJS0778joYAQQAKEYAAgAUIwABAIoRgAAAxQhAAIBi\\\n",
              "BCAAQDECEACgGAEIAFCMAAQAKEYAAgAUIwABAIoRgAAAxQhAAIBiBCAAQDECEACgGAEIAFCMAAQA\\\n",
              "KEYAAgAUIwABAIoRgAAAxQhAAIBiBCAAQDECEACgGAEIAFCMAAQAKEYAAgAUIwABAIoRgAAAxQhA\\\n",
              "AIBiBCAAQDECEACgGAEIAFCMAAQAKEYAAgAUIwABAIoRgAAAxQhAAIBiBCAAQDECEACgGAEIAFCM\\\n",
              "AAQAKEYAAgAUIwABAIoRgAAAxQhAAIBiBCAAQDECEACgGAEIAFCMAAQAKEYAAgAUIwABAIoRgAAA\\\n",
              "xQhAAIBiBCAAQDECEACgGAEIAFCMAAQAKEYAAgAUIwABAIoRgAAAxQhAAIBiBCAAQDECEACgGAEI\\\n",
              "AFCMAAQAKEYAAgAUIwABAIoRgAAAxQhAAIBiBCAAQDECEACgGAEIAFCMAAQAKEYAAgAUIwABAIoR\\\n",
              "gAAAxQhAAIBiBCAAQDECEACgGAEIAFCMAAQAKEYAAgAUIwABAIoRgAAAxQhAAIBiBCAAQDECEACg\\\n",
              "GAEIAFCMAAQAKEYAAgAUIwABAIoRgAAAxQhAAIBiBCAAQDECEACgGAEIAFCMAAQAKEYAAgAUIwAB\\\n",
              "AIoRgAAAxQhAAIBiBCAAQDECEACgGAEIAFCMAAQAKEYAAgAUIwABAIoRgAAAxQhAAIBiBCAAQDEC\\\n",
              "EACgGAEIAFCMAAQAKEYAAgAUIwABAIoRgAAAxQhAAIBiBCAAQDECEACgGAEIAFCMAAQAKEYAAgAU\\\n",
              "IwABAIoRgAAAxQhAAIBiBCAAQDECEACgGAEIAFCMAAQAKEYAAgAUIwABAIoRgAAAxQhAAIBiBCAA\\\n",
              "QDECEACgGAEIAFCMAAQAKEYAAgAUIwABAIoRgAAAxQhAAIBiBCAAQDECEACgGAEIAFCMAAQAKEYA\\\n",
              "AgAUIwABAIoRgAAAxQhAAIBiBCAAQDECEACgGAEIAFCMAAQAKEYAAgAUIwABAIoRgAAAxQhAAIBi\\\n",
              "BCAAQDECEABo3WAwyGQyeXabyWSSwWDwfXbowL1tewcAgNoGg0GGw2GzfHFx8WibyWSSy8vLB3/D\\\n",
              "b2cEEABozWb8XV5ePhoJ3Iy/4XAoAHckAAGAVmzG38p6BG7G34oI3M2b5XK5bHsn9tXd3V2Oj4+z\\\n",
              "WCxydHTU9u4AwN7YFn/rut1uZrPZs9v0+/0Xh6DjtxFAAKAFnU5n67qTnCRJE3+r5Zd+DtsJQADg\\\n",
              "u7u4uMh4PH70/lnOMsoovfSSJL30MsooZzl7tO14PH7yghG+zCngHRhCBoDdrM/xO8lJRhk16xZZ\\\n",
              "5DjHzfJVrjLNNMlu8ef4bQQQAGjR+kjgNNNc57pZtx5/17n+JvHHPSOAO/ALAgC+jQ8fPjRz/j7m\\\n",
              "44P4W2SR05wmub8w5Pb2dqd/y/HbCCAA0LLJZNLEXy+9B/GX3I8EruYEzmazLz4xhC8TgABAazbn\\\n",
              "AJ7nvFm3yKJ5fZ7z5mrgp24WzcsIQACgFZs3eZ5mmpvcJLmf83ea02ZO4E1umjmAiQjclTmAOzCH\\\n",
              "AAB+m21P+EjuRwLXY29zed1vuSDE8dsIIADQgvl8vnXdKva63e6D5Zd+DtsJQADguxsMBun3+1vX\\\n",
              "j8fj3N7ePnmz6JXf8hg47glAAKAV2yJw/bTutieGiL/dCEAAoDWbEfjUnL7NCBR/u3vb9g4AAIdl\\\n",
              "8i//27y++M9/+OL2q5jrdDpbL+hYvT+fz8XfNyAAAYDWfU3Uefzbt+MUMABAMUYAAYBv6mtO+9Iu\\\n",
              "I4AAAMUIQACAYgQgAEAxAhAAoBgBCABQjAAEAChGAAIAFCMAAQCKEYAAAMUIQACAYgQgAEAxAhAA\\\n",
              "oBgBCABQzNu2d2CfLZfLJMnd3V3LewIAfK3VcXt1HK9IAO7g8+fPSZL379+3vCcAwEt9/vw5x8fH\\\n",
              "be9GK94sK+fvjn799dd8+vQp7969y5s3b9reHQDgKyyXy3z+/Dk//vhjfvih5mw4AQgAUEzN7AUA\\\n",
              "KEwAAgAUIwABAIoRgAAAxQhAAIBiBCAAQDECEACgGAEIAFCMAAQAKEYAAgAUIwABAIoRgAAAxQhA\\\n",
              "AIBiBCAAQDECEACgGAEIAFCMAAQAKEYAAgAUIwABAIoRgAAAxQhAAIBiBCAAQDECEACgGAEIAFCM\\\n",
              "AAQAKEYAAgAUIwABAIoRgAAAxQhAAIBiBCAAQDECEACgGAEIAFCMAAQAKEYAAgAUIwABAIoRgAAA\\\n",
              "xQhAAIBiBCAAQDECEACgGAEIAFCMAAQAKEYAAgAUIwABAIoRgAAAxQhAAIBiBCAAQDECEACgGAEI\\\n",
              "AFCMAAQAKEYAAgAU8xembkzHWj6UDAAAAABJRU5ErkJggg==\\\n",
              "\"\n",
              "\n",
              "\n",
              "    /* set a timeout to make sure all the above elements are created before\n",
              "       the object is initialized. */\n",
              "    setTimeout(function() {\n",
              "        animc0c39a4ec0044faead60a2a87fa59f9e = new Animation(frames, img_id, slider_id, 500.0,\n",
              "                                 loop_select_id);\n",
              "    }, 0);\n",
              "  })()\n",
              "</script>\n"
            ]
          },
          "metadata": {},
          "execution_count": 179
        }
      ],
      "source": [
        "from matplotlib.animation import FuncAnimation\n",
        "from IPython.display import HTML\n",
        "\n",
        "def do_one(d):\n",
        "    if d: one_update(X)\n",
        "    ax.clear()\n",
        "    ax.set_xticks([])\n",
        "    ax.set_yticks([])\n",
        "    ax.set_xlabel(\"\")\n",
        "    ax.set_ylabel(\"\")\n",
        "\n",
        "    plot_data(centroids+2, X, n_samples, ax=ax)\n",
        "\n",
        "# create your own animation\n",
        "X = data.clone()\n",
        "fig,ax = plt.subplots()\n",
        "ani = FuncAnimation(fig, do_one, frames=5, interval=500, repeat=False)\n",
        "ani.save(\"animation.html\", writer=\"html\")\n",
        "\n",
        "plt.close()\n",
        "HTML(ani.to_jshtml())"
      ]
    },
    {
      "cell_type": "code",
      "execution_count": 179,
      "metadata": {
        "id": "Vl_WDlWbL-e0"
      },
      "outputs": [],
      "source": []
    },
    {
      "cell_type": "markdown",
      "metadata": {
        "id": "SBu6gLj6NKO1"
      },
      "source": [
        " but its SLOW.becaue loop wont run on GPU even though we will move data to GPU\n",
        " sO WE ARE GOING TO REPLACE LOOP WITH BROADCASTING\n",
        "\n",
        "\n",
        " ### GPU batched algorithm\n",
        "\n",
        " make one_update() run without loop"
      ]
    },
    {
      "cell_type": "code",
      "execution_count": 180,
      "metadata": {
        "id": "nk6DqmzGL-hJ",
        "colab": {
          "base_uri": "https://localhost:8080/"
        },
        "outputId": "71b423a5-2dea-4ef8-f7ee-c65bea050cc3"
      },
      "outputs": [
        {
          "output_type": "execute_result",
          "data": {
            "text/plain": [
              "(torch.Size([5, 2]), torch.Size([1500, 2]))"
            ]
          },
          "metadata": {},
          "execution_count": 180
        }
      ],
      "source": [
        "# create mini batches\n",
        "bs = 5 # 5 items at a time\n",
        "X = data.clone()\n",
        "x = X[:bs]\n",
        "x.shape, X.shape"
      ]
    },
    {
      "cell_type": "code",
      "execution_count": 181,
      "metadata": {
        "id": "mKSLl-cVUeFZ",
        "colab": {
          "base_uri": "https://localhost:8080/",
          "height": 52
        },
        "outputId": "88b30549-1646-4dcf-c6df-2c369e6ca55a"
      },
      "outputs": [
        {
          "output_type": "execute_result",
          "data": {
            "text/plain": [
              "\"\\nNoew instead of using single instance, we are using batch i.e. x = X[:bs] (5,2) so we'd be calculating distance between each instance of X (1500,2) with each instance\\nof X, so resultant wold be would be a distance matrix (5,1500)\\n\\n\""
            ],
            "application/vnd.google.colaboratory.intrinsic+json": {
              "type": "string"
            }
          },
          "metadata": {},
          "execution_count": 181
        }
      ],
      "source": [
        "\"\"\"\n",
        "Noew instead of using single instance, we are using batch i.e. x = X[:bs] (5,2) so we'd be calculating distance between each instance of X (1500,2) with each instance\n",
        "of X, so resultant wold be would be a distance matrix (5,1500)\n",
        "\n",
        "\"\"\""
      ]
    },
    {
      "cell_type": "code",
      "execution_count": 182,
      "metadata": {
        "id": "xarf3pQcL-jO",
        "colab": {
          "base_uri": "https://localhost:8080/"
        },
        "outputId": "b47bf3c5-8f12-4be8-f252-b15bdc381e3b"
      },
      "outputs": [
        {
          "output_type": "stream",
          "name": "stdout",
          "text": [
            "A: torch.Size([1500, 2])  , B: torch.Size([5, 2])\n",
            "A[None]: torch.Size([1, 1500, 2])  , \n",
            " A: tensor([[[26.204, 26.349],\n",
            "         [25.691, 30.213],\n",
            "         [30.431, 28.693],\n",
            "         ...,\n",
            "         [30.772,  9.323],\n",
            "         [29.354,  3.960],\n",
            "         [31.168,  5.309]]])\n",
            "\n",
            "\n",
            "\n",
            "\n",
            "B[None]: torch.Size([5, 1, 2])  ,\n",
            "  B: tensor([[[26.204, 26.349]],\n",
            "\n",
            "        [[25.691, 30.213]],\n",
            "\n",
            "        [[30.431, 28.693]],\n",
            "\n",
            "        [[25.647, 30.033]]])\n"
          ]
        },
        {
          "output_type": "execute_result",
          "data": {
            "text/plain": [
              "torch.Size([5, 1500])"
            ]
          },
          "metadata": {},
          "execution_count": 182
        }
      ],
      "source": [
        "def dist_b(a,b):\n",
        "  print(f\"A: {a.shape}  , B: {b.shape}\")\n",
        "\n",
        "  print(f\"A[None]: {a[None].shape}  , \\n A: {a[None][:4]}\\n\\n\\n\\n\")\n",
        "  print(f\"B[None]: {b[:,None].shape}  ,\\n  B: {b[:,None][:4]}\")\n",
        "  # return(a[None] - b[:, None])\n",
        "\n",
        "\n",
        "  # return torch.sqrt(((a[None] - b[:, None])**2))\n",
        "  return torch.sqrt(((a[None] - b[:, None])**2).sum(2))\n",
        "dist_b(X,x).shape\n",
        "# dist_b(X,x)\n",
        "\n"
      ]
    },
    {
      "cell_type": "code",
      "execution_count": 183,
      "metadata": {
        "id": "JfPns_KeL-lL",
        "colab": {
          "base_uri": "https://localhost:8080/"
        },
        "outputId": "845bc3b9-3bf3-48ff-dc5e-6cb523a0137d"
      },
      "outputs": [
        {
          "output_type": "stream",
          "name": "stdout",
          "text": [
            "A: torch.Size([1500, 2])  , B: torch.Size([5, 2])\n",
            "A[None]: torch.Size([1, 1500, 2])  , \n",
            " A: tensor([[[26.204, 26.349],\n",
            "         [25.691, 30.213],\n",
            "         [30.431, 28.693],\n",
            "         ...,\n",
            "         [30.772,  9.323],\n",
            "         [29.354,  3.960],\n",
            "         [31.168,  5.309]]])\n",
            "\n",
            "\n",
            "\n",
            "\n",
            "B[None]: torch.Size([5, 1, 2])  ,\n",
            "  B: tensor([[[26.204, 26.349]],\n",
            "\n",
            "        [[25.691, 30.213]],\n",
            "\n",
            "        [[30.431, 28.693]],\n",
            "\n",
            "        [[25.647, 30.033]]])\n",
            "A: torch.Size([1500, 2])  , B: torch.Size([5, 2])\n",
            "A[None]: torch.Size([1, 1500, 2])  , \n",
            " A: tensor([[[26.204, 26.349],\n",
            "         [25.691, 30.213],\n",
            "         [30.431, 28.693],\n",
            "         ...,\n",
            "         [30.772,  9.323],\n",
            "         [29.354,  3.960],\n",
            "         [31.168,  5.309]]])\n",
            "\n",
            "\n",
            "\n",
            "\n",
            "B[None]: torch.Size([5, 1, 2])  ,\n",
            "  B: tensor([[[26.204, 26.349]],\n",
            "\n",
            "        [[25.691, 30.213]],\n",
            "\n",
            "        [[30.431, 28.693]],\n",
            "\n",
            "        [[25.647, 30.033]]])\n"
          ]
        },
        {
          "output_type": "execute_result",
          "data": {
            "text/plain": [
              "(torch.Size([5, 1500]),\n",
              " tensor([[ 0.000,  3.899,  4.834,  ..., 17.628, 22.610, 21.617],\n",
              "         [ 3.899,  0.000,  4.978,  ..., 21.499, 26.508, 25.500],\n",
              "         [ 4.834,  4.978,  0.000,  ..., 19.373, 24.757, 23.396],\n",
              "         [ 3.726,  0.185,  4.969,  ..., 21.335, 26.336, 25.333],\n",
              "         [ 6.273,  5.547,  1.615,  ..., 20.775, 26.201, 24.785]]))"
            ]
          },
          "metadata": {},
          "execution_count": 183
        }
      ],
      "source": [
        "dist_b(X,x).shape, dist_b(X,x)\n"
      ]
    },
    {
      "cell_type": "code",
      "execution_count": 184,
      "metadata": {
        "id": "a-ix4zA8IIl-",
        "colab": {
          "base_uri": "https://localhost:8080/"
        },
        "outputId": "fa50c5d5-6c78-4654-ce15-2865a202b7d6"
      },
      "outputs": [
        {
          "output_type": "execute_result",
          "data": {
            "text/plain": [
              "(torch.Size([1500, 2]), torch.Size([5, 2]))"
            ]
          },
          "metadata": {},
          "execution_count": 184
        }
      ],
      "source": [
        "X.shape, x.shape"
      ]
    },
    {
      "cell_type": "code",
      "execution_count": 185,
      "metadata": {
        "id": "szhTV2zUITge"
      },
      "outputs": [],
      "source": [
        "# X-x"
      ]
    },
    {
      "cell_type": "code",
      "execution_count": 186,
      "metadata": {
        "id": "cWXnWTv8L-nn",
        "colab": {
          "base_uri": "https://localhost:8080/"
        },
        "outputId": "a7555e2c-5536-49f8-a08d-5ca0e433ef7f"
      },
      "outputs": [
        {
          "output_type": "execute_result",
          "data": {
            "text/plain": [
              "(torch.Size([1, 5, 2]), torch.Size([5, 1, 2]), torch.Size([5, 1500, 2]))"
            ]
          },
          "metadata": {},
          "execution_count": 186
        }
      ],
      "source": [
        "x[None].shape, x[:, None].shape, (X[None,:]-x[:,None]).shape"
      ]
    },
    {
      "cell_type": "code",
      "execution_count": 187,
      "metadata": {
        "id": "y82j6JCCXCnn",
        "colab": {
          "base_uri": "https://localhost:8080/"
        },
        "outputId": "9432cb48-1679-475d-d77e-60b7c168d36f"
      },
      "outputs": [
        {
          "output_type": "stream",
          "name": "stdout",
          "text": [
            "A: torch.Size([1500, 2])  , B: torch.Size([5, 2])\n",
            "A[None]: torch.Size([1, 1500, 2])  , \n",
            " A: tensor([[[26.204, 26.349],\n",
            "         [25.691, 30.213],\n",
            "         [30.431, 28.693],\n",
            "         ...,\n",
            "         [30.772,  9.323],\n",
            "         [29.354,  3.960],\n",
            "         [31.168,  5.309]]])\n",
            "\n",
            "\n",
            "\n",
            "\n",
            "B[None]: torch.Size([5, 1, 2])  ,\n",
            "  B: tensor([[[26.204, 26.349]],\n",
            "\n",
            "        [[25.691, 30.213]],\n",
            "\n",
            "        [[30.431, 28.693]],\n",
            "\n",
            "        [[25.647, 30.033]]])\n"
          ]
        },
        {
          "output_type": "execute_result",
          "data": {
            "text/plain": [
              "torch.Size([5, 1500])"
            ]
          },
          "metadata": {},
          "execution_count": 187
        }
      ],
      "source": [
        "dist_b(X,x).shape"
      ]
    },
    {
      "cell_type": "code",
      "execution_count": 187,
      "metadata": {
        "id": "s4-c45xLXCq8"
      },
      "outputs": [],
      "source": []
    },
    {
      "cell_type": "code",
      "execution_count": 188,
      "metadata": {
        "id": "DKX75wLhXClX",
        "colab": {
          "base_uri": "https://localhost:8080/"
        },
        "outputId": "3a2c9f37-c1fe-42f5-8d43-827eddd98628"
      },
      "outputs": [
        {
          "output_type": "stream",
          "name": "stdout",
          "text": [
            "A: torch.Size([1500, 2])  , B: torch.Size([5, 2])\n",
            "A[None]: torch.Size([1, 1500, 2])  , \n",
            " A: tensor([[[26.204, 26.349],\n",
            "         [25.691, 30.213],\n",
            "         [30.431, 28.693],\n",
            "         ...,\n",
            "         [30.772,  9.323],\n",
            "         [29.354,  3.960],\n",
            "         [31.168,  5.309]]])\n",
            "\n",
            "\n",
            "\n",
            "\n",
            "B[None]: torch.Size([5, 1, 2])  ,\n",
            "  B: tensor([[[26.204, 26.349]],\n",
            "\n",
            "        [[25.691, 30.213]],\n",
            "\n",
            "        [[30.431, 28.693]],\n",
            "\n",
            "        [[25.647, 30.033]]])\n"
          ]
        },
        {
          "output_type": "execute_result",
          "data": {
            "text/plain": [
              "tensor([[    0.199,     0.030,     0.011,  ...,     0.000,     0.000,     0.000],\n",
              "        [    0.030,     0.199,     0.009,  ...,     0.000,     0.000,     0.000],\n",
              "        [    0.011,     0.009,     0.199,  ...,     0.000,     0.000,     0.000],\n",
              "        [    0.035,     0.199,     0.009,  ...,     0.000,     0.000,     0.000],\n",
              "        [    0.001,     0.004,     0.144,  ...,     0.000,     0.000,     0.000]])"
            ]
          },
          "metadata": {},
          "execution_count": 188
        }
      ],
      "source": [
        "weight = gaussian(dist_b(X,x),2)\n",
        "weight"
      ]
    },
    {
      "cell_type": "code",
      "execution_count": 189,
      "metadata": {
        "id": "9H7vuuwqXCwt"
      },
      "outputs": [],
      "source": [
        "gaussian??"
      ]
    },
    {
      "cell_type": "code",
      "execution_count": 190,
      "metadata": {
        "id": "JIT1Q7eaXCug",
        "colab": {
          "base_uri": "https://localhost:8080/"
        },
        "outputId": "6ffba72e-b5f4-4c29-8c27-bbf384b92295"
      },
      "outputs": [
        {
          "output_type": "execute_result",
          "data": {
            "text/plain": [
              "(torch.Size([5, 1500]), torch.Size([1500, 2]))"
            ]
          },
          "metadata": {},
          "execution_count": 190
        }
      ],
      "source": [
        "weight.shape, X.shape"
      ]
    },
    {
      "cell_type": "code",
      "execution_count": 191,
      "metadata": {
        "id": "bwTfwfmvXCyo",
        "colab": {
          "base_uri": "https://localhost:8080/"
        },
        "outputId": "56f0c1b6-3de4-454f-e6c2-643cb79ecc58"
      },
      "outputs": [
        {
          "output_type": "execute_result",
          "data": {
            "text/plain": [
              "(torch.Size([5, 1500, 1]), torch.Size([5, 1500, 1]), torch.Size([1, 1500, 2]))"
            ]
          },
          "metadata": {},
          "execution_count": 191
        }
      ],
      "source": [
        "weight[..., None].shape, weight[:,:, None].shape,X[None].shape"
      ]
    },
    {
      "cell_type": "code",
      "execution_count": 192,
      "metadata": {
        "id": "eaO0VUENXC01",
        "colab": {
          "base_uri": "https://localhost:8080/"
        },
        "outputId": "eb248ad6-310f-430f-f95a-cae7aa67dd05"
      },
      "outputs": [
        {
          "output_type": "execute_result",
          "data": {
            "text/plain": [
              "torch.Size([5, 2])"
            ]
          },
          "metadata": {},
          "execution_count": 192
        }
      ],
      "source": [
        "num = (weight[..., None] * X[None]).sum(1)\n",
        "num.shape"
      ]
    },
    {
      "cell_type": "code",
      "execution_count": 193,
      "metadata": {
        "id": "YYPM2lx1XC3c",
        "colab": {
          "base_uri": "https://localhost:8080/"
        },
        "outputId": "ba07c538-95a8-4aad-c014-7c553a1f2f37"
      },
      "outputs": [
        {
          "output_type": "execute_result",
          "data": {
            "text/plain": [
              "tensor([[367.870, 386.231],\n",
              "        [518.332, 588.680],\n",
              "        [329.665, 330.782],\n",
              "        [527.617, 598.217],\n",
              "        [231.302, 234.155]])"
            ]
          },
          "metadata": {},
          "execution_count": 193
        }
      ],
      "source": [
        "num"
      ]
    },
    {
      "cell_type": "code",
      "execution_count": 194,
      "metadata": {
        "id": "peI1Ai6PXC6W",
        "colab": {
          "base_uri": "https://localhost:8080/"
        },
        "outputId": "dd22a020-f2fe-4902-f35b-1e84bfec56bb"
      },
      "outputs": [
        {
          "output_type": "execute_result",
          "data": {
            "text/plain": [
              "tensor([[367.870, 386.231],\n",
              "        [518.332, 588.680],\n",
              "        [329.665, 330.782],\n",
              "        [527.617, 598.217],\n",
              "        [231.302, 234.155]])"
            ]
          },
          "metadata": {},
          "execution_count": 194
        }
      ],
      "source": [
        "torch.einsum('ij,jk -> ik', weight, X)"
      ]
    },
    {
      "cell_type": "code",
      "execution_count": 195,
      "metadata": {
        "id": "sMLfsABDXC8O",
        "colab": {
          "base_uri": "https://localhost:8080/"
        },
        "outputId": "efe284d1-fb1b-4bde-bc24-26efe2ca6f77"
      },
      "outputs": [
        {
          "output_type": "execute_result",
          "data": {
            "text/plain": [
              "tensor([[367.870, 386.231],\n",
              "        [518.332, 588.680],\n",
              "        [329.665, 330.782],\n",
              "        [527.617, 598.217],\n",
              "        [231.302, 234.155]])"
            ]
          },
          "metadata": {},
          "execution_count": 195
        }
      ],
      "source": [
        "# same as\n",
        "weight@X"
      ]
    },
    {
      "cell_type": "code",
      "execution_count": 196,
      "metadata": {
        "id": "X9HafUw0KyDj",
        "colab": {
          "base_uri": "https://localhost:8080/"
        },
        "outputId": "f2ea640e-75df-4ec7-8a31-6fee50aa1a8d"
      },
      "outputs": [
        {
          "output_type": "execute_result",
          "data": {
            "text/plain": [
              "torch.Size([5, 1500])"
            ]
          },
          "metadata": {},
          "execution_count": 196
        }
      ],
      "source": [
        "weight.shape"
      ]
    },
    {
      "cell_type": "code",
      "execution_count": 197,
      "metadata": {
        "id": "OegisPldKmqh",
        "colab": {
          "base_uri": "https://localhost:8080/"
        },
        "outputId": "751c66d6-f902-4698-efa3-639dd5b9fea7"
      },
      "outputs": [
        {
          "output_type": "execute_result",
          "data": {
            "text/plain": [
              "torch.Size([5, 1])"
            ]
          },
          "metadata": {},
          "execution_count": 197
        }
      ],
      "source": [
        "div = weight.sum(1, keepdim=True)\n",
        "div.shape"
      ]
    },
    {
      "cell_type": "code",
      "execution_count": 198,
      "metadata": {
        "id": "aY4nPvv6KnII",
        "colab": {
          "base_uri": "https://localhost:8080/"
        },
        "outputId": "19be1b56-d0fc-47b6-f6f8-a5db52d3dc0b"
      },
      "outputs": [
        {
          "output_type": "execute_result",
          "data": {
            "text/plain": [
              "tensor([[26.376, 27.692],\n",
              "        [26.101, 29.643],\n",
              "        [28.892, 28.990],\n",
              "        [26.071, 29.559],\n",
              "        [29.323, 29.685]])"
            ]
          },
          "metadata": {},
          "execution_count": 198
        }
      ],
      "source": [
        "num/div"
      ]
    },
    {
      "cell_type": "code",
      "execution_count": 199,
      "metadata": {
        "id": "TeiDUEwfKnKy",
        "colab": {
          "base_uri": "https://localhost:8080/",
          "height": 52
        },
        "outputId": "8b66c631-dd73-4980-abf2-8294ed131663"
      },
      "outputs": [
        {
          "output_type": "execute_result",
          "data": {
            "text/plain": [
              "'Although each iteration still has to launch a new cuda kernel, there are now fewer iterations, and the acceleration from updating a batch of\\n     points more than makes up for it.\\n\\n'"
            ],
            "application/vnd.google.colaboratory.intrinsic+json": {
              "type": "string"
            }
          },
          "metadata": {},
          "execution_count": 199
        }
      ],
      "source": [
        "\n",
        "def meanshift(data, bs=500):\n",
        "    # n = len(data)\n",
        "    n=1500\n",
        "    X = data.clone()\n",
        "    for it in range(5):\n",
        "        for i in range(0, n, bs):\n",
        "            s = slice(i, min(i+bs,n))   # n if whole data is elapsed\n",
        "            weight = gaussian(dist_b(X, X[s]), 2.5)\n",
        "#             weight = tri(dist_b(X, X[s]), 8)\n",
        "            div = weight.sum(1, keepdim=True)\n",
        "            X[s] = weight@X/div\n",
        "    return X\n",
        "\n",
        "\"\"\"Although each iteration still has to launch a new cuda kernel, there are now fewer iterations, and the acceleration from updating a batch of\n",
        "     points more than makes up for it.\n",
        "\n",
        "\"\"\""
      ]
    },
    {
      "cell_type": "code",
      "execution_count": 200,
      "metadata": {
        "id": "e6uRjS4FKnNc"
      },
      "outputs": [],
      "source": [
        "data = data.cuda()"
      ]
    },
    {
      "cell_type": "code",
      "execution_count": 201,
      "metadata": {
        "id": "bknJStOVKnPh",
        "outputId": "051aea6a-582c-4cab-a1e0-1b1045e36442",
        "colab": {
          "base_uri": "https://localhost:8080/"
        }
      },
      "outputs": [
        {
          "output_type": "stream",
          "name": "stdout",
          "text": [
            "A: torch.Size([1500, 2])  , B: torch.Size([500, 2])\n",
            "A[None]: torch.Size([1, 1500, 2])  , \n",
            " A: tensor([[[26.204, 26.349],\n",
            "         [25.691, 30.213],\n",
            "         [30.431, 28.693],\n",
            "         ...,\n",
            "         [30.772,  9.323],\n",
            "         [29.354,  3.960],\n",
            "         [31.168,  5.309]]], device='cuda:0')\n",
            "\n",
            "\n",
            "\n",
            "\n",
            "B[None]: torch.Size([500, 1, 2])  ,\n",
            "  B: tensor([[[26.204, 26.349]],\n",
            "\n",
            "        [[25.691, 30.213]],\n",
            "\n",
            "        [[30.431, 28.693]],\n",
            "\n",
            "        [[25.647, 30.033]]], device='cuda:0')\n",
            "A: torch.Size([1500, 2])  , B: torch.Size([500, 2])\n",
            "A[None]: torch.Size([1, 1500, 2])  , \n",
            " A: tensor([[[26.440, 28.038],\n",
            "         [26.239, 29.519],\n",
            "         [28.484, 29.045],\n",
            "         ...,\n",
            "         [30.772,  9.323],\n",
            "         [29.354,  3.960],\n",
            "         [31.168,  5.309]]], device='cuda:0')\n",
            "\n",
            "\n",
            "\n",
            "\n",
            "B[None]: torch.Size([500, 1, 2])  ,\n",
            "  B: tensor([[[ -7.018,   6.885]],\n",
            "\n",
            "        [[ -4.717,   3.665]],\n",
            "\n",
            "        [[-10.471,   6.612]],\n",
            "\n",
            "        [[-12.089,   9.137]]], device='cuda:0')\n",
            "A: torch.Size([1500, 2])  , B: torch.Size([500, 2])\n",
            "A[None]: torch.Size([1, 1500, 2])  , \n",
            " A: tensor([[[26.440, 28.038],\n",
            "         [26.239, 29.519],\n",
            "         [28.484, 29.045],\n",
            "         ...,\n",
            "         [30.772,  9.323],\n",
            "         [29.354,  3.960],\n",
            "         [31.168,  5.309]]], device='cuda:0')\n",
            "\n",
            "\n",
            "\n",
            "\n",
            "B[None]: torch.Size([500, 1, 2])  ,\n",
            "  B: tensor([[[ 27.930, -23.513]],\n",
            "\n",
            "        [[ 31.337, -23.532]],\n",
            "\n",
            "        [[ 31.253, -26.078]],\n",
            "\n",
            "        [[ 29.605, -27.646]]], device='cuda:0')\n",
            "A: torch.Size([1500, 2])  , B: torch.Size([500, 2])\n",
            "A[None]: torch.Size([1, 1500, 2])  , \n",
            " A: tensor([[[26.440, 28.038],\n",
            "         [26.239, 29.519],\n",
            "         [28.484, 29.045],\n",
            "         ...,\n",
            "         [30.556,  7.726],\n",
            "         [29.988,  5.355],\n",
            "         [30.796,  5.931]]], device='cuda:0')\n",
            "\n",
            "\n",
            "\n",
            "\n",
            "B[None]: torch.Size([500, 1, 2])  ,\n",
            "  B: tensor([[[26.440, 28.038]],\n",
            "\n",
            "        [[26.239, 29.519]],\n",
            "\n",
            "        [[28.484, 29.045]],\n",
            "\n",
            "        [[26.214, 29.451]]], device='cuda:0')\n",
            "A: torch.Size([1500, 2])  , B: torch.Size([500, 2])\n",
            "A[None]: torch.Size([1, 1500, 2])  , \n",
            " A: tensor([[[26.676, 29.047],\n",
            "         [26.673, 29.166],\n",
            "         [27.050, 29.182],\n",
            "         ...,\n",
            "         [30.556,  7.726],\n",
            "         [29.988,  5.355],\n",
            "         [30.796,  5.931]]], device='cuda:0')\n",
            "\n",
            "\n",
            "\n",
            "\n",
            "B[None]: torch.Size([500, 1, 2])  ,\n",
            "  B: tensor([[[-7.465,  6.932]],\n",
            "\n",
            "        [[-6.307,  5.409]],\n",
            "\n",
            "        [[-8.934,  6.702]],\n",
            "\n",
            "        [[-9.524,  7.827]]], device='cuda:0')\n",
            "A: torch.Size([1500, 2])  , B: torch.Size([500, 2])\n",
            "A[None]: torch.Size([1, 1500, 2])  , \n",
            " A: tensor([[[26.676, 29.047],\n",
            "         [26.673, 29.166],\n",
            "         [27.050, 29.182],\n",
            "         ...,\n",
            "         [30.556,  7.726],\n",
            "         [29.988,  5.355],\n",
            "         [30.796,  5.931]]], device='cuda:0')\n",
            "\n",
            "\n",
            "\n",
            "\n",
            "B[None]: torch.Size([500, 1, 2])  ,\n",
            "  B: tensor([[[ 29.443, -24.582]],\n",
            "\n",
            "        [[ 31.050, -24.671]],\n",
            "\n",
            "        [[ 31.001, -25.804]],\n",
            "\n",
            "        [[ 30.224, -26.475]]], device='cuda:0')\n",
            "A: torch.Size([1500, 2])  , B: torch.Size([500, 2])\n",
            "A[None]: torch.Size([1, 1500, 2])  , \n",
            " A: tensor([[[26.676, 29.047],\n",
            "         [26.673, 29.166],\n",
            "         [27.050, 29.182],\n",
            "         ...,\n",
            "         [30.466,  6.633],\n",
            "         [30.401,  6.305],\n",
            "         [30.509,  6.378]]], device='cuda:0')\n",
            "\n",
            "\n",
            "\n",
            "\n",
            "B[None]: torch.Size([500, 1, 2])  ,\n",
            "  B: tensor([[[26.676, 29.047]],\n",
            "\n",
            "        [[26.673, 29.166]],\n",
            "\n",
            "        [[27.050, 29.182]],\n",
            "\n",
            "        [[26.667, 29.160]]], device='cuda:0')\n",
            "A: torch.Size([1500, 2])  , B: torch.Size([500, 2])\n",
            "A[None]: torch.Size([1, 1500, 2])  , \n",
            " A: tensor([[[26.757, 29.151],\n",
            "         [26.757, 29.151],\n",
            "         [26.760, 29.152],\n",
            "         ...,\n",
            "         [30.466,  6.633],\n",
            "         [30.401,  6.305],\n",
            "         [30.509,  6.378]]], device='cuda:0')\n",
            "\n",
            "\n",
            "\n",
            "\n",
            "B[None]: torch.Size([500, 1, 2])  ,\n",
            "  B: tensor([[[-7.684,  6.949]],\n",
            "\n",
            "        [[-7.531,  6.721]],\n",
            "\n",
            "        [[-7.885,  6.888]],\n",
            "\n",
            "        [[-7.937,  7.052]]], device='cuda:0')\n",
            "A: torch.Size([1500, 2])  , B: torch.Size([500, 2])\n",
            "A[None]: torch.Size([1, 1500, 2])  , \n",
            " A: tensor([[[26.757, 29.151],\n",
            "         [26.757, 29.151],\n",
            "         [26.760, 29.152],\n",
            "         ...,\n",
            "         [30.466,  6.633],\n",
            "         [30.401,  6.305],\n",
            "         [30.509,  6.378]]], device='cuda:0')\n",
            "\n",
            "\n",
            "\n",
            "\n",
            "B[None]: torch.Size([500, 1, 2])  ,\n",
            "  B: tensor([[[ 30.612, -25.380]],\n",
            "\n",
            "        [[ 30.898, -25.395]],\n",
            "\n",
            "        [[ 30.885, -25.551]],\n",
            "\n",
            "        [[ 30.749, -25.642]]], device='cuda:0')\n",
            "A: torch.Size([1500, 2])  , B: torch.Size([500, 2])\n",
            "A[None]: torch.Size([1, 1500, 2])  , \n",
            " A: tensor([[[26.757, 29.151],\n",
            "         [26.757, 29.151],\n",
            "         [26.760, 29.152],\n",
            "         ...,\n",
            "         [30.456,  6.458],\n",
            "         [30.456,  6.457],\n",
            "         [30.456,  6.457]]], device='cuda:0')\n",
            "\n",
            "\n",
            "\n",
            "\n",
            "B[None]: torch.Size([500, 1, 2])  ,\n",
            "  B: tensor([[[26.757, 29.151]],\n",
            "\n",
            "        [[26.757, 29.151]],\n",
            "\n",
            "        [[26.760, 29.152]],\n",
            "\n",
            "        [[26.757, 29.151]]], device='cuda:0')\n",
            "A: torch.Size([1500, 2])  , B: torch.Size([500, 2])\n",
            "A[None]: torch.Size([1, 1500, 2])  , \n",
            " A: tensor([[[26.758, 29.152],\n",
            "         [26.758, 29.152],\n",
            "         [26.758, 29.152],\n",
            "         ...,\n",
            "         [30.456,  6.458],\n",
            "         [30.456,  6.457],\n",
            "         [30.456,  6.457]]], device='cuda:0')\n",
            "\n",
            "\n",
            "\n",
            "\n",
            "B[None]: torch.Size([500, 1, 2])  ,\n",
            "  B: tensor([[[-7.710,  6.954]],\n",
            "\n",
            "        [[-7.709,  6.953]],\n",
            "\n",
            "        [[-7.710,  6.954]],\n",
            "\n",
            "        [[-7.710,  6.954]]], device='cuda:0')\n",
            "A: torch.Size([1500, 2])  , B: torch.Size([500, 2])\n",
            "A[None]: torch.Size([1, 1500, 2])  , \n",
            " A: tensor([[[26.758, 29.152],\n",
            "         [26.758, 29.152],\n",
            "         [26.758, 29.152],\n",
            "         ...,\n",
            "         [30.456,  6.458],\n",
            "         [30.456,  6.457],\n",
            "         [30.456,  6.457]]], device='cuda:0')\n",
            "\n",
            "\n",
            "\n",
            "\n",
            "B[None]: torch.Size([500, 1, 2])  ,\n",
            "  B: tensor([[[ 30.874, -25.500]],\n",
            "\n",
            "        [[ 30.876, -25.500]],\n",
            "\n",
            "        [[ 30.876, -25.501]],\n",
            "\n",
            "        [[ 30.875, -25.501]]], device='cuda:0')\n",
            "A: torch.Size([1500, 2])  , B: torch.Size([500, 2])\n",
            "A[None]: torch.Size([1, 1500, 2])  , \n",
            " A: tensor([[[26.758, 29.152],\n",
            "         [26.758, 29.152],\n",
            "         [26.758, 29.152],\n",
            "         ...,\n",
            "         [30.456,  6.457],\n",
            "         [30.456,  6.457],\n",
            "         [30.456,  6.457]]], device='cuda:0')\n",
            "\n",
            "\n",
            "\n",
            "\n",
            "B[None]: torch.Size([500, 1, 2])  ,\n",
            "  B: tensor([[[26.758, 29.152]],\n",
            "\n",
            "        [[26.758, 29.152]],\n",
            "\n",
            "        [[26.758, 29.152]],\n",
            "\n",
            "        [[26.758, 29.152]]], device='cuda:0')\n",
            "A: torch.Size([1500, 2])  , B: torch.Size([500, 2])\n",
            "A[None]: torch.Size([1, 1500, 2])  , \n",
            " A: tensor([[[26.758, 29.152],\n",
            "         [26.758, 29.152],\n",
            "         [26.758, 29.152],\n",
            "         ...,\n",
            "         [30.456,  6.457],\n",
            "         [30.456,  6.457],\n",
            "         [30.456,  6.457]]], device='cuda:0')\n",
            "\n",
            "\n",
            "\n",
            "\n",
            "B[None]: torch.Size([500, 1, 2])  ,\n",
            "  B: tensor([[[-7.710,  6.954]],\n",
            "\n",
            "        [[-7.710,  6.954]],\n",
            "\n",
            "        [[-7.710,  6.954]],\n",
            "\n",
            "        [[-7.710,  6.954]]], device='cuda:0')\n",
            "A: torch.Size([1500, 2])  , B: torch.Size([500, 2])\n",
            "A[None]: torch.Size([1, 1500, 2])  , \n",
            " A: tensor([[[26.758, 29.152],\n",
            "         [26.758, 29.152],\n",
            "         [26.758, 29.152],\n",
            "         ...,\n",
            "         [30.456,  6.457],\n",
            "         [30.456,  6.457],\n",
            "         [30.456,  6.457]]], device='cuda:0')\n",
            "\n",
            "\n",
            "\n",
            "\n",
            "B[None]: torch.Size([500, 1, 2])  ,\n",
            "  B: tensor([[[ 30.876, -25.501]],\n",
            "\n",
            "        [[ 30.876, -25.501]],\n",
            "\n",
            "        [[ 30.876, -25.501]],\n",
            "\n",
            "        [[ 30.876, -25.501]]], device='cuda:0')\n"
          ]
        }
      ],
      "source": [
        "X=meanshift(data).cpu()"
      ]
    },
    {
      "cell_type": "code",
      "execution_count": 202,
      "metadata": {
        "id": "Kv5NWEbuKnSY",
        "outputId": "0ee7beac-d0d4-46d5-b445-315cdaefac58",
        "colab": {
          "base_uri": "https://localhost:8080/",
          "height": 430
        }
      },
      "outputs": [
        {
          "output_type": "display_data",
          "data": {
            "text/plain": [
              "<Figure size 640x480 with 1 Axes>"
            ],
            "image/png": "[encoded data removed]"
          },
          "metadata": {}
        }
      ],
      "source": [
        "plot_data(centroids+2, X, n_samples)"
      ]
    },
    {
      "cell_type": "code",
      "execution_count": 202,
      "metadata": {
        "id": "oKoOlNhGKnVC"
      },
      "outputs": [],
      "source": []
    },
    {
      "cell_type": "code",
      "execution_count": 202,
      "metadata": {
        "id": "btcXWN9-KnX6"
      },
      "outputs": [],
      "source": []
    },
    {
      "cell_type": "code",
      "execution_count": 202,
      "metadata": {
        "id": "k2ElqAjHKnaR"
      },
      "outputs": [],
      "source": []
    }
  ],
  "metadata": {
    "colab": {
      "provenance": [],
      "gpuType": "T4",
      "authorship_tag": "ABX9TyM8uQAsoIEs9CpAEjR3Z9Sp",
      "include_colab_link": true
    },
    "kernelspec": {
      "display_name": "Python 3",
      "name": "python3"
    },
    "language_info": {
      "name": "python"
    },
    "accelerator": "GPU"
  },
  "nbformat": 4,
  "nbformat_minor": 0
}