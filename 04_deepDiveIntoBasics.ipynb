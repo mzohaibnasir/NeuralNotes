{
  "nbformat": 4,
  "nbformat_minor": 0,
  "metadata": {
    "colab": {
      "provenance": [],
      "authorship_tag": "ABX9TyNCVle0w0kNdmcX6rcF/bO0",
      "include_colab_link": true
    },
    "kernelspec": {
      "name": "python3",
      "display_name": "Python 3"
    },
    "language_info": {
      "name": "python"
    }
  },
  "cells": [
    {
      "cell_type": "markdown",
      "metadata": {
        "id": "view-in-github",
        "colab_type": "text"
      },
      "source": [
        "<a href=\"https://colab.research.google.com/github/mzohaibnasir/NeuralNotes/blob/main/04_deepDiveIntoBasics.ipynb\" target=\"_parent\"><img src=\"https://colab.research.google.com/assets/colab-badge.svg\" alt=\"Open In Colab\"/></a>"
      ]
    },
    {
      "cell_type": "code",
      "execution_count": 173,
      "metadata": {
        "id": "U13uwPLDgpFr"
      },
      "outputs": [],
      "source": [
        "from __future__ import annotations\n",
        "import math,numpy as np,matplotlib.pyplot as plt\n",
        "from operator import itemgetter\n",
        "from itertools import zip_longest\n",
        "import fastcore.all as fc\n",
        "\n",
        "from torch.utils.data import default_collate\n",
        "\n",
        "# from miniai.training import *"
      ]
    },
    {
      "cell_type": "code",
      "source": [
        "! pip install datasets"
      ],
      "metadata": {
        "colab": {
          "base_uri": "https://localhost:8080/"
        },
        "id": "p7ipXgzrtv8Q",
        "outputId": "c7f16c39-11f7-4b64-8df9-a1b36229fb96"
      },
      "execution_count": 174,
      "outputs": [
        {
          "output_type": "stream",
          "name": "stdout",
          "text": [
            "Requirement already satisfied: datasets in /usr/local/lib/python3.10/dist-packages (2.16.1)\n",
            "Requirement already satisfied: filelock in /usr/local/lib/python3.10/dist-packages (from datasets) (3.13.1)\n",
            "Requirement already satisfied: numpy>=1.17 in /usr/local/lib/python3.10/dist-packages (from datasets) (1.23.5)\n",
            "Requirement already satisfied: pyarrow>=8.0.0 in /usr/local/lib/python3.10/dist-packages (from datasets) (10.0.1)\n",
            "Requirement already satisfied: pyarrow-hotfix in /usr/local/lib/python3.10/dist-packages (from datasets) (0.6)\n",
            "Requirement already satisfied: dill<0.3.8,>=0.3.0 in /usr/local/lib/python3.10/dist-packages (from datasets) (0.3.7)\n",
            "Requirement already satisfied: pandas in /usr/local/lib/python3.10/dist-packages (from datasets) (1.5.3)\n",
            "Requirement already satisfied: requests>=2.19.0 in /usr/local/lib/python3.10/dist-packages (from datasets) (2.31.0)\n",
            "Requirement already satisfied: tqdm>=4.62.1 in /usr/local/lib/python3.10/dist-packages (from datasets) (4.66.1)\n",
            "Requirement already satisfied: xxhash in /usr/local/lib/python3.10/dist-packages (from datasets) (3.4.1)\n",
            "Requirement already satisfied: multiprocess in /usr/local/lib/python3.10/dist-packages (from datasets) (0.70.15)\n",
            "Requirement already satisfied: fsspec[http]<=2023.10.0,>=2023.1.0 in /usr/local/lib/python3.10/dist-packages (from datasets) (2023.6.0)\n",
            "Requirement already satisfied: aiohttp in /usr/local/lib/python3.10/dist-packages (from datasets) (3.9.1)\n",
            "Requirement already satisfied: huggingface-hub>=0.19.4 in /usr/local/lib/python3.10/dist-packages (from datasets) (0.20.3)\n",
            "Requirement already satisfied: packaging in /usr/local/lib/python3.10/dist-packages (from datasets) (23.2)\n",
            "Requirement already satisfied: pyyaml>=5.1 in /usr/local/lib/python3.10/dist-packages (from datasets) (6.0.1)\n",
            "Requirement already satisfied: attrs>=17.3.0 in /usr/local/lib/python3.10/dist-packages (from aiohttp->datasets) (23.2.0)\n",
            "Requirement already satisfied: multidict<7.0,>=4.5 in /usr/local/lib/python3.10/dist-packages (from aiohttp->datasets) (6.0.4)\n",
            "Requirement already satisfied: yarl<2.0,>=1.0 in /usr/local/lib/python3.10/dist-packages (from aiohttp->datasets) (1.9.4)\n",
            "Requirement already satisfied: frozenlist>=1.1.1 in /usr/local/lib/python3.10/dist-packages (from aiohttp->datasets) (1.4.1)\n",
            "Requirement already satisfied: aiosignal>=1.1.2 in /usr/local/lib/python3.10/dist-packages (from aiohttp->datasets) (1.3.1)\n",
            "Requirement already satisfied: async-timeout<5.0,>=4.0 in /usr/local/lib/python3.10/dist-packages (from aiohttp->datasets) (4.0.3)\n",
            "Requirement already satisfied: typing-extensions>=3.7.4.3 in /usr/local/lib/python3.10/dist-packages (from huggingface-hub>=0.19.4->datasets) (4.5.0)\n",
            "Requirement already satisfied: charset-normalizer<4,>=2 in /usr/local/lib/python3.10/dist-packages (from requests>=2.19.0->datasets) (3.3.2)\n",
            "Requirement already satisfied: idna<4,>=2.5 in /usr/local/lib/python3.10/dist-packages (from requests>=2.19.0->datasets) (3.6)\n",
            "Requirement already satisfied: urllib3<3,>=1.21.1 in /usr/local/lib/python3.10/dist-packages (from requests>=2.19.0->datasets) (2.0.7)\n",
            "Requirement already satisfied: certifi>=2017.4.17 in /usr/local/lib/python3.10/dist-packages (from requests>=2.19.0->datasets) (2023.11.17)\n",
            "Requirement already satisfied: python-dateutil>=2.8.1 in /usr/local/lib/python3.10/dist-packages (from pandas->datasets) (2.8.2)\n",
            "Requirement already satisfied: pytz>=2020.1 in /usr/local/lib/python3.10/dist-packages (from pandas->datasets) (2023.3.post1)\n",
            "Requirement already satisfied: six>=1.5 in /usr/local/lib/python3.10/dist-packages (from python-dateutil>=2.8.1->pandas->datasets) (1.16.0)\n"
          ]
        }
      ]
    },
    {
      "cell_type": "code",
      "source": [
        "import logging,pickle,gzip,os,time,shutil,torch,matplotlib as mpl\n",
        "from pathlib import Path\n",
        "\n",
        "from torch import tensor,nn,optim\n",
        "from torch.utils.data import DataLoader\n",
        "import torch.nn.functional as F\n",
        "from datasets import load_dataset,load_dataset_builder\n",
        "\n",
        "import torchvision.transforms.functional as TF\n",
        "from fastcore.test import test_close"
      ],
      "metadata": {
        "id": "XzapIX-ihR9T"
      },
      "execution_count": 175,
      "outputs": []
    },
    {
      "cell_type": "code",
      "source": [
        "torch.set_printoptions(precision=2, linewidth=140, sci_mode=False)\n",
        "torch.manual_seed(1)\n",
        "mpl.rcParams['image.cmap'] = 'gray'"
      ],
      "metadata": {
        "id": "iBuhOpLyhR_d"
      },
      "execution_count": 176,
      "outputs": []
    },
    {
      "cell_type": "code",
      "source": [
        "import logging\n",
        "logging.disable(logging.WARNING)\n"
      ],
      "metadata": {
        "id": "h4pcz_w8hSCO"
      },
      "execution_count": 177,
      "outputs": []
    },
    {
      "cell_type": "markdown",
      "source": [
        "# Hugging Face Datasets"
      ],
      "metadata": {
        "id": "CyNdMBgKja_j"
      }
    },
    {
      "cell_type": "code",
      "source": [
        "\"\"\"Use the load_dataset_builder() function to load a dataset builder and inspect a dataset’s attributes without committing to downloading it:\"\"\"\n",
        "name = \"fashion_mnist\"\n",
        "from datasets import load_dataset_builder\n",
        "ds_builder = load_dataset_builder(name)\n",
        "print(ds_builder.info.description)\n",
        "\n",
        "\n"
      ],
      "metadata": {
        "colab": {
          "base_uri": "https://localhost:8080/"
        },
        "id": "b6IXL4s3hSKB",
        "outputId": "118505db-907d-4dd0-f9ea-1bf6f0aa821e"
      },
      "execution_count": 178,
      "outputs": [
        {
          "output_type": "stream",
          "name": "stdout",
          "text": [
            "\n"
          ]
        }
      ]
    },
    {
      "cell_type": "code",
      "source": [
        "ds_builder.info.features"
      ],
      "metadata": {
        "colab": {
          "base_uri": "https://localhost:8080/"
        },
        "id": "atNAj9Pdtb-C",
        "outputId": "72f8a844-4400-4249-eb41-5b72ec22acb9"
      },
      "execution_count": 179,
      "outputs": [
        {
          "output_type": "execute_result",
          "data": {
            "text/plain": [
              "{'image': Image(decode=True, id=None),\n",
              " 'label': ClassLabel(names=['T - shirt / top', 'Trouser', 'Pullover', 'Dress', 'Coat', 'Sandal', 'Shirt', 'Sneaker', 'Bag', 'Ankle boot'], id=None)}"
            ]
          },
          "metadata": {},
          "execution_count": 179
        }
      ]
    },
    {
      "cell_type": "code",
      "source": [
        "ds_builder.info.splits"
      ],
      "metadata": {
        "colab": {
          "base_uri": "https://localhost:8080/"
        },
        "id": "LJInfijPtcHX",
        "outputId": "12f1399a-ea56-4936-b6f8-aca2e83d30cc"
      },
      "execution_count": 180,
      "outputs": [
        {
          "output_type": "execute_result",
          "data": {
            "text/plain": [
              "{'train': SplitInfo(name='train', num_bytes=31304107, num_examples=60000, shard_lengths=None, dataset_name='fashion_mnist'),\n",
              " 'test': SplitInfo(name='test', num_bytes=5235060, num_examples=10000, shard_lengths=None, dataset_name='fashion_mnist')}"
            ]
          },
          "metadata": {},
          "execution_count": 180
        }
      ]
    },
    {
      "cell_type": "code",
      "source": [
        "dsd = load_dataset(name)\n",
        "dsd # DatasetDict  -  dataset dictionary"
      ],
      "metadata": {
        "colab": {
          "base_uri": "https://localhost:8080/"
        },
        "id": "7stdEsEUrrSl",
        "outputId": "ab1699d7-0aac-4876-ca4d-885824b85203"
      },
      "execution_count": 181,
      "outputs": [
        {
          "output_type": "execute_result",
          "data": {
            "text/plain": [
              "DatasetDict({\n",
              "    train: Dataset({\n",
              "        features: ['image', 'label'],\n",
              "        num_rows: 60000\n",
              "    })\n",
              "    test: Dataset({\n",
              "        features: ['image', 'label'],\n",
              "        num_rows: 10000\n",
              "    })\n",
              "})"
            ]
          },
          "metadata": {},
          "execution_count": 181
        }
      ]
    },
    {
      "cell_type": "code",
      "source": [
        "train, test = dsd['train'], dsd['test']   # fetching element from DatasetDict using keys\n",
        "\n",
        "train.shape, test.shape"
      ],
      "metadata": {
        "colab": {
          "base_uri": "https://localhost:8080/"
        },
        "id": "hRX-dqF0hSHP",
        "outputId": "d2c8f8dc-b2ad-477f-8307-dcbafb868bf0"
      },
      "execution_count": 182,
      "outputs": [
        {
          "output_type": "execute_result",
          "data": {
            "text/plain": [
              "((60000, 2), (10000, 2))"
            ]
          },
          "metadata": {},
          "execution_count": 182
        }
      ]
    },
    {
      "cell_type": "code",
      "source": [
        "train[0], test[0]  # here we are getting dictionaries, not tuple"
      ],
      "metadata": {
        "id": "0MHmq2nksa8H",
        "colab": {
          "base_uri": "https://localhost:8080/"
        },
        "outputId": "d389e20d-fa69-48ab-dd87-a226a1496936"
      },
      "execution_count": 183,
      "outputs": [
        {
          "output_type": "execute_result",
          "data": {
            "text/plain": [
              "({'image': <PIL.PngImagePlugin.PngImageFile image mode=L size=28x28>,\n",
              "  'label': 9},\n",
              " {'image': <PIL.PngImagePlugin.PngImageFile image mode=L size=28x28>,\n",
              "  'label': 9})"
            ]
          },
          "metadata": {},
          "execution_count": 183
        }
      ]
    },
    {
      "cell_type": "code",
      "source": [
        "x , y = 'image' ,'label' # for\n",
        "x , y"
      ],
      "metadata": {
        "id": "O-tiyIIhsbco",
        "colab": {
          "base_uri": "https://localhost:8080/"
        },
        "outputId": "154e71cc-9c06-4792-fb4d-032693f44af2"
      },
      "execution_count": 184,
      "outputs": [
        {
          "output_type": "execute_result",
          "data": {
            "text/plain": [
              "('image', 'label')"
            ]
          },
          "metadata": {},
          "execution_count": 184
        }
      ]
    },
    {
      "cell_type": "code",
      "source": [
        "x, y = ds_builder.info.features\n",
        "x,y"
      ],
      "metadata": {
        "colab": {
          "base_uri": "https://localhost:8080/"
        },
        "id": "MFhMwtSfv7yg",
        "outputId": "b2b5aacc-d9c6-423e-a400-fc5aa154a743"
      },
      "execution_count": 185,
      "outputs": [
        {
          "output_type": "execute_result",
          "data": {
            "text/plain": [
              "('image', 'label')"
            ]
          },
          "metadata": {},
          "execution_count": 185
        }
      ]
    },
    {
      "cell_type": "code",
      "source": [
        "img = train[0][x]\n",
        "img"
      ],
      "metadata": {
        "id": "zex5ykgIsbfK",
        "colab": {
          "base_uri": "https://localhost:8080/",
          "height": 45
        },
        "outputId": "86efaf4d-5ad5-4f1d-c23c-d4ff297cacc1"
      },
      "execution_count": 186,
      "outputs": [
        {
          "output_type": "execute_result",
          "data": {
            "text/plain": [
              "<PIL.PngImagePlugin.PngImageFile image mode=L size=28x28>"
            ],
            "image/png": "[encoded data removed]"
          },
          "metadata": {},
          "execution_count": 186
        }
      ]
    },
    {
      "cell_type": "code",
      "source": [
        "train[0][y]"
      ],
      "metadata": {
        "id": "SSjCQOPUsbhV",
        "colab": {
          "base_uri": "https://localhost:8080/"
        },
        "outputId": "8553f56c-582f-4d08-ab9a-5a02551d2ff4"
      },
      "execution_count": 187,
      "outputs": [
        {
          "output_type": "execute_result",
          "data": {
            "text/plain": [
              "9"
            ]
          },
          "metadata": {},
          "execution_count": 187
        }
      ]
    },
    {
      "cell_type": "code",
      "source": [
        "train[:5][x], train[:5][y]"
      ],
      "metadata": {
        "colab": {
          "base_uri": "https://localhost:8080/"
        },
        "id": "ZlTyYUSev3hR",
        "outputId": "5928625f-10c9-437e-e460-d519d1b644c4"
      },
      "execution_count": 188,
      "outputs": [
        {
          "output_type": "execute_result",
          "data": {
            "text/plain": [
              "([<PIL.PngImagePlugin.PngImageFile image mode=L size=28x28>,\n",
              "  <PIL.PngImagePlugin.PngImageFile image mode=L size=28x28>,\n",
              "  <PIL.PngImagePlugin.PngImageFile image mode=L size=28x28>,\n",
              "  <PIL.PngImagePlugin.PngImageFile image mode=L size=28x28>,\n",
              "  <PIL.PngImagePlugin.PngImageFile image mode=L size=28x28>],\n",
              " [9, 0, 0, 3, 0])"
            ]
          },
          "metadata": {},
          "execution_count": 188
        }
      ]
    },
    {
      "cell_type": "code",
      "source": [
        "featy = train.features[y]  # label names\n",
        "featy"
      ],
      "metadata": {
        "colab": {
          "base_uri": "https://localhost:8080/"
        },
        "id": "cjNUBwV_wHb8",
        "outputId": "6acf1093-360c-43f2-fc5a-3526fe4b37bc"
      },
      "execution_count": 189,
      "outputs": [
        {
          "output_type": "execute_result",
          "data": {
            "text/plain": [
              "ClassLabel(names=['T - shirt / top', 'Trouser', 'Pullover', 'Dress', 'Coat', 'Sandal', 'Shirt', 'Sneaker', 'Bag', 'Ankle boot'], id=None)"
            ]
          },
          "metadata": {},
          "execution_count": 189
        }
      ]
    },
    {
      "cell_type": "code",
      "source": [
        "xb,yb = train[:5][x] , train[:5][y]\n",
        "xb,yb"
      ],
      "metadata": {
        "colab": {
          "base_uri": "https://localhost:8080/"
        },
        "id": "tv3sblXZxI47",
        "outputId": "98e8e292-c550-4a3a-99ba-26fc001d0f44"
      },
      "execution_count": 190,
      "outputs": [
        {
          "output_type": "execute_result",
          "data": {
            "text/plain": [
              "([<PIL.PngImagePlugin.PngImageFile image mode=L size=28x28>,\n",
              "  <PIL.PngImagePlugin.PngImageFile image mode=L size=28x28>,\n",
              "  <PIL.PngImagePlugin.PngImageFile image mode=L size=28x28>,\n",
              "  <PIL.PngImagePlugin.PngImageFile image mode=L size=28x28>,\n",
              "  <PIL.PngImagePlugin.PngImageFile image mode=L size=28x28>],\n",
              " [9, 0, 0, 3, 0])"
            ]
          },
          "metadata": {},
          "execution_count": 190
        }
      ]
    },
    {
      "cell_type": "code",
      "source": [
        "featy.int2str(yb)"
      ],
      "metadata": {
        "colab": {
          "base_uri": "https://localhost:8080/"
        },
        "id": "IVsHnu7qwHfL",
        "outputId": "8eb76a75-32f4-430a-f004-4f88497df2e7"
      },
      "execution_count": 191,
      "outputs": [
        {
          "output_type": "execute_result",
          "data": {
            "text/plain": [
              "['Ankle boot',\n",
              " 'T - shirt / top',\n",
              " 'T - shirt / top',\n",
              " 'Dress',\n",
              " 'T - shirt / top']"
            ]
          },
          "metadata": {},
          "execution_count": 191
        }
      ]
    },
    {
      "cell_type": "code",
      "source": [
        "train['label'][:5]"
      ],
      "metadata": {
        "colab": {
          "base_uri": "https://localhost:8080/"
        },
        "id": "Bsh1A95UwHhG",
        "outputId": "5ea9fb19-a32d-4373-f023-d0092fc2144f"
      },
      "execution_count": 192,
      "outputs": [
        {
          "output_type": "execute_result",
          "data": {
            "text/plain": [
              "[9, 0, 0, 3, 0]"
            ]
          },
          "metadata": {},
          "execution_count": 192
        }
      ]
    },
    {
      "cell_type": "code",
      "source": [
        "# collate function will return dictionary\n",
        "\n",
        "\n",
        "def collate_fn(b):\n",
        "  return {\n",
        "      x:torch.stack([\n",
        "          TF.to_tensor(o[x]) for o in b\n",
        "      ]),\n",
        "\n",
        "      y:tensor([o[y] for o in b])\n",
        "  }"
      ],
      "metadata": {
        "id": "eR6t3Cp4wHjA"
      },
      "execution_count": 193,
      "outputs": []
    },
    {
      "cell_type": "code",
      "source": [
        "dl = DataLoader(train, collate_fn=collate_fn, batch_size=16)\n",
        "b = next(iter(dl))\n",
        "\n",
        "b[x].shape, b[y]"
      ],
      "metadata": {
        "colab": {
          "base_uri": "https://localhost:8080/"
        },
        "id": "59eCxWNAwHky",
        "outputId": "78343de8-518b-4051-9b5d-b530a2209104"
      },
      "execution_count": 194,
      "outputs": [
        {
          "output_type": "execute_result",
          "data": {
            "text/plain": [
              "(torch.Size([16, 1, 28, 28]),\n",
              " tensor([9, 0, 0, 3, 0, 2, 7, 2, 5, 5, 0, 9, 5, 5, 7, 9]))"
            ]
          },
          "metadata": {},
          "execution_count": 194
        }
      ]
    },
    {
      "cell_type": "code",
      "source": [
        "def transforms(b):  # we can fo collate_fn using transform\n",
        "  b[x] = [TF.to_tensor(o) for o in b[x]]  # no satcking # pytorch already knows how to collate dictionaries of tenaors\n",
        "  return b"
      ],
      "metadata": {
        "id": "eMmrSmuXwHml"
      },
      "execution_count": 195,
      "outputs": []
    },
    {
      "cell_type": "code",
      "source": [
        "tds = train.with_transform(transforms) # with_transform expects transforms to return value i.e. not an inplace function  # it `transforms` to every element\n",
        "# whenever __getitem__ will be called it will call`transforms` on fly  # means its not cached\n",
        "dl = DataLoader(tds, batch_size=16)  # so data loader can be created without collate function because pytorch collates dicts but default\n",
        "b = next(iter(dl))\n",
        "b[x].shape, b[y]  # x - img, y - label\n"
      ],
      "metadata": {
        "id": "Qvvwjql7wHpV",
        "outputId": "a821e41b-76b6-4b4f-c3f9-35a0787e2ed1",
        "colab": {
          "base_uri": "https://localhost:8080/"
        }
      },
      "execution_count": 196,
      "outputs": [
        {
          "output_type": "execute_result",
          "data": {
            "text/plain": [
              "(torch.Size([16, 1, 28, 28]),\n",
              " tensor([9, 0, 0, 3, 0, 2, 7, 2, 5, 5, 0, 9, 5, 5, 7, 9]))"
            ]
          },
          "metadata": {},
          "execution_count": 196
        }
      ]
    },
    {
      "cell_type": "code",
      "source": [
        "def _transformi(b):\n",
        "  b[x] = [torch.flatten(TF.to_tensor(o)) for o in b[x]]\n",
        "\"\"\"\n",
        "this inplace function does not return results but `with_transform` need `transforms` to return data\n",
        "\"\"\""
      ],
      "metadata": {
        "id": "PYFHacRywHrz"
      },
      "execution_count": 195,
      "outputs": []
    },
    {
      "cell_type": "code",
      "source": [
        "def inplace(f):\n",
        "  def _f(b):\n",
        "    f(b)\n",
        "    return b\n",
        "  return _f"
      ],
      "metadata": {
        "id": "ClE_ROtO4tap"
      },
      "execution_count": null,
      "outputs": []
    },
    {
      "cell_type": "code",
      "source": [
        "transformi = inplace(_transformi)"
      ],
      "metadata": {
        "id": "m9YVdTP44tcf"
      },
      "execution_count": null,
      "outputs": []
    },
    {
      "cell_type": "code",
      "source": [
        "r = train.with_transform(transformi)[0]\n",
        "r[x].shape, r[y]"
      ],
      "metadata": {
        "id": "rk--j99u4tf0"
      },
      "execution_count": null,
      "outputs": []
    },
    {
      "cell_type": "code",
      "source": [
        "@inplace\n",
        "def transformi(b):\n",
        "  b[x] = [torch.flatten(TF.to_tensor(o)) for o in b[x]]"
      ],
      "metadata": {
        "id": "puhcRUzc4th6"
      },
      "execution_count": null,
      "outputs": []
    },
    {
      "cell_type": "code",
      "source": [
        "tdsf = train.with_transform(transformi)\n",
        "r = tdsf[0]\n",
        "r[x].shape, r[y]"
      ],
      "metadata": {
        "id": "PcEnlazd5sV6"
      },
      "execution_count": null,
      "outputs": []
    },
    {
      "cell_type": "code",
      "source": [
        "d= dict(\n",
        "    a=1,\n",
        "    b=2,\n",
        "    c=3\n",
        ")"
      ],
      "metadata": {
        "id": "Wsn78oxm5sX7"
      },
      "execution_count": 197,
      "outputs": []
    },
    {
      "cell_type": "code",
      "source": [
        "ig = itemgetter('a','c')\n",
        "ig(d)"
      ],
      "metadata": {
        "id": "hJAtmG6z5sZp",
        "outputId": "a9ba32c0-afac-41e6-df66-9f414a761b9f",
        "colab": {
          "base_uri": "https://localhost:8080/"
        }
      },
      "execution_count": 199,
      "outputs": [
        {
          "output_type": "execute_result",
          "data": {
            "text/plain": [
              "(1, 3)"
            ]
          },
          "metadata": {},
          "execution_count": 199
        }
      ]
    },
    {
      "cell_type": "code",
      "source": [
        "class D:\n",
        "  def __getitem__(self, k):\n",
        "    return 1 if k=='a' else 2 if k=='b' else 3"
      ],
      "metadata": {
        "id": "5NSxt_7-5sbZ"
      },
      "execution_count": 200,
      "outputs": []
    },
    {
      "cell_type": "code",
      "source": [
        "d=D()\n",
        "ig(d)"
      ],
      "metadata": {
        "id": "pf6LSCHs5sdB",
        "outputId": "d1a3e170-1c5d-4d43-e729-23e481bce518",
        "colab": {
          "base_uri": "https://localhost:8080/"
        }
      },
      "execution_count": 201,
      "outputs": [
        {
          "output_type": "execute_result",
          "data": {
            "text/plain": [
              "(1, 3)"
            ]
          },
          "metadata": {},
          "execution_count": 201
        }
      ]
    },
    {
      "cell_type": "code",
      "source": [
        "list(tdsf.features)"
      ],
      "metadata": {
        "id": "RGtVrYqN5sev",
        "outputId": "0446080a-305d-4a49-b098-dbcc65863b6f",
        "colab": {
          "base_uri": "https://localhost:8080/"
        }
      },
      "execution_count": 202,
      "outputs": [
        {
          "output_type": "execute_result",
          "data": {
            "text/plain": [
              "['image', 'label']"
            ]
          },
          "metadata": {},
          "execution_count": 202
        }
      ]
    },
    {
      "cell_type": "code",
      "source": [
        "batch = dict(a=[1], b=[2]), dict(a=[3], b=[4])\n",
        "default_collate(batch)"
      ],
      "metadata": {
        "id": "TokCJbi55sgi",
        "outputId": "32bbdc9f-2f6a-4ace-9769-f278ce237aa8",
        "colab": {
          "base_uri": "https://localhost:8080/"
        }
      },
      "execution_count": 203,
      "outputs": [
        {
          "output_type": "execute_result",
          "data": {
            "text/plain": [
              "{'a': [tensor([1, 3])], 'b': [tensor([2, 4])]}"
            ]
          },
          "metadata": {},
          "execution_count": 203
        }
      ]
    },
    {
      "cell_type": "code",
      "source": [
        "def collate_dict(ds):  # converting dict into tuple\n",
        "  get = itemgetter(*ds.features)\n",
        "  def _f(b): return (get(default_collate(b)))\n",
        "\n",
        "  return _f"
      ],
      "metadata": {
        "id": "nLTZ3Gy05siB"
      },
      "execution_count": null,
      "outputs": []
    },
    {
      "cell_type": "code",
      "source": [
        "dlf = DataLoader(tdsf, batch_size=4, collate_fn=collate_dict(tdsf))\n",
        "xb,yb = next(iter(dlf))\n",
        "xb.shape,  yb"
      ],
      "metadata": {
        "id": "pPlbyVj85sk0"
      },
      "execution_count": null,
      "outputs": []
    },
    {
      "cell_type": "code",
      "source": [],
      "metadata": {
        "id": "42cGssF2Ar7a"
      },
      "execution_count": null,
      "outputs": []
    },
    {
      "cell_type": "code",
      "source": [],
      "metadata": {
        "id": "ENgrLbWYAr9o"
      },
      "execution_count": null,
      "outputs": []
    },
    {
      "cell_type": "code",
      "source": [],
      "metadata": {
        "id": "mXfte-RjAsBS"
      },
      "execution_count": null,
      "outputs": []
    },
    {
      "cell_type": "code",
      "source": [],
      "metadata": {
        "id": "dIvz2VomAsDH"
      },
      "execution_count": null,
      "outputs": []
    },
    {
      "cell_type": "code",
      "source": [],
      "metadata": {
        "id": "8EutYIKkwHuf"
      },
      "execution_count": 195,
      "outputs": []
    }
  ]
}