{
  "nbformat": 4,
  "nbformat_minor": 0,
  "metadata": {
    "colab": {
      "provenance": [],
      "toc_visible": true,
      "authorship_tag": "ABX9TyM8FeAsUslnLN7I7+HThGox",
      "include_colab_link": true
    },
    "kernelspec": {
      "name": "python3",
      "display_name": "Python 3"
    },
    "language_info": {
      "name": "python"
    }
  },
  "cells": [
    {
      "cell_type": "markdown",
      "metadata": {
        "id": "view-in-github",
        "colab_type": "text"
      },
      "source": [
        "<a href=\"https://colab.research.google.com/github/mzohaibnasir/NeuralNotes/blob/main/07_autoencoders_deepDiveIntoBasics.ipynb\" target=\"_parent\"><img src=\"https://colab.research.google.com/assets/colab-badge.svg\" alt=\"Open In Colab\"/></a>"
      ]
    },
    {
      "cell_type": "code",
      "source": [
        "#| default_exp autoencoders\n"
      ],
      "metadata": {
        "id": "P-gFQVJrdZ3z"
      },
      "execution_count": 115,
      "outputs": []
    },
    {
      "cell_type": "markdown",
      "source": [
        "# AutoEncoders"
      ],
      "metadata": {
        "id": "blG0EGKbrdxN"
      }
    },
    {
      "cell_type": "code",
      "source": [
        "! git clone https://github.com/fastai/course22p2.git\n",
        "!ls -a"
      ],
      "metadata": {
        "colab": {
          "base_uri": "https://localhost:8080/"
        },
        "id": "mXMGebUpXK3e",
        "outputId": "40739852-9133-42d4-8c4d-565051b79bc1"
      },
      "execution_count": 116,
      "outputs": [
        {
          "output_type": "stream",
          "name": "stdout",
          "text": [
            "fatal: destination path 'course22p2' already exists and is not an empty directory.\n",
            ".  ..  .config\tcourse22p2  sample_data\n"
          ]
        }
      ]
    },
    {
      "cell_type": "code",
      "source": [
        "!ls /content/course22p2\n",
        "!pip install -e /content/course22p2/.   # -e : editable   ; install current directory as python module\n"
      ],
      "metadata": {
        "colab": {
          "base_uri": "https://localhost:8080/"
        },
        "id": "Vq_-otYJXQZs",
        "outputId": "5a5a2067-d6a5-4f9d-ad4c-2ec0e4af0db2"
      },
      "execution_count": 117,
      "outputs": [
        {
          "output_type": "stream",
          "name": "stdout",
          "text": [
            "LICENSE      miniai\t      nbs\t settings.ini  summaries\n",
            "MANIFEST.in  miniai.egg-info  README.md  setup.py      xl\n",
            "Obtaining file:///content/course22p2\n",
            "  Preparing metadata (setup.py) ... \u001b[?25l\u001b[?25hdone\n",
            "Requirement already satisfied: matplotlib in /usr/local/lib/python3.10/dist-packages (from miniai==0.0.1) (3.7.1)\n",
            "Requirement already satisfied: datasets in /usr/local/lib/python3.10/dist-packages (from miniai==0.0.1) (2.16.1)\n",
            "Requirement already satisfied: fastprogress in /usr/local/lib/python3.10/dist-packages (from miniai==0.0.1) (1.0.3)\n",
            "Requirement already satisfied: fastcore in /usr/local/lib/python3.10/dist-packages (from miniai==0.0.1) (1.5.29)\n",
            "Requirement already satisfied: torch<2.1,>=1.7 in /usr/local/lib/python3.10/dist-packages (from miniai==0.0.1) (2.0.1)\n",
            "Requirement already satisfied: torcheval in /usr/local/lib/python3.10/dist-packages (from miniai==0.0.1) (0.0.7)\n",
            "Requirement already satisfied: diffusers in /usr/local/lib/python3.10/dist-packages (from miniai==0.0.1) (0.26.0)\n",
            "Requirement already satisfied: einops in /usr/local/lib/python3.10/dist-packages (from miniai==0.0.1) (0.7.0)\n",
            "Requirement already satisfied: timm in /usr/local/lib/python3.10/dist-packages (from miniai==0.0.1) (0.9.12)\n",
            "Requirement already satisfied: filelock in /usr/local/lib/python3.10/dist-packages (from torch<2.1,>=1.7->miniai==0.0.1) (3.13.1)\n",
            "Requirement already satisfied: typing-extensions in /usr/local/lib/python3.10/dist-packages (from torch<2.1,>=1.7->miniai==0.0.1) (4.5.0)\n",
            "Requirement already satisfied: sympy in /usr/local/lib/python3.10/dist-packages (from torch<2.1,>=1.7->miniai==0.0.1) (1.12)\n",
            "Requirement already satisfied: networkx in /usr/local/lib/python3.10/dist-packages (from torch<2.1,>=1.7->miniai==0.0.1) (3.2.1)\n",
            "Requirement already satisfied: jinja2 in /usr/local/lib/python3.10/dist-packages (from torch<2.1,>=1.7->miniai==0.0.1) (3.1.3)\n",
            "Requirement already satisfied: nvidia-cuda-nvrtc-cu11==11.7.99 in /usr/local/lib/python3.10/dist-packages (from torch<2.1,>=1.7->miniai==0.0.1) (11.7.99)\n",
            "Requirement already satisfied: nvidia-cuda-runtime-cu11==11.7.99 in /usr/local/lib/python3.10/dist-packages (from torch<2.1,>=1.7->miniai==0.0.1) (11.7.99)\n",
            "Requirement already satisfied: nvidia-cuda-cupti-cu11==11.7.101 in /usr/local/lib/python3.10/dist-packages (from torch<2.1,>=1.7->miniai==0.0.1) (11.7.101)\n",
            "Requirement already satisfied: nvidia-cudnn-cu11==8.5.0.96 in /usr/local/lib/python3.10/dist-packages (from torch<2.1,>=1.7->miniai==0.0.1) (8.5.0.96)\n",
            "Requirement already satisfied: nvidia-cublas-cu11==11.10.3.66 in /usr/local/lib/python3.10/dist-packages (from torch<2.1,>=1.7->miniai==0.0.1) (11.10.3.66)\n",
            "Requirement already satisfied: nvidia-cufft-cu11==10.9.0.58 in /usr/local/lib/python3.10/dist-packages (from torch<2.1,>=1.7->miniai==0.0.1) (10.9.0.58)\n",
            "Requirement already satisfied: nvidia-curand-cu11==10.2.10.91 in /usr/local/lib/python3.10/dist-packages (from torch<2.1,>=1.7->miniai==0.0.1) (10.2.10.91)\n",
            "Requirement already satisfied: nvidia-cusolver-cu11==11.4.0.1 in /usr/local/lib/python3.10/dist-packages (from torch<2.1,>=1.7->miniai==0.0.1) (11.4.0.1)\n",
            "Requirement already satisfied: nvidia-cusparse-cu11==11.7.4.91 in /usr/local/lib/python3.10/dist-packages (from torch<2.1,>=1.7->miniai==0.0.1) (11.7.4.91)\n",
            "Requirement already satisfied: nvidia-nccl-cu11==2.14.3 in /usr/local/lib/python3.10/dist-packages (from torch<2.1,>=1.7->miniai==0.0.1) (2.14.3)\n",
            "Requirement already satisfied: nvidia-nvtx-cu11==11.7.91 in /usr/local/lib/python3.10/dist-packages (from torch<2.1,>=1.7->miniai==0.0.1) (11.7.91)\n",
            "Requirement already satisfied: triton==2.0.0 in /usr/local/lib/python3.10/dist-packages (from torch<2.1,>=1.7->miniai==0.0.1) (2.0.0)\n",
            "Requirement already satisfied: setuptools in /usr/local/lib/python3.10/dist-packages (from nvidia-cublas-cu11==11.10.3.66->torch<2.1,>=1.7->miniai==0.0.1) (67.7.2)\n",
            "Requirement already satisfied: wheel in /usr/local/lib/python3.10/dist-packages (from nvidia-cublas-cu11==11.10.3.66->torch<2.1,>=1.7->miniai==0.0.1) (0.42.0)\n",
            "Requirement already satisfied: cmake in /usr/local/lib/python3.10/dist-packages (from triton==2.0.0->torch<2.1,>=1.7->miniai==0.0.1) (3.27.9)\n",
            "Requirement already satisfied: lit in /usr/local/lib/python3.10/dist-packages (from triton==2.0.0->torch<2.1,>=1.7->miniai==0.0.1) (17.0.6)\n",
            "Requirement already satisfied: numpy>=1.17 in /usr/local/lib/python3.10/dist-packages (from datasets->miniai==0.0.1) (1.23.5)\n",
            "Requirement already satisfied: pyarrow>=8.0.0 in /usr/local/lib/python3.10/dist-packages (from datasets->miniai==0.0.1) (10.0.1)\n",
            "Requirement already satisfied: pyarrow-hotfix in /usr/local/lib/python3.10/dist-packages (from datasets->miniai==0.0.1) (0.6)\n",
            "Requirement already satisfied: dill<0.3.8,>=0.3.0 in /usr/local/lib/python3.10/dist-packages (from datasets->miniai==0.0.1) (0.3.7)\n",
            "Requirement already satisfied: pandas in /usr/local/lib/python3.10/dist-packages (from datasets->miniai==0.0.1) (1.5.3)\n",
            "Requirement already satisfied: requests>=2.19.0 in /usr/local/lib/python3.10/dist-packages (from datasets->miniai==0.0.1) (2.31.0)\n",
            "Requirement already satisfied: tqdm>=4.62.1 in /usr/local/lib/python3.10/dist-packages (from datasets->miniai==0.0.1) (4.66.1)\n",
            "Requirement already satisfied: xxhash in /usr/local/lib/python3.10/dist-packages (from datasets->miniai==0.0.1) (3.4.1)\n",
            "Requirement already satisfied: multiprocess in /usr/local/lib/python3.10/dist-packages (from datasets->miniai==0.0.1) (0.70.15)\n",
            "Requirement already satisfied: fsspec[http]<=2023.10.0,>=2023.1.0 in /usr/local/lib/python3.10/dist-packages (from datasets->miniai==0.0.1) (2023.6.0)\n",
            "Requirement already satisfied: aiohttp in /usr/local/lib/python3.10/dist-packages (from datasets->miniai==0.0.1) (3.9.1)\n",
            "Requirement already satisfied: huggingface-hub>=0.19.4 in /usr/local/lib/python3.10/dist-packages (from datasets->miniai==0.0.1) (0.20.3)\n",
            "Requirement already satisfied: packaging in /usr/local/lib/python3.10/dist-packages (from datasets->miniai==0.0.1) (23.2)\n",
            "Requirement already satisfied: pyyaml>=5.1 in /usr/local/lib/python3.10/dist-packages (from datasets->miniai==0.0.1) (6.0.1)\n",
            "Requirement already satisfied: importlib-metadata in /usr/local/lib/python3.10/dist-packages (from diffusers->miniai==0.0.1) (7.0.1)\n",
            "Requirement already satisfied: regex!=2019.12.17 in /usr/local/lib/python3.10/dist-packages (from diffusers->miniai==0.0.1) (2023.6.3)\n",
            "Requirement already satisfied: safetensors>=0.3.1 in /usr/local/lib/python3.10/dist-packages (from diffusers->miniai==0.0.1) (0.4.2)\n",
            "Requirement already satisfied: Pillow in /usr/local/lib/python3.10/dist-packages (from diffusers->miniai==0.0.1) (9.4.0)\n",
            "Requirement already satisfied: pip in /usr/local/lib/python3.10/dist-packages (from fastcore->miniai==0.0.1) (23.1.2)\n",
            "Requirement already satisfied: contourpy>=1.0.1 in /usr/local/lib/python3.10/dist-packages (from matplotlib->miniai==0.0.1) (1.2.0)\n",
            "Requirement already satisfied: cycler>=0.10 in /usr/local/lib/python3.10/dist-packages (from matplotlib->miniai==0.0.1) (0.12.1)\n",
            "Requirement already satisfied: fonttools>=4.22.0 in /usr/local/lib/python3.10/dist-packages (from matplotlib->miniai==0.0.1) (4.47.2)\n",
            "Requirement already satisfied: kiwisolver>=1.0.1 in /usr/local/lib/python3.10/dist-packages (from matplotlib->miniai==0.0.1) (1.4.5)\n",
            "Requirement already satisfied: pyparsing>=2.3.1 in /usr/local/lib/python3.10/dist-packages (from matplotlib->miniai==0.0.1) (3.1.1)\n",
            "Requirement already satisfied: python-dateutil>=2.7 in /usr/local/lib/python3.10/dist-packages (from matplotlib->miniai==0.0.1) (2.8.2)\n",
            "Requirement already satisfied: torchvision in /usr/local/lib/python3.10/dist-packages (from timm->miniai==0.0.1) (0.15.2)\n",
            "Requirement already satisfied: attrs>=17.3.0 in /usr/local/lib/python3.10/dist-packages (from aiohttp->datasets->miniai==0.0.1) (23.2.0)\n",
            "Requirement already satisfied: multidict<7.0,>=4.5 in /usr/local/lib/python3.10/dist-packages (from aiohttp->datasets->miniai==0.0.1) (6.0.4)\n",
            "Requirement already satisfied: yarl<2.0,>=1.0 in /usr/local/lib/python3.10/dist-packages (from aiohttp->datasets->miniai==0.0.1) (1.9.4)\n",
            "Requirement already satisfied: frozenlist>=1.1.1 in /usr/local/lib/python3.10/dist-packages (from aiohttp->datasets->miniai==0.0.1) (1.4.1)\n",
            "Requirement already satisfied: aiosignal>=1.1.2 in /usr/local/lib/python3.10/dist-packages (from aiohttp->datasets->miniai==0.0.1) (1.3.1)\n",
            "Requirement already satisfied: async-timeout<5.0,>=4.0 in /usr/local/lib/python3.10/dist-packages (from aiohttp->datasets->miniai==0.0.1) (4.0.3)\n",
            "Requirement already satisfied: six>=1.5 in /usr/local/lib/python3.10/dist-packages (from python-dateutil>=2.7->matplotlib->miniai==0.0.1) (1.16.0)\n",
            "Requirement already satisfied: charset-normalizer<4,>=2 in /usr/local/lib/python3.10/dist-packages (from requests>=2.19.0->datasets->miniai==0.0.1) (3.3.2)\n",
            "Requirement already satisfied: idna<4,>=2.5 in /usr/local/lib/python3.10/dist-packages (from requests>=2.19.0->datasets->miniai==0.0.1) (3.6)\n",
            "Requirement already satisfied: urllib3<3,>=1.21.1 in /usr/local/lib/python3.10/dist-packages (from requests>=2.19.0->datasets->miniai==0.0.1) (2.0.7)\n",
            "Requirement already satisfied: certifi>=2017.4.17 in /usr/local/lib/python3.10/dist-packages (from requests>=2.19.0->datasets->miniai==0.0.1) (2023.11.17)\n",
            "Requirement already satisfied: zipp>=0.5 in /usr/local/lib/python3.10/dist-packages (from importlib-metadata->diffusers->miniai==0.0.1) (3.17.0)\n",
            "Requirement already satisfied: MarkupSafe>=2.0 in /usr/local/lib/python3.10/dist-packages (from jinja2->torch<2.1,>=1.7->miniai==0.0.1) (2.1.4)\n",
            "Requirement already satisfied: pytz>=2020.1 in /usr/local/lib/python3.10/dist-packages (from pandas->datasets->miniai==0.0.1) (2023.3.post1)\n",
            "Requirement already satisfied: mpmath>=0.19 in /usr/local/lib/python3.10/dist-packages (from sympy->torch<2.1,>=1.7->miniai==0.0.1) (1.3.0)\n",
            "Installing collected packages: miniai\n",
            "  Attempting uninstall: miniai\n",
            "    Found existing installation: miniai 0.0.1\n",
            "    Uninstalling miniai-0.0.1:\n",
            "      Successfully uninstalled miniai-0.0.1\n",
            "  Running setup.py develop for miniai\n",
            "Successfully installed miniai-0.0.1\n"
          ]
        }
      ]
    },
    {
      "cell_type": "code",
      "source": [
        "! pip install nbdev"
      ],
      "metadata": {
        "colab": {
          "base_uri": "https://localhost:8080/"
        },
        "id": "JhNukzL5hYv0",
        "outputId": "f859eeb0-ef8b-4187-9d4b-eb531c001824"
      },
      "execution_count": 118,
      "outputs": [
        {
          "output_type": "stream",
          "name": "stdout",
          "text": [
            "Requirement already satisfied: nbdev in /usr/local/lib/python3.10/dist-packages (2.3.13)\n",
            "Requirement already satisfied: ipywidgets<=8.0.4 in /usr/local/lib/python3.10/dist-packages (from nbdev) (7.7.1)\n",
            "Requirement already satisfied: fastcore>=1.5.27 in /usr/local/lib/python3.10/dist-packages (from nbdev) (1.5.29)\n",
            "Requirement already satisfied: execnb>=0.1.4 in /usr/local/lib/python3.10/dist-packages (from nbdev) (0.1.5)\n",
            "Requirement already satisfied: astunparse in /usr/local/lib/python3.10/dist-packages (from nbdev) (1.6.3)\n",
            "Requirement already satisfied: ghapi>=1.0.3 in /usr/local/lib/python3.10/dist-packages (from nbdev) (1.0.4)\n",
            "Requirement already satisfied: watchdog in /usr/local/lib/python3.10/dist-packages (from nbdev) (3.0.0)\n",
            "Requirement already satisfied: asttokens in /usr/local/lib/python3.10/dist-packages (from nbdev) (2.4.1)\n",
            "Requirement already satisfied: PyYAML in /usr/local/lib/python3.10/dist-packages (from nbdev) (6.0.1)\n",
            "Requirement already satisfied: ipython in /usr/local/lib/python3.10/dist-packages (from execnb>=0.1.4->nbdev) (7.34.0)\n",
            "Requirement already satisfied: pip in /usr/local/lib/python3.10/dist-packages (from fastcore>=1.5.27->nbdev) (23.1.2)\n",
            "Requirement already satisfied: packaging in /usr/local/lib/python3.10/dist-packages (from fastcore>=1.5.27->nbdev) (23.2)\n",
            "Requirement already satisfied: ipykernel>=4.5.1 in /usr/local/lib/python3.10/dist-packages (from ipywidgets<=8.0.4->nbdev) (5.5.6)\n",
            "Requirement already satisfied: ipython-genutils~=0.2.0 in /usr/local/lib/python3.10/dist-packages (from ipywidgets<=8.0.4->nbdev) (0.2.0)\n",
            "Requirement already satisfied: traitlets>=4.3.1 in /usr/local/lib/python3.10/dist-packages (from ipywidgets<=8.0.4->nbdev) (5.7.1)\n",
            "Requirement already satisfied: widgetsnbextension~=3.6.0 in /usr/local/lib/python3.10/dist-packages (from ipywidgets<=8.0.4->nbdev) (3.6.6)\n",
            "Requirement already satisfied: jupyterlab-widgets>=1.0.0 in /usr/local/lib/python3.10/dist-packages (from ipywidgets<=8.0.4->nbdev) (3.0.9)\n",
            "Requirement already satisfied: six>=1.12.0 in /usr/local/lib/python3.10/dist-packages (from asttokens->nbdev) (1.16.0)\n",
            "Requirement already satisfied: wheel<1.0,>=0.23.0 in /usr/local/lib/python3.10/dist-packages (from astunparse->nbdev) (0.42.0)\n",
            "Requirement already satisfied: jupyter-client in /usr/local/lib/python3.10/dist-packages (from ipykernel>=4.5.1->ipywidgets<=8.0.4->nbdev) (6.1.12)\n",
            "Requirement already satisfied: tornado>=4.2 in /usr/local/lib/python3.10/dist-packages (from ipykernel>=4.5.1->ipywidgets<=8.0.4->nbdev) (6.3.2)\n",
            "Requirement already satisfied: setuptools>=18.5 in /usr/local/lib/python3.10/dist-packages (from ipython->execnb>=0.1.4->nbdev) (67.7.2)\n",
            "Requirement already satisfied: jedi>=0.16 in /usr/local/lib/python3.10/dist-packages (from ipython->execnb>=0.1.4->nbdev) (0.19.1)\n",
            "Requirement already satisfied: decorator in /usr/local/lib/python3.10/dist-packages (from ipython->execnb>=0.1.4->nbdev) (4.4.2)\n",
            "Requirement already satisfied: pickleshare in /usr/local/lib/python3.10/dist-packages (from ipython->execnb>=0.1.4->nbdev) (0.7.5)\n",
            "Requirement already satisfied: prompt-toolkit!=3.0.0,!=3.0.1,<3.1.0,>=2.0.0 in /usr/local/lib/python3.10/dist-packages (from ipython->execnb>=0.1.4->nbdev) (3.0.43)\n",
            "Requirement already satisfied: pygments in /usr/local/lib/python3.10/dist-packages (from ipython->execnb>=0.1.4->nbdev) (2.16.1)\n",
            "Requirement already satisfied: backcall in /usr/local/lib/python3.10/dist-packages (from ipython->execnb>=0.1.4->nbdev) (0.2.0)\n",
            "Requirement already satisfied: matplotlib-inline in /usr/local/lib/python3.10/dist-packages (from ipython->execnb>=0.1.4->nbdev) (0.1.6)\n",
            "Requirement already satisfied: pexpect>4.3 in /usr/local/lib/python3.10/dist-packages (from ipython->execnb>=0.1.4->nbdev) (4.9.0)\n",
            "Requirement already satisfied: notebook>=4.4.1 in /usr/local/lib/python3.10/dist-packages (from widgetsnbextension~=3.6.0->ipywidgets<=8.0.4->nbdev) (6.5.5)\n",
            "Requirement already satisfied: parso<0.9.0,>=0.8.3 in /usr/local/lib/python3.10/dist-packages (from jedi>=0.16->ipython->execnb>=0.1.4->nbdev) (0.8.3)\n",
            "Requirement already satisfied: jinja2 in /usr/local/lib/python3.10/dist-packages (from notebook>=4.4.1->widgetsnbextension~=3.6.0->ipywidgets<=8.0.4->nbdev) (3.1.3)\n",
            "Requirement already satisfied: pyzmq<25,>=17 in /usr/local/lib/python3.10/dist-packages (from notebook>=4.4.1->widgetsnbextension~=3.6.0->ipywidgets<=8.0.4->nbdev) (23.2.1)\n",
            "Requirement already satisfied: argon2-cffi in /usr/local/lib/python3.10/dist-packages (from notebook>=4.4.1->widgetsnbextension~=3.6.0->ipywidgets<=8.0.4->nbdev) (23.1.0)\n",
            "Requirement already satisfied: jupyter-core>=4.6.1 in /usr/local/lib/python3.10/dist-packages (from notebook>=4.4.1->widgetsnbextension~=3.6.0->ipywidgets<=8.0.4->nbdev) (5.7.1)\n",
            "Requirement already satisfied: nbformat in /usr/local/lib/python3.10/dist-packages (from notebook>=4.4.1->widgetsnbextension~=3.6.0->ipywidgets<=8.0.4->nbdev) (5.9.2)\n",
            "Requirement already satisfied: nbconvert>=5 in /usr/local/lib/python3.10/dist-packages (from notebook>=4.4.1->widgetsnbextension~=3.6.0->ipywidgets<=8.0.4->nbdev) (6.5.4)\n",
            "Requirement already satisfied: nest-asyncio>=1.5 in /usr/local/lib/python3.10/dist-packages (from notebook>=4.4.1->widgetsnbextension~=3.6.0->ipywidgets<=8.0.4->nbdev) (1.6.0)\n",
            "Requirement already satisfied: Send2Trash>=1.8.0 in /usr/local/lib/python3.10/dist-packages (from notebook>=4.4.1->widgetsnbextension~=3.6.0->ipywidgets<=8.0.4->nbdev) (1.8.2)\n",
            "Requirement already satisfied: terminado>=0.8.3 in /usr/local/lib/python3.10/dist-packages (from notebook>=4.4.1->widgetsnbextension~=3.6.0->ipywidgets<=8.0.4->nbdev) (0.18.0)\n",
            "Requirement already satisfied: prometheus-client in /usr/local/lib/python3.10/dist-packages (from notebook>=4.4.1->widgetsnbextension~=3.6.0->ipywidgets<=8.0.4->nbdev) (0.19.0)\n",
            "Requirement already satisfied: nbclassic>=0.4.7 in /usr/local/lib/python3.10/dist-packages (from notebook>=4.4.1->widgetsnbextension~=3.6.0->ipywidgets<=8.0.4->nbdev) (1.0.0)\n",
            "Requirement already satisfied: python-dateutil>=2.1 in /usr/local/lib/python3.10/dist-packages (from jupyter-client->ipykernel>=4.5.1->ipywidgets<=8.0.4->nbdev) (2.8.2)\n",
            "Requirement already satisfied: ptyprocess>=0.5 in /usr/local/lib/python3.10/dist-packages (from pexpect>4.3->ipython->execnb>=0.1.4->nbdev) (0.7.0)\n",
            "Requirement already satisfied: wcwidth in /usr/local/lib/python3.10/dist-packages (from prompt-toolkit!=3.0.0,!=3.0.1,<3.1.0,>=2.0.0->ipython->execnb>=0.1.4->nbdev) (0.2.13)\n",
            "Requirement already satisfied: platformdirs>=2.5 in /usr/local/lib/python3.10/dist-packages (from jupyter-core>=4.6.1->notebook>=4.4.1->widgetsnbextension~=3.6.0->ipywidgets<=8.0.4->nbdev) (4.1.0)\n",
            "Requirement already satisfied: jupyter-server>=1.8 in /usr/local/lib/python3.10/dist-packages (from nbclassic>=0.4.7->notebook>=4.4.1->widgetsnbextension~=3.6.0->ipywidgets<=8.0.4->nbdev) (1.24.0)\n",
            "Requirement already satisfied: notebook-shim>=0.2.3 in /usr/local/lib/python3.10/dist-packages (from nbclassic>=0.4.7->notebook>=4.4.1->widgetsnbextension~=3.6.0->ipywidgets<=8.0.4->nbdev) (0.2.3)\n",
            "Requirement already satisfied: lxml in /usr/local/lib/python3.10/dist-packages (from nbconvert>=5->notebook>=4.4.1->widgetsnbextension~=3.6.0->ipywidgets<=8.0.4->nbdev) (4.9.4)\n",
            "Requirement already satisfied: beautifulsoup4 in /usr/local/lib/python3.10/dist-packages (from nbconvert>=5->notebook>=4.4.1->widgetsnbextension~=3.6.0->ipywidgets<=8.0.4->nbdev) (4.11.2)\n",
            "Requirement already satisfied: bleach in /usr/local/lib/python3.10/dist-packages (from nbconvert>=5->notebook>=4.4.1->widgetsnbextension~=3.6.0->ipywidgets<=8.0.4->nbdev) (6.1.0)\n",
            "Requirement already satisfied: defusedxml in /usr/local/lib/python3.10/dist-packages (from nbconvert>=5->notebook>=4.4.1->widgetsnbextension~=3.6.0->ipywidgets<=8.0.4->nbdev) (0.7.1)\n",
            "Requirement already satisfied: entrypoints>=0.2.2 in /usr/local/lib/python3.10/dist-packages (from nbconvert>=5->notebook>=4.4.1->widgetsnbextension~=3.6.0->ipywidgets<=8.0.4->nbdev) (0.4)\n",
            "Requirement already satisfied: jupyterlab-pygments in /usr/local/lib/python3.10/dist-packages (from nbconvert>=5->notebook>=4.4.1->widgetsnbextension~=3.6.0->ipywidgets<=8.0.4->nbdev) (0.3.0)\n",
            "Requirement already satisfied: MarkupSafe>=2.0 in /usr/local/lib/python3.10/dist-packages (from nbconvert>=5->notebook>=4.4.1->widgetsnbextension~=3.6.0->ipywidgets<=8.0.4->nbdev) (2.1.4)\n",
            "Requirement already satisfied: mistune<2,>=0.8.1 in /usr/local/lib/python3.10/dist-packages (from nbconvert>=5->notebook>=4.4.1->widgetsnbextension~=3.6.0->ipywidgets<=8.0.4->nbdev) (0.8.4)\n",
            "Requirement already satisfied: nbclient>=0.5.0 in /usr/local/lib/python3.10/dist-packages (from nbconvert>=5->notebook>=4.4.1->widgetsnbextension~=3.6.0->ipywidgets<=8.0.4->nbdev) (0.9.0)\n",
            "Requirement already satisfied: pandocfilters>=1.4.1 in /usr/local/lib/python3.10/dist-packages (from nbconvert>=5->notebook>=4.4.1->widgetsnbextension~=3.6.0->ipywidgets<=8.0.4->nbdev) (1.5.1)\n",
            "Requirement already satisfied: tinycss2 in /usr/local/lib/python3.10/dist-packages (from nbconvert>=5->notebook>=4.4.1->widgetsnbextension~=3.6.0->ipywidgets<=8.0.4->nbdev) (1.2.1)\n",
            "Requirement already satisfied: fastjsonschema in /usr/local/lib/python3.10/dist-packages (from nbformat->notebook>=4.4.1->widgetsnbextension~=3.6.0->ipywidgets<=8.0.4->nbdev) (2.19.1)\n",
            "Requirement already satisfied: jsonschema>=2.6 in /usr/local/lib/python3.10/dist-packages (from nbformat->notebook>=4.4.1->widgetsnbextension~=3.6.0->ipywidgets<=8.0.4->nbdev) (4.19.2)\n",
            "Requirement already satisfied: argon2-cffi-bindings in /usr/local/lib/python3.10/dist-packages (from argon2-cffi->notebook>=4.4.1->widgetsnbextension~=3.6.0->ipywidgets<=8.0.4->nbdev) (21.2.0)\n",
            "Requirement already satisfied: attrs>=22.2.0 in /usr/local/lib/python3.10/dist-packages (from jsonschema>=2.6->nbformat->notebook>=4.4.1->widgetsnbextension~=3.6.0->ipywidgets<=8.0.4->nbdev) (23.2.0)\n",
            "Requirement already satisfied: jsonschema-specifications>=2023.03.6 in /usr/local/lib/python3.10/dist-packages (from jsonschema>=2.6->nbformat->notebook>=4.4.1->widgetsnbextension~=3.6.0->ipywidgets<=8.0.4->nbdev) (2023.12.1)\n",
            "Requirement already satisfied: referencing>=0.28.4 in /usr/local/lib/python3.10/dist-packages (from jsonschema>=2.6->nbformat->notebook>=4.4.1->widgetsnbextension~=3.6.0->ipywidgets<=8.0.4->nbdev) (0.32.1)\n",
            "Requirement already satisfied: rpds-py>=0.7.1 in /usr/local/lib/python3.10/dist-packages (from jsonschema>=2.6->nbformat->notebook>=4.4.1->widgetsnbextension~=3.6.0->ipywidgets<=8.0.4->nbdev) (0.17.1)\n",
            "Requirement already satisfied: anyio<4,>=3.1.0 in /usr/local/lib/python3.10/dist-packages (from jupyter-server>=1.8->nbclassic>=0.4.7->notebook>=4.4.1->widgetsnbextension~=3.6.0->ipywidgets<=8.0.4->nbdev) (3.7.1)\n",
            "Requirement already satisfied: websocket-client in /usr/local/lib/python3.10/dist-packages (from jupyter-server>=1.8->nbclassic>=0.4.7->notebook>=4.4.1->widgetsnbextension~=3.6.0->ipywidgets<=8.0.4->nbdev) (1.7.0)\n",
            "Requirement already satisfied: cffi>=1.0.1 in /usr/local/lib/python3.10/dist-packages (from argon2-cffi-bindings->argon2-cffi->notebook>=4.4.1->widgetsnbextension~=3.6.0->ipywidgets<=8.0.4->nbdev) (1.16.0)\n",
            "Requirement already satisfied: soupsieve>1.2 in /usr/local/lib/python3.10/dist-packages (from beautifulsoup4->nbconvert>=5->notebook>=4.4.1->widgetsnbextension~=3.6.0->ipywidgets<=8.0.4->nbdev) (2.5)\n",
            "Requirement already satisfied: webencodings in /usr/local/lib/python3.10/dist-packages (from bleach->nbconvert>=5->notebook>=4.4.1->widgetsnbextension~=3.6.0->ipywidgets<=8.0.4->nbdev) (0.5.1)\n",
            "Requirement already satisfied: idna>=2.8 in /usr/local/lib/python3.10/dist-packages (from anyio<4,>=3.1.0->jupyter-server>=1.8->nbclassic>=0.4.7->notebook>=4.4.1->widgetsnbextension~=3.6.0->ipywidgets<=8.0.4->nbdev) (3.6)\n",
            "Requirement already satisfied: sniffio>=1.1 in /usr/local/lib/python3.10/dist-packages (from anyio<4,>=3.1.0->jupyter-server>=1.8->nbclassic>=0.4.7->notebook>=4.4.1->widgetsnbextension~=3.6.0->ipywidgets<=8.0.4->nbdev) (1.3.0)\n",
            "Requirement already satisfied: exceptiongroup in /usr/local/lib/python3.10/dist-packages (from anyio<4,>=3.1.0->jupyter-server>=1.8->nbclassic>=0.4.7->notebook>=4.4.1->widgetsnbextension~=3.6.0->ipywidgets<=8.0.4->nbdev) (1.2.0)\n",
            "Requirement already satisfied: pycparser in /usr/local/lib/python3.10/dist-packages (from cffi>=1.0.1->argon2-cffi-bindings->argon2-cffi->notebook>=4.4.1->widgetsnbextension~=3.6.0->ipywidgets<=8.0.4->nbdev) (2.21)\n"
          ]
        }
      ]
    },
    {
      "cell_type": "markdown",
      "source": [
        "## HuggingFace Datasets"
      ],
      "metadata": {
        "id": "G2RvIv-90M-f"
      }
    },
    {
      "cell_type": "code",
      "source": [
        "! pip install datasets"
      ],
      "metadata": {
        "colab": {
          "base_uri": "https://localhost:8080/"
        },
        "id": "p7ipXgzrtv8Q",
        "outputId": "2475be30-ef13-4ba9-da6b-1344b27af666"
      },
      "execution_count": 119,
      "outputs": [
        {
          "output_type": "stream",
          "name": "stdout",
          "text": [
            "Requirement already satisfied: datasets in /usr/local/lib/python3.10/dist-packages (2.16.1)\n",
            "Requirement already satisfied: filelock in /usr/local/lib/python3.10/dist-packages (from datasets) (3.13.1)\n",
            "Requirement already satisfied: numpy>=1.17 in /usr/local/lib/python3.10/dist-packages (from datasets) (1.23.5)\n",
            "Requirement already satisfied: pyarrow>=8.0.0 in /usr/local/lib/python3.10/dist-packages (from datasets) (10.0.1)\n",
            "Requirement already satisfied: pyarrow-hotfix in /usr/local/lib/python3.10/dist-packages (from datasets) (0.6)\n",
            "Requirement already satisfied: dill<0.3.8,>=0.3.0 in /usr/local/lib/python3.10/dist-packages (from datasets) (0.3.7)\n",
            "Requirement already satisfied: pandas in /usr/local/lib/python3.10/dist-packages (from datasets) (1.5.3)\n",
            "Requirement already satisfied: requests>=2.19.0 in /usr/local/lib/python3.10/dist-packages (from datasets) (2.31.0)\n",
            "Requirement already satisfied: tqdm>=4.62.1 in /usr/local/lib/python3.10/dist-packages (from datasets) (4.66.1)\n",
            "Requirement already satisfied: xxhash in /usr/local/lib/python3.10/dist-packages (from datasets) (3.4.1)\n",
            "Requirement already satisfied: multiprocess in /usr/local/lib/python3.10/dist-packages (from datasets) (0.70.15)\n",
            "Requirement already satisfied: fsspec[http]<=2023.10.0,>=2023.1.0 in /usr/local/lib/python3.10/dist-packages (from datasets) (2023.6.0)\n",
            "Requirement already satisfied: aiohttp in /usr/local/lib/python3.10/dist-packages (from datasets) (3.9.1)\n",
            "Requirement already satisfied: huggingface-hub>=0.19.4 in /usr/local/lib/python3.10/dist-packages (from datasets) (0.20.3)\n",
            "Requirement already satisfied: packaging in /usr/local/lib/python3.10/dist-packages (from datasets) (23.2)\n",
            "Requirement already satisfied: pyyaml>=5.1 in /usr/local/lib/python3.10/dist-packages (from datasets) (6.0.1)\n",
            "Requirement already satisfied: attrs>=17.3.0 in /usr/local/lib/python3.10/dist-packages (from aiohttp->datasets) (23.2.0)\n",
            "Requirement already satisfied: multidict<7.0,>=4.5 in /usr/local/lib/python3.10/dist-packages (from aiohttp->datasets) (6.0.4)\n",
            "Requirement already satisfied: yarl<2.0,>=1.0 in /usr/local/lib/python3.10/dist-packages (from aiohttp->datasets) (1.9.4)\n",
            "Requirement already satisfied: frozenlist>=1.1.1 in /usr/local/lib/python3.10/dist-packages (from aiohttp->datasets) (1.4.1)\n",
            "Requirement already satisfied: aiosignal>=1.1.2 in /usr/local/lib/python3.10/dist-packages (from aiohttp->datasets) (1.3.1)\n",
            "Requirement already satisfied: async-timeout<5.0,>=4.0 in /usr/local/lib/python3.10/dist-packages (from aiohttp->datasets) (4.0.3)\n",
            "Requirement already satisfied: typing-extensions>=3.7.4.3 in /usr/local/lib/python3.10/dist-packages (from huggingface-hub>=0.19.4->datasets) (4.5.0)\n",
            "Requirement already satisfied: charset-normalizer<4,>=2 in /usr/local/lib/python3.10/dist-packages (from requests>=2.19.0->datasets) (3.3.2)\n",
            "Requirement already satisfied: idna<4,>=2.5 in /usr/local/lib/python3.10/dist-packages (from requests>=2.19.0->datasets) (3.6)\n",
            "Requirement already satisfied: urllib3<3,>=1.21.1 in /usr/local/lib/python3.10/dist-packages (from requests>=2.19.0->datasets) (2.0.7)\n",
            "Requirement already satisfied: certifi>=2017.4.17 in /usr/local/lib/python3.10/dist-packages (from requests>=2.19.0->datasets) (2023.11.17)\n",
            "Requirement already satisfied: python-dateutil>=2.8.1 in /usr/local/lib/python3.10/dist-packages (from pandas->datasets) (2.8.2)\n",
            "Requirement already satisfied: pytz>=2020.1 in /usr/local/lib/python3.10/dist-packages (from pandas->datasets) (2023.3.post1)\n",
            "Requirement already satisfied: six>=1.5 in /usr/local/lib/python3.10/dist-packages (from python-dateutil>=2.8.1->pandas->datasets) (1.16.0)\n"
          ]
        }
      ]
    },
    {
      "cell_type": "code",
      "source": [
        "import pickle,gzip,math,os,time,shutil,torch,matplotlib as mpl,numpy as np,matplotlib.pyplot as plt\n",
        "import fastcore.all as fc\n",
        "from collections.abc import Mapping\n",
        "from pathlib import Path\n",
        "from operator import attrgetter,itemgetter\n",
        "from functools import partial\n",
        "\n",
        "from torch import tensor,nn,optim\n",
        "from torch.utils.data import DataLoader,default_collate\n",
        "import torch.nn.functional as F\n",
        "import torchvision.transforms.functional as TF\n",
        "from datasets import load_dataset,load_dataset_builder\n",
        "\n",
        "from fastprogress import progress_bar,master_bar\n",
        "from miniai.datasets import *\n",
        "from miniai.training import *\n",
        "from miniai.conv import *\n",
        "from fastcore.test import test_close\n"
      ],
      "metadata": {
        "id": "XzapIX-ihR9T"
      },
      "execution_count": 120,
      "outputs": []
    },
    {
      "cell_type": "code",
      "source": [
        "torch.set_printoptions(precision=2, linewidth=140, sci_mode=False)\n",
        "torch.manual_seed(1)\n",
        "mpl.rcParams['image.cmap'] = 'gray'"
      ],
      "metadata": {
        "id": "iBuhOpLyhR_d"
      },
      "execution_count": 121,
      "outputs": []
    },
    {
      "cell_type": "code",
      "source": [
        "import logging\n",
        "logging.disable(logging.WARNING)\n"
      ],
      "metadata": {
        "id": "h4pcz_w8hSCO"
      },
      "execution_count": 122,
      "outputs": []
    },
    {
      "cell_type": "markdown",
      "source": [
        "# Hugging Face Datasets"
      ],
      "metadata": {
        "id": "CyNdMBgKja_j"
      }
    },
    {
      "cell_type": "code",
      "source": [
        "x,y = 'image', 'label'\n",
        "name = \"fashion_mnist\"\n",
        "\n",
        "\n",
        "\n",
        "\n",
        "dsd = load_dataset(name,\n",
        "                   ignore_verifications=True\n",
        "                   )\n",
        "dsd"
      ],
      "metadata": {
        "colab": {
          "base_uri": "https://localhost:8080/"
        },
        "id": "b6IXL4s3hSKB",
        "outputId": "e7e96be6-a4d7-450e-ab6b-9a2d3d33aa41"
      },
      "execution_count": 123,
      "outputs": [
        {
          "output_type": "stream",
          "name": "stderr",
          "text": [
            "/usr/local/lib/python3.10/dist-packages/datasets/load.py:2491: FutureWarning: 'ignore_verifications' was deprecated in favor of 'verification_mode' in version 2.9.1 and will be removed in 3.0.0.\n",
            "You can remove this warning by passing 'verification_mode=no_checks' instead.\n",
            "  warnings.warn(\n"
          ]
        },
        {
          "output_type": "execute_result",
          "data": {
            "text/plain": [
              "DatasetDict({\n",
              "    train: Dataset({\n",
              "        features: ['image', 'label'],\n",
              "        num_rows: 60000\n",
              "    })\n",
              "    test: Dataset({\n",
              "        features: ['image', 'label'],\n",
              "        num_rows: 10000\n",
              "    })\n",
              "})"
            ]
          },
          "metadata": {},
          "execution_count": 123
        }
      ]
    },
    {
      "cell_type": "code",
      "source": [
        "dsd['train']"
      ],
      "metadata": {
        "colab": {
          "base_uri": "https://localhost:8080/"
        },
        "id": "8VK8vFS-b-Th",
        "outputId": "174d589e-adcb-4a98-9b07-e7c852f10691"
      },
      "execution_count": 124,
      "outputs": [
        {
          "output_type": "execute_result",
          "data": {
            "text/plain": [
              "Dataset({\n",
              "    features: ['image', 'label'],\n",
              "    num_rows: 60000\n",
              "})"
            ]
          },
          "metadata": {},
          "execution_count": 124
        }
      ]
    },
    {
      "cell_type": "code",
      "source": [
        "@inplace\n",
        "def transformi(b):\n",
        "  b[x] = [TF.to_tensor(o) for o in b[x]]"
      ],
      "metadata": {
        "id": "sn7RGXOZn6WG"
      },
      "execution_count": 125,
      "outputs": []
    },
    {
      "cell_type": "code",
      "source": [
        "bs = 256\n",
        "tds = dsd.with_transform(transformi)\n",
        "tds"
      ],
      "metadata": {
        "colab": {
          "base_uri": "https://localhost:8080/"
        },
        "id": "JrF7xyu8n6Y4",
        "outputId": "f9a9f422-11fc-4921-a51a-bced82c5f950"
      },
      "execution_count": 126,
      "outputs": [
        {
          "output_type": "execute_result",
          "data": {
            "text/plain": [
              "DatasetDict({\n",
              "    train: Dataset({\n",
              "        features: ['image', 'label'],\n",
              "        num_rows: 60000\n",
              "    })\n",
              "    test: Dataset({\n",
              "        features: ['image', 'label'],\n",
              "        num_rows: 10000\n",
              "    })\n",
              "})"
            ]
          },
          "metadata": {},
          "execution_count": 126
        }
      ]
    },
    {
      "cell_type": "code",
      "source": [
        "ds = tds['train']\n",
        "img = ds[0][x]\n",
        "show_image(img, figsize=(1,1))"
      ],
      "metadata": {
        "colab": {
          "base_uri": "https://localhost:8080/",
          "height": 101
        },
        "id": "aWKSnFQEofbq",
        "outputId": "9ad657ec-d6c1-4ac3-a5bd-58e20e6ae685"
      },
      "execution_count": 127,
      "outputs": [
        {
          "output_type": "execute_result",
          "data": {
            "text/plain": [
              "<Axes: >"
            ]
          },
          "metadata": {},
          "execution_count": 127
        },
        {
          "output_type": "display_data",
          "data": {
            "text/plain": [
              "<Figure size 70x70 with 1 Axes>"
            ],
            "image/png": "[encoded data removed]"
          },
          "metadata": {}
        }
      ]
    },
    {
      "cell_type": "code",
      "source": [
        "cf = collate_dict(ds)\n",
        "cf"
      ],
      "metadata": {
        "colab": {
          "base_uri": "https://localhost:8080/"
        },
        "id": "dkfjaWbBofdn",
        "outputId": "44a4f0ea-d326-4337-a957-2a4d602f5535"
      },
      "execution_count": 128,
      "outputs": [
        {
          "output_type": "execute_result",
          "data": {
            "text/plain": [
              "<function miniai.datasets.collate_dict.<locals>._f(b)>"
            ]
          },
          "metadata": {},
          "execution_count": 128
        }
      ]
    },
    {
      "cell_type": "code",
      "source": [
        "def collate_(b):\n",
        "  return to_device(cf(b))\n",
        "\n",
        "\n",
        "def data_loaders(dsd, bs, **kwargs):\n",
        "  return {k:DataLoader(v, bs, **kwargs) for k,v in dsd.items()}\n"
      ],
      "metadata": {
        "id": "rK-l4o-Poff1"
      },
      "execution_count": 129,
      "outputs": []
    },
    {
      "cell_type": "code",
      "source": [
        "dls = data_loaders( tds, bs, collate_fn = collate_)\n",
        "dls"
      ],
      "metadata": {
        "colab": {
          "base_uri": "https://localhost:8080/"
        },
        "id": "kyJLRRIcofhf",
        "outputId": "7c575f39-fa1f-4561-a4d8-bddaa9523346"
      },
      "execution_count": 130,
      "outputs": [
        {
          "output_type": "execute_result",
          "data": {
            "text/plain": [
              "{'train': <torch.utils.data.dataloader.DataLoader at 0x7cfdf8b46950>,\n",
              " 'test': <torch.utils.data.dataloader.DataLoader at 0x7cfdf8b46500>}"
            ]
          },
          "metadata": {},
          "execution_count": 130
        }
      ]
    },
    {
      "cell_type": "code",
      "source": [
        "dt = dls['train']\n",
        "dv = dls['test']\n",
        "dt,dv"
      ],
      "metadata": {
        "colab": {
          "base_uri": "https://localhost:8080/"
        },
        "id": "_eYV5F_2ofkA",
        "outputId": "650e09fa-0a24-432f-e9f6-17867cf41ecd"
      },
      "execution_count": 131,
      "outputs": [
        {
          "output_type": "execute_result",
          "data": {
            "text/plain": [
              "(<torch.utils.data.dataloader.DataLoader at 0x7cfdf8b46950>,\n",
              " <torch.utils.data.dataloader.DataLoader at 0x7cfdf8b46500>)"
            ]
          },
          "metadata": {},
          "execution_count": 131
        }
      ]
    },
    {
      "cell_type": "code",
      "source": [
        "xb, yb = next(iter(dt))\n",
        "xb.shape, yb.shape"
      ],
      "metadata": {
        "colab": {
          "base_uri": "https://localhost:8080/"
        },
        "id": "527b3-GBp_B4",
        "outputId": "e6b0d4fc-340e-49e0-dd87-3eec3c3d5fd9"
      },
      "execution_count": 132,
      "outputs": [
        {
          "output_type": "execute_result",
          "data": {
            "text/plain": [
              "(torch.Size([256, 1, 28, 28]), torch.Size([256]))"
            ]
          },
          "metadata": {},
          "execution_count": 132
        }
      ]
    },
    {
      "cell_type": "code",
      "source": [
        "labels = ds.features['label'].names\n",
        "labels"
      ],
      "metadata": {
        "colab": {
          "base_uri": "https://localhost:8080/"
        },
        "id": "1jDfdKIPp_Dk",
        "outputId": "d98897c4-4e9e-48e0-a25b-92c17b237cd5"
      },
      "execution_count": 133,
      "outputs": [
        {
          "output_type": "execute_result",
          "data": {
            "text/plain": [
              "['T - shirt / top',\n",
              " 'Trouser',\n",
              " 'Pullover',\n",
              " 'Dress',\n",
              " 'Coat',\n",
              " 'Sandal',\n",
              " 'Shirt',\n",
              " 'Sneaker',\n",
              " 'Bag',\n",
              " 'Ankle boot']"
            ]
          },
          "metadata": {},
          "execution_count": 133
        }
      ]
    },
    {
      "cell_type": "code",
      "source": [
        "lbl_getter = itemgetter(*yb[:16])\n",
        "titles = lbl_getter(labels)\n",
        "titles"
      ],
      "metadata": {
        "colab": {
          "base_uri": "https://localhost:8080/"
        },
        "id": "uIXNC1oSp_FA",
        "outputId": "bdf468e6-186a-4595-b611-06dc86b7676c"
      },
      "execution_count": 134,
      "outputs": [
        {
          "output_type": "execute_result",
          "data": {
            "text/plain": [
              "('Ankle boot',\n",
              " 'T - shirt / top',\n",
              " 'T - shirt / top',\n",
              " 'Dress',\n",
              " 'T - shirt / top',\n",
              " 'Pullover',\n",
              " 'Sneaker',\n",
              " 'Pullover',\n",
              " 'Sandal',\n",
              " 'Sandal',\n",
              " 'T - shirt / top',\n",
              " 'Ankle boot',\n",
              " 'Sandal',\n",
              " 'Sandal',\n",
              " 'Sneaker',\n",
              " 'Ankle boot')"
            ]
          },
          "metadata": {},
          "execution_count": 134
        }
      ]
    },
    {
      "cell_type": "code",
      "source": [
        "# itemgetter??"
      ],
      "metadata": {
        "id": "Ef04PMIjp_H3"
      },
      "execution_count": 135,
      "outputs": []
    },
    {
      "cell_type": "code",
      "source": [
        "mpl.rcParams['figure.dpi'] = 70\n",
        "show_images(xb[:16], imsize=1.7, titles=titles)"
      ],
      "metadata": {
        "colab": {
          "base_uri": "https://localhost:8080/",
          "height": 413
        },
        "id": "tVUMkWJxrQ5F",
        "outputId": "1b937b99-855b-43b8-99fe-47a05960bcf0"
      },
      "execution_count": 136,
      "outputs": [
        {
          "output_type": "display_data",
          "data": {
            "text/plain": [
              "<Figure size 476x476 with 16 Axes>"
            ],
            "image/png": "[encoded data removed]"
          },
          "metadata": {}
        }
      ]
    },
    {
      "cell_type": "code",
      "source": [
        "## Warmup - classify"
      ],
      "metadata": {
        "id": "t6QpTv4yrQ64"
      },
      "execution_count": 137,
      "outputs": []
    },
    {
      "cell_type": "markdown",
      "source": [
        "#"
      ],
      "metadata": {
        "id": "ypMpi6avrX7Y"
      }
    },
    {
      "cell_type": "code",
      "source": [],
      "metadata": {
        "id": "Ejk7Ox5hrQ8Z"
      },
      "execution_count": 137,
      "outputs": []
    },
    {
      "cell_type": "code",
      "source": [],
      "metadata": {
        "id": "-xiZir9trQ_U"
      },
      "execution_count": 137,
      "outputs": []
    },
    {
      "cell_type": "code",
      "source": [
        "ds_builder.info.features"
      ],
      "metadata": {
        "colab": {
          "base_uri": "https://localhost:8080/"
        },
        "id": "atNAj9Pdtb-C",
        "outputId": "e806b091-0155-43aa-b4c6-45a93138b5fe"
      },
      "execution_count": 138,
      "outputs": [
        {
          "output_type": "execute_result",
          "data": {
            "text/plain": [
              "{'image': Image(decode=True, id=None),\n",
              " 'label': ClassLabel(names=['T - shirt / top', 'Trouser', 'Pullover', 'Dress', 'Coat', 'Sandal', 'Shirt', 'Sneaker', 'Bag', 'Ankle boot'], id=None)}"
            ]
          },
          "metadata": {},
          "execution_count": 138
        }
      ]
    },
    {
      "cell_type": "code",
      "source": [
        "ds_builder.info.splits"
      ],
      "metadata": {
        "colab": {
          "base_uri": "https://localhost:8080/"
        },
        "id": "LJInfijPtcHX",
        "outputId": "a1bf9ea1-2fc5-4f51-9f96-6d7e70f5f243"
      },
      "execution_count": 139,
      "outputs": [
        {
          "output_type": "execute_result",
          "data": {
            "text/plain": [
              "{'train': SplitInfo(name='train', num_bytes=31304107, num_examples=60000, shard_lengths=None, dataset_name='fashion_mnist'),\n",
              " 'test': SplitInfo(name='test', num_bytes=5235060, num_examples=10000, shard_lengths=None, dataset_name='fashion_mnist')}"
            ]
          },
          "metadata": {},
          "execution_count": 139
        }
      ]
    },
    {
      "cell_type": "code",
      "source": [
        "dsd = load_dataset(name)\n",
        "dsd # DatasetDict  -  dataset dictionary"
      ],
      "metadata": {
        "colab": {
          "base_uri": "https://localhost:8080/"
        },
        "id": "7stdEsEUrrSl",
        "outputId": "6a7b494e-5b8f-412d-bc3d-a6c94865052a"
      },
      "execution_count": 140,
      "outputs": [
        {
          "output_type": "execute_result",
          "data": {
            "text/plain": [
              "DatasetDict({\n",
              "    train: Dataset({\n",
              "        features: ['image', 'label'],\n",
              "        num_rows: 60000\n",
              "    })\n",
              "    test: Dataset({\n",
              "        features: ['image', 'label'],\n",
              "        num_rows: 10000\n",
              "    })\n",
              "})"
            ]
          },
          "metadata": {},
          "execution_count": 140
        }
      ]
    },
    {
      "cell_type": "code",
      "source": [
        "train, test = dsd['train'], dsd['test']   # fetching element from DatasetDict using keys\n",
        "\n",
        "train.shape, test.shape"
      ],
      "metadata": {
        "colab": {
          "base_uri": "https://localhost:8080/"
        },
        "id": "hRX-dqF0hSHP",
        "outputId": "b0e6194e-292f-46f5-fb86-b0e380779d15"
      },
      "execution_count": 141,
      "outputs": [
        {
          "output_type": "execute_result",
          "data": {
            "text/plain": [
              "((60000, 2), (10000, 2))"
            ]
          },
          "metadata": {},
          "execution_count": 141
        }
      ]
    },
    {
      "cell_type": "code",
      "source": [
        "train[0], test[0]  # here we are getting dictionaries, not tuple"
      ],
      "metadata": {
        "id": "0MHmq2nksa8H",
        "colab": {
          "base_uri": "https://localhost:8080/"
        },
        "outputId": "f4bc3b78-00cd-4af8-fa53-c5457e3a64fd"
      },
      "execution_count": 142,
      "outputs": [
        {
          "output_type": "execute_result",
          "data": {
            "text/plain": [
              "({'image': <PIL.PngImagePlugin.PngImageFile image mode=L size=28x28>,\n",
              "  'label': 9},\n",
              " {'image': <PIL.PngImagePlugin.PngImageFile image mode=L size=28x28>,\n",
              "  'label': 9})"
            ]
          },
          "metadata": {},
          "execution_count": 142
        }
      ]
    },
    {
      "cell_type": "code",
      "source": [
        "x , y = 'image' ,'label' # for\n",
        "x , y"
      ],
      "metadata": {
        "id": "O-tiyIIhsbco",
        "colab": {
          "base_uri": "https://localhost:8080/"
        },
        "outputId": "23855f14-50f3-4423-9d26-5c95f8390c78"
      },
      "execution_count": 143,
      "outputs": [
        {
          "output_type": "execute_result",
          "data": {
            "text/plain": [
              "('image', 'label')"
            ]
          },
          "metadata": {},
          "execution_count": 143
        }
      ]
    },
    {
      "cell_type": "code",
      "source": [
        "x, y = ds_builder.info.features\n",
        "x,y\n",
        "\n"
      ],
      "metadata": {
        "colab": {
          "base_uri": "https://localhost:8080/"
        },
        "id": "MFhMwtSfv7yg",
        "outputId": "5b8d96ee-9599-487e-f8c4-8d18401eea44"
      },
      "execution_count": 144,
      "outputs": [
        {
          "output_type": "execute_result",
          "data": {
            "text/plain": [
              "('image', 'label')"
            ]
          },
          "metadata": {},
          "execution_count": 144
        }
      ]
    },
    {
      "cell_type": "code",
      "source": [
        "img = train[0][x]\n",
        "img"
      ],
      "metadata": {
        "id": "zex5ykgIsbfK",
        "colab": {
          "base_uri": "https://localhost:8080/",
          "height": 45
        },
        "outputId": "d8351c2a-2c66-47a4-a84b-ed75d851d1f7"
      },
      "execution_count": 145,
      "outputs": [
        {
          "output_type": "execute_result",
          "data": {
            "text/plain": [
              "<PIL.PngImagePlugin.PngImageFile image mode=L size=28x28>"
            ],
            "image/png": "[encoded data removed]"
          },
          "metadata": {},
          "execution_count": 145
        }
      ]
    },
    {
      "cell_type": "code",
      "source": [
        "train[0][y]"
      ],
      "metadata": {
        "id": "SSjCQOPUsbhV",
        "colab": {
          "base_uri": "https://localhost:8080/"
        },
        "outputId": "8f431316-85b1-4a62-89b7-00a571687bb3"
      },
      "execution_count": 146,
      "outputs": [
        {
          "output_type": "execute_result",
          "data": {
            "text/plain": [
              "9"
            ]
          },
          "metadata": {},
          "execution_count": 146
        }
      ]
    },
    {
      "cell_type": "code",
      "source": [
        "train[:5][x], train[:5][y]"
      ],
      "metadata": {
        "colab": {
          "base_uri": "https://localhost:8080/"
        },
        "id": "ZlTyYUSev3hR",
        "outputId": "6019faef-5532-40ff-f4d8-6201401feeca"
      },
      "execution_count": 147,
      "outputs": [
        {
          "output_type": "execute_result",
          "data": {
            "text/plain": [
              "([<PIL.PngImagePlugin.PngImageFile image mode=L size=28x28>,\n",
              "  <PIL.PngImagePlugin.PngImageFile image mode=L size=28x28>,\n",
              "  <PIL.PngImagePlugin.PngImageFile image mode=L size=28x28>,\n",
              "  <PIL.PngImagePlugin.PngImageFile image mode=L size=28x28>,\n",
              "  <PIL.PngImagePlugin.PngImageFile image mode=L size=28x28>],\n",
              " [9, 0, 0, 3, 0])"
            ]
          },
          "metadata": {},
          "execution_count": 147
        }
      ]
    },
    {
      "cell_type": "code",
      "source": [
        "featy = train.features[y]  # label names\n",
        "featy"
      ],
      "metadata": {
        "colab": {
          "base_uri": "https://localhost:8080/"
        },
        "id": "cjNUBwV_wHb8",
        "outputId": "c7b66a2f-c722-4ad9-dba1-8d8b1f4a1dc1"
      },
      "execution_count": 148,
      "outputs": [
        {
          "output_type": "execute_result",
          "data": {
            "text/plain": [
              "ClassLabel(names=['T - shirt / top', 'Trouser', 'Pullover', 'Dress', 'Coat', 'Sandal', 'Shirt', 'Sneaker', 'Bag', 'Ankle boot'], id=None)"
            ]
          },
          "metadata": {},
          "execution_count": 148
        }
      ]
    },
    {
      "cell_type": "code",
      "source": [
        "xb,yb = train[:5][x] , train[:5][y]\n",
        "xb,yb"
      ],
      "metadata": {
        "colab": {
          "base_uri": "https://localhost:8080/"
        },
        "id": "tv3sblXZxI47",
        "outputId": "20f16188-3dba-4a54-fe2b-3a8b24ccab79"
      },
      "execution_count": 149,
      "outputs": [
        {
          "output_type": "execute_result",
          "data": {
            "text/plain": [
              "([<PIL.PngImagePlugin.PngImageFile image mode=L size=28x28>,\n",
              "  <PIL.PngImagePlugin.PngImageFile image mode=L size=28x28>,\n",
              "  <PIL.PngImagePlugin.PngImageFile image mode=L size=28x28>,\n",
              "  <PIL.PngImagePlugin.PngImageFile image mode=L size=28x28>,\n",
              "  <PIL.PngImagePlugin.PngImageFile image mode=L size=28x28>],\n",
              " [9, 0, 0, 3, 0])"
            ]
          },
          "metadata": {},
          "execution_count": 149
        }
      ]
    },
    {
      "cell_type": "code",
      "source": [
        "featy.int2str(yb)"
      ],
      "metadata": {
        "colab": {
          "base_uri": "https://localhost:8080/"
        },
        "id": "IVsHnu7qwHfL",
        "outputId": "49427bb6-605e-44e3-deaf-feea8eeee2ea"
      },
      "execution_count": 150,
      "outputs": [
        {
          "output_type": "execute_result",
          "data": {
            "text/plain": [
              "['Ankle boot',\n",
              " 'T - shirt / top',\n",
              " 'T - shirt / top',\n",
              " 'Dress',\n",
              " 'T - shirt / top']"
            ]
          },
          "metadata": {},
          "execution_count": 150
        }
      ]
    },
    {
      "cell_type": "code",
      "source": [
        "train['label'][:5]"
      ],
      "metadata": {
        "colab": {
          "base_uri": "https://localhost:8080/"
        },
        "id": "Bsh1A95UwHhG",
        "outputId": "5681a908-06e4-44d2-aaa1-7336d5b276e8"
      },
      "execution_count": 151,
      "outputs": [
        {
          "output_type": "execute_result",
          "data": {
            "text/plain": [
              "[9, 0, 0, 3, 0]"
            ]
          },
          "metadata": {},
          "execution_count": 151
        }
      ]
    },
    {
      "cell_type": "code",
      "source": [
        "# collate function will return dictionary\n",
        "\n",
        "\n",
        "def collate_fn(b):\n",
        "  return {\n",
        "      x:torch.stack([\n",
        "          TF.to_tensor(o[x]) for o in b\n",
        "      ]),\n",
        "\n",
        "      y:tensor([o[y] for o in b])\n",
        "  }"
      ],
      "metadata": {
        "id": "eR6t3Cp4wHjA"
      },
      "execution_count": 152,
      "outputs": []
    },
    {
      "cell_type": "code",
      "source": [
        "dl = DataLoader(train, collate_fn=collate_fn, batch_size=16)\n",
        "b = next(iter(dl))\n",
        "\n",
        "b[x].shape, b[y]"
      ],
      "metadata": {
        "colab": {
          "base_uri": "https://localhost:8080/"
        },
        "id": "59eCxWNAwHky",
        "outputId": "754338bf-f2d6-494c-aa3e-5ee07b1f28d2"
      },
      "execution_count": 153,
      "outputs": [
        {
          "output_type": "execute_result",
          "data": {
            "text/plain": [
              "(torch.Size([16, 1, 28, 28]),\n",
              " tensor([9, 0, 0, 3, 0, 2, 7, 2, 5, 5, 0, 9, 5, 5, 7, 9]))"
            ]
          },
          "metadata": {},
          "execution_count": 153
        }
      ]
    },
    {
      "cell_type": "code",
      "source": [
        "def transforms(b):  # we can fo collate_fn using transform\n",
        "  b[x] = [TF.to_tensor(o) for o in b[x]]  # no satcking # pytorch already knows how to collate dictionaries of tenaors\n",
        "  return b"
      ],
      "metadata": {
        "id": "eMmrSmuXwHml"
      },
      "execution_count": 154,
      "outputs": []
    },
    {
      "cell_type": "code",
      "source": [
        "tds = train.with_transform(transforms) # with_transform expects transforms to return value i.e. not an inplace function  # it `transforms` to every element\n",
        "# whenever __getitem__ will be called it will call`transforms` on fly  # means its not cached\n",
        "dl = DataLoader(tds, batch_size=16)  # so data loader can be created without collate function because pytorch collates dicts but default\n",
        "b = next(iter(dl))\n",
        "b[x].shape, b[y]  # x - img, y - label\n"
      ],
      "metadata": {
        "id": "Qvvwjql7wHpV",
        "colab": {
          "base_uri": "https://localhost:8080/"
        },
        "outputId": "2c47229c-2327-4282-ba24-b97d784e2154"
      },
      "execution_count": 155,
      "outputs": [
        {
          "output_type": "execute_result",
          "data": {
            "text/plain": [
              "(torch.Size([16, 1, 28, 28]),\n",
              " tensor([9, 0, 0, 3, 0, 2, 7, 2, 5, 5, 0, 9, 5, 5, 7, 9]))"
            ]
          },
          "metadata": {},
          "execution_count": 155
        }
      ]
    },
    {
      "cell_type": "code",
      "source": [
        "def _transformi(b):\n",
        "  b[x] = [torch.flatten(TF.to_tensor(o)) for o in b[x]]\n",
        "\"\"\"\n",
        "this inplace function does not return results but `with_transform` need `transforms` to return data\n",
        "\"\"\""
      ],
      "metadata": {
        "id": "PYFHacRywHrz",
        "colab": {
          "base_uri": "https://localhost:8080/",
          "height": 36
        },
        "outputId": "6fda466e-596b-41e2-98f5-15113c0207ec"
      },
      "execution_count": 156,
      "outputs": [
        {
          "output_type": "execute_result",
          "data": {
            "text/plain": [
              "'\\nthis inplace function does not return results but `with_transform` need `transforms` to return data\\n'"
            ],
            "application/vnd.google.colaboratory.intrinsic+json": {
              "type": "string"
            }
          },
          "metadata": {},
          "execution_count": 156
        }
      ]
    },
    {
      "cell_type": "code",
      "source": [
        "def inplace(f):\n",
        "  def _f(b):\n",
        "    f(b)\n",
        "    return b\n",
        "  return _f"
      ],
      "metadata": {
        "id": "ClE_ROtO4tap"
      },
      "execution_count": 157,
      "outputs": []
    },
    {
      "cell_type": "code",
      "source": [
        "transformi = inplace(_transformi)"
      ],
      "metadata": {
        "id": "m9YVdTP44tcf"
      },
      "execution_count": 158,
      "outputs": []
    },
    {
      "cell_type": "code",
      "source": [
        "r = train.with_transform(transformi)[0]\n",
        "r[x].shape, r[y]"
      ],
      "metadata": {
        "colab": {
          "base_uri": "https://localhost:8080/"
        },
        "id": "rk--j99u4tf0",
        "outputId": "789ecf99-6ee9-44b2-e976-55e4b306fa72"
      },
      "execution_count": 159,
      "outputs": [
        {
          "output_type": "execute_result",
          "data": {
            "text/plain": [
              "(torch.Size([784]), 9)"
            ]
          },
          "metadata": {},
          "execution_count": 159
        }
      ]
    },
    {
      "cell_type": "code",
      "source": [
        "@inplace\n",
        "def transformi(b):\n",
        "  b[x] = [torch.flatten(TF.to_tensor(o)) for o in b[x]]"
      ],
      "metadata": {
        "id": "puhcRUzc4th6"
      },
      "execution_count": 160,
      "outputs": []
    },
    {
      "cell_type": "code",
      "source": [
        "tdsf = train.with_transform(transformi)\n",
        "r = tdsf[0]\n",
        "r[x].shape, r[y]"
      ],
      "metadata": {
        "colab": {
          "base_uri": "https://localhost:8080/"
        },
        "id": "PcEnlazd5sV6",
        "outputId": "61dab9c0-674b-4c0e-e074-eabc81c66562"
      },
      "execution_count": 161,
      "outputs": [
        {
          "output_type": "execute_result",
          "data": {
            "text/plain": [
              "(torch.Size([784]), 9)"
            ]
          },
          "metadata": {},
          "execution_count": 161
        }
      ]
    },
    {
      "cell_type": "code",
      "source": [
        "d= dict(\n",
        "    a=1,\n",
        "    b=2,\n",
        "    c=3\n",
        ")"
      ],
      "metadata": {
        "id": "Wsn78oxm5sX7"
      },
      "execution_count": 162,
      "outputs": []
    },
    {
      "cell_type": "code",
      "source": [
        "ig = itemgetter('a','c')\n",
        "ig(d)"
      ],
      "metadata": {
        "colab": {
          "base_uri": "https://localhost:8080/"
        },
        "id": "hJAtmG6z5sZp",
        "outputId": "2d72c72d-f85d-44db-a43c-971e8afe3a0a"
      },
      "execution_count": 163,
      "outputs": [
        {
          "output_type": "execute_result",
          "data": {
            "text/plain": [
              "(1, 3)"
            ]
          },
          "metadata": {},
          "execution_count": 163
        }
      ]
    },
    {
      "cell_type": "code",
      "source": [
        "class D:\n",
        "  def __getitem__(self, k):\n",
        "    return 1 if k=='a' else 2 if k=='b' else 3"
      ],
      "metadata": {
        "id": "5NSxt_7-5sbZ"
      },
      "execution_count": 164,
      "outputs": []
    },
    {
      "cell_type": "code",
      "source": [
        "d=D()\n",
        "ig(d)"
      ],
      "metadata": {
        "colab": {
          "base_uri": "https://localhost:8080/"
        },
        "id": "pf6LSCHs5sdB",
        "outputId": "136010bb-2e84-4a19-e14d-0281f8762fad"
      },
      "execution_count": 165,
      "outputs": [
        {
          "output_type": "execute_result",
          "data": {
            "text/plain": [
              "(1, 3)"
            ]
          },
          "metadata": {},
          "execution_count": 165
        }
      ]
    },
    {
      "cell_type": "code",
      "source": [
        "list(tdsf.features)"
      ],
      "metadata": {
        "colab": {
          "base_uri": "https://localhost:8080/"
        },
        "id": "RGtVrYqN5sev",
        "outputId": "e30d0a2c-3ec8-421d-c11c-38ea07b639c4"
      },
      "execution_count": 166,
      "outputs": [
        {
          "output_type": "execute_result",
          "data": {
            "text/plain": [
              "['image', 'label']"
            ]
          },
          "metadata": {},
          "execution_count": 166
        }
      ]
    },
    {
      "cell_type": "code",
      "source": [
        "batch = dict(a=[1], b=[2]), dict(a=[3], b=[4])\n",
        "default_collate(batch) # default_collate takes the matching keys and collate the values"
      ],
      "metadata": {
        "colab": {
          "base_uri": "https://localhost:8080/"
        },
        "id": "TokCJbi55sgi",
        "outputId": "827c46d7-532d-4f58-9761-0ccf7a7581ee"
      },
      "execution_count": 167,
      "outputs": [
        {
          "output_type": "execute_result",
          "data": {
            "text/plain": [
              "{'a': [tensor([1, 3])], 'b': [tensor([2, 4])]}"
            ]
          },
          "metadata": {},
          "execution_count": 167
        }
      ]
    },
    {
      "cell_type": "code",
      "source": [
        "#|export\n",
        "\n",
        "\n",
        "# we will be using this function too much\n",
        "\n",
        "def collate_dict(ds):  # converting dict into tuple\n",
        "\n",
        "  get = itemgetter(*ds.features)\n",
        "  def _f(b): return (get(default_collate(b)))\n",
        "  # breakpoint()\n",
        "\n",
        "  return _f"
      ],
      "metadata": {
        "id": "nLTZ3Gy05siB"
      },
      "execution_count": 168,
      "outputs": []
    },
    {
      "cell_type": "code",
      "source": [
        "dlf = DataLoader(tdsf, batch_size=4, collate_fn=collate_dict(tdsf))\n",
        "xb,yb = next(iter(dlf))\n",
        "xb.shape,  yb"
      ],
      "metadata": {
        "colab": {
          "base_uri": "https://localhost:8080/"
        },
        "id": "pPlbyVj85sk0",
        "outputId": "164081da-45ca-4620-c789-295196aa37cf"
      },
      "execution_count": 169,
      "outputs": [
        {
          "output_type": "execute_result",
          "data": {
            "text/plain": [
              "(torch.Size([4, 784]), tensor([9, 0, 0, 3]))"
            ]
          },
          "metadata": {},
          "execution_count": 169
        }
      ]
    },
    {
      "cell_type": "code",
      "source": [],
      "metadata": {
        "id": "42cGssF2Ar7a"
      },
      "execution_count": 169,
      "outputs": []
    },
    {
      "cell_type": "markdown",
      "source": [
        "# Plotting images"
      ],
      "metadata": {
        "id": "BbncNvdfWohm"
      }
    },
    {
      "cell_type": "code",
      "source": [
        "b = next(iter(dl))\n",
        "xb = b['image']\n",
        "img = xb[0]\n",
        "plt.imshow(img[0])"
      ],
      "metadata": {
        "id": "ENgrLbWYAr9o",
        "outputId": "55c0b0ea-d855-456f-ded9-3aa549f66437",
        "colab": {
          "base_uri": "https://localhost:8080/",
          "height": 323
        }
      },
      "execution_count": 170,
      "outputs": [
        {
          "output_type": "execute_result",
          "data": {
            "text/plain": [
              "<matplotlib.image.AxesImage at 0x7cfe018ef4f0>"
            ]
          },
          "metadata": {},
          "execution_count": 170
        },
        {
          "output_type": "display_data",
          "data": {
            "text/plain": [
              "<Figure size 448x336 with 1 Axes>"
            ],
            "image/png": "[encoded data removed]"
          },
          "metadata": {}
        }
      ]
    },
    {
      "cell_type": "code",
      "source": [
        "#|export\n",
        "@fc.delegates(plt.Axes.imshow)\n",
        "def show_image(im, ax=None, figsize=None, title=None, noframe=True, **kwargs):\n",
        "    \"Show a PIL or PyTorch image on `ax`.\"\n",
        "    if fc.hasattrs(im, ('cpu','permute','detach')):\n",
        "        im = im.detach().cpu()\n",
        "        if len(im.shape)==3 and im.shape[0]<5: im=im.permute(1,2,0)  # making sure its in correct Axes order\n",
        "    elif not isinstance(im,np.ndarray): im=np.array(im)\n",
        "    if im.shape[-1]==1: im=im[...,0]\n",
        "    if ax is None: _,ax = plt.subplots(figsize=figsize)\n",
        "    ax.imshow(im, **kwargs)   # As we are passing kwargs to ax.imshow(), fc.delegates adds parameters related to that too\n",
        "    if title is not None: ax.set_title(title)\n",
        "    ax.set_xticks([])\n",
        "    ax.set_yticks([])\n",
        "    if noframe: ax.axis('off')\n",
        "    return ax"
      ],
      "metadata": {
        "id": "mXfte-RjAsBS"
      },
      "execution_count": 171,
      "outputs": []
    },
    {
      "cell_type": "code",
      "source": [
        "help(show_image) # all extra parameters are coming for @fc.delegates"
      ],
      "metadata": {
        "id": "dIvz2VomAsDH",
        "outputId": "da7286c2-9dd1-4b45-f399-18f8a326d097",
        "colab": {
          "base_uri": "https://localhost:8080/"
        }
      },
      "execution_count": 172,
      "outputs": [
        {
          "output_type": "stream",
          "name": "stdout",
          "text": [
            "Help on function show_image in module __main__:\n",
            "\n",
            "show_image(im, ax=None, figsize=None, title=None, noframe=True, *, cmap=None, norm=None, aspect=None, interpolation=None, alpha=None, vmin=None, vmax=None, origin=None, extent=None, interpolation_stage=None, filternorm=True, filterrad=4.0, resample=None, url=None, data=None)\n",
            "    Show a PIL or PyTorch image on `ax`.\n",
            "\n"
          ]
        }
      ]
    },
    {
      "cell_type": "code",
      "source": [
        "show_image(img, figsize=(2,2))"
      ],
      "metadata": {
        "id": "S_PClt4-XuuU",
        "outputId": "14bbfe13-2d55-4616-b17a-b1bd65991c8e",
        "colab": {
          "base_uri": "https://localhost:8080/",
          "height": 155
        }
      },
      "execution_count": 173,
      "outputs": [
        {
          "output_type": "execute_result",
          "data": {
            "text/plain": [
              "<Axes: >"
            ]
          },
          "metadata": {},
          "execution_count": 173
        },
        {
          "output_type": "display_data",
          "data": {
            "text/plain": [
              "<Figure size 140x140 with 1 Axes>"
            ],
            "image/png": "[encoded data removed]"
          },
          "metadata": {}
        }
      ]
    },
    {
      "cell_type": "code",
      "source": [
        "# making subplots\n",
        "fig, axs = plt.subplots(1,2)\n",
        "show_image(img, axs[0])\n",
        "show_image(xb[1], axs[1])"
      ],
      "metadata": {
        "id": "NcKJUwyFXuwz",
        "outputId": "b44b776a-8ed4-45dc-9888-fcb11192271f",
        "colab": {
          "base_uri": "https://localhost:8080/",
          "height": 205
        }
      },
      "execution_count": 174,
      "outputs": [
        {
          "output_type": "execute_result",
          "data": {
            "text/plain": [
              "<Axes: >"
            ]
          },
          "metadata": {},
          "execution_count": 174
        },
        {
          "output_type": "display_data",
          "data": {
            "text/plain": [
              "<Figure size 448x336 with 2 Axes>"
            ],
            "image/png": "[encoded data removed]"
          },
          "metadata": {}
        }
      ]
    },
    {
      "cell_type": "code",
      "source": [
        "#|export\n",
        "@fc.delegates(plt.subplots, keep=True)\n",
        "def subplots(\n",
        "    nrows:int=1, # Number of rows in returned axes grid\n",
        "    ncols:int=1, # Number of columns in returned axes grid\n",
        "    figsize:tuple=None, # Width, height in inches of the returned figure\n",
        "    imsize:int=3, # Size (in inches) of images that will be displayed in the returned figure\n",
        "    suptitle:str=None, # Title to be set to returned figure\n",
        "    **kwargs\n",
        "): # fig and axs\n",
        "    \"A figure and set of subplots to display images of `imsize` inches\"\n",
        "    if figsize is None: figsize=(ncols*imsize, nrows*imsize)\n",
        "    fig,ax = plt.subplots(nrows, ncols, figsize=figsize, **kwargs)\n",
        "    if suptitle is not None: fig.suptitle(suptitle)\n",
        "    if nrows*ncols==1: ax = np.array([ax])\n",
        "    return fig,ax"
      ],
      "metadata": {
        "id": "MvMds1VmXuzS"
      },
      "execution_count": 175,
      "outputs": []
    },
    {
      "cell_type": "code",
      "source": [],
      "metadata": {
        "id": "M_d1EKxyhVMP"
      },
      "execution_count": 175,
      "outputs": []
    },
    {
      "cell_type": "code",
      "source": [
        "from nbdev.showdoc import show_doc\n"
      ],
      "metadata": {
        "id": "Fs233eUhXu1M"
      },
      "execution_count": 176,
      "outputs": []
    },
    {
      "cell_type": "code",
      "source": [
        "show_doc(subplots)\n"
      ],
      "metadata": {
        "id": "inBCNDVaXwy6",
        "outputId": "9d5c0e18-4aa0-48d3-c2d6-00cf70d6f9a3",
        "colab": {
          "base_uri": "https://localhost:8080/",
          "height": 623
        }
      },
      "execution_count": 177,
      "outputs": [
        {
          "output_type": "execute_result",
          "data": {
            "text/plain": [
              "---\n",
              "\n",
              "### subplots\n",
              "\n",
              ">      subplots (nrows:int=1, ncols:int=1, figsize:tuple=None, imsize:int=3,\n",
              ">                suptitle:str=None, sharex=False, sharey=False, squeeze=True,\n",
              ">                width_ratios=None, height_ratios=None, subplot_kw=None,\n",
              ">                gridspec_kw=None, **kwargs)\n",
              "\n",
              "A figure and set of subplots to display images of `imsize` inches\n",
              "\n",
              "|    | **Type** | **Default** | **Details** |\n",
              "| -- | -------- | ----------- | ----------- |\n",
              "| nrows | int | 1 | Number of rows in returned axes grid |\n",
              "| ncols | int | 1 | Number of columns in returned axes grid |\n",
              "| figsize | tuple | None | Width, height in inches of the returned figure |\n",
              "| imsize | int | 3 | Size (in inches) of images that will be displayed in the returned figure |\n",
              "| suptitle | str | None | Title to be set to returned figure |\n",
              "| sharex | bool | False |  |\n",
              "| sharey | bool | False |  |\n",
              "| squeeze | bool | True |  |\n",
              "| width_ratios | NoneType | None |  |\n",
              "| height_ratios | NoneType | None |  |\n",
              "| subplot_kw | NoneType | None |  |\n",
              "| gridspec_kw | NoneType | None |  |\n",
              "| kwargs |  |  |  |"
            ],
            "text/markdown": "---\n\n### subplots\n\n>      subplots (nrows:int=1, ncols:int=1, figsize:tuple=None, imsize:int=3,\n>                suptitle:str=None, sharex=False, sharey=False, squeeze=True,\n>                width_ratios=None, height_ratios=None, subplot_kw=None,\n>                gridspec_kw=None, **kwargs)\n\nA figure and set of subplots to display images of `imsize` inches\n\n|    | **Type** | **Default** | **Details** |\n| -- | -------- | ----------- | ----------- |\n| nrows | int | 1 | Number of rows in returned axes grid |\n| ncols | int | 1 | Number of columns in returned axes grid |\n| figsize | tuple | None | Width, height in inches of the returned figure |\n| imsize | int | 3 | Size (in inches) of images that will be displayed in the returned figure |\n| suptitle | str | None | Title to be set to returned figure |\n| sharex | bool | False |  |\n| sharey | bool | False |  |\n| squeeze | bool | True |  |\n| width_ratios | NoneType | None |  |\n| height_ratios | NoneType | None |  |\n| subplot_kw | NoneType | None |  |\n| gridspec_kw | NoneType | None |  |\n| kwargs |  |  |  |"
          },
          "metadata": {},
          "execution_count": 177
        }
      ]
    },
    {
      "cell_type": "code",
      "source": [
        "show_doc(collate_dict) # make docuentatio coming from comments"
      ],
      "metadata": {
        "id": "zjdeKJK3Xw1J",
        "outputId": "c2e6ecc5-ea3a-4beb-ca2a-18238bd8454d",
        "colab": {
          "base_uri": "https://localhost:8080/",
          "height": 171
        }
      },
      "execution_count": 178,
      "outputs": [
        {
          "output_type": "execute_result",
          "data": {
            "text/plain": [
              "---\n",
              "\n",
              "### collate_dict\n",
              "\n",
              ">      collate_dict (ds)\n",
              "\n",
              "|    | **Details** |\n",
              "| -- | ----------- |\n",
              "| ds | converting dict into tuple |"
            ],
            "text/markdown": "---\n\n### collate_dict\n\n>      collate_dict (ds)\n\n|    | **Details** |\n| -- | ----------- |\n| ds | converting dict into tuple |"
          },
          "metadata": {},
          "execution_count": 178
        }
      ]
    },
    {
      "cell_type": "code",
      "source": [
        "fig, axs = subplots(3,3, imsize=1)\n",
        "imgs  = xb[:8]\n",
        "for ax, img in zip(axs.flat, imgs):\n",
        "  show_image(img, ax)"
      ],
      "metadata": {
        "id": "gg5BRWu1Xw3m",
        "outputId": "ecb120d4-6b9d-46d7-de9b-fd3cf2841e0e",
        "colab": {
          "base_uri": "https://localhost:8080/",
          "height": 209
        }
      },
      "execution_count": 179,
      "outputs": [
        {
          "output_type": "display_data",
          "data": {
            "text/plain": [
              "<Figure size 210x210 with 9 Axes>"
            ],
            "image/png": "[encoded data removed]"
          },
          "metadata": {}
        }
      ]
    },
    {
      "cell_type": "code",
      "source": [
        "#|export\n",
        "@fc.delegates(subplots)\n",
        "def get_grid(\n",
        "    n:int, # Number of axes\n",
        "    nrows:int=None, # Number of rows, defaulting to `int(math.sqrt(n))`\n",
        "    ncols:int=None, # Number of columns, defaulting to `ceil(n/rows)`\n",
        "    title:str=None, # If passed, title set to the figure\n",
        "    weight:str='bold', # Title font weight\n",
        "    size:int=14, # Title font size\n",
        "    **kwargs,\n",
        "): # fig and axs\n",
        "    \"Return a grid of `n` axes, `rows` by `cols`\"\n",
        "    if nrows: ncols = ncols or int(np.floor(n/nrows))\n",
        "    elif ncols: nrows = nrows or int(np.ceil(n/ncols))\n",
        "    else:\n",
        "        nrows = int(math.sqrt(n))\n",
        "        ncols = int(np.floor(n/nrows))\n",
        "    fig,axs = subplots(nrows, ncols, **kwargs)\n",
        "    for i in range(n, nrows*ncols): axs.flat[i].set_axis_off()\n",
        "    if title is not None: fig.suptitle(title, weight=weight, size=size)\n",
        "    return fig,axs"
      ],
      "metadata": {
        "id": "NXbQzym7Xw7f"
      },
      "execution_count": 180,
      "outputs": []
    },
    {
      "cell_type": "code",
      "source": [
        "fig,axs = get_grid(8, nrows=3, imsize=1)\n",
        "for ax,img in zip(axs.flat,imgs): show_image(img, ax)"
      ],
      "metadata": {
        "id": "hKAGfMRgaB-2",
        "outputId": "055a1309-7114-47dd-d7fc-3e420bde5d7a",
        "colab": {
          "base_uri": "https://localhost:8080/",
          "height": 192
        }
      },
      "execution_count": 181,
      "outputs": [
        {
          "output_type": "display_data",
          "data": {
            "text/plain": [
              "<Figure size 140x210 with 6 Axes>"
            ],
            "image/png": "[encoded data removed]"
          },
          "metadata": {}
        }
      ]
    },
    {
      "cell_type": "code",
      "source": [
        "#|export\n",
        "@fc.delegates(subplots)\n",
        "def show_images(ims:list, # Images to show\n",
        "                nrows:int|None=None, # Number of rows in grid\n",
        "                ncols:int|None=None, # Number of columns in grid (auto-calculated if None)\n",
        "                titles:list|None=None, # Optional list of titles for each image\n",
        "                **kwargs):\n",
        "    \"Show all images `ims` as subplots with `rows` using `titles`\"\n",
        "    axs = get_grid(len(ims), nrows, ncols, **kwargs)[1].flat\n",
        "    for im,t,ax in zip_longest(ims, titles or [], axs): show_image(im, ax=ax, title=t)"
      ],
      "metadata": {
        "id": "RAARIg22aCA_"
      },
      "execution_count": 182,
      "outputs": []
    },
    {
      "cell_type": "code",
      "source": [
        "yb = b['label']\n",
        "lbls = yb[:8]\n"
      ],
      "metadata": {
        "id": "SEIMA0yyaCDI"
      },
      "execution_count": 183,
      "outputs": []
    },
    {
      "cell_type": "code",
      "source": [
        "names = \"Top Trouser Pullover Dress Coat Sandal Shirt Sneaker Bag Boot\".split()\n",
        "titles = itemgetter(*lbls)(names)\n",
        "' '.join(titles)"
      ],
      "metadata": {
        "id": "-2Fh1fAOaCEy",
        "outputId": "e60e245c-0b31-4c2d-8f17-5ba85d4041ac",
        "colab": {
          "base_uri": "https://localhost:8080/",
          "height": 36
        }
      },
      "execution_count": 184,
      "outputs": [
        {
          "output_type": "execute_result",
          "data": {
            "text/plain": [
              "'Boot Top Top Dress Top Pullover Sneaker Pullover'"
            ],
            "application/vnd.google.colaboratory.intrinsic+json": {
              "type": "string"
            }
          },
          "metadata": {},
          "execution_count": 184
        }
      ]
    },
    {
      "cell_type": "code",
      "source": [
        "show_images(imgs, imsize=1.7, titles=titles)\n"
      ],
      "metadata": {
        "id": "yEgmV5aKaCGt",
        "outputId": "02e75386-06d1-417d-f8d9-829041ac68cb",
        "colab": {
          "base_uri": "https://localhost:8080/",
          "height": 226
        }
      },
      "execution_count": 185,
      "outputs": [
        {
          "output_type": "display_data",
          "data": {
            "text/plain": [
              "<Figure size 476x238 with 8 Axes>"
            ],
            "image/png": "[encoded data removed]"
          },
          "metadata": {}
        }
      ]
    },
    {
      "cell_type": "code",
      "source": [
        "#|export\n",
        "class DataLoaders:\n",
        "    def __init__(self, *dls): self.train,self.valid = dls[:2]\n",
        "\n",
        "    @classmethod\n",
        "    def from_dd(cls, dd, batch_size, as_tuple=True, **kwargs):\n",
        "        f = collate_dict(dd['train'])\n",
        "        return cls(*get_dls(*dd.values(), bs=batch_size, collate_fn=f, **kwargs))"
      ],
      "metadata": {
        "id": "W84rNTedaCIr"
      },
      "execution_count": 186,
      "outputs": []
    },
    {
      "cell_type": "markdown",
      "source": [
        "# Export"
      ],
      "metadata": {
        "id": "6AZLDwqJaMhG"
      }
    },
    {
      "cell_type": "code",
      "source": [
        "# import nbdev; nbdev.nbdev_export()"
      ],
      "metadata": {
        "id": "k1cGuC9IaCKi"
      },
      "execution_count": 187,
      "outputs": []
    },
    {
      "cell_type": "code",
      "source": [],
      "metadata": {
        "id": "8EutYIKkwHuf"
      },
      "execution_count": 187,
      "outputs": []
    }
  ]
}