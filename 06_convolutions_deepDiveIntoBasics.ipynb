{
  "nbformat": 4,
  "nbformat_minor": 0,
  "metadata": {
    "colab": {
      "provenance": [],
      "authorship_tag": "ABX9TyNaCdI++zuKE+6izvmTVZf/",
      "include_colab_link": true
    },
    "kernelspec": {
      "name": "python3",
      "display_name": "Python 3"
    },
    "language_info": {
      "name": "python"
    }
  },
  "cells": [
    {
      "cell_type": "markdown",
      "metadata": {
        "id": "view-in-github",
        "colab_type": "text"
      },
      "source": [
        "<a href=\"https://colab.research.google.com/github/mzohaibnasir/NeuralNotes/blob/main/06_convolutions_deepDiveIntoBasics.ipynb\" target=\"_parent\"><img src=\"https://colab.research.google.com/assets/colab-badge.svg\" alt=\"Open In Colab\"/></a>"
      ]
    },
    {
      "cell_type": "code",
      "source": [
        "#|default_exp conv\n"
      ],
      "metadata": {
        "id": "tU7pAya74ibd"
      },
      "execution_count": 1,
      "outputs": []
    },
    {
      "cell_type": "code",
      "source": [
        "! git clone https://github.com/fastai/course22p2.git\n",
        "!ls -a"
      ],
      "metadata": {
        "id": "EqjnNd_iDOSi",
        "outputId": "88b2a81a-517b-4f05-a36c-d1f2b35620e5",
        "colab": {
          "base_uri": "https://localhost:8080/"
        }
      },
      "execution_count": 2,
      "outputs": [
        {
          "output_type": "stream",
          "name": "stdout",
          "text": [
            "fatal: destination path 'course22p2' already exists and is not an empty directory.\n",
            ".  ..  .config\tcourse22p2  sample_data\n"
          ]
        }
      ]
    },
    {
      "cell_type": "code",
      "source": [
        "!ls /content/course22p2\n",
        "!pip install -e /content/course22p2/.   # -e : editable   ; install current directory as python module\n"
      ],
      "metadata": {
        "id": "GzHme8jmDWAH",
        "outputId": "99a8d5dd-907c-4a50-97dc-e4ad8b2efe3f",
        "colab": {
          "base_uri": "https://localhost:8080/"
        }
      },
      "execution_count": 3,
      "outputs": [
        {
          "output_type": "stream",
          "name": "stdout",
          "text": [
            "LICENSE      miniai\t      nbs\t settings.ini  summaries\n",
            "MANIFEST.in  miniai.egg-info  README.md  setup.py      xl\n",
            "Obtaining file:///content/course22p2\n",
            "  Preparing metadata (setup.py) ... \u001b[?25l\u001b[?25hdone\n",
            "Requirement already satisfied: matplotlib in /usr/local/lib/python3.10/dist-packages (from miniai==0.0.1) (3.7.1)\n",
            "Requirement already satisfied: datasets in /usr/local/lib/python3.10/dist-packages (from miniai==0.0.1) (2.16.1)\n",
            "Requirement already satisfied: fastprogress in /usr/local/lib/python3.10/dist-packages (from miniai==0.0.1) (1.0.3)\n",
            "Requirement already satisfied: fastcore in /usr/local/lib/python3.10/dist-packages (from miniai==0.0.1) (1.5.29)\n",
            "Requirement already satisfied: torch<2.1,>=1.7 in /usr/local/lib/python3.10/dist-packages (from miniai==0.0.1) (2.0.1)\n",
            "Requirement already satisfied: torcheval in /usr/local/lib/python3.10/dist-packages (from miniai==0.0.1) (0.0.7)\n",
            "Requirement already satisfied: diffusers in /usr/local/lib/python3.10/dist-packages (from miniai==0.0.1) (0.25.1)\n",
            "Requirement already satisfied: einops in /usr/local/lib/python3.10/dist-packages (from miniai==0.0.1) (0.7.0)\n",
            "Requirement already satisfied: timm in /usr/local/lib/python3.10/dist-packages (from miniai==0.0.1) (0.9.12)\n",
            "Requirement already satisfied: filelock in /usr/local/lib/python3.10/dist-packages (from torch<2.1,>=1.7->miniai==0.0.1) (3.13.1)\n",
            "Requirement already satisfied: typing-extensions in /usr/local/lib/python3.10/dist-packages (from torch<2.1,>=1.7->miniai==0.0.1) (4.5.0)\n",
            "Requirement already satisfied: sympy in /usr/local/lib/python3.10/dist-packages (from torch<2.1,>=1.7->miniai==0.0.1) (1.12)\n",
            "Requirement already satisfied: networkx in /usr/local/lib/python3.10/dist-packages (from torch<2.1,>=1.7->miniai==0.0.1) (3.2.1)\n",
            "Requirement already satisfied: jinja2 in /usr/local/lib/python3.10/dist-packages (from torch<2.1,>=1.7->miniai==0.0.1) (3.1.3)\n",
            "Requirement already satisfied: nvidia-cuda-nvrtc-cu11==11.7.99 in /usr/local/lib/python3.10/dist-packages (from torch<2.1,>=1.7->miniai==0.0.1) (11.7.99)\n",
            "Requirement already satisfied: nvidia-cuda-runtime-cu11==11.7.99 in /usr/local/lib/python3.10/dist-packages (from torch<2.1,>=1.7->miniai==0.0.1) (11.7.99)\n",
            "Requirement already satisfied: nvidia-cuda-cupti-cu11==11.7.101 in /usr/local/lib/python3.10/dist-packages (from torch<2.1,>=1.7->miniai==0.0.1) (11.7.101)\n",
            "Requirement already satisfied: nvidia-cudnn-cu11==8.5.0.96 in /usr/local/lib/python3.10/dist-packages (from torch<2.1,>=1.7->miniai==0.0.1) (8.5.0.96)\n",
            "Requirement already satisfied: nvidia-cublas-cu11==11.10.3.66 in /usr/local/lib/python3.10/dist-packages (from torch<2.1,>=1.7->miniai==0.0.1) (11.10.3.66)\n",
            "Requirement already satisfied: nvidia-cufft-cu11==10.9.0.58 in /usr/local/lib/python3.10/dist-packages (from torch<2.1,>=1.7->miniai==0.0.1) (10.9.0.58)\n",
            "Requirement already satisfied: nvidia-curand-cu11==10.2.10.91 in /usr/local/lib/python3.10/dist-packages (from torch<2.1,>=1.7->miniai==0.0.1) (10.2.10.91)\n",
            "Requirement already satisfied: nvidia-cusolver-cu11==11.4.0.1 in /usr/local/lib/python3.10/dist-packages (from torch<2.1,>=1.7->miniai==0.0.1) (11.4.0.1)\n",
            "Requirement already satisfied: nvidia-cusparse-cu11==11.7.4.91 in /usr/local/lib/python3.10/dist-packages (from torch<2.1,>=1.7->miniai==0.0.1) (11.7.4.91)\n",
            "Requirement already satisfied: nvidia-nccl-cu11==2.14.3 in /usr/local/lib/python3.10/dist-packages (from torch<2.1,>=1.7->miniai==0.0.1) (2.14.3)\n",
            "Requirement already satisfied: nvidia-nvtx-cu11==11.7.91 in /usr/local/lib/python3.10/dist-packages (from torch<2.1,>=1.7->miniai==0.0.1) (11.7.91)\n",
            "Requirement already satisfied: triton==2.0.0 in /usr/local/lib/python3.10/dist-packages (from torch<2.1,>=1.7->miniai==0.0.1) (2.0.0)\n",
            "Requirement already satisfied: setuptools in /usr/local/lib/python3.10/dist-packages (from nvidia-cublas-cu11==11.10.3.66->torch<2.1,>=1.7->miniai==0.0.1) (67.7.2)\n",
            "Requirement already satisfied: wheel in /usr/local/lib/python3.10/dist-packages (from nvidia-cublas-cu11==11.10.3.66->torch<2.1,>=1.7->miniai==0.0.1) (0.42.0)\n",
            "Requirement already satisfied: cmake in /usr/local/lib/python3.10/dist-packages (from triton==2.0.0->torch<2.1,>=1.7->miniai==0.0.1) (3.27.9)\n",
            "Requirement already satisfied: lit in /usr/local/lib/python3.10/dist-packages (from triton==2.0.0->torch<2.1,>=1.7->miniai==0.0.1) (17.0.6)\n",
            "Requirement already satisfied: numpy>=1.17 in /usr/local/lib/python3.10/dist-packages (from datasets->miniai==0.0.1) (1.23.5)\n",
            "Requirement already satisfied: pyarrow>=8.0.0 in /usr/local/lib/python3.10/dist-packages (from datasets->miniai==0.0.1) (10.0.1)\n",
            "Requirement already satisfied: pyarrow-hotfix in /usr/local/lib/python3.10/dist-packages (from datasets->miniai==0.0.1) (0.6)\n",
            "Requirement already satisfied: dill<0.3.8,>=0.3.0 in /usr/local/lib/python3.10/dist-packages (from datasets->miniai==0.0.1) (0.3.7)\n",
            "Requirement already satisfied: pandas in /usr/local/lib/python3.10/dist-packages (from datasets->miniai==0.0.1) (1.5.3)\n",
            "Requirement already satisfied: requests>=2.19.0 in /usr/local/lib/python3.10/dist-packages (from datasets->miniai==0.0.1) (2.31.0)\n",
            "Requirement already satisfied: tqdm>=4.62.1 in /usr/local/lib/python3.10/dist-packages (from datasets->miniai==0.0.1) (4.66.1)\n",
            "Requirement already satisfied: xxhash in /usr/local/lib/python3.10/dist-packages (from datasets->miniai==0.0.1) (3.4.1)\n",
            "Requirement already satisfied: multiprocess in /usr/local/lib/python3.10/dist-packages (from datasets->miniai==0.0.1) (0.70.15)\n",
            "Requirement already satisfied: fsspec[http]<=2023.10.0,>=2023.1.0 in /usr/local/lib/python3.10/dist-packages (from datasets->miniai==0.0.1) (2023.6.0)\n",
            "Requirement already satisfied: aiohttp in /usr/local/lib/python3.10/dist-packages (from datasets->miniai==0.0.1) (3.9.1)\n",
            "Requirement already satisfied: huggingface-hub>=0.19.4 in /usr/local/lib/python3.10/dist-packages (from datasets->miniai==0.0.1) (0.20.3)\n",
            "Requirement already satisfied: packaging in /usr/local/lib/python3.10/dist-packages (from datasets->miniai==0.0.1) (23.2)\n",
            "Requirement already satisfied: pyyaml>=5.1 in /usr/local/lib/python3.10/dist-packages (from datasets->miniai==0.0.1) (6.0.1)\n",
            "Requirement already satisfied: importlib-metadata in /usr/local/lib/python3.10/dist-packages (from diffusers->miniai==0.0.1) (7.0.1)\n",
            "Requirement already satisfied: regex!=2019.12.17 in /usr/local/lib/python3.10/dist-packages (from diffusers->miniai==0.0.1) (2023.6.3)\n",
            "Requirement already satisfied: safetensors>=0.3.1 in /usr/local/lib/python3.10/dist-packages (from diffusers->miniai==0.0.1) (0.4.1)\n",
            "Requirement already satisfied: Pillow in /usr/local/lib/python3.10/dist-packages (from diffusers->miniai==0.0.1) (9.4.0)\n",
            "Requirement already satisfied: pip in /usr/local/lib/python3.10/dist-packages (from fastcore->miniai==0.0.1) (23.1.2)\n",
            "Requirement already satisfied: contourpy>=1.0.1 in /usr/local/lib/python3.10/dist-packages (from matplotlib->miniai==0.0.1) (1.2.0)\n",
            "Requirement already satisfied: cycler>=0.10 in /usr/local/lib/python3.10/dist-packages (from matplotlib->miniai==0.0.1) (0.12.1)\n",
            "Requirement already satisfied: fonttools>=4.22.0 in /usr/local/lib/python3.10/dist-packages (from matplotlib->miniai==0.0.1) (4.47.2)\n",
            "Requirement already satisfied: kiwisolver>=1.0.1 in /usr/local/lib/python3.10/dist-packages (from matplotlib->miniai==0.0.1) (1.4.5)\n",
            "Requirement already satisfied: pyparsing>=2.3.1 in /usr/local/lib/python3.10/dist-packages (from matplotlib->miniai==0.0.1) (3.1.1)\n",
            "Requirement already satisfied: python-dateutil>=2.7 in /usr/local/lib/python3.10/dist-packages (from matplotlib->miniai==0.0.1) (2.8.2)\n",
            "Requirement already satisfied: torchvision in /usr/local/lib/python3.10/dist-packages (from timm->miniai==0.0.1) (0.15.2)\n",
            "Requirement already satisfied: attrs>=17.3.0 in /usr/local/lib/python3.10/dist-packages (from aiohttp->datasets->miniai==0.0.1) (23.2.0)\n",
            "Requirement already satisfied: multidict<7.0,>=4.5 in /usr/local/lib/python3.10/dist-packages (from aiohttp->datasets->miniai==0.0.1) (6.0.4)\n",
            "Requirement already satisfied: yarl<2.0,>=1.0 in /usr/local/lib/python3.10/dist-packages (from aiohttp->datasets->miniai==0.0.1) (1.9.4)\n",
            "Requirement already satisfied: frozenlist>=1.1.1 in /usr/local/lib/python3.10/dist-packages (from aiohttp->datasets->miniai==0.0.1) (1.4.1)\n",
            "Requirement already satisfied: aiosignal>=1.1.2 in /usr/local/lib/python3.10/dist-packages (from aiohttp->datasets->miniai==0.0.1) (1.3.1)\n",
            "Requirement already satisfied: async-timeout<5.0,>=4.0 in /usr/local/lib/python3.10/dist-packages (from aiohttp->datasets->miniai==0.0.1) (4.0.3)\n",
            "Requirement already satisfied: six>=1.5 in /usr/local/lib/python3.10/dist-packages (from python-dateutil>=2.7->matplotlib->miniai==0.0.1) (1.16.0)\n",
            "Requirement already satisfied: charset-normalizer<4,>=2 in /usr/local/lib/python3.10/dist-packages (from requests>=2.19.0->datasets->miniai==0.0.1) (3.3.2)\n",
            "Requirement already satisfied: idna<4,>=2.5 in /usr/local/lib/python3.10/dist-packages (from requests>=2.19.0->datasets->miniai==0.0.1) (3.6)\n",
            "Requirement already satisfied: urllib3<3,>=1.21.1 in /usr/local/lib/python3.10/dist-packages (from requests>=2.19.0->datasets->miniai==0.0.1) (2.0.7)\n",
            "Requirement already satisfied: certifi>=2017.4.17 in /usr/local/lib/python3.10/dist-packages (from requests>=2.19.0->datasets->miniai==0.0.1) (2023.11.17)\n",
            "Requirement already satisfied: zipp>=0.5 in /usr/local/lib/python3.10/dist-packages (from importlib-metadata->diffusers->miniai==0.0.1) (3.17.0)\n",
            "Requirement already satisfied: MarkupSafe>=2.0 in /usr/local/lib/python3.10/dist-packages (from jinja2->torch<2.1,>=1.7->miniai==0.0.1) (2.1.4)\n",
            "Requirement already satisfied: pytz>=2020.1 in /usr/local/lib/python3.10/dist-packages (from pandas->datasets->miniai==0.0.1) (2023.3.post1)\n",
            "Requirement already satisfied: mpmath>=0.19 in /usr/local/lib/python3.10/dist-packages (from sympy->torch<2.1,>=1.7->miniai==0.0.1) (1.3.0)\n",
            "Installing collected packages: miniai\n",
            "  Attempting uninstall: miniai\n",
            "    Found existing installation: miniai 0.0.1\n",
            "    Uninstalling miniai-0.0.1:\n",
            "      Successfully uninstalled miniai-0.0.1\n",
            "  Running setup.py develop for miniai\n",
            "Successfully installed miniai-0.0.1\n"
          ]
        }
      ]
    },
    {
      "cell_type": "markdown",
      "source": [
        "# Convolutions"
      ],
      "metadata": {
        "id": "vt5yphkP4frD"
      }
    },
    {
      "cell_type": "code",
      "source": [
        "import pickle,gzip,math,os,time,shutil,torch,matplotlib as mpl, numpy as np\n",
        "import pandas as pd,matplotlib.pyplot as plt\n",
        "from pathlib import Path\n",
        "from torch import tensor\n",
        "\n",
        "from torch.utils.data import DataLoader\n",
        "from typing import Mapping"
      ],
      "metadata": {
        "id": "CRK-XRXr6rMv"
      },
      "execution_count": 4,
      "outputs": []
    },
    {
      "cell_type": "code",
      "source": [
        "#|export\n",
        "\n",
        "import torch\n",
        "from torch import nn\n",
        "\n",
        "from torch.utils.data import default_collate\n",
        "from typing import Mapping\n",
        "\n",
        "mpl.rcParams['image.cmap'] = 'gray'\n",
        "\n",
        "from miniai.training import *\n",
        "from miniai.datasets import *\n",
        "\n"
      ],
      "metadata": {
        "id": "vM_tsmOK4id4"
      },
      "execution_count": 5,
      "outputs": []
    },
    {
      "cell_type": "code",
      "source": [
        "MNIST_URL='https://github.com/mnielsen/neural-networks-and-deep-learning/blob/d15df08a69ed33ae16a2fff874f83b57a956172c/data/mnist.pkl.gz?raw=true'\n",
        "path_data = Path('data')\n",
        "path_data.mkdir(exist_ok=True )\n",
        "path_gz=path_data/'mnist.pkl.gz'\n",
        "path_gz"
      ],
      "metadata": {
        "colab": {
          "base_uri": "https://localhost:8080/"
        },
        "id": "kb3aFQ-P4igT",
        "outputId": "a9d7b35e-28ea-4054-edf9-9bf2a42f8aab"
      },
      "execution_count": 6,
      "outputs": [
        {
          "output_type": "execute_result",
          "data": {
            "text/plain": [
              "Path('data/mnist.pkl.gz')"
            ]
          },
          "metadata": {},
          "execution_count": 6
        }
      ]
    },
    {
      "cell_type": "code",
      "source": [
        "from urllib.request import urlretrieve\n",
        "\n",
        "if not path_gz.exists(): urlretrieve(MNIST_URL, path_gz)"
      ],
      "metadata": {
        "id": "GNFVLz0b4ii4"
      },
      "execution_count": 7,
      "outputs": []
    },
    {
      "cell_type": "code",
      "source": [
        "!ls -l data\n"
      ],
      "metadata": {
        "colab": {
          "base_uri": "https://localhost:8080/"
        },
        "id": "VkVEgFvj4ilH",
        "outputId": "fa86fb4f-c0cb-4b09-bfec-f82f663fffc9"
      },
      "execution_count": 8,
      "outputs": [
        {
          "output_type": "stream",
          "name": "stdout",
          "text": [
            "total 16656\n",
            "-rw-r--r-- 1 root root 17051982 Jan 27 19:46 mnist.pkl.gz\n"
          ]
        }
      ]
    },
    {
      "cell_type": "code",
      "source": [
        "\n",
        "with gzip.open(path_gz, 'rb') as f:   #read as binary as opposed to text\n",
        "   ((x_train,y_train), (x_valid,y_valid), _) = pickle.load(f, encoding='latin-1') #destructuring\n",
        "x_train, y_train, x_valid, y_valid = map(tensor, [x_train, y_train, x_valid, y_valid])\n",
        "\n",
        "x_train.shape, y_train.shape, x_valid.shape, y_valid.shape"
      ],
      "metadata": {
        "colab": {
          "base_uri": "https://localhost:8080/"
        },
        "id": "GLqMspxJ4inb",
        "outputId": "00c2e2e4-e2f8-4752-d0d1-c264eee9ac51"
      },
      "execution_count": 9,
      "outputs": [
        {
          "output_type": "execute_result",
          "data": {
            "text/plain": [
              "(torch.Size([50000, 784]),\n",
              " torch.Size([50000]),\n",
              " torch.Size([10000, 784]),\n",
              " torch.Size([10000]))"
            ]
          },
          "metadata": {},
          "execution_count": 9
        }
      ]
    },
    {
      "cell_type": "markdown",
      "source": [
        "In the context of an image, a feature is a visually distinctive attribute. For example, the number 7 is characterized by a horizontal edge near the top of the digit, and a top-right to bottom-left diagonal edge underneath that.\n",
        "\n",
        "It turns out that finding the edges in an image is a very common task in computer vision, and is surprisingly straightforward. To do it, we use a convolution. A convolution requires nothing more than multiplication, and addition."
      ],
      "metadata": {
        "id": "ysTdwLM285kI"
      }
    },
    {
      "cell_type": "code",
      "source": [],
      "metadata": {
        "id": "fSttlPAI4ip5"
      },
      "execution_count": 9,
      "outputs": []
    },
    {
      "cell_type": "markdown",
      "source": [
        "## Understanding the Convolution Equations\n",
        "To explain the math behind convolutions, fast.ai student Matt Kleinsmith came up with the very clever idea of showing\n",
        "https://medium.com/impactai/cnns-from-different-viewpoints-fab7f52d159c"
      ],
      "metadata": {
        "id": "9X94zjzJ8-nq"
      }
    },
    {
      "cell_type": "code",
      "source": [
        "# bias would be added per convolution(per kernel multiplication with pixels)"
      ],
      "metadata": {
        "id": "6m7OPhMR4ir5"
      },
      "execution_count": 10,
      "outputs": []
    },
    {
      "cell_type": "code",
      "source": [
        "x_imgs = x_train.view(-1, 28, 28)\n",
        "xv_imgs = x_valid.view(-1, 28, 28)\n",
        "\n",
        "x_imgs.shape, xv_imgs.shape"
      ],
      "metadata": {
        "id": "mubiasMD4i1N",
        "colab": {
          "base_uri": "https://localhost:8080/"
        },
        "outputId": "58704354-27fa-411d-9e44-69ba5cc65e4a"
      },
      "execution_count": 11,
      "outputs": [
        {
          "output_type": "execute_result",
          "data": {
            "text/plain": [
              "(torch.Size([50000, 28, 28]), torch.Size([10000, 28, 28]))"
            ]
          },
          "metadata": {},
          "execution_count": 11
        }
      ]
    },
    {
      "cell_type": "code",
      "source": [
        "mpl.rcParams['figure.dpi'] = 30"
      ],
      "metadata": {
        "id": "xVFXrtCZ4i3a"
      },
      "execution_count": 12,
      "outputs": []
    },
    {
      "cell_type": "code",
      "source": [
        "im3 = x_imgs[7]\n",
        "show_image(im3)"
      ],
      "metadata": {
        "id": "s6XZqY344i5l",
        "colab": {
          "base_uri": "https://localhost:8080/",
          "height": 150
        },
        "outputId": "27acee08-43ad-4884-c5be-bf3a19ab864f"
      },
      "execution_count": 15,
      "outputs": [
        {
          "output_type": "execute_result",
          "data": {
            "text/plain": [
              "<Axes: >"
            ]
          },
          "metadata": {},
          "execution_count": 15
        },
        {
          "output_type": "display_data",
          "data": {
            "text/plain": [
              "<Figure size 192x144 with 1 Axes>"
            ],
            "image/png": "[encoded data removed]"
          },
          "metadata": {}
        }
      ]
    },
    {
      "cell_type": "code",
      "source": [
        "# lets create a kernel\n",
        "\n",
        "top_edge = tensor([\n",
        "    [-1,-1,-1],\n",
        "    [0,0,0],\n",
        "    [1,1,1]\n",
        "]).float()\n",
        "\n",
        "show_image(top_edge)"
      ],
      "metadata": {
        "id": "rKJvjMHS4i78",
        "colab": {
          "base_uri": "https://localhost:8080/",
          "height": 150
        },
        "outputId": "c8d80c6a-0b95-474c-c3c6-52a2149ff397"
      },
      "execution_count": 16,
      "outputs": [
        {
          "output_type": "execute_result",
          "data": {
            "text/plain": [
              "<Axes: >"
            ]
          },
          "metadata": {},
          "execution_count": 16
        },
        {
          "output_type": "display_data",
          "data": {
            "text/plain": [
              "<Figure size 192x144 with 1 Axes>"
            ],
            "image/png": "[encoded data removed]"
          },
          "metadata": {}
        }
      ]
    },
    {
      "cell_type": "markdown",
      "source": [
        "The filter will take any window of size 3*3 in our image, and if we name the pixel values like\n",
        "*   a1 | a2 | a3\n",
        "*   a4 | a5 | a6\n",
        "*   a7 | a8 | a9\n",
        "\n",
        "\n",
        "then output will be\n",
        "\n",
        "* -a1 -a2 -a3 +0.a4 +0.a5 + 0.a6 + a7 + a8 + a9"
      ],
      "metadata": {
        "id": "5THYBiQn29ju"
      }
    },
    {
      "cell_type": "code",
      "source": [
        "im3.shape"
      ],
      "metadata": {
        "id": "EFvLDlnGdism",
        "outputId": "23f2d14b-47cc-422e-ceb0-08f28be07827",
        "colab": {
          "base_uri": "https://localhost:8080/"
        }
      },
      "execution_count": 18,
      "outputs": [
        {
          "output_type": "execute_result",
          "data": {
            "text/plain": [
              "torch.Size([28, 28])"
            ]
          },
          "metadata": {},
          "execution_count": 18
        }
      ]
    },
    {
      "cell_type": "code",
      "source": [
        "df = pd.DataFrame(im3[:13,:23])\n",
        "df.style.format(precision=2).set_properties(**{'font-size':'7pt'}).background_gradient('Greys')\n"
      ],
      "metadata": {
        "id": "adon8rVq4i-N",
        "outputId": "26aac6e6-ea53-4396-ad9f-5faa331c9105",
        "colab": {
          "base_uri": "https://localhost:8080/",
          "height": 477
        }
      },
      "execution_count": 22,
      "outputs": [
        {
          "output_type": "execute_result",
          "data": {
            "text/plain": [
              "<pandas.io.formats.style.Styler at 0x7e04e36c2170>"
            ],
            "text/html": [
              "<style type=\"text/css\">\n",
              "#T_8544a_row0_col0, #T_8544a_row0_col1, #T_8544a_row0_col2, #T_8544a_row0_col3, #T_8544a_row0_col4, #T_8544a_row0_col5, #T_8544a_row0_col6, #T_8544a_row0_col7, #T_8544a_row0_col8, #T_8544a_row0_col9, #T_8544a_row0_col10, #T_8544a_row0_col11, #T_8544a_row0_col12, #T_8544a_row0_col13, #T_8544a_row0_col14, #T_8544a_row0_col15, #T_8544a_row0_col16, #T_8544a_row0_col17, #T_8544a_row0_col18, #T_8544a_row0_col19, #T_8544a_row0_col20, #T_8544a_row0_col21, #T_8544a_row0_col22, #T_8544a_row1_col0, #T_8544a_row1_col1, #T_8544a_row1_col2, #T_8544a_row1_col3, #T_8544a_row1_col4, #T_8544a_row1_col5, #T_8544a_row1_col6, #T_8544a_row1_col7, #T_8544a_row1_col8, #T_8544a_row1_col9, #T_8544a_row1_col10, #T_8544a_row1_col11, #T_8544a_row1_col12, #T_8544a_row1_col13, #T_8544a_row1_col14, #T_8544a_row1_col15, #T_8544a_row1_col16, #T_8544a_row1_col17, #T_8544a_row1_col18, #T_8544a_row1_col19, #T_8544a_row1_col20, #T_8544a_row1_col21, #T_8544a_row1_col22, #T_8544a_row2_col0, #T_8544a_row2_col1, #T_8544a_row2_col2, #T_8544a_row2_col3, #T_8544a_row2_col4, #T_8544a_row2_col5, #T_8544a_row2_col6, #T_8544a_row2_col7, #T_8544a_row2_col8, #T_8544a_row2_col9, #T_8544a_row2_col10, #T_8544a_row2_col11, #T_8544a_row2_col12, #T_8544a_row2_col13, #T_8544a_row2_col14, #T_8544a_row2_col15, #T_8544a_row2_col16, #T_8544a_row2_col17, #T_8544a_row2_col18, #T_8544a_row2_col19, #T_8544a_row2_col20, #T_8544a_row2_col21, #T_8544a_row2_col22, #T_8544a_row3_col0, #T_8544a_row3_col1, #T_8544a_row3_col2, #T_8544a_row3_col3, #T_8544a_row3_col4, #T_8544a_row3_col5, #T_8544a_row3_col6, #T_8544a_row3_col7, #T_8544a_row3_col8, #T_8544a_row3_col9, #T_8544a_row3_col10, #T_8544a_row3_col11, #T_8544a_row3_col12, #T_8544a_row3_col13, #T_8544a_row3_col14, #T_8544a_row3_col15, #T_8544a_row3_col16, #T_8544a_row3_col17, #T_8544a_row3_col18, #T_8544a_row3_col19, #T_8544a_row3_col20, #T_8544a_row3_col21, #T_8544a_row3_col22, #T_8544a_row4_col0, #T_8544a_row4_col1, #T_8544a_row4_col2, #T_8544a_row4_col3, #T_8544a_row4_col4, #T_8544a_row4_col5, #T_8544a_row4_col6, #T_8544a_row4_col7, #T_8544a_row4_col8, #T_8544a_row4_col9, #T_8544a_row4_col10, #T_8544a_row4_col11, #T_8544a_row4_col12, #T_8544a_row4_col13, #T_8544a_row4_col14, #T_8544a_row4_col15, #T_8544a_row4_col16, #T_8544a_row4_col17, #T_8544a_row4_col18, #T_8544a_row4_col19, #T_8544a_row4_col20, #T_8544a_row4_col21, #T_8544a_row4_col22, #T_8544a_row5_col0, #T_8544a_row5_col1, #T_8544a_row5_col2, #T_8544a_row5_col3, #T_8544a_row5_col4, #T_8544a_row5_col5, #T_8544a_row5_col6, #T_8544a_row5_col7, #T_8544a_row5_col8, #T_8544a_row5_col9, #T_8544a_row5_col10, #T_8544a_row5_col22, #T_8544a_row6_col0, #T_8544a_row6_col1, #T_8544a_row6_col2, #T_8544a_row6_col3, #T_8544a_row6_col4, #T_8544a_row6_col5, #T_8544a_row6_col6, #T_8544a_row6_col7, #T_8544a_row6_col8, #T_8544a_row7_col0, #T_8544a_row7_col1, #T_8544a_row7_col2, #T_8544a_row7_col3, #T_8544a_row7_col4, #T_8544a_row7_col5, #T_8544a_row7_col6, #T_8544a_row7_col7, #T_8544a_row7_col8, #T_8544a_row8_col0, #T_8544a_row8_col1, #T_8544a_row8_col2, #T_8544a_row8_col3, #T_8544a_row8_col4, #T_8544a_row8_col5, #T_8544a_row8_col6, #T_8544a_row8_col7, #T_8544a_row8_col8, #T_8544a_row9_col0, #T_8544a_row9_col1, #T_8544a_row9_col2, #T_8544a_row9_col3, #T_8544a_row9_col4, #T_8544a_row9_col5, #T_8544a_row9_col6, #T_8544a_row9_col7, #T_8544a_row9_col8, #T_8544a_row9_col13, #T_8544a_row9_col14, #T_8544a_row9_col15, #T_8544a_row9_col16, #T_8544a_row10_col0, #T_8544a_row10_col1, #T_8544a_row10_col2, #T_8544a_row10_col3, #T_8544a_row10_col4, #T_8544a_row10_col5, #T_8544a_row10_col6, #T_8544a_row10_col7, #T_8544a_row10_col8, #T_8544a_row10_col9, #T_8544a_row10_col10, #T_8544a_row10_col11, #T_8544a_row10_col12, #T_8544a_row10_col13, #T_8544a_row10_col14, #T_8544a_row10_col15, #T_8544a_row10_col16, #T_8544a_row10_col22, #T_8544a_row11_col0, #T_8544a_row11_col1, #T_8544a_row11_col2, #T_8544a_row11_col3, #T_8544a_row11_col4, #T_8544a_row11_col5, #T_8544a_row11_col6, #T_8544a_row11_col7, #T_8544a_row11_col8, #T_8544a_row11_col9, #T_8544a_row11_col10, #T_8544a_row11_col11, #T_8544a_row11_col12, #T_8544a_row11_col13, #T_8544a_row11_col14, #T_8544a_row11_col15, #T_8544a_row11_col22, #T_8544a_row12_col0, #T_8544a_row12_col1, #T_8544a_row12_col2, #T_8544a_row12_col3, #T_8544a_row12_col4, #T_8544a_row12_col5, #T_8544a_row12_col6, #T_8544a_row12_col7, #T_8544a_row12_col8, #T_8544a_row12_col9, #T_8544a_row12_col10, #T_8544a_row12_col11, #T_8544a_row12_col12, #T_8544a_row12_col13, #T_8544a_row12_col22 {\n",
              "  font-size: 7pt;\n",
              "  background-color: #ffffff;\n",
              "  color: #000000;\n",
              "}\n",
              "#T_8544a_row5_col11 {\n",
              "  font-size: 7pt;\n",
              "  background-color: #ececec;\n",
              "  color: #000000;\n",
              "}\n",
              "#T_8544a_row5_col12 {\n",
              "  font-size: 7pt;\n",
              "  background-color: #e8e8e8;\n",
              "  color: #000000;\n",
              "}\n",
              "#T_8544a_row5_col13 {\n",
              "  font-size: 7pt;\n",
              "  background-color: #b0b0b0;\n",
              "  color: #000000;\n",
              "}\n",
              "#T_8544a_row5_col14, #T_8544a_row5_col15, #T_8544a_row5_col16, #T_8544a_row5_col17, #T_8544a_row5_col18, #T_8544a_row5_col19, #T_8544a_row6_col13, #T_8544a_row6_col20, #T_8544a_row7_col9, #T_8544a_row7_col10, #T_8544a_row7_col11, #T_8544a_row7_col12, #T_8544a_row7_col13, #T_8544a_row7_col20, #T_8544a_row7_col21, #T_8544a_row7_col22, #T_8544a_row8_col10, #T_8544a_row8_col11, #T_8544a_row8_col20, #T_8544a_row8_col21, #T_8544a_row8_col22, #T_8544a_row9_col20, #T_8544a_row10_col20, #T_8544a_row11_col20 {\n",
              "  font-size: 7pt;\n",
              "  background-color: #000000;\n",
              "  color: #f1f1f1;\n",
              "}\n",
              "#T_8544a_row5_col20 {\n",
              "  font-size: 7pt;\n",
              "  background-color: #626262;\n",
              "  color: #f1f1f1;\n",
              "}\n",
              "#T_8544a_row5_col21 {\n",
              "  font-size: 7pt;\n",
              "  background-color: #fcfcfc;\n",
              "  color: #000000;\n",
              "}\n",
              "#T_8544a_row6_col9 {\n",
              "  font-size: 7pt;\n",
              "  background-color: #dbdbdb;\n",
              "  color: #000000;\n",
              "}\n",
              "#T_8544a_row6_col10 {\n",
              "  font-size: 7pt;\n",
              "  background-color: #878787;\n",
              "  color: #f1f1f1;\n",
              "}\n",
              "#T_8544a_row6_col11 {\n",
              "  font-size: 7pt;\n",
              "  background-color: #212121;\n",
              "  color: #f1f1f1;\n",
              "}\n",
              "#T_8544a_row6_col12 {\n",
              "  font-size: 7pt;\n",
              "  background-color: #1e1e1e;\n",
              "  color: #f1f1f1;\n",
              "}\n",
              "#T_8544a_row6_col14, #T_8544a_row7_col14 {\n",
              "  font-size: 7pt;\n",
              "  background-color: #020202;\n",
              "  color: #f1f1f1;\n",
              "}\n",
              "#T_8544a_row6_col15, #T_8544a_row6_col16, #T_8544a_row6_col17, #T_8544a_row6_col18, #T_8544a_row6_col19, #T_8544a_row7_col15, #T_8544a_row7_col16, #T_8544a_row7_col17, #T_8544a_row7_col18, #T_8544a_row7_col19, #T_8544a_row8_col18, #T_8544a_row8_col19, #T_8544a_row9_col19, #T_8544a_row10_col19, #T_8544a_row11_col18, #T_8544a_row11_col19, #T_8544a_row12_col17, #T_8544a_row12_col18, #T_8544a_row12_col19 {\n",
              "  font-size: 7pt;\n",
              "  background-color: #010101;\n",
              "  color: #f1f1f1;\n",
              "}\n",
              "#T_8544a_row6_col21 {\n",
              "  font-size: 7pt;\n",
              "  background-color: #727272;\n",
              "  color: #f1f1f1;\n",
              "}\n",
              "#T_8544a_row6_col22 {\n",
              "  font-size: 7pt;\n",
              "  background-color: #dcdcdc;\n",
              "  color: #000000;\n",
              "}\n",
              "#T_8544a_row8_col9 {\n",
              "  font-size: 7pt;\n",
              "  background-color: #777777;\n",
              "  color: #f1f1f1;\n",
              "}\n",
              "#T_8544a_row8_col12 {\n",
              "  font-size: 7pt;\n",
              "  background-color: #1a1a1a;\n",
              "  color: #f1f1f1;\n",
              "}\n",
              "#T_8544a_row8_col13 {\n",
              "  font-size: 7pt;\n",
              "  background-color: #8f8f8f;\n",
              "  color: #f1f1f1;\n",
              "}\n",
              "#T_8544a_row8_col14, #T_8544a_row8_col15, #T_8544a_row8_col16 {\n",
              "  font-size: 7pt;\n",
              "  background-color: #909090;\n",
              "  color: #f1f1f1;\n",
              "}\n",
              "#T_8544a_row8_col17, #T_8544a_row11_col17 {\n",
              "  font-size: 7pt;\n",
              "  background-color: #525252;\n",
              "  color: #f1f1f1;\n",
              "}\n",
              "#T_8544a_row9_col9 {\n",
              "  font-size: 7pt;\n",
              "  background-color: #fdfdfd;\n",
              "  color: #000000;\n",
              "}\n",
              "#T_8544a_row9_col10, #T_8544a_row9_col11, #T_8544a_row9_col22 {\n",
              "  font-size: 7pt;\n",
              "  background-color: #f1f1f1;\n",
              "  color: #000000;\n",
              "}\n",
              "#T_8544a_row9_col12 {\n",
              "  font-size: 7pt;\n",
              "  background-color: #f4f4f4;\n",
              "  color: #000000;\n",
              "}\n",
              "#T_8544a_row9_col17, #T_8544a_row11_col21 {\n",
              "  font-size: 7pt;\n",
              "  background-color: #f8f8f8;\n",
              "  color: #000000;\n",
              "}\n",
              "#T_8544a_row9_col18 {\n",
              "  font-size: 7pt;\n",
              "  background-color: #1f1f1f;\n",
              "  color: #f1f1f1;\n",
              "}\n",
              "#T_8544a_row9_col21 {\n",
              "  font-size: 7pt;\n",
              "  background-color: #646464;\n",
              "  color: #f1f1f1;\n",
              "}\n",
              "#T_8544a_row10_col17 {\n",
              "  font-size: 7pt;\n",
              "  background-color: #c5c5c5;\n",
              "  color: #000000;\n",
              "}\n",
              "#T_8544a_row10_col18 {\n",
              "  font-size: 7pt;\n",
              "  background-color: #0c0c0c;\n",
              "  color: #f1f1f1;\n",
              "}\n",
              "#T_8544a_row10_col21 {\n",
              "  font-size: 7pt;\n",
              "  background-color: #828282;\n",
              "  color: #f1f1f1;\n",
              "}\n",
              "#T_8544a_row11_col16 {\n",
              "  font-size: 7pt;\n",
              "  background-color: #c3c3c3;\n",
              "  color: #000000;\n",
              "}\n",
              "#T_8544a_row12_col14 {\n",
              "  font-size: 7pt;\n",
              "  background-color: #c1c1c1;\n",
              "  color: #000000;\n",
              "}\n",
              "#T_8544a_row12_col15 {\n",
              "  font-size: 7pt;\n",
              "  background-color: #323232;\n",
              "  color: #f1f1f1;\n",
              "}\n",
              "#T_8544a_row12_col16 {\n",
              "  font-size: 7pt;\n",
              "  background-color: #070707;\n",
              "  color: #f1f1f1;\n",
              "}\n",
              "#T_8544a_row12_col20 {\n",
              "  font-size: 7pt;\n",
              "  background-color: #3c3c3c;\n",
              "  color: #f1f1f1;\n",
              "}\n",
              "#T_8544a_row12_col21 {\n",
              "  font-size: 7pt;\n",
              "  background-color: #fbfbfb;\n",
              "  color: #000000;\n",
              "}\n",
              "</style>\n",
              "<table id=\"T_8544a\" class=\"dataframe\">\n",
              "  <thead>\n",
              "    <tr>\n",
              "      <th class=\"blank level0\" >&nbsp;</th>\n",
              "      <th id=\"T_8544a_level0_col0\" class=\"col_heading level0 col0\" >0</th>\n",
              "      <th id=\"T_8544a_level0_col1\" class=\"col_heading level0 col1\" >1</th>\n",
              "      <th id=\"T_8544a_level0_col2\" class=\"col_heading level0 col2\" >2</th>\n",
              "      <th id=\"T_8544a_level0_col3\" class=\"col_heading level0 col3\" >3</th>\n",
              "      <th id=\"T_8544a_level0_col4\" class=\"col_heading level0 col4\" >4</th>\n",
              "      <th id=\"T_8544a_level0_col5\" class=\"col_heading level0 col5\" >5</th>\n",
              "      <th id=\"T_8544a_level0_col6\" class=\"col_heading level0 col6\" >6</th>\n",
              "      <th id=\"T_8544a_level0_col7\" class=\"col_heading level0 col7\" >7</th>\n",
              "      <th id=\"T_8544a_level0_col8\" class=\"col_heading level0 col8\" >8</th>\n",
              "      <th id=\"T_8544a_level0_col9\" class=\"col_heading level0 col9\" >9</th>\n",
              "      <th id=\"T_8544a_level0_col10\" class=\"col_heading level0 col10\" >10</th>\n",
              "      <th id=\"T_8544a_level0_col11\" class=\"col_heading level0 col11\" >11</th>\n",
              "      <th id=\"T_8544a_level0_col12\" class=\"col_heading level0 col12\" >12</th>\n",
              "      <th id=\"T_8544a_level0_col13\" class=\"col_heading level0 col13\" >13</th>\n",
              "      <th id=\"T_8544a_level0_col14\" class=\"col_heading level0 col14\" >14</th>\n",
              "      <th id=\"T_8544a_level0_col15\" class=\"col_heading level0 col15\" >15</th>\n",
              "      <th id=\"T_8544a_level0_col16\" class=\"col_heading level0 col16\" >16</th>\n",
              "      <th id=\"T_8544a_level0_col17\" class=\"col_heading level0 col17\" >17</th>\n",
              "      <th id=\"T_8544a_level0_col18\" class=\"col_heading level0 col18\" >18</th>\n",
              "      <th id=\"T_8544a_level0_col19\" class=\"col_heading level0 col19\" >19</th>\n",
              "      <th id=\"T_8544a_level0_col20\" class=\"col_heading level0 col20\" >20</th>\n",
              "      <th id=\"T_8544a_level0_col21\" class=\"col_heading level0 col21\" >21</th>\n",
              "      <th id=\"T_8544a_level0_col22\" class=\"col_heading level0 col22\" >22</th>\n",
              "    </tr>\n",
              "  </thead>\n",
              "  <tbody>\n",
              "    <tr>\n",
              "      <th id=\"T_8544a_level0_row0\" class=\"row_heading level0 row0\" >0</th>\n",
              "      <td id=\"T_8544a_row0_col0\" class=\"data row0 col0\" >0.00</td>\n",
              "      <td id=\"T_8544a_row0_col1\" class=\"data row0 col1\" >0.00</td>\n",
              "      <td id=\"T_8544a_row0_col2\" class=\"data row0 col2\" >0.00</td>\n",
              "      <td id=\"T_8544a_row0_col3\" class=\"data row0 col3\" >0.00</td>\n",
              "      <td id=\"T_8544a_row0_col4\" class=\"data row0 col4\" >0.00</td>\n",
              "      <td id=\"T_8544a_row0_col5\" class=\"data row0 col5\" >0.00</td>\n",
              "      <td id=\"T_8544a_row0_col6\" class=\"data row0 col6\" >0.00</td>\n",
              "      <td id=\"T_8544a_row0_col7\" class=\"data row0 col7\" >0.00</td>\n",
              "      <td id=\"T_8544a_row0_col8\" class=\"data row0 col8\" >0.00</td>\n",
              "      <td id=\"T_8544a_row0_col9\" class=\"data row0 col9\" >0.00</td>\n",
              "      <td id=\"T_8544a_row0_col10\" class=\"data row0 col10\" >0.00</td>\n",
              "      <td id=\"T_8544a_row0_col11\" class=\"data row0 col11\" >0.00</td>\n",
              "      <td id=\"T_8544a_row0_col12\" class=\"data row0 col12\" >0.00</td>\n",
              "      <td id=\"T_8544a_row0_col13\" class=\"data row0 col13\" >0.00</td>\n",
              "      <td id=\"T_8544a_row0_col14\" class=\"data row0 col14\" >0.00</td>\n",
              "      <td id=\"T_8544a_row0_col15\" class=\"data row0 col15\" >0.00</td>\n",
              "      <td id=\"T_8544a_row0_col16\" class=\"data row0 col16\" >0.00</td>\n",
              "      <td id=\"T_8544a_row0_col17\" class=\"data row0 col17\" >0.00</td>\n",
              "      <td id=\"T_8544a_row0_col18\" class=\"data row0 col18\" >0.00</td>\n",
              "      <td id=\"T_8544a_row0_col19\" class=\"data row0 col19\" >0.00</td>\n",
              "      <td id=\"T_8544a_row0_col20\" class=\"data row0 col20\" >0.00</td>\n",
              "      <td id=\"T_8544a_row0_col21\" class=\"data row0 col21\" >0.00</td>\n",
              "      <td id=\"T_8544a_row0_col22\" class=\"data row0 col22\" >0.00</td>\n",
              "    </tr>\n",
              "    <tr>\n",
              "      <th id=\"T_8544a_level0_row1\" class=\"row_heading level0 row1\" >1</th>\n",
              "      <td id=\"T_8544a_row1_col0\" class=\"data row1 col0\" >0.00</td>\n",
              "      <td id=\"T_8544a_row1_col1\" class=\"data row1 col1\" >0.00</td>\n",
              "      <td id=\"T_8544a_row1_col2\" class=\"data row1 col2\" >0.00</td>\n",
              "      <td id=\"T_8544a_row1_col3\" class=\"data row1 col3\" >0.00</td>\n",
              "      <td id=\"T_8544a_row1_col4\" class=\"data row1 col4\" >0.00</td>\n",
              "      <td id=\"T_8544a_row1_col5\" class=\"data row1 col5\" >0.00</td>\n",
              "      <td id=\"T_8544a_row1_col6\" class=\"data row1 col6\" >0.00</td>\n",
              "      <td id=\"T_8544a_row1_col7\" class=\"data row1 col7\" >0.00</td>\n",
              "      <td id=\"T_8544a_row1_col8\" class=\"data row1 col8\" >0.00</td>\n",
              "      <td id=\"T_8544a_row1_col9\" class=\"data row1 col9\" >0.00</td>\n",
              "      <td id=\"T_8544a_row1_col10\" class=\"data row1 col10\" >0.00</td>\n",
              "      <td id=\"T_8544a_row1_col11\" class=\"data row1 col11\" >0.00</td>\n",
              "      <td id=\"T_8544a_row1_col12\" class=\"data row1 col12\" >0.00</td>\n",
              "      <td id=\"T_8544a_row1_col13\" class=\"data row1 col13\" >0.00</td>\n",
              "      <td id=\"T_8544a_row1_col14\" class=\"data row1 col14\" >0.00</td>\n",
              "      <td id=\"T_8544a_row1_col15\" class=\"data row1 col15\" >0.00</td>\n",
              "      <td id=\"T_8544a_row1_col16\" class=\"data row1 col16\" >0.00</td>\n",
              "      <td id=\"T_8544a_row1_col17\" class=\"data row1 col17\" >0.00</td>\n",
              "      <td id=\"T_8544a_row1_col18\" class=\"data row1 col18\" >0.00</td>\n",
              "      <td id=\"T_8544a_row1_col19\" class=\"data row1 col19\" >0.00</td>\n",
              "      <td id=\"T_8544a_row1_col20\" class=\"data row1 col20\" >0.00</td>\n",
              "      <td id=\"T_8544a_row1_col21\" class=\"data row1 col21\" >0.00</td>\n",
              "      <td id=\"T_8544a_row1_col22\" class=\"data row1 col22\" >0.00</td>\n",
              "    </tr>\n",
              "    <tr>\n",
              "      <th id=\"T_8544a_level0_row2\" class=\"row_heading level0 row2\" >2</th>\n",
              "      <td id=\"T_8544a_row2_col0\" class=\"data row2 col0\" >0.00</td>\n",
              "      <td id=\"T_8544a_row2_col1\" class=\"data row2 col1\" >0.00</td>\n",
              "      <td id=\"T_8544a_row2_col2\" class=\"data row2 col2\" >0.00</td>\n",
              "      <td id=\"T_8544a_row2_col3\" class=\"data row2 col3\" >0.00</td>\n",
              "      <td id=\"T_8544a_row2_col4\" class=\"data row2 col4\" >0.00</td>\n",
              "      <td id=\"T_8544a_row2_col5\" class=\"data row2 col5\" >0.00</td>\n",
              "      <td id=\"T_8544a_row2_col6\" class=\"data row2 col6\" >0.00</td>\n",
              "      <td id=\"T_8544a_row2_col7\" class=\"data row2 col7\" >0.00</td>\n",
              "      <td id=\"T_8544a_row2_col8\" class=\"data row2 col8\" >0.00</td>\n",
              "      <td id=\"T_8544a_row2_col9\" class=\"data row2 col9\" >0.00</td>\n",
              "      <td id=\"T_8544a_row2_col10\" class=\"data row2 col10\" >0.00</td>\n",
              "      <td id=\"T_8544a_row2_col11\" class=\"data row2 col11\" >0.00</td>\n",
              "      <td id=\"T_8544a_row2_col12\" class=\"data row2 col12\" >0.00</td>\n",
              "      <td id=\"T_8544a_row2_col13\" class=\"data row2 col13\" >0.00</td>\n",
              "      <td id=\"T_8544a_row2_col14\" class=\"data row2 col14\" >0.00</td>\n",
              "      <td id=\"T_8544a_row2_col15\" class=\"data row2 col15\" >0.00</td>\n",
              "      <td id=\"T_8544a_row2_col16\" class=\"data row2 col16\" >0.00</td>\n",
              "      <td id=\"T_8544a_row2_col17\" class=\"data row2 col17\" >0.00</td>\n",
              "      <td id=\"T_8544a_row2_col18\" class=\"data row2 col18\" >0.00</td>\n",
              "      <td id=\"T_8544a_row2_col19\" class=\"data row2 col19\" >0.00</td>\n",
              "      <td id=\"T_8544a_row2_col20\" class=\"data row2 col20\" >0.00</td>\n",
              "      <td id=\"T_8544a_row2_col21\" class=\"data row2 col21\" >0.00</td>\n",
              "      <td id=\"T_8544a_row2_col22\" class=\"data row2 col22\" >0.00</td>\n",
              "    </tr>\n",
              "    <tr>\n",
              "      <th id=\"T_8544a_level0_row3\" class=\"row_heading level0 row3\" >3</th>\n",
              "      <td id=\"T_8544a_row3_col0\" class=\"data row3 col0\" >0.00</td>\n",
              "      <td id=\"T_8544a_row3_col1\" class=\"data row3 col1\" >0.00</td>\n",
              "      <td id=\"T_8544a_row3_col2\" class=\"data row3 col2\" >0.00</td>\n",
              "      <td id=\"T_8544a_row3_col3\" class=\"data row3 col3\" >0.00</td>\n",
              "      <td id=\"T_8544a_row3_col4\" class=\"data row3 col4\" >0.00</td>\n",
              "      <td id=\"T_8544a_row3_col5\" class=\"data row3 col5\" >0.00</td>\n",
              "      <td id=\"T_8544a_row3_col6\" class=\"data row3 col6\" >0.00</td>\n",
              "      <td id=\"T_8544a_row3_col7\" class=\"data row3 col7\" >0.00</td>\n",
              "      <td id=\"T_8544a_row3_col8\" class=\"data row3 col8\" >0.00</td>\n",
              "      <td id=\"T_8544a_row3_col9\" class=\"data row3 col9\" >0.00</td>\n",
              "      <td id=\"T_8544a_row3_col10\" class=\"data row3 col10\" >0.00</td>\n",
              "      <td id=\"T_8544a_row3_col11\" class=\"data row3 col11\" >0.00</td>\n",
              "      <td id=\"T_8544a_row3_col12\" class=\"data row3 col12\" >0.00</td>\n",
              "      <td id=\"T_8544a_row3_col13\" class=\"data row3 col13\" >0.00</td>\n",
              "      <td id=\"T_8544a_row3_col14\" class=\"data row3 col14\" >0.00</td>\n",
              "      <td id=\"T_8544a_row3_col15\" class=\"data row3 col15\" >0.00</td>\n",
              "      <td id=\"T_8544a_row3_col16\" class=\"data row3 col16\" >0.00</td>\n",
              "      <td id=\"T_8544a_row3_col17\" class=\"data row3 col17\" >0.00</td>\n",
              "      <td id=\"T_8544a_row3_col18\" class=\"data row3 col18\" >0.00</td>\n",
              "      <td id=\"T_8544a_row3_col19\" class=\"data row3 col19\" >0.00</td>\n",
              "      <td id=\"T_8544a_row3_col20\" class=\"data row3 col20\" >0.00</td>\n",
              "      <td id=\"T_8544a_row3_col21\" class=\"data row3 col21\" >0.00</td>\n",
              "      <td id=\"T_8544a_row3_col22\" class=\"data row3 col22\" >0.00</td>\n",
              "    </tr>\n",
              "    <tr>\n",
              "      <th id=\"T_8544a_level0_row4\" class=\"row_heading level0 row4\" >4</th>\n",
              "      <td id=\"T_8544a_row4_col0\" class=\"data row4 col0\" >0.00</td>\n",
              "      <td id=\"T_8544a_row4_col1\" class=\"data row4 col1\" >0.00</td>\n",
              "      <td id=\"T_8544a_row4_col2\" class=\"data row4 col2\" >0.00</td>\n",
              "      <td id=\"T_8544a_row4_col3\" class=\"data row4 col3\" >0.00</td>\n",
              "      <td id=\"T_8544a_row4_col4\" class=\"data row4 col4\" >0.00</td>\n",
              "      <td id=\"T_8544a_row4_col5\" class=\"data row4 col5\" >0.00</td>\n",
              "      <td id=\"T_8544a_row4_col6\" class=\"data row4 col6\" >0.00</td>\n",
              "      <td id=\"T_8544a_row4_col7\" class=\"data row4 col7\" >0.00</td>\n",
              "      <td id=\"T_8544a_row4_col8\" class=\"data row4 col8\" >0.00</td>\n",
              "      <td id=\"T_8544a_row4_col9\" class=\"data row4 col9\" >0.00</td>\n",
              "      <td id=\"T_8544a_row4_col10\" class=\"data row4 col10\" >0.00</td>\n",
              "      <td id=\"T_8544a_row4_col11\" class=\"data row4 col11\" >0.00</td>\n",
              "      <td id=\"T_8544a_row4_col12\" class=\"data row4 col12\" >0.00</td>\n",
              "      <td id=\"T_8544a_row4_col13\" class=\"data row4 col13\" >0.00</td>\n",
              "      <td id=\"T_8544a_row4_col14\" class=\"data row4 col14\" >0.00</td>\n",
              "      <td id=\"T_8544a_row4_col15\" class=\"data row4 col15\" >0.00</td>\n",
              "      <td id=\"T_8544a_row4_col16\" class=\"data row4 col16\" >0.00</td>\n",
              "      <td id=\"T_8544a_row4_col17\" class=\"data row4 col17\" >0.00</td>\n",
              "      <td id=\"T_8544a_row4_col18\" class=\"data row4 col18\" >0.00</td>\n",
              "      <td id=\"T_8544a_row4_col19\" class=\"data row4 col19\" >0.00</td>\n",
              "      <td id=\"T_8544a_row4_col20\" class=\"data row4 col20\" >0.00</td>\n",
              "      <td id=\"T_8544a_row4_col21\" class=\"data row4 col21\" >0.00</td>\n",
              "      <td id=\"T_8544a_row4_col22\" class=\"data row4 col22\" >0.00</td>\n",
              "    </tr>\n",
              "    <tr>\n",
              "      <th id=\"T_8544a_level0_row5\" class=\"row_heading level0 row5\" >5</th>\n",
              "      <td id=\"T_8544a_row5_col0\" class=\"data row5 col0\" >0.00</td>\n",
              "      <td id=\"T_8544a_row5_col1\" class=\"data row5 col1\" >0.00</td>\n",
              "      <td id=\"T_8544a_row5_col2\" class=\"data row5 col2\" >0.00</td>\n",
              "      <td id=\"T_8544a_row5_col3\" class=\"data row5 col3\" >0.00</td>\n",
              "      <td id=\"T_8544a_row5_col4\" class=\"data row5 col4\" >0.00</td>\n",
              "      <td id=\"T_8544a_row5_col5\" class=\"data row5 col5\" >0.00</td>\n",
              "      <td id=\"T_8544a_row5_col6\" class=\"data row5 col6\" >0.00</td>\n",
              "      <td id=\"T_8544a_row5_col7\" class=\"data row5 col7\" >0.00</td>\n",
              "      <td id=\"T_8544a_row5_col8\" class=\"data row5 col8\" >0.00</td>\n",
              "      <td id=\"T_8544a_row5_col9\" class=\"data row5 col9\" >0.00</td>\n",
              "      <td id=\"T_8544a_row5_col10\" class=\"data row5 col10\" >0.00</td>\n",
              "      <td id=\"T_8544a_row5_col11\" class=\"data row5 col11\" >0.15</td>\n",
              "      <td id=\"T_8544a_row5_col12\" class=\"data row5 col12\" >0.17</td>\n",
              "      <td id=\"T_8544a_row5_col13\" class=\"data row5 col13\" >0.41</td>\n",
              "      <td id=\"T_8544a_row5_col14\" class=\"data row5 col14\" >1.00</td>\n",
              "      <td id=\"T_8544a_row5_col15\" class=\"data row5 col15\" >0.99</td>\n",
              "      <td id=\"T_8544a_row5_col16\" class=\"data row5 col16\" >0.99</td>\n",
              "      <td id=\"T_8544a_row5_col17\" class=\"data row5 col17\" >0.99</td>\n",
              "      <td id=\"T_8544a_row5_col18\" class=\"data row5 col18\" >0.99</td>\n",
              "      <td id=\"T_8544a_row5_col19\" class=\"data row5 col19\" >0.99</td>\n",
              "      <td id=\"T_8544a_row5_col20\" class=\"data row5 col20\" >0.68</td>\n",
              "      <td id=\"T_8544a_row5_col21\" class=\"data row5 col21\" >0.02</td>\n",
              "      <td id=\"T_8544a_row5_col22\" class=\"data row5 col22\" >0.00</td>\n",
              "    </tr>\n",
              "    <tr>\n",
              "      <th id=\"T_8544a_level0_row6\" class=\"row_heading level0 row6\" >6</th>\n",
              "      <td id=\"T_8544a_row6_col0\" class=\"data row6 col0\" >0.00</td>\n",
              "      <td id=\"T_8544a_row6_col1\" class=\"data row6 col1\" >0.00</td>\n",
              "      <td id=\"T_8544a_row6_col2\" class=\"data row6 col2\" >0.00</td>\n",
              "      <td id=\"T_8544a_row6_col3\" class=\"data row6 col3\" >0.00</td>\n",
              "      <td id=\"T_8544a_row6_col4\" class=\"data row6 col4\" >0.00</td>\n",
              "      <td id=\"T_8544a_row6_col5\" class=\"data row6 col5\" >0.00</td>\n",
              "      <td id=\"T_8544a_row6_col6\" class=\"data row6 col6\" >0.00</td>\n",
              "      <td id=\"T_8544a_row6_col7\" class=\"data row6 col7\" >0.00</td>\n",
              "      <td id=\"T_8544a_row6_col8\" class=\"data row6 col8\" >0.00</td>\n",
              "      <td id=\"T_8544a_row6_col9\" class=\"data row6 col9\" >0.17</td>\n",
              "      <td id=\"T_8544a_row6_col10\" class=\"data row6 col10\" >0.54</td>\n",
              "      <td id=\"T_8544a_row6_col11\" class=\"data row6 col11\" >0.88</td>\n",
              "      <td id=\"T_8544a_row6_col12\" class=\"data row6 col12\" >0.88</td>\n",
              "      <td id=\"T_8544a_row6_col13\" class=\"data row6 col13\" >0.98</td>\n",
              "      <td id=\"T_8544a_row6_col14\" class=\"data row6 col14\" >0.99</td>\n",
              "      <td id=\"T_8544a_row6_col15\" class=\"data row6 col15\" >0.98</td>\n",
              "      <td id=\"T_8544a_row6_col16\" class=\"data row6 col16\" >0.98</td>\n",
              "      <td id=\"T_8544a_row6_col17\" class=\"data row6 col17\" >0.98</td>\n",
              "      <td id=\"T_8544a_row6_col18\" class=\"data row6 col18\" >0.98</td>\n",
              "      <td id=\"T_8544a_row6_col19\" class=\"data row6 col19\" >0.98</td>\n",
              "      <td id=\"T_8544a_row6_col20\" class=\"data row6 col20\" >0.98</td>\n",
              "      <td id=\"T_8544a_row6_col21\" class=\"data row6 col21\" >0.62</td>\n",
              "      <td id=\"T_8544a_row6_col22\" class=\"data row6 col22\" >0.05</td>\n",
              "    </tr>\n",
              "    <tr>\n",
              "      <th id=\"T_8544a_level0_row7\" class=\"row_heading level0 row7\" >7</th>\n",
              "      <td id=\"T_8544a_row7_col0\" class=\"data row7 col0\" >0.00</td>\n",
              "      <td id=\"T_8544a_row7_col1\" class=\"data row7 col1\" >0.00</td>\n",
              "      <td id=\"T_8544a_row7_col2\" class=\"data row7 col2\" >0.00</td>\n",
              "      <td id=\"T_8544a_row7_col3\" class=\"data row7 col3\" >0.00</td>\n",
              "      <td id=\"T_8544a_row7_col4\" class=\"data row7 col4\" >0.00</td>\n",
              "      <td id=\"T_8544a_row7_col5\" class=\"data row7 col5\" >0.00</td>\n",
              "      <td id=\"T_8544a_row7_col6\" class=\"data row7 col6\" >0.00</td>\n",
              "      <td id=\"T_8544a_row7_col7\" class=\"data row7 col7\" >0.00</td>\n",
              "      <td id=\"T_8544a_row7_col8\" class=\"data row7 col8\" >0.00</td>\n",
              "      <td id=\"T_8544a_row7_col9\" class=\"data row7 col9\" >0.70</td>\n",
              "      <td id=\"T_8544a_row7_col10\" class=\"data row7 col10\" >0.98</td>\n",
              "      <td id=\"T_8544a_row7_col11\" class=\"data row7 col11\" >0.98</td>\n",
              "      <td id=\"T_8544a_row7_col12\" class=\"data row7 col12\" >0.98</td>\n",
              "      <td id=\"T_8544a_row7_col13\" class=\"data row7 col13\" >0.98</td>\n",
              "      <td id=\"T_8544a_row7_col14\" class=\"data row7 col14\" >0.99</td>\n",
              "      <td id=\"T_8544a_row7_col15\" class=\"data row7 col15\" >0.98</td>\n",
              "      <td id=\"T_8544a_row7_col16\" class=\"data row7 col16\" >0.98</td>\n",
              "      <td id=\"T_8544a_row7_col17\" class=\"data row7 col17\" >0.98</td>\n",
              "      <td id=\"T_8544a_row7_col18\" class=\"data row7 col18\" >0.98</td>\n",
              "      <td id=\"T_8544a_row7_col19\" class=\"data row7 col19\" >0.98</td>\n",
              "      <td id=\"T_8544a_row7_col20\" class=\"data row7 col20\" >0.98</td>\n",
              "      <td id=\"T_8544a_row7_col21\" class=\"data row7 col21\" >0.98</td>\n",
              "      <td id=\"T_8544a_row7_col22\" class=\"data row7 col22\" >0.23</td>\n",
              "    </tr>\n",
              "    <tr>\n",
              "      <th id=\"T_8544a_level0_row8\" class=\"row_heading level0 row8\" >8</th>\n",
              "      <td id=\"T_8544a_row8_col0\" class=\"data row8 col0\" >0.00</td>\n",
              "      <td id=\"T_8544a_row8_col1\" class=\"data row8 col1\" >0.00</td>\n",
              "      <td id=\"T_8544a_row8_col2\" class=\"data row8 col2\" >0.00</td>\n",
              "      <td id=\"T_8544a_row8_col3\" class=\"data row8 col3\" >0.00</td>\n",
              "      <td id=\"T_8544a_row8_col4\" class=\"data row8 col4\" >0.00</td>\n",
              "      <td id=\"T_8544a_row8_col5\" class=\"data row8 col5\" >0.00</td>\n",
              "      <td id=\"T_8544a_row8_col6\" class=\"data row8 col6\" >0.00</td>\n",
              "      <td id=\"T_8544a_row8_col7\" class=\"data row8 col7\" >0.00</td>\n",
              "      <td id=\"T_8544a_row8_col8\" class=\"data row8 col8\" >0.00</td>\n",
              "      <td id=\"T_8544a_row8_col9\" class=\"data row8 col9\" >0.43</td>\n",
              "      <td id=\"T_8544a_row8_col10\" class=\"data row8 col10\" >0.98</td>\n",
              "      <td id=\"T_8544a_row8_col11\" class=\"data row8 col11\" >0.98</td>\n",
              "      <td id=\"T_8544a_row8_col12\" class=\"data row8 col12\" >0.90</td>\n",
              "      <td id=\"T_8544a_row8_col13\" class=\"data row8 col13\" >0.52</td>\n",
              "      <td id=\"T_8544a_row8_col14\" class=\"data row8 col14\" >0.52</td>\n",
              "      <td id=\"T_8544a_row8_col15\" class=\"data row8 col15\" >0.52</td>\n",
              "      <td id=\"T_8544a_row8_col16\" class=\"data row8 col16\" >0.52</td>\n",
              "      <td id=\"T_8544a_row8_col17\" class=\"data row8 col17\" >0.74</td>\n",
              "      <td id=\"T_8544a_row8_col18\" class=\"data row8 col18\" >0.98</td>\n",
              "      <td id=\"T_8544a_row8_col19\" class=\"data row8 col19\" >0.98</td>\n",
              "      <td id=\"T_8544a_row8_col20\" class=\"data row8 col20\" >0.98</td>\n",
              "      <td id=\"T_8544a_row8_col21\" class=\"data row8 col21\" >0.98</td>\n",
              "      <td id=\"T_8544a_row8_col22\" class=\"data row8 col22\" >0.23</td>\n",
              "    </tr>\n",
              "    <tr>\n",
              "      <th id=\"T_8544a_level0_row9\" class=\"row_heading level0 row9\" >9</th>\n",
              "      <td id=\"T_8544a_row9_col0\" class=\"data row9 col0\" >0.00</td>\n",
              "      <td id=\"T_8544a_row9_col1\" class=\"data row9 col1\" >0.00</td>\n",
              "      <td id=\"T_8544a_row9_col2\" class=\"data row9 col2\" >0.00</td>\n",
              "      <td id=\"T_8544a_row9_col3\" class=\"data row9 col3\" >0.00</td>\n",
              "      <td id=\"T_8544a_row9_col4\" class=\"data row9 col4\" >0.00</td>\n",
              "      <td id=\"T_8544a_row9_col5\" class=\"data row9 col5\" >0.00</td>\n",
              "      <td id=\"T_8544a_row9_col6\" class=\"data row9 col6\" >0.00</td>\n",
              "      <td id=\"T_8544a_row9_col7\" class=\"data row9 col7\" >0.00</td>\n",
              "      <td id=\"T_8544a_row9_col8\" class=\"data row9 col8\" >0.00</td>\n",
              "      <td id=\"T_8544a_row9_col9\" class=\"data row9 col9\" >0.02</td>\n",
              "      <td id=\"T_8544a_row9_col10\" class=\"data row9 col10\" >0.11</td>\n",
              "      <td id=\"T_8544a_row9_col11\" class=\"data row9 col11\" >0.11</td>\n",
              "      <td id=\"T_8544a_row9_col12\" class=\"data row9 col12\" >0.09</td>\n",
              "      <td id=\"T_8544a_row9_col13\" class=\"data row9 col13\" >0.00</td>\n",
              "      <td id=\"T_8544a_row9_col14\" class=\"data row9 col14\" >0.00</td>\n",
              "      <td id=\"T_8544a_row9_col15\" class=\"data row9 col15\" >0.00</td>\n",
              "      <td id=\"T_8544a_row9_col16\" class=\"data row9 col16\" >0.00</td>\n",
              "      <td id=\"T_8544a_row9_col17\" class=\"data row9 col17\" >0.05</td>\n",
              "      <td id=\"T_8544a_row9_col18\" class=\"data row9 col18\" >0.88</td>\n",
              "      <td id=\"T_8544a_row9_col19\" class=\"data row9 col19\" >0.98</td>\n",
              "      <td id=\"T_8544a_row9_col20\" class=\"data row9 col20\" >0.98</td>\n",
              "      <td id=\"T_8544a_row9_col21\" class=\"data row9 col21\" >0.67</td>\n",
              "      <td id=\"T_8544a_row9_col22\" class=\"data row9 col22\" >0.03</td>\n",
              "    </tr>\n",
              "    <tr>\n",
              "      <th id=\"T_8544a_level0_row10\" class=\"row_heading level0 row10\" >10</th>\n",
              "      <td id=\"T_8544a_row10_col0\" class=\"data row10 col0\" >0.00</td>\n",
              "      <td id=\"T_8544a_row10_col1\" class=\"data row10 col1\" >0.00</td>\n",
              "      <td id=\"T_8544a_row10_col2\" class=\"data row10 col2\" >0.00</td>\n",
              "      <td id=\"T_8544a_row10_col3\" class=\"data row10 col3\" >0.00</td>\n",
              "      <td id=\"T_8544a_row10_col4\" class=\"data row10 col4\" >0.00</td>\n",
              "      <td id=\"T_8544a_row10_col5\" class=\"data row10 col5\" >0.00</td>\n",
              "      <td id=\"T_8544a_row10_col6\" class=\"data row10 col6\" >0.00</td>\n",
              "      <td id=\"T_8544a_row10_col7\" class=\"data row10 col7\" >0.00</td>\n",
              "      <td id=\"T_8544a_row10_col8\" class=\"data row10 col8\" >0.00</td>\n",
              "      <td id=\"T_8544a_row10_col9\" class=\"data row10 col9\" >0.00</td>\n",
              "      <td id=\"T_8544a_row10_col10\" class=\"data row10 col10\" >0.00</td>\n",
              "      <td id=\"T_8544a_row10_col11\" class=\"data row10 col11\" >0.00</td>\n",
              "      <td id=\"T_8544a_row10_col12\" class=\"data row10 col12\" >0.00</td>\n",
              "      <td id=\"T_8544a_row10_col13\" class=\"data row10 col13\" >0.00</td>\n",
              "      <td id=\"T_8544a_row10_col14\" class=\"data row10 col14\" >0.00</td>\n",
              "      <td id=\"T_8544a_row10_col15\" class=\"data row10 col15\" >0.00</td>\n",
              "      <td id=\"T_8544a_row10_col16\" class=\"data row10 col16\" >0.00</td>\n",
              "      <td id=\"T_8544a_row10_col17\" class=\"data row10 col17\" >0.33</td>\n",
              "      <td id=\"T_8544a_row10_col18\" class=\"data row10 col18\" >0.95</td>\n",
              "      <td id=\"T_8544a_row10_col19\" class=\"data row10 col19\" >0.98</td>\n",
              "      <td id=\"T_8544a_row10_col20\" class=\"data row10 col20\" >0.98</td>\n",
              "      <td id=\"T_8544a_row10_col21\" class=\"data row10 col21\" >0.56</td>\n",
              "      <td id=\"T_8544a_row10_col22\" class=\"data row10 col22\" >0.00</td>\n",
              "    </tr>\n",
              "    <tr>\n",
              "      <th id=\"T_8544a_level0_row11\" class=\"row_heading level0 row11\" >11</th>\n",
              "      <td id=\"T_8544a_row11_col0\" class=\"data row11 col0\" >0.00</td>\n",
              "      <td id=\"T_8544a_row11_col1\" class=\"data row11 col1\" >0.00</td>\n",
              "      <td id=\"T_8544a_row11_col2\" class=\"data row11 col2\" >0.00</td>\n",
              "      <td id=\"T_8544a_row11_col3\" class=\"data row11 col3\" >0.00</td>\n",
              "      <td id=\"T_8544a_row11_col4\" class=\"data row11 col4\" >0.00</td>\n",
              "      <td id=\"T_8544a_row11_col5\" class=\"data row11 col5\" >0.00</td>\n",
              "      <td id=\"T_8544a_row11_col6\" class=\"data row11 col6\" >0.00</td>\n",
              "      <td id=\"T_8544a_row11_col7\" class=\"data row11 col7\" >0.00</td>\n",
              "      <td id=\"T_8544a_row11_col8\" class=\"data row11 col8\" >0.00</td>\n",
              "      <td id=\"T_8544a_row11_col9\" class=\"data row11 col9\" >0.00</td>\n",
              "      <td id=\"T_8544a_row11_col10\" class=\"data row11 col10\" >0.00</td>\n",
              "      <td id=\"T_8544a_row11_col11\" class=\"data row11 col11\" >0.00</td>\n",
              "      <td id=\"T_8544a_row11_col12\" class=\"data row11 col12\" >0.00</td>\n",
              "      <td id=\"T_8544a_row11_col13\" class=\"data row11 col13\" >0.00</td>\n",
              "      <td id=\"T_8544a_row11_col14\" class=\"data row11 col14\" >0.00</td>\n",
              "      <td id=\"T_8544a_row11_col15\" class=\"data row11 col15\" >0.00</td>\n",
              "      <td id=\"T_8544a_row11_col16\" class=\"data row11 col16\" >0.34</td>\n",
              "      <td id=\"T_8544a_row11_col17\" class=\"data row11 col17\" >0.74</td>\n",
              "      <td id=\"T_8544a_row11_col18\" class=\"data row11 col18\" >0.98</td>\n",
              "      <td id=\"T_8544a_row11_col19\" class=\"data row11 col19\" >0.98</td>\n",
              "      <td id=\"T_8544a_row11_col20\" class=\"data row11 col20\" >0.98</td>\n",
              "      <td id=\"T_8544a_row11_col21\" class=\"data row11 col21\" >0.05</td>\n",
              "      <td id=\"T_8544a_row11_col22\" class=\"data row11 col22\" >0.00</td>\n",
              "    </tr>\n",
              "    <tr>\n",
              "      <th id=\"T_8544a_level0_row12\" class=\"row_heading level0 row12\" >12</th>\n",
              "      <td id=\"T_8544a_row12_col0\" class=\"data row12 col0\" >0.00</td>\n",
              "      <td id=\"T_8544a_row12_col1\" class=\"data row12 col1\" >0.00</td>\n",
              "      <td id=\"T_8544a_row12_col2\" class=\"data row12 col2\" >0.00</td>\n",
              "      <td id=\"T_8544a_row12_col3\" class=\"data row12 col3\" >0.00</td>\n",
              "      <td id=\"T_8544a_row12_col4\" class=\"data row12 col4\" >0.00</td>\n",
              "      <td id=\"T_8544a_row12_col5\" class=\"data row12 col5\" >0.00</td>\n",
              "      <td id=\"T_8544a_row12_col6\" class=\"data row12 col6\" >0.00</td>\n",
              "      <td id=\"T_8544a_row12_col7\" class=\"data row12 col7\" >0.00</td>\n",
              "      <td id=\"T_8544a_row12_col8\" class=\"data row12 col8\" >0.00</td>\n",
              "      <td id=\"T_8544a_row12_col9\" class=\"data row12 col9\" >0.00</td>\n",
              "      <td id=\"T_8544a_row12_col10\" class=\"data row12 col10\" >0.00</td>\n",
              "      <td id=\"T_8544a_row12_col11\" class=\"data row12 col11\" >0.00</td>\n",
              "      <td id=\"T_8544a_row12_col12\" class=\"data row12 col12\" >0.00</td>\n",
              "      <td id=\"T_8544a_row12_col13\" class=\"data row12 col13\" >0.00</td>\n",
              "      <td id=\"T_8544a_row12_col14\" class=\"data row12 col14\" >0.36</td>\n",
              "      <td id=\"T_8544a_row12_col15\" class=\"data row12 col15\" >0.83</td>\n",
              "      <td id=\"T_8544a_row12_col16\" class=\"data row12 col16\" >0.96</td>\n",
              "      <td id=\"T_8544a_row12_col17\" class=\"data row12 col17\" >0.98</td>\n",
              "      <td id=\"T_8544a_row12_col18\" class=\"data row12 col18\" >0.98</td>\n",
              "      <td id=\"T_8544a_row12_col19\" class=\"data row12 col19\" >0.98</td>\n",
              "      <td id=\"T_8544a_row12_col20\" class=\"data row12 col20\" >0.80</td>\n",
              "      <td id=\"T_8544a_row12_col21\" class=\"data row12 col21\" >0.04</td>\n",
              "      <td id=\"T_8544a_row12_col22\" class=\"data row12 col22\" >0.00</td>\n",
              "    </tr>\n",
              "  </tbody>\n",
              "</table>\n"
            ]
          },
          "metadata": {},
          "execution_count": 22
        }
      ]
    },
    {
      "cell_type": "code",
      "source": [
        "(im3[3:6,14:17] * top_edge).sum()"
      ],
      "metadata": {
        "id": "FcgvoxcZ4jAr",
        "outputId": "f3e822e5-d374-4e61-fffa-b9ecf43f167e",
        "colab": {
          "base_uri": "https://localhost:8080/"
        }
      },
      "execution_count": 23,
      "outputs": [
        {
          "output_type": "execute_result",
          "data": {
            "text/plain": [
              "tensor(2.9727)"
            ]
          },
          "metadata": {},
          "execution_count": 23
        }
      ]
    },
    {
      "cell_type": "code",
      "source": [
        "(im3[7:10,14:17] * top_edge).sum()"
      ],
      "metadata": {
        "id": "KVP0m51V4jC0",
        "outputId": "4c50050d-0e59-4943-f9fd-e458daafd0de",
        "colab": {
          "base_uri": "https://localhost:8080/"
        }
      },
      "execution_count": 24,
      "outputs": [
        {
          "output_type": "execute_result",
          "data": {
            "text/plain": [
              "tensor(-2.9570)"
            ]
          },
          "metadata": {},
          "execution_count": 24
        }
      ]
    },
    {
      "cell_type": "code",
      "source": [
        "def apply_kernel(row, col, kernel):\n",
        "  return (im3[row-1:row+2,col-1:col+2] * kernel).sum()\n"
      ],
      "metadata": {
        "id": "UXk819d-4jFD"
      },
      "execution_count": 25,
      "outputs": []
    },
    {
      "cell_type": "code",
      "source": [
        "apply_kernel(4,15,top_edge)\n"
      ],
      "metadata": {
        "id": "bBJc-8bL4jHW",
        "outputId": "e56131c3-0480-44e5-e66c-2b9f06a1c7f2",
        "colab": {
          "base_uri": "https://localhost:8080/"
        }
      },
      "execution_count": 26,
      "outputs": [
        {
          "output_type": "execute_result",
          "data": {
            "text/plain": [
              "tensor(2.9727)"
            ]
          },
          "metadata": {},
          "execution_count": 26
        }
      ]
    },
    {
      "cell_type": "code",
      "source": [
        "[[(i,j) for j in range(5)] for i in range(5)]"
      ],
      "metadata": {
        "id": "53VhfSeD4jJj",
        "outputId": "433226ab-33ce-4d2d-96aa-cc4bbdb2a23a",
        "colab": {
          "base_uri": "https://localhost:8080/"
        }
      },
      "execution_count": 27,
      "outputs": [
        {
          "output_type": "execute_result",
          "data": {
            "text/plain": [
              "[[(0, 0), (0, 1), (0, 2), (0, 3), (0, 4)],\n",
              " [(1, 0), (1, 1), (1, 2), (1, 3), (1, 4)],\n",
              " [(2, 0), (2, 1), (2, 2), (2, 3), (2, 4)],\n",
              " [(3, 0), (3, 1), (3, 2), (3, 3), (3, 4)],\n",
              " [(4, 0), (4, 1), (4, 2), (4, 3), (4, 4)]]"
            ]
          },
          "metadata": {},
          "execution_count": 27
        }
      ]
    },
    {
      "cell_type": "code",
      "source": [
        "rng = range(1,27)\n",
        "top_edge3 = tensor([[apply_kernel(i,j,top_edge) for j in rng] for i in rng])\n",
        "# print(top_edge3)\n",
        "show_image(top_edge3);"
      ],
      "metadata": {
        "id": "jc6bWgE14jLj",
        "outputId": "e6c16713-989a-4b29-d476-42e1d1008d54",
        "colab": {
          "base_uri": "https://localhost:8080/",
          "height": 133
        }
      },
      "execution_count": 32,
      "outputs": [
        {
          "output_type": "display_data",
          "data": {
            "text/plain": [
              "<Figure size 192x144 with 1 Axes>"
            ],
            "image/png": "[encoded data removed]"
          },
          "metadata": {}
        }
      ]
    },
    {
      "cell_type": "code",
      "source": [
        "left_edge = tensor([[-1,0,1],\n",
        "                    [-1,0,1],\n",
        "                    [-1,0,1]]).float()"
      ],
      "metadata": {
        "id": "OTsfgbTT4jOC"
      },
      "execution_count": 36,
      "outputs": []
    },
    {
      "cell_type": "code",
      "source": [
        "show_image(left_edge, noframe=False);\n"
      ],
      "metadata": {
        "id": "P3cfAKvu4jQn",
        "outputId": "282da896-792f-4c75-973b-4c01862a6ff3",
        "colab": {
          "base_uri": "https://localhost:8080/",
          "height": 133
        }
      },
      "execution_count": 37,
      "outputs": [
        {
          "output_type": "display_data",
          "data": {
            "text/plain": [
              "<Figure size 192x144 with 1 Axes>"
            ],
            "image/png": "[encoded data removed]"
          },
          "metadata": {}
        }
      ]
    },
    {
      "cell_type": "code",
      "source": [
        "left_edge3 = tensor([[apply_kernel(i,j,left_edge) for j in rng] for i in rng])\n",
        "show_image(left_edge3);"
      ],
      "metadata": {
        "id": "bcirzJxo4jS6",
        "outputId": "e4b80646-1754-4865-8fb9-c972af683d32",
        "colab": {
          "base_uri": "https://localhost:8080/",
          "height": 133
        }
      },
      "execution_count": 38,
      "outputs": [
        {
          "output_type": "display_data",
          "data": {
            "text/plain": [
              "<Figure size 192x144 with 1 Axes>"
            ],
            "image/png": "[encoded data removed]"
          },
          "metadata": {}
        }
      ]
    },
    {
      "cell_type": "markdown",
      "source": [
        "# Convolutions in PyTorch"
      ],
      "metadata": {
        "id": "F5WVq7Wxfwm_"
      }
    },
    {
      "cell_type": "code",
      "source": [
        "import torch.nn.functional as F\n",
        "import torch"
      ],
      "metadata": {
        "id": "ELS6wlbr4jVT"
      },
      "execution_count": 40,
      "outputs": []
    },
    {
      "cell_type": "code",
      "source": [
        "inp = im3[None,None,:,:].float()\n",
        "inp_unf = F.unfold(inp, (3,3))[0]\n",
        "inp.shape, inp_unf.shape"
      ],
      "metadata": {
        "id": "3KyTzhjX4jXd",
        "outputId": "2a1f871d-1038-46f8-9d14-be90808660b1",
        "colab": {
          "base_uri": "https://localhost:8080/"
        }
      },
      "execution_count": 41,
      "outputs": [
        {
          "output_type": "execute_result",
          "data": {
            "text/plain": [
              "(torch.Size([1, 1, 28, 28]), torch.Size([9, 676]))"
            ]
          },
          "metadata": {},
          "execution_count": 41
        }
      ]
    },
    {
      "cell_type": "code",
      "source": [
        "inp.view(28,-1).shape"
      ],
      "metadata": {
        "id": "nJFr3s4-4jZi",
        "outputId": "9d987597-7352-4477-9b5b-195345f1cc53",
        "colab": {
          "base_uri": "https://localhost:8080/"
        }
      },
      "execution_count": 50,
      "outputs": [
        {
          "output_type": "execute_result",
          "data": {
            "text/plain": [
              "torch.Size([28, 28])"
            ]
          },
          "metadata": {},
          "execution_count": 50
        }
      ]
    },
    {
      "cell_type": "code",
      "source": [
        "F.unfold(inp, (3,3)).shape"
      ],
      "metadata": {
        "id": "gl3--vT34jbw",
        "outputId": "77a26cc1-a163-4175-bcfb-86c7f3cbc6b4",
        "colab": {
          "base_uri": "https://localhost:8080/"
        }
      },
      "execution_count": 52,
      "outputs": [
        {
          "output_type": "execute_result",
          "data": {
            "text/plain": [
              "torch.Size([1, 9, 676])"
            ]
          },
          "metadata": {},
          "execution_count": 52
        }
      ]
    },
    {
      "cell_type": "code",
      "execution_count": 53,
      "metadata": {
        "id": "XJ79ALpg4XUN"
      },
      "outputs": [],
      "source": []
    },
    {
      "cell_type": "code",
      "source": [],
      "metadata": {
        "id": "irYiy0FIhv6O"
      },
      "execution_count": null,
      "outputs": []
    }
  ]
}