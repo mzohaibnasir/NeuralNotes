{
  "nbformat": 4,
  "nbformat_minor": 0,
  "metadata": {
    "colab": {
      "provenance": [],
      "toc_visible": true,
      "authorship_tag": "ABX9TyNAGKHpcuT4v3j1HTEXZ1DM",
      "include_colab_link": true
    },
    "kernelspec": {
      "name": "python3",
      "display_name": "Python 3"
    },
    "language_info": {
      "name": "python"
    },
    "widgets": {
      "application/vnd.jupyter.widget-state+json": {
        "ed566e2827ee4331a22f8a509db0e2ad": {
          "model_module": "@jupyter-widgets/controls",
          "model_name": "ButtonModel",
          "model_module_version": "1.5.0",
          "state": {
            "_dom_classes": [],
            "_model_module": "@jupyter-widgets/controls",
            "_model_module_version": "1.5.0",
            "_model_name": "ButtonModel",
            "_view_count": null,
            "_view_module": "@jupyter-widgets/controls",
            "_view_module_version": "1.5.0",
            "_view_name": "ButtonView",
            "button_style": "",
            "description": "Click me!",
            "disabled": false,
            "icon": "",
            "layout": "IPY_MODEL_48f521f20cb248f2a9d70d5d7c79d29d",
            "style": "IPY_MODEL_9764dfd7a1034e0982b77ab76a760446",
            "tooltip": ""
          }
        },
        "48f521f20cb248f2a9d70d5d7c79d29d": {
          "model_module": "@jupyter-widgets/base",
          "model_name": "LayoutModel",
          "model_module_version": "1.2.0",
          "state": {
            "_model_module": "@jupyter-widgets/base",
            "_model_module_version": "1.2.0",
            "_model_name": "LayoutModel",
            "_view_count": null,
            "_view_module": "@jupyter-widgets/base",
            "_view_module_version": "1.2.0",
            "_view_name": "LayoutView",
            "align_content": null,
            "align_items": null,
            "align_self": null,
            "border": null,
            "bottom": null,
            "display": null,
            "flex": null,
            "flex_flow": null,
            "grid_area": null,
            "grid_auto_columns": null,
            "grid_auto_flow": null,
            "grid_auto_rows": null,
            "grid_column": null,
            "grid_gap": null,
            "grid_row": null,
            "grid_template_areas": null,
            "grid_template_columns": null,
            "grid_template_rows": null,
            "height": null,
            "justify_content": null,
            "justify_items": null,
            "left": null,
            "margin": null,
            "max_height": null,
            "max_width": null,
            "min_height": null,
            "min_width": null,
            "object_fit": null,
            "object_position": null,
            "order": null,
            "overflow": null,
            "overflow_x": null,
            "overflow_y": null,
            "padding": null,
            "right": null,
            "top": null,
            "visibility": null,
            "width": null
          }
        },
        "9764dfd7a1034e0982b77ab76a760446": {
          "model_module": "@jupyter-widgets/controls",
          "model_name": "ButtonStyleModel",
          "model_module_version": "1.5.0",
          "state": {
            "_model_module": "@jupyter-widgets/controls",
            "_model_module_version": "1.5.0",
            "_model_name": "ButtonStyleModel",
            "_view_count": null,
            "_view_module": "@jupyter-widgets/base",
            "_view_module_version": "1.2.0",
            "_view_name": "StyleView",
            "button_color": null,
            "font_weight": ""
          }
        }
      }
    }
  },
  "cells": [
    {
      "cell_type": "markdown",
      "metadata": {
        "id": "view-in-github",
        "colab_type": "text"
      },
      "source": [
        "<a href=\"https://colab.research.google.com/github/mzohaibnasir/NeuralNotes/blob/main/05_deepDiveIntoBasics.ipynb\" target=\"_parent\"><img src=\"https://colab.research.google.com/assets/colab-badge.svg\" alt=\"Open In Colab\"/></a>"
      ]
    },
    {
      "cell_type": "markdown",
      "source": [
        "# Foundations"
      ],
      "metadata": {
        "id": "X880QKZcLcmQ"
      }
    },
    {
      "cell_type": "code",
      "execution_count": 140,
      "metadata": {
        "id": "28HV3wMGLZcs"
      },
      "outputs": [],
      "source": [
        "import torch\n",
        "import matplotlib.pyplot as plt\n",
        "import random"
      ]
    },
    {
      "cell_type": "markdown",
      "source": [
        "## Callbacks"
      ],
      "metadata": {
        "id": "xtywGSjmLz-H"
      }
    },
    {
      "cell_type": "markdown",
      "source": [
        "### Callbacks as GUI events"
      ],
      "metadata": {
        "id": "eSUW33HGL4sT"
      }
    },
    {
      "cell_type": "code",
      "source": [
        "import ipywidgets as widgets"
      ],
      "metadata": {
        "id": "tE5ATccHLzZG"
      },
      "execution_count": 141,
      "outputs": []
    },
    {
      "cell_type": "markdown",
      "source": [
        "From the ipywidget docs:\n",
        "\n",
        "* the button widget is used to handle mouse clicks. The on_click method of the Button can be used to register function to be called when the button is clicked"
      ],
      "metadata": {
        "id": "kCaTui7iMdBj"
      }
    },
    {
      "cell_type": "code",
      "source": [
        "w = widgets.Button(description='Click me!')"
      ],
      "metadata": {
        "id": "Rfga1_EFLrIm"
      },
      "execution_count": 142,
      "outputs": []
    },
    {
      "cell_type": "code",
      "source": [
        "w"
      ],
      "metadata": {
        "colab": {
          "base_uri": "https://localhost:8080/",
          "height": 49,
          "referenced_widgets": [
            "ed566e2827ee4331a22f8a509db0e2ad",
            "48f521f20cb248f2a9d70d5d7c79d29d",
            "9764dfd7a1034e0982b77ab76a760446"
          ]
        },
        "id": "0R_kPyDyLrK_",
        "outputId": "26994847-844a-4a7c-9b04-117b465b6012"
      },
      "execution_count": 143,
      "outputs": [
        {
          "output_type": "display_data",
          "data": {
            "text/plain": [
              "Button(description='Click me!', style=ButtonStyle())"
            ],
            "application/vnd.jupyter.widget-view+json": {
              "version_major": 2,
              "version_minor": 0,
              "model_id": "ed566e2827ee4331a22f8a509db0e2ad"
            }
          },
          "metadata": {}
        }
      ]
    },
    {
      "cell_type": "code",
      "source": [
        "def f(o):\n",
        "  print(\"hi\")"
      ],
      "metadata": {
        "id": "dvn9L1qBLrM8"
      },
      "execution_count": 144,
      "outputs": []
    },
    {
      "cell_type": "code",
      "source": [
        "w.on_click(f)  # NB: When callbacks are used in this way they are often called \"events\"."
      ],
      "metadata": {
        "id": "pawY-IR3LrPD"
      },
      "execution_count": 145,
      "outputs": []
    },
    {
      "cell_type": "markdown",
      "source": [
        "### Creating your own callback"
      ],
      "metadata": {
        "id": "Sx_ziMJjNAwu"
      }
    },
    {
      "cell_type": "code",
      "source": [
        "from time import sleep\n",
        "from tqdm import tqdm\n"
      ],
      "metadata": {
        "id": "EAu8uVpeLrRI"
      },
      "execution_count": 146,
      "outputs": []
    },
    {
      "cell_type": "code",
      "source": [
        "def slow_calculation():\n",
        "  res = 0\n",
        "  for i in tqdm(range(5)):\n",
        "    res += i*i\n",
        "    sleep(1)\n",
        "  return res\n",
        "slow_calculation()"
      ],
      "metadata": {
        "colab": {
          "base_uri": "https://localhost:8080/"
        },
        "id": "BzTnHgF5LrTW",
        "outputId": "e92af7c7-a3a1-44d7-8de3-e27fa463e230"
      },
      "execution_count": 147,
      "outputs": [
        {
          "output_type": "stream",
          "name": "stderr",
          "text": [
            "100%|██████████| 5/5 [00:05<00:00,  1.00s/it]\n"
          ]
        },
        {
          "output_type": "execute_result",
          "data": {
            "text/plain": [
              "30"
            ]
          },
          "metadata": {},
          "execution_count": 147
        }
      ]
    },
    {
      "cell_type": "code",
      "source": [
        "def slow_calculation(cb=None):\n",
        "  res =0\n",
        "  for i in tqdm(range(5)):\n",
        "    res+= i*i\n",
        "    sleep(1)\n",
        "    if cb: cb(i) # if callback, then call it\n",
        "  return res"
      ],
      "metadata": {
        "id": "ocFGssnRLrVd"
      },
      "execution_count": 148,
      "outputs": []
    },
    {
      "cell_type": "code",
      "source": [
        "def show_progress(epoch):\n",
        "  print(f\"\\nAwesome! We've finished epoch {epoch}\")"
      ],
      "metadata": {
        "id": "gsrpQE9lLrXn"
      },
      "execution_count": 149,
      "outputs": []
    },
    {
      "cell_type": "code",
      "source": [
        "slow_calculation(show_progress)"
      ],
      "metadata": {
        "colab": {
          "base_uri": "https://localhost:8080/"
        },
        "id": "zS0j8PM-LrZP",
        "outputId": "2e28c012-3be6-4d57-dda6-95cc85566692"
      },
      "execution_count": 150,
      "outputs": [
        {
          "output_type": "stream",
          "name": "stderr",
          "text": [
            " 20%|██        | 1/5 [00:01<00:04,  1.00s/it]"
          ]
        },
        {
          "output_type": "stream",
          "name": "stdout",
          "text": [
            "\n",
            "Awesome! We've finished epoch 0\n"
          ]
        },
        {
          "output_type": "stream",
          "name": "stderr",
          "text": [
            "\r 40%|████      | 2/5 [00:02<00:03,  1.00s/it]"
          ]
        },
        {
          "output_type": "stream",
          "name": "stdout",
          "text": [
            "\n",
            "Awesome! We've finished epoch 1\n"
          ]
        },
        {
          "output_type": "stream",
          "name": "stderr",
          "text": [
            "\r 60%|██████    | 3/5 [00:03<00:02,  1.00s/it]"
          ]
        },
        {
          "output_type": "stream",
          "name": "stdout",
          "text": [
            "\n",
            "Awesome! We've finished epoch 2\n"
          ]
        },
        {
          "output_type": "stream",
          "name": "stderr",
          "text": [
            "\r 80%|████████  | 4/5 [00:04<00:01,  1.00s/it]"
          ]
        },
        {
          "output_type": "stream",
          "name": "stdout",
          "text": [
            "\n",
            "Awesome! We've finished epoch 3\n"
          ]
        },
        {
          "output_type": "stream",
          "name": "stderr",
          "text": [
            "100%|██████████| 5/5 [00:05<00:00,  1.00s/it]"
          ]
        },
        {
          "output_type": "stream",
          "name": "stdout",
          "text": [
            "\n",
            "Awesome! We've finished epoch 4\n"
          ]
        },
        {
          "output_type": "stream",
          "name": "stderr",
          "text": [
            "\n"
          ]
        },
        {
          "output_type": "execute_result",
          "data": {
            "text/plain": [
              "30"
            ]
          },
          "metadata": {},
          "execution_count": 150
        }
      ]
    },
    {
      "cell_type": "markdown",
      "source": [
        "### lambdas and partials"
      ],
      "metadata": {
        "id": "xbCbv8gyPyh0"
      }
    },
    {
      "cell_type": "code",
      "source": [
        "slow_calculation(lambda o : print(f\"\\nAwesome! We've finished epoch {o}\"))"
      ],
      "metadata": {
        "colab": {
          "base_uri": "https://localhost:8080/"
        },
        "id": "C98kzm_pLraT",
        "outputId": "c067f3fd-3066-4642-ca56-dcd0b82f81e5"
      },
      "execution_count": 151,
      "outputs": [
        {
          "output_type": "stream",
          "name": "stderr",
          "text": [
            " 20%|██        | 1/5 [00:01<00:04,  1.00s/it]"
          ]
        },
        {
          "output_type": "stream",
          "name": "stdout",
          "text": [
            "\n",
            "Awesome! We've finished epoch 0\n"
          ]
        },
        {
          "output_type": "stream",
          "name": "stderr",
          "text": [
            "\r 40%|████      | 2/5 [00:02<00:03,  1.00s/it]"
          ]
        },
        {
          "output_type": "stream",
          "name": "stdout",
          "text": [
            "\n",
            "Awesome! We've finished epoch 1\n"
          ]
        },
        {
          "output_type": "stream",
          "name": "stderr",
          "text": [
            "\r 60%|██████    | 3/5 [00:03<00:02,  1.00s/it]"
          ]
        },
        {
          "output_type": "stream",
          "name": "stdout",
          "text": [
            "\n",
            "Awesome! We've finished epoch 2\n"
          ]
        },
        {
          "output_type": "stream",
          "name": "stderr",
          "text": [
            "\r 80%|████████  | 4/5 [00:04<00:01,  1.00s/it]"
          ]
        },
        {
          "output_type": "stream",
          "name": "stdout",
          "text": [
            "\n",
            "Awesome! We've finished epoch 3\n"
          ]
        },
        {
          "output_type": "stream",
          "name": "stderr",
          "text": [
            "100%|██████████| 5/5 [00:05<00:00,  1.00s/it]"
          ]
        },
        {
          "output_type": "stream",
          "name": "stdout",
          "text": [
            "\n",
            "Awesome! We've finished epoch 4\n"
          ]
        },
        {
          "output_type": "stream",
          "name": "stderr",
          "text": [
            "\n"
          ]
        },
        {
          "output_type": "execute_result",
          "data": {
            "text/plain": [
              "30"
            ]
          },
          "metadata": {},
          "execution_count": 151
        }
      ]
    },
    {
      "cell_type": "code",
      "source": [
        "\n",
        "def slow_calculationV2(emotion=[], cb=None):\n",
        "  res =0\n",
        "  for i in tqdm(range(5)):\n",
        "    res+= i*i\n",
        "    sleep(1)\n",
        "    if cb: cb(emotion[i], i)\n",
        "  return res\n",
        "\n",
        "\n",
        "\n",
        "emotion=[\"Happily\", \"Sadly\", \"Manly\", \"Womanly\", \"Childly\"]\n",
        "slow_calculationV2(emotion, lambda e,o: print(f\"\\n {e} We've finished epoch {o}\"))"
      ],
      "metadata": {
        "id": "fAuwWaquQxQx",
        "colab": {
          "base_uri": "https://localhost:8080/"
        },
        "outputId": "de09ed5b-d9dd-4182-97c7-2daaaf31600e"
      },
      "execution_count": 152,
      "outputs": [
        {
          "output_type": "stream",
          "name": "stderr",
          "text": [
            " 20%|██        | 1/5 [00:01<00:04,  1.00s/it]"
          ]
        },
        {
          "output_type": "stream",
          "name": "stdout",
          "text": [
            "\n",
            " Happily We've finished epoch 0\n"
          ]
        },
        {
          "output_type": "stream",
          "name": "stderr",
          "text": [
            "\r 40%|████      | 2/5 [00:02<00:03,  1.00s/it]"
          ]
        },
        {
          "output_type": "stream",
          "name": "stdout",
          "text": [
            "\n",
            " Sadly We've finished epoch 1\n"
          ]
        },
        {
          "output_type": "stream",
          "name": "stderr",
          "text": [
            "\r 60%|██████    | 3/5 [00:03<00:02,  1.00s/it]"
          ]
        },
        {
          "output_type": "stream",
          "name": "stdout",
          "text": [
            "\n",
            " Manly We've finished epoch 2\n"
          ]
        },
        {
          "output_type": "stream",
          "name": "stderr",
          "text": [
            "\r 80%|████████  | 4/5 [00:04<00:01,  1.00s/it]"
          ]
        },
        {
          "output_type": "stream",
          "name": "stdout",
          "text": [
            "\n",
            " Womanly We've finished epoch 3\n"
          ]
        },
        {
          "output_type": "stream",
          "name": "stderr",
          "text": [
            "100%|██████████| 5/5 [00:05<00:00,  1.00s/it]"
          ]
        },
        {
          "output_type": "stream",
          "name": "stdout",
          "text": [
            "\n",
            " Childly We've finished epoch 4\n"
          ]
        },
        {
          "output_type": "stream",
          "name": "stderr",
          "text": [
            "\n"
          ]
        },
        {
          "output_type": "execute_result",
          "data": {
            "text/plain": [
              "30"
            ]
          },
          "metadata": {},
          "execution_count": 152
        }
      ]
    },
    {
      "cell_type": "code",
      "source": [],
      "metadata": {
        "id": "txoYXv52LrcX"
      },
      "execution_count": 152,
      "outputs": []
    },
    {
      "cell_type": "code",
      "source": [
        "def show_progress(exclamation, epoch):\n",
        "  print(f\"\\n{exclamation}! We've finished epoch {epoch}.\")\n",
        "\n",
        "slow_calculation(lambda o: show_progress(\"Exclaimed!\" , o))"
      ],
      "metadata": {
        "colab": {
          "base_uri": "https://localhost:8080/"
        },
        "id": "bKiIS-HlLrfL",
        "outputId": "07412b9c-eacd-42f2-c555-5f26caf2c683"
      },
      "execution_count": 153,
      "outputs": [
        {
          "output_type": "stream",
          "name": "stderr",
          "text": [
            " 20%|██        | 1/5 [00:01<00:04,  1.00s/it]"
          ]
        },
        {
          "output_type": "stream",
          "name": "stdout",
          "text": [
            "\n",
            "Exclaimed!! We've finished epoch 0.\n"
          ]
        },
        {
          "output_type": "stream",
          "name": "stderr",
          "text": [
            "\r 40%|████      | 2/5 [00:02<00:03,  1.00s/it]"
          ]
        },
        {
          "output_type": "stream",
          "name": "stdout",
          "text": [
            "\n",
            "Exclaimed!! We've finished epoch 1.\n"
          ]
        },
        {
          "output_type": "stream",
          "name": "stderr",
          "text": [
            "\r 60%|██████    | 3/5 [00:03<00:02,  1.00s/it]"
          ]
        },
        {
          "output_type": "stream",
          "name": "stdout",
          "text": [
            "\n",
            "Exclaimed!! We've finished epoch 2.\n"
          ]
        },
        {
          "output_type": "stream",
          "name": "stderr",
          "text": [
            "\r 80%|████████  | 4/5 [00:04<00:01,  1.00s/it]"
          ]
        },
        {
          "output_type": "stream",
          "name": "stdout",
          "text": [
            "\n",
            "Exclaimed!! We've finished epoch 3.\n"
          ]
        },
        {
          "output_type": "stream",
          "name": "stderr",
          "text": [
            "100%|██████████| 5/5 [00:05<00:00,  1.00s/it]"
          ]
        },
        {
          "output_type": "stream",
          "name": "stdout",
          "text": [
            "\n",
            "Exclaimed!! We've finished epoch 4.\n"
          ]
        },
        {
          "output_type": "stream",
          "name": "stderr",
          "text": [
            "\n"
          ]
        },
        {
          "output_type": "execute_result",
          "data": {
            "text/plain": [
              "30"
            ]
          },
          "metadata": {},
          "execution_count": 153
        }
      ]
    },
    {
      "cell_type": "code",
      "source": [
        "# nested\n",
        "\n",
        "def outer_function(x):\n",
        "    def inner_function(y):  # Variables defined in the outer function are accessible to the inner function, but not vice versa. # its sort of prvt fn\n",
        "        return x + y\n",
        "\n",
        "    result = inner_function(10)\n",
        "    return result\n",
        "\n",
        "output = outer_function(5)\n",
        "print(output)  # Output: 15"
      ],
      "metadata": {
        "id": "7nJZw1CdSQiU",
        "colab": {
          "base_uri": "https://localhost:8080/"
        },
        "outputId": "e782198d-f43c-4280-a143-f0f5f83b7a1d"
      },
      "execution_count": 154,
      "outputs": [
        {
          "output_type": "stream",
          "name": "stdout",
          "text": [
            "15\n"
          ]
        }
      ]
    },
    {
      "cell_type": "markdown",
      "source": [
        "#### Higher-order functions\n",
        "are functions that operate on other functions by taking them as arguments, returning them, or both.\n",
        "\n",
        "closure factory functions. Closures are dynamically created functions that are returned by other functions. Their main feature is that they have full access to the variables and names defined in the local namespace where the closure was created, even though the enclosing function has returned and finished executing.\n",
        "\n",
        "In Python, when you return an inner function object, the interpreter packs the function along with its containing environment or closure. The function object keeps a snapshot of all the variables and names defined in its containing scope. To define a closure, you need to take three steps:\n",
        "\n",
        "Create an inner function.\n",
        "Reference variables from the enclosing function.\n",
        "Return the inner function.\n",
        "\n",
        "\n",
        "##### Retaining State in a Closure\n",
        "A closure causes the inner function to retain the state of its environment when called. The closure isn’t the inner function itself but the inner function along with its enclosing environment. The closure captures the local variables and name in the containing function and keeps them around."
      ],
      "metadata": {
        "id": "QYXqWbtzea2z"
      }
    },
    {
      "cell_type": "markdown",
      "source": [
        "But what would happen if the outer function returns the inner function itself, rather than calling it like in the example above? In that case you would have what's known as a closure.\n",
        "\n",
        "\n",
        "A Closure is a function object that remembers values in enclosing scopes even if they are not present in memory.\n",
        "\n",
        "1. There must be a nested function\n",
        "\n",
        "2. The inner function has to refer to a value that is defined in the enclosing scope\n",
        "\n",
        "3. The enclosing function has to return the nested function\n",
        "\n",
        "\n",
        "* It is a record that stores a function together with an environment: a mapping associating each free variable of the function (variables that are used locally, but defined in an enclosing scope) with the value or reference to which the name was bound when the closure was created.\n",
        "* A closure—unlike a plain function—allows the function to access those captured variables through the closure’s copies of their values or references, even when the function is invoked outside their scope.\n",
        "filter_none."
      ],
      "metadata": {
        "id": "vOh8ihrThIaH"
      }
    },
    {
      "cell_type": "code",
      "source": [
        "# powers.py\n",
        "\n",
        "def generate_power(exponent):\n",
        "    def power(base):\n",
        "        return base ** exponent\n",
        "    return power\n",
        "\n",
        "\n",
        "\"\"\"\n",
        "\n",
        "Here’s what’s happening in this function:\n",
        "\n",
        "Line 3 creates generate_power(), which is a closure factory function. This means that it creates a new closure each time it’s called and then returns it to the caller.\n",
        "Line 4 defines power(), which is an inner function that takes a single argument, base, and returns the result of the expression base ** exponent.\n",
        "Line 6 returns power as a function object, without calling it.\n",
        "\n",
        "\n",
        "\n",
        "\n",
        "\"\"\""
      ],
      "metadata": {
        "colab": {
          "base_uri": "https://localhost:8080/",
          "height": 88
        },
        "id": "6V3CRor6fvXp",
        "outputId": "d0a065a2-4fb7-4aa6-def2-82bf9c3d5291"
      },
      "execution_count": 155,
      "outputs": [
        {
          "output_type": "execute_result",
          "data": {
            "text/plain": [
              "'\\n\\nHere’s what’s happening in this function:\\n\\nLine 3 creates generate_power(), which is a closure factory function. This means that it creates a new closure each time it’s called and then returns it to the caller.\\nLine 4 defines power(), which is an inner function that takes a single argument, base, and returns the result of the expression base ** exponent.\\nLine 6 returns power as a function object, without calling it.\\n\\n\\n\\n\\n'"
            ],
            "application/vnd.google.colaboratory.intrinsic+json": {
              "type": "string"
            }
          },
          "metadata": {},
          "execution_count": 155
        }
      ]
    },
    {
      "cell_type": "markdown",
      "source": [
        "So, the closure forces the nested function, when called, to save the state of its environment. That is, the closure is not only the internal function itself but also the environment."
      ],
      "metadata": {
        "id": "VdHksCkUfwFF"
      }
    },
    {
      "cell_type": "code",
      "source": [
        "# inner_function(5)"
      ],
      "metadata": {
        "id": "30INQxUTV_kM"
      },
      "execution_count": 156,
      "outputs": []
    },
    {
      "cell_type": "code",
      "source": [
        "def make_show_progress(exclamation):\n",
        "  def _inner(epoch):\n",
        "    print(f\"\\n{exclamation}! We've finished epoch {epoch}!\")\n",
        "  return _inner\n",
        "\n",
        "slow_calculation(make_show_progress(\"Niiice!! \"))"
      ],
      "metadata": {
        "colab": {
          "base_uri": "https://localhost:8080/"
        },
        "id": "PvKLGRxuV_m-",
        "outputId": "34c355d1-8b28-47d6-bf83-a01deb983eba"
      },
      "execution_count": 157,
      "outputs": [
        {
          "output_type": "stream",
          "name": "stderr",
          "text": [
            " 20%|██        | 1/5 [00:01<00:04,  1.00s/it]"
          ]
        },
        {
          "output_type": "stream",
          "name": "stdout",
          "text": [
            "\n",
            "Niiice!! ! We've finished epoch 0!\n"
          ]
        },
        {
          "output_type": "stream",
          "name": "stderr",
          "text": [
            "\r 40%|████      | 2/5 [00:02<00:03,  1.00s/it]"
          ]
        },
        {
          "output_type": "stream",
          "name": "stdout",
          "text": [
            "\n",
            "Niiice!! ! We've finished epoch 1!\n"
          ]
        },
        {
          "output_type": "stream",
          "name": "stderr",
          "text": [
            "\r 60%|██████    | 3/5 [00:03<00:02,  1.00s/it]"
          ]
        },
        {
          "output_type": "stream",
          "name": "stdout",
          "text": [
            "\n",
            "Niiice!! ! We've finished epoch 2!\n"
          ]
        },
        {
          "output_type": "stream",
          "name": "stderr",
          "text": [
            "\r 80%|████████  | 4/5 [00:04<00:01,  1.00s/it]"
          ]
        },
        {
          "output_type": "stream",
          "name": "stdout",
          "text": [
            "\n",
            "Niiice!! ! We've finished epoch 3!\n"
          ]
        },
        {
          "output_type": "stream",
          "name": "stderr",
          "text": [
            "100%|██████████| 5/5 [00:05<00:00,  1.00s/it]"
          ]
        },
        {
          "output_type": "stream",
          "name": "stdout",
          "text": [
            "\n",
            "Niiice!! ! We've finished epoch 4!\n"
          ]
        },
        {
          "output_type": "stream",
          "name": "stderr",
          "text": [
            "\n"
          ]
        },
        {
          "output_type": "execute_result",
          "data": {
            "text/plain": [
              "30"
            ]
          },
          "metadata": {},
          "execution_count": 157
        }
      ]
    },
    {
      "cell_type": "code",
      "source": [
        "def make_show_progress(exclamation):\n",
        "  return lambda epoch: print(f\"\\n{exclamation}! We've finished epoch {epoch}!\")\n",
        "\n",
        "slow_calculation(make_show_progress(\"Nice!! \"))"
      ],
      "metadata": {
        "colab": {
          "base_uri": "https://localhost:8080/"
        },
        "id": "PIS9QU6vpdZF",
        "outputId": "e451d7da-0ab3-4c07-c3e0-5cbddabe1aec"
      },
      "execution_count": 158,
      "outputs": [
        {
          "output_type": "stream",
          "name": "stderr",
          "text": [
            " 20%|██        | 1/5 [00:01<00:04,  1.00s/it]"
          ]
        },
        {
          "output_type": "stream",
          "name": "stdout",
          "text": [
            "\n",
            "Nice!! ! We've finished epoch 0!\n"
          ]
        },
        {
          "output_type": "stream",
          "name": "stderr",
          "text": [
            "\r 40%|████      | 2/5 [00:02<00:03,  1.00s/it]"
          ]
        },
        {
          "output_type": "stream",
          "name": "stdout",
          "text": [
            "\n",
            "Nice!! ! We've finished epoch 1!\n"
          ]
        },
        {
          "output_type": "stream",
          "name": "stderr",
          "text": [
            "\r 60%|██████    | 3/5 [00:03<00:02,  1.00s/it]"
          ]
        },
        {
          "output_type": "stream",
          "name": "stdout",
          "text": [
            "\n",
            "Nice!! ! We've finished epoch 2!\n"
          ]
        },
        {
          "output_type": "stream",
          "name": "stderr",
          "text": [
            "\r 80%|████████  | 4/5 [00:04<00:01,  1.00s/it]"
          ]
        },
        {
          "output_type": "stream",
          "name": "stdout",
          "text": [
            "\n",
            "Nice!! ! We've finished epoch 3!\n"
          ]
        },
        {
          "output_type": "stream",
          "name": "stderr",
          "text": [
            "100%|██████████| 5/5 [00:05<00:00,  1.00s/it]"
          ]
        },
        {
          "output_type": "stream",
          "name": "stdout",
          "text": [
            "\n",
            "Nice!! ! We've finished epoch 4!\n"
          ]
        },
        {
          "output_type": "stream",
          "name": "stderr",
          "text": [
            "\n"
          ]
        },
        {
          "output_type": "execute_result",
          "data": {
            "text/plain": [
              "30"
            ]
          },
          "metadata": {},
          "execution_count": 158
        }
      ]
    },
    {
      "cell_type": "code",
      "source": [
        "# slow_calculation??"
      ],
      "metadata": {
        "id": "HoE8JEC6V_pb"
      },
      "execution_count": 159,
      "outputs": []
    },
    {
      "cell_type": "code",
      "source": [],
      "metadata": {
        "id": "cPdVRO5CV_r3"
      },
      "execution_count": 159,
      "outputs": []
    },
    {
      "cell_type": "code",
      "source": [
        "show_progress??"
      ],
      "metadata": {
        "id": "oO3f0fdNqS6Z"
      },
      "execution_count": 160,
      "outputs": []
    },
    {
      "cell_type": "markdown",
      "source": [
        "#### Partial\n",
        "we can do same thing with partiak"
      ],
      "metadata": {
        "id": "qAQSeFvHqZXM"
      }
    },
    {
      "cell_type": "code",
      "source": [
        "from functools import partial"
      ],
      "metadata": {
        "id": "q5I5KuyvV_uO"
      },
      "execution_count": 161,
      "outputs": []
    },
    {
      "cell_type": "code",
      "source": [
        "slow_calculation(partial(show_progress, \"OK I guess\"))  # passing first parameter"
      ],
      "metadata": {
        "colab": {
          "base_uri": "https://localhost:8080/"
        },
        "id": "Vi6kcVxMqOj4",
        "outputId": "b3ff021e-17ad-41ff-e945-783006667968"
      },
      "execution_count": 162,
      "outputs": [
        {
          "output_type": "stream",
          "name": "stderr",
          "text": [
            " 20%|██        | 1/5 [00:01<00:04,  1.00s/it]"
          ]
        },
        {
          "output_type": "stream",
          "name": "stdout",
          "text": [
            "\n",
            "OK I guess! We've finished epoch 0.\n"
          ]
        },
        {
          "output_type": "stream",
          "name": "stderr",
          "text": [
            "\r 40%|████      | 2/5 [00:02<00:03,  1.00s/it]"
          ]
        },
        {
          "output_type": "stream",
          "name": "stdout",
          "text": [
            "\n",
            "OK I guess! We've finished epoch 1.\n"
          ]
        },
        {
          "output_type": "stream",
          "name": "stderr",
          "text": [
            "\r 60%|██████    | 3/5 [00:03<00:02,  1.00s/it]"
          ]
        },
        {
          "output_type": "stream",
          "name": "stdout",
          "text": [
            "\n",
            "OK I guess! We've finished epoch 2.\n"
          ]
        },
        {
          "output_type": "stream",
          "name": "stderr",
          "text": [
            "\r 80%|████████  | 4/5 [00:04<00:01,  1.00s/it]"
          ]
        },
        {
          "output_type": "stream",
          "name": "stdout",
          "text": [
            "\n",
            "OK I guess! We've finished epoch 3.\n"
          ]
        },
        {
          "output_type": "stream",
          "name": "stderr",
          "text": [
            "100%|██████████| 5/5 [00:05<00:00,  1.00s/it]"
          ]
        },
        {
          "output_type": "stream",
          "name": "stdout",
          "text": [
            "\n",
            "OK I guess! We've finished epoch 4.\n"
          ]
        },
        {
          "output_type": "stream",
          "name": "stderr",
          "text": [
            "\n"
          ]
        },
        {
          "output_type": "execute_result",
          "data": {
            "text/plain": [
              "30"
            ]
          },
          "metadata": {},
          "execution_count": 162
        }
      ]
    },
    {
      "cell_type": "code",
      "source": [
        "f2 = partial(show_progress, \"Ok I guess\")\n",
        "f2(1001)"
      ],
      "metadata": {
        "colab": {
          "base_uri": "https://localhost:8080/"
        },
        "id": "H8DmKGz0qOml",
        "outputId": "f5dd543b-2088-40c9-8024-e3700c466916"
      },
      "execution_count": 163,
      "outputs": [
        {
          "output_type": "stream",
          "name": "stdout",
          "text": [
            "\n",
            "Ok I guess! We've finished epoch 1001.\n"
          ]
        }
      ]
    },
    {
      "cell_type": "code",
      "source": [
        "show_progress(\"OK I guess\", 1001)"
      ],
      "metadata": {
        "colab": {
          "base_uri": "https://localhost:8080/"
        },
        "id": "k7Fy8i2pqOou",
        "outputId": "6bbe2807-d7e0-479d-e20a-c5dadea00f44"
      },
      "execution_count": 164,
      "outputs": [
        {
          "output_type": "stream",
          "name": "stdout",
          "text": [
            "\n",
            "OK I guess! We've finished epoch 1001.\n"
          ]
        }
      ]
    },
    {
      "cell_type": "code",
      "source": [],
      "metadata": {
        "id": "LtvcxPD4qOrP"
      },
      "execution_count": 164,
      "outputs": []
    },
    {
      "cell_type": "markdown",
      "source": [
        "### Callbacks as callable classes'\n",
        "\n",
        "\n",
        "cb (callable) doesn't have to be a function, so we can also create a callable using __call__"
      ],
      "metadata": {
        "id": "w8vBM0J2rN-N"
      }
    },
    {
      "cell_type": "code",
      "source": [
        "class ProgressShowingCallback():\n",
        "  def __init__(self, exclamation=\"Awesome\"):\n",
        "    self.exclamation = exclamation\n",
        "  def __call__(self, epoch):\n",
        "    print(f\"\\n{self.exclamation}! We've finished epoch{epoch}\")"
      ],
      "metadata": {
        "id": "Qw3iK7ZbqOtn"
      },
      "execution_count": 165,
      "outputs": []
    },
    {
      "cell_type": "code",
      "source": [
        "cb = ProgressShowingCallback(\"Just Super\")\n"
      ],
      "metadata": {
        "id": "YNYl6Qn9rZIe"
      },
      "execution_count": 166,
      "outputs": []
    },
    {
      "cell_type": "code",
      "source": [
        "slow_calculation(cb)"
      ],
      "metadata": {
        "colab": {
          "base_uri": "https://localhost:8080/"
        },
        "id": "551RTZoSrZKc",
        "outputId": "15d1ddc4-a6b9-4402-9fc2-f1fbb6272444"
      },
      "execution_count": 167,
      "outputs": [
        {
          "output_type": "stream",
          "name": "stderr",
          "text": [
            " 20%|██        | 1/5 [00:01<00:04,  1.00s/it]"
          ]
        },
        {
          "output_type": "stream",
          "name": "stdout",
          "text": [
            "\n",
            "Just Super! We've finished epoch0\n"
          ]
        },
        {
          "output_type": "stream",
          "name": "stderr",
          "text": [
            "\r 40%|████      | 2/5 [00:02<00:03,  1.00s/it]"
          ]
        },
        {
          "output_type": "stream",
          "name": "stdout",
          "text": [
            "\n",
            "Just Super! We've finished epoch1\n"
          ]
        },
        {
          "output_type": "stream",
          "name": "stderr",
          "text": [
            "\r 60%|██████    | 3/5 [00:03<00:02,  1.00s/it]"
          ]
        },
        {
          "output_type": "stream",
          "name": "stdout",
          "text": [
            "\n",
            "Just Super! We've finished epoch2\n"
          ]
        },
        {
          "output_type": "stream",
          "name": "stderr",
          "text": [
            "\r 80%|████████  | 4/5 [00:04<00:01,  1.00s/it]"
          ]
        },
        {
          "output_type": "stream",
          "name": "stdout",
          "text": [
            "\n",
            "Just Super! We've finished epoch3\n"
          ]
        },
        {
          "output_type": "stream",
          "name": "stderr",
          "text": [
            "100%|██████████| 5/5 [00:05<00:00,  1.00s/it]"
          ]
        },
        {
          "output_type": "stream",
          "name": "stdout",
          "text": [
            "\n",
            "Just Super! We've finished epoch4\n"
          ]
        },
        {
          "output_type": "stream",
          "name": "stderr",
          "text": [
            "\n"
          ]
        },
        {
          "output_type": "execute_result",
          "data": {
            "text/plain": [
              "30"
            ]
          },
          "metadata": {},
          "execution_count": 167
        }
      ]
    },
    {
      "cell_type": "code",
      "source": [],
      "metadata": {
        "id": "oswxbbBFrZM4"
      },
      "execution_count": 167,
      "outputs": []
    },
    {
      "cell_type": "markdown",
      "source": [
        "## Multiple callback funcs; *args and **kwargs"
      ],
      "metadata": {
        "id": "cA7b3pRXsggY"
      }
    },
    {
      "cell_type": "code",
      "source": [
        "def f(*a, **b):\n",
        "  print(f\"args:{a}; kwargs: {b}\")\n",
        "f(3, 'a', thing1=\"hello\",thing2=\"2hello\")\n"
      ],
      "metadata": {
        "colab": {
          "base_uri": "https://localhost:8080/"
        },
        "id": "Nfq4jKUDrZPM",
        "outputId": "6b69c77a-dc1c-43a0-df13-85cb61d2be02"
      },
      "execution_count": 168,
      "outputs": [
        {
          "output_type": "stream",
          "name": "stdout",
          "text": [
            "args:(3, 'a'); kwargs: {'thing1': 'hello', 'thing2': '2hello'}\n"
          ]
        }
      ]
    },
    {
      "cell_type": "code",
      "source": [
        "def g(a,b,c=0): print(a,b,c)\n",
        "\n",
        "args = [1,2]\n",
        "kwargs = {'c':3}\n",
        "g(*args, **kwargs)   # here all args and kwargs are being extracted too"
      ],
      "metadata": {
        "colab": {
          "base_uri": "https://localhost:8080/"
        },
        "id": "n8zfrUM8rZQu",
        "outputId": "e5fa419f-8739-4b18-c163-ac8c8db6dd78"
      },
      "execution_count": 169,
      "outputs": [
        {
          "output_type": "stream",
          "name": "stdout",
          "text": [
            "1 2 3\n"
          ]
        }
      ]
    },
    {
      "cell_type": "code",
      "source": [
        "g( args, kwargs)  # they are being taken as a=args, b= kwargs, c = 0"
      ],
      "metadata": {
        "colab": {
          "base_uri": "https://localhost:8080/"
        },
        "id": "ywNhr5aIrZSj",
        "outputId": "262c02f4-c03a-4915-f519-97212932d6ea"
      },
      "execution_count": 170,
      "outputs": [
        {
          "output_type": "stream",
          "name": "stdout",
          "text": [
            "[1, 2] {'c': 3} 0\n"
          ]
        }
      ]
    },
    {
      "cell_type": "code",
      "source": [],
      "metadata": {
        "id": "pI__iMmSrZUl"
      },
      "execution_count": 170,
      "outputs": []
    },
    {
      "cell_type": "code",
      "source": [
        "def slow_calculation(cb=None):\n",
        "  res = 0\n",
        "\n",
        "  for i in range(5):\n",
        "    if cb: cb.before_calc(i)\n",
        "    res += i*i\n",
        "    sleep(1)\n",
        "    if cb: cb.after_calc(i, val =res)\n",
        "  return res"
      ],
      "metadata": {
        "id": "NQs9ONArvKyj"
      },
      "execution_count": 171,
      "outputs": []
    },
    {
      "cell_type": "code",
      "source": [
        "class PrintStepCallback():\n",
        "  def __init__(self):\n",
        "    pass\n",
        "  def before_calc(self, *args, **kwargs):\n",
        "    print(f\"About to start\")\n",
        "  def after_calc(self, *args, **kwargs):\n",
        "    print(f\"Done step\")"
      ],
      "metadata": {
        "id": "mbCMyCF0vK0x"
      },
      "execution_count": 172,
      "outputs": []
    },
    {
      "cell_type": "code",
      "source": [
        "slow_calculation(PrintStepCallback())"
      ],
      "metadata": {
        "id": "9OKZjWTAvK3C",
        "outputId": "e17243bf-f718-4ec2-f827-e12377a48e77",
        "colab": {
          "base_uri": "https://localhost:8080/"
        }
      },
      "execution_count": 173,
      "outputs": [
        {
          "metadata": {
            "tags": null
          },
          "name": "stdout",
          "output_type": "stream",
          "text": [
            "About to start\n",
            "Done step\n",
            "About to start\n",
            "Done step\n",
            "About to start\n",
            "Done step\n",
            "About to start\n",
            "Done step\n",
            "About to start\n",
            "Done step\n"
          ]
        },
        {
          "data": {
            "text/plain": [
              "30"
            ]
          },
          "execution_count": 173,
          "metadata": {},
          "output_type": "execute_result"
        }
      ]
    },
    {
      "cell_type": "code",
      "source": [
        "class PrintStatusCallback():\n",
        "    def __init__(self): pass\n",
        "    def before_calc(self, epoch, **kwargs): print(f\"About to start: {epoch}\")\n",
        "    def after_calc (self, epoch, val, **kwargs): print(f\"After {epoch}: {val}\")"
      ],
      "metadata": {
        "id": "TvlKWlnVvK4w"
      },
      "execution_count": 174,
      "outputs": []
    },
    {
      "cell_type": "code",
      "source": [
        "slow_calculation(PrintStatusCallback())"
      ],
      "metadata": {
        "id": "pxNPirsPwNhX",
        "outputId": "5f3c3aba-de4f-4ea5-bad3-90a6daab12f2",
        "colab": {
          "base_uri": "https://localhost:8080/"
        }
      },
      "execution_count": 175,
      "outputs": [
        {
          "output_type": "stream",
          "name": "stdout",
          "text": [
            "About to start: 0\n",
            "After 0: 0\n",
            "About to start: 1\n",
            "After 1: 1\n",
            "About to start: 2\n",
            "After 2: 5\n",
            "About to start: 3\n",
            "After 3: 14\n",
            "About to start: 4\n",
            "After 4: 30\n"
          ]
        },
        {
          "output_type": "execute_result",
          "data": {
            "text/plain": [
              "30"
            ]
          },
          "metadata": {},
          "execution_count": 175
        }
      ]
    },
    {
      "cell_type": "code",
      "source": [],
      "metadata": {
        "id": "iAVPaEBhwNjc"
      },
      "execution_count": 175,
      "outputs": []
    },
    {
      "cell_type": "code",
      "source": [],
      "metadata": {
        "id": "BV6IvTJ9wNmB"
      },
      "execution_count": 175,
      "outputs": []
    },
    {
      "cell_type": "markdown",
      "source": [
        "## __dunder__ thingies\n",
        "Anything that looks like __this__ is, in some way, special. Python, or some library, can define some functions that they will call at certain documented times. For instance, when your class is setting up a new object, python will call __init__. These are defined as part of the python data model.\n",
        "\n",
        "For instance, if python sees +, then it will call the special method __add__. If you try to display an object in Jupyter (or lots of other places in Python) it will call __repr__."
      ],
      "metadata": {
        "id": "eIIcJpJ2wfNr"
      }
    },
    {
      "cell_type": "code",
      "source": [
        "class SloppyAdder():\n",
        "    def __init__(self,o): self.o=o\n",
        "    def __add__(self,b): return SloppyAdder(self.o + b.o + 0.01)\n",
        "    def __repr__(self): return str(self.o)"
      ],
      "metadata": {
        "id": "7u3hvEfEwNo4"
      },
      "execution_count": 176,
      "outputs": []
    },
    {
      "cell_type": "code",
      "source": [
        "\n",
        "a = SloppyAdder(1)\n",
        "b = SloppyAdder(2)\n",
        "a+b"
      ],
      "metadata": {
        "id": "dnXUFgHsw75D",
        "outputId": "637843f0-bbf7-4532-eb8a-304eace31d9c",
        "colab": {
          "base_uri": "https://localhost:8080/"
        }
      },
      "execution_count": 177,
      "outputs": [
        {
          "output_type": "execute_result",
          "data": {
            "text/plain": [
              "3.01"
            ]
          },
          "metadata": {},
          "execution_count": 177
        }
      ]
    },
    {
      "cell_type": "markdown",
      "source": [
        "Special methods you should probably know about (see data model link above) are:\n",
        "\n",
        "* __getitem__\n",
        "* __getattr__\n",
        "* __setattr__\n",
        "* __del__\n",
        "* __init__\n",
        "* __new__\n",
        "* __enter__\n",
        "* __exit__\n",
        "* __len__\n",
        "* __repr__\n",
        "* __str__\n",
        "* __getattr__ and getattr"
      ],
      "metadata": {
        "id": "PYue3-Q2xIEe"
      }
    },
    {
      "cell_type": "code",
      "source": [
        "class A: a,b=1,2"
      ],
      "metadata": {
        "id": "nGPC40w-w78A"
      },
      "execution_count": 178,
      "outputs": []
    },
    {
      "cell_type": "code",
      "source": [
        "a = A()\n"
      ],
      "metadata": {
        "id": "fKiEY4odw7-o"
      },
      "execution_count": 179,
      "outputs": []
    },
    {
      "cell_type": "code",
      "source": [
        "a.a, getattr(a,'a')  # a.b calls getattr"
      ],
      "metadata": {
        "colab": {
          "base_uri": "https://localhost:8080/"
        },
        "id": "jfIdCQNwrZWj",
        "outputId": "74698c18-49ab-4b53-fe04-535b8382da7e"
      },
      "execution_count": 180,
      "outputs": [
        {
          "data": {
            "text/plain": [
              "(1, 1)"
            ]
          },
          "execution_count": 180,
          "metadata": {},
          "output_type": "execute_result"
        }
      ]
    },
    {
      "cell_type": "code",
      "source": [
        "getattr(a, 'b')\n"
      ],
      "metadata": {
        "id": "YaMYXmklxVJ2",
        "outputId": "82dc4f0d-8cb7-433f-c679-2acadb5ad0e1",
        "colab": {
          "base_uri": "https://localhost:8080/"
        }
      },
      "execution_count": 181,
      "outputs": [
        {
          "data": {
            "text/plain": [
              "2"
            ]
          },
          "execution_count": 181,
          "metadata": {},
          "output_type": "execute_result"
        }
      ]
    },
    {
      "cell_type": "code",
      "source": [
        "getattr(a, 'b' if random.random()>0.5 else 'a')\n"
      ],
      "metadata": {
        "id": "ghhJ6Y8sxZtr",
        "outputId": "714a288f-6e43-4467-b7e7-96221e5d0a4e",
        "colab": {
          "base_uri": "https://localhost:8080/"
        }
      },
      "execution_count": 182,
      "outputs": [
        {
          "output_type": "execute_result",
          "data": {
            "text/plain": [
              "2"
            ]
          },
          "metadata": {},
          "execution_count": 182
        }
      ]
    },
    {
      "cell_type": "code",
      "source": [
        "# behind scene , getattr calls __gettattr__\n",
        "\n",
        "class B:\n",
        "    a,b=1001,2002\n",
        "    def __getattr__(self, k):  # it can only be defined for stuff which has not benn defined yet\n",
        "        if k[0]=='_': raise AttributeError(k)  # private or special first character\n",
        "        return f'Hello from {k}'"
      ],
      "metadata": {
        "id": "-8Yv4whHxcsP"
      },
      "execution_count": 183,
      "outputs": []
    },
    {
      "cell_type": "code",
      "source": [
        "b = B()\n"
      ],
      "metadata": {
        "id": "qAuIgEfxxc_P"
      },
      "execution_count": 184,
      "outputs": []
    },
    {
      "cell_type": "code",
      "source": [
        "\n",
        "b.a # give 1001 as defined"
      ],
      "metadata": {
        "id": "mzyM02a7xdBW",
        "outputId": "9188d0ec-2d6e-4825-c79e-dd1b60836953",
        "colab": {
          "base_uri": "https://localhost:8080/"
        }
      },
      "execution_count": 185,
      "outputs": [
        {
          "output_type": "execute_result",
          "data": {
            "text/plain": [
              "1001"
            ]
          },
          "metadata": {},
          "execution_count": 185
        }
      ]
    },
    {
      "cell_type": "code",
      "source": [
        "# foo is not defined\n",
        "b.foo\n"
      ],
      "metadata": {
        "id": "C1vLoV0XxdDl",
        "outputId": "cd6cd29b-0973-4b42-d473-4db55071091a",
        "colab": {
          "base_uri": "https://localhost:8080/",
          "height": 36
        }
      },
      "execution_count": 186,
      "outputs": [
        {
          "output_type": "execute_result",
          "data": {
            "text/plain": [
              "'Hello from foo'"
            ],
            "application/vnd.google.colaboratory.intrinsic+json": {
              "type": "string"
            }
          },
          "metadata": {},
          "execution_count": 186
        }
      ]
    },
    {
      "cell_type": "code",
      "source": [
        "b._a"
      ],
      "metadata": {
        "id": "_H1vWSlNxdF1",
        "outputId": "df03abaa-17e1-4136-c22a-5fec896b44ef",
        "colab": {
          "base_uri": "https://localhost:8080/",
          "height": 279
        }
      },
      "execution_count": 187,
      "outputs": [
        {
          "output_type": "error",
          "ename": "AttributeError",
          "evalue": "_a",
          "traceback": [
            "\u001b[0;31m---------------------------------------------------------------------------\u001b[0m",
            "\u001b[0;31mAttributeError\u001b[0m                            Traceback (most recent call last)",
            "\u001b[0;32m<ipython-input-187-a3bad644a25d>\u001b[0m in \u001b[0;36m<cell line: 1>\u001b[0;34m()\u001b[0m\n\u001b[0;32m----> 1\u001b[0;31m \u001b[0mb\u001b[0m\u001b[0;34m.\u001b[0m\u001b[0m_a\u001b[0m\u001b[0;34m\u001b[0m\u001b[0;34m\u001b[0m\u001b[0m\n\u001b[0m",
            "\u001b[0;32m<ipython-input-183-47541944fab6>\u001b[0m in \u001b[0;36m__getattr__\u001b[0;34m(self, k)\u001b[0m\n\u001b[1;32m      4\u001b[0m     \u001b[0ma\u001b[0m\u001b[0;34m,\u001b[0m\u001b[0mb\u001b[0m\u001b[0;34m=\u001b[0m\u001b[0;36m1001\u001b[0m\u001b[0;34m,\u001b[0m\u001b[0;36m2002\u001b[0m\u001b[0;34m\u001b[0m\u001b[0;34m\u001b[0m\u001b[0m\n\u001b[1;32m      5\u001b[0m     \u001b[0;32mdef\u001b[0m \u001b[0m__getattr__\u001b[0m\u001b[0;34m(\u001b[0m\u001b[0mself\u001b[0m\u001b[0;34m,\u001b[0m \u001b[0mk\u001b[0m\u001b[0;34m)\u001b[0m\u001b[0;34m:\u001b[0m  \u001b[0;31m# it can only be defined for stuff which has not benn defined yet\u001b[0m\u001b[0;34m\u001b[0m\u001b[0;34m\u001b[0m\u001b[0m\n\u001b[0;32m----> 6\u001b[0;31m         \u001b[0;32mif\u001b[0m \u001b[0mk\u001b[0m\u001b[0;34m[\u001b[0m\u001b[0;36m0\u001b[0m\u001b[0;34m]\u001b[0m\u001b[0;34m==\u001b[0m\u001b[0;34m'_'\u001b[0m\u001b[0;34m:\u001b[0m \u001b[0;32mraise\u001b[0m \u001b[0mAttributeError\u001b[0m\u001b[0;34m(\u001b[0m\u001b[0mk\u001b[0m\u001b[0;34m)\u001b[0m  \u001b[0;31m# private or special first character\u001b[0m\u001b[0;34m\u001b[0m\u001b[0;34m\u001b[0m\u001b[0m\n\u001b[0m\u001b[1;32m      7\u001b[0m         \u001b[0;32mreturn\u001b[0m \u001b[0;34mf'Hello from {k}'\u001b[0m\u001b[0;34m\u001b[0m\u001b[0;34m\u001b[0m\u001b[0m\n",
            "\u001b[0;31mAttributeError\u001b[0m: _a"
          ]
        }
      ]
    },
    {
      "cell_type": "code",
      "source": [],
      "metadata": {
        "id": "UmFayOz2xdHw"
      },
      "execution_count": null,
      "outputs": []
    }
  ]
}