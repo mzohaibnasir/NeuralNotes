{
  "nbformat": 4,
  "nbformat_minor": 0,
  "metadata": {
    "colab": {
      "provenance": [],
      "toc_visible": true,
      "authorship_tag": "ABX9TyNjQ+KFTxeJEFnr0RQ0UIX2",
      "include_colab_link": true
    },
    "kernelspec": {
      "name": "python3",
      "display_name": "Python 3"
    },
    "language_info": {
      "name": "python"
    },
    "widgets": {
      "application/vnd.jupyter.widget-state+json": {
        "2c0428e07d594c89a8d30138ca62c0e7": {
          "model_module": "@jupyter-widgets/controls",
          "model_name": "ButtonModel",
          "model_module_version": "1.5.0",
          "state": {
            "_dom_classes": [],
            "_model_module": "@jupyter-widgets/controls",
            "_model_module_version": "1.5.0",
            "_model_name": "ButtonModel",
            "_view_count": null,
            "_view_module": "@jupyter-widgets/controls",
            "_view_module_version": "1.5.0",
            "_view_name": "ButtonView",
            "button_style": "",
            "description": "Click me!",
            "disabled": false,
            "icon": "",
            "layout": "IPY_MODEL_cc98134cd6f34a729e30bd0965fc1db1",
            "style": "IPY_MODEL_2fab32eca9ab47e5b0ae9bc40a061e1d",
            "tooltip": ""
          }
        },
        "cc98134cd6f34a729e30bd0965fc1db1": {
          "model_module": "@jupyter-widgets/base",
          "model_name": "LayoutModel",
          "model_module_version": "1.2.0",
          "state": {
            "_model_module": "@jupyter-widgets/base",
            "_model_module_version": "1.2.0",
            "_model_name": "LayoutModel",
            "_view_count": null,
            "_view_module": "@jupyter-widgets/base",
            "_view_module_version": "1.2.0",
            "_view_name": "LayoutView",
            "align_content": null,
            "align_items": null,
            "align_self": null,
            "border": null,
            "bottom": null,
            "display": null,
            "flex": null,
            "flex_flow": null,
            "grid_area": null,
            "grid_auto_columns": null,
            "grid_auto_flow": null,
            "grid_auto_rows": null,
            "grid_column": null,
            "grid_gap": null,
            "grid_row": null,
            "grid_template_areas": null,
            "grid_template_columns": null,
            "grid_template_rows": null,
            "height": null,
            "justify_content": null,
            "justify_items": null,
            "left": null,
            "margin": null,
            "max_height": null,
            "max_width": null,
            "min_height": null,
            "min_width": null,
            "object_fit": null,
            "object_position": null,
            "order": null,
            "overflow": null,
            "overflow_x": null,
            "overflow_y": null,
            "padding": null,
            "right": null,
            "top": null,
            "visibility": null,
            "width": null
          }
        },
        "2fab32eca9ab47e5b0ae9bc40a061e1d": {
          "model_module": "@jupyter-widgets/controls",
          "model_name": "ButtonStyleModel",
          "model_module_version": "1.5.0",
          "state": {
            "_model_module": "@jupyter-widgets/controls",
            "_model_module_version": "1.5.0",
            "_model_name": "ButtonStyleModel",
            "_view_count": null,
            "_view_module": "@jupyter-widgets/base",
            "_view_module_version": "1.2.0",
            "_view_name": "StyleView",
            "button_color": null,
            "font_weight": ""
          }
        }
      }
    }
  },
  "cells": [
    {
      "cell_type": "markdown",
      "metadata": {
        "id": "view-in-github",
        "colab_type": "text"
      },
      "source": [
        "<a href=\"https://colab.research.google.com/github/mzohaibnasir/NeuralNotes/blob/main/05_deepDiveIntoBasics.ipynb\" target=\"_parent\"><img src=\"https://colab.research.google.com/assets/colab-badge.svg\" alt=\"Open In Colab\"/></a>"
      ]
    },
    {
      "cell_type": "markdown",
      "source": [
        "# Foundations"
      ],
      "metadata": {
        "id": "X880QKZcLcmQ"
      }
    },
    {
      "cell_type": "code",
      "execution_count": 28,
      "metadata": {
        "id": "28HV3wMGLZcs"
      },
      "outputs": [],
      "source": [
        "import torch\n",
        "import matplotlib.pyplot as plt\n",
        "import random"
      ]
    },
    {
      "cell_type": "markdown",
      "source": [
        "## Callbacks"
      ],
      "metadata": {
        "id": "xtywGSjmLz-H"
      }
    },
    {
      "cell_type": "markdown",
      "source": [
        "### Callbacks as GUI events"
      ],
      "metadata": {
        "id": "eSUW33HGL4sT"
      }
    },
    {
      "cell_type": "code",
      "source": [
        "import ipywidgets as widgets"
      ],
      "metadata": {
        "id": "tE5ATccHLzZG"
      },
      "execution_count": 29,
      "outputs": []
    },
    {
      "cell_type": "markdown",
      "source": [
        "From the ipywidget docs:\n",
        "\n",
        "* the button widget is used to handle mouse clicks. The on_click method of the Button can be used to register function to be called when the button is clicked"
      ],
      "metadata": {
        "id": "kCaTui7iMdBj"
      }
    },
    {
      "cell_type": "code",
      "source": [
        "w = widgets.Button(description='Click me!')"
      ],
      "metadata": {
        "id": "Rfga1_EFLrIm"
      },
      "execution_count": 30,
      "outputs": []
    },
    {
      "cell_type": "code",
      "source": [
        "w"
      ],
      "metadata": {
        "colab": {
          "base_uri": "https://localhost:8080/",
          "height": 49,
          "referenced_widgets": [
            "2c0428e07d594c89a8d30138ca62c0e7",
            "cc98134cd6f34a729e30bd0965fc1db1",
            "2fab32eca9ab47e5b0ae9bc40a061e1d"
          ]
        },
        "id": "0R_kPyDyLrK_",
        "outputId": "2ef4e397-f9b6-4e5e-a23e-8c1ac294e610"
      },
      "execution_count": 19,
      "outputs": [
        {
          "output_type": "display_data",
          "data": {
            "text/plain": [
              "Button(description='Click me!', style=ButtonStyle())"
            ],
            "application/vnd.jupyter.widget-view+json": {
              "version_major": 2,
              "version_minor": 0,
              "model_id": "2c0428e07d594c89a8d30138ca62c0e7"
            }
          },
          "metadata": {}
        }
      ]
    },
    {
      "cell_type": "code",
      "source": [
        "def f(o):\n",
        "  print(\"hi\")"
      ],
      "metadata": {
        "id": "dvn9L1qBLrM8"
      },
      "execution_count": 31,
      "outputs": []
    },
    {
      "cell_type": "code",
      "source": [
        "w.on_click(f)  # NB: When callbacks are used in this way they are often called \"events\"."
      ],
      "metadata": {
        "id": "pawY-IR3LrPD"
      },
      "execution_count": 32,
      "outputs": []
    },
    {
      "cell_type": "markdown",
      "source": [
        "### Creating your own callback"
      ],
      "metadata": {
        "id": "Sx_ziMJjNAwu"
      }
    },
    {
      "cell_type": "code",
      "source": [
        "from time import sleep\n",
        "from tqdm import tqdm\n"
      ],
      "metadata": {
        "id": "EAu8uVpeLrRI"
      },
      "execution_count": 33,
      "outputs": []
    },
    {
      "cell_type": "code",
      "source": [
        "def slow_calculation():\n",
        "  res = 0\n",
        "  for i in tqdm(range(5)):\n",
        "    res += i*i\n",
        "    sleep(1)\n",
        "  return res\n",
        "slow_calculation()"
      ],
      "metadata": {
        "colab": {
          "base_uri": "https://localhost:8080/"
        },
        "id": "BzTnHgF5LrTW",
        "outputId": "0779af49-5626-432d-91e0-2728e2f6787f"
      },
      "execution_count": 23,
      "outputs": [
        {
          "output_type": "stream",
          "name": "stderr",
          "text": [
            "100%|██████████| 5/5 [00:05<00:00,  1.00s/it]\n"
          ]
        },
        {
          "output_type": "execute_result",
          "data": {
            "text/plain": [
              "30"
            ]
          },
          "metadata": {},
          "execution_count": 23
        }
      ]
    },
    {
      "cell_type": "code",
      "source": [
        "def slow_calculation(cb=None):\n",
        "  res =0\n",
        "  for i in tqdm(range(5)):\n",
        "    res+= i*i\n",
        "    sleep(1)\n",
        "    if cb: cb(i) # if callback, then call it\n",
        "  return res"
      ],
      "metadata": {
        "id": "ocFGssnRLrVd"
      },
      "execution_count": 24,
      "outputs": []
    },
    {
      "cell_type": "code",
      "source": [
        "def show_progress(epoch):\n",
        "  print(f\"\\nAwesome! We've finished epoch {epoch}\")"
      ],
      "metadata": {
        "id": "gsrpQE9lLrXn"
      },
      "execution_count": 25,
      "outputs": []
    },
    {
      "cell_type": "code",
      "source": [
        "slow_calculation(show_progress)"
      ],
      "metadata": {
        "colab": {
          "base_uri": "https://localhost:8080/"
        },
        "id": "zS0j8PM-LrZP",
        "outputId": "575e0ecb-c8f7-4069-8071-ae071026aa46"
      },
      "execution_count": 26,
      "outputs": [
        {
          "output_type": "stream",
          "name": "stderr",
          "text": [
            " 20%|██        | 1/5 [00:01<00:04,  1.00s/it]"
          ]
        },
        {
          "output_type": "stream",
          "name": "stdout",
          "text": [
            "\n",
            "Awesome! We've finished epoch 0\n"
          ]
        },
        {
          "output_type": "stream",
          "name": "stderr",
          "text": [
            "\r 40%|████      | 2/5 [00:02<00:03,  1.00s/it]"
          ]
        },
        {
          "output_type": "stream",
          "name": "stdout",
          "text": [
            "\n",
            "Awesome! We've finished epoch 1\n"
          ]
        },
        {
          "output_type": "stream",
          "name": "stderr",
          "text": [
            "\r 60%|██████    | 3/5 [00:03<00:02,  1.00s/it]"
          ]
        },
        {
          "output_type": "stream",
          "name": "stdout",
          "text": [
            "\n",
            "Awesome! We've finished epoch 2\n"
          ]
        },
        {
          "output_type": "stream",
          "name": "stderr",
          "text": [
            "\r 80%|████████  | 4/5 [00:04<00:01,  1.00s/it]"
          ]
        },
        {
          "output_type": "stream",
          "name": "stdout",
          "text": [
            "\n",
            "Awesome! We've finished epoch 3\n"
          ]
        },
        {
          "output_type": "stream",
          "name": "stderr",
          "text": [
            "100%|██████████| 5/5 [00:05<00:00,  1.00s/it]"
          ]
        },
        {
          "output_type": "stream",
          "name": "stdout",
          "text": [
            "\n",
            "Awesome! We've finished epoch 4\n"
          ]
        },
        {
          "output_type": "stream",
          "name": "stderr",
          "text": [
            "\n"
          ]
        },
        {
          "output_type": "execute_result",
          "data": {
            "text/plain": [
              "30"
            ]
          },
          "metadata": {},
          "execution_count": 26
        }
      ]
    },
    {
      "cell_type": "markdown",
      "source": [
        "### lambdas and partials"
      ],
      "metadata": {
        "id": "xbCbv8gyPyh0"
      }
    },
    {
      "cell_type": "code",
      "source": [
        "slow_calculation(lambda o : print(f\"\\nAwesome! We've finished epoch {o}\"))"
      ],
      "metadata": {
        "colab": {
          "base_uri": "https://localhost:8080/"
        },
        "id": "C98kzm_pLraT",
        "outputId": "0fe20977-4e42-4b9f-a394-653c6b365f78"
      },
      "execution_count": 27,
      "outputs": [
        {
          "output_type": "stream",
          "name": "stderr",
          "text": [
            " 20%|██        | 1/5 [00:01<00:04,  1.00s/it]"
          ]
        },
        {
          "output_type": "stream",
          "name": "stdout",
          "text": [
            "\n",
            "Awesome! We've finished epoch 0\n"
          ]
        },
        {
          "output_type": "stream",
          "name": "stderr",
          "text": [
            "\r 40%|████      | 2/5 [00:02<00:03,  1.00s/it]"
          ]
        },
        {
          "output_type": "stream",
          "name": "stdout",
          "text": [
            "\n",
            "Awesome! We've finished epoch 1\n"
          ]
        },
        {
          "output_type": "stream",
          "name": "stderr",
          "text": [
            "\r 60%|██████    | 3/5 [00:03<00:02,  1.00s/it]"
          ]
        },
        {
          "output_type": "stream",
          "name": "stdout",
          "text": [
            "\n",
            "Awesome! We've finished epoch 2\n"
          ]
        },
        {
          "output_type": "stream",
          "name": "stderr",
          "text": [
            "\r 80%|████████  | 4/5 [00:04<00:01,  1.00s/it]"
          ]
        },
        {
          "output_type": "stream",
          "name": "stdout",
          "text": [
            "\n",
            "Awesome! We've finished epoch 3\n"
          ]
        },
        {
          "output_type": "stream",
          "name": "stderr",
          "text": [
            "100%|██████████| 5/5 [00:05<00:00,  1.00s/it]"
          ]
        },
        {
          "output_type": "stream",
          "name": "stdout",
          "text": [
            "\n",
            "Awesome! We've finished epoch 4\n"
          ]
        },
        {
          "output_type": "stream",
          "name": "stderr",
          "text": [
            "\n"
          ]
        },
        {
          "output_type": "execute_result",
          "data": {
            "text/plain": [
              "30"
            ]
          },
          "metadata": {},
          "execution_count": 27
        }
      ]
    },
    {
      "cell_type": "code",
      "source": [
        "\n",
        "def slow_calculationV2(emotion=[], cb=None):\n",
        "  res =0\n",
        "  for i in tqdm(range(5)):\n",
        "    res+= i*i\n",
        "    sleep(1)\n",
        "    if cb: cb(emotion[i], i)\n",
        "  return res\n",
        "\n",
        "\n",
        "\n",
        "emotion=[\"Happily\", \"Sadly\", \"Manly\", \"Womanly\", \"Childly\"]\n",
        "slow_calculationV2(emotion, lambda e,o: print(f\"\\n {e} We've finished epoch {o}\"))"
      ],
      "metadata": {
        "id": "fAuwWaquQxQx",
        "colab": {
          "base_uri": "https://localhost:8080/"
        },
        "outputId": "7d570240-ea6d-4798-cf73-98cde0b5ed63"
      },
      "execution_count": 42,
      "outputs": [
        {
          "output_type": "stream",
          "name": "stderr",
          "text": [
            " 20%|██        | 1/5 [00:01<00:04,  1.00s/it]"
          ]
        },
        {
          "output_type": "stream",
          "name": "stdout",
          "text": [
            "\n",
            " Happily We've finished epoch 0\n"
          ]
        },
        {
          "output_type": "stream",
          "name": "stderr",
          "text": [
            "\r 40%|████      | 2/5 [00:02<00:03,  1.00s/it]"
          ]
        },
        {
          "output_type": "stream",
          "name": "stdout",
          "text": [
            "\n",
            " Sadly We've finished epoch 1\n"
          ]
        },
        {
          "output_type": "stream",
          "name": "stderr",
          "text": [
            "\r 60%|██████    | 3/5 [00:03<00:02,  1.00s/it]"
          ]
        },
        {
          "output_type": "stream",
          "name": "stdout",
          "text": [
            "\n",
            " Manly We've finished epoch 2\n"
          ]
        },
        {
          "output_type": "stream",
          "name": "stderr",
          "text": [
            "\r 80%|████████  | 4/5 [00:04<00:01,  1.00s/it]"
          ]
        },
        {
          "output_type": "stream",
          "name": "stdout",
          "text": [
            "\n",
            " Womanly We've finished epoch 3\n"
          ]
        },
        {
          "output_type": "stream",
          "name": "stderr",
          "text": [
            "100%|██████████| 5/5 [00:05<00:00,  1.00s/it]"
          ]
        },
        {
          "output_type": "stream",
          "name": "stdout",
          "text": [
            "\n",
            " Childly We've finished epoch 4\n"
          ]
        },
        {
          "output_type": "stream",
          "name": "stderr",
          "text": [
            "\n"
          ]
        },
        {
          "output_type": "execute_result",
          "data": {
            "text/plain": [
              "30"
            ]
          },
          "metadata": {},
          "execution_count": 42
        }
      ]
    },
    {
      "cell_type": "code",
      "source": [],
      "metadata": {
        "id": "txoYXv52LrcX"
      },
      "execution_count": 34,
      "outputs": []
    },
    {
      "cell_type": "code",
      "source": [
        "def show_progress(exclamation, epoch):\n",
        "  print(f\"\\n{exclamation}! We've finished epoch {epoch}.\")\n",
        "\n",
        "slow_calculation(lambda o: show_progress(\"Exclaimed!\" , o))"
      ],
      "metadata": {
        "colab": {
          "base_uri": "https://localhost:8080/"
        },
        "id": "bKiIS-HlLrfL",
        "outputId": "e549f1d0-ec55-41cc-89b4-3d5184d221b5"
      },
      "execution_count": 46,
      "outputs": [
        {
          "output_type": "stream",
          "name": "stderr",
          "text": [
            " 20%|██        | 1/5 [00:01<00:04,  1.00s/it]"
          ]
        },
        {
          "output_type": "stream",
          "name": "stdout",
          "text": [
            "\n",
            "Exclaimed!! We've finished epoch 0.\n"
          ]
        },
        {
          "output_type": "stream",
          "name": "stderr",
          "text": [
            "\r 40%|████      | 2/5 [00:02<00:03,  1.00s/it]"
          ]
        },
        {
          "output_type": "stream",
          "name": "stdout",
          "text": [
            "\n",
            "Exclaimed!! We've finished epoch 1.\n"
          ]
        },
        {
          "output_type": "stream",
          "name": "stderr",
          "text": [
            "\r 60%|██████    | 3/5 [00:03<00:02,  1.00s/it]"
          ]
        },
        {
          "output_type": "stream",
          "name": "stdout",
          "text": [
            "\n",
            "Exclaimed!! We've finished epoch 2.\n"
          ]
        },
        {
          "output_type": "stream",
          "name": "stderr",
          "text": [
            "\r 80%|████████  | 4/5 [00:04<00:01,  1.00s/it]"
          ]
        },
        {
          "output_type": "stream",
          "name": "stdout",
          "text": [
            "\n",
            "Exclaimed!! We've finished epoch 3.\n"
          ]
        },
        {
          "output_type": "stream",
          "name": "stderr",
          "text": [
            "100%|██████████| 5/5 [00:05<00:00,  1.00s/it]"
          ]
        },
        {
          "output_type": "stream",
          "name": "stdout",
          "text": [
            "\n",
            "Exclaimed!! We've finished epoch 4.\n"
          ]
        },
        {
          "output_type": "stream",
          "name": "stderr",
          "text": [
            "\n"
          ]
        },
        {
          "output_type": "execute_result",
          "data": {
            "text/plain": [
              "30"
            ]
          },
          "metadata": {},
          "execution_count": 46
        }
      ]
    },
    {
      "cell_type": "code",
      "source": [
        "# nested\n",
        "\n",
        "def outer_function(x):\n",
        "    def inner_function(y):  # Variables defined in the outer function are accessible to the inner function, but not vice versa. # its sort of prvt fn\n",
        "        return x + y\n",
        "\n",
        "    result = inner_function(10)\n",
        "    return result\n",
        "\n",
        "output = outer_function(5)\n",
        "print(output)  # Output: 15"
      ],
      "metadata": {
        "id": "7nJZw1CdSQiU",
        "colab": {
          "base_uri": "https://localhost:8080/"
        },
        "outputId": "6fb7bdbe-0ed0-4d98-bec1-74765337d359"
      },
      "execution_count": 54,
      "outputs": [
        {
          "output_type": "stream",
          "name": "stdout",
          "text": [
            "15\n"
          ]
        }
      ]
    },
    {
      "cell_type": "markdown",
      "source": [
        "#### Higher-order functions\n",
        "are functions that operate on other functions by taking them as arguments, returning them, or both.\n",
        "\n",
        "closure factory functions. Closures are dynamically created functions that are returned by other functions. Their main feature is that they have full access to the variables and names defined in the local namespace where the closure was created, even though the enclosing function has returned and finished executing.\n",
        "\n",
        "In Python, when you return an inner function object, the interpreter packs the function along with its containing environment or closure. The function object keeps a snapshot of all the variables and names defined in its containing scope. To define a closure, you need to take three steps:\n",
        "\n",
        "Create an inner function.\n",
        "Reference variables from the enclosing function.\n",
        "Return the inner function.\n",
        "\n",
        "\n",
        "##### Retaining State in a Closure\n",
        "A closure causes the inner function to retain the state of its environment when called. The closure isn’t the inner function itself but the inner function along with its enclosing environment. The closure captures the local variables and name in the containing function and keeps them around."
      ],
      "metadata": {
        "id": "QYXqWbtzea2z"
      }
    },
    {
      "cell_type": "markdown",
      "source": [
        "But what would happen if the outer function returns the inner function itself, rather than calling it like in the example above? In that case you would have what's known as a closure.\n",
        "\n",
        "\n",
        "A Closure is a function object that remembers values in enclosing scopes even if they are not present in memory.\n",
        "\n",
        "1. There must be a nested function\n",
        "\n",
        "2. The inner function has to refer to a value that is defined in the enclosing scope\n",
        "\n",
        "3. The enclosing function has to return the nested function\n",
        "\n",
        "\n",
        "* It is a record that stores a function together with an environment: a mapping associating each free variable of the function (variables that are used locally, but defined in an enclosing scope) with the value or reference to which the name was bound when the closure was created.\n",
        "* A closure—unlike a plain function—allows the function to access those captured variables through the closure’s copies of their values or references, even when the function is invoked outside their scope.\n",
        "filter_none."
      ],
      "metadata": {
        "id": "vOh8ihrThIaH"
      }
    },
    {
      "cell_type": "code",
      "source": [
        "# powers.py\n",
        "\n",
        "def generate_power(exponent):\n",
        "    def power(base):\n",
        "        return base ** exponent\n",
        "    return power\n",
        "\n",
        "\n",
        "\"\"\"\n",
        "\n",
        "Here’s what’s happening in this function:\n",
        "\n",
        "Line 3 creates generate_power(), which is a closure factory function. This means that it creates a new closure each time it’s called and then returns it to the caller.\n",
        "Line 4 defines power(), which is an inner function that takes a single argument, base, and returns the result of the expression base ** exponent.\n",
        "Line 6 returns power as a function object, without calling it.\n",
        "\n",
        "\n",
        "\n",
        "\n",
        "\"\"\""
      ],
      "metadata": {
        "id": "6V3CRor6fvXp"
      },
      "execution_count": null,
      "outputs": []
    },
    {
      "cell_type": "markdown",
      "source": [
        "So, the closure forces the nested function, when called, to save the state of its environment. That is, the closure is not only the internal function itself but also the environment."
      ],
      "metadata": {
        "id": "VdHksCkUfwFF"
      }
    },
    {
      "cell_type": "code",
      "source": [
        "# inner_function(5)"
      ],
      "metadata": {
        "id": "30INQxUTV_kM"
      },
      "execution_count": 55,
      "outputs": []
    },
    {
      "cell_type": "code",
      "source": [
        "def make_show_progress(exclamation):\n",
        "  def _inner(epoch):\n",
        "    print(f\"\\n{exclamation}! We've finished epoch {epoch}!\")\n",
        "  return _inner\n",
        "\n",
        "slow_calculation(make_show_progress(\"Niiice!! \"))"
      ],
      "metadata": {
        "colab": {
          "base_uri": "https://localhost:8080/"
        },
        "id": "PvKLGRxuV_m-",
        "outputId": "b66620f0-e55f-48bd-ee6c-f29952a89bcc"
      },
      "execution_count": 65,
      "outputs": [
        {
          "output_type": "stream",
          "name": "stderr",
          "text": [
            " 20%|██        | 1/5 [00:01<00:04,  1.00s/it]"
          ]
        },
        {
          "output_type": "stream",
          "name": "stdout",
          "text": [
            "\n",
            "Niiice!! ! We've finished epoch 0!\n"
          ]
        },
        {
          "output_type": "stream",
          "name": "stderr",
          "text": [
            "\r 40%|████      | 2/5 [00:02<00:03,  1.00s/it]"
          ]
        },
        {
          "output_type": "stream",
          "name": "stdout",
          "text": [
            "\n",
            "Niiice!! ! We've finished epoch 1!\n"
          ]
        },
        {
          "output_type": "stream",
          "name": "stderr",
          "text": [
            "\r 60%|██████    | 3/5 [00:03<00:02,  1.00s/it]"
          ]
        },
        {
          "output_type": "stream",
          "name": "stdout",
          "text": [
            "\n",
            "Niiice!! ! We've finished epoch 2!\n"
          ]
        },
        {
          "output_type": "stream",
          "name": "stderr",
          "text": [
            "\r 80%|████████  | 4/5 [00:04<00:01,  1.00s/it]"
          ]
        },
        {
          "output_type": "stream",
          "name": "stdout",
          "text": [
            "\n",
            "Niiice!! ! We've finished epoch 3!\n"
          ]
        },
        {
          "output_type": "stream",
          "name": "stderr",
          "text": [
            "100%|██████████| 5/5 [00:05<00:00,  1.00s/it]"
          ]
        },
        {
          "output_type": "stream",
          "name": "stdout",
          "text": [
            "\n",
            "Niiice!! ! We've finished epoch 4!\n"
          ]
        },
        {
          "output_type": "stream",
          "name": "stderr",
          "text": [
            "\n"
          ]
        },
        {
          "output_type": "execute_result",
          "data": {
            "text/plain": [
              "30"
            ]
          },
          "metadata": {},
          "execution_count": 65
        }
      ]
    },
    {
      "cell_type": "code",
      "source": [
        "def make_show_progress(exclamation):\n",
        "  return lambda epoch: print(f\"\\n{exclamation}! We've finished epoch {epoch}!\")\n",
        "\n",
        "slow_calculation(make_show_progress(\"Nice!! \"))"
      ],
      "metadata": {
        "id": "PIS9QU6vpdZF"
      },
      "execution_count": null,
      "outputs": []
    },
    {
      "cell_type": "code",
      "source": [
        "# slow_calculation??"
      ],
      "metadata": {
        "id": "HoE8JEC6V_pb"
      },
      "execution_count": 59,
      "outputs": []
    },
    {
      "cell_type": "code",
      "source": [],
      "metadata": {
        "id": "cPdVRO5CV_r3"
      },
      "execution_count": 34,
      "outputs": []
    },
    {
      "cell_type": "code",
      "source": [
        "show_progress??"
      ],
      "metadata": {
        "id": "oO3f0fdNqS6Z"
      },
      "execution_count": 70,
      "outputs": []
    },
    {
      "cell_type": "markdown",
      "source": [
        "#### Partial\n",
        "we can do same thing with partiak"
      ],
      "metadata": {
        "id": "qAQSeFvHqZXM"
      }
    },
    {
      "cell_type": "code",
      "source": [
        "from functools import partial"
      ],
      "metadata": {
        "id": "q5I5KuyvV_uO"
      },
      "execution_count": 67,
      "outputs": []
    },
    {
      "cell_type": "code",
      "source": [
        "slow_calculation(partial(show_progress, \"OK I guess\"))  # passing first parameter"
      ],
      "metadata": {
        "id": "Vi6kcVxMqOj4",
        "outputId": "586f1845-4b81-4782-f74e-6260cac75ca2",
        "colab": {
          "base_uri": "https://localhost:8080/"
        }
      },
      "execution_count": 69,
      "outputs": [
        {
          "output_type": "stream",
          "name": "stderr",
          "text": [
            " 20%|██        | 1/5 [00:01<00:04,  1.00s/it]"
          ]
        },
        {
          "output_type": "stream",
          "name": "stdout",
          "text": [
            "\n",
            "OK I guess! We've finished epoch 0.\n"
          ]
        },
        {
          "output_type": "stream",
          "name": "stderr",
          "text": [
            "\r 40%|████      | 2/5 [00:02<00:03,  1.00s/it]"
          ]
        },
        {
          "output_type": "stream",
          "name": "stdout",
          "text": [
            "\n",
            "OK I guess! We've finished epoch 1.\n"
          ]
        },
        {
          "output_type": "stream",
          "name": "stderr",
          "text": [
            "\r 60%|██████    | 3/5 [00:03<00:02,  1.00s/it]"
          ]
        },
        {
          "output_type": "stream",
          "name": "stdout",
          "text": [
            "\n",
            "OK I guess! We've finished epoch 2.\n"
          ]
        },
        {
          "output_type": "stream",
          "name": "stderr",
          "text": [
            "\r 80%|████████  | 4/5 [00:04<00:01,  1.00s/it]"
          ]
        },
        {
          "output_type": "stream",
          "name": "stdout",
          "text": [
            "\n",
            "OK I guess! We've finished epoch 3.\n"
          ]
        },
        {
          "output_type": "stream",
          "name": "stderr",
          "text": [
            "100%|██████████| 5/5 [00:05<00:00,  1.00s/it]"
          ]
        },
        {
          "output_type": "stream",
          "name": "stdout",
          "text": [
            "\n",
            "OK I guess! We've finished epoch 4.\n"
          ]
        },
        {
          "output_type": "stream",
          "name": "stderr",
          "text": [
            "\n"
          ]
        },
        {
          "output_type": "execute_result",
          "data": {
            "text/plain": [
              "30"
            ]
          },
          "metadata": {},
          "execution_count": 69
        }
      ]
    },
    {
      "cell_type": "code",
      "source": [
        "f2 = partial(show_progress, \"Ok I guess\")\n",
        "f2(1001)"
      ],
      "metadata": {
        "id": "H8DmKGz0qOml",
        "outputId": "fe226664-a761-4675-e44a-eec7bcb378eb",
        "colab": {
          "base_uri": "https://localhost:8080/"
        }
      },
      "execution_count": 72,
      "outputs": [
        {
          "output_type": "stream",
          "name": "stdout",
          "text": [
            "\n",
            "Ok I guess! We've finished epoch 1001.\n"
          ]
        }
      ]
    },
    {
      "cell_type": "code",
      "source": [
        "show_progress(\"OK I guess\", 1001)"
      ],
      "metadata": {
        "id": "k7Fy8i2pqOou",
        "outputId": "45fa58b1-ebda-40ed-858a-a8091709f0e9",
        "colab": {
          "base_uri": "https://localhost:8080/"
        }
      },
      "execution_count": 73,
      "outputs": [
        {
          "output_type": "stream",
          "name": "stdout",
          "text": [
            "\n",
            "OK I guess! We've finished epoch 1001.\n"
          ]
        }
      ]
    },
    {
      "cell_type": "code",
      "source": [],
      "metadata": {
        "id": "LtvcxPD4qOrP"
      },
      "execution_count": null,
      "outputs": []
    },
    {
      "cell_type": "markdown",
      "source": [
        "### Callbacks as callable classes'\n",
        "\n",
        "\n",
        "cb (callable) doesn't have to be a function, so we can also create a callable using __call__"
      ],
      "metadata": {
        "id": "w8vBM0J2rN-N"
      }
    },
    {
      "cell_type": "code",
      "source": [
        "class ProgressShowingCallback():\n",
        "  def __init__(self, exclamation=\"Awesome\"):\n",
        "    self.exclamation = exclamation\n",
        "  def __call__(self, epoch):\n",
        "    print(f\"\\n{self.exclamation}! We've finished epoch{epoch}\")"
      ],
      "metadata": {
        "id": "Qw3iK7ZbqOtn"
      },
      "execution_count": 88,
      "outputs": []
    },
    {
      "cell_type": "code",
      "source": [
        "cb = ProgressShowingCallback(\"Just Super\")\n"
      ],
      "metadata": {
        "id": "YNYl6Qn9rZIe"
      },
      "execution_count": 89,
      "outputs": []
    },
    {
      "cell_type": "code",
      "source": [
        "slow_calculation(cb)"
      ],
      "metadata": {
        "id": "551RTZoSrZKc",
        "outputId": "b9b74b30-b243-432b-ac5d-a6d1365a4cf0",
        "colab": {
          "base_uri": "https://localhost:8080/"
        }
      },
      "execution_count": 90,
      "outputs": [
        {
          "output_type": "stream",
          "name": "stderr",
          "text": [
            " 20%|██        | 1/5 [00:01<00:04,  1.00s/it]"
          ]
        },
        {
          "output_type": "stream",
          "name": "stdout",
          "text": [
            "\n",
            "Just Super! We've finished epoch0\n"
          ]
        },
        {
          "output_type": "stream",
          "name": "stderr",
          "text": [
            "\r 40%|████      | 2/5 [00:02<00:03,  1.00s/it]"
          ]
        },
        {
          "output_type": "stream",
          "name": "stdout",
          "text": [
            "\n",
            "Just Super! We've finished epoch1\n"
          ]
        },
        {
          "output_type": "stream",
          "name": "stderr",
          "text": [
            "\r 60%|██████    | 3/5 [00:03<00:02,  1.00s/it]"
          ]
        },
        {
          "output_type": "stream",
          "name": "stdout",
          "text": [
            "\n",
            "Just Super! We've finished epoch2\n"
          ]
        },
        {
          "output_type": "stream",
          "name": "stderr",
          "text": [
            "\r 80%|████████  | 4/5 [00:04<00:01,  1.00s/it]"
          ]
        },
        {
          "output_type": "stream",
          "name": "stdout",
          "text": [
            "\n",
            "Just Super! We've finished epoch3\n"
          ]
        },
        {
          "output_type": "stream",
          "name": "stderr",
          "text": [
            "100%|██████████| 5/5 [00:05<00:00,  1.00s/it]"
          ]
        },
        {
          "output_type": "stream",
          "name": "stdout",
          "text": [
            "\n",
            "Just Super! We've finished epoch4\n"
          ]
        },
        {
          "output_type": "stream",
          "name": "stderr",
          "text": [
            "\n"
          ]
        },
        {
          "output_type": "execute_result",
          "data": {
            "text/plain": [
              "30"
            ]
          },
          "metadata": {},
          "execution_count": 90
        }
      ]
    },
    {
      "cell_type": "code",
      "source": [],
      "metadata": {
        "id": "oswxbbBFrZM4"
      },
      "execution_count": null,
      "outputs": []
    },
    {
      "cell_type": "markdown",
      "source": [
        "## Multiple callback funcs; *args and **kwargs"
      ],
      "metadata": {
        "id": "cA7b3pRXsggY"
      }
    },
    {
      "cell_type": "code",
      "source": [
        "def f(*a, **b):\n",
        "  print(f\"args:{a}; kwargs: {b}\")\n",
        "f(3, 'a', thing1=\"hello\",thing2=\"2hello\")\n"
      ],
      "metadata": {
        "id": "Nfq4jKUDrZPM",
        "outputId": "159eb7cf-0b99-4d4c-f546-6b6525f39de6",
        "colab": {
          "base_uri": "https://localhost:8080/"
        }
      },
      "execution_count": 95,
      "outputs": [
        {
          "output_type": "stream",
          "name": "stdout",
          "text": [
            "args:(3, 'a'); kwargs: {'thing1': 'hello', 'thing2': '2hello'}\n"
          ]
        }
      ]
    },
    {
      "cell_type": "code",
      "source": [
        "def g(a,b,c=0): print(a,b,c)\n"
      ],
      "metadata": {
        "id": "n8zfrUM8rZQu"
      },
      "execution_count": null,
      "outputs": []
    },
    {
      "cell_type": "code",
      "source": [],
      "metadata": {
        "id": "ywNhr5aIrZSj"
      },
      "execution_count": null,
      "outputs": []
    },
    {
      "cell_type": "code",
      "source": [],
      "metadata": {
        "id": "pI__iMmSrZUl"
      },
      "execution_count": null,
      "outputs": []
    },
    {
      "cell_type": "code",
      "source": [],
      "metadata": {
        "id": "jfIdCQNwrZWj"
      },
      "execution_count": null,
      "outputs": []
    }
  ]
}