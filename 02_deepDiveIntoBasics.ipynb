{
  "nbformat": 4,
  "nbformat_minor": 0,
  "metadata": {
    "colab": {
      "provenance": [],
      "authorship_tag": "ABX9TyMyXJqzJ7Dw8ge5BCLWUFlc",
      "include_colab_link": true
    },
    "kernelspec": {
      "name": "python3",
      "display_name": "Python 3"
    },
    "language_info": {
      "name": "python"
    }
  },
  "cells": [
    {
      "cell_type": "markdown",
      "metadata": {
        "id": "view-in-github",
        "colab_type": "text"
      },
      "source": [
        "<a href=\"https://colab.research.google.com/github/mzohaibnasir/NeuralNotes/blob/main/02_deepDiveIntoBasics.ipynb\" target=\"_parent\"><img src=\"https://colab.research.google.com/assets/colab-badge.svg\" alt=\"Open In Colab\"/></a>"
      ]
    },
    {
      "cell_type": "markdown",
      "source": [
        "# Forward & Backward passes"
      ],
      "metadata": {
        "id": "TLezIimXsc4n"
      }
    },
    {
      "cell_type": "code",
      "source": [
        "from pathlib import Path\n",
        "import pickle , gzip,math, os, time, shutil,matplotlib.pyplot as plt, matplotlib as mpl, numpy as np\n",
        "\n",
        "import torch\n",
        "from torch import tensor\n",
        "from fastcore.test import test_close\n"
      ],
      "metadata": {
        "id": "7vMv98fmsGbt"
      },
      "execution_count": null,
      "outputs": []
    },
    {
      "cell_type": "code",
      "source": [
        "MNIST_URL='https://github.com/mnielsen/neural-networks-and-deep-learning/blob/d15df08a69ed33ae16a2fff874f83b57a956172c/data/mnist.pkl.gz?raw=true'\n",
        "path_data = Path('data')\n",
        "path_data.mkdir(exist_ok=True )\n",
        "path_gz=path_data/'mnist.pkl.gz'\n",
        "path_gz"
      ],
      "metadata": {
        "colab": {
          "base_uri": "https://localhost:8080/"
        },
        "id": "-VwA2QT4sGeG",
        "outputId": "4952b276-7ea0-48cf-ab01-0fb3bf21f352"
      },
      "execution_count": null,
      "outputs": [
        {
          "output_type": "execute_result",
          "data": {
            "text/plain": [
              "PosixPath('data/mnist.pkl.gz')"
            ]
          },
          "metadata": {},
          "execution_count": 32
        }
      ]
    },
    {
      "cell_type": "code",
      "source": [
        "from urllib.request import urlretrieve\n",
        "\n",
        "if not path_gz.exists(): urlretrieve(MNIST_URL, path_gz)"
      ],
      "metadata": {
        "id": "T9mUQv0HuQ-J"
      },
      "execution_count": null,
      "outputs": []
    },
    {
      "cell_type": "code",
      "source": [
        "torch.manual_seed(42)\n",
        "\n",
        "\n",
        "mpl.rcParams['image.cmap'] = 'gray'\n",
        "torch.set_printoptions(precision=2, linewidth=125, sci_mode=False)\n",
        "np.set_printoptions(precision=2, linewidth=125)\n"
      ],
      "metadata": {
        "id": "P0osYjnusGgc"
      },
      "execution_count": null,
      "outputs": []
    },
    {
      "cell_type": "code",
      "source": [
        "!ls -l data"
      ],
      "metadata": {
        "colab": {
          "base_uri": "https://localhost:8080/"
        },
        "id": "_olIsAhKsGi2",
        "outputId": "0c8a2c1c-36d4-409e-9952-1187d38031f3"
      },
      "execution_count": null,
      "outputs": [
        {
          "output_type": "stream",
          "name": "stdout",
          "text": [
            "total 16656\n",
            "-rw-r--r-- 1 root root 17051982 Jan  8 13:21 mnist.pkl.gz\n"
          ]
        }
      ]
    },
    {
      "cell_type": "code",
      "source": [
        "with gzip.open(path_gz, 'rb') as f:   #read as binary as opposed to text\n",
        "   ((x_train,y_train), (x_valid,y_valid), _) = pickle.load(f, encoding='latin-1') #destructuring\n",
        "x_train, y_train, x_valid, y_valid = map(tensor, [x_train, y_train, x_valid, y_valid])"
      ],
      "metadata": {
        "id": "uueXA51Ls_N0"
      },
      "execution_count": null,
      "outputs": []
    },
    {
      "cell_type": "code",
      "source": [
        "np.array(x_train).shape"
      ],
      "metadata": {
        "colab": {
          "base_uri": "https://localhost:8080/"
        },
        "id": "FE0td_KYsLWi",
        "outputId": "ca56b57c-7785-4eec-ec78-df1460ceb50f"
      },
      "execution_count": null,
      "outputs": [
        {
          "output_type": "execute_result",
          "data": {
            "text/plain": [
              "(50000, 784)"
            ]
          },
          "metadata": {},
          "execution_count": 37
        }
      ]
    },
    {
      "cell_type": "code",
      "source": [
        "path_gz"
      ],
      "metadata": {
        "colab": {
          "base_uri": "https://localhost:8080/"
        },
        "id": "2GFh0pcusLYp",
        "outputId": "ddac6e18-74a3-4aab-a379-3c39041fdbb3"
      },
      "execution_count": null,
      "outputs": [
        {
          "output_type": "execute_result",
          "data": {
            "text/plain": [
              "PosixPath('data/mnist.pkl.gz')"
            ]
          },
          "metadata": {},
          "execution_count": 38
        }
      ]
    },
    {
      "cell_type": "code",
      "source": [
        "n,m = x_train.shape  # n: # of training samples   m: pixels\n",
        "c = y_train.max()+1  # posible ouputs\n",
        "n, m, c"
      ],
      "metadata": {
        "colab": {
          "base_uri": "https://localhost:8080/"
        },
        "id": "J2pIXNd0sLay",
        "outputId": "f11a3819-3d12-4a7e-f0d7-91b2631ac08c"
      },
      "execution_count": null,
      "outputs": [
        {
          "output_type": "execute_result",
          "data": {
            "text/plain": [
              "(50000, 784, tensor(10))"
            ]
          },
          "metadata": {},
          "execution_count": 39
        }
      ]
    },
    {
      "cell_type": "code",
      "source": [
        "nh = 50  # hidden activations # # of REctified lines to add up"
      ],
      "metadata": {
        "id": "n-1M5SEisLc5"
      },
      "execution_count": null,
      "outputs": []
    },
    {
      "cell_type": "code",
      "source": [
        "w1 = torch.randn(m, nh)\n",
        "b1 = torch.zeros(nh) # bias\n",
        "w2 = torch.randn(nh,1)  # 1  output\n",
        "b2 = torch.zeros(1)\n",
        "\n",
        "w1.shape, b1.shape,w2.shape, b2.shape"
      ],
      "metadata": {
        "id": "aXRWXKZKsLew",
        "outputId": "f1b93586-a126-4e4c-d027-0b13d478c8ce",
        "colab": {
          "base_uri": "https://localhost:8080/"
        }
      },
      "execution_count": null,
      "outputs": [
        {
          "output_type": "execute_result",
          "data": {
            "text/plain": [
              "(torch.Size([784, 50]), torch.Size([50]), torch.Size([50, 1]), torch.Size([1]))"
            ]
          },
          "metadata": {},
          "execution_count": 41
        }
      ]
    },
    {
      "cell_type": "code",
      "source": [
        "def lin(x, w, b):\n",
        "  print(f\" x:{x.shape} \\n w:{w.shape} \\n b:{b.shape}\")\n",
        "  return x@w + b"
      ],
      "metadata": {
        "id": "fg1HHMn9tePT"
      },
      "execution_count": null,
      "outputs": []
    },
    {
      "cell_type": "code",
      "source": [
        "t = lin(x_valid, w1, b1)\n",
        "t.shape"
      ],
      "metadata": {
        "colab": {
          "base_uri": "https://localhost:8080/"
        },
        "id": "MszEuSjCteRp",
        "outputId": "2b32db8e-3170-4df1-a3de-7c968b1cdec2"
      },
      "execution_count": null,
      "outputs": [
        {
          "output_type": "stream",
          "name": "stdout",
          "text": [
            " x:torch.Size([10000, 784]) \n",
            " w:torch.Size([784, 50]) \n",
            " b:torch.Size([50])\n"
          ]
        },
        {
          "output_type": "execute_result",
          "data": {
            "text/plain": [
              "torch.Size([10000, 50])"
            ]
          },
          "metadata": {},
          "execution_count": 43
        }
      ]
    },
    {
      "cell_type": "code",
      "source": [
        "t"
      ],
      "metadata": {
        "id": "tJWTdnGgteTr",
        "outputId": "66af8faf-f0c3-4aa7-eb51-38ce13660b6b",
        "colab": {
          "base_uri": "https://localhost:8080/"
        }
      },
      "execution_count": null,
      "outputs": [
        {
          "output_type": "execute_result",
          "data": {
            "text/plain": [
              "tensor([[ -0.09,  11.87, -11.39,  ...,   5.48,   2.14,  15.30],\n",
              "        [  5.38,  10.21, -14.49,  ...,   0.88,   0.08,  20.23],\n",
              "        [  3.31,   0.12,   3.10,  ...,  16.89,  -6.05,  24.74],\n",
              "        ...,\n",
              "        [  4.01,  10.35, -11.25,  ...,   0.23,  -5.30,  18.28],\n",
              "        [ 10.62,  -4.27,  10.72,  ...,  -2.87,  -2.87,  18.23],\n",
              "        [  2.84,  -0.22,   1.43,  ...,  -3.91,   5.75,   2.12]])"
            ]
          },
          "metadata": {},
          "execution_count": 44
        }
      ]
    },
    {
      "cell_type": "code",
      "source": [
        "def relu(x):\n",
        "  return x.clamp_min(0.)  # under 0 would be 0\n",
        "\n",
        "\n",
        "t = relu(t)\n",
        "t"
      ],
      "metadata": {
        "id": "32yyqBQCteWO",
        "outputId": "951098d8-948f-49d7-b1f7-5cb398f44951",
        "colab": {
          "base_uri": "https://localhost:8080/"
        }
      },
      "execution_count": null,
      "outputs": [
        {
          "output_type": "execute_result",
          "data": {
            "text/plain": [
              "tensor([[ 0.00, 11.87,  0.00,  ...,  5.48,  2.14, 15.30],\n",
              "        [ 5.38, 10.21,  0.00,  ...,  0.88,  0.08, 20.23],\n",
              "        [ 3.31,  0.12,  3.10,  ..., 16.89,  0.00, 24.74],\n",
              "        ...,\n",
              "        [ 4.01, 10.35,  0.00,  ...,  0.23,  0.00, 18.28],\n",
              "        [10.62,  0.00, 10.72,  ...,  0.00,  0.00, 18.23],\n",
              "        [ 2.84,  0.00,  1.43,  ...,  0.00,  5.75,  2.12]])"
            ]
          },
          "metadata": {},
          "execution_count": 45
        }
      ]
    },
    {
      "cell_type": "code",
      "source": [
        "def model(xb):\n",
        "  l1 = lin(xb, w1, b1)\n",
        "  l2 = relu(l1)\n",
        "  return lin(l2,w2,b2)\n",
        "\n",
        "model(x_valid).shape"
      ],
      "metadata": {
        "id": "QZyCyK2xsLgy",
        "outputId": "ee695280-9385-4f05-b84b-476ffe648543",
        "colab": {
          "base_uri": "https://localhost:8080/"
        }
      },
      "execution_count": null,
      "outputs": [
        {
          "output_type": "stream",
          "name": "stdout",
          "text": [
            " x:torch.Size([10000, 784]) \n",
            " w:torch.Size([784, 50]) \n",
            " b:torch.Size([50])\n",
            " x:torch.Size([10000, 50]) \n",
            " w:torch.Size([50, 1]) \n",
            " b:torch.Size([1])\n"
          ]
        },
        {
          "output_type": "execute_result",
          "data": {
            "text/plain": [
              "torch.Size([10000, 1])"
            ]
          },
          "metadata": {},
          "execution_count": 46
        }
      ]
    },
    {
      "cell_type": "code",
      "source": [
        "res  = model(x_valid)\n",
        "res.shape"
      ],
      "metadata": {
        "id": "ik-1gPNB9xJ9",
        "outputId": "412b08fc-5a96-47d9-a844-d13b4b30eef3",
        "colab": {
          "base_uri": "https://localhost:8080/"
        }
      },
      "execution_count": null,
      "outputs": [
        {
          "output_type": "stream",
          "name": "stdout",
          "text": [
            " x:torch.Size([10000, 784]) \n",
            " w:torch.Size([784, 50]) \n",
            " b:torch.Size([50])\n",
            " x:torch.Size([10000, 50]) \n",
            " w:torch.Size([50, 1]) \n",
            " b:torch.Size([1])\n"
          ]
        },
        {
          "output_type": "execute_result",
          "data": {
            "text/plain": [
              "torch.Size([10000, 1])"
            ]
          },
          "metadata": {},
          "execution_count": 47
        }
      ]
    },
    {
      "cell_type": "code",
      "source": [],
      "metadata": {
        "id": "v-_dTAAs9xL1"
      },
      "execution_count": null,
      "outputs": []
    },
    {
      "cell_type": "markdown",
      "source": [
        "## Loss: MSE\n",
        "ofcourse MSE is not suitable"
      ],
      "metadata": {
        "id": "_T-5ONT--Z3N"
      }
    },
    {
      "cell_type": "code",
      "source": [
        "res.shape, y_valid.shape  # y_valid is to compare with   # 1 in (10000,1) would be first broadcasted to corresponding y_valid first\n",
        "                            # and when it comes 10000 in (10000,1) y_valis's shape becomes (1, 10000); repeating everything"
      ],
      "metadata": {
        "id": "KdV_zdB29xNk",
        "outputId": "76abec66-68f7-4bfa-dc76-1a987bcc5c06",
        "colab": {
          "base_uri": "https://localhost:8080/"
        }
      },
      "execution_count": null,
      "outputs": [
        {
          "output_type": "execute_result",
          "data": {
            "text/plain": [
              "(torch.Size([10000, 1]), torch.Size([10000]))"
            ]
          },
          "metadata": {},
          "execution_count": 48
        }
      ]
    },
    {
      "cell_type": "code",
      "source": [
        "(res - y_valid).shape  # each element in res's distance to each element in y_valid so a matrix"
      ],
      "metadata": {
        "id": "5xA4oMtm9xRF",
        "outputId": "a0b1f3ad-a94c-4769-9674-ab69ff383c9f",
        "colab": {
          "base_uri": "https://localhost:8080/"
        }
      },
      "execution_count": null,
      "outputs": [
        {
          "output_type": "execute_result",
          "data": {
            "text/plain": [
              "torch.Size([10000, 10000])"
            ]
          },
          "metadata": {},
          "execution_count": 49
        }
      ]
    },
    {
      "cell_type": "code",
      "source": [
        "# so make Y-valid shapes (10000, 1)\n",
        "\n",
        "(res - y_valid[:,None]).shape, (res - y_valid[:,None])"
      ],
      "metadata": {
        "id": "oX-sbem39xTN",
        "outputId": "a3031597-5771-41f2-a184-128a351b2d82",
        "colab": {
          "base_uri": "https://localhost:8080/"
        }
      },
      "execution_count": null,
      "outputs": [
        {
          "output_type": "execute_result",
          "data": {
            "text/plain": [
              "(torch.Size([10000, 1]),\n",
              " tensor([[  22.75],\n",
              "         [ -21.06],\n",
              "         [-120.79],\n",
              "         ...,\n",
              "         [ -72.44],\n",
              "         [ -80.48],\n",
              "         [ -68.19]]))"
            ]
          },
          "metadata": {},
          "execution_count": 50
        }
      ]
    },
    {
      "cell_type": "code",
      "source": [
        "(res.squeeze() - y_valid).shape, (res.squeeze() - y_valid)"
      ],
      "metadata": {
        "id": "XqWE-twe9xWA",
        "outputId": "b94cf2b8-2491-457e-b3a7-52394169b960",
        "colab": {
          "base_uri": "https://localhost:8080/"
        }
      },
      "execution_count": null,
      "outputs": [
        {
          "output_type": "execute_result",
          "data": {
            "text/plain": [
              "(torch.Size([10000]),\n",
              " tensor([  22.75,  -21.06, -120.79,  ...,  -72.44,  -80.48,  -68.19]))"
            ]
          },
          "metadata": {},
          "execution_count": 51
        }
      ]
    },
    {
      "cell_type": "code",
      "source": [
        "#or\n",
        "#res[:, 0].shape : extracts first columns\n",
        "#res[0,:].shape : extracts first row\n",
        "\n",
        "\n",
        "res.shape, res[:, 0].shape, res[0,:].shape"
      ],
      "metadata": {
        "id": "Jo12Z1GbATJc",
        "outputId": "a09170a6-b74c-4e5e-e359-7858c576c8e6",
        "colab": {
          "base_uri": "https://localhost:8080/"
        }
      },
      "execution_count": null,
      "outputs": [
        {
          "output_type": "execute_result",
          "data": {
            "text/plain": [
              "(torch.Size([10000, 1]), torch.Size([10000]), torch.Size([1]))"
            ]
          },
          "metadata": {},
          "execution_count": 52
        }
      ]
    },
    {
      "cell_type": "code",
      "source": [
        "res.shape, res[None, : , None].shape, (res[None, : , None]).squeeze().shape"
      ],
      "metadata": {
        "id": "WJR1MGUgAi4s",
        "outputId": "c51c6b4c-71e8-4893-d2ff-d96d794f5d36",
        "colab": {
          "base_uri": "https://localhost:8080/"
        }
      },
      "execution_count": null,
      "outputs": [
        {
          "output_type": "execute_result",
          "data": {
            "text/plain": [
              "(torch.Size([10000, 1]), torch.Size([1, 10000, 1, 1]), torch.Size([10000]))"
            ]
          },
          "metadata": {},
          "execution_count": 53
        }
      ]
    },
    {
      "cell_type": "code",
      "source": [
        "# so,\n",
        "\n",
        "(res[:,0] - y_valid).shape"
      ],
      "metadata": {
        "id": "_CYazBijAjeH",
        "outputId": "483f001b-3e74-43ca-d7a0-5f771a323d32",
        "colab": {
          "base_uri": "https://localhost:8080/"
        }
      },
      "execution_count": null,
      "outputs": [
        {
          "output_type": "execute_result",
          "data": {
            "text/plain": [
              "torch.Size([10000])"
            ]
          },
          "metadata": {},
          "execution_count": 54
        }
      ]
    },
    {
      "cell_type": "code",
      "source": [
        "y_train, y_valid = y_train.float(), y_valid.float()\n",
        "\n",
        "preds = model(x_train)\n",
        "preds.shape"
      ],
      "metadata": {
        "id": "xWKTNFF_AjgR",
        "outputId": "0ff52294-dff8-444d-ee3a-076b1b404609",
        "colab": {
          "base_uri": "https://localhost:8080/"
        }
      },
      "execution_count": null,
      "outputs": [
        {
          "output_type": "stream",
          "name": "stdout",
          "text": [
            " x:torch.Size([50000, 784]) \n",
            " w:torch.Size([784, 50]) \n",
            " b:torch.Size([50])\n",
            " x:torch.Size([50000, 50]) \n",
            " w:torch.Size([50, 1]) \n",
            " b:torch.Size([1])\n"
          ]
        },
        {
          "output_type": "execute_result",
          "data": {
            "text/plain": [
              "torch.Size([50000, 1])"
            ]
          },
          "metadata": {},
          "execution_count": 55
        }
      ]
    },
    {
      "cell_type": "code",
      "source": [
        "def mse( output, targ):\n",
        "  print(f\"output: {output.shape}, targ: {targ.shape}\")\n",
        "  return (output[:, 0] - targ).pow(2).mean()\n",
        "\n",
        "mse(preds, y_train)"
      ],
      "metadata": {
        "id": "7uLg4FKoAjia",
        "outputId": "d92571a4-62e8-4700-99b9-d4b943b3bca2",
        "colab": {
          "base_uri": "https://localhost:8080/"
        }
      },
      "execution_count": null,
      "outputs": [
        {
          "output_type": "stream",
          "name": "stdout",
          "text": [
            "output: torch.Size([50000, 1]), targ: torch.Size([50000])\n"
          ]
        },
        {
          "output_type": "execute_result",
          "data": {
            "text/plain": [
              "tensor(4308.76)"
            ]
          },
          "metadata": {},
          "execution_count": 56
        }
      ]
    },
    {
      "cell_type": "code",
      "source": [],
      "metadata": {
        "id": "AW3FCPvaAjk1"
      },
      "execution_count": null,
      "outputs": []
    },
    {
      "cell_type": "markdown",
      "source": [
        "## Gradients & backward pass"
      ],
      "metadata": {
        "id": "8KDdvOnKCq1X"
      }
    },
    {
      "cell_type": "code",
      "source": [
        "from sympy import symbols, diff"
      ],
      "metadata": {
        "id": "Yz-A5TVtAjnk"
      },
      "execution_count": null,
      "outputs": []
    },
    {
      "cell_type": "code",
      "source": [
        "x,y = symbols('x y')\n",
        "x,y"
      ],
      "metadata": {
        "id": "yv1RqvMkXocl",
        "outputId": "5225dd36-ed80-406c-f8f7-c6fca95ee012",
        "colab": {
          "base_uri": "https://localhost:8080/"
        }
      },
      "execution_count": null,
      "outputs": [
        {
          "output_type": "execute_result",
          "data": {
            "text/plain": [
              "(x, y)"
            ]
          },
          "metadata": {},
          "execution_count": 58
        }
      ]
    },
    {
      "cell_type": "code",
      "source": [
        "diff(x**2, x) # taking differential"
      ],
      "metadata": {
        "id": "_ewjaQxnXoe6",
        "outputId": "ee702c2d-4157-4a96-82aa-e788cd2644c4",
        "colab": {
          "base_uri": "https://localhost:8080/",
          "height": 39
        }
      },
      "execution_count": null,
      "outputs": [
        {
          "output_type": "execute_result",
          "data": {
            "text/plain": [
              "2*x"
            ],
            "text/latex": "$\\displaystyle 2 x$"
          },
          "metadata": {},
          "execution_count": 59
        }
      ]
    },
    {
      "cell_type": "code",
      "source": [
        "diff(3*x**2 +9, x)"
      ],
      "metadata": {
        "id": "J_QttkwLXohB",
        "outputId": "196d7ac8-635c-4744-d63c-ca24dd02d156",
        "colab": {
          "base_uri": "https://localhost:8080/",
          "height": 39
        }
      },
      "execution_count": null,
      "outputs": [
        {
          "output_type": "execute_result",
          "data": {
            "text/plain": [
              "6*x"
            ],
            "text/latex": "$\\displaystyle 6 x$"
          },
          "metadata": {},
          "execution_count": 60
        }
      ]
    },
    {
      "cell_type": "code",
      "source": [],
      "metadata": {
        "id": "WS-L-lYVXojU"
      },
      "execution_count": null,
      "outputs": []
    },
    {
      "cell_type": "code",
      "source": [],
      "metadata": {
        "id": "G7Uo0MYyXolS"
      },
      "execution_count": null,
      "outputs": []
    },
    {
      "cell_type": "code",
      "source": [],
      "metadata": {
        "id": "Z1tiSeb4Xomz"
      },
      "execution_count": null,
      "outputs": []
    },
    {
      "cell_type": "code",
      "source": [],
      "metadata": {
        "id": "_wFOCaGJXopp"
      },
      "execution_count": null,
      "outputs": []
    }
  ]
}