{
  "nbformat": 4,
  "nbformat_minor": 0,
  "metadata": {
    "colab": {
      "provenance": [],
      "authorship_tag": "ABX9TyN6VTGTs2u+UHlVKorJ0fL1",
      "include_colab_link": true
    },
    "kernelspec": {
      "name": "python3",
      "display_name": "Python 3"
    },
    "language_info": {
      "name": "python"
    }
  },
  "cells": [
    {
      "cell_type": "markdown",
      "metadata": {
        "id": "view-in-github",
        "colab_type": "text"
      },
      "source": [
        "<a href=\"https://colab.research.google.com/github/mzohaibnasir/NeuralNotes/blob/main/02_deepDiveIntoBasics.ipynb\" target=\"_parent\"><img src=\"https://colab.research.google.com/assets/colab-badge.svg\" alt=\"Open In Colab\"/></a>"
      ]
    },
    {
      "cell_type": "markdown",
      "source": [
        "# Forward & Backward passes"
      ],
      "metadata": {
        "id": "TLezIimXsc4n"
      }
    },
    {
      "cell_type": "code",
      "source": [
        "from pathlib import Path\n",
        "import pickle , gzip,math, os, time, shutil,matplotlib.pyplot as plt, matplotlib as mpl, numpy as np\n",
        "\n",
        "import torch\n",
        "from torch import tensor\n",
        "from fastcore.test import test_close\n"
      ],
      "metadata": {
        "id": "7vMv98fmsGbt"
      },
      "execution_count": 58,
      "outputs": []
    },
    {
      "cell_type": "code",
      "source": [
        "MNIST_URL='https://github.com/mnielsen/neural-networks-and-deep-learning/blob/d15df08a69ed33ae16a2fff874f83b57a956172c/data/mnist.pkl.gz?raw=true'\n",
        "path_data = Path('data')\n",
        "path_data.mkdir(exist_ok=True )\n",
        "path_gz=path_data/'mnist.pkl.gz'\n",
        "path_gz"
      ],
      "metadata": {
        "colab": {
          "base_uri": "https://localhost:8080/"
        },
        "id": "-VwA2QT4sGeG",
        "outputId": "a2633b71-b9f9-4300-fbed-7d04ce1e27bb"
      },
      "execution_count": 59,
      "outputs": [
        {
          "output_type": "execute_result",
          "data": {
            "text/plain": [
              "PosixPath('data/mnist.pkl.gz')"
            ]
          },
          "metadata": {},
          "execution_count": 59
        }
      ]
    },
    {
      "cell_type": "code",
      "source": [
        "from urllib.request import urlretrieve\n",
        "\n",
        "if not path_gz.exists(): urlretrieve(MNIST_URL, path_gz)"
      ],
      "metadata": {
        "id": "T9mUQv0HuQ-J"
      },
      "execution_count": 60,
      "outputs": []
    },
    {
      "cell_type": "code",
      "source": [
        "torch.manual_seed(42)\n",
        "\n",
        "\n",
        "mpl.rcParams['image.cmap'] = 'gray'\n",
        "torch.set_printoptions(precision=2, linewidth=125, sci_mode=False)\n",
        "np.set_printoptions(precision=2, linewidth=125)\n"
      ],
      "metadata": {
        "id": "P0osYjnusGgc"
      },
      "execution_count": 61,
      "outputs": []
    },
    {
      "cell_type": "code",
      "source": [
        "!ls -l data"
      ],
      "metadata": {
        "colab": {
          "base_uri": "https://localhost:8080/"
        },
        "id": "_olIsAhKsGi2",
        "outputId": "4769c9b2-27e9-4c4a-fdde-25df7f07de8a"
      },
      "execution_count": 62,
      "outputs": [
        {
          "output_type": "stream",
          "name": "stdout",
          "text": [
            "total 16656\n",
            "-rw-r--r-- 1 root root 17051982 Jan 17 16:15 mnist.pkl.gz\n"
          ]
        }
      ]
    },
    {
      "cell_type": "code",
      "source": [
        "with gzip.open(path_gz, 'rb') as f:   #read as binary as opposed to text\n",
        "   ((x_train,y_train), (x_valid,y_valid), _) = pickle.load(f, encoding='latin-1') #destructuring\n",
        "x_train, y_train, x_valid, y_valid = map(tensor, [x_train, y_train, x_valid, y_valid])"
      ],
      "metadata": {
        "id": "uueXA51Ls_N0"
      },
      "execution_count": 63,
      "outputs": []
    },
    {
      "cell_type": "code",
      "source": [
        "np.array(x_train).shape"
      ],
      "metadata": {
        "colab": {
          "base_uri": "https://localhost:8080/"
        },
        "id": "FE0td_KYsLWi",
        "outputId": "f52d8268-73af-4a30-8b47-2ac2702277fd"
      },
      "execution_count": 64,
      "outputs": [
        {
          "output_type": "execute_result",
          "data": {
            "text/plain": [
              "(50000, 784)"
            ]
          },
          "metadata": {},
          "execution_count": 64
        }
      ]
    },
    {
      "cell_type": "code",
      "source": [
        "path_gz"
      ],
      "metadata": {
        "colab": {
          "base_uri": "https://localhost:8080/"
        },
        "id": "2GFh0pcusLYp",
        "outputId": "065ee3b2-5fc1-4cd7-8171-a9e9bccb181c"
      },
      "execution_count": 65,
      "outputs": [
        {
          "output_type": "execute_result",
          "data": {
            "text/plain": [
              "PosixPath('data/mnist.pkl.gz')"
            ]
          },
          "metadata": {},
          "execution_count": 65
        }
      ]
    },
    {
      "cell_type": "code",
      "source": [
        "n,m = x_train.shape  # n: # of training samples   m: pixels\n",
        "c = y_train.max()+1  # posible ouputs\n",
        "n, m, c"
      ],
      "metadata": {
        "colab": {
          "base_uri": "https://localhost:8080/"
        },
        "id": "J2pIXNd0sLay",
        "outputId": "afcdf567-10c5-4178-d3dd-259046e0c6d8"
      },
      "execution_count": 66,
      "outputs": [
        {
          "output_type": "execute_result",
          "data": {
            "text/plain": [
              "(50000, 784, tensor(10))"
            ]
          },
          "metadata": {},
          "execution_count": 66
        }
      ]
    },
    {
      "cell_type": "code",
      "source": [
        "nh = 50  # hidden activations # # of REctified lines to add up"
      ],
      "metadata": {
        "id": "n-1M5SEisLc5"
      },
      "execution_count": 67,
      "outputs": []
    },
    {
      "cell_type": "code",
      "source": [
        "w1 = torch.randn(m, nh)\n",
        "b1 = torch.zeros(nh) # bias\n",
        "w2 = torch.randn(nh,1)  # 1  output\n",
        "b2 = torch.zeros(1)\n",
        "\n",
        "w1.shape, b1.shape,w2.shape, b2.shape"
      ],
      "metadata": {
        "id": "aXRWXKZKsLew",
        "outputId": "5686d20d-231f-4a34-8c42-85980d985848",
        "colab": {
          "base_uri": "https://localhost:8080/"
        }
      },
      "execution_count": 68,
      "outputs": [
        {
          "output_type": "execute_result",
          "data": {
            "text/plain": [
              "(torch.Size([784, 50]), torch.Size([50]), torch.Size([50, 1]), torch.Size([1]))"
            ]
          },
          "metadata": {},
          "execution_count": 68
        }
      ]
    },
    {
      "cell_type": "code",
      "source": [
        "def lin(x, w, b):\n",
        "  print(f\" x:{x.shape} \\n w:{w.shape} \\n b:{b.shape}\")\n",
        "  return x@w + b"
      ],
      "metadata": {
        "id": "fg1HHMn9tePT"
      },
      "execution_count": 69,
      "outputs": []
    },
    {
      "cell_type": "code",
      "source": [
        "t = lin(x_valid, w1, b1)\n",
        "t.shape"
      ],
      "metadata": {
        "colab": {
          "base_uri": "https://localhost:8080/"
        },
        "id": "MszEuSjCteRp",
        "outputId": "355649fd-9bea-4db0-8c49-e013daf5274f"
      },
      "execution_count": 70,
      "outputs": [
        {
          "output_type": "stream",
          "name": "stdout",
          "text": [
            " x:torch.Size([10000, 784]) \n",
            " w:torch.Size([784, 50]) \n",
            " b:torch.Size([50])\n"
          ]
        },
        {
          "output_type": "execute_result",
          "data": {
            "text/plain": [
              "torch.Size([10000, 50])"
            ]
          },
          "metadata": {},
          "execution_count": 70
        }
      ]
    },
    {
      "cell_type": "code",
      "source": [
        "t"
      ],
      "metadata": {
        "id": "tJWTdnGgteTr",
        "outputId": "a9011dfe-216e-48db-8d63-11821afe1de7",
        "colab": {
          "base_uri": "https://localhost:8080/"
        }
      },
      "execution_count": 71,
      "outputs": [
        {
          "output_type": "execute_result",
          "data": {
            "text/plain": [
              "tensor([[ -0.09,  11.87, -11.39,  ...,   5.48,   2.14,  15.30],\n",
              "        [  5.38,  10.21, -14.49,  ...,   0.88,   0.08,  20.23],\n",
              "        [  3.31,   0.12,   3.10,  ...,  16.89,  -6.05,  24.74],\n",
              "        ...,\n",
              "        [  4.01,  10.35, -11.25,  ...,   0.23,  -5.30,  18.28],\n",
              "        [ 10.62,  -4.27,  10.72,  ...,  -2.87,  -2.87,  18.23],\n",
              "        [  2.84,  -0.22,   1.43,  ...,  -3.91,   5.75,   2.12]])"
            ]
          },
          "metadata": {},
          "execution_count": 71
        }
      ]
    },
    {
      "cell_type": "code",
      "source": [
        "def relu(x):\n",
        "  return x.clamp_min(0.)  # under 0 would be 0\n",
        "\n",
        "\n",
        "t = relu(t)\n",
        "t"
      ],
      "metadata": {
        "id": "32yyqBQCteWO",
        "outputId": "a4b605bc-f953-4540-c152-754a45ba952f",
        "colab": {
          "base_uri": "https://localhost:8080/"
        }
      },
      "execution_count": 72,
      "outputs": [
        {
          "output_type": "execute_result",
          "data": {
            "text/plain": [
              "tensor([[ 0.00, 11.87,  0.00,  ...,  5.48,  2.14, 15.30],\n",
              "        [ 5.38, 10.21,  0.00,  ...,  0.88,  0.08, 20.23],\n",
              "        [ 3.31,  0.12,  3.10,  ..., 16.89,  0.00, 24.74],\n",
              "        ...,\n",
              "        [ 4.01, 10.35,  0.00,  ...,  0.23,  0.00, 18.28],\n",
              "        [10.62,  0.00, 10.72,  ...,  0.00,  0.00, 18.23],\n",
              "        [ 2.84,  0.00,  1.43,  ...,  0.00,  5.75,  2.12]])"
            ]
          },
          "metadata": {},
          "execution_count": 72
        }
      ]
    },
    {
      "cell_type": "code",
      "source": [
        "def model(xb):\n",
        "  l1 = lin(xb, w1, b1)\n",
        "  l2 = relu(l1)\n",
        "  return lin(l2,w2,b2)\n",
        "\n",
        "model(x_valid).shape"
      ],
      "metadata": {
        "id": "QZyCyK2xsLgy",
        "outputId": "5860872f-0267-40fc-d1d5-65ba8011b4b2",
        "colab": {
          "base_uri": "https://localhost:8080/"
        }
      },
      "execution_count": 73,
      "outputs": [
        {
          "output_type": "stream",
          "name": "stdout",
          "text": [
            " x:torch.Size([10000, 784]) \n",
            " w:torch.Size([784, 50]) \n",
            " b:torch.Size([50])\n",
            " x:torch.Size([10000, 50]) \n",
            " w:torch.Size([50, 1]) \n",
            " b:torch.Size([1])\n"
          ]
        },
        {
          "output_type": "execute_result",
          "data": {
            "text/plain": [
              "torch.Size([10000, 1])"
            ]
          },
          "metadata": {},
          "execution_count": 73
        }
      ]
    },
    {
      "cell_type": "code",
      "source": [
        "res  = model(x_valid)\n",
        "res.shape"
      ],
      "metadata": {
        "id": "ik-1gPNB9xJ9",
        "outputId": "e4693a6a-73c1-46e0-af85-d5fa4c337189",
        "colab": {
          "base_uri": "https://localhost:8080/"
        }
      },
      "execution_count": 74,
      "outputs": [
        {
          "output_type": "stream",
          "name": "stdout",
          "text": [
            " x:torch.Size([10000, 784]) \n",
            " w:torch.Size([784, 50]) \n",
            " b:torch.Size([50])\n",
            " x:torch.Size([10000, 50]) \n",
            " w:torch.Size([50, 1]) \n",
            " b:torch.Size([1])\n"
          ]
        },
        {
          "output_type": "execute_result",
          "data": {
            "text/plain": [
              "torch.Size([10000, 1])"
            ]
          },
          "metadata": {},
          "execution_count": 74
        }
      ]
    },
    {
      "cell_type": "code",
      "source": [],
      "metadata": {
        "id": "v-_dTAAs9xL1"
      },
      "execution_count": 74,
      "outputs": []
    },
    {
      "cell_type": "markdown",
      "source": [
        "## Loss: MSE\n",
        "ofcourse MSE is not suitable"
      ],
      "metadata": {
        "id": "_T-5ONT--Z3N"
      }
    },
    {
      "cell_type": "code",
      "source": [
        "res.shape, y_valid.shape  # y_valid is to compare with   # 1 in (10000,1) would be first broadcasted to corresponding y_valid first\n",
        "                            # and when it comes 10000 in (10000,1) y_valis's shape becomes (1, 10000); repeating everything"
      ],
      "metadata": {
        "id": "KdV_zdB29xNk",
        "outputId": "de43f908-ceb4-4627-e5c5-3efac3ff9601",
        "colab": {
          "base_uri": "https://localhost:8080/"
        }
      },
      "execution_count": 75,
      "outputs": [
        {
          "output_type": "execute_result",
          "data": {
            "text/plain": [
              "(torch.Size([10000, 1]), torch.Size([10000]))"
            ]
          },
          "metadata": {},
          "execution_count": 75
        }
      ]
    },
    {
      "cell_type": "code",
      "source": [
        "(res - y_valid).shape  # each element in res's distance to each element in y_valid so a matrix"
      ],
      "metadata": {
        "id": "5xA4oMtm9xRF",
        "outputId": "65cea6c6-0d0d-4ab5-b4f1-fffb81344752",
        "colab": {
          "base_uri": "https://localhost:8080/"
        }
      },
      "execution_count": 76,
      "outputs": [
        {
          "output_type": "execute_result",
          "data": {
            "text/plain": [
              "torch.Size([10000, 10000])"
            ]
          },
          "metadata": {},
          "execution_count": 76
        }
      ]
    },
    {
      "cell_type": "code",
      "source": [
        "# so make Y-valid shapes (10000, 1)\n",
        "\n",
        "(res - y_valid[:,None]).shape, (res - y_valid[:,None])"
      ],
      "metadata": {
        "id": "oX-sbem39xTN",
        "outputId": "c37158a7-3854-4993-f4a8-3c812b173a58",
        "colab": {
          "base_uri": "https://localhost:8080/"
        }
      },
      "execution_count": 77,
      "outputs": [
        {
          "output_type": "execute_result",
          "data": {
            "text/plain": [
              "(torch.Size([10000, 1]),\n",
              " tensor([[  22.75],\n",
              "         [ -21.06],\n",
              "         [-120.79],\n",
              "         ...,\n",
              "         [ -72.44],\n",
              "         [ -80.48],\n",
              "         [ -68.19]]))"
            ]
          },
          "metadata": {},
          "execution_count": 77
        }
      ]
    },
    {
      "cell_type": "code",
      "source": [
        "(res.squeeze() - y_valid).shape, (res.squeeze() - y_valid)"
      ],
      "metadata": {
        "id": "XqWE-twe9xWA",
        "outputId": "affaef5c-f72f-4189-e3ae-bdf2eaec11ed",
        "colab": {
          "base_uri": "https://localhost:8080/"
        }
      },
      "execution_count": 78,
      "outputs": [
        {
          "output_type": "execute_result",
          "data": {
            "text/plain": [
              "(torch.Size([10000]),\n",
              " tensor([  22.75,  -21.06, -120.79,  ...,  -72.44,  -80.48,  -68.19]))"
            ]
          },
          "metadata": {},
          "execution_count": 78
        }
      ]
    },
    {
      "cell_type": "code",
      "source": [
        "#or\n",
        "#res[:, 0].shape : extracts first columns\n",
        "#res[0,:].shape : extracts first row\n",
        "\n",
        "\n",
        "res.shape, res[:, 0].shape, res[0,:].shape"
      ],
      "metadata": {
        "id": "Jo12Z1GbATJc",
        "outputId": "d2744924-05b7-4e06-b432-f1490eec9b5f",
        "colab": {
          "base_uri": "https://localhost:8080/"
        }
      },
      "execution_count": 79,
      "outputs": [
        {
          "output_type": "execute_result",
          "data": {
            "text/plain": [
              "(torch.Size([10000, 1]), torch.Size([10000]), torch.Size([1]))"
            ]
          },
          "metadata": {},
          "execution_count": 79
        }
      ]
    },
    {
      "cell_type": "code",
      "source": [
        "res.shape, res[None, : , None].shape, (res[None, : , None]).squeeze().shape"
      ],
      "metadata": {
        "id": "WJR1MGUgAi4s",
        "outputId": "9e1d4c91-d486-45e8-de63-0e333ddcd231",
        "colab": {
          "base_uri": "https://localhost:8080/"
        }
      },
      "execution_count": 80,
      "outputs": [
        {
          "output_type": "execute_result",
          "data": {
            "text/plain": [
              "(torch.Size([10000, 1]), torch.Size([1, 10000, 1, 1]), torch.Size([10000]))"
            ]
          },
          "metadata": {},
          "execution_count": 80
        }
      ]
    },
    {
      "cell_type": "code",
      "source": [
        "# so,\n",
        "\n",
        "(res[:,0] - y_valid).shape"
      ],
      "metadata": {
        "id": "_CYazBijAjeH",
        "outputId": "b4edceff-e1b5-4177-86f4-18d203f59a1b",
        "colab": {
          "base_uri": "https://localhost:8080/"
        }
      },
      "execution_count": 81,
      "outputs": [
        {
          "output_type": "execute_result",
          "data": {
            "text/plain": [
              "torch.Size([10000])"
            ]
          },
          "metadata": {},
          "execution_count": 81
        }
      ]
    },
    {
      "cell_type": "code",
      "source": [
        "y_train, y_valid = y_train.float(), y_valid.float()\n",
        "\n",
        "preds = model(x_train)\n",
        "preds.shape"
      ],
      "metadata": {
        "id": "xWKTNFF_AjgR",
        "outputId": "84651f12-3139-42f4-c3aa-2a5d4ce19c2e",
        "colab": {
          "base_uri": "https://localhost:8080/"
        }
      },
      "execution_count": 82,
      "outputs": [
        {
          "output_type": "stream",
          "name": "stdout",
          "text": [
            " x:torch.Size([50000, 784]) \n",
            " w:torch.Size([784, 50]) \n",
            " b:torch.Size([50])\n",
            " x:torch.Size([50000, 50]) \n",
            " w:torch.Size([50, 1]) \n",
            " b:torch.Size([1])\n"
          ]
        },
        {
          "output_type": "execute_result",
          "data": {
            "text/plain": [
              "torch.Size([50000, 1])"
            ]
          },
          "metadata": {},
          "execution_count": 82
        }
      ]
    },
    {
      "cell_type": "code",
      "source": [
        "def mse( output, targ):\n",
        "  print(f\"output: {output.shape}, targ: {targ.shape}\")\n",
        "  return (output[:, 0] - targ).pow(2).mean()\n",
        "\n",
        "mse(preds, y_train)"
      ],
      "metadata": {
        "id": "7uLg4FKoAjia",
        "outputId": "cbc2213c-5eb2-4e2c-8835-90f4683d7b10",
        "colab": {
          "base_uri": "https://localhost:8080/"
        }
      },
      "execution_count": 83,
      "outputs": [
        {
          "output_type": "stream",
          "name": "stdout",
          "text": [
            "output: torch.Size([50000, 1]), targ: torch.Size([50000])\n"
          ]
        },
        {
          "output_type": "execute_result",
          "data": {
            "text/plain": [
              "tensor(4308.76)"
            ]
          },
          "metadata": {},
          "execution_count": 83
        }
      ]
    },
    {
      "cell_type": "code",
      "source": [],
      "metadata": {
        "id": "AW3FCPvaAjk1"
      },
      "execution_count": 83,
      "outputs": []
    },
    {
      "cell_type": "markdown",
      "source": [
        "## Gradients & backward pass"
      ],
      "metadata": {
        "id": "8KDdvOnKCq1X"
      }
    },
    {
      "cell_type": "code",
      "source": [
        "from sympy import symbols, diff"
      ],
      "metadata": {
        "id": "Yz-A5TVtAjnk"
      },
      "execution_count": 84,
      "outputs": []
    },
    {
      "cell_type": "code",
      "source": [
        "x,y = symbols('x y')\n",
        "x,y"
      ],
      "metadata": {
        "id": "yv1RqvMkXocl",
        "outputId": "292f3539-810a-4f5c-cbda-f31ff354f5b2",
        "colab": {
          "base_uri": "https://localhost:8080/"
        }
      },
      "execution_count": 85,
      "outputs": [
        {
          "output_type": "execute_result",
          "data": {
            "text/plain": [
              "(x, y)"
            ]
          },
          "metadata": {},
          "execution_count": 85
        }
      ]
    },
    {
      "cell_type": "code",
      "source": [
        "diff(x**2, x) # taking differential"
      ],
      "metadata": {
        "id": "_ewjaQxnXoe6",
        "outputId": "2783c302-2b03-4384-dfda-ac9f6c887eef",
        "colab": {
          "base_uri": "https://localhost:8080/",
          "height": 39
        }
      },
      "execution_count": 86,
      "outputs": [
        {
          "output_type": "execute_result",
          "data": {
            "text/plain": [
              "2*x"
            ],
            "text/latex": "$\\displaystyle 2 x$"
          },
          "metadata": {},
          "execution_count": 86
        }
      ]
    },
    {
      "cell_type": "code",
      "source": [
        "diff(3*x**2 +9, x)"
      ],
      "metadata": {
        "id": "J_QttkwLXohB",
        "outputId": "7f355bfa-66ec-4120-b26c-414d54f3c7c5",
        "colab": {
          "base_uri": "https://localhost:8080/",
          "height": 39
        }
      },
      "execution_count": 87,
      "outputs": [
        {
          "output_type": "execute_result",
          "data": {
            "text/plain": [
              "6*x"
            ],
            "text/latex": "$\\displaystyle 6 x$"
          },
          "metadata": {},
          "execution_count": 87
        }
      ]
    },
    {
      "cell_type": "code",
      "source": [
        "def lin_grad(inp, out, w, b):   # inp is being manipulated here  # just multiply by output gradients in all values\n",
        "  # grad of matmul w.r.t input\n",
        "\n",
        "  # here  inp contains the original input values used in the forward pass. inp.g attribute of inp is assigned the gradient information calculated during the backward pass.\n",
        "  #The original values of inp are still present in the tensor, but now the .g attribute holds the calculated gradients.\n",
        "  inp.g = out.g @ w.t()  # gradient of output w.r.t input   # multiplying weights with gradients of ouput\n",
        "  # import pdb; pdb.set_trace()  # tellls debugger its breakpoint\n",
        "  # breakpoint()\n",
        "\n",
        "  # print(f\"inp: {inp.shape}  ******   inp.g: {inp.g.shape}\" )\n",
        "\n",
        "\n",
        "  # print(f\"   inp.unsqueeze(-1): {inp.unsqueeze(-1).shape} ||||  inp: {inp.shape}\")\n",
        "  # print(f\"** inp: { inp.shape } * out.g: {out.g.shape}\")\n",
        "\n",
        "  # w.g = (inp.unsqueeze(-1) * out.g.unsqueeze(1)).sum(0)  # gradient of output w.r.t weights   # (inputs * output weights gradients ebcause of chain rule) summed over\n",
        "  # i,o = inp.unsqueeze(-1), out.g.unsqueeze(1)\n",
        "  # w.g = (i*o).sum(0)\n",
        "  # w.g = torch.einsum('ij,ik->jk', inp, out.g)\n",
        "  \"\"\"\n",
        "  but ij,ik->jk is not same as matrix multiplication.  we'd need to sawp i and j by using transpose\n",
        "  \"\"\"\n",
        "\n",
        "  w.g = inp.T@out.g\n",
        "\n",
        "\n",
        "\n",
        "  # print(f\"(inp.unsqueeze(-1) * out.g.unsqueeze(1)): {(inp.unsqueeze(-1) * out.g.unsqueeze(1)).shape}  || (inp.unsqueeze(-1) * out.g.unsqueeze(1)).sum(0).shape: {(inp.unsqueeze(-1) * out.g.unsqueeze(1)).sum(0).shape}\")\n",
        "  # print(f\"++ inp.unsqueeze(-1): { inp.unsqueeze(-1).shape } * out.g.unsqueeze(1): {out.g.unsqueeze(1).shape}\")\n",
        "  b.g = out.g.sum(0) # gradients of output summed over\n",
        "  # print(f\" out.g.sum(0): {b.g} ||| out.g : {out.g.shape}\")\n",
        "\n",
        "  # breakpoint()\n",
        "\n",
        "  \"\"\"\n",
        "\n",
        "\n",
        "  inp.g: Gradient of the input with respect to the loss. This line calculates the gradient of the loss with respect to the input inp. The formula used here is a common one in backpropagation for a linear layer. The gradient is computed by taking the dot product of the gradient of the output (out.g) and the transpose of the weight matrix (w.t()). This operation essentially backpropagates the error from the output to the input through the weight matrix.\n",
        "\n",
        "Mathematically, if L is the loss and i represents the input, this operation can be expressed as:\n",
        "\n",
        "dL/di = (dL/dout) * w.t()\n",
        "\"\"\""
      ],
      "metadata": {
        "id": "WS-L-lYVXojU"
      },
      "execution_count": 88,
      "outputs": []
    },
    {
      "cell_type": "code",
      "source": [
        "def forward_and_backward(inp, targ):\n",
        "  # forward\n",
        "  l1 = lin(inp, w1,b1)\n",
        "  l2 = relu(l1)\n",
        "  out = lin(l2, w2, b2)  # output of second layer\n",
        "  diff = out[:, 0]-targ\n",
        "  loss = diff.pow(2).mean()\n",
        "\n",
        "  #backward pass:\n",
        "  out.g = 2.*diff[:,None]/inp.shape[0]   # creating new attribute `.g`    # 2*diff because we took diff square    # divided my inp.shape[0] bcz we took mean\n",
        "  # print(f\"inp.shape[0]: {inp.shape[0]}   |   diff[:,None]: {diff[:,None].shape}  |  diff: {diff.shape}\")\n",
        "  lin_grad(l2, out, w2,b2)\n",
        "  l1.g = (l1>0).float() * l2.g  # as we are using l1 l2 of forward pass here,, so we need to store each of intermediary layer calculations\n",
        "  lin_grad(inp, l1,w1,b1)\n",
        "\n",
        "\n",
        "forward_and_backward(x_train, y_train)\n"
      ],
      "metadata": {
        "id": "G7Uo0MYyXolS",
        "colab": {
          "base_uri": "https://localhost:8080/"
        },
        "outputId": "a76ed26e-45b2-491f-d9ad-6a5be01b5277"
      },
      "execution_count": 89,
      "outputs": [
        {
          "output_type": "stream",
          "name": "stdout",
          "text": [
            " x:torch.Size([50000, 784]) \n",
            " w:torch.Size([784, 50]) \n",
            " b:torch.Size([50])\n",
            " x:torch.Size([50000, 50]) \n",
            " w:torch.Size([50, 1]) \n",
            " b:torch.Size([1])\n"
          ]
        }
      ]
    },
    {
      "cell_type": "code",
      "source": [
        " w1.g.shape, x_train.g.shape"
      ],
      "metadata": {
        "id": "Z1tiSeb4Xomz",
        "colab": {
          "base_uri": "https://localhost:8080/"
        },
        "outputId": "27a41aa3-bce8-4cc9-cb78-733426b35c39"
      },
      "execution_count": 90,
      "outputs": [
        {
          "output_type": "execute_result",
          "data": {
            "text/plain": [
              "(torch.Size([784, 50]), torch.Size([50000, 784]))"
            ]
          },
          "metadata": {},
          "execution_count": 90
        }
      ]
    },
    {
      "cell_type": "code",
      "source": [
        "x_train.g"
      ],
      "metadata": {
        "id": "_wFOCaGJXopp",
        "colab": {
          "base_uri": "https://localhost:8080/"
        },
        "outputId": "1a86c586-20ee-440b-e71c-64df9496650e"
      },
      "execution_count": 91,
      "outputs": [
        {
          "output_type": "execute_result",
          "data": {
            "text/plain": [
              "tensor([[    -0.00,     -0.01,      0.00,  ...,     -0.00,      0.00,      0.00],\n",
              "        [    -0.03,     -0.03,      0.01,  ...,     -0.04,     -0.01,     -0.01],\n",
              "        [     0.00,      0.00,     -0.00,  ...,      0.00,     -0.00,      0.00],\n",
              "        ...,\n",
              "        [    -0.00,     -0.02,      0.01,  ...,     -0.00,     -0.00,      0.00],\n",
              "        [    -0.02,     -0.01,      0.01,  ...,     -0.01,      0.01,     -0.00],\n",
              "        [    -0.00,     -0.00,      0.00,  ...,     -0.00,     -0.00,     -0.00]])"
            ]
          },
          "metadata": {},
          "execution_count": 91
        }
      ]
    },
    {
      "cell_type": "code",
      "source": [
        "x_train.g.zero_()"
      ],
      "metadata": {
        "id": "tOom2djSOM0R",
        "outputId": "fcfd1a30-32cd-49df-f17a-6bf46ed8a76e",
        "colab": {
          "base_uri": "https://localhost:8080/"
        }
      },
      "execution_count": 92,
      "outputs": [
        {
          "output_type": "execute_result",
          "data": {
            "text/plain": [
              "tensor([[0., 0., 0.,  ..., 0., 0., 0.],\n",
              "        [0., 0., 0.,  ..., 0., 0., 0.],\n",
              "        [0., 0., 0.,  ..., 0., 0., 0.],\n",
              "        ...,\n",
              "        [0., 0., 0.,  ..., 0., 0., 0.],\n",
              "        [0., 0., 0.,  ..., 0., 0., 0.],\n",
              "        [0., 0., 0.,  ..., 0., 0., 0.]])"
            ]
          },
          "metadata": {},
          "execution_count": 92
        }
      ]
    },
    {
      "cell_type": "code",
      "source": [
        "forward_and_backward(x_train, y_train)"
      ],
      "metadata": {
        "id": "29EH5mC0OM3G",
        "outputId": "6d5bd222-e5dd-4a26-ccf6-3ad1a8036e57",
        "colab": {
          "base_uri": "https://localhost:8080/"
        }
      },
      "execution_count": 93,
      "outputs": [
        {
          "output_type": "stream",
          "name": "stdout",
          "text": [
            " x:torch.Size([50000, 784]) \n",
            " w:torch.Size([784, 50]) \n",
            " b:torch.Size([50])\n",
            " x:torch.Size([50000, 50]) \n",
            " w:torch.Size([50, 1]) \n",
            " b:torch.Size([1])\n"
          ]
        }
      ]
    },
    {
      "cell_type": "code",
      "source": [
        "forward_and_backward(x_train, y_train)"
      ],
      "metadata": {
        "id": "uyCJ9gwqOQw6",
        "outputId": "bcbadbf4-b527-43b1-83ad-d0b5a9a1b1a2",
        "colab": {
          "base_uri": "https://localhost:8080/"
        }
      },
      "execution_count": 94,
      "outputs": [
        {
          "output_type": "stream",
          "name": "stdout",
          "text": [
            " x:torch.Size([50000, 784]) \n",
            " w:torch.Size([784, 50]) \n",
            " b:torch.Size([50])\n",
            " x:torch.Size([50000, 50]) \n",
            " w:torch.Size([50, 1]) \n",
            " b:torch.Size([1])\n"
          ]
        }
      ]
    },
    {
      "cell_type": "code",
      "source": [],
      "metadata": {
        "id": "BVZyHCRMOY7m"
      },
      "execution_count": 94,
      "outputs": []
    },
    {
      "cell_type": "markdown",
      "source": [
        "## Geradients and backward pass"
      ],
      "metadata": {
        "id": "9lsSi1TiClJN"
      }
    },
    {
      "cell_type": "code",
      "source": [
        "from sympy import symbols,diff\n",
        "x,y = symbols('x y')\n",
        "diff(x**2, x)\n",
        ""
      ],
      "metadata": {
        "id": "vVBKh80SOZjG",
        "colab": {
          "base_uri": "https://localhost:8080/",
          "height": 39
        },
        "outputId": "25d7690f-7fde-4047-f0bf-e3d9bedab285"
      },
      "execution_count": 95,
      "outputs": [
        {
          "output_type": "execute_result",
          "data": {
            "text/plain": [
              "2*x"
            ],
            "text/latex": "$\\displaystyle 2 x$"
          },
          "metadata": {},
          "execution_count": 95
        }
      ]
    },
    {
      "cell_type": "code",
      "source": [
        "diff(3*x**2+9, x)\n"
      ],
      "metadata": {
        "id": "OCRwbcxqN2LS",
        "outputId": "b035ccd7-85bc-465f-a589-894fdad6d7ec",
        "colab": {
          "base_uri": "https://localhost:8080/",
          "height": 39
        }
      },
      "execution_count": 96,
      "outputs": [
        {
          "output_type": "execute_result",
          "data": {
            "text/plain": [
              "6*x"
            ],
            "text/latex": "$\\displaystyle 6 x$"
          },
          "metadata": {},
          "execution_count": 96
        }
      ]
    },
    {
      "cell_type": "code",
      "source": [
        "def lin_grad(inp, out, w, b):\n",
        "    # grad of matmul with respect to input\n",
        "    inp.g = out.g @ w.t()\n",
        "    w.g = (inp.unsqueeze(-1) * out.g.unsqueeze(1)).sum(0)\n",
        "    b.g = out.g.sum(0)"
      ],
      "metadata": {
        "id": "xt8Tcyq0N2Nr"
      },
      "execution_count": 97,
      "outputs": []
    },
    {
      "cell_type": "code",
      "source": [
        "def forward_and_backward(inp, targ):\n",
        "    # forward pass:\n",
        "    l1 = lin(inp, w1, b1)\n",
        "    l2 = relu(l1)\n",
        "    out = lin(l2, w2, b2)\n",
        "    diff = out[:,0]-targ\n",
        "    loss = diff.pow(2).mean()\n",
        "\n",
        "    # backward pass:\n",
        "    out.g = 2.*diff[:,None] / inp.shape[0]\n",
        "    lin_grad(l2, out, w2, b2)\n",
        "    l1.g = (l1>0).float() * l2.g\n",
        "    lin_grad(inp, l1, w1, b1)"
      ],
      "metadata": {
        "id": "mE-_wB7JN2Ql"
      },
      "execution_count": 98,
      "outputs": []
    },
    {
      "cell_type": "code",
      "source": [
        "forward_and_backward(x_train, y_train)\n"
      ],
      "metadata": {
        "id": "5p0mIiaGN7IP",
        "outputId": "44a401af-ae0e-486d-ad6e-9ef9d4b17c37",
        "colab": {
          "base_uri": "https://localhost:8080/"
        }
      },
      "execution_count": 99,
      "outputs": [
        {
          "output_type": "stream",
          "name": "stdout",
          "text": [
            " x:torch.Size([50000, 784]) \n",
            " w:torch.Size([784, 50]) \n",
            " b:torch.Size([50])\n",
            " x:torch.Size([50000, 50]) \n",
            " w:torch.Size([50, 1]) \n",
            " b:torch.Size([1])\n"
          ]
        }
      ]
    },
    {
      "cell_type": "code",
      "source": [
        "def get_grad(x): return x.g.clone()\n",
        "chks = w1,w2,b1,b2,x_train\n",
        "grads = w1g,w2g,b1g,b2g,ig = tuple(map(get_grad, chks))"
      ],
      "metadata": {
        "id": "r0u0xQj-N7LK"
      },
      "execution_count": 100,
      "outputs": []
    },
    {
      "cell_type": "code",
      "source": [
        "def mkgrad(x): return x.clone().requires_grad_(True)\n",
        "ptgrads = w12,w22,b12,b22,xt2 = tuple(map(mkgrad, chks))"
      ],
      "metadata": {
        "id": "dkp761HNN7Nl"
      },
      "execution_count": 101,
      "outputs": []
    },
    {
      "cell_type": "code",
      "source": [
        "def forward(inp, targ):\n",
        "    l1 = lin(inp, w12, b12)\n",
        "    l2 = relu(l1)\n",
        "    out = lin(l2, w22, b22)\n",
        "    return mse(out, targ)"
      ],
      "metadata": {
        "id": "K26KofGDOOUT"
      },
      "execution_count": 102,
      "outputs": []
    },
    {
      "cell_type": "code",
      "source": [
        "loss = forward(xt2, y_train)\n",
        "loss.backward()"
      ],
      "metadata": {
        "id": "J6NdNI64OQHB",
        "outputId": "96715c7b-072b-418b-c1df-83d6e2a554cb",
        "colab": {
          "base_uri": "https://localhost:8080/"
        }
      },
      "execution_count": 103,
      "outputs": [
        {
          "output_type": "stream",
          "name": "stdout",
          "text": [
            " x:torch.Size([50000, 784]) \n",
            " w:torch.Size([784, 50]) \n",
            " b:torch.Size([50])\n",
            " x:torch.Size([50000, 50]) \n",
            " w:torch.Size([50, 1]) \n",
            " b:torch.Size([1])\n",
            "output: torch.Size([50000, 1]), targ: torch.Size([50000])\n"
          ]
        }
      ]
    },
    {
      "cell_type": "code",
      "source": [
        "for a,b in zip(grads, ptgrads): test_close(a, b.grad, eps=0.01)\n"
      ],
      "metadata": {
        "id": "HIrXfwqNOQJH"
      },
      "execution_count": 104,
      "outputs": []
    },
    {
      "cell_type": "code",
      "source": [],
      "metadata": {
        "id": "j9CnKd3BOQLZ"
      },
      "execution_count": 104,
      "outputs": []
    },
    {
      "cell_type": "code",
      "source": [],
      "metadata": {
        "id": "iBmMLOGiOZlc"
      },
      "execution_count": 104,
      "outputs": []
    },
    {
      "cell_type": "markdown",
      "source": [
        "## Refactor model"
      ],
      "metadata": {
        "id": "42qQNhUZ32K_"
      }
    },
    {
      "cell_type": "markdown",
      "source": [
        "### Layers as classes"
      ],
      "metadata": {
        "id": "R_qnTrWk39-H"
      }
    },
    {
      "cell_type": "code",
      "source": [
        "class Relu():\n",
        "  def __call__(self,inp):\n",
        "    self.inp = inp     # # as we are using l1 l2 of forward pass here,, so we need to store each of intermediary layer calculations so, here relu is\n",
        "    # not ust doing calculations but also stores input and output in self.inp and self.out  so when we cakll backward, we can use them as shown in backward() below\n",
        "    self.out = inp.clamp_min(0.)\n",
        "    return self.out\n",
        "\n",
        "  def backward(self):\n",
        "    self.inp.g = (self.inp>0).float() * self.out.g\n",
        "\n"
      ],
      "metadata": {
        "id": "57pralXtOZqK"
      },
      "execution_count": 105,
      "outputs": []
    },
    {
      "cell_type": "code",
      "source": [
        "class Lin():\n",
        "  def __init__(self, w, b):  # it has init because it needs additional input that relu didnt\n",
        "    self.w, self.b = w,b\n",
        "\n",
        "  def __call__(self, inp):\n",
        "    self.inp = inp\n",
        "    self.out = lin(inp, self.w, self.b)\n",
        "    return self.out\n",
        "\n",
        "  def backward(self):\n",
        "    self.inp.g = self.out.g @ self.w.t()\n",
        "    self.w.g = self.inp.t() @ self.out.g\n",
        "    self.b.g = self.out.g.sum(0)\n",
        "\n",
        "\n"
      ],
      "metadata": {
        "id": "YKJcnw1dOZsR"
      },
      "execution_count": 106,
      "outputs": []
    },
    {
      "cell_type": "code",
      "source": [
        "class Mse():\n",
        "  def __call__(self, inp, targ):\n",
        "    self.inp, self.targ = inp, targ\n",
        "    self.out = mse(inp, targ)\n",
        "    return self.out\n",
        "\n",
        "\n",
        "  def backward(self):\n",
        "    self.inp.g = 2. * (self.inp.squeeze() - self.targ).unsqueeze(-1) / self.targ.shape[0]\n"
      ],
      "metadata": {
        "id": "K16FXtWAOZun"
      },
      "execution_count": 107,
      "outputs": []
    },
    {
      "cell_type": "code",
      "source": [
        "x = torch.randn((2,2))\n",
        "x.shape, x[:,None].shape,  x[:, 0 ].shape,  x, x[:,None],  x[:, 0 ]"
      ],
      "metadata": {
        "id": "mLyUqulROZxS",
        "colab": {
          "base_uri": "https://localhost:8080/"
        },
        "outputId": "95b22a54-e22b-4fbd-f620-36d7f3854d33"
      },
      "execution_count": 108,
      "outputs": [
        {
          "output_type": "execute_result",
          "data": {
            "text/plain": [
              "(torch.Size([2, 2]),\n",
              " torch.Size([2, 1, 2]),\n",
              " torch.Size([2]),\n",
              " tensor([[ 0.57, -0.99],\n",
              "         [ 1.62, -0.98]]),\n",
              " tensor([[[ 0.57, -0.99]],\n",
              " \n",
              "         [[ 1.62, -0.98]]]),\n",
              " tensor([0.57, 1.62]))"
            ]
          },
          "metadata": {},
          "execution_count": 108
        }
      ]
    },
    {
      "cell_type": "code",
      "source": [
        "class Model():\n",
        "  def __init__(self, w1, b1, w2, b2):\n",
        "    self.layers = [Lin(w1, b1), Relu(), Lin(w2,b2)]  # we are creating instances of each classes\n",
        "    self.loss = Mse()\n",
        "\n",
        "\n",
        "  def __call__(self, x, targ):\n",
        "    for l in self.layers:\n",
        "      x = l(x)                                    # calling layer\n",
        "          # loss function is being calculated in the model\n",
        "    return dict(loss = self.loss(x, targ), preds = x)\n",
        "  def backward(self):\n",
        "    self.loss.backward()\n",
        "    for l in reversed(self.layers):\n",
        "      l.backward()"
      ],
      "metadata": {
        "id": "TbCvovjL9R9S"
      },
      "execution_count": 109,
      "outputs": []
    },
    {
      "cell_type": "code",
      "source": [
        "model = Model(w1,b1, w2, b2)"
      ],
      "metadata": {
        "id": "LCR-kP6a94Th"
      },
      "execution_count": 110,
      "outputs": []
    },
    {
      "cell_type": "code",
      "source": [
        "loss= model(x_train, y_train)"
      ],
      "metadata": {
        "colab": {
          "base_uri": "https://localhost:8080/"
        },
        "id": "O4RkNq-b94Va",
        "outputId": "b79d77dd-bfae-4170-b7bb-4a096e1b1be3"
      },
      "execution_count": 111,
      "outputs": [
        {
          "output_type": "stream",
          "name": "stdout",
          "text": [
            " x:torch.Size([50000, 784]) \n",
            " w:torch.Size([784, 50]) \n",
            " b:torch.Size([50])\n",
            " x:torch.Size([50000, 50]) \n",
            " w:torch.Size([50, 1]) \n",
            " b:torch.Size([1])\n",
            "output: torch.Size([50000, 1]), targ: torch.Size([50000])\n"
          ]
        }
      ]
    },
    {
      "cell_type": "code",
      "source": [
        "model.backward()"
      ],
      "metadata": {
        "id": "j6e5yHwR94XQ"
      },
      "execution_count": 112,
      "outputs": []
    },
    {
      "cell_type": "code",
      "source": [
        "test_close(w2g, w2.g, eps=0.01)\n",
        "test_close(b2g, b2.g, eps=0.01)\n",
        "test_close(w1g, w1.g, eps=0.01)\n",
        "test_close(b1g, b1.g, eps=0.01)\n",
        "test_close(ig, x_train.g, eps=0.01)"
      ],
      "metadata": {
        "id": "i-87xQTy94Yi"
      },
      "execution_count": 113,
      "outputs": []
    },
    {
      "cell_type": "code",
      "source": [
        "class A:\n",
        "  def __init__(self):\n",
        "    print(\"INITITALIZED!!\")\n",
        "\n",
        "  def __call__(self, x):\n",
        "    print(f\"CALLLED {x}???\")\n",
        "\n",
        "\n",
        "\n",
        "\n",
        "A()"
      ],
      "metadata": {
        "id": "8QcmVWjp94bI",
        "colab": {
          "base_uri": "https://localhost:8080/"
        },
        "outputId": "4576a194-7447-4e0e-8987-71f05821a3d8"
      },
      "execution_count": 114,
      "outputs": [
        {
          "output_type": "stream",
          "name": "stdout",
          "text": [
            "INITITALIZED!!\n"
          ]
        },
        {
          "output_type": "execute_result",
          "data": {
            "text/plain": [
              "<__main__.A at 0x7ccab8beb8e0>"
            ]
          },
          "metadata": {},
          "execution_count": 114
        }
      ]
    },
    {
      "cell_type": "code",
      "source": [
        "A()(\"ME?\")"
      ],
      "metadata": {
        "id": "AXbJKXODUQS_",
        "colab": {
          "base_uri": "https://localhost:8080/"
        },
        "outputId": "fb665371-8ac8-4dcb-8329-d0905fa2c242"
      },
      "execution_count": 115,
      "outputs": [
        {
          "output_type": "stream",
          "name": "stdout",
          "text": [
            "INITITALIZED!!\n",
            "CALLLED ME????\n"
          ]
        }
      ]
    },
    {
      "cell_type": "code",
      "source": [
        "a=A()\n"
      ],
      "metadata": {
        "id": "RD3z-sVgUQVl",
        "colab": {
          "base_uri": "https://localhost:8080/"
        },
        "outputId": "a4addd89-f9cc-4026-806d-d0f00ccb67ea"
      },
      "execution_count": 116,
      "outputs": [
        {
          "output_type": "stream",
          "name": "stdout",
          "text": [
            "INITITALIZED!!\n"
          ]
        }
      ]
    },
    {
      "cell_type": "code",
      "source": [
        "a(\"ME?\")"
      ],
      "metadata": {
        "id": "BkMMoK7PUQYQ",
        "colab": {
          "base_uri": "https://localhost:8080/"
        },
        "outputId": "a4ae4a11-1af6-4eb4-ff83-c54c494b645e"
      },
      "execution_count": 117,
      "outputs": [
        {
          "output_type": "stream",
          "name": "stdout",
          "text": [
            "CALLLED ME????\n"
          ]
        }
      ]
    },
    {
      "cell_type": "code",
      "source": [],
      "metadata": {
        "id": "2QkAl5ARUQbC"
      },
      "execution_count": 117,
      "outputs": []
    },
    {
      "cell_type": "code",
      "source": [],
      "metadata": {
        "id": "6WAwbBz4xtcs"
      },
      "execution_count": 117,
      "outputs": []
    },
    {
      "cell_type": "code",
      "source": [],
      "metadata": {
        "id": "XAgKz82Txtex"
      },
      "execution_count": 117,
      "outputs": []
    },
    {
      "cell_type": "code",
      "source": [],
      "metadata": {
        "id": "3HieTYVtxthy"
      },
      "execution_count": 117,
      "outputs": []
    },
    {
      "cell_type": "code",
      "source": [],
      "metadata": {
        "id": "1tl8Kchbxtj2"
      },
      "execution_count": 117,
      "outputs": []
    },
    {
      "cell_type": "code",
      "source": [],
      "metadata": {
        "id": "LgeSt0jxxtmm"
      },
      "execution_count": 117,
      "outputs": []
    },
    {
      "cell_type": "markdown",
      "source": [
        "## More refactoring\n",
        "\n",
        "there is repetition like `self.inp = inp`"
      ],
      "metadata": {
        "id": "hStjKqtBxtzd"
      }
    },
    {
      "cell_type": "code",
      "source": [
        "class Module():  # this will be inherited\n",
        "  def __call__(self, *args):   # * mean take all of args and put them in a list\n",
        "    self.args= args\n",
        "    self.out = self.forward(*args)\n",
        "    return self.out\n",
        "\n",
        "  def forward(self):\n",
        "    raise Exception('not implemented')\n",
        "\n",
        "\n",
        "  def backward(self):\n",
        "    self.bwd(self.out, *self.args)  # here * is expanding all those args in list\n",
        "\n",
        "  def bwd(self, out, inp):\n",
        "    raise Exception(' not implemented')"
      ],
      "metadata": {
        "id": "B1ygNjpExv9r"
      },
      "execution_count": 118,
      "outputs": []
    },
    {
      "cell_type": "code",
      "source": [
        "f = Module()\n",
        "\n",
        "f.forward()"
      ],
      "metadata": {
        "colab": {
          "base_uri": "https://localhost:8080/",
          "height": 331
        },
        "id": "iyuwSMb4xwaV",
        "outputId": "db716d4f-bcc6-48e9-d169-e2a244e47ba5"
      },
      "execution_count": 119,
      "outputs": [
        {
          "output_type": "error",
          "ename": "Exception",
          "evalue": "not implemented",
          "traceback": [
            "\u001b[0;31m---------------------------------------------------------------------------\u001b[0m",
            "\u001b[0;31mException\u001b[0m                                 Traceback (most recent call last)",
            "\u001b[0;32m<ipython-input-119-6d7e85a153d1>\u001b[0m in \u001b[0;36m<cell line: 3>\u001b[0;34m()\u001b[0m\n\u001b[1;32m      1\u001b[0m \u001b[0mf\u001b[0m \u001b[0;34m=\u001b[0m \u001b[0mModule\u001b[0m\u001b[0;34m(\u001b[0m\u001b[0;34m)\u001b[0m\u001b[0;34m\u001b[0m\u001b[0;34m\u001b[0m\u001b[0m\n\u001b[1;32m      2\u001b[0m \u001b[0;34m\u001b[0m\u001b[0m\n\u001b[0;32m----> 3\u001b[0;31m \u001b[0mf\u001b[0m\u001b[0;34m.\u001b[0m\u001b[0mforward\u001b[0m\u001b[0;34m(\u001b[0m\u001b[0;34m)\u001b[0m\u001b[0;34m\u001b[0m\u001b[0;34m\u001b[0m\u001b[0m\n\u001b[0m",
            "\u001b[0;32m<ipython-input-118-78daf2ea5746>\u001b[0m in \u001b[0;36mforward\u001b[0;34m(self)\u001b[0m\n\u001b[1;32m      6\u001b[0m \u001b[0;34m\u001b[0m\u001b[0m\n\u001b[1;32m      7\u001b[0m   \u001b[0;32mdef\u001b[0m \u001b[0mforward\u001b[0m\u001b[0;34m(\u001b[0m\u001b[0mself\u001b[0m\u001b[0;34m)\u001b[0m\u001b[0;34m:\u001b[0m\u001b[0;34m\u001b[0m\u001b[0;34m\u001b[0m\u001b[0m\n\u001b[0;32m----> 8\u001b[0;31m     \u001b[0;32mraise\u001b[0m \u001b[0mException\u001b[0m\u001b[0;34m(\u001b[0m\u001b[0;34m'not implemented'\u001b[0m\u001b[0;34m)\u001b[0m\u001b[0;34m\u001b[0m\u001b[0;34m\u001b[0m\u001b[0m\n\u001b[0m\u001b[1;32m      9\u001b[0m \u001b[0;34m\u001b[0m\u001b[0m\n\u001b[1;32m     10\u001b[0m \u001b[0;34m\u001b[0m\u001b[0m\n",
            "\u001b[0;31mException\u001b[0m: not implemented"
          ]
        }
      ]
    },
    {
      "cell_type": "code",
      "source": [
        "Module"
      ],
      "metadata": {
        "colab": {
          "base_uri": "https://localhost:8080/"
        },
        "id": "mD_-YbxoxwcT",
        "outputId": "4eb17c80-9aab-4f59-910a-cfb0e2130bcc"
      },
      "execution_count": 120,
      "outputs": [
        {
          "output_type": "execute_result",
          "data": {
            "text/plain": [
              "__main__.Module"
            ]
          },
          "metadata": {},
          "execution_count": 120
        }
      ]
    },
    {
      "cell_type": "code",
      "source": [
        "class Relu(Module):\n",
        "\n",
        "  def forward(self, inp):\n",
        "    return inp.clamp_min(0.)\n",
        "\n",
        "  def bwd(self, out, inp):\n",
        "    inp.g = (inp>0).float() * out.g"
      ],
      "metadata": {
        "id": "Kkf9HS_T5CRU"
      },
      "execution_count": 121,
      "outputs": []
    },
    {
      "cell_type": "code",
      "source": [
        "class Lin(Module):\n",
        "  def __init__(self, w, b):\n",
        "    self.w , self.b = w , b\n",
        "  def forward(self, inp):\n",
        "    return inp @ self.w + self.b\n",
        "  def bwd(self, out, inp):\n",
        "    inp.g = self.out.g @ self.w.t()\n",
        "    self.w.g = inp.t() @ self.out.g\n",
        "    self.b.g = self.out.g.sum(0)"
      ],
      "metadata": {
        "id": "oQIDwIkt5CTz"
      },
      "execution_count": 122,
      "outputs": []
    },
    {
      "cell_type": "code",
      "source": [
        "class Mse(Module):\n",
        "  def forward(self, inp, targ):\n",
        "    return (inp.squeeze() - targ).pow(2).mean()\n",
        "  def bwd(self, out, inp, targ):\n",
        "    inp.g = 2*(inp.squeeze() - targ).unsqueeze(-1)/targ.shape[0]\n",
        ""
      ],
      "metadata": {
        "id": "lBvoS-xc5CWm"
      },
      "execution_count": 123,
      "outputs": []
    },
    {
      "cell_type": "code",
      "source": [
        "model = Model(w1, b1, w2, b2)"
      ],
      "metadata": {
        "id": "SlQEhEbHxwfj"
      },
      "execution_count": 124,
      "outputs": []
    },
    {
      "cell_type": "code",
      "source": [
        "loss = model(x_train, y_train)"
      ],
      "metadata": {
        "id": "V3o7XdLpxwh5"
      },
      "execution_count": 125,
      "outputs": []
    },
    {
      "cell_type": "code",
      "source": [
        "model.backward()"
      ],
      "metadata": {
        "id": "Iv-v3fa6xwj1"
      },
      "execution_count": 126,
      "outputs": []
    },
    {
      "cell_type": "code",
      "source": [
        "test_close(w2g, w2.g, eps=0.01)\n",
        "test_close(b2g, b2.g, eps=0.01)\n",
        "test_close(w1g, w1.g, eps=0.01)\n",
        "test_close(b1g, b1.g, eps=0.01)\n",
        "test_close(ig, x_train.g, eps=0.01)"
      ],
      "metadata": {
        "id": "jDnyW0P5xwmu"
      },
      "execution_count": 127,
      "outputs": []
    },
    {
      "cell_type": "code",
      "source": [],
      "metadata": {
        "id": "eGCGTzauxwor"
      },
      "execution_count": 127,
      "outputs": []
    },
    {
      "cell_type": "code",
      "source": [
        "a = [1,2,3]\n",
        "a,*z = a\n",
        "a,z"
      ],
      "metadata": {
        "colab": {
          "base_uri": "https://localhost:8080/"
        },
        "id": "rhcdInHnxwra",
        "outputId": "7eca6704-4218-4ee5-a847-00da41bc137c"
      },
      "execution_count": 128,
      "outputs": [
        {
          "output_type": "execute_result",
          "data": {
            "text/plain": [
              "(1, [2, 3])"
            ]
          },
          "metadata": {},
          "execution_count": 128
        }
      ]
    },
    {
      "cell_type": "code",
      "source": [],
      "metadata": {
        "id": "YJC8QuvQHBYl"
      },
      "execution_count": 128,
      "outputs": []
    },
    {
      "cell_type": "code",
      "source": [],
      "metadata": {
        "id": "w3AIvBwVHcFA"
      },
      "execution_count": 128,
      "outputs": []
    },
    {
      "cell_type": "markdown",
      "source": [
        "## Autograd"
      ],
      "metadata": {
        "id": "rCwi3yDROVCn"
      }
    },
    {
      "cell_type": "code",
      "source": [
        "# using pytorch's modules\n",
        "\n",
        "from torch import nn\n",
        "import torch.nn.functional as F"
      ],
      "metadata": {
        "id": "t6yr1_HAOWdM"
      },
      "execution_count": 129,
      "outputs": []
    },
    {
      "cell_type": "code",
      "source": [
        "class Linear( nn.Module):\n",
        "  def __init__( self, n_in, n_out):\n",
        "    super().__init__()\n",
        "    self.w = torch.randn( n_in, n_out). requires_grad_()\n",
        "    self.b = torch.zeros(n_out).requires_grad_()\n",
        "\n",
        "  def forward(self, inp):\n",
        "    return inp @ self.w + self.b"
      ],
      "metadata": {
        "id": "EXAzZPmPOa0s"
      },
      "execution_count": 130,
      "outputs": []
    },
    {
      "cell_type": "code",
      "source": [
        "class Model(nn.Module):\n",
        "  def __init__(self, n_in, nh, n_out):\n",
        "    super().__init__()\n",
        "    self.layers = [Linear(n_in, nh), nn.ReLU(), Linear(nh, n_out)]\n",
        "\n",
        "  def __call__(self, x, targ):\n",
        "    for l in self.layers:\n",
        "      x = l(x)\n",
        "    return F.mse_loss(x, targ[:,None])"
      ],
      "metadata": {
        "id": "PELwdiLOObZ7"
      },
      "execution_count": 131,
      "outputs": []
    },
    {
      "cell_type": "code",
      "source": [
        "model = Model(m,nh,1)\n",
        "loss = model(x_train, y_train)\n",
        "loss.backward()"
      ],
      "metadata": {
        "id": "OYb9F77wObcS"
      },
      "execution_count": 132,
      "outputs": []
    },
    {
      "cell_type": "code",
      "source": [
        "print(model)"
      ],
      "metadata": {
        "id": "4HS8a2qyQkaR",
        "outputId": "0beff9c7-3c0a-4f1f-bcf9-c38c8239f8fc",
        "colab": {
          "base_uri": "https://localhost:8080/"
        }
      },
      "execution_count": 133,
      "outputs": [
        {
          "output_type": "stream",
          "name": "stdout",
          "text": [
            "Model()\n"
          ]
        }
      ]
    },
    {
      "cell_type": "code",
      "source": [
        "l0 = model.layers[0]"
      ],
      "metadata": {
        "id": "xVf6oEhKObfd"
      },
      "execution_count": 139,
      "outputs": []
    },
    {
      "cell_type": "code",
      "source": [
        "model.layers"
      ],
      "metadata": {
        "id": "g_9-bwvnObhk",
        "outputId": "de3814b6-3c91-4e46-dcdd-840556d473f6",
        "colab": {
          "base_uri": "https://localhost:8080/"
        }
      },
      "execution_count": 140,
      "outputs": [
        {
          "output_type": "execute_result",
          "data": {
            "text/plain": [
              "[Linear(), ReLU(), Linear()]"
            ]
          },
          "metadata": {},
          "execution_count": 140
        }
      ]
    },
    {
      "cell_type": "code",
      "source": [
        "model.layers[0].b"
      ],
      "metadata": {
        "id": "haq7bbMpObj1",
        "outputId": "fd81a8fa-9b33-45ad-ab03-22d756809b9f",
        "colab": {
          "base_uri": "https://localhost:8080/"
        }
      },
      "execution_count": 141,
      "outputs": [
        {
          "output_type": "execute_result",
          "data": {
            "text/plain": [
              "tensor([0., 0., 0., 0., 0., 0., 0., 0., 0., 0., 0., 0., 0., 0., 0., 0., 0., 0., 0., 0., 0., 0., 0., 0., 0., 0., 0., 0., 0., 0., 0., 0., 0., 0., 0., 0., 0., 0., 0.,\n",
              "        0., 0., 0., 0., 0., 0., 0., 0., 0., 0., 0.], requires_grad=True)"
            ]
          },
          "metadata": {},
          "execution_count": 141
        }
      ]
    },
    {
      "cell_type": "code",
      "source": [
        "model.layers[0].b.grad"
      ],
      "metadata": {
        "id": "dya4uSg3Obl-",
        "outputId": "b89072c6-9678-4200-c74b-4e31b8c43aa6",
        "colab": {
          "base_uri": "https://localhost:8080/"
        }
      },
      "execution_count": 142,
      "outputs": [
        {
          "output_type": "execute_result",
          "data": {
            "text/plain": [
              "tensor([   109.31,     50.41,    -91.41,     31.41,     -7.25,     16.97,    -54.46,    -59.13,    179.26,    192.57,\n",
              "           -14.44,    -41.44,     54.35,     -2.57,     21.33,    -31.34,    -18.35,     70.71,     29.69,    -18.49,\n",
              "           -41.22,    -19.29,    -19.57,    -38.57,      2.60,     41.52,      8.74,    -22.35,      9.63,      1.19,\n",
              "           -97.60,     47.12,    105.28,    122.27,     50.05,     75.48,     32.27,   -110.76,    -31.11,    130.81,\n",
              "            57.49,    -22.21,      1.67,    -19.90,     27.62,      0.17,     98.82,    -44.97,     16.96,     35.19])"
            ]
          },
          "metadata": {},
          "execution_count": 142
        }
      ]
    },
    {
      "cell_type": "code",
      "source": [
        "model.layers[0].b.grad"
      ],
      "metadata": {
        "id": "njbPdlffObpJ",
        "outputId": "5418a3b3-f31d-4178-bd41-978bbb11fce3",
        "colab": {
          "base_uri": "https://localhost:8080/"
        }
      },
      "execution_count": 143,
      "outputs": [
        {
          "output_type": "execute_result",
          "data": {
            "text/plain": [
              "tensor([   109.31,     50.41,    -91.41,     31.41,     -7.25,     16.97,    -54.46,    -59.13,    179.26,    192.57,\n",
              "           -14.44,    -41.44,     54.35,     -2.57,     21.33,    -31.34,    -18.35,     70.71,     29.69,    -18.49,\n",
              "           -41.22,    -19.29,    -19.57,    -38.57,      2.60,     41.52,      8.74,    -22.35,      9.63,      1.19,\n",
              "           -97.60,     47.12,    105.28,    122.27,     50.05,     75.48,     32.27,   -110.76,    -31.11,    130.81,\n",
              "            57.49,    -22.21,      1.67,    -19.90,     27.62,      0.17,     98.82,    -44.97,     16.96,     35.19])"
            ]
          },
          "metadata": {},
          "execution_count": 143
        }
      ]
    },
    {
      "cell_type": "code",
      "source": [],
      "metadata": {
        "id": "M73xBbKnSGnd"
      },
      "execution_count": null,
      "outputs": []
    },
    {
      "cell_type": "code",
      "source": [
        "model.layers[2].b"
      ],
      "metadata": {
        "id": "wJNZ8wXJSGpp",
        "outputId": "c631c41b-fcf1-4d2e-f453-6d9e1a0e86f0",
        "colab": {
          "base_uri": "https://localhost:8080/"
        }
      },
      "execution_count": 148,
      "outputs": [
        {
          "output_type": "execute_result",
          "data": {
            "text/plain": [
              "tensor([0.], requires_grad=True)"
            ]
          },
          "metadata": {},
          "execution_count": 148
        }
      ]
    },
    {
      "cell_type": "code",
      "source": [],
      "metadata": {
        "id": "5H78K_QQObqQ"
      },
      "execution_count": 134,
      "outputs": []
    },
    {
      "cell_type": "code",
      "source": [],
      "metadata": {
        "id": "lZ6KrYdaObsD"
      },
      "execution_count": null,
      "outputs": []
    },
    {
      "cell_type": "code",
      "source": [],
      "metadata": {
        "id": "z3UD3g7oObtS"
      },
      "execution_count": null,
      "outputs": []
    }
  ]
}