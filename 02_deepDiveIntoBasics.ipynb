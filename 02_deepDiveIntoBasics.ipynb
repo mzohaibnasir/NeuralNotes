{
  "nbformat": 4,
  "nbformat_minor": 0,
  "metadata": {
    "colab": {
      "provenance": [],
      "authorship_tag": "ABX9TyNC9c8vO1inDChL0SZUXXSc",
      "include_colab_link": true
    },
    "kernelspec": {
      "name": "python3",
      "display_name": "Python 3"
    },
    "language_info": {
      "name": "python"
    }
  },
  "cells": [
    {
      "cell_type": "markdown",
      "metadata": {
        "id": "view-in-github",
        "colab_type": "text"
      },
      "source": [
        "<a href=\"https://colab.research.google.com/github/mzohaibnasir/NeuralNotes/blob/main/02_deepDiveIntoBasics.ipynb\" target=\"_parent\"><img src=\"https://colab.research.google.com/assets/colab-badge.svg\" alt=\"Open In Colab\"/></a>"
      ]
    },
    {
      "cell_type": "markdown",
      "source": [
        "# Forward & Backward passes"
      ],
      "metadata": {
        "id": "TLezIimXsc4n"
      }
    },
    {
      "cell_type": "code",
      "source": [
        "from pathlib import Path\n",
        "import pickle , gzip,math, os, time, shutil,matplotlib.pyplot as plt, matplotlib as mpl, numpy as np\n",
        "\n",
        "import torch\n",
        "from torch import tensor\n",
        "from fastcore.test import test_close\n"
      ],
      "metadata": {
        "id": "7vMv98fmsGbt"
      },
      "execution_count": 1,
      "outputs": []
    },
    {
      "cell_type": "code",
      "source": [
        "MNIST_URL='https://github.com/mnielsen/neural-networks-and-deep-learning/blob/d15df08a69ed33ae16a2fff874f83b57a956172c/data/mnist.pkl.gz?raw=true'\n",
        "path_data = Path('data')\n",
        "path_data.mkdir(exist_ok=True )\n",
        "path_gz=path_data/'mnist.pkl.gz'\n",
        "path_gz"
      ],
      "metadata": {
        "colab": {
          "base_uri": "https://localhost:8080/"
        },
        "id": "-VwA2QT4sGeG",
        "outputId": "1537e609-ed2e-4f46-9a09-7af34c81c5a4"
      },
      "execution_count": 2,
      "outputs": [
        {
          "output_type": "execute_result",
          "data": {
            "text/plain": [
              "PosixPath('data/mnist.pkl.gz')"
            ]
          },
          "metadata": {},
          "execution_count": 2
        }
      ]
    },
    {
      "cell_type": "code",
      "source": [
        "from urllib.request import urlretrieve\n",
        "\n",
        "if not path_gz.exists(): urlretrieve(MNIST_URL, path_gz)"
      ],
      "metadata": {
        "id": "T9mUQv0HuQ-J"
      },
      "execution_count": 3,
      "outputs": []
    },
    {
      "cell_type": "code",
      "source": [
        "torch.manual_seed(42)\n",
        "\n",
        "\n",
        "mpl.rcParams['image.cmap'] = 'gray'\n",
        "torch.set_printoptions(precision=2, linewidth=125, sci_mode=False)\n",
        "np.set_printoptions(precision=2, linewidth=125)\n"
      ],
      "metadata": {
        "id": "P0osYjnusGgc"
      },
      "execution_count": 4,
      "outputs": []
    },
    {
      "cell_type": "code",
      "source": [
        "!ls -l data"
      ],
      "metadata": {
        "colab": {
          "base_uri": "https://localhost:8080/"
        },
        "id": "_olIsAhKsGi2",
        "outputId": "25417d14-0835-41ed-dec4-90c85a13ad5c"
      },
      "execution_count": 5,
      "outputs": [
        {
          "output_type": "stream",
          "name": "stdout",
          "text": [
            "total 16656\n",
            "-rw-r--r-- 1 root root 17051982 Jan 10 14:47 mnist.pkl.gz\n"
          ]
        }
      ]
    },
    {
      "cell_type": "code",
      "source": [
        "with gzip.open(path_gz, 'rb') as f:   #read as binary as opposed to text\n",
        "   ((x_train,y_train), (x_valid,y_valid), _) = pickle.load(f, encoding='latin-1') #destructuring\n",
        "x_train, y_train, x_valid, y_valid = map(tensor, [x_train, y_train, x_valid, y_valid])"
      ],
      "metadata": {
        "id": "uueXA51Ls_N0"
      },
      "execution_count": 6,
      "outputs": []
    },
    {
      "cell_type": "code",
      "source": [
        "np.array(x_train).shape"
      ],
      "metadata": {
        "colab": {
          "base_uri": "https://localhost:8080/"
        },
        "id": "FE0td_KYsLWi",
        "outputId": "0ef293b1-b850-48ab-f975-2f3cba18524e"
      },
      "execution_count": 7,
      "outputs": [
        {
          "output_type": "execute_result",
          "data": {
            "text/plain": [
              "(50000, 784)"
            ]
          },
          "metadata": {},
          "execution_count": 7
        }
      ]
    },
    {
      "cell_type": "code",
      "source": [
        "path_gz"
      ],
      "metadata": {
        "colab": {
          "base_uri": "https://localhost:8080/"
        },
        "id": "2GFh0pcusLYp",
        "outputId": "bf858f9f-1396-460c-b670-3fec4e6aa3f1"
      },
      "execution_count": 8,
      "outputs": [
        {
          "output_type": "execute_result",
          "data": {
            "text/plain": [
              "PosixPath('data/mnist.pkl.gz')"
            ]
          },
          "metadata": {},
          "execution_count": 8
        }
      ]
    },
    {
      "cell_type": "code",
      "source": [
        "n,m = x_train.shape  # n: # of training samples   m: pixels\n",
        "c = y_train.max()+1  # posible ouputs\n",
        "n, m, c"
      ],
      "metadata": {
        "colab": {
          "base_uri": "https://localhost:8080/"
        },
        "id": "J2pIXNd0sLay",
        "outputId": "9d835f06-2fca-429d-a062-dc63e121961b"
      },
      "execution_count": 9,
      "outputs": [
        {
          "output_type": "execute_result",
          "data": {
            "text/plain": [
              "(50000, 784, tensor(10))"
            ]
          },
          "metadata": {},
          "execution_count": 9
        }
      ]
    },
    {
      "cell_type": "code",
      "source": [
        "nh = 50  # hidden activations # # of REctified lines to add up"
      ],
      "metadata": {
        "id": "n-1M5SEisLc5"
      },
      "execution_count": 10,
      "outputs": []
    },
    {
      "cell_type": "code",
      "source": [
        "w1 = torch.randn(m, nh)\n",
        "b1 = torch.zeros(nh) # bias\n",
        "w2 = torch.randn(nh,1)  # 1  output\n",
        "b2 = torch.zeros(1)\n",
        "\n",
        "w1.shape, b1.shape,w2.shape, b2.shape"
      ],
      "metadata": {
        "id": "aXRWXKZKsLew",
        "outputId": "414c5944-6e9f-42de-d7b2-d313e8011644",
        "colab": {
          "base_uri": "https://localhost:8080/"
        }
      },
      "execution_count": 11,
      "outputs": [
        {
          "output_type": "execute_result",
          "data": {
            "text/plain": [
              "(torch.Size([784, 50]), torch.Size([50]), torch.Size([50, 1]), torch.Size([1]))"
            ]
          },
          "metadata": {},
          "execution_count": 11
        }
      ]
    },
    {
      "cell_type": "code",
      "source": [
        "def lin(x, w, b):\n",
        "  print(f\" x:{x.shape} \\n w:{w.shape} \\n b:{b.shape}\")\n",
        "  return x@w + b"
      ],
      "metadata": {
        "id": "fg1HHMn9tePT"
      },
      "execution_count": 12,
      "outputs": []
    },
    {
      "cell_type": "code",
      "source": [
        "t = lin(x_valid, w1, b1)\n",
        "t.shape"
      ],
      "metadata": {
        "colab": {
          "base_uri": "https://localhost:8080/"
        },
        "id": "MszEuSjCteRp",
        "outputId": "c4251f06-76df-419b-cf9c-f6c23578cbd5"
      },
      "execution_count": 13,
      "outputs": [
        {
          "output_type": "stream",
          "name": "stdout",
          "text": [
            " x:torch.Size([10000, 784]) \n",
            " w:torch.Size([784, 50]) \n",
            " b:torch.Size([50])\n"
          ]
        },
        {
          "output_type": "execute_result",
          "data": {
            "text/plain": [
              "torch.Size([10000, 50])"
            ]
          },
          "metadata": {},
          "execution_count": 13
        }
      ]
    },
    {
      "cell_type": "code",
      "source": [
        "t"
      ],
      "metadata": {
        "id": "tJWTdnGgteTr",
        "outputId": "67c4715e-b55f-410f-becf-22ada9db7898",
        "colab": {
          "base_uri": "https://localhost:8080/"
        }
      },
      "execution_count": 14,
      "outputs": [
        {
          "output_type": "execute_result",
          "data": {
            "text/plain": [
              "tensor([[ -0.09,  11.87, -11.39,  ...,   5.48,   2.14,  15.30],\n",
              "        [  5.38,  10.21, -14.49,  ...,   0.88,   0.08,  20.23],\n",
              "        [  3.31,   0.12,   3.10,  ...,  16.89,  -6.05,  24.74],\n",
              "        ...,\n",
              "        [  4.01,  10.35, -11.25,  ...,   0.23,  -5.30,  18.28],\n",
              "        [ 10.62,  -4.27,  10.72,  ...,  -2.87,  -2.87,  18.23],\n",
              "        [  2.84,  -0.22,   1.43,  ...,  -3.91,   5.75,   2.12]])"
            ]
          },
          "metadata": {},
          "execution_count": 14
        }
      ]
    },
    {
      "cell_type": "code",
      "source": [
        "def relu(x):\n",
        "  return x.clamp_min(0.)  # under 0 would be 0\n",
        "\n",
        "\n",
        "t = relu(t)\n",
        "t"
      ],
      "metadata": {
        "id": "32yyqBQCteWO",
        "outputId": "a9a78e5b-8b88-48ee-cb08-8b47c9bc1418",
        "colab": {
          "base_uri": "https://localhost:8080/"
        }
      },
      "execution_count": 15,
      "outputs": [
        {
          "output_type": "execute_result",
          "data": {
            "text/plain": [
              "tensor([[ 0.00, 11.87,  0.00,  ...,  5.48,  2.14, 15.30],\n",
              "        [ 5.38, 10.21,  0.00,  ...,  0.88,  0.08, 20.23],\n",
              "        [ 3.31,  0.12,  3.10,  ..., 16.89,  0.00, 24.74],\n",
              "        ...,\n",
              "        [ 4.01, 10.35,  0.00,  ...,  0.23,  0.00, 18.28],\n",
              "        [10.62,  0.00, 10.72,  ...,  0.00,  0.00, 18.23],\n",
              "        [ 2.84,  0.00,  1.43,  ...,  0.00,  5.75,  2.12]])"
            ]
          },
          "metadata": {},
          "execution_count": 15
        }
      ]
    },
    {
      "cell_type": "code",
      "source": [
        "def model(xb):\n",
        "  l1 = lin(xb, w1, b1)\n",
        "  l2 = relu(l1)\n",
        "  return lin(l2,w2,b2)\n",
        "\n",
        "model(x_valid).shape"
      ],
      "metadata": {
        "id": "QZyCyK2xsLgy",
        "outputId": "dc73bcae-6dc8-463a-c1d9-f761e256ac0b",
        "colab": {
          "base_uri": "https://localhost:8080/"
        }
      },
      "execution_count": 16,
      "outputs": [
        {
          "output_type": "stream",
          "name": "stdout",
          "text": [
            " x:torch.Size([10000, 784]) \n",
            " w:torch.Size([784, 50]) \n",
            " b:torch.Size([50])\n",
            " x:torch.Size([10000, 50]) \n",
            " w:torch.Size([50, 1]) \n",
            " b:torch.Size([1])\n"
          ]
        },
        {
          "output_type": "execute_result",
          "data": {
            "text/plain": [
              "torch.Size([10000, 1])"
            ]
          },
          "metadata": {},
          "execution_count": 16
        }
      ]
    },
    {
      "cell_type": "code",
      "source": [
        "res  = model(x_valid)\n",
        "res.shape"
      ],
      "metadata": {
        "id": "ik-1gPNB9xJ9",
        "outputId": "478ac446-4f40-49ce-d875-3b317a8cae20",
        "colab": {
          "base_uri": "https://localhost:8080/"
        }
      },
      "execution_count": 17,
      "outputs": [
        {
          "output_type": "stream",
          "name": "stdout",
          "text": [
            " x:torch.Size([10000, 784]) \n",
            " w:torch.Size([784, 50]) \n",
            " b:torch.Size([50])\n",
            " x:torch.Size([10000, 50]) \n",
            " w:torch.Size([50, 1]) \n",
            " b:torch.Size([1])\n"
          ]
        },
        {
          "output_type": "execute_result",
          "data": {
            "text/plain": [
              "torch.Size([10000, 1])"
            ]
          },
          "metadata": {},
          "execution_count": 17
        }
      ]
    },
    {
      "cell_type": "code",
      "source": [],
      "metadata": {
        "id": "v-_dTAAs9xL1"
      },
      "execution_count": 17,
      "outputs": []
    },
    {
      "cell_type": "markdown",
      "source": [
        "## Loss: MSE\n",
        "ofcourse MSE is not suitable"
      ],
      "metadata": {
        "id": "_T-5ONT--Z3N"
      }
    },
    {
      "cell_type": "code",
      "source": [
        "res.shape, y_valid.shape  # y_valid is to compare with   # 1 in (10000,1) would be first broadcasted to corresponding y_valid first\n",
        "                            # and when it comes 10000 in (10000,1) y_valis's shape becomes (1, 10000); repeating everything"
      ],
      "metadata": {
        "id": "KdV_zdB29xNk",
        "outputId": "5b7d1396-44e8-4be9-ce05-148c88d4bec5",
        "colab": {
          "base_uri": "https://localhost:8080/"
        }
      },
      "execution_count": 18,
      "outputs": [
        {
          "output_type": "execute_result",
          "data": {
            "text/plain": [
              "(torch.Size([10000, 1]), torch.Size([10000]))"
            ]
          },
          "metadata": {},
          "execution_count": 18
        }
      ]
    },
    {
      "cell_type": "code",
      "source": [
        "(res - y_valid).shape  # each element in res's distance to each element in y_valid so a matrix"
      ],
      "metadata": {
        "id": "5xA4oMtm9xRF",
        "outputId": "3125ff13-4115-4f71-a6e9-0820a3335650",
        "colab": {
          "base_uri": "https://localhost:8080/"
        }
      },
      "execution_count": 19,
      "outputs": [
        {
          "output_type": "execute_result",
          "data": {
            "text/plain": [
              "torch.Size([10000, 10000])"
            ]
          },
          "metadata": {},
          "execution_count": 19
        }
      ]
    },
    {
      "cell_type": "code",
      "source": [
        "# so make Y-valid shapes (10000, 1)\n",
        "\n",
        "(res - y_valid[:,None]).shape, (res - y_valid[:,None])"
      ],
      "metadata": {
        "id": "oX-sbem39xTN",
        "outputId": "d41d2838-3e93-4eae-d605-280a890b134b",
        "colab": {
          "base_uri": "https://localhost:8080/"
        }
      },
      "execution_count": 20,
      "outputs": [
        {
          "output_type": "execute_result",
          "data": {
            "text/plain": [
              "(torch.Size([10000, 1]),\n",
              " tensor([[  22.75],\n",
              "         [ -21.06],\n",
              "         [-120.79],\n",
              "         ...,\n",
              "         [ -72.44],\n",
              "         [ -80.48],\n",
              "         [ -68.19]]))"
            ]
          },
          "metadata": {},
          "execution_count": 20
        }
      ]
    },
    {
      "cell_type": "code",
      "source": [
        "(res.squeeze() - y_valid).shape, (res.squeeze() - y_valid)"
      ],
      "metadata": {
        "id": "XqWE-twe9xWA",
        "outputId": "298a8783-dbab-4100-d3c1-c8006a3ba7ce",
        "colab": {
          "base_uri": "https://localhost:8080/"
        }
      },
      "execution_count": 21,
      "outputs": [
        {
          "output_type": "execute_result",
          "data": {
            "text/plain": [
              "(torch.Size([10000]),\n",
              " tensor([  22.75,  -21.06, -120.79,  ...,  -72.44,  -80.48,  -68.19]))"
            ]
          },
          "metadata": {},
          "execution_count": 21
        }
      ]
    },
    {
      "cell_type": "code",
      "source": [
        "#or\n",
        "#res[:, 0].shape : extracts first columns\n",
        "#res[0,:].shape : extracts first row\n",
        "\n",
        "\n",
        "res.shape, res[:, 0].shape, res[0,:].shape"
      ],
      "metadata": {
        "id": "Jo12Z1GbATJc",
        "outputId": "972fa7df-3d8b-4c42-bff8-7cd411cd6ef6",
        "colab": {
          "base_uri": "https://localhost:8080/"
        }
      },
      "execution_count": 22,
      "outputs": [
        {
          "output_type": "execute_result",
          "data": {
            "text/plain": [
              "(torch.Size([10000, 1]), torch.Size([10000]), torch.Size([1]))"
            ]
          },
          "metadata": {},
          "execution_count": 22
        }
      ]
    },
    {
      "cell_type": "code",
      "source": [
        "res.shape, res[None, : , None].shape, (res[None, : , None]).squeeze().shape"
      ],
      "metadata": {
        "id": "WJR1MGUgAi4s",
        "outputId": "0a02fd57-7487-419a-915b-5e36679a7768",
        "colab": {
          "base_uri": "https://localhost:8080/"
        }
      },
      "execution_count": 23,
      "outputs": [
        {
          "output_type": "execute_result",
          "data": {
            "text/plain": [
              "(torch.Size([10000, 1]), torch.Size([1, 10000, 1, 1]), torch.Size([10000]))"
            ]
          },
          "metadata": {},
          "execution_count": 23
        }
      ]
    },
    {
      "cell_type": "code",
      "source": [
        "# so,\n",
        "\n",
        "(res[:,0] - y_valid).shape"
      ],
      "metadata": {
        "id": "_CYazBijAjeH",
        "outputId": "eee0cc77-f3c6-490e-c85f-646356f01d61",
        "colab": {
          "base_uri": "https://localhost:8080/"
        }
      },
      "execution_count": 24,
      "outputs": [
        {
          "output_type": "execute_result",
          "data": {
            "text/plain": [
              "torch.Size([10000])"
            ]
          },
          "metadata": {},
          "execution_count": 24
        }
      ]
    },
    {
      "cell_type": "code",
      "source": [
        "y_train, y_valid = y_train.float(), y_valid.float()\n",
        "\n",
        "preds = model(x_train)\n",
        "preds.shape"
      ],
      "metadata": {
        "id": "xWKTNFF_AjgR",
        "outputId": "57227f73-2189-4a97-8ce9-02a2858ff81a",
        "colab": {
          "base_uri": "https://localhost:8080/"
        }
      },
      "execution_count": 25,
      "outputs": [
        {
          "output_type": "stream",
          "name": "stdout",
          "text": [
            " x:torch.Size([50000, 784]) \n",
            " w:torch.Size([784, 50]) \n",
            " b:torch.Size([50])\n",
            " x:torch.Size([50000, 50]) \n",
            " w:torch.Size([50, 1]) \n",
            " b:torch.Size([1])\n"
          ]
        },
        {
          "output_type": "execute_result",
          "data": {
            "text/plain": [
              "torch.Size([50000, 1])"
            ]
          },
          "metadata": {},
          "execution_count": 25
        }
      ]
    },
    {
      "cell_type": "code",
      "source": [
        "def mse( output, targ):\n",
        "  print(f\"output: {output.shape}, targ: {targ.shape}\")\n",
        "  return (output[:, 0] - targ).pow(2).mean()\n",
        "\n",
        "mse(preds, y_train)"
      ],
      "metadata": {
        "id": "7uLg4FKoAjia",
        "outputId": "dc85539c-ca1e-4f41-bb78-7e069bd8bd4a",
        "colab": {
          "base_uri": "https://localhost:8080/"
        }
      },
      "execution_count": 26,
      "outputs": [
        {
          "output_type": "stream",
          "name": "stdout",
          "text": [
            "output: torch.Size([50000, 1]), targ: torch.Size([50000])\n"
          ]
        },
        {
          "output_type": "execute_result",
          "data": {
            "text/plain": [
              "tensor(4308.76)"
            ]
          },
          "metadata": {},
          "execution_count": 26
        }
      ]
    },
    {
      "cell_type": "code",
      "source": [],
      "metadata": {
        "id": "AW3FCPvaAjk1"
      },
      "execution_count": 26,
      "outputs": []
    },
    {
      "cell_type": "markdown",
      "source": [
        "## Gradients & backward pass"
      ],
      "metadata": {
        "id": "8KDdvOnKCq1X"
      }
    },
    {
      "cell_type": "code",
      "source": [
        "from sympy import symbols, diff"
      ],
      "metadata": {
        "id": "Yz-A5TVtAjnk"
      },
      "execution_count": 27,
      "outputs": []
    },
    {
      "cell_type": "code",
      "source": [
        "x,y = symbols('x y')\n",
        "x,y"
      ],
      "metadata": {
        "id": "yv1RqvMkXocl",
        "outputId": "75933b2a-cf7f-4781-bda7-e4b5e415b6ac",
        "colab": {
          "base_uri": "https://localhost:8080/"
        }
      },
      "execution_count": 28,
      "outputs": [
        {
          "output_type": "execute_result",
          "data": {
            "text/plain": [
              "(x, y)"
            ]
          },
          "metadata": {},
          "execution_count": 28
        }
      ]
    },
    {
      "cell_type": "code",
      "source": [
        "diff(x**2, x) # taking differential"
      ],
      "metadata": {
        "id": "_ewjaQxnXoe6",
        "outputId": "5c01bf14-7b0f-46d5-f0fd-fc1e239e8b5f",
        "colab": {
          "base_uri": "https://localhost:8080/",
          "height": 39
        }
      },
      "execution_count": 29,
      "outputs": [
        {
          "output_type": "execute_result",
          "data": {
            "text/plain": [
              "2*x"
            ],
            "text/latex": "$\\displaystyle 2 x$"
          },
          "metadata": {},
          "execution_count": 29
        }
      ]
    },
    {
      "cell_type": "code",
      "source": [
        "diff(3*x**2 +9, x)"
      ],
      "metadata": {
        "id": "J_QttkwLXohB",
        "outputId": "fb186222-bed8-419d-a235-2a4bb11d803c",
        "colab": {
          "base_uri": "https://localhost:8080/",
          "height": 39
        }
      },
      "execution_count": 30,
      "outputs": [
        {
          "output_type": "execute_result",
          "data": {
            "text/plain": [
              "6*x"
            ],
            "text/latex": "$\\displaystyle 6 x$"
          },
          "metadata": {},
          "execution_count": 30
        }
      ]
    },
    {
      "cell_type": "code",
      "source": [
        "def lin_grad(inp, out, w, b):   # inp is being manipulated here  # just multiply by output gradients in all values\n",
        "  # grad of matmul w.r.t input\n",
        "\n",
        "  # here  inp contains the original input values used in the forward pass. inp.g attribute of inp is assigned the gradient information calculated during the backward pass.\n",
        "  #The original values of inp are still present in the tensor, but now the .g attribute holds the calculated gradients.\n",
        "  inp.g = out.g @ w.t()  # gradient of output w.r.t input   # multiplying weights with gradients of ouput\n",
        "  # import pdb; pdb.set_trace()  # tellls debugger its breakpoint\n",
        "  # breakpoint()\n",
        "\n",
        "  # print(f\"inp: {inp.shape}  ******   inp.g: {inp.g.shape}\" )\n",
        "\n",
        "\n",
        "  # print(f\"   inp.unsqueeze(-1): {inp.unsqueeze(-1).shape} ||||  inp: {inp.shape}\")\n",
        "  # print(f\"** inp: { inp.shape } * out.g: {out.g.shape}\")\n",
        "\n",
        "  # w.g = (inp.unsqueeze(-1) * out.g.unsqueeze(1)).sum(0)  # gradient of output w.r.t weights   # (inputs * output weights gradients ebcause of chain rule) summed over\n",
        "  # i,o = inp.unsqueeze(-1), out.g.unsqueeze(1)\n",
        "  # w.g = (i*o).sum(0)\n",
        "  # w.g = torch.einsum('ij,ik->jk', inp, out.g)\n",
        "  \"\"\"\n",
        "  but ij,ik->jk is not same as matrix multiplication.  we'd need to sawp i and j by using transpose\n",
        "  \"\"\"\n",
        "\n",
        "  w.g = inp.T@out.g\n",
        "\n",
        "\n",
        "\n",
        "  # print(f\"(inp.unsqueeze(-1) * out.g.unsqueeze(1)): {(inp.unsqueeze(-1) * out.g.unsqueeze(1)).shape}  || (inp.unsqueeze(-1) * out.g.unsqueeze(1)).sum(0).shape: {(inp.unsqueeze(-1) * out.g.unsqueeze(1)).sum(0).shape}\")\n",
        "  # print(f\"++ inp.unsqueeze(-1): { inp.unsqueeze(-1).shape } * out.g.unsqueeze(1): {out.g.unsqueeze(1).shape}\")\n",
        "  b.g = out.g.sum(0) # gradients of output summed over\n",
        "  # print(f\" out.g.sum(0): {b.g} ||| out.g : {out.g.shape}\")\n",
        "\n",
        "  # breakpoint()\n",
        "\n",
        "  \"\"\"\n",
        "\n",
        "\n",
        "  inp.g: Gradient of the input with respect to the loss. This line calculates the gradient of the loss with respect to the input inp. The formula used here is a common one in backpropagation for a linear layer. The gradient is computed by taking the dot product of the gradient of the output (out.g) and the transpose of the weight matrix (w.t()). This operation essentially backpropagates the error from the output to the input through the weight matrix.\n",
        "\n",
        "Mathematically, if L is the loss and i represents the input, this operation can be expressed as:\n",
        "\n",
        "dL/di = (dL/dout) * w.t()\n",
        "\"\"\""
      ],
      "metadata": {
        "id": "WS-L-lYVXojU"
      },
      "execution_count": 31,
      "outputs": []
    },
    {
      "cell_type": "code",
      "source": [
        "def forward_and_backward(inp, targ):\n",
        "  # forward\n",
        "  l1 = lin(inp, w1,b1)\n",
        "  l2 = relu(l1)\n",
        "  out = lin(l2, w2, b2)  # output of second layer\n",
        "  diff = out[:, 0]-targ\n",
        "  loss = diff.pow(2).mean()\n",
        "\n",
        "  #backward pass:\n",
        "  out.g = 2.*diff[:,None]/inp.shape[0]   # creating new attribute `.g`    # 2*diff because we took diff square    # divided my inp.shape[0] bcz we took mean\n",
        "  # print(f\"inp.shape[0]: {inp.shape[0]}   |   diff[:,None]: {diff[:,None].shape}  |  diff: {diff.shape}\")\n",
        "  lin_grad(l2, out, w2,b2)\n",
        "  l1.g = (l1>0).float() * l2.g\n",
        "  lin_grad(inp, l1,w1,b1)\n",
        "\n",
        "\n",
        "forward_and_backward(x_train, y_train)\n"
      ],
      "metadata": {
        "id": "G7Uo0MYyXolS",
        "colab": {
          "base_uri": "https://localhost:8080/"
        },
        "outputId": "79c7e269-10ee-4c49-c7ff-a062b0a59747"
      },
      "execution_count": 32,
      "outputs": [
        {
          "output_type": "stream",
          "name": "stdout",
          "text": [
            " x:torch.Size([50000, 784]) \n",
            " w:torch.Size([784, 50]) \n",
            " b:torch.Size([50])\n",
            " x:torch.Size([50000, 50]) \n",
            " w:torch.Size([50, 1]) \n",
            " b:torch.Size([1])\n"
          ]
        }
      ]
    },
    {
      "cell_type": "code",
      "source": [
        " w1.g.shape, x_train.g.shape"
      ],
      "metadata": {
        "id": "Z1tiSeb4Xomz",
        "colab": {
          "base_uri": "https://localhost:8080/"
        },
        "outputId": "98b3f7eb-cade-4bd8-bdfc-0fd82beb71e6"
      },
      "execution_count": 33,
      "outputs": [
        {
          "output_type": "execute_result",
          "data": {
            "text/plain": [
              "(torch.Size([784, 50]), torch.Size([50000, 784]))"
            ]
          },
          "metadata": {},
          "execution_count": 33
        }
      ]
    },
    {
      "cell_type": "code",
      "source": [
        "x_train.g"
      ],
      "metadata": {
        "id": "_wFOCaGJXopp",
        "colab": {
          "base_uri": "https://localhost:8080/"
        },
        "outputId": "9ee61e34-e163-4150-80ad-456b4897f534"
      },
      "execution_count": 34,
      "outputs": [
        {
          "output_type": "execute_result",
          "data": {
            "text/plain": [
              "tensor([[    -0.00,     -0.01,      0.00,  ...,     -0.00,      0.00,      0.00],\n",
              "        [    -0.03,     -0.03,      0.01,  ...,     -0.04,     -0.01,     -0.01],\n",
              "        [     0.00,      0.00,     -0.00,  ...,      0.00,     -0.00,      0.00],\n",
              "        ...,\n",
              "        [    -0.00,     -0.02,      0.01,  ...,     -0.00,     -0.00,      0.00],\n",
              "        [    -0.02,     -0.01,      0.01,  ...,     -0.01,      0.01,     -0.00],\n",
              "        [    -0.00,     -0.00,      0.00,  ...,     -0.00,     -0.00,     -0.00]])"
            ]
          },
          "metadata": {},
          "execution_count": 34
        }
      ]
    },
    {
      "cell_type": "code",
      "source": [
        "x_train.g.zero_()"
      ],
      "metadata": {
        "id": "tOom2djSOM0R",
        "outputId": "13b0aa11-0985-49c5-e0de-8a6480e93655",
        "colab": {
          "base_uri": "https://localhost:8080/"
        }
      },
      "execution_count": 35,
      "outputs": [
        {
          "output_type": "execute_result",
          "data": {
            "text/plain": [
              "tensor([[0., 0., 0.,  ..., 0., 0., 0.],\n",
              "        [0., 0., 0.,  ..., 0., 0., 0.],\n",
              "        [0., 0., 0.,  ..., 0., 0., 0.],\n",
              "        ...,\n",
              "        [0., 0., 0.,  ..., 0., 0., 0.],\n",
              "        [0., 0., 0.,  ..., 0., 0., 0.],\n",
              "        [0., 0., 0.,  ..., 0., 0., 0.]])"
            ]
          },
          "metadata": {},
          "execution_count": 35
        }
      ]
    },
    {
      "cell_type": "code",
      "source": [
        "forward_and_backward(x_train, y_train)"
      ],
      "metadata": {
        "id": "29EH5mC0OM3G",
        "outputId": "938ab90d-1bf0-45c9-94af-2767f5796c2d",
        "colab": {
          "base_uri": "https://localhost:8080/"
        }
      },
      "execution_count": 36,
      "outputs": [
        {
          "output_type": "stream",
          "name": "stdout",
          "text": [
            " x:torch.Size([50000, 784]) \n",
            " w:torch.Size([784, 50]) \n",
            " b:torch.Size([50])\n",
            " x:torch.Size([50000, 50]) \n",
            " w:torch.Size([50, 1]) \n",
            " b:torch.Size([1])\n"
          ]
        }
      ]
    },
    {
      "cell_type": "code",
      "source": [
        "forward_and_backward(x_train, y_train)"
      ],
      "metadata": {
        "id": "uyCJ9gwqOQw6",
        "outputId": "884de49f-ad6a-4604-a78c-3121437ca308",
        "colab": {
          "base_uri": "https://localhost:8080/"
        }
      },
      "execution_count": 37,
      "outputs": [
        {
          "output_type": "stream",
          "name": "stdout",
          "text": [
            " x:torch.Size([50000, 784]) \n",
            " w:torch.Size([784, 50]) \n",
            " b:torch.Size([50])\n",
            " x:torch.Size([50000, 50]) \n",
            " w:torch.Size([50, 1]) \n",
            " b:torch.Size([1])\n"
          ]
        }
      ]
    },
    {
      "cell_type": "code",
      "source": [],
      "metadata": {
        "id": "BVZyHCRMOY7m"
      },
      "execution_count": 37,
      "outputs": []
    },
    {
      "cell_type": "code",
      "source": [],
      "metadata": {
        "id": "vVBKh80SOZjG"
      },
      "execution_count": 37,
      "outputs": []
    },
    {
      "cell_type": "code",
      "source": [],
      "metadata": {
        "id": "iBmMLOGiOZlc"
      },
      "execution_count": 37,
      "outputs": []
    },
    {
      "cell_type": "code",
      "source": [],
      "metadata": {
        "id": "FFoqQWCuOZoD"
      },
      "execution_count": 37,
      "outputs": []
    },
    {
      "cell_type": "code",
      "source": [],
      "metadata": {
        "id": "57pralXtOZqK"
      },
      "execution_count": 37,
      "outputs": []
    },
    {
      "cell_type": "code",
      "source": [],
      "metadata": {
        "id": "YKJcnw1dOZsR"
      },
      "execution_count": 37,
      "outputs": []
    },
    {
      "cell_type": "code",
      "source": [],
      "metadata": {
        "id": "K16FXtWAOZun"
      },
      "execution_count": 37,
      "outputs": []
    },
    {
      "cell_type": "code",
      "source": [],
      "metadata": {
        "id": "mLyUqulROZxS"
      },
      "execution_count": 37,
      "outputs": []
    }
  ]
}