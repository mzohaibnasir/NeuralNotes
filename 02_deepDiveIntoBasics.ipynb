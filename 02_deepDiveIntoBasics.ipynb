{
  "nbformat": 4,
  "nbformat_minor": 0,
  "metadata": {
    "colab": {
      "provenance": [],
      "authorship_tag": "ABX9TyNM6uvzdyvF7Iqif2k1eqgs",
      "include_colab_link": true
    },
    "kernelspec": {
      "name": "python3",
      "display_name": "Python 3"
    },
    "language_info": {
      "name": "python"
    }
  },
  "cells": [
    {
      "cell_type": "markdown",
      "metadata": {
        "id": "view-in-github",
        "colab_type": "text"
      },
      "source": [
        "<a href=\"https://colab.research.google.com/github/mzohaibnasir/NeuralNotes/blob/main/02_deepDiveIntoBasics.ipynb\" target=\"_parent\"><img src=\"https://colab.research.google.com/assets/colab-badge.svg\" alt=\"Open In Colab\"/></a>"
      ]
    },
    {
      "cell_type": "markdown",
      "source": [
        "# Forward & Backward passes"
      ],
      "metadata": {
        "id": "TLezIimXsc4n"
      }
    },
    {
      "cell_type": "code",
      "source": [
        "from pathlib import Path\n",
        "import pickle , gzip,math, os, time, shutil,matplotlib.pyplot as plt, matplotlib as mpl, numpy as np\n",
        "\n",
        "import torch\n",
        "from torch import tensor\n",
        "from fastcore.test import test_close\n"
      ],
      "metadata": {
        "id": "7vMv98fmsGbt"
      },
      "execution_count": 47,
      "outputs": []
    },
    {
      "cell_type": "code",
      "source": [
        "MNIST_URL='https://github.com/mnielsen/neural-networks-and-deep-learning/blob/d15df08a69ed33ae16a2fff874f83b57a956172c/data/mnist.pkl.gz?raw=true'\n",
        "path_data = Path('data')\n",
        "path_data.mkdir(exist_ok=True )\n",
        "path_gz=path_data/'mnist.pkl.gz'\n",
        "path_gz"
      ],
      "metadata": {
        "colab": {
          "base_uri": "https://localhost:8080/"
        },
        "id": "-VwA2QT4sGeG",
        "outputId": "048d7b76-8141-43e4-dbbc-422e753e718c"
      },
      "execution_count": 48,
      "outputs": [
        {
          "output_type": "execute_result",
          "data": {
            "text/plain": [
              "PosixPath('data/mnist.pkl.gz')"
            ]
          },
          "metadata": {},
          "execution_count": 48
        }
      ]
    },
    {
      "cell_type": "code",
      "source": [
        "from urllib.request import urlretrieve\n",
        "\n",
        "if not path_gz.exists(): urlretrieve(MNIST_URL, path_gz)"
      ],
      "metadata": {
        "id": "T9mUQv0HuQ-J"
      },
      "execution_count": 49,
      "outputs": []
    },
    {
      "cell_type": "code",
      "source": [
        "torch.manual_seed(42)\n",
        "\n",
        "\n",
        "mpl.rcParams['image.cmap'] = 'gray'\n",
        "torch.set_printoptions(precision=2, linewidth=125, sci_mode=False)\n",
        "np.set_printoptions(precision=2, linewidth=125)\n"
      ],
      "metadata": {
        "id": "P0osYjnusGgc"
      },
      "execution_count": 50,
      "outputs": []
    },
    {
      "cell_type": "code",
      "source": [
        "!ls -l data"
      ],
      "metadata": {
        "colab": {
          "base_uri": "https://localhost:8080/"
        },
        "id": "_olIsAhKsGi2",
        "outputId": "221aae56-e1c7-42db-e615-e78d175b2571"
      },
      "execution_count": 51,
      "outputs": [
        {
          "output_type": "stream",
          "name": "stdout",
          "text": [
            "total 16656\n",
            "-rw-r--r-- 1 root root 17051982 Jan 15 14:38 mnist.pkl.gz\n"
          ]
        }
      ]
    },
    {
      "cell_type": "code",
      "source": [
        "with gzip.open(path_gz, 'rb') as f:   #read as binary as opposed to text\n",
        "   ((x_train,y_train), (x_valid,y_valid), _) = pickle.load(f, encoding='latin-1') #destructuring\n",
        "x_train, y_train, x_valid, y_valid = map(tensor, [x_train, y_train, x_valid, y_valid])"
      ],
      "metadata": {
        "id": "uueXA51Ls_N0"
      },
      "execution_count": 52,
      "outputs": []
    },
    {
      "cell_type": "code",
      "source": [
        "np.array(x_train).shape"
      ],
      "metadata": {
        "colab": {
          "base_uri": "https://localhost:8080/"
        },
        "id": "FE0td_KYsLWi",
        "outputId": "4880be49-7c9c-4a15-ebe3-ee840bf1d690"
      },
      "execution_count": 53,
      "outputs": [
        {
          "output_type": "execute_result",
          "data": {
            "text/plain": [
              "(50000, 784)"
            ]
          },
          "metadata": {},
          "execution_count": 53
        }
      ]
    },
    {
      "cell_type": "code",
      "source": [
        "path_gz"
      ],
      "metadata": {
        "colab": {
          "base_uri": "https://localhost:8080/"
        },
        "id": "2GFh0pcusLYp",
        "outputId": "b9e07523-f31d-45e2-fa14-9f0149b6500f"
      },
      "execution_count": 54,
      "outputs": [
        {
          "output_type": "execute_result",
          "data": {
            "text/plain": [
              "PosixPath('data/mnist.pkl.gz')"
            ]
          },
          "metadata": {},
          "execution_count": 54
        }
      ]
    },
    {
      "cell_type": "code",
      "source": [
        "n,m = x_train.shape  # n: # of training samples   m: pixels\n",
        "c = y_train.max()+1  # posible ouputs\n",
        "n, m, c"
      ],
      "metadata": {
        "colab": {
          "base_uri": "https://localhost:8080/"
        },
        "id": "J2pIXNd0sLay",
        "outputId": "220d8876-10bc-4ca2-e676-dabb27543525"
      },
      "execution_count": 55,
      "outputs": [
        {
          "output_type": "execute_result",
          "data": {
            "text/plain": [
              "(50000, 784, tensor(10))"
            ]
          },
          "metadata": {},
          "execution_count": 55
        }
      ]
    },
    {
      "cell_type": "code",
      "source": [
        "nh = 50  # hidden activations # # of REctified lines to add up"
      ],
      "metadata": {
        "id": "n-1M5SEisLc5"
      },
      "execution_count": 56,
      "outputs": []
    },
    {
      "cell_type": "code",
      "source": [
        "w1 = torch.randn(m, nh)\n",
        "b1 = torch.zeros(nh) # bias\n",
        "w2 = torch.randn(nh,1)  # 1  output\n",
        "b2 = torch.zeros(1)\n",
        "\n",
        "w1.shape, b1.shape,w2.shape, b2.shape"
      ],
      "metadata": {
        "id": "aXRWXKZKsLew",
        "outputId": "07b57ab3-77dc-461f-b574-ace0ce6d8a92",
        "colab": {
          "base_uri": "https://localhost:8080/"
        }
      },
      "execution_count": 57,
      "outputs": [
        {
          "output_type": "execute_result",
          "data": {
            "text/plain": [
              "(torch.Size([784, 50]), torch.Size([50]), torch.Size([50, 1]), torch.Size([1]))"
            ]
          },
          "metadata": {},
          "execution_count": 57
        }
      ]
    },
    {
      "cell_type": "code",
      "source": [
        "def lin(x, w, b):\n",
        "  print(f\" x:{x.shape} \\n w:{w.shape} \\n b:{b.shape}\")\n",
        "  return x@w + b"
      ],
      "metadata": {
        "id": "fg1HHMn9tePT"
      },
      "execution_count": 58,
      "outputs": []
    },
    {
      "cell_type": "code",
      "source": [
        "t = lin(x_valid, w1, b1)\n",
        "t.shape"
      ],
      "metadata": {
        "colab": {
          "base_uri": "https://localhost:8080/"
        },
        "id": "MszEuSjCteRp",
        "outputId": "74807ccc-3d56-4850-94a9-e053d5a4ba02"
      },
      "execution_count": 59,
      "outputs": [
        {
          "output_type": "stream",
          "name": "stdout",
          "text": [
            " x:torch.Size([10000, 784]) \n",
            " w:torch.Size([784, 50]) \n",
            " b:torch.Size([50])\n"
          ]
        },
        {
          "output_type": "execute_result",
          "data": {
            "text/plain": [
              "torch.Size([10000, 50])"
            ]
          },
          "metadata": {},
          "execution_count": 59
        }
      ]
    },
    {
      "cell_type": "code",
      "source": [
        "t"
      ],
      "metadata": {
        "id": "tJWTdnGgteTr",
        "outputId": "a7dfa416-0b87-438b-937f-53dfcbda4003",
        "colab": {
          "base_uri": "https://localhost:8080/"
        }
      },
      "execution_count": 60,
      "outputs": [
        {
          "output_type": "execute_result",
          "data": {
            "text/plain": [
              "tensor([[ -0.09,  11.87, -11.39,  ...,   5.48,   2.14,  15.30],\n",
              "        [  5.38,  10.21, -14.49,  ...,   0.88,   0.08,  20.23],\n",
              "        [  3.31,   0.12,   3.10,  ...,  16.89,  -6.05,  24.74],\n",
              "        ...,\n",
              "        [  4.01,  10.35, -11.25,  ...,   0.23,  -5.30,  18.28],\n",
              "        [ 10.62,  -4.27,  10.72,  ...,  -2.87,  -2.87,  18.23],\n",
              "        [  2.84,  -0.22,   1.43,  ...,  -3.91,   5.75,   2.12]])"
            ]
          },
          "metadata": {},
          "execution_count": 60
        }
      ]
    },
    {
      "cell_type": "code",
      "source": [
        "def relu(x):\n",
        "  return x.clamp_min(0.)  # under 0 would be 0\n",
        "\n",
        "\n",
        "t = relu(t)\n",
        "t"
      ],
      "metadata": {
        "id": "32yyqBQCteWO",
        "outputId": "80d5cda6-75cd-4690-8d28-fa0013ad2b9a",
        "colab": {
          "base_uri": "https://localhost:8080/"
        }
      },
      "execution_count": 61,
      "outputs": [
        {
          "output_type": "execute_result",
          "data": {
            "text/plain": [
              "tensor([[ 0.00, 11.87,  0.00,  ...,  5.48,  2.14, 15.30],\n",
              "        [ 5.38, 10.21,  0.00,  ...,  0.88,  0.08, 20.23],\n",
              "        [ 3.31,  0.12,  3.10,  ..., 16.89,  0.00, 24.74],\n",
              "        ...,\n",
              "        [ 4.01, 10.35,  0.00,  ...,  0.23,  0.00, 18.28],\n",
              "        [10.62,  0.00, 10.72,  ...,  0.00,  0.00, 18.23],\n",
              "        [ 2.84,  0.00,  1.43,  ...,  0.00,  5.75,  2.12]])"
            ]
          },
          "metadata": {},
          "execution_count": 61
        }
      ]
    },
    {
      "cell_type": "code",
      "source": [
        "def model(xb):\n",
        "  l1 = lin(xb, w1, b1)\n",
        "  l2 = relu(l1)\n",
        "  return lin(l2,w2,b2)\n",
        "\n",
        "model(x_valid).shape"
      ],
      "metadata": {
        "id": "QZyCyK2xsLgy",
        "outputId": "85a560d2-a6e1-4b2a-dc6f-2570e1442166",
        "colab": {
          "base_uri": "https://localhost:8080/"
        }
      },
      "execution_count": 62,
      "outputs": [
        {
          "output_type": "stream",
          "name": "stdout",
          "text": [
            " x:torch.Size([10000, 784]) \n",
            " w:torch.Size([784, 50]) \n",
            " b:torch.Size([50])\n",
            " x:torch.Size([10000, 50]) \n",
            " w:torch.Size([50, 1]) \n",
            " b:torch.Size([1])\n"
          ]
        },
        {
          "output_type": "execute_result",
          "data": {
            "text/plain": [
              "torch.Size([10000, 1])"
            ]
          },
          "metadata": {},
          "execution_count": 62
        }
      ]
    },
    {
      "cell_type": "code",
      "source": [
        "res  = model(x_valid)\n",
        "res.shape"
      ],
      "metadata": {
        "id": "ik-1gPNB9xJ9",
        "outputId": "b5fd25bf-4bbc-40b4-dd51-34496e5bf447",
        "colab": {
          "base_uri": "https://localhost:8080/"
        }
      },
      "execution_count": 63,
      "outputs": [
        {
          "output_type": "stream",
          "name": "stdout",
          "text": [
            " x:torch.Size([10000, 784]) \n",
            " w:torch.Size([784, 50]) \n",
            " b:torch.Size([50])\n",
            " x:torch.Size([10000, 50]) \n",
            " w:torch.Size([50, 1]) \n",
            " b:torch.Size([1])\n"
          ]
        },
        {
          "output_type": "execute_result",
          "data": {
            "text/plain": [
              "torch.Size([10000, 1])"
            ]
          },
          "metadata": {},
          "execution_count": 63
        }
      ]
    },
    {
      "cell_type": "code",
      "source": [],
      "metadata": {
        "id": "v-_dTAAs9xL1"
      },
      "execution_count": 63,
      "outputs": []
    },
    {
      "cell_type": "markdown",
      "source": [
        "## Loss: MSE\n",
        "ofcourse MSE is not suitable"
      ],
      "metadata": {
        "id": "_T-5ONT--Z3N"
      }
    },
    {
      "cell_type": "code",
      "source": [
        "res.shape, y_valid.shape  # y_valid is to compare with   # 1 in (10000,1) would be first broadcasted to corresponding y_valid first\n",
        "                            # and when it comes 10000 in (10000,1) y_valis's shape becomes (1, 10000); repeating everything"
      ],
      "metadata": {
        "id": "KdV_zdB29xNk",
        "outputId": "aa8c694e-6f33-418a-90cd-bc2bb049c73d",
        "colab": {
          "base_uri": "https://localhost:8080/"
        }
      },
      "execution_count": 64,
      "outputs": [
        {
          "output_type": "execute_result",
          "data": {
            "text/plain": [
              "(torch.Size([10000, 1]), torch.Size([10000]))"
            ]
          },
          "metadata": {},
          "execution_count": 64
        }
      ]
    },
    {
      "cell_type": "code",
      "source": [
        "(res - y_valid).shape  # each element in res's distance to each element in y_valid so a matrix"
      ],
      "metadata": {
        "id": "5xA4oMtm9xRF",
        "outputId": "1ec3aed3-bfbb-40cb-a9ae-adcf4f0d3c71",
        "colab": {
          "base_uri": "https://localhost:8080/"
        }
      },
      "execution_count": 65,
      "outputs": [
        {
          "output_type": "execute_result",
          "data": {
            "text/plain": [
              "torch.Size([10000, 10000])"
            ]
          },
          "metadata": {},
          "execution_count": 65
        }
      ]
    },
    {
      "cell_type": "code",
      "source": [
        "# so make Y-valid shapes (10000, 1)\n",
        "\n",
        "(res - y_valid[:,None]).shape, (res - y_valid[:,None])"
      ],
      "metadata": {
        "id": "oX-sbem39xTN",
        "outputId": "9d5a37b4-22ab-4a19-f6cd-51b1a8c85ca9",
        "colab": {
          "base_uri": "https://localhost:8080/"
        }
      },
      "execution_count": 66,
      "outputs": [
        {
          "output_type": "execute_result",
          "data": {
            "text/plain": [
              "(torch.Size([10000, 1]),\n",
              " tensor([[  22.75],\n",
              "         [ -21.06],\n",
              "         [-120.79],\n",
              "         ...,\n",
              "         [ -72.44],\n",
              "         [ -80.48],\n",
              "         [ -68.19]]))"
            ]
          },
          "metadata": {},
          "execution_count": 66
        }
      ]
    },
    {
      "cell_type": "code",
      "source": [
        "(res.squeeze() - y_valid).shape, (res.squeeze() - y_valid)"
      ],
      "metadata": {
        "id": "XqWE-twe9xWA",
        "outputId": "58d43829-5437-4ddf-caad-c861f3e012a7",
        "colab": {
          "base_uri": "https://localhost:8080/"
        }
      },
      "execution_count": 67,
      "outputs": [
        {
          "output_type": "execute_result",
          "data": {
            "text/plain": [
              "(torch.Size([10000]),\n",
              " tensor([  22.75,  -21.06, -120.79,  ...,  -72.44,  -80.48,  -68.19]))"
            ]
          },
          "metadata": {},
          "execution_count": 67
        }
      ]
    },
    {
      "cell_type": "code",
      "source": [
        "#or\n",
        "#res[:, 0].shape : extracts first columns\n",
        "#res[0,:].shape : extracts first row\n",
        "\n",
        "\n",
        "res.shape, res[:, 0].shape, res[0,:].shape"
      ],
      "metadata": {
        "id": "Jo12Z1GbATJc",
        "outputId": "a9804627-2439-42ca-a78d-429b2337e28e",
        "colab": {
          "base_uri": "https://localhost:8080/"
        }
      },
      "execution_count": 68,
      "outputs": [
        {
          "output_type": "execute_result",
          "data": {
            "text/plain": [
              "(torch.Size([10000, 1]), torch.Size([10000]), torch.Size([1]))"
            ]
          },
          "metadata": {},
          "execution_count": 68
        }
      ]
    },
    {
      "cell_type": "code",
      "source": [
        "res.shape, res[None, : , None].shape, (res[None, : , None]).squeeze().shape"
      ],
      "metadata": {
        "id": "WJR1MGUgAi4s",
        "outputId": "c1d63dcf-e7d2-4097-a75a-ec93a81bf753",
        "colab": {
          "base_uri": "https://localhost:8080/"
        }
      },
      "execution_count": 69,
      "outputs": [
        {
          "output_type": "execute_result",
          "data": {
            "text/plain": [
              "(torch.Size([10000, 1]), torch.Size([1, 10000, 1, 1]), torch.Size([10000]))"
            ]
          },
          "metadata": {},
          "execution_count": 69
        }
      ]
    },
    {
      "cell_type": "code",
      "source": [
        "# so,\n",
        "\n",
        "(res[:,0] - y_valid).shape"
      ],
      "metadata": {
        "id": "_CYazBijAjeH",
        "outputId": "c3a79115-a622-46b8-c352-ab11f1b9de7a",
        "colab": {
          "base_uri": "https://localhost:8080/"
        }
      },
      "execution_count": 70,
      "outputs": [
        {
          "output_type": "execute_result",
          "data": {
            "text/plain": [
              "torch.Size([10000])"
            ]
          },
          "metadata": {},
          "execution_count": 70
        }
      ]
    },
    {
      "cell_type": "code",
      "source": [
        "y_train, y_valid = y_train.float(), y_valid.float()\n",
        "\n",
        "preds = model(x_train)\n",
        "preds.shape"
      ],
      "metadata": {
        "id": "xWKTNFF_AjgR",
        "outputId": "20772e72-a65f-4253-d5a9-42034be845eb",
        "colab": {
          "base_uri": "https://localhost:8080/"
        }
      },
      "execution_count": 71,
      "outputs": [
        {
          "output_type": "stream",
          "name": "stdout",
          "text": [
            " x:torch.Size([50000, 784]) \n",
            " w:torch.Size([784, 50]) \n",
            " b:torch.Size([50])\n",
            " x:torch.Size([50000, 50]) \n",
            " w:torch.Size([50, 1]) \n",
            " b:torch.Size([1])\n"
          ]
        },
        {
          "output_type": "execute_result",
          "data": {
            "text/plain": [
              "torch.Size([50000, 1])"
            ]
          },
          "metadata": {},
          "execution_count": 71
        }
      ]
    },
    {
      "cell_type": "code",
      "source": [
        "def mse( output, targ):\n",
        "  print(f\"output: {output.shape}, targ: {targ.shape}\")\n",
        "  return (output[:, 0] - targ).pow(2).mean()\n",
        "\n",
        "mse(preds, y_train)"
      ],
      "metadata": {
        "id": "7uLg4FKoAjia",
        "outputId": "196e61d1-450a-4285-a122-d6bab213ebc6",
        "colab": {
          "base_uri": "https://localhost:8080/"
        }
      },
      "execution_count": 72,
      "outputs": [
        {
          "output_type": "stream",
          "name": "stdout",
          "text": [
            "output: torch.Size([50000, 1]), targ: torch.Size([50000])\n"
          ]
        },
        {
          "output_type": "execute_result",
          "data": {
            "text/plain": [
              "tensor(4308.76)"
            ]
          },
          "metadata": {},
          "execution_count": 72
        }
      ]
    },
    {
      "cell_type": "code",
      "source": [],
      "metadata": {
        "id": "AW3FCPvaAjk1"
      },
      "execution_count": 72,
      "outputs": []
    },
    {
      "cell_type": "markdown",
      "source": [
        "## Gradients & backward pass"
      ],
      "metadata": {
        "id": "8KDdvOnKCq1X"
      }
    },
    {
      "cell_type": "code",
      "source": [
        "from sympy import symbols, diff"
      ],
      "metadata": {
        "id": "Yz-A5TVtAjnk"
      },
      "execution_count": 73,
      "outputs": []
    },
    {
      "cell_type": "code",
      "source": [
        "x,y = symbols('x y')\n",
        "x,y"
      ],
      "metadata": {
        "id": "yv1RqvMkXocl",
        "outputId": "eeb62454-f9bf-4f77-d3ee-1372dec92c6c",
        "colab": {
          "base_uri": "https://localhost:8080/"
        }
      },
      "execution_count": 74,
      "outputs": [
        {
          "output_type": "execute_result",
          "data": {
            "text/plain": [
              "(x, y)"
            ]
          },
          "metadata": {},
          "execution_count": 74
        }
      ]
    },
    {
      "cell_type": "code",
      "source": [
        "diff(x**2, x) # taking differential"
      ],
      "metadata": {
        "id": "_ewjaQxnXoe6",
        "outputId": "1bede4d4-26b8-4daf-d155-8d9cafa71c2b",
        "colab": {
          "base_uri": "https://localhost:8080/",
          "height": 39
        }
      },
      "execution_count": 75,
      "outputs": [
        {
          "output_type": "execute_result",
          "data": {
            "text/plain": [
              "2*x"
            ],
            "text/latex": "$\\displaystyle 2 x$"
          },
          "metadata": {},
          "execution_count": 75
        }
      ]
    },
    {
      "cell_type": "code",
      "source": [
        "diff(3*x**2 +9, x)"
      ],
      "metadata": {
        "id": "J_QttkwLXohB",
        "outputId": "6a31a876-6707-4886-c601-b48c43317c30",
        "colab": {
          "base_uri": "https://localhost:8080/",
          "height": 39
        }
      },
      "execution_count": 76,
      "outputs": [
        {
          "output_type": "execute_result",
          "data": {
            "text/plain": [
              "6*x"
            ],
            "text/latex": "$\\displaystyle 6 x$"
          },
          "metadata": {},
          "execution_count": 76
        }
      ]
    },
    {
      "cell_type": "code",
      "source": [
        "def lin_grad(inp, out, w, b):   # inp is being manipulated here  # just multiply by output gradients in all values\n",
        "  # grad of matmul w.r.t input\n",
        "\n",
        "  # here  inp contains the original input values used in the forward pass. inp.g attribute of inp is assigned the gradient information calculated during the backward pass.\n",
        "  #The original values of inp are still present in the tensor, but now the .g attribute holds the calculated gradients.\n",
        "  inp.g = out.g @ w.t()  # gradient of output w.r.t input   # multiplying weights with gradients of ouput\n",
        "  # import pdb; pdb.set_trace()  # tellls debugger its breakpoint\n",
        "  # breakpoint()\n",
        "\n",
        "  # print(f\"inp: {inp.shape}  ******   inp.g: {inp.g.shape}\" )\n",
        "\n",
        "\n",
        "  # print(f\"   inp.unsqueeze(-1): {inp.unsqueeze(-1).shape} ||||  inp: {inp.shape}\")\n",
        "  # print(f\"** inp: { inp.shape } * out.g: {out.g.shape}\")\n",
        "\n",
        "  # w.g = (inp.unsqueeze(-1) * out.g.unsqueeze(1)).sum(0)  # gradient of output w.r.t weights   # (inputs * output weights gradients ebcause of chain rule) summed over\n",
        "  # i,o = inp.unsqueeze(-1), out.g.unsqueeze(1)\n",
        "  # w.g = (i*o).sum(0)\n",
        "  # w.g = torch.einsum('ij,ik->jk', inp, out.g)\n",
        "  \"\"\"\n",
        "  but ij,ik->jk is not same as matrix multiplication.  we'd need to sawp i and j by using transpose\n",
        "  \"\"\"\n",
        "\n",
        "  w.g = inp.T@out.g\n",
        "\n",
        "\n",
        "\n",
        "  # print(f\"(inp.unsqueeze(-1) * out.g.unsqueeze(1)): {(inp.unsqueeze(-1) * out.g.unsqueeze(1)).shape}  || (inp.unsqueeze(-1) * out.g.unsqueeze(1)).sum(0).shape: {(inp.unsqueeze(-1) * out.g.unsqueeze(1)).sum(0).shape}\")\n",
        "  # print(f\"++ inp.unsqueeze(-1): { inp.unsqueeze(-1).shape } * out.g.unsqueeze(1): {out.g.unsqueeze(1).shape}\")\n",
        "  b.g = out.g.sum(0) # gradients of output summed over\n",
        "  # print(f\" out.g.sum(0): {b.g} ||| out.g : {out.g.shape}\")\n",
        "\n",
        "  # breakpoint()\n",
        "\n",
        "  \"\"\"\n",
        "\n",
        "\n",
        "  inp.g: Gradient of the input with respect to the loss. This line calculates the gradient of the loss with respect to the input inp. The formula used here is a common one in backpropagation for a linear layer. The gradient is computed by taking the dot product of the gradient of the output (out.g) and the transpose of the weight matrix (w.t()). This operation essentially backpropagates the error from the output to the input through the weight matrix.\n",
        "\n",
        "Mathematically, if L is the loss and i represents the input, this operation can be expressed as:\n",
        "\n",
        "dL/di = (dL/dout) * w.t()\n",
        "\"\"\""
      ],
      "metadata": {
        "id": "WS-L-lYVXojU"
      },
      "execution_count": 77,
      "outputs": []
    },
    {
      "cell_type": "code",
      "source": [
        "def forward_and_backward(inp, targ):\n",
        "  # forward\n",
        "  l1 = lin(inp, w1,b1)\n",
        "  l2 = relu(l1)\n",
        "  out = lin(l2, w2, b2)  # output of second layer\n",
        "  diff = out[:, 0]-targ\n",
        "  loss = diff.pow(2).mean()\n",
        "\n",
        "  #backward pass:\n",
        "  out.g = 2.*diff[:,None]/inp.shape[0]   # creating new attribute `.g`    # 2*diff because we took diff square    # divided my inp.shape[0] bcz we took mean\n",
        "  # print(f\"inp.shape[0]: {inp.shape[0]}   |   diff[:,None]: {diff[:,None].shape}  |  diff: {diff.shape}\")\n",
        "  lin_grad(l2, out, w2,b2)\n",
        "  l1.g = (l1>0).float() * l2.g  # as we are using l1 l2 of forward pass here,, so we need to store each of intermediary layer calculations\n",
        "  lin_grad(inp, l1,w1,b1)\n",
        "\n",
        "\n",
        "forward_and_backward(x_train, y_train)\n"
      ],
      "metadata": {
        "id": "G7Uo0MYyXolS",
        "colab": {
          "base_uri": "https://localhost:8080/"
        },
        "outputId": "c94937cd-b469-48b6-85f9-2dd90faf2b82"
      },
      "execution_count": 78,
      "outputs": [
        {
          "output_type": "stream",
          "name": "stdout",
          "text": [
            " x:torch.Size([50000, 784]) \n",
            " w:torch.Size([784, 50]) \n",
            " b:torch.Size([50])\n",
            " x:torch.Size([50000, 50]) \n",
            " w:torch.Size([50, 1]) \n",
            " b:torch.Size([1])\n"
          ]
        }
      ]
    },
    {
      "cell_type": "code",
      "source": [
        " w1.g.shape, x_train.g.shape"
      ],
      "metadata": {
        "id": "Z1tiSeb4Xomz",
        "colab": {
          "base_uri": "https://localhost:8080/"
        },
        "outputId": "d753cd03-f620-44ad-e735-8e9e27a58be8"
      },
      "execution_count": 79,
      "outputs": [
        {
          "output_type": "execute_result",
          "data": {
            "text/plain": [
              "(torch.Size([784, 50]), torch.Size([50000, 784]))"
            ]
          },
          "metadata": {},
          "execution_count": 79
        }
      ]
    },
    {
      "cell_type": "code",
      "source": [
        "x_train.g"
      ],
      "metadata": {
        "id": "_wFOCaGJXopp",
        "colab": {
          "base_uri": "https://localhost:8080/"
        },
        "outputId": "272f6842-66cd-4dbb-e44f-ac65dc5b0b03"
      },
      "execution_count": 80,
      "outputs": [
        {
          "output_type": "execute_result",
          "data": {
            "text/plain": [
              "tensor([[    -0.00,     -0.01,      0.00,  ...,     -0.00,      0.00,      0.00],\n",
              "        [    -0.03,     -0.03,      0.01,  ...,     -0.04,     -0.01,     -0.01],\n",
              "        [     0.00,      0.00,     -0.00,  ...,      0.00,     -0.00,      0.00],\n",
              "        ...,\n",
              "        [    -0.00,     -0.02,      0.01,  ...,     -0.00,     -0.00,      0.00],\n",
              "        [    -0.02,     -0.01,      0.01,  ...,     -0.01,      0.01,     -0.00],\n",
              "        [    -0.00,     -0.00,      0.00,  ...,     -0.00,     -0.00,     -0.00]])"
            ]
          },
          "metadata": {},
          "execution_count": 80
        }
      ]
    },
    {
      "cell_type": "code",
      "source": [
        "x_train.g.zero_()"
      ],
      "metadata": {
        "id": "tOom2djSOM0R",
        "outputId": "89293fe9-e0dd-4817-82f9-411ce111fdbf",
        "colab": {
          "base_uri": "https://localhost:8080/"
        }
      },
      "execution_count": 81,
      "outputs": [
        {
          "output_type": "execute_result",
          "data": {
            "text/plain": [
              "tensor([[0., 0., 0.,  ..., 0., 0., 0.],\n",
              "        [0., 0., 0.,  ..., 0., 0., 0.],\n",
              "        [0., 0., 0.,  ..., 0., 0., 0.],\n",
              "        ...,\n",
              "        [0., 0., 0.,  ..., 0., 0., 0.],\n",
              "        [0., 0., 0.,  ..., 0., 0., 0.],\n",
              "        [0., 0., 0.,  ..., 0., 0., 0.]])"
            ]
          },
          "metadata": {},
          "execution_count": 81
        }
      ]
    },
    {
      "cell_type": "code",
      "source": [
        "forward_and_backward(x_train, y_train)"
      ],
      "metadata": {
        "id": "29EH5mC0OM3G",
        "outputId": "1e34d9b6-c009-4047-a336-4f72b8af3949",
        "colab": {
          "base_uri": "https://localhost:8080/"
        }
      },
      "execution_count": 82,
      "outputs": [
        {
          "output_type": "stream",
          "name": "stdout",
          "text": [
            " x:torch.Size([50000, 784]) \n",
            " w:torch.Size([784, 50]) \n",
            " b:torch.Size([50])\n",
            " x:torch.Size([50000, 50]) \n",
            " w:torch.Size([50, 1]) \n",
            " b:torch.Size([1])\n"
          ]
        }
      ]
    },
    {
      "cell_type": "code",
      "source": [
        "forward_and_backward(x_train, y_train)"
      ],
      "metadata": {
        "id": "uyCJ9gwqOQw6",
        "outputId": "4c482cfd-5dd8-47e1-f01d-8e4dae05560d",
        "colab": {
          "base_uri": "https://localhost:8080/"
        }
      },
      "execution_count": 83,
      "outputs": [
        {
          "output_type": "stream",
          "name": "stdout",
          "text": [
            " x:torch.Size([50000, 784]) \n",
            " w:torch.Size([784, 50]) \n",
            " b:torch.Size([50])\n",
            " x:torch.Size([50000, 50]) \n",
            " w:torch.Size([50, 1]) \n",
            " b:torch.Size([1])\n"
          ]
        }
      ]
    },
    {
      "cell_type": "code",
      "source": [],
      "metadata": {
        "id": "BVZyHCRMOY7m"
      },
      "execution_count": 83,
      "outputs": []
    },
    {
      "cell_type": "markdown",
      "source": [
        "## Geradients and backward pass"
      ],
      "metadata": {
        "id": "9lsSi1TiClJN"
      }
    },
    {
      "cell_type": "code",
      "source": [],
      "metadata": {
        "id": "vVBKh80SOZjG"
      },
      "execution_count": 83,
      "outputs": []
    },
    {
      "cell_type": "code",
      "source": [],
      "metadata": {
        "id": "iBmMLOGiOZlc"
      },
      "execution_count": 83,
      "outputs": []
    },
    {
      "cell_type": "markdown",
      "source": [
        "## Refactor model"
      ],
      "metadata": {
        "id": "42qQNhUZ32K_"
      }
    },
    {
      "cell_type": "markdown",
      "source": [
        "### Layers as classes"
      ],
      "metadata": {
        "id": "R_qnTrWk39-H"
      }
    },
    {
      "cell_type": "code",
      "source": [
        "class Relu():\n",
        "  def __call__(self,inp):\n",
        "    self.inp = inp     # # as we are using l1 l2 of forward pass here,, so we need to store each of intermediary layer calculations so, here relu is\n",
        "    # not ust doing calculations but also stores input and output in self.inp and self.out  so when we cakll backward, we can use them as shown in backward() below\n",
        "    self.out = inp.clamp_min(0.)\n",
        "    return self.out\n",
        "\n",
        "  def backward(self):\n",
        "    self.inp.g = (self.inp>0).float() * self.out.g\n",
        "\n"
      ],
      "metadata": {
        "id": "57pralXtOZqK"
      },
      "execution_count": 84,
      "outputs": []
    },
    {
      "cell_type": "code",
      "source": [
        "class Lin():\n",
        "  def __init__(self, w, b):  # it has init because it needs additional input that relu didnt\n",
        "    self.w, self.b = w,b\n",
        "\n",
        "  def __call__(self, inp):\n",
        "    self.inp = inp\n",
        "    self.out = lin(inp, self.w, self.b)\n",
        "    return self.out\n",
        "\n",
        "  def backward(self):\n",
        "    self.inp.g = self.out.g @ self.w.t()\n",
        "    self.w.g = self.inp.t() @ self.out.g\n",
        "    self.b.g = self.out.g.sum(0)\n",
        "\n",
        "\n"
      ],
      "metadata": {
        "id": "YKJcnw1dOZsR"
      },
      "execution_count": 85,
      "outputs": []
    },
    {
      "cell_type": "code",
      "source": [
        "class Mse():\n",
        "  def __call__(self, inp, targ):\n",
        "    self.inp, self.targ = inp, targ\n",
        "    self.out = mse(inp, targ)\n",
        "    return self.out\n",
        "\n",
        "\n",
        "  def backward(self):\n",
        "    self.inp.g = 2. * (self.inp.squeeze() - self.targ).unsqueeze(-1) / self.targ.shape[0]\n"
      ],
      "metadata": {
        "id": "K16FXtWAOZun"
      },
      "execution_count": 86,
      "outputs": []
    },
    {
      "cell_type": "code",
      "source": [
        "x = torch.randn((2,2))\n",
        "x.shape, x[:,None].shape,  x[:, 0 ].shape,  x, x[:,None],  x[:, 0 ]"
      ],
      "metadata": {
        "id": "mLyUqulROZxS",
        "colab": {
          "base_uri": "https://localhost:8080/"
        },
        "outputId": "4c5c4ebf-6793-4559-c6b6-06f08e55e6e9"
      },
      "execution_count": 87,
      "outputs": [
        {
          "output_type": "execute_result",
          "data": {
            "text/plain": [
              "(torch.Size([2, 2]),\n",
              " torch.Size([2, 1, 2]),\n",
              " torch.Size([2]),\n",
              " tensor([[ 0.57, -0.99],\n",
              "         [ 1.62, -0.98]]),\n",
              " tensor([[[ 0.57, -0.99]],\n",
              " \n",
              "         [[ 1.62, -0.98]]]),\n",
              " tensor([0.57, 1.62]))"
            ]
          },
          "metadata": {},
          "execution_count": 87
        }
      ]
    },
    {
      "cell_type": "code",
      "source": [
        "class Model():\n",
        "  def __init__(self, w1, b1, w2, b2):\n",
        "    self.layers = [Lin(w1, b1), Relu(), Lin(w2,b2)]  # we are creating instances of each classes\n",
        "    self.loss = Mse()\n",
        "\n",
        "\n",
        "  def __call__(self, x, targ):\n",
        "    for l in self.layers:\n",
        "      x = l(x)                                    # calling layer\n",
        "    return self.loss(x, targ)     # loss function is being calculated in the model\n",
        "\n",
        "  def backward(self):\n",
        "    self.loss.backward()\n",
        "    for l in reversed(self.layers):\n",
        "      l.backward()"
      ],
      "metadata": {
        "id": "TbCvovjL9R9S"
      },
      "execution_count": 88,
      "outputs": []
    },
    {
      "cell_type": "code",
      "source": [
        "model = Model(w1,b1, w2, b2)"
      ],
      "metadata": {
        "id": "LCR-kP6a94Th"
      },
      "execution_count": 89,
      "outputs": []
    },
    {
      "cell_type": "code",
      "source": [
        "loss= model(x_train, y_train)"
      ],
      "metadata": {
        "colab": {
          "base_uri": "https://localhost:8080/"
        },
        "id": "O4RkNq-b94Va",
        "outputId": "247bae49-f467-4e70-ac3b-f7cd644739a6"
      },
      "execution_count": 90,
      "outputs": [
        {
          "output_type": "stream",
          "name": "stdout",
          "text": [
            " x:torch.Size([50000, 784]) \n",
            " w:torch.Size([784, 50]) \n",
            " b:torch.Size([50])\n",
            " x:torch.Size([50000, 50]) \n",
            " w:torch.Size([50, 1]) \n",
            " b:torch.Size([1])\n",
            "output: torch.Size([50000, 1]), targ: torch.Size([50000])\n"
          ]
        }
      ]
    },
    {
      "cell_type": "code",
      "source": [
        "model.backward()"
      ],
      "metadata": {
        "id": "j6e5yHwR94XQ"
      },
      "execution_count": 91,
      "outputs": []
    },
    {
      "cell_type": "code",
      "source": [
        "test_close(w2g, w2.g, eps=0.01)\n",
        "test_close(b2g, b2.g, eps=0.01)\n",
        "test_close(w1g, w1.g, eps=0.01)\n",
        "test_close(b1g, b1.g, eps=0.01)\n",
        "test_close(ig, x_train.g, eps=0.01)"
      ],
      "metadata": {
        "colab": {
          "base_uri": "https://localhost:8080/",
          "height": 245
        },
        "id": "i-87xQTy94Yi",
        "outputId": "2ae6e28f-de99-44dd-df44-c79f66bfefc0"
      },
      "execution_count": 92,
      "outputs": [
        {
          "output_type": "error",
          "ename": "NameError",
          "evalue": "name 'w2g' is not defined",
          "traceback": [
            "\u001b[0;31m---------------------------------------------------------------------------\u001b[0m",
            "\u001b[0;31mNameError\u001b[0m                                 Traceback (most recent call last)",
            "\u001b[0;32m<ipython-input-92-8894bf48fb0e>\u001b[0m in \u001b[0;36m<cell line: 1>\u001b[0;34m()\u001b[0m\n\u001b[0;32m----> 1\u001b[0;31m \u001b[0mtest_close\u001b[0m\u001b[0;34m(\u001b[0m\u001b[0mw2g\u001b[0m\u001b[0;34m,\u001b[0m \u001b[0mw2\u001b[0m\u001b[0;34m.\u001b[0m\u001b[0mg\u001b[0m\u001b[0;34m,\u001b[0m \u001b[0meps\u001b[0m\u001b[0;34m=\u001b[0m\u001b[0;36m0.01\u001b[0m\u001b[0;34m)\u001b[0m\u001b[0;34m\u001b[0m\u001b[0;34m\u001b[0m\u001b[0m\n\u001b[0m\u001b[1;32m      2\u001b[0m \u001b[0mtest_close\u001b[0m\u001b[0;34m(\u001b[0m\u001b[0mb2g\u001b[0m\u001b[0;34m,\u001b[0m \u001b[0mb2\u001b[0m\u001b[0;34m.\u001b[0m\u001b[0mg\u001b[0m\u001b[0;34m,\u001b[0m \u001b[0meps\u001b[0m\u001b[0;34m=\u001b[0m\u001b[0;36m0.01\u001b[0m\u001b[0;34m)\u001b[0m\u001b[0;34m\u001b[0m\u001b[0;34m\u001b[0m\u001b[0m\n\u001b[1;32m      3\u001b[0m \u001b[0mtest_close\u001b[0m\u001b[0;34m(\u001b[0m\u001b[0mw1g\u001b[0m\u001b[0;34m,\u001b[0m \u001b[0mw1\u001b[0m\u001b[0;34m.\u001b[0m\u001b[0mg\u001b[0m\u001b[0;34m,\u001b[0m \u001b[0meps\u001b[0m\u001b[0;34m=\u001b[0m\u001b[0;36m0.01\u001b[0m\u001b[0;34m)\u001b[0m\u001b[0;34m\u001b[0m\u001b[0;34m\u001b[0m\u001b[0m\n\u001b[1;32m      4\u001b[0m \u001b[0mtest_close\u001b[0m\u001b[0;34m(\u001b[0m\u001b[0mb1g\u001b[0m\u001b[0;34m,\u001b[0m \u001b[0mb1\u001b[0m\u001b[0;34m.\u001b[0m\u001b[0mg\u001b[0m\u001b[0;34m,\u001b[0m \u001b[0meps\u001b[0m\u001b[0;34m=\u001b[0m\u001b[0;36m0.01\u001b[0m\u001b[0;34m)\u001b[0m\u001b[0;34m\u001b[0m\u001b[0;34m\u001b[0m\u001b[0m\n\u001b[1;32m      5\u001b[0m \u001b[0mtest_close\u001b[0m\u001b[0;34m(\u001b[0m\u001b[0mig\u001b[0m\u001b[0;34m,\u001b[0m \u001b[0mx_train\u001b[0m\u001b[0;34m.\u001b[0m\u001b[0mg\u001b[0m\u001b[0;34m,\u001b[0m \u001b[0meps\u001b[0m\u001b[0;34m=\u001b[0m\u001b[0;36m0.01\u001b[0m\u001b[0;34m)\u001b[0m\u001b[0;34m\u001b[0m\u001b[0;34m\u001b[0m\u001b[0m\n",
            "\u001b[0;31mNameError\u001b[0m: name 'w2g' is not defined"
          ]
        }
      ]
    },
    {
      "cell_type": "code",
      "source": [
        "class A:\n",
        "  def __init__(self):\n",
        "    print(\"INITITALIZED!!\")\n",
        "\n",
        "  def __call__(self, x):\n",
        "    print(f\"CALLLED {x}???\")\n",
        "\n",
        "\n",
        "\n",
        "\n",
        "A()"
      ],
      "metadata": {
        "id": "8QcmVWjp94bI"
      },
      "execution_count": null,
      "outputs": []
    },
    {
      "cell_type": "code",
      "source": [
        "A()(\"ME?\")"
      ],
      "metadata": {
        "id": "AXbJKXODUQS_"
      },
      "execution_count": null,
      "outputs": []
    },
    {
      "cell_type": "code",
      "source": [
        "a=A()\n"
      ],
      "metadata": {
        "id": "RD3z-sVgUQVl"
      },
      "execution_count": null,
      "outputs": []
    },
    {
      "cell_type": "code",
      "source": [
        "a(\"ME?\")"
      ],
      "metadata": {
        "id": "BkMMoK7PUQYQ"
      },
      "execution_count": null,
      "outputs": []
    },
    {
      "cell_type": "code",
      "source": [],
      "metadata": {
        "id": "2QkAl5ARUQbC"
      },
      "execution_count": null,
      "outputs": []
    }
  ]
}