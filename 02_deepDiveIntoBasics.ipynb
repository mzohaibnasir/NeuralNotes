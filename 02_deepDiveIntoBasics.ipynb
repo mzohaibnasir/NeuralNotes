{
  "nbformat": 4,
  "nbformat_minor": 0,
  "metadata": {
    "colab": {
      "provenance": [],
      "authorship_tag": "ABX9TyPYXY+N4fTGs12FKVhLVkKn",
      "include_colab_link": true
    },
    "kernelspec": {
      "name": "python3",
      "display_name": "Python 3"
    },
    "language_info": {
      "name": "python"
    }
  },
  "cells": [
    {
      "cell_type": "markdown",
      "metadata": {
        "id": "view-in-github",
        "colab_type": "text"
      },
      "source": [
        "<a href=\"https://colab.research.google.com/github/mzohaibnasir/NeuralNotes/blob/main/02_deepDiveIntoBasics.ipynb\" target=\"_parent\"><img src=\"https://colab.research.google.com/assets/colab-badge.svg\" alt=\"Open In Colab\"/></a>"
      ]
    },
    {
      "cell_type": "markdown",
      "source": [
        "# Forward & Backward passes"
      ],
      "metadata": {
        "id": "TLezIimXsc4n"
      }
    },
    {
      "cell_type": "code",
      "source": [
        "from pathlib import Path\n",
        "import pickle , gzip,math, os, time, shutil,matplotlib.pyplot as plt, matplotlib as mpl, numpy as np\n",
        "\n",
        "import torch\n",
        "from torch import tensor\n",
        "from fastcore.test import test_close\n"
      ],
      "metadata": {
        "id": "7vMv98fmsGbt"
      },
      "execution_count": 149,
      "outputs": []
    },
    {
      "cell_type": "code",
      "source": [
        "MNIST_URL='https://github.com/mnielsen/neural-networks-and-deep-learning/blob/d15df08a69ed33ae16a2fff874f83b57a956172c/data/mnist.pkl.gz?raw=true'\n",
        "path_data = Path('data')\n",
        "path_data.mkdir(exist_ok=True )\n",
        "path_gz=path_data/'mnist.pkl.gz'\n",
        "path_gz"
      ],
      "metadata": {
        "colab": {
          "base_uri": "https://localhost:8080/"
        },
        "id": "-VwA2QT4sGeG",
        "outputId": "07789533-7833-423f-b29c-6db62213ab05"
      },
      "execution_count": 150,
      "outputs": [
        {
          "output_type": "execute_result",
          "data": {
            "text/plain": [
              "PosixPath('data/mnist.pkl.gz')"
            ]
          },
          "metadata": {},
          "execution_count": 150
        }
      ]
    },
    {
      "cell_type": "code",
      "source": [
        "from urllib.request import urlretrieve\n",
        "\n",
        "if not path_gz.exists(): urlretrieve(MNIST_URL, path_gz)"
      ],
      "metadata": {
        "id": "T9mUQv0HuQ-J"
      },
      "execution_count": 151,
      "outputs": []
    },
    {
      "cell_type": "code",
      "source": [
        "torch.manual_seed(42)\n",
        "\n",
        "\n",
        "mpl.rcParams['image.cmap'] = 'gray'\n",
        "torch.set_printoptions(precision=2, linewidth=125, sci_mode=False)\n",
        "np.set_printoptions(precision=2, linewidth=125)\n"
      ],
      "metadata": {
        "id": "P0osYjnusGgc"
      },
      "execution_count": 152,
      "outputs": []
    },
    {
      "cell_type": "code",
      "source": [
        "!ls -l data"
      ],
      "metadata": {
        "colab": {
          "base_uri": "https://localhost:8080/"
        },
        "id": "_olIsAhKsGi2",
        "outputId": "88aa3d18-b692-46a1-a26c-81361d67b5ad"
      },
      "execution_count": 153,
      "outputs": [
        {
          "output_type": "stream",
          "name": "stdout",
          "text": [
            "total 16656\n",
            "-rw-r--r-- 1 root root 17051982 Jan 17 16:15 mnist.pkl.gz\n"
          ]
        }
      ]
    },
    {
      "cell_type": "code",
      "source": [
        "with gzip.open(path_gz, 'rb') as f:   #read as binary as opposed to text\n",
        "   ((x_train,y_train), (x_valid,y_valid), _) = pickle.load(f, encoding='latin-1') #destructuring\n",
        "x_train, y_train, x_valid, y_valid = map(tensor, [x_train, y_train, x_valid, y_valid])"
      ],
      "metadata": {
        "id": "uueXA51Ls_N0"
      },
      "execution_count": 154,
      "outputs": []
    },
    {
      "cell_type": "code",
      "source": [
        "np.array(x_train).shape"
      ],
      "metadata": {
        "colab": {
          "base_uri": "https://localhost:8080/"
        },
        "id": "FE0td_KYsLWi",
        "outputId": "8df3a3c6-f5f5-45ad-d075-07a3dac25ee1"
      },
      "execution_count": 155,
      "outputs": [
        {
          "output_type": "execute_result",
          "data": {
            "text/plain": [
              "(50000, 784)"
            ]
          },
          "metadata": {},
          "execution_count": 155
        }
      ]
    },
    {
      "cell_type": "code",
      "source": [
        "path_gz"
      ],
      "metadata": {
        "colab": {
          "base_uri": "https://localhost:8080/"
        },
        "id": "2GFh0pcusLYp",
        "outputId": "cf88335b-84f5-4731-f2a2-0e3b42de6244"
      },
      "execution_count": 156,
      "outputs": [
        {
          "output_type": "execute_result",
          "data": {
            "text/plain": [
              "PosixPath('data/mnist.pkl.gz')"
            ]
          },
          "metadata": {},
          "execution_count": 156
        }
      ]
    },
    {
      "cell_type": "code",
      "source": [
        "n,m = x_train.shape  # n: # of training samples   m: pixels\n",
        "c = y_train.max()+1  # posible ouputs\n",
        "n, m, c"
      ],
      "metadata": {
        "colab": {
          "base_uri": "https://localhost:8080/"
        },
        "id": "J2pIXNd0sLay",
        "outputId": "11f6c73c-1770-45d5-a393-03861bf69320"
      },
      "execution_count": 157,
      "outputs": [
        {
          "output_type": "execute_result",
          "data": {
            "text/plain": [
              "(50000, 784, tensor(10))"
            ]
          },
          "metadata": {},
          "execution_count": 157
        }
      ]
    },
    {
      "cell_type": "code",
      "source": [
        "nh = 50  # hidden activations # # of REctified lines to add up"
      ],
      "metadata": {
        "id": "n-1M5SEisLc5"
      },
      "execution_count": 158,
      "outputs": []
    },
    {
      "cell_type": "code",
      "source": [
        "w1 = torch.randn(m, nh)\n",
        "b1 = torch.zeros(nh) # bias\n",
        "w2 = torch.randn(nh,1)  # 1  output\n",
        "b2 = torch.zeros(1)\n",
        "\n",
        "w1.shape, b1.shape,w2.shape, b2.shape"
      ],
      "metadata": {
        "id": "aXRWXKZKsLew",
        "outputId": "3ca10143-cb73-470d-f708-456791f0a50f",
        "colab": {
          "base_uri": "https://localhost:8080/"
        }
      },
      "execution_count": 159,
      "outputs": [
        {
          "output_type": "execute_result",
          "data": {
            "text/plain": [
              "(torch.Size([784, 50]), torch.Size([50]), torch.Size([50, 1]), torch.Size([1]))"
            ]
          },
          "metadata": {},
          "execution_count": 159
        }
      ]
    },
    {
      "cell_type": "code",
      "source": [
        "def lin(x, w, b):\n",
        "  print(f\" x:{x.shape} \\n w:{w.shape} \\n b:{b.shape}\")\n",
        "  return x@w + b"
      ],
      "metadata": {
        "id": "fg1HHMn9tePT"
      },
      "execution_count": 160,
      "outputs": []
    },
    {
      "cell_type": "code",
      "source": [
        "t = lin(x_valid, w1, b1)\n",
        "t.shape"
      ],
      "metadata": {
        "colab": {
          "base_uri": "https://localhost:8080/"
        },
        "id": "MszEuSjCteRp",
        "outputId": "791c9db2-cffb-4c4e-c63b-8653e2f25ac4"
      },
      "execution_count": 161,
      "outputs": [
        {
          "output_type": "stream",
          "name": "stdout",
          "text": [
            " x:torch.Size([10000, 784]) \n",
            " w:torch.Size([784, 50]) \n",
            " b:torch.Size([50])\n"
          ]
        },
        {
          "output_type": "execute_result",
          "data": {
            "text/plain": [
              "torch.Size([10000, 50])"
            ]
          },
          "metadata": {},
          "execution_count": 161
        }
      ]
    },
    {
      "cell_type": "code",
      "source": [
        "t"
      ],
      "metadata": {
        "id": "tJWTdnGgteTr",
        "outputId": "97f0154d-0de4-4adf-c254-75659529f450",
        "colab": {
          "base_uri": "https://localhost:8080/"
        }
      },
      "execution_count": 162,
      "outputs": [
        {
          "output_type": "execute_result",
          "data": {
            "text/plain": [
              "tensor([[ -0.09,  11.87, -11.39,  ...,   5.48,   2.14,  15.30],\n",
              "        [  5.38,  10.21, -14.49,  ...,   0.88,   0.08,  20.23],\n",
              "        [  3.31,   0.12,   3.10,  ...,  16.89,  -6.05,  24.74],\n",
              "        ...,\n",
              "        [  4.01,  10.35, -11.25,  ...,   0.23,  -5.30,  18.28],\n",
              "        [ 10.62,  -4.27,  10.72,  ...,  -2.87,  -2.87,  18.23],\n",
              "        [  2.84,  -0.22,   1.43,  ...,  -3.91,   5.75,   2.12]])"
            ]
          },
          "metadata": {},
          "execution_count": 162
        }
      ]
    },
    {
      "cell_type": "code",
      "source": [
        "def relu(x):\n",
        "  return x.clamp_min(0.)  # under 0 would be 0\n",
        "\n",
        "\n",
        "t = relu(t)\n",
        "t"
      ],
      "metadata": {
        "id": "32yyqBQCteWO",
        "outputId": "82bc784e-d6b4-4e0a-d1a7-0099904b9545",
        "colab": {
          "base_uri": "https://localhost:8080/"
        }
      },
      "execution_count": 163,
      "outputs": [
        {
          "output_type": "execute_result",
          "data": {
            "text/plain": [
              "tensor([[ 0.00, 11.87,  0.00,  ...,  5.48,  2.14, 15.30],\n",
              "        [ 5.38, 10.21,  0.00,  ...,  0.88,  0.08, 20.23],\n",
              "        [ 3.31,  0.12,  3.10,  ..., 16.89,  0.00, 24.74],\n",
              "        ...,\n",
              "        [ 4.01, 10.35,  0.00,  ...,  0.23,  0.00, 18.28],\n",
              "        [10.62,  0.00, 10.72,  ...,  0.00,  0.00, 18.23],\n",
              "        [ 2.84,  0.00,  1.43,  ...,  0.00,  5.75,  2.12]])"
            ]
          },
          "metadata": {},
          "execution_count": 163
        }
      ]
    },
    {
      "cell_type": "code",
      "source": [
        "def model(xb):\n",
        "  l1 = lin(xb, w1, b1)\n",
        "  l2 = relu(l1)\n",
        "  return lin(l2,w2,b2)\n",
        "\n",
        "model(x_valid).shape"
      ],
      "metadata": {
        "id": "QZyCyK2xsLgy",
        "outputId": "d9680436-efed-4e08-d525-aa7a3342ad46",
        "colab": {
          "base_uri": "https://localhost:8080/"
        }
      },
      "execution_count": 164,
      "outputs": [
        {
          "output_type": "stream",
          "name": "stdout",
          "text": [
            " x:torch.Size([10000, 784]) \n",
            " w:torch.Size([784, 50]) \n",
            " b:torch.Size([50])\n",
            " x:torch.Size([10000, 50]) \n",
            " w:torch.Size([50, 1]) \n",
            " b:torch.Size([1])\n"
          ]
        },
        {
          "output_type": "execute_result",
          "data": {
            "text/plain": [
              "torch.Size([10000, 1])"
            ]
          },
          "metadata": {},
          "execution_count": 164
        }
      ]
    },
    {
      "cell_type": "code",
      "source": [
        "res  = model(x_valid)\n",
        "res.shape"
      ],
      "metadata": {
        "id": "ik-1gPNB9xJ9",
        "outputId": "d847fe56-020c-40db-ce32-18efa853b846",
        "colab": {
          "base_uri": "https://localhost:8080/"
        }
      },
      "execution_count": 165,
      "outputs": [
        {
          "output_type": "stream",
          "name": "stdout",
          "text": [
            " x:torch.Size([10000, 784]) \n",
            " w:torch.Size([784, 50]) \n",
            " b:torch.Size([50])\n",
            " x:torch.Size([10000, 50]) \n",
            " w:torch.Size([50, 1]) \n",
            " b:torch.Size([1])\n"
          ]
        },
        {
          "output_type": "execute_result",
          "data": {
            "text/plain": [
              "torch.Size([10000, 1])"
            ]
          },
          "metadata": {},
          "execution_count": 165
        }
      ]
    },
    {
      "cell_type": "code",
      "source": [],
      "metadata": {
        "id": "v-_dTAAs9xL1"
      },
      "execution_count": 165,
      "outputs": []
    },
    {
      "cell_type": "markdown",
      "source": [
        "## Loss: MSE\n",
        "ofcourse MSE is not suitable"
      ],
      "metadata": {
        "id": "_T-5ONT--Z3N"
      }
    },
    {
      "cell_type": "code",
      "source": [
        "res.shape, y_valid.shape  # y_valid is to compare with   # 1 in (10000,1) would be first broadcasted to corresponding y_valid first\n",
        "                            # and when it comes 10000 in (10000,1) y_valis's shape becomes (1, 10000); repeating everything"
      ],
      "metadata": {
        "id": "KdV_zdB29xNk",
        "outputId": "73a46afd-b4d6-4bee-b6d1-648c500c28e2",
        "colab": {
          "base_uri": "https://localhost:8080/"
        }
      },
      "execution_count": 166,
      "outputs": [
        {
          "output_type": "execute_result",
          "data": {
            "text/plain": [
              "(torch.Size([10000, 1]), torch.Size([10000]))"
            ]
          },
          "metadata": {},
          "execution_count": 166
        }
      ]
    },
    {
      "cell_type": "code",
      "source": [
        "(res - y_valid).shape  # each element in res's distance to each element in y_valid so a matrix"
      ],
      "metadata": {
        "id": "5xA4oMtm9xRF",
        "outputId": "f02194e9-156d-4bf8-c4cc-2d8fa801f790",
        "colab": {
          "base_uri": "https://localhost:8080/"
        }
      },
      "execution_count": 167,
      "outputs": [
        {
          "output_type": "execute_result",
          "data": {
            "text/plain": [
              "torch.Size([10000, 10000])"
            ]
          },
          "metadata": {},
          "execution_count": 167
        }
      ]
    },
    {
      "cell_type": "code",
      "source": [
        "# so make Y-valid shapes (10000, 1)\n",
        "\n",
        "(res - y_valid[:,None]).shape, (res - y_valid[:,None])"
      ],
      "metadata": {
        "id": "oX-sbem39xTN",
        "outputId": "e92dc72f-81e1-4434-b634-8911929fe139",
        "colab": {
          "base_uri": "https://localhost:8080/"
        }
      },
      "execution_count": 168,
      "outputs": [
        {
          "output_type": "execute_result",
          "data": {
            "text/plain": [
              "(torch.Size([10000, 1]),\n",
              " tensor([[  22.75],\n",
              "         [ -21.06],\n",
              "         [-120.79],\n",
              "         ...,\n",
              "         [ -72.44],\n",
              "         [ -80.48],\n",
              "         [ -68.19]]))"
            ]
          },
          "metadata": {},
          "execution_count": 168
        }
      ]
    },
    {
      "cell_type": "code",
      "source": [
        "(res.squeeze() - y_valid).shape, (res.squeeze() - y_valid)"
      ],
      "metadata": {
        "id": "XqWE-twe9xWA",
        "outputId": "138e6dcf-ceac-4cd2-f902-c3cb2a648ad7",
        "colab": {
          "base_uri": "https://localhost:8080/"
        }
      },
      "execution_count": 169,
      "outputs": [
        {
          "output_type": "execute_result",
          "data": {
            "text/plain": [
              "(torch.Size([10000]),\n",
              " tensor([  22.75,  -21.06, -120.79,  ...,  -72.44,  -80.48,  -68.19]))"
            ]
          },
          "metadata": {},
          "execution_count": 169
        }
      ]
    },
    {
      "cell_type": "code",
      "source": [
        "#or\n",
        "#res[:, 0].shape : extracts first columns\n",
        "#res[0,:].shape : extracts first row\n",
        "\n",
        "\n",
        "res.shape, res[:, 0].shape, res[0,:].shape"
      ],
      "metadata": {
        "id": "Jo12Z1GbATJc",
        "outputId": "ec43b217-93ce-4c2d-ef7b-13c533ef8fd9",
        "colab": {
          "base_uri": "https://localhost:8080/"
        }
      },
      "execution_count": 170,
      "outputs": [
        {
          "output_type": "execute_result",
          "data": {
            "text/plain": [
              "(torch.Size([10000, 1]), torch.Size([10000]), torch.Size([1]))"
            ]
          },
          "metadata": {},
          "execution_count": 170
        }
      ]
    },
    {
      "cell_type": "code",
      "source": [
        "res.shape, res[None, : , None].shape, (res[None, : , None]).squeeze().shape"
      ],
      "metadata": {
        "id": "WJR1MGUgAi4s",
        "outputId": "c14406f7-7af2-4b2e-d54b-701190a772d4",
        "colab": {
          "base_uri": "https://localhost:8080/"
        }
      },
      "execution_count": 171,
      "outputs": [
        {
          "output_type": "execute_result",
          "data": {
            "text/plain": [
              "(torch.Size([10000, 1]), torch.Size([1, 10000, 1, 1]), torch.Size([10000]))"
            ]
          },
          "metadata": {},
          "execution_count": 171
        }
      ]
    },
    {
      "cell_type": "code",
      "source": [
        "# so,\n",
        "\n",
        "(res[:,0] - y_valid).shape"
      ],
      "metadata": {
        "id": "_CYazBijAjeH",
        "outputId": "c3df4072-7b9f-4385-dc77-d46304a43260",
        "colab": {
          "base_uri": "https://localhost:8080/"
        }
      },
      "execution_count": 172,
      "outputs": [
        {
          "output_type": "execute_result",
          "data": {
            "text/plain": [
              "torch.Size([10000])"
            ]
          },
          "metadata": {},
          "execution_count": 172
        }
      ]
    },
    {
      "cell_type": "code",
      "source": [
        "y_train, y_valid = y_train.float(), y_valid.float()\n",
        "\n",
        "preds = model(x_train)\n",
        "preds.shape"
      ],
      "metadata": {
        "id": "xWKTNFF_AjgR",
        "outputId": "757a5d01-e1fc-47ef-9b94-b6ccc1b1ed78",
        "colab": {
          "base_uri": "https://localhost:8080/"
        }
      },
      "execution_count": 173,
      "outputs": [
        {
          "output_type": "stream",
          "name": "stdout",
          "text": [
            " x:torch.Size([50000, 784]) \n",
            " w:torch.Size([784, 50]) \n",
            " b:torch.Size([50])\n",
            " x:torch.Size([50000, 50]) \n",
            " w:torch.Size([50, 1]) \n",
            " b:torch.Size([1])\n"
          ]
        },
        {
          "output_type": "execute_result",
          "data": {
            "text/plain": [
              "torch.Size([50000, 1])"
            ]
          },
          "metadata": {},
          "execution_count": 173
        }
      ]
    },
    {
      "cell_type": "code",
      "source": [
        "def mse( output, targ):\n",
        "  print(f\"output: {output.shape}, targ: {targ.shape}\")\n",
        "  return (output[:, 0] - targ).pow(2).mean()\n",
        "\n",
        "mse(preds, y_train)"
      ],
      "metadata": {
        "id": "7uLg4FKoAjia",
        "outputId": "7dc60f67-dad8-47c5-ee98-df9d19cd1a84",
        "colab": {
          "base_uri": "https://localhost:8080/"
        }
      },
      "execution_count": 174,
      "outputs": [
        {
          "output_type": "stream",
          "name": "stdout",
          "text": [
            "output: torch.Size([50000, 1]), targ: torch.Size([50000])\n"
          ]
        },
        {
          "output_type": "execute_result",
          "data": {
            "text/plain": [
              "tensor(4308.76)"
            ]
          },
          "metadata": {},
          "execution_count": 174
        }
      ]
    },
    {
      "cell_type": "code",
      "source": [],
      "metadata": {
        "id": "AW3FCPvaAjk1"
      },
      "execution_count": 174,
      "outputs": []
    },
    {
      "cell_type": "markdown",
      "source": [
        "## Gradients & backward pass"
      ],
      "metadata": {
        "id": "8KDdvOnKCq1X"
      }
    },
    {
      "cell_type": "code",
      "source": [
        "from sympy import symbols, diff"
      ],
      "metadata": {
        "id": "Yz-A5TVtAjnk"
      },
      "execution_count": 175,
      "outputs": []
    },
    {
      "cell_type": "code",
      "source": [
        "x,y = symbols('x y')\n",
        "x,y"
      ],
      "metadata": {
        "id": "yv1RqvMkXocl",
        "outputId": "e6c171e8-c2da-44ea-f2a9-bd4b27c5120d",
        "colab": {
          "base_uri": "https://localhost:8080/"
        }
      },
      "execution_count": 176,
      "outputs": [
        {
          "output_type": "execute_result",
          "data": {
            "text/plain": [
              "(x, y)"
            ]
          },
          "metadata": {},
          "execution_count": 176
        }
      ]
    },
    {
      "cell_type": "code",
      "source": [
        "diff(x**2, x) # taking differential"
      ],
      "metadata": {
        "id": "_ewjaQxnXoe6",
        "outputId": "f6a2eae5-e3e5-4b55-cdca-44f271f8bdc4",
        "colab": {
          "base_uri": "https://localhost:8080/",
          "height": 39
        }
      },
      "execution_count": 177,
      "outputs": [
        {
          "output_type": "execute_result",
          "data": {
            "text/plain": [
              "2*x"
            ],
            "text/latex": "$\\displaystyle 2 x$"
          },
          "metadata": {},
          "execution_count": 177
        }
      ]
    },
    {
      "cell_type": "code",
      "source": [
        "diff(3*x**2 +9, x)"
      ],
      "metadata": {
        "id": "J_QttkwLXohB",
        "outputId": "ff734d9c-b68e-4c37-eda6-c8f438064568",
        "colab": {
          "base_uri": "https://localhost:8080/",
          "height": 39
        }
      },
      "execution_count": 178,
      "outputs": [
        {
          "output_type": "execute_result",
          "data": {
            "text/plain": [
              "6*x"
            ],
            "text/latex": "$\\displaystyle 6 x$"
          },
          "metadata": {},
          "execution_count": 178
        }
      ]
    },
    {
      "cell_type": "code",
      "source": [
        "def lin_grad(inp, out, w, b):   # inp is being manipulated here  # just multiply by output gradients in all values\n",
        "  # grad of matmul w.r.t input\n",
        "\n",
        "  # here  inp contains the original input values used in the forward pass. inp.g attribute of inp is assigned the gradient information calculated during the backward pass.\n",
        "  #The original values of inp are still present in the tensor, but now the .g attribute holds the calculated gradients.\n",
        "  inp.g = out.g @ w.t()  # gradient of output w.r.t input   # multiplying weights with gradients of ouput\n",
        "  # import pdb; pdb.set_trace()  # tellls debugger its breakpoint\n",
        "  # breakpoint()\n",
        "\n",
        "  # print(f\"inp: {inp.shape}  ******   inp.g: {inp.g.shape}\" )\n",
        "\n",
        "\n",
        "  # print(f\"   inp.unsqueeze(-1): {inp.unsqueeze(-1).shape} ||||  inp: {inp.shape}\")\n",
        "  # print(f\"** inp: { inp.shape } * out.g: {out.g.shape}\")\n",
        "\n",
        "  # w.g = (inp.unsqueeze(-1) * out.g.unsqueeze(1)).sum(0)  # gradient of output w.r.t weights   # (inputs * output weights gradients ebcause of chain rule) summed over\n",
        "  # i,o = inp.unsqueeze(-1), out.g.unsqueeze(1)\n",
        "  # w.g = (i*o).sum(0)\n",
        "  # w.g = torch.einsum('ij,ik->jk', inp, out.g)\n",
        "  \"\"\"\n",
        "  but ij,ik->jk is not same as matrix multiplication.  we'd need to sawp i and j by using transpose\n",
        "  \"\"\"\n",
        "\n",
        "  w.g = inp.T@out.g\n",
        "\n",
        "\n",
        "\n",
        "  # print(f\"(inp.unsqueeze(-1) * out.g.unsqueeze(1)): {(inp.unsqueeze(-1) * out.g.unsqueeze(1)).shape}  || (inp.unsqueeze(-1) * out.g.unsqueeze(1)).sum(0).shape: {(inp.unsqueeze(-1) * out.g.unsqueeze(1)).sum(0).shape}\")\n",
        "  # print(f\"++ inp.unsqueeze(-1): { inp.unsqueeze(-1).shape } * out.g.unsqueeze(1): {out.g.unsqueeze(1).shape}\")\n",
        "  b.g = out.g.sum(0) # gradients of output summed over\n",
        "  # print(f\" out.g.sum(0): {b.g} ||| out.g : {out.g.shape}\")\n",
        "\n",
        "  # breakpoint()\n",
        "\n",
        "  \"\"\"\n",
        "\n",
        "\n",
        "  inp.g: Gradient of the input with respect to the loss. This line calculates the gradient of the loss with respect to the input inp. The formula used here is a common one in backpropagation for a linear layer. The gradient is computed by taking the dot product of the gradient of the output (out.g) and the transpose of the weight matrix (w.t()). This operation essentially backpropagates the error from the output to the input through the weight matrix.\n",
        "\n",
        "Mathematically, if L is the loss and i represents the input, this operation can be expressed as:\n",
        "\n",
        "dL/di = (dL/dout) * w.t()\n",
        "\"\"\""
      ],
      "metadata": {
        "id": "WS-L-lYVXojU"
      },
      "execution_count": 179,
      "outputs": []
    },
    {
      "cell_type": "code",
      "source": [
        "def forward_and_backward(inp, targ):\n",
        "  # forward\n",
        "  l1 = lin(inp, w1,b1)\n",
        "  l2 = relu(l1)\n",
        "  out = lin(l2, w2, b2)  # output of second layer\n",
        "  diff = out[:, 0]-targ\n",
        "  loss = diff.pow(2).mean()\n",
        "\n",
        "  #backward pass:\n",
        "  out.g = 2.*diff[:,None]/inp.shape[0]   # creating new attribute `.g`    # 2*diff because we took diff square    # divided my inp.shape[0] bcz we took mean\n",
        "  # print(f\"inp.shape[0]: {inp.shape[0]}   |   diff[:,None]: {diff[:,None].shape}  |  diff: {diff.shape}\")\n",
        "  lin_grad(l2, out, w2,b2)\n",
        "  l1.g = (l1>0).float() * l2.g  # as we are using l1 l2 of forward pass here,, so we need to store each of intermediary layer calculations\n",
        "  lin_grad(inp, l1,w1,b1)\n",
        "\n",
        "\n",
        "forward_and_backward(x_train, y_train)\n"
      ],
      "metadata": {
        "id": "G7Uo0MYyXolS",
        "colab": {
          "base_uri": "https://localhost:8080/"
        },
        "outputId": "45fca33d-f71c-4897-d3b0-8cf005d2c800"
      },
      "execution_count": 180,
      "outputs": [
        {
          "output_type": "stream",
          "name": "stdout",
          "text": [
            " x:torch.Size([50000, 784]) \n",
            " w:torch.Size([784, 50]) \n",
            " b:torch.Size([50])\n",
            " x:torch.Size([50000, 50]) \n",
            " w:torch.Size([50, 1]) \n",
            " b:torch.Size([1])\n"
          ]
        }
      ]
    },
    {
      "cell_type": "code",
      "source": [
        " w1.g.shape, x_train.g.shape"
      ],
      "metadata": {
        "id": "Z1tiSeb4Xomz",
        "colab": {
          "base_uri": "https://localhost:8080/"
        },
        "outputId": "2b5666f3-3d7d-4807-b3fd-82aaf7d5391b"
      },
      "execution_count": 181,
      "outputs": [
        {
          "output_type": "execute_result",
          "data": {
            "text/plain": [
              "(torch.Size([784, 50]), torch.Size([50000, 784]))"
            ]
          },
          "metadata": {},
          "execution_count": 181
        }
      ]
    },
    {
      "cell_type": "code",
      "source": [
        "x_train.g"
      ],
      "metadata": {
        "id": "_wFOCaGJXopp",
        "colab": {
          "base_uri": "https://localhost:8080/"
        },
        "outputId": "e91e0218-dab7-430e-aa9d-3b1099e59a2a"
      },
      "execution_count": 182,
      "outputs": [
        {
          "output_type": "execute_result",
          "data": {
            "text/plain": [
              "tensor([[    -0.00,     -0.01,      0.00,  ...,     -0.00,      0.00,      0.00],\n",
              "        [    -0.03,     -0.03,      0.01,  ...,     -0.04,     -0.01,     -0.01],\n",
              "        [     0.00,      0.00,     -0.00,  ...,      0.00,     -0.00,      0.00],\n",
              "        ...,\n",
              "        [    -0.00,     -0.02,      0.01,  ...,     -0.00,     -0.00,      0.00],\n",
              "        [    -0.02,     -0.01,      0.01,  ...,     -0.01,      0.01,     -0.00],\n",
              "        [    -0.00,     -0.00,      0.00,  ...,     -0.00,     -0.00,     -0.00]])"
            ]
          },
          "metadata": {},
          "execution_count": 182
        }
      ]
    },
    {
      "cell_type": "code",
      "source": [
        "x_train.g.zero_()"
      ],
      "metadata": {
        "id": "tOom2djSOM0R",
        "outputId": "54a5a992-ef2c-4785-dbb4-ba3e3fa16427",
        "colab": {
          "base_uri": "https://localhost:8080/"
        }
      },
      "execution_count": 183,
      "outputs": [
        {
          "output_type": "execute_result",
          "data": {
            "text/plain": [
              "tensor([[0., 0., 0.,  ..., 0., 0., 0.],\n",
              "        [0., 0., 0.,  ..., 0., 0., 0.],\n",
              "        [0., 0., 0.,  ..., 0., 0., 0.],\n",
              "        ...,\n",
              "        [0., 0., 0.,  ..., 0., 0., 0.],\n",
              "        [0., 0., 0.,  ..., 0., 0., 0.],\n",
              "        [0., 0., 0.,  ..., 0., 0., 0.]])"
            ]
          },
          "metadata": {},
          "execution_count": 183
        }
      ]
    },
    {
      "cell_type": "code",
      "source": [
        "forward_and_backward(x_train, y_train)"
      ],
      "metadata": {
        "id": "29EH5mC0OM3G",
        "outputId": "1c87cbc6-ade1-4e8e-adb1-9f680a525a58",
        "colab": {
          "base_uri": "https://localhost:8080/"
        }
      },
      "execution_count": 184,
      "outputs": [
        {
          "output_type": "stream",
          "name": "stdout",
          "text": [
            " x:torch.Size([50000, 784]) \n",
            " w:torch.Size([784, 50]) \n",
            " b:torch.Size([50])\n",
            " x:torch.Size([50000, 50]) \n",
            " w:torch.Size([50, 1]) \n",
            " b:torch.Size([1])\n"
          ]
        }
      ]
    },
    {
      "cell_type": "code",
      "source": [
        "forward_and_backward(x_train, y_train)"
      ],
      "metadata": {
        "id": "uyCJ9gwqOQw6",
        "outputId": "94ed8ab9-3661-4866-b420-ef3ce3e367f7",
        "colab": {
          "base_uri": "https://localhost:8080/"
        }
      },
      "execution_count": 185,
      "outputs": [
        {
          "output_type": "stream",
          "name": "stdout",
          "text": [
            " x:torch.Size([50000, 784]) \n",
            " w:torch.Size([784, 50]) \n",
            " b:torch.Size([50])\n",
            " x:torch.Size([50000, 50]) \n",
            " w:torch.Size([50, 1]) \n",
            " b:torch.Size([1])\n"
          ]
        }
      ]
    },
    {
      "cell_type": "code",
      "source": [],
      "metadata": {
        "id": "BVZyHCRMOY7m"
      },
      "execution_count": 185,
      "outputs": []
    },
    {
      "cell_type": "markdown",
      "source": [
        "## Geradients and backward pass"
      ],
      "metadata": {
        "id": "9lsSi1TiClJN"
      }
    },
    {
      "cell_type": "code",
      "source": [
        "from sympy import symbols,diff\n",
        "x,y = symbols('x y')\n",
        "diff(x**2, x)\n",
        ""
      ],
      "metadata": {
        "id": "vVBKh80SOZjG",
        "colab": {
          "base_uri": "https://localhost:8080/",
          "height": 39
        },
        "outputId": "41fc448d-2be1-4a0b-88e5-862c41534b97"
      },
      "execution_count": 186,
      "outputs": [
        {
          "output_type": "execute_result",
          "data": {
            "text/plain": [
              "2*x"
            ],
            "text/latex": "$\\displaystyle 2 x$"
          },
          "metadata": {},
          "execution_count": 186
        }
      ]
    },
    {
      "cell_type": "code",
      "source": [
        "diff(3*x**2+9, x)\n"
      ],
      "metadata": {
        "colab": {
          "base_uri": "https://localhost:8080/",
          "height": 39
        },
        "id": "OCRwbcxqN2LS",
        "outputId": "e3ae97c1-aef4-4d0e-93df-ab95f1500e47"
      },
      "execution_count": 187,
      "outputs": [
        {
          "output_type": "execute_result",
          "data": {
            "text/plain": [
              "6*x"
            ],
            "text/latex": "$\\displaystyle 6 x$"
          },
          "metadata": {},
          "execution_count": 187
        }
      ]
    },
    {
      "cell_type": "code",
      "source": [
        "def lin_grad(inp, out, w, b):\n",
        "    # grad of matmul with respect to input\n",
        "    inp.g = out.g @ w.t()\n",
        "    w.g = (inp.unsqueeze(-1) * out.g.unsqueeze(1)).sum(0)\n",
        "    b.g = out.g.sum(0)"
      ],
      "metadata": {
        "id": "xt8Tcyq0N2Nr"
      },
      "execution_count": 188,
      "outputs": []
    },
    {
      "cell_type": "code",
      "source": [
        "def forward_and_backward(inp, targ):\n",
        "    # forward pass:\n",
        "    l1 = lin(inp, w1, b1)\n",
        "    l2 = relu(l1)\n",
        "    out = lin(l2, w2, b2)\n",
        "    diff = out[:,0]-targ\n",
        "    loss = diff.pow(2).mean()\n",
        "\n",
        "    # backward pass:\n",
        "    out.g = 2.*diff[:,None] / inp.shape[0]\n",
        "    lin_grad(l2, out, w2, b2)\n",
        "    l1.g = (l1>0).float() * l2.g\n",
        "    lin_grad(inp, l1, w1, b1)"
      ],
      "metadata": {
        "id": "mE-_wB7JN2Ql"
      },
      "execution_count": 189,
      "outputs": []
    },
    {
      "cell_type": "code",
      "source": [
        "forward_and_backward(x_train, y_train)\n"
      ],
      "metadata": {
        "colab": {
          "base_uri": "https://localhost:8080/"
        },
        "id": "5p0mIiaGN7IP",
        "outputId": "64c550b7-522e-4a81-9de9-22c04dc0f199"
      },
      "execution_count": 190,
      "outputs": [
        {
          "output_type": "stream",
          "name": "stdout",
          "text": [
            " x:torch.Size([50000, 784]) \n",
            " w:torch.Size([784, 50]) \n",
            " b:torch.Size([50])\n",
            " x:torch.Size([50000, 50]) \n",
            " w:torch.Size([50, 1]) \n",
            " b:torch.Size([1])\n"
          ]
        }
      ]
    },
    {
      "cell_type": "code",
      "source": [
        "def get_grad(x): return x.g.clone()\n",
        "chks = w1,w2,b1,b2,x_train\n",
        "grads = w1g,w2g,b1g,b2g,ig = tuple(map(get_grad, chks))"
      ],
      "metadata": {
        "id": "r0u0xQj-N7LK"
      },
      "execution_count": 191,
      "outputs": []
    },
    {
      "cell_type": "code",
      "source": [
        "def mkgrad(x): return x.clone().requires_grad_(True)\n",
        "ptgrads = w12,w22,b12,b22,xt2 = tuple(map(mkgrad, chks))"
      ],
      "metadata": {
        "id": "dkp761HNN7Nl"
      },
      "execution_count": 192,
      "outputs": []
    },
    {
      "cell_type": "code",
      "source": [
        "def forward(inp, targ):\n",
        "    l1 = lin(inp, w12, b12)\n",
        "    l2 = relu(l1)\n",
        "    out = lin(l2, w22, b22)\n",
        "    return mse(out, targ)"
      ],
      "metadata": {
        "id": "K26KofGDOOUT"
      },
      "execution_count": 193,
      "outputs": []
    },
    {
      "cell_type": "code",
      "source": [
        "loss = forward(xt2, y_train)\n",
        "loss.backward()"
      ],
      "metadata": {
        "colab": {
          "base_uri": "https://localhost:8080/"
        },
        "id": "J6NdNI64OQHB",
        "outputId": "a983b9fb-a862-4264-d5ed-fef94124e7c7"
      },
      "execution_count": 194,
      "outputs": [
        {
          "output_type": "stream",
          "name": "stdout",
          "text": [
            " x:torch.Size([50000, 784]) \n",
            " w:torch.Size([784, 50]) \n",
            " b:torch.Size([50])\n",
            " x:torch.Size([50000, 50]) \n",
            " w:torch.Size([50, 1]) \n",
            " b:torch.Size([1])\n",
            "output: torch.Size([50000, 1]), targ: torch.Size([50000])\n"
          ]
        }
      ]
    },
    {
      "cell_type": "code",
      "source": [
        "for a,b in zip(grads, ptgrads): test_close(a, b.grad, eps=0.01)\n"
      ],
      "metadata": {
        "id": "HIrXfwqNOQJH"
      },
      "execution_count": 195,
      "outputs": []
    },
    {
      "cell_type": "code",
      "source": [],
      "metadata": {
        "id": "j9CnKd3BOQLZ"
      },
      "execution_count": 195,
      "outputs": []
    },
    {
      "cell_type": "code",
      "source": [],
      "metadata": {
        "id": "iBmMLOGiOZlc"
      },
      "execution_count": 195,
      "outputs": []
    },
    {
      "cell_type": "markdown",
      "source": [
        "## Refactor model"
      ],
      "metadata": {
        "id": "42qQNhUZ32K_"
      }
    },
    {
      "cell_type": "markdown",
      "source": [
        "### Layers as classes"
      ],
      "metadata": {
        "id": "R_qnTrWk39-H"
      }
    },
    {
      "cell_type": "code",
      "source": [
        "class Relu():\n",
        "  def __call__(self,inp):\n",
        "    self.inp = inp     # # as we are using l1 l2 of forward pass here,, so we need to store each of intermediary layer calculations so, here relu is\n",
        "    # not ust doing calculations but also stores input and output in self.inp and self.out  so when we cakll backward, we can use them as shown in backward() below\n",
        "    self.out = inp.clamp_min(0.)\n",
        "    return self.out\n",
        "\n",
        "  def backward(self):\n",
        "    self.inp.g = (self.inp>0).float() * self.out.g\n",
        "\n"
      ],
      "metadata": {
        "id": "57pralXtOZqK"
      },
      "execution_count": 196,
      "outputs": []
    },
    {
      "cell_type": "code",
      "source": [
        "class Lin():\n",
        "  def __init__(self, w, b):  # it has init because it needs additional input that relu didnt\n",
        "    self.w, self.b = w,b\n",
        "\n",
        "  def __call__(self, inp):\n",
        "    self.inp = inp\n",
        "    self.out = lin(inp, self.w, self.b)\n",
        "    return self.out\n",
        "\n",
        "  def backward(self):\n",
        "    self.inp.g = self.out.g @ self.w.t()\n",
        "    self.w.g = self.inp.t() @ self.out.g\n",
        "    self.b.g = self.out.g.sum(0)\n",
        "\n",
        "\n"
      ],
      "metadata": {
        "id": "YKJcnw1dOZsR"
      },
      "execution_count": 197,
      "outputs": []
    },
    {
      "cell_type": "code",
      "source": [
        "class Mse():\n",
        "  def __call__(self, inp, targ):\n",
        "    self.inp, self.targ = inp, targ\n",
        "    self.out = mse(inp, targ)\n",
        "    return self.out\n",
        "\n",
        "\n",
        "  def backward(self):\n",
        "    self.inp.g = 2. * (self.inp.squeeze() - self.targ).unsqueeze(-1) / self.targ.shape[0]\n"
      ],
      "metadata": {
        "id": "K16FXtWAOZun"
      },
      "execution_count": 198,
      "outputs": []
    },
    {
      "cell_type": "code",
      "source": [
        "x = torch.randn((2,2))\n",
        "x.shape, x[:,None].shape,  x[:, 0 ].shape,  x, x[:,None],  x[:, 0 ]"
      ],
      "metadata": {
        "id": "mLyUqulROZxS",
        "colab": {
          "base_uri": "https://localhost:8080/"
        },
        "outputId": "a188bfa0-2853-431d-ac72-d66fac0cc4da"
      },
      "execution_count": 199,
      "outputs": [
        {
          "output_type": "execute_result",
          "data": {
            "text/plain": [
              "(torch.Size([2, 2]),\n",
              " torch.Size([2, 1, 2]),\n",
              " torch.Size([2]),\n",
              " tensor([[ 0.57, -0.99],\n",
              "         [ 1.62, -0.98]]),\n",
              " tensor([[[ 0.57, -0.99]],\n",
              " \n",
              "         [[ 1.62, -0.98]]]),\n",
              " tensor([0.57, 1.62]))"
            ]
          },
          "metadata": {},
          "execution_count": 199
        }
      ]
    },
    {
      "cell_type": "code",
      "source": [
        "class Model():\n",
        "  def __init__(self, w1, b1, w2, b2):\n",
        "    self.layers = [Lin(w1, b1), Relu(), Lin(w2,b2)]  # we are creating instances of each classes\n",
        "    self.loss = Mse()\n",
        "\n",
        "\n",
        "  def __call__(self, x, targ):\n",
        "    for l in self.layers:\n",
        "      x = l(x)                                    # calling layer\n",
        "          # loss function is being calculated in the model\n",
        "    return dict(loss = self.loss(x, targ), preds = x)\n",
        "  def backward(self):\n",
        "    self.loss.backward()\n",
        "    for l in reversed(self.layers):\n",
        "      l.backward()"
      ],
      "metadata": {
        "id": "TbCvovjL9R9S"
      },
      "execution_count": 200,
      "outputs": []
    },
    {
      "cell_type": "code",
      "source": [
        "model = Model(w1,b1, w2, b2)"
      ],
      "metadata": {
        "id": "LCR-kP6a94Th"
      },
      "execution_count": 201,
      "outputs": []
    },
    {
      "cell_type": "code",
      "source": [
        "loss= model(x_train, y_train)"
      ],
      "metadata": {
        "colab": {
          "base_uri": "https://localhost:8080/"
        },
        "id": "O4RkNq-b94Va",
        "outputId": "67948fd0-cfcc-4886-8658-1aa94986ec01"
      },
      "execution_count": 202,
      "outputs": [
        {
          "output_type": "stream",
          "name": "stdout",
          "text": [
            " x:torch.Size([50000, 784]) \n",
            " w:torch.Size([784, 50]) \n",
            " b:torch.Size([50])\n",
            " x:torch.Size([50000, 50]) \n",
            " w:torch.Size([50, 1]) \n",
            " b:torch.Size([1])\n",
            "output: torch.Size([50000, 1]), targ: torch.Size([50000])\n"
          ]
        }
      ]
    },
    {
      "cell_type": "code",
      "source": [
        "model.backward()"
      ],
      "metadata": {
        "id": "j6e5yHwR94XQ"
      },
      "execution_count": 203,
      "outputs": []
    },
    {
      "cell_type": "code",
      "source": [
        "test_close(w2g, w2.g, eps=0.01)\n",
        "test_close(b2g, b2.g, eps=0.01)\n",
        "test_close(w1g, w1.g, eps=0.01)\n",
        "test_close(b1g, b1.g, eps=0.01)\n",
        "test_close(ig, x_train.g, eps=0.01)"
      ],
      "metadata": {
        "id": "i-87xQTy94Yi"
      },
      "execution_count": 204,
      "outputs": []
    },
    {
      "cell_type": "code",
      "source": [
        "class A:\n",
        "  def __init__(self):\n",
        "    print(\"INITITALIZED!!\")\n",
        "\n",
        "  def __call__(self, x):\n",
        "    print(f\"CALLLED {x}???\")\n",
        "\n",
        "\n",
        "\n",
        "\n",
        "A()"
      ],
      "metadata": {
        "id": "8QcmVWjp94bI",
        "colab": {
          "base_uri": "https://localhost:8080/"
        },
        "outputId": "61a5ca73-ef4a-4247-bfda-76af6116e710"
      },
      "execution_count": 205,
      "outputs": [
        {
          "output_type": "stream",
          "name": "stdout",
          "text": [
            "INITITALIZED!!\n"
          ]
        },
        {
          "output_type": "execute_result",
          "data": {
            "text/plain": [
              "<__main__.A at 0x7ccab8bca320>"
            ]
          },
          "metadata": {},
          "execution_count": 205
        }
      ]
    },
    {
      "cell_type": "code",
      "source": [
        "A()(\"ME?\")"
      ],
      "metadata": {
        "id": "AXbJKXODUQS_",
        "colab": {
          "base_uri": "https://localhost:8080/"
        },
        "outputId": "4d113d58-e100-4137-9769-5dc94cd00e14"
      },
      "execution_count": 206,
      "outputs": [
        {
          "output_type": "stream",
          "name": "stdout",
          "text": [
            "INITITALIZED!!\n",
            "CALLLED ME????\n"
          ]
        }
      ]
    },
    {
      "cell_type": "code",
      "source": [
        "a=A()\n"
      ],
      "metadata": {
        "id": "RD3z-sVgUQVl",
        "colab": {
          "base_uri": "https://localhost:8080/"
        },
        "outputId": "6446c8dc-96a5-4253-9ba7-255b3259fb77"
      },
      "execution_count": 207,
      "outputs": [
        {
          "output_type": "stream",
          "name": "stdout",
          "text": [
            "INITITALIZED!!\n"
          ]
        }
      ]
    },
    {
      "cell_type": "code",
      "source": [
        "a(\"ME?\")"
      ],
      "metadata": {
        "id": "BkMMoK7PUQYQ",
        "colab": {
          "base_uri": "https://localhost:8080/"
        },
        "outputId": "4e5d48d2-d1b0-472f-fa6d-b8cbe8cabbbb"
      },
      "execution_count": 208,
      "outputs": [
        {
          "output_type": "stream",
          "name": "stdout",
          "text": [
            "CALLLED ME????\n"
          ]
        }
      ]
    },
    {
      "cell_type": "code",
      "source": [],
      "metadata": {
        "id": "2QkAl5ARUQbC"
      },
      "execution_count": 208,
      "outputs": []
    },
    {
      "cell_type": "code",
      "source": [],
      "metadata": {
        "id": "6WAwbBz4xtcs"
      },
      "execution_count": 208,
      "outputs": []
    },
    {
      "cell_type": "code",
      "source": [],
      "metadata": {
        "id": "XAgKz82Txtex"
      },
      "execution_count": 208,
      "outputs": []
    },
    {
      "cell_type": "code",
      "source": [],
      "metadata": {
        "id": "3HieTYVtxthy"
      },
      "execution_count": 208,
      "outputs": []
    },
    {
      "cell_type": "code",
      "source": [],
      "metadata": {
        "id": "1tl8Kchbxtj2"
      },
      "execution_count": 208,
      "outputs": []
    },
    {
      "cell_type": "code",
      "source": [],
      "metadata": {
        "id": "LgeSt0jxxtmm"
      },
      "execution_count": 208,
      "outputs": []
    },
    {
      "cell_type": "markdown",
      "source": [
        "## More refactoring\n",
        "\n",
        "there is repetition like `self.inp = inp`"
      ],
      "metadata": {
        "id": "hStjKqtBxtzd"
      }
    },
    {
      "cell_type": "code",
      "source": [
        "class Module():  # this will be inherited\n",
        "  def __call__(self, *args):   # * mean take all of args and put them in a list\n",
        "    self.args= args\n",
        "    self.out = self.forward(*args)\n",
        "    return self.out\n",
        "\n",
        "  def forward(self):\n",
        "    raise Exception('not implemented')\n",
        "\n",
        "\n",
        "  def backward(self):\n",
        "    self.bwd(self.out, *self.args)  # here * is expanding all those args in list\n",
        "\n",
        "  def bwd(self, out, inp):\n",
        "    raise Exception(' not implemented')"
      ],
      "metadata": {
        "id": "B1ygNjpExv9r"
      },
      "execution_count": 209,
      "outputs": []
    },
    {
      "cell_type": "code",
      "source": [
        "f = Module()\n",
        "\n",
        "# f.forward()"
      ],
      "metadata": {
        "id": "iyuwSMb4xwaV"
      },
      "execution_count": 211,
      "outputs": []
    },
    {
      "cell_type": "code",
      "source": [
        "Module"
      ],
      "metadata": {
        "colab": {
          "base_uri": "https://localhost:8080/"
        },
        "id": "mD_-YbxoxwcT",
        "outputId": "2aaf4691-02e6-4035-ab79-3765969a6e52"
      },
      "execution_count": 212,
      "outputs": [
        {
          "output_type": "execute_result",
          "data": {
            "text/plain": [
              "__main__.Module"
            ]
          },
          "metadata": {},
          "execution_count": 212
        }
      ]
    },
    {
      "cell_type": "code",
      "source": [
        "class Relu(Module):\n",
        "\n",
        "  def forward(self, inp):\n",
        "    return inp.clamp_min(0.)\n",
        "\n",
        "  def bwd(self, out, inp):\n",
        "    inp.g = (inp>0).float() * out.g"
      ],
      "metadata": {
        "id": "Kkf9HS_T5CRU"
      },
      "execution_count": 213,
      "outputs": []
    },
    {
      "cell_type": "code",
      "source": [
        "class Lin(Module):\n",
        "  def __init__(self, w, b):\n",
        "    self.w , self.b = w , b\n",
        "  def forward(self, inp):\n",
        "    return inp @ self.w + self.b\n",
        "  def bwd(self, out, inp):\n",
        "    inp.g = self.out.g @ self.w.t()\n",
        "    self.w.g = inp.t() @ self.out.g\n",
        "    self.b.g = self.out.g.sum(0)"
      ],
      "metadata": {
        "id": "oQIDwIkt5CTz"
      },
      "execution_count": 214,
      "outputs": []
    },
    {
      "cell_type": "code",
      "source": [
        "class Mse(Module):\n",
        "  def forward(self, inp, targ):\n",
        "    return (inp.squeeze() - targ).pow(2).mean()\n",
        "  def bwd(self, out, inp, targ):\n",
        "    inp.g = 2*(inp.squeeze() - targ).unsqueeze(-1)/targ.shape[0]\n",
        ""
      ],
      "metadata": {
        "id": "lBvoS-xc5CWm"
      },
      "execution_count": 215,
      "outputs": []
    },
    {
      "cell_type": "code",
      "source": [
        "model = Model(w1, b1, w2, b2)"
      ],
      "metadata": {
        "id": "SlQEhEbHxwfj"
      },
      "execution_count": 216,
      "outputs": []
    },
    {
      "cell_type": "code",
      "source": [
        "loss = model(x_train, y_train)"
      ],
      "metadata": {
        "id": "V3o7XdLpxwh5"
      },
      "execution_count": 217,
      "outputs": []
    },
    {
      "cell_type": "code",
      "source": [
        "model.backward()"
      ],
      "metadata": {
        "id": "Iv-v3fa6xwj1"
      },
      "execution_count": 218,
      "outputs": []
    },
    {
      "cell_type": "code",
      "source": [
        "test_close(w2g, w2.g, eps=0.01)\n",
        "test_close(b2g, b2.g, eps=0.01)\n",
        "test_close(w1g, w1.g, eps=0.01)\n",
        "test_close(b1g, b1.g, eps=0.01)\n",
        "test_close(ig, x_train.g, eps=0.01)"
      ],
      "metadata": {
        "id": "jDnyW0P5xwmu"
      },
      "execution_count": 219,
      "outputs": []
    },
    {
      "cell_type": "code",
      "source": [],
      "metadata": {
        "id": "eGCGTzauxwor"
      },
      "execution_count": 219,
      "outputs": []
    },
    {
      "cell_type": "code",
      "source": [
        "a = [1,2,3]\n",
        "a,*z = a\n",
        "a,z"
      ],
      "metadata": {
        "colab": {
          "base_uri": "https://localhost:8080/"
        },
        "id": "rhcdInHnxwra",
        "outputId": "ea66aa2d-1a17-438f-ef84-6282fedc2445"
      },
      "execution_count": 220,
      "outputs": [
        {
          "output_type": "execute_result",
          "data": {
            "text/plain": [
              "(1, [2, 3])"
            ]
          },
          "metadata": {},
          "execution_count": 220
        }
      ]
    },
    {
      "cell_type": "code",
      "source": [],
      "metadata": {
        "id": "YJC8QuvQHBYl"
      },
      "execution_count": 220,
      "outputs": []
    },
    {
      "cell_type": "code",
      "source": [],
      "metadata": {
        "id": "w3AIvBwVHcFA"
      },
      "execution_count": 220,
      "outputs": []
    },
    {
      "cell_type": "markdown",
      "source": [
        "## Autograd"
      ],
      "metadata": {
        "id": "rCwi3yDROVCn"
      }
    },
    {
      "cell_type": "code",
      "source": [
        "# using pytorch's modules\n",
        "\n",
        "from torch import nn\n",
        "import torch.nn.functional as F"
      ],
      "metadata": {
        "id": "t6yr1_HAOWdM"
      },
      "execution_count": 221,
      "outputs": []
    },
    {
      "cell_type": "code",
      "source": [
        "class Linear( nn.Module):\n",
        "  def __init__( self, n_in, n_out):\n",
        "    super().__init__()\n",
        "    self.w = torch.randn( n_in, n_out). requires_grad_()\n",
        "    self.b = torch.zeros(n_out).requires_grad_()\n",
        "\n",
        "  def forward(self, inp):\n",
        "    return inp @ self.w + self.b\n",
        "\n",
        "    # we dont need backward because python already knows derivative of all fns in pytorch"
      ],
      "metadata": {
        "id": "EXAzZPmPOa0s"
      },
      "execution_count": 222,
      "outputs": []
    },
    {
      "cell_type": "code",
      "source": [
        "class Model(nn.Module):\n",
        "  def __init__(self, n_in, nh, n_out):\n",
        "    super().__init__()\n",
        "    self.layers = [Linear(n_in, nh), nn.ReLU(), Linear(nh, n_out)]\n",
        "\n",
        "  def __call__(self, x, targ):\n",
        "    for l in self.layers:\n",
        "      x = l(x)\n",
        "    return F.mse_loss(x, targ[:,None])"
      ],
      "metadata": {
        "id": "PELwdiLOObZ7"
      },
      "execution_count": 223,
      "outputs": []
    },
    {
      "cell_type": "code",
      "source": [
        "model = Model(m,nh,1)\n",
        "loss = model(x_train, y_train)\n",
        "loss.backward()"
      ],
      "metadata": {
        "id": "OYb9F77wObcS"
      },
      "execution_count": 224,
      "outputs": []
    },
    {
      "cell_type": "code",
      "source": [
        "print(model)"
      ],
      "metadata": {
        "colab": {
          "base_uri": "https://localhost:8080/"
        },
        "id": "4HS8a2qyQkaR",
        "outputId": "2fb2e2b8-94d9-4b04-f425-8277df2a3c9e"
      },
      "execution_count": 225,
      "outputs": [
        {
          "output_type": "stream",
          "name": "stdout",
          "text": [
            "Model()\n"
          ]
        }
      ]
    },
    {
      "cell_type": "code",
      "source": [
        "l0 = model.layers[0]"
      ],
      "metadata": {
        "id": "xVf6oEhKObfd"
      },
      "execution_count": 226,
      "outputs": []
    },
    {
      "cell_type": "code",
      "source": [
        "model.layers"
      ],
      "metadata": {
        "colab": {
          "base_uri": "https://localhost:8080/"
        },
        "id": "g_9-bwvnObhk",
        "outputId": "7598f3d4-67fc-406c-a3c9-676edac3b4f5"
      },
      "execution_count": 227,
      "outputs": [
        {
          "output_type": "execute_result",
          "data": {
            "text/plain": [
              "[Linear(), ReLU(), Linear()]"
            ]
          },
          "metadata": {},
          "execution_count": 227
        }
      ]
    },
    {
      "cell_type": "code",
      "source": [
        "model.layers[0].b"
      ],
      "metadata": {
        "colab": {
          "base_uri": "https://localhost:8080/"
        },
        "id": "haq7bbMpObj1",
        "outputId": "7f715d48-f95c-48b5-cde7-b8ec75b94d40"
      },
      "execution_count": 228,
      "outputs": [
        {
          "output_type": "execute_result",
          "data": {
            "text/plain": [
              "tensor([0., 0., 0., 0., 0., 0., 0., 0., 0., 0., 0., 0., 0., 0., 0., 0., 0., 0., 0., 0., 0., 0., 0., 0., 0., 0., 0., 0., 0., 0., 0., 0., 0., 0., 0., 0., 0., 0., 0.,\n",
              "        0., 0., 0., 0., 0., 0., 0., 0., 0., 0., 0.], requires_grad=True)"
            ]
          },
          "metadata": {},
          "execution_count": 228
        }
      ]
    },
    {
      "cell_type": "code",
      "source": [
        "model.layers[0].b.grad"
      ],
      "metadata": {
        "colab": {
          "base_uri": "https://localhost:8080/"
        },
        "id": "dya4uSg3Obl-",
        "outputId": "98d61bc5-6528-4ea0-ba63-4196ef2f0c18"
      },
      "execution_count": 229,
      "outputs": [
        {
          "output_type": "execute_result",
          "data": {
            "text/plain": [
              "tensor([   109.31,     50.41,    -91.41,     31.41,     -7.25,     16.97,    -54.46,    -59.13,    179.26,    192.57,\n",
              "           -14.44,    -41.44,     54.35,     -2.57,     21.33,    -31.34,    -18.35,     70.71,     29.69,    -18.49,\n",
              "           -41.22,    -19.29,    -19.57,    -38.57,      2.60,     41.52,      8.74,    -22.35,      9.63,      1.19,\n",
              "           -97.60,     47.12,    105.28,    122.27,     50.05,     75.48,     32.27,   -110.76,    -31.11,    130.81,\n",
              "            57.49,    -22.21,      1.67,    -19.90,     27.62,      0.17,     98.82,    -44.97,     16.96,     35.19])"
            ]
          },
          "metadata": {},
          "execution_count": 229
        }
      ]
    },
    {
      "cell_type": "code",
      "source": [
        "model.layers[0].b.grad  # gardients are stored in grad instead of g"
      ],
      "metadata": {
        "colab": {
          "base_uri": "https://localhost:8080/"
        },
        "id": "njbPdlffObpJ",
        "outputId": "d2d5a0ea-7766-46c0-8367-061840976ceb"
      },
      "execution_count": 230,
      "outputs": [
        {
          "output_type": "execute_result",
          "data": {
            "text/plain": [
              "tensor([   109.31,     50.41,    -91.41,     31.41,     -7.25,     16.97,    -54.46,    -59.13,    179.26,    192.57,\n",
              "           -14.44,    -41.44,     54.35,     -2.57,     21.33,    -31.34,    -18.35,     70.71,     29.69,    -18.49,\n",
              "           -41.22,    -19.29,    -19.57,    -38.57,      2.60,     41.52,      8.74,    -22.35,      9.63,      1.19,\n",
              "           -97.60,     47.12,    105.28,    122.27,     50.05,     75.48,     32.27,   -110.76,    -31.11,    130.81,\n",
              "            57.49,    -22.21,      1.67,    -19.90,     27.62,      0.17,     98.82,    -44.97,     16.96,     35.19])"
            ]
          },
          "metadata": {},
          "execution_count": 230
        }
      ]
    },
    {
      "cell_type": "code",
      "source": [],
      "metadata": {
        "id": "M73xBbKnSGnd"
      },
      "execution_count": 230,
      "outputs": []
    },
    {
      "cell_type": "code",
      "source": [
        "model.layers[2].b"
      ],
      "metadata": {
        "colab": {
          "base_uri": "https://localhost:8080/"
        },
        "id": "wJNZ8wXJSGpp",
        "outputId": "09456d85-1efc-4072-f3c6-754fed49fcd6"
      },
      "execution_count": 231,
      "outputs": [
        {
          "output_type": "execute_result",
          "data": {
            "text/plain": [
              "tensor([0.], requires_grad=True)"
            ]
          },
          "metadata": {},
          "execution_count": 231
        }
      ]
    },
    {
      "cell_type": "code",
      "source": [],
      "metadata": {
        "id": "5H78K_QQObqQ"
      },
      "execution_count": 231,
      "outputs": []
    },
    {
      "cell_type": "code",
      "source": [],
      "metadata": {
        "id": "lZ6KrYdaObsD"
      },
      "execution_count": 231,
      "outputs": []
    },
    {
      "cell_type": "code",
      "source": [],
      "metadata": {
        "id": "z3UD3g7oObtS"
      },
      "execution_count": 231,
      "outputs": []
    }
  ]
}