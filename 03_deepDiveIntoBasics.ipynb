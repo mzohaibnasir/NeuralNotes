{
  "nbformat": 4,
  "nbformat_minor": 0,
  "metadata": {
    "colab": {
      "provenance": [],
      "authorship_tag": "ABX9TyNQ3KNyhUDgXRVylxUKUm3R",
      "include_colab_link": true
    },
    "kernelspec": {
      "name": "python3",
      "display_name": "Python 3"
    },
    "language_info": {
      "name": "python"
    }
  },
  "cells": [
    {
      "cell_type": "markdown",
      "metadata": {
        "id": "view-in-github",
        "colab_type": "text"
      },
      "source": [
        "<a href=\"https://colab.research.google.com/github/mzohaibnasir/NeuralNotes/blob/main/03_deepDiveIntoBasics.ipynb\" target=\"_parent\"><img src=\"https://colab.research.google.com/assets/colab-badge.svg\" alt=\"Open In Colab\"/></a>"
      ]
    },
    {
      "cell_type": "markdown",
      "source": [
        "# Minibatch Training"
      ],
      "metadata": {
        "id": "TvS7nn4_nePl"
      }
    },
    {
      "cell_type": "code",
      "source": [
        "import pickle,gzip,math,os,time,shutil,torch,matplotlib as mpl,numpy as np,matplotlib.pyplot as plt\n",
        "from pathlib import Path\n",
        "from torch import tensor,nn\n",
        "import torch.nn.functional as F\n",
        "from fastcore.test import test_close\n"
      ],
      "metadata": {
        "id": "gc0rwmBVnh2w"
      },
      "execution_count": null,
      "outputs": []
    },
    {
      "cell_type": "code",
      "source": [
        "MNIST_URL='https://github.com/mnielsen/neural-networks-and-deep-learning/blob/d15df08a69ed33ae16a2fff874f83b57a956172c/data/mnist.pkl.gz?raw=true'\n",
        "path_data = Path('data')\n",
        "path_data.mkdir(exist_ok=True )\n",
        "path_gz=path_data/'mnist.pkl.gz'\n",
        "path_gz"
      ],
      "metadata": {
        "colab": {
          "base_uri": "https://localhost:8080/"
        },
        "id": "dWUrQuMfniy3",
        "outputId": "49d235b6-6abd-4a48-b19a-dc26e7edb8a2"
      },
      "execution_count": null,
      "outputs": [
        {
          "output_type": "execute_result",
          "data": {
            "text/plain": [
              "Path('data/mnist.pkl.gz')"
            ]
          },
          "metadata": {},
          "execution_count": 727
        }
      ]
    },
    {
      "cell_type": "code",
      "source": [
        "from urllib.request import urlretrieve\n",
        "\n",
        "if not path_gz.exists(): urlretrieve(MNIST_URL, path_gz)"
      ],
      "metadata": {
        "id": "8Tg9Z2NKni06"
      },
      "execution_count": null,
      "outputs": []
    },
    {
      "cell_type": "code",
      "source": [
        "torch.manual_seed(42)\n",
        "\n",
        "\n",
        "mpl.rcParams['image.cmap'] = 'gray'\n",
        "torch.set_printoptions(precision=2, linewidth=125, sci_mode=False)\n",
        "np.set_printoptions(precision=2, linewidth=125)\n"
      ],
      "metadata": {
        "id": "y-R1O60Cni3P"
      },
      "execution_count": null,
      "outputs": []
    },
    {
      "cell_type": "code",
      "source": [
        "!ls -l data"
      ],
      "metadata": {
        "colab": {
          "base_uri": "https://localhost:8080/"
        },
        "id": "qQ17fE1hni48",
        "outputId": "e6db6e0d-93c1-4e4e-ca60-b3529ade4811"
      },
      "execution_count": null,
      "outputs": [
        {
          "output_type": "stream",
          "name": "stdout",
          "text": [
            "total 16656\n",
            "-rw-r--r-- 1 root root 17051982 Jan 20 14:02 mnist.pkl.gz\n"
          ]
        }
      ]
    },
    {
      "cell_type": "code",
      "source": [
        "with gzip.open(path_gz, 'rb') as f:   #read as binary as opposed to text\n",
        "   ((x_train,y_train), (x_valid,y_valid), _) = pickle.load(f, encoding='latin-1') #destructuring\n",
        "x_train, y_train, x_valid, y_valid = map(tensor, [x_train, y_train, x_valid, y_valid])"
      ],
      "metadata": {
        "id": "L5cfYFRwni6m"
      },
      "execution_count": null,
      "outputs": []
    },
    {
      "cell_type": "code",
      "source": [],
      "metadata": {
        "id": "W_TY16NRni8g"
      },
      "execution_count": null,
      "outputs": []
    },
    {
      "cell_type": "code",
      "source": [
        "n,m = x_train.shape\n",
        "c = y_train.max()+1\n",
        "nh = 50\n"
      ],
      "metadata": {
        "id": "-4wkKeZ7ni-G"
      },
      "execution_count": null,
      "outputs": []
    },
    {
      "cell_type": "code",
      "source": [
        "class Model(nn.Module):\n",
        "    def __init__(self, n_in, nh, n_out):\n",
        "        super().__init__()\n",
        "        self.layers = [nn.Linear(n_in,nh), nn.ReLU(), nn.Linear(nh,n_out)]\n",
        "\n",
        "    def __call__(self, x):\n",
        "        for l in self.layers: x = l(x)\n",
        "        return x"
      ],
      "metadata": {
        "id": "ATdy9A7kni_1"
      },
      "execution_count": null,
      "outputs": []
    },
    {
      "cell_type": "code",
      "source": [
        "model = Model(m, nh, 10)\n",
        "pred = model(x_train)\n",
        "pred.shape"
      ],
      "metadata": {
        "colab": {
          "base_uri": "https://localhost:8080/"
        },
        "id": "X4e2xfiynjCG",
        "outputId": "6e3cc27a-fe11-4611-8384-076be690cd04"
      },
      "execution_count": null,
      "outputs": [
        {
          "output_type": "execute_result",
          "data": {
            "text/plain": [
              "torch.Size([50000, 10])"
            ]
          },
          "metadata": {},
          "execution_count": 734
        }
      ]
    },
    {
      "cell_type": "code",
      "source": [
        "### CE loss"
      ],
      "metadata": {
        "id": "jyJTU38InjEc"
      },
      "execution_count": null,
      "outputs": []
    },
    {
      "cell_type": "code",
      "source": [
        "def log_softmax(x):\n",
        "  print(x.shape)\n",
        "  return (x.exp()/x.exp().sum(-1, keepdim=True)).shape\n",
        "log_softmax(pred)"
      ],
      "metadata": {
        "id": "8-nY1xrTnjG8",
        "colab": {
          "base_uri": "https://localhost:8080/"
        },
        "outputId": "f1665f7b-172d-42c0-8e7c-15c2d9b32464"
      },
      "execution_count": null,
      "outputs": [
        {
          "output_type": "stream",
          "name": "stdout",
          "text": [
            "torch.Size([50000, 10])\n"
          ]
        },
        {
          "output_type": "execute_result",
          "data": {
            "text/plain": [
              "torch.Size([50000, 10])"
            ]
          },
          "metadata": {},
          "execution_count": 736
        }
      ]
    },
    {
      "cell_type": "code",
      "source": [
        "def log_softmax(x):\n",
        "  # print(x.shape)\n",
        "  return (x.exp()/x.exp().sum(-1, keepdim=True)).log()\n",
        "log_softmax(pred)"
      ],
      "metadata": {
        "id": "nTI-2__pnjI9",
        "colab": {
          "base_uri": "https://localhost:8080/"
        },
        "outputId": "e0d01bf9-9419-45e0-88d0-7b766ab44af2"
      },
      "execution_count": null,
      "outputs": [
        {
          "output_type": "execute_result",
          "data": {
            "text/plain": [
              "tensor([[-2.36, -2.28, -2.09,  ..., -2.43, -2.47, -2.11],\n",
              "        [-2.37, -2.25, -2.09,  ..., -2.46, -2.43, -2.11],\n",
              "        [-2.34, -2.31, -2.14,  ..., -2.44, -2.48, -2.14],\n",
              "        ...,\n",
              "        [-2.26, -2.25, -2.13,  ..., -2.36, -2.53, -2.17],\n",
              "        [-2.39, -2.30, -2.18,  ..., -2.38, -2.42, -2.11],\n",
              "        [-2.40, -2.25, -2.14,  ..., -2.38, -2.45, -2.23]], grad_fn=<LogBackward0>)"
            ]
          },
          "metadata": {},
          "execution_count": 737
        }
      ]
    },
    {
      "cell_type": "code",
      "source": [
        "pred.exp().shape , pred.exp().sum(-1)[:,None].shape"
      ],
      "metadata": {
        "id": "uEU_eMgOnjLT",
        "colab": {
          "base_uri": "https://localhost:8080/"
        },
        "outputId": "212302b2-42c0-47bb-e085-2fc6e4c4e813"
      },
      "execution_count": null,
      "outputs": [
        {
          "output_type": "execute_result",
          "data": {
            "text/plain": [
              "(torch.Size([50000, 10]), torch.Size([50000, 1]))"
            ]
          },
          "metadata": {},
          "execution_count": 738
        }
      ]
    },
    {
      "cell_type": "code",
      "source": [
        "pred.shape"
      ],
      "metadata": {
        "id": "h1sobHmEnjNV",
        "colab": {
          "base_uri": "https://localhost:8080/"
        },
        "outputId": "1a944071-a34b-4b92-c2e1-709f1345740a"
      },
      "execution_count": null,
      "outputs": [
        {
          "output_type": "execute_result",
          "data": {
            "text/plain": [
              "torch.Size([50000, 10])"
            ]
          },
          "metadata": {},
          "execution_count": 739
        }
      ]
    },
    {
      "cell_type": "markdown",
      "source": [
        "we'll try to use log rules to simply softmax funcction\n",
        "\n",
        "`e^x and log x are opposite`"
      ],
      "metadata": {
        "id": "TLbz6V4BgpkD"
      }
    },
    {
      "cell_type": "code",
      "source": [
        "def log_softmax(x):\n",
        "  return x - x.exp().sum(-1, keepdim=True).log()"
      ],
      "metadata": {
        "id": "saKpYskknjPN"
      },
      "execution_count": null,
      "outputs": []
    },
    {
      "cell_type": "code",
      "source": [
        "def logsumexp(x):\n",
        "  m = x.max(-1)[0]  # max value of `x`\n",
        "  return m + (x-m[:,None]).exp().sum(-1).log()  #logsumexp trick"
      ],
      "metadata": {
        "id": "sAK7z424njRn"
      },
      "execution_count": null,
      "outputs": []
    },
    {
      "cell_type": "code",
      "source": [
        "# in pytorch\n",
        "\n",
        "def log_softmax(x):\n",
        "  return x - x.logsumexp(-1, keepdim=True)"
      ],
      "metadata": {
        "id": "1WeVG0MNnjUq"
      },
      "execution_count": null,
      "outputs": []
    },
    {
      "cell_type": "code",
      "source": [
        "test_close( logsumexp(pred), pred.logsumexp(-1))\n",
        "sm_pred = log_softmax(pred)\n",
        "sm_pred"
      ],
      "metadata": {
        "id": "W_I2zjpAnjXQ",
        "colab": {
          "base_uri": "https://localhost:8080/"
        },
        "outputId": "7a98feb2-5121-4ec9-d010-e1ac5bdee894"
      },
      "execution_count": null,
      "outputs": [
        {
          "output_type": "execute_result",
          "data": {
            "text/plain": [
              "tensor([[-2.36, -2.28, -2.09,  ..., -2.43, -2.47, -2.11],\n",
              "        [-2.37, -2.25, -2.09,  ..., -2.46, -2.43, -2.11],\n",
              "        [-2.34, -2.31, -2.14,  ..., -2.44, -2.48, -2.14],\n",
              "        ...,\n",
              "        [-2.26, -2.25, -2.13,  ..., -2.36, -2.53, -2.17],\n",
              "        [-2.39, -2.30, -2.18,  ..., -2.38, -2.42, -2.11],\n",
              "        [-2.40, -2.25, -2.14,  ..., -2.38, -2.45, -2.23]], grad_fn=<SubBackward0>)"
            ]
          },
          "metadata": {},
          "execution_count": 743
        }
      ]
    },
    {
      "cell_type": "markdown",
      "source": [
        "The cross entropy loss for some target\n",
        " and some prediction  p(x) is given by:\n",
        "      - sum( x . log(p(x)))\n",
        "\n",
        "  But since our xs are 1-hot encoded (actually, they're just the integer indices), this can be rewritten as -log(pi) where i is the index of the desired target.\n",
        "\n",
        "This can be done using numpy-style integer array indexing. Note that PyTorch supports all the tricks in the advanced indexing methods discussed in that link."
      ],
      "metadata": {
        "id": "fET2pqYnkHwJ"
      }
    },
    {
      "cell_type": "code",
      "source": [
        "y_train[:3]  # actual values of y_train"
      ],
      "metadata": {
        "colab": {
          "base_uri": "https://localhost:8080/"
        },
        "id": "uTBjjbCMjSDe",
        "outputId": "ff6fcef6-99a6-40af-f830-744103da7f02"
      },
      "execution_count": null,
      "outputs": [
        {
          "output_type": "execute_result",
          "data": {
            "text/plain": [
              "tensor([5, 0, 4])"
            ]
          },
          "metadata": {},
          "execution_count": 744
        }
      ]
    },
    {
      "cell_type": "code",
      "source": [
        "# now in our softmaax prediction `sm_pred`, we want to get 5th prediction of 0, 0th of 1, and 4th of 2\n",
        "\n",
        "sm_pred[0,5], sm_pred[1,0], sm_pred[2,4]"
      ],
      "metadata": {
        "colab": {
          "base_uri": "https://localhost:8080/"
        },
        "id": "b6d78JWNjSF4",
        "outputId": "dc4eb2b5-a8df-46dd-bc66-0418da8ca9b5"
      },
      "execution_count": null,
      "outputs": [
        {
          "output_type": "execute_result",
          "data": {
            "text/plain": [
              "(tensor(-2.40, grad_fn=<SelectBackward0>),\n",
              " tensor(-2.37, grad_fn=<SelectBackward0>),\n",
              " tensor(-2.14, grad_fn=<SelectBackward0>))"
            ]
          },
          "metadata": {},
          "execution_count": 745
        }
      ]
    },
    {
      "cell_type": "code",
      "source": [
        "sm_pred.shape"
      ],
      "metadata": {
        "colab": {
          "base_uri": "https://localhost:8080/"
        },
        "id": "Y1wUYT5DD7_l",
        "outputId": "925062f7-4afc-484f-97d6-a9b060841615"
      },
      "execution_count": null,
      "outputs": [
        {
          "output_type": "execute_result",
          "data": {
            "text/plain": [
              "torch.Size([50000, 10])"
            ]
          },
          "metadata": {},
          "execution_count": 746
        }
      ]
    },
    {
      "cell_type": "code",
      "source": [
        "sm_pred[[0,1,2], y_train[:3]]     # [rows, cols]"
      ],
      "metadata": {
        "colab": {
          "base_uri": "https://localhost:8080/"
        },
        "id": "LfE6014YjSHY",
        "outputId": "81ae2bd8-2162-4669-9d95-7864721bb7fe"
      },
      "execution_count": null,
      "outputs": [
        {
          "output_type": "execute_result",
          "data": {
            "text/plain": [
              "tensor([-2.40, -2.37, -2.14], grad_fn=<IndexBackward0>)"
            ]
          },
          "metadata": {},
          "execution_count": 747
        }
      ]
    },
    {
      "cell_type": "code",
      "source": [
        "sm_pred[range(y_train.shape[0])]"
      ],
      "metadata": {
        "colab": {
          "base_uri": "https://localhost:8080/"
        },
        "id": "XlalSCABC8sq",
        "outputId": "77573dc0-3cf0-48b3-bff9-04685435e324"
      },
      "execution_count": null,
      "outputs": [
        {
          "output_type": "execute_result",
          "data": {
            "text/plain": [
              "tensor([[-2.36, -2.28, -2.09,  ..., -2.43, -2.47, -2.11],\n",
              "        [-2.37, -2.25, -2.09,  ..., -2.46, -2.43, -2.11],\n",
              "        [-2.34, -2.31, -2.14,  ..., -2.44, -2.48, -2.14],\n",
              "        ...,\n",
              "        [-2.26, -2.25, -2.13,  ..., -2.36, -2.53, -2.17],\n",
              "        [-2.39, -2.30, -2.18,  ..., -2.38, -2.42, -2.11],\n",
              "        [-2.40, -2.25, -2.14,  ..., -2.38, -2.45, -2.23]], grad_fn=<IndexBackward0>)"
            ]
          },
          "metadata": {},
          "execution_count": 748
        }
      ]
    },
    {
      "cell_type": "code",
      "source": [
        "def nll(input, target): # this will cross entropy loss   # negative non-likelihood loss\n",
        "  return -input[range(target.shape[0]), target].mean()"
      ],
      "metadata": {
        "id": "W0ZnfBUBBAH8"
      },
      "execution_count": null,
      "outputs": []
    },
    {
      "cell_type": "markdown",
      "source": [],
      "metadata": {
        "id": "Pon5kkkpF5Aj"
      }
    },
    {
      "cell_type": "code",
      "source": [
        "loss = nll(sm_pred, y_train)\n",
        "loss"
      ],
      "metadata": {
        "colab": {
          "base_uri": "https://localhost:8080/"
        },
        "id": "-lLmSkZZBAJ0",
        "outputId": "757d1f95-9005-4083-c48a-3965308097da"
      },
      "execution_count": null,
      "outputs": [
        {
          "output_type": "execute_result",
          "data": {
            "text/plain": [
              "tensor(2.30, grad_fn=<NegBackward0>)"
            ]
          },
          "metadata": {},
          "execution_count": 750
        }
      ]
    },
    {
      "cell_type": "code",
      "source": [
        "# Then use PyTorch's implementation.\n",
        "test_close(F.nll_loss(F.log_softmax(pred, -1), y_train), loss, 1e-3)\n",
        "\n",
        "\n",
        "\n"
      ],
      "metadata": {
        "id": "qX3HBWS9BAL9"
      },
      "execution_count": null,
      "outputs": []
    },
    {
      "cell_type": "code",
      "source": [
        "# In PyTorch, F.log_softmax and F.nll_loss are combined in one optimized function, F.cross_entropy.\n",
        "test_close(F.cross_entropy(pred, y_train), loss, 1e-3)\n"
      ],
      "metadata": {
        "id": "wU6E_D6jBAOl"
      },
      "execution_count": null,
      "outputs": []
    },
    {
      "cell_type": "code",
      "source": [],
      "metadata": {
        "id": "dHLTJNjcjSJK"
      },
      "execution_count": null,
      "outputs": []
    },
    {
      "cell_type": "code",
      "source": [],
      "metadata": {
        "id": "6CgF_RGnjSL-"
      },
      "execution_count": null,
      "outputs": []
    },
    {
      "cell_type": "markdown",
      "source": [
        "# basic training loop\n",
        "\n",
        "Basic training loop\n",
        "Basically the training loop repeats over the following steps:\n",
        "\n",
        " * get the output of the model on a batch of inputs\n",
        " * compare the output to the labels we have and compute a loss\n",
        " * calculate the gradients of the loss with respect to every parameter of the model\n",
        " * update said parameters with those gradients to make them a little bit better"
      ],
      "metadata": {
        "id": "FA2j3Gv5F6mO"
      }
    },
    {
      "cell_type": "code",
      "source": [
        "loss_func = F.cross_entropy"
      ],
      "metadata": {
        "id": "482EP6mgF9bT"
      },
      "execution_count": null,
      "outputs": []
    },
    {
      "cell_type": "code",
      "source": [
        "bs = 50  # batch size\n",
        "xb = x_train[0:bs]  # a mini batch from x\n",
        "preds = model(xb)\n",
        "\n",
        "preds[0], preds.shape"
      ],
      "metadata": {
        "colab": {
          "base_uri": "https://localhost:8080/"
        },
        "id": "ebpHPoCYF95s",
        "outputId": "2833d66c-efdb-43f3-d98c-0c3f96a4b644"
      },
      "execution_count": null,
      "outputs": [
        {
          "output_type": "execute_result",
          "data": {
            "text/plain": [
              "(tensor([-0.05,  0.03,  0.22,  0.02,  0.00, -0.09, -0.04, -0.12, -0.15,  0.20], grad_fn=<SelectBackward0>),\n",
              " torch.Size([50, 10]))"
            ]
          },
          "metadata": {},
          "execution_count": 754
        }
      ]
    },
    {
      "cell_type": "code",
      "source": [
        "yb = y_train[0:bs]\n",
        "yb"
      ],
      "metadata": {
        "colab": {
          "base_uri": "https://localhost:8080/"
        },
        "id": "JS0UuditF970",
        "outputId": "e915a368-e67b-4ffa-80bc-e9b1a5de98f8"
      },
      "execution_count": null,
      "outputs": [
        {
          "output_type": "execute_result",
          "data": {
            "text/plain": [
              "tensor([5, 0, 4, 1, 9, 2, 1, 3, 1, 4, 3, 5, 3, 6, 1, 7, 2, 8, 6, 9, 4, 0, 9, 1, 1, 2, 4, 3, 2, 7, 3, 8, 6, 9, 0, 5, 6, 0, 7,\n",
              "        6, 1, 8, 7, 9, 3, 9, 8, 5, 9, 3])"
            ]
          },
          "metadata": {},
          "execution_count": 755
        }
      ]
    },
    {
      "cell_type": "code",
      "source": [
        "loss_func(preds, yb)"
      ],
      "metadata": {
        "colab": {
          "base_uri": "https://localhost:8080/"
        },
        "id": "AdqBuZ52F99e",
        "outputId": "96ebb23c-b54a-4119-d188-c1582f82f7bb"
      },
      "execution_count": null,
      "outputs": [
        {
          "output_type": "execute_result",
          "data": {
            "text/plain": [
              "tensor(2.28, grad_fn=<NllLossBackward0>)"
            ]
          },
          "metadata": {},
          "execution_count": 756
        }
      ]
    },
    {
      "cell_type": "code",
      "source": [
        "preds.argmax(dim=1) # for each rows in preds , find highest number"
      ],
      "metadata": {
        "colab": {
          "base_uri": "https://localhost:8080/"
        },
        "id": "m8wQlEPfF9-2",
        "outputId": "0c00b900-6f8f-4aa3-869e-0d137001728a"
      },
      "execution_count": null,
      "outputs": [
        {
          "output_type": "execute_result",
          "data": {
            "text/plain": [
              "tensor([2, 2, 4, 2, 2, 9, 2, 2, 1, 9, 9, 9, 2, 2, 1, 2, 2, 2, 9, 9, 2, 2, 9, 2, 2, 2, 2, 2, 2, 1, 9, 1, 2, 2, 2, 9, 2, 9, 2,\n",
              "        9, 9, 2, 9, 2, 9, 2, 2, 2, 2, 2])"
            ]
          },
          "metadata": {},
          "execution_count": 757
        }
      ]
    },
    {
      "cell_type": "code",
      "source": [
        "def accuracy(out, yb):\n",
        "  return (out.argmax(dim = 1) == yb).float().mean()"
      ],
      "metadata": {
        "id": "zqWDJEHAF-An"
      },
      "execution_count": null,
      "outputs": []
    },
    {
      "cell_type": "code",
      "source": [
        "accuracy(preds, yb)"
      ],
      "metadata": {
        "colab": {
          "base_uri": "https://localhost:8080/"
        },
        "id": "lj2mupU0F-Cd",
        "outputId": "6934326f-3f22-4038-f01e-9dbbfb9e312e"
      },
      "execution_count": null,
      "outputs": [
        {
          "output_type": "execute_result",
          "data": {
            "text/plain": [
              "tensor(0.16)"
            ]
          },
          "metadata": {},
          "execution_count": 759
        }
      ]
    },
    {
      "cell_type": "code",
      "source": [
        "lr = 0.5\n",
        "epochs = 3"
      ],
      "metadata": {
        "id": "s3LsXd7DF-FI"
      },
      "execution_count": null,
      "outputs": []
    },
    {
      "cell_type": "code",
      "source": [
        "def report(loss, preds, yb):\n",
        "  print(f\"{loss:.2f}, {accuracy(preds,yb):.2f}\")"
      ],
      "metadata": {
        "id": "XwMP9mc0ZBx5"
      },
      "execution_count": null,
      "outputs": []
    },
    {
      "cell_type": "code",
      "source": [
        "xb,yb = x_train[:bs],y_train[:bs]\n",
        "preds = model(xb)\n",
        "report(loss_func(preds, yb), preds, yb)"
      ],
      "metadata": {
        "colab": {
          "base_uri": "https://localhost:8080/"
        },
        "id": "RgHpDCmiZB0b",
        "outputId": "fddc9d47-8e14-4686-df5c-504778e17df1"
      },
      "execution_count": null,
      "outputs": [
        {
          "output_type": "stream",
          "name": "stdout",
          "text": [
            "2.28, 0.16\n"
          ]
        }
      ]
    },
    {
      "cell_type": "code",
      "source": [
        "for epoch in range(epochs):\n",
        "  for i in range(0, n, bs):\n",
        "    s = slice(i, min(n, i+bs))\n",
        "    xb, yb = x_train[s], y_train[s]\n",
        "    preds = model(xb)\n",
        "    loss = loss_func(preds, yb)\n",
        "    loss.backward()\n",
        "\n",
        "    with torch.no_grad():\n",
        "      for l in model.layers:\n",
        "        if( hasattr( l , 'weight')):\n",
        "          l.weight -= l.weight.grad * lr\n",
        "          l.bias -= l.bias.grad * lr\n",
        "\n",
        "          l.weight.grad.zero_()\n",
        "          l.bias.grad.zero_()\n",
        "\n",
        "  report(loss, preds, yb)"
      ],
      "metadata": {
        "colab": {
          "base_uri": "https://localhost:8080/"
        },
        "id": "a4b_3-z6ZB2Q",
        "outputId": "a3356628-173d-4a22-f5a9-dbbb12c1cb35"
      },
      "execution_count": null,
      "outputs": [
        {
          "output_type": "stream",
          "name": "stdout",
          "text": [
            "0.08, 0.96\n",
            "0.05, 0.98\n",
            "0.07, 0.96\n"
          ]
        }
      ]
    },
    {
      "cell_type": "markdown",
      "source": [
        "# Using parameters and optim\n"
      ],
      "metadata": {
        "id": "LvjRvSOMsmUc"
      }
    },
    {
      "cell_type": "markdown",
      "source": [
        "## parameters"
      ],
      "metadata": {
        "id": "9um3Xn-yspoS"
      }
    },
    {
      "cell_type": "code",
      "source": [
        "m1 = nn.Module()\n",
        "m1, list(m1.parameters())"
      ],
      "metadata": {
        "colab": {
          "base_uri": "https://localhost:8080/"
        },
        "id": "mp9sRhMxZB4k",
        "outputId": "cfca426c-b3da-4750-9f12-b2754ef1728c"
      },
      "execution_count": null,
      "outputs": [
        {
          "output_type": "execute_result",
          "data": {
            "text/plain": [
              "(Module(), [])"
            ]
          },
          "metadata": {},
          "execution_count": 764
        }
      ]
    },
    {
      "cell_type": "code",
      "source": [
        "m1.foo = nn.Linear(3,4)  #  the number of neurons in a linear layer is determined by the number of output features.\n",
        "m1"
      ],
      "metadata": {
        "colab": {
          "base_uri": "https://localhost:8080/"
        },
        "id": "2e8gw1yQZB6s",
        "outputId": "a8ae45c0-1314-4725-ed35-23988bc56707"
      },
      "execution_count": null,
      "outputs": [
        {
          "output_type": "execute_result",
          "data": {
            "text/plain": [
              "Module(\n",
              "  (foo): Linear(in_features=3, out_features=4, bias=True)\n",
              ")"
            ]
          },
          "metadata": {},
          "execution_count": 765
        }
      ]
    },
    {
      "cell_type": "code",
      "source": [
        "list(m1.named_children())"
      ],
      "metadata": {
        "colab": {
          "base_uri": "https://localhost:8080/"
        },
        "id": "_LUelpKuZB9J",
        "outputId": "22d3fc21-26e5-4e93-e236-1cce65bef39a"
      },
      "execution_count": null,
      "outputs": [
        {
          "output_type": "execute_result",
          "data": {
            "text/plain": [
              "[('foo', Linear(in_features=3, out_features=4, bias=True))]"
            ]
          },
          "metadata": {},
          "execution_count": 766
        }
      ]
    },
    {
      "cell_type": "code",
      "source": [
        "m1.named_children()"
      ],
      "metadata": {
        "colab": {
          "base_uri": "https://localhost:8080/"
        },
        "id": "FcnwVkdeZB_T",
        "outputId": "da5ebf9e-9d36-4cd1-b224-8d0725fd76f1"
      },
      "execution_count": null,
      "outputs": [
        {
          "output_type": "execute_result",
          "data": {
            "text/plain": [
              "<generator object Module.named_children at 0x7b62d17fb370>"
            ]
          },
          "metadata": {},
          "execution_count": 767
        }
      ]
    },
    {
      "cell_type": "code",
      "source": [
        "list(m1.parameters())"
      ],
      "metadata": {
        "colab": {
          "base_uri": "https://localhost:8080/"
        },
        "id": "MzVAVIo3ZCBn",
        "outputId": "b186f3a8-0eba-489f-bd81-2af41abc4936"
      },
      "execution_count": null,
      "outputs": [
        {
          "output_type": "execute_result",
          "data": {
            "text/plain": [
              "[Parameter containing:\n",
              " tensor([[-0.24, -0.11,  0.46],\n",
              "         [-0.17, -0.46, -0.07],\n",
              "         [-0.29,  0.31,  0.08],\n",
              "         [-0.24,  0.13, -0.17]], requires_grad=True),\n",
              " Parameter containing:\n",
              " tensor([ 0.01,  0.51, -0.11, -0.47], requires_grad=True)]"
            ]
          },
          "metadata": {},
          "execution_count": 768
        }
      ]
    },
    {
      "cell_type": "code",
      "source": [
        "# multi layer perceptron\n",
        "\n",
        "class MLP(nn.Module):\n",
        "  def __init__(self, n_in, nh, n_out):\n",
        "    super().__init__()\n",
        "    self.l1 = nn.Linear(n_in,nh )\n",
        "    self.l2 = nn.Linear(nh, n_out)\n",
        "    self.relu = nn.ReLU()\n",
        "\n",
        "\n",
        "  def __call__(self, x):\n",
        "    return self.l2(self.relu(self.l1(x)))"
      ],
      "metadata": {
        "id": "UnADJPssZCDt"
      },
      "execution_count": null,
      "outputs": []
    },
    {
      "cell_type": "code",
      "source": [
        "model = MLP(m, nh, 10)\n",
        "model"
      ],
      "metadata": {
        "colab": {
          "base_uri": "https://localhost:8080/"
        },
        "id": "OVLbFwYFHxGt",
        "outputId": "e2260ee4-5f53-4dba-83d6-f14e106c3fac"
      },
      "execution_count": null,
      "outputs": [
        {
          "output_type": "execute_result",
          "data": {
            "text/plain": [
              "MLP(\n",
              "  (l1): Linear(in_features=784, out_features=50, bias=True)\n",
              "  (l2): Linear(in_features=50, out_features=10, bias=True)\n",
              "  (relu): ReLU()\n",
              ")"
            ]
          },
          "metadata": {},
          "execution_count": 770
        }
      ]
    },
    {
      "cell_type": "code",
      "source": [
        "model.l1"
      ],
      "metadata": {
        "colab": {
          "base_uri": "https://localhost:8080/"
        },
        "id": "ol0NhBMcHxJM",
        "outputId": "753d4fe6-5b6b-4db5-d752-044f3c45c22b"
      },
      "execution_count": null,
      "outputs": [
        {
          "output_type": "execute_result",
          "data": {
            "text/plain": [
              "Linear(in_features=784, out_features=50, bias=True)"
            ]
          },
          "metadata": {},
          "execution_count": 771
        }
      ]
    },
    {
      "cell_type": "code",
      "source": [
        "for name, l in model.named_children():\n",
        "  print(f\"{name}: {l}\")"
      ],
      "metadata": {
        "colab": {
          "base_uri": "https://localhost:8080/"
        },
        "id": "29WWa9-xHxKz",
        "outputId": "7fea67da-0012-4d01-b2ef-bf1ecb430bbd"
      },
      "execution_count": null,
      "outputs": [
        {
          "output_type": "stream",
          "name": "stdout",
          "text": [
            "l1: Linear(in_features=784, out_features=50, bias=True)\n",
            "l2: Linear(in_features=50, out_features=10, bias=True)\n",
            "relu: ReLU()\n"
          ]
        }
      ]
    },
    {
      "cell_type": "code",
      "source": [
        "for p in model.parameters():   # parameters are `weights` + `bias`\n",
        "  print(p.shape)\n"
      ],
      "metadata": {
        "colab": {
          "base_uri": "https://localhost:8080/"
        },
        "id": "24nN-2UmHxMb",
        "outputId": "3f17a3b9-14e1-4900-9106-68c574f3f485"
      },
      "execution_count": null,
      "outputs": [
        {
          "output_type": "stream",
          "name": "stdout",
          "text": [
            "torch.Size([50, 784])\n",
            "torch.Size([50])\n",
            "torch.Size([10, 50])\n",
            "torch.Size([10])\n"
          ]
        }
      ]
    },
    {
      "cell_type": "code",
      "source": [
        "[l for l in model.children()]"
      ],
      "metadata": {
        "colab": {
          "base_uri": "https://localhost:8080/"
        },
        "id": "AMEkqHmnTCa1",
        "outputId": "695ae9ac-0af3-40fe-c245-56baed661930"
      },
      "execution_count": null,
      "outputs": [
        {
          "output_type": "execute_result",
          "data": {
            "text/plain": [
              "[Linear(in_features=784, out_features=50, bias=True),\n",
              " Linear(in_features=50, out_features=10, bias=True),\n",
              " ReLU()]"
            ]
          },
          "metadata": {},
          "execution_count": 774
        }
      ]
    },
    {
      "cell_type": "code",
      "source": [
        "\"\"\"\n",
        "torch.no_grad() is used to perform parameter updates without tracking gradients during this specific block of code.\n",
        "This is a common practice during the training loop when you have parts that involve updating the model parameters but don't need to be included\n",
        "in the gradient computation.\n",
        "\n",
        "\"\"\"\n",
        "def fit():\n",
        "  for epoch in range(epochs):\n",
        "    for i in range(0, n, bs):\n",
        "      s = slice(i , min(n, i+bs))\n",
        "      xb, yb = x_train[s], y_train[s]\n",
        "      preds = model(xb)\n",
        "\n",
        "      loss = loss_func(preds, yb)\n",
        "      loss.backward()  # it just computes gradients and stores gradients in `.grad`\n",
        "      with torch.no_grad():\n",
        "        for p in model.parameters():\n",
        "          p-= p.grad * lr   # manually updating parameters\n",
        "        model.zero_grad()  # to zero all gradients\n",
        "    report(loss, preds, yb)\n",
        "\n",
        "\n",
        "    \"\"\"\n",
        "    but how does it know what paarameters and layers are automatically? it used a trick called __setattr__\n",
        "\n",
        "    \"\"\"\n",
        "\n",
        "fit()"
      ],
      "metadata": {
        "colab": {
          "base_uri": "https://localhost:8080/"
        },
        "id": "ZdLnbUyRHxPd",
        "outputId": "6b0c3cb9-f188-4863-daf9-340b95c52296"
      },
      "execution_count": null,
      "outputs": [
        {
          "output_type": "stream",
          "name": "stdout",
          "text": [
            "0.12, 0.96\n",
            "0.11, 0.98\n",
            "0.09, 0.96\n"
          ]
        }
      ]
    },
    {
      "cell_type": "markdown",
      "source": [
        "Behind the scenes, PyTorch overrides the __setattr__ function in nn.Module so that the submodules you define are properly registered as parameters of the model.\n",
        "\n"
      ],
      "metadata": {
        "id": "pWTBM3IbO9Qu"
      }
    },
    {
      "cell_type": "code",
      "source": [
        "#     but how does it know what paarameters and layers are automatically? it used a trick called __setattr__\n",
        "\n",
        "class MyModule:     # its by defult class MyModule(object)\n",
        "  def __init__(self, n_in, nh, n_out):\n",
        "    self._modules = {}\n",
        "    self.l1 = nn.Linear(n_in, nh)\n",
        "    self.l2 = nn.Linear(nh, n_out)\n",
        "\n",
        "\n",
        "  def __setattr__(self,k,v):\n",
        "        if not k.startswith(\"_\"): self._modules[k] = v  # to make sure its private  # it adds that attr in modules directory\n",
        "        super().__setattr__(k,v)\n",
        "\n",
        "        # every attibute you set like     self.l1 = nn.Linear(n_in, nh) , it\n",
        "\n",
        "  def __repr__(self): return f'{self._modules}'   # how it represents modules dic\n",
        "\n",
        "  def parameters(self):\n",
        "      for l in self._modules.values():   # go through each of modules.  value of modules is actual layers\n",
        "        yield from l.parameters()"
      ],
      "metadata": {
        "id": "jCk43FbqZCGe"
      },
      "execution_count": null,
      "outputs": []
    },
    {
      "cell_type": "code",
      "source": [
        "mdl = MyModule(m,nh,10)\n",
        "mdl"
      ],
      "metadata": {
        "colab": {
          "base_uri": "https://localhost:8080/"
        },
        "id": "fT_mcq5SO-1J",
        "outputId": "57240e35-9065-493b-8406-ab3b8b7ded97"
      },
      "execution_count": null,
      "outputs": [
        {
          "output_type": "execute_result",
          "data": {
            "text/plain": [
              "{'l1': Linear(in_features=784, out_features=50, bias=True), 'l2': Linear(in_features=50, out_features=10, bias=True)}"
            ]
          },
          "metadata": {},
          "execution_count": 777
        }
      ]
    },
    {
      "cell_type": "code",
      "source": [
        "mdl._modules"
      ],
      "metadata": {
        "colab": {
          "base_uri": "https://localhost:8080/"
        },
        "id": "8iJ8N7rHO-3u",
        "outputId": "0d7f1e7d-42f5-4048-e32e-b93f7332b81c"
      },
      "execution_count": null,
      "outputs": [
        {
          "output_type": "execute_result",
          "data": {
            "text/plain": [
              "{'l1': Linear(in_features=784, out_features=50, bias=True),\n",
              " 'l2': Linear(in_features=50, out_features=10, bias=True)}"
            ]
          },
          "metadata": {},
          "execution_count": 778
        }
      ]
    },
    {
      "cell_type": "code",
      "source": [
        "for p in mdl.parameters(): print(p.shape)\n"
      ],
      "metadata": {
        "colab": {
          "base_uri": "https://localhost:8080/"
        },
        "id": "zq8-5RulO-6A",
        "outputId": "f38fb3be-913e-4d68-fa0e-65a6bfa433d9"
      },
      "execution_count": null,
      "outputs": [
        {
          "output_type": "stream",
          "name": "stdout",
          "text": [
            "torch.Size([50, 784])\n",
            "torch.Size([50])\n",
            "torch.Size([10, 50])\n",
            "torch.Size([10])\n"
          ]
        }
      ]
    },
    {
      "cell_type": "code",
      "source": [
        "def numbers_to_10():\n",
        "    for i in range(1, 11):\n",
        "        yield i\n",
        "\n",
        "def numbers_to_20():\n",
        "    yield from numbers_to_10()  # Yield values from another generator()..   if we dont use yield, values would be skipped\n",
        "    for i in range(11, 21):\n",
        "        yield i\n",
        "\n",
        "# for num in numbers_to_20():\n",
        "#     print(num)  # Outputs numbers 1 to 20\n",
        "\n",
        "list(numbers_to_20())"
      ],
      "metadata": {
        "id": "VkJ22jh1O-8X",
        "colab": {
          "base_uri": "https://localhost:8080/"
        },
        "outputId": "8ad3d9a4-2ed1-4779-84eb-f2dc6ce67835"
      },
      "execution_count": null,
      "outputs": [
        {
          "output_type": "execute_result",
          "data": {
            "text/plain": [
              "[1, 2, 3, 4, 5, 6, 7, 8, 9, 10, 11, 12, 13, 14, 15, 16, 17, 18, 19, 20]"
            ]
          },
          "metadata": {},
          "execution_count": 780
        }
      ]
    },
    {
      "cell_type": "code",
      "source": [
        "list(numbers_to_10())"
      ],
      "metadata": {
        "id": "Dr8TYpQ_O--m",
        "colab": {
          "base_uri": "https://localhost:8080/"
        },
        "outputId": "e6468687-3db2-4153-c48b-ee65f13e5672"
      },
      "execution_count": null,
      "outputs": [
        {
          "output_type": "execute_result",
          "data": {
            "text/plain": [
              "[1, 2, 3, 4, 5, 6, 7, 8, 9, 10]"
            ]
          },
          "metadata": {},
          "execution_count": 781
        }
      ]
    },
    {
      "cell_type": "code",
      "source": [
        "numbers_to_10()"
      ],
      "metadata": {
        "id": "BTLsxBHwO_Aw",
        "colab": {
          "base_uri": "https://localhost:8080/"
        },
        "outputId": "0eb0a3fd-a017-441b-9afa-4cb698a9349a"
      },
      "execution_count": null,
      "outputs": [
        {
          "output_type": "execute_result",
          "data": {
            "text/plain": [
              "<generator object numbers_to_10 at 0x7b62d15dcc80>"
            ]
          },
          "metadata": {},
          "execution_count": 782
        }
      ]
    },
    {
      "cell_type": "code",
      "source": [],
      "metadata": {
        "id": "2RNkeLywO_DK"
      },
      "execution_count": null,
      "outputs": []
    },
    {
      "cell_type": "markdown",
      "source": [
        "# Registering modules"
      ],
      "metadata": {
        "id": "9uWNpUYHgQ9g"
      }
    },
    {
      "cell_type": "code",
      "source": [
        "from functools import reduce"
      ],
      "metadata": {
        "id": "dCoZ7JWxO_Fd"
      },
      "execution_count": null,
      "outputs": []
    },
    {
      "cell_type": "markdown",
      "source": [
        "We can use the original layers approach, but we have to register the modules.\n",
        "\n"
      ],
      "metadata": {
        "id": "Yfi3knfygflh"
      }
    },
    {
      "cell_type": "code",
      "source": [
        "layers = [  nn.Linear(m,nh),\n",
        "            nn.ReLU(),\n",
        "            nn.Linear(nh, 10)]\n",
        "layers"
      ],
      "metadata": {
        "id": "DCYYdL5nO_H9",
        "colab": {
          "base_uri": "https://localhost:8080/"
        },
        "outputId": "70bbf187-8d86-4b13-8319-fa6295a073ec"
      },
      "execution_count": null,
      "outputs": [
        {
          "output_type": "execute_result",
          "data": {
            "text/plain": [
              "[Linear(in_features=784, out_features=50, bias=True),\n",
              " ReLU(),\n",
              " Linear(in_features=50, out_features=10, bias=True)]"
            ]
          },
          "metadata": {},
          "execution_count": 784
        }
      ]
    },
    {
      "cell_type": "code",
      "source": [
        "from functools import reduce\n"
      ],
      "metadata": {
        "id": "uX49F94Ir1tv"
      },
      "execution_count": null,
      "outputs": []
    },
    {
      "cell_type": "code",
      "source": [
        "class Model(nn.Module):\n",
        "  def __init__(self, layers):\n",
        "    super().__init__()\n",
        "    self.layers = layers\n",
        "    for i,l in enumerate(self.layers):\n",
        "      self.add_module(f'layer_{i}', l)\n",
        "\n",
        "  def forward(self, x):\n",
        "    return reduce(lambda val, layer: layer(val), self.layers, x)  # reduce(reduction_function, self.layers, x)\n",
        "\n",
        "\n",
        "\"\"\"result = reduce(reduction_function, self.layers, x)\n",
        "The reduce function is called with three arguments:\n",
        "\n",
        "reduction_function: The binary function to apply cumulatively.\n",
        "self.layers: The iterable (list of layers) to apply the function to.\n",
        "x: The initial value to start the accumulation.\n",
        "The reduce function iterates through the layers, applying the lambda function to the accumulated value (val) and the current layer, updating the accumulated\n",
        "value at each step. The final result is the output of the last layer applied to the initial input x.\"\"\""
      ],
      "metadata": {
        "id": "w3iG5vLEO_Kn",
        "colab": {
          "base_uri": "https://localhost:8080/",
          "height": 157
        },
        "outputId": "f00eb932-1ce9-4d72-eacb-dde256bf9f4b"
      },
      "execution_count": null,
      "outputs": [
        {
          "output_type": "execute_result",
          "data": {
            "text/plain": [
              "'result = reduce(reduction_function, self.layers, x)\\nThe reduce function is called with three arguments:\\n\\nreduction_function: The binary function to apply cumulatively.\\nself.layers: The iterable (list of layers) to apply the function to.\\nx: The initial value to start the accumulation.\\nThe reduce function iterates through the layers, applying the lambda function to the accumulated value (val) and the current layer, updating the accumulated \\nvalue at each step. The final result is the output of the last layer applied to the initial input x.'"
            ],
            "application/vnd.google.colaboratory.intrinsic+json": {
              "type": "string"
            }
          },
          "metadata": {},
          "execution_count": 786
        }
      ]
    },
    {
      "cell_type": "code",
      "source": [
        "model = Model(layers)\n",
        "model"
      ],
      "metadata": {
        "id": "MYNxUo9IO_Nn",
        "colab": {
          "base_uri": "https://localhost:8080/"
        },
        "outputId": "b7809011-25bc-471c-e32a-5457478ef822"
      },
      "execution_count": null,
      "outputs": [
        {
          "output_type": "execute_result",
          "data": {
            "text/plain": [
              "Model(\n",
              "  (layer_0): Linear(in_features=784, out_features=50, bias=True)\n",
              "  (layer_1): ReLU()\n",
              "  (layer_2): Linear(in_features=50, out_features=10, bias=True)\n",
              ")"
            ]
          },
          "metadata": {},
          "execution_count": 787
        }
      ]
    },
    {
      "cell_type": "code",
      "source": [
        "s= [ 1,2,3]\n",
        "\n",
        "reduce( lambda x,y : x+y,s , 10)"
      ],
      "metadata": {
        "id": "IAspKFE0O_QM",
        "colab": {
          "base_uri": "https://localhost:8080/"
        },
        "outputId": "2834d28c-a568-4e78-b724-12afae215661"
      },
      "execution_count": null,
      "outputs": [
        {
          "output_type": "execute_result",
          "data": {
            "text/plain": [
              "16"
            ]
          },
          "metadata": {},
          "execution_count": 788
        }
      ]
    },
    {
      "cell_type": "code",
      "source": [
        "model(xb).shape"
      ],
      "metadata": {
        "id": "NtJzEim4O_Ro",
        "colab": {
          "base_uri": "https://localhost:8080/"
        },
        "outputId": "4de90f32-ef1e-4fcb-84f1-e89cc46829c8"
      },
      "execution_count": null,
      "outputs": [
        {
          "output_type": "execute_result",
          "data": {
            "text/plain": [
              "torch.Size([50, 10])"
            ]
          },
          "metadata": {},
          "execution_count": 789
        }
      ]
    },
    {
      "cell_type": "code",
      "source": [],
      "metadata": {
        "id": "ShabzRwvO_Uv"
      },
      "execution_count": null,
      "outputs": []
    },
    {
      "cell_type": "code",
      "source": [],
      "metadata": {
        "id": "KQgrxXr5t1Gk"
      },
      "execution_count": null,
      "outputs": []
    },
    {
      "cell_type": "markdown",
      "source": [
        "# nn.ModuleList\n",
        "  nn.ModuleList does this for us"
      ],
      "metadata": {
        "id": "lKAFmtrGt1St"
      }
    },
    {
      "cell_type": "code",
      "source": [
        "class SequentialModel(nn.Module):\n",
        "  def __init__(self, layers):\n",
        "    super().__init__()\n",
        "    self.layers = nn.ModuleList(layers)# replaces `self.layers = layers; for i,l in enumerate(self.layers): self.add_module(f'layer_{i}', l)\n",
        "\n",
        "  # def forward(self,x):\n",
        "  #   for l in self.layers:x = l(x);\n",
        "  #   return x\n",
        "\n",
        "  def forward(self,x):\n",
        "    return reduce( lambda v,l :l(v), self.layers, x )"
      ],
      "metadata": {
        "id": "X39pxz57t1gU"
      },
      "execution_count": null,
      "outputs": []
    },
    {
      "cell_type": "code",
      "source": [
        "model = SequentialModel(layers)\n",
        "model"
      ],
      "metadata": {
        "colab": {
          "base_uri": "https://localhost:8080/"
        },
        "id": "z-KzTg-Dt1iX",
        "outputId": "9925aea6-c4a2-425a-fb18-83cd218b0f30"
      },
      "execution_count": null,
      "outputs": [
        {
          "output_type": "execute_result",
          "data": {
            "text/plain": [
              "SequentialModel(\n",
              "  (layers): ModuleList(\n",
              "    (0): Linear(in_features=784, out_features=50, bias=True)\n",
              "    (1): ReLU()\n",
              "    (2): Linear(in_features=50, out_features=10, bias=True)\n",
              "  )\n",
              ")"
            ]
          },
          "metadata": {},
          "execution_count": 791
        }
      ]
    },
    {
      "cell_type": "code",
      "source": [
        "fit()"
      ],
      "metadata": {
        "colab": {
          "base_uri": "https://localhost:8080/"
        },
        "id": "DKooCATet1kb",
        "outputId": "ab36b000-4555-43c6-c2cf-f2b40acd757b"
      },
      "execution_count": null,
      "outputs": [
        {
          "output_type": "stream",
          "name": "stdout",
          "text": [
            "0.13, 0.92\n",
            "0.10, 0.96\n",
            "0.08, 0.96\n"
          ]
        }
      ]
    },
    {
      "cell_type": "code",
      "source": [],
      "metadata": {
        "id": "sHMn8B7vt1mt"
      },
      "execution_count": null,
      "outputs": []
    },
    {
      "cell_type": "code",
      "source": [
        "x = [1,2,3,4,5,6]\n",
        "list(filter(lambda x : x%2 != 0 , x))"
      ],
      "metadata": {
        "colab": {
          "base_uri": "https://localhost:8080/"
        },
        "id": "2Vayrt3t0elh",
        "outputId": "94ff00c2-0736-4c9a-e777-0348a1cf99c0"
      },
      "execution_count": null,
      "outputs": [
        {
          "output_type": "execute_result",
          "data": {
            "text/plain": [
              "[1, 3, 5]"
            ]
          },
          "metadata": {},
          "execution_count": 793
        }
      ]
    },
    {
      "cell_type": "code",
      "source": [],
      "metadata": {
        "id": "w93afbOi0eoR"
      },
      "execution_count": null,
      "outputs": []
    },
    {
      "cell_type": "markdown",
      "source": [
        "# nn.Sequential\n",
        "nn.Sequential does same by default\n"
      ],
      "metadata": {
        "id": "YEUPxdZJx4P0"
      }
    },
    {
      "cell_type": "code",
      "source": [
        "model = nn.Sequential(nn.Linear(m,nh), nn.ReLU(), nn.Linear(nh,10))\n",
        "model\n"
      ],
      "metadata": {
        "colab": {
          "base_uri": "https://localhost:8080/"
        },
        "id": "n4ugDI75t1oY",
        "outputId": "658967c8-a3e9-47f9-cd15-99ccf8e10a5b"
      },
      "execution_count": null,
      "outputs": [
        {
          "output_type": "execute_result",
          "data": {
            "text/plain": [
              "Sequential(\n",
              "  (0): Linear(in_features=784, out_features=50, bias=True)\n",
              "  (1): ReLU()\n",
              "  (2): Linear(in_features=50, out_features=10, bias=True)\n",
              ")"
            ]
          },
          "metadata": {},
          "execution_count": 794
        }
      ]
    },
    {
      "cell_type": "code",
      "source": [
        "fit()"
      ],
      "metadata": {
        "colab": {
          "base_uri": "https://localhost:8080/"
        },
        "id": "QQGkZnTAt1qR",
        "outputId": "8349773a-645b-4c14-d470-e717e4e7fbd4"
      },
      "execution_count": null,
      "outputs": [
        {
          "output_type": "stream",
          "name": "stdout",
          "text": [
            "0.16, 0.96\n",
            "0.10, 0.96\n",
            "0.05, 0.98\n"
          ]
        }
      ]
    },
    {
      "cell_type": "code",
      "source": [
        "loss_func(model(xb), yb),      accuracy(model(xb), yb)\n"
      ],
      "metadata": {
        "colab": {
          "base_uri": "https://localhost:8080/"
        },
        "id": "BQKMx_Kpt1sR",
        "outputId": "b8b7a99a-4985-4f06-e34f-018b3a95df35"
      },
      "execution_count": null,
      "outputs": [
        {
          "output_type": "execute_result",
          "data": {
            "text/plain": [
              "(tensor(0.02, grad_fn=<NllLossBackward0>), tensor(1.))"
            ]
          },
          "metadata": {},
          "execution_count": 796
        }
      ]
    },
    {
      "cell_type": "code",
      "source": [],
      "metadata": {
        "id": "X3xmFBi0t1uV"
      },
      "execution_count": null,
      "outputs": []
    },
    {
      "cell_type": "markdown",
      "source": [
        "# optim"
      ],
      "metadata": {
        "id": "uo-qg4s1KCll"
      }
    },
    {
      "cell_type": "code",
      "source": [
        "class Optimizer:\n",
        "  def __init__(self, params, lr = 0.5):\n",
        "    self.params, self.lr = list(params), lr\n",
        "\n",
        "  def step(self):\n",
        "    with torch.no_grad():\n",
        "      for p in self.params:\n",
        "        p -= p.grad * self.lr\n",
        "\n",
        "  def zero_grad(self):\n",
        "    for p in self.params:\n",
        "      p.grad.data.zero_()\n"
      ],
      "metadata": {
        "id": "l3O760FUt1xO"
      },
      "execution_count": null,
      "outputs": []
    },
    {
      "cell_type": "code",
      "source": [
        "model = nn.Sequential(\n",
        "    nn.Linear(m,nh),\n",
        "    nn.ReLU(),\n",
        "    nn.Linear(nh, 10)\n",
        ")"
      ],
      "metadata": {
        "id": "aADh8sEkKBQI"
      },
      "execution_count": null,
      "outputs": []
    },
    {
      "cell_type": "code",
      "source": [
        "opt = Optimizer(model.parameters())"
      ],
      "metadata": {
        "id": "tCfG2Y_OKBSb"
      },
      "execution_count": null,
      "outputs": []
    },
    {
      "cell_type": "code",
      "source": [
        "for epoch in range(epochs):\n",
        "  for i in range(0 , n, bs):\n",
        "    s = slice(i, min(i+bs , n))\n",
        "\n",
        "    xb,yb = x_train[s], y_train[s]\n",
        "    preds = model(xb)\n",
        "\n",
        "    loss = loss_func(preds, yb)\n",
        "    loss.backward()  # computes gradients\n",
        "\n",
        "    opt.step()\n",
        "    opt.zero_grad()\n",
        "  report(loss, preds, yb)"
      ],
      "metadata": {
        "colab": {
          "base_uri": "https://localhost:8080/"
        },
        "id": "OXVi-ET0KBU6",
        "outputId": "09e3f74e-3fd1-4c7b-e2c0-9a2f556ac4e9"
      },
      "execution_count": null,
      "outputs": [
        {
          "output_type": "stream",
          "name": "stdout",
          "text": [
            "0.10, 0.98\n",
            "0.06, 1.00\n",
            "0.03, 1.00\n"
          ]
        }
      ]
    },
    {
      "cell_type": "markdown",
      "source": [
        "PyTorch already provides this exact functionality in optim.SGD (it also handles stuff like momentum, which we'll look at later)"
      ],
      "metadata": {
        "id": "HdiUZjE0NNGO"
      }
    },
    {
      "cell_type": "code",
      "source": [
        "from torch import optim"
      ],
      "metadata": {
        "id": "-o9WK1-HKBYI"
      },
      "execution_count": null,
      "outputs": []
    },
    {
      "cell_type": "code",
      "source": [
        "def get_model():\n",
        "  model = nn.Sequential(\n",
        "      nn.Linear(m,nh),\n",
        "      nn.ReLU(),\n",
        "      nn.Linear(nh, 10)\n",
        "  )\n",
        "  return model, optim.SGD(model.parameters(), lr = lr)"
      ],
      "metadata": {
        "id": "NO9UwiXSKBaE"
      },
      "execution_count": null,
      "outputs": []
    },
    {
      "cell_type": "code",
      "source": [
        "model, opt = get_model()\n",
        "loss_func( model(xb), yb)"
      ],
      "metadata": {
        "colab": {
          "base_uri": "https://localhost:8080/"
        },
        "id": "fSC_Kk75KBb3",
        "outputId": "80e58303-ced9-4f2c-b28c-ff415bc57088"
      },
      "execution_count": null,
      "outputs": [
        {
          "output_type": "execute_result",
          "data": {
            "text/plain": [
              "tensor(2.31, grad_fn=<NllLossBackward0>)"
            ]
          },
          "metadata": {},
          "execution_count": 803
        }
      ]
    },
    {
      "cell_type": "code",
      "source": [
        "for epoch in range(epochs):\n",
        "    for i in range(0, n, bs):\n",
        "        s = slice(i, min(n,i+bs))\n",
        "        xb,yb = x_train[s],y_train[s]\n",
        "        preds = model(xb)\n",
        "        loss = loss_func(preds, yb)\n",
        "        loss.backward()\n",
        "        opt.step()\n",
        "        opt.zero_grad()\n",
        "    report(loss, preds, yb)\n",
        "\n"
      ],
      "metadata": {
        "colab": {
          "base_uri": "https://localhost:8080/"
        },
        "id": "V5lBiumGKBdl",
        "outputId": "72a28c0b-5dc3-43c5-d459-641755d392c4"
      },
      "execution_count": null,
      "outputs": [
        {
          "output_type": "stream",
          "name": "stdout",
          "text": [
            "0.15, 0.92\n",
            "0.11, 0.96\n",
            "0.07, 0.96\n"
          ]
        }
      ]
    },
    {
      "cell_type": "code",
      "source": [],
      "metadata": {
        "id": "5T5uZC0TOAyZ"
      },
      "execution_count": null,
      "outputs": []
    },
    {
      "cell_type": "markdown",
      "source": [
        "# Dataset and DataLoader\n"
      ],
      "metadata": {
        "id": "cN5hWwD3OFC2"
      }
    },
    {
      "cell_type": "markdown",
      "source": [
        "## Dataset\n",
        "  It's clunky to iterate through minibatches of x and y values separately:\n",
        "  \n",
        "  \n",
        "* `xb,yb = x_train[s],y_train[s]`\n",
        "  instead let's do both steps together\n",
        "  `xb, yb = train_ds[s]`\n"
      ],
      "metadata": {
        "id": "mNYO0F2DOgRi"
      }
    },
    {
      "cell_type": "code",
      "source": [
        "class Dataset():\n",
        "  def __init__( self,x,y):\n",
        "    self.x, self.y = x,y\n",
        "\n",
        "  def __len__(self):\n",
        "    return len(self.x)\n",
        "\n",
        "  def __getitem__(self, i):\n",
        "    return self.x[i], self.y[i]  # it will be called automatically whenever [] are used i.e. x[i]"
      ],
      "metadata": {
        "id": "OliMs2JLOBnW"
      },
      "execution_count": null,
      "outputs": []
    },
    {
      "cell_type": "code",
      "source": [
        "train_ds = Dataset(x_train, y_train)\n",
        "len(train_ds), len(train_ds[0])"
      ],
      "metadata": {
        "colab": {
          "base_uri": "https://localhost:8080/"
        },
        "id": "DD3ydnA2OBpn",
        "outputId": "432c8459-ee1a-4b15-a0ca-144735e62dc0"
      },
      "execution_count": null,
      "outputs": [
        {
          "output_type": "execute_result",
          "data": {
            "text/plain": [
              "(50000, 2)"
            ]
          },
          "metadata": {},
          "execution_count": 806
        }
      ]
    },
    {
      "cell_type": "code",
      "source": [
        "train_ds, valid_ds = Dataset(x_train, y_train), Dataset(x_valid , y_valid)\n",
        "assert len(train_ds) == len(x_train)\n",
        "assert len(valid_ds) == len(x_valid)"
      ],
      "metadata": {
        "id": "R5nIrLsNOBry"
      },
      "execution_count": null,
      "outputs": []
    },
    {
      "cell_type": "code",
      "source": [
        "xb, yb = train_ds[:5]\n",
        "assert xb.shape == (5, 28*28)\n",
        "assert yb.shape == (5,)"
      ],
      "metadata": {
        "id": "vMQ-5PypOBuO"
      },
      "execution_count": null,
      "outputs": []
    },
    {
      "cell_type": "code",
      "source": [
        "model, opt = get_model()"
      ],
      "metadata": {
        "id": "IRO0UQwgaQT1"
      },
      "execution_count": null,
      "outputs": []
    },
    {
      "cell_type": "code",
      "source": [
        "for epoch in range(epochs):\n",
        "    for i in range(0, n, bs):\n",
        "        xb,yb = train_ds[i: min(n,i+bs)]\n",
        "        preds = model(xb)\n",
        "        loss = loss_func(preds, yb)\n",
        "        loss.backward()\n",
        "        opt.step()\n",
        "        opt.zero_grad()\n",
        "    report(loss, preds, yb)\n",
        "\n"
      ],
      "metadata": {
        "colab": {
          "base_uri": "https://localhost:8080/"
        },
        "id": "6ZrP3w5EOBwI",
        "outputId": "36197a5d-447b-4744-ecff-492ca572b77a"
      },
      "execution_count": null,
      "outputs": [
        {
          "output_type": "stream",
          "name": "stdout",
          "text": [
            "0.14, 0.94\n",
            "0.10, 0.96\n",
            "0.08, 0.96\n"
          ]
        }
      ]
    },
    {
      "cell_type": "markdown",
      "source": [
        "# DataLoader(iterator)\n",
        "to replace\n",
        "\n",
        "`    for i in range(0, n, bs):`\n",
        "`        xb,yb = train_ds[i: min(n,i+bs)]  ` # dataloader does this\n",
        "\n",
        "\n",
        "\n",
        "* dataloader is an iterator. Iterator has a class that has dunder iterator methof( __iter__()\n",
        "\n",
        "  \n"
      ],
      "metadata": {
        "id": "nkTBY_Q3a6Kf"
      }
    },
    {
      "cell_type": "code",
      "source": [
        "class DataLoader(): # will return a batch of elements\n",
        "  def __init__(self, ds, bs):\n",
        "    self.ds, self.bs = ds, bs\n",
        "\n",
        "\n",
        "  def __iter__(self):\n",
        "    for i in range(0, len(self.ds), self.bs):\n",
        "      yield self.ds[i : i+self.bs]\n",
        "\n"
      ],
      "metadata": {
        "id": "kJOhEyS8OByU"
      },
      "execution_count": null,
      "outputs": []
    },
    {
      "cell_type": "code",
      "source": [
        "train_dl = DataLoader(train_ds, bs)\n",
        "valid_dl = DataLoader(valid_ds, bs)"
      ],
      "metadata": {
        "id": "ziMQCMRAOB0O"
      },
      "execution_count": null,
      "outputs": []
    },
    {
      "cell_type": "code",
      "source": [
        "next(iter(valid_dl))[0].shape, next(iter(valid_dl))[1].shape"
      ],
      "metadata": {
        "colab": {
          "base_uri": "https://localhost:8080/"
        },
        "id": "UAiVTWQ7OB2x",
        "outputId": "fa784ac5-109e-4a44-faea-8071791bea13"
      },
      "execution_count": null,
      "outputs": [
        {
          "output_type": "execute_result",
          "data": {
            "text/plain": [
              "(torch.Size([50, 784]), torch.Size([50]))"
            ]
          },
          "metadata": {},
          "execution_count": 813
        }
      ]
    },
    {
      "cell_type": "code",
      "source": [
        "xb,yb = next(iter(valid_dl))\n",
        "xb.shape, yb.shape"
      ],
      "metadata": {
        "colab": {
          "base_uri": "https://localhost:8080/"
        },
        "id": "0ZrhgP3cOB5g",
        "outputId": "880bcc9c-9250-401d-a16e-6799e0472953"
      },
      "execution_count": null,
      "outputs": [
        {
          "output_type": "execute_result",
          "data": {
            "text/plain": [
              "(torch.Size([50, 784]), torch.Size([50]))"
            ]
          },
          "metadata": {},
          "execution_count": 814
        }
      ]
    },
    {
      "cell_type": "code",
      "source": [
        "yb"
      ],
      "metadata": {
        "colab": {
          "base_uri": "https://localhost:8080/"
        },
        "id": "iN-h2C-Efdq_",
        "outputId": "b99dd1fa-cf4e-44c4-e5dc-536ef8c8f62d"
      },
      "execution_count": null,
      "outputs": [
        {
          "output_type": "execute_result",
          "data": {
            "text/plain": [
              "tensor([3, 8, 6, 9, 6, 4, 5, 3, 8, 4, 5, 2, 3, 8, 4, 8, 1, 5, 0, 5, 9, 7, 4, 1, 0, 3, 0, 6, 2, 9, 9, 4, 1, 3, 6, 8, 0, 7, 7,\n",
              "        6, 8, 9, 0, 3, 8, 3, 7, 7, 8, 4])"
            ]
          },
          "metadata": {},
          "execution_count": 815
        }
      ]
    },
    {
      "cell_type": "code",
      "source": [
        "plt.imshow(xb[0].view(28,28))"
      ],
      "metadata": {
        "colab": {
          "base_uri": "https://localhost:8080/",
          "height": 447
        },
        "id": "iIAzOwOKff2n",
        "outputId": "f716fcd4-f465-477c-be99-f77ce1ce29d9"
      },
      "execution_count": null,
      "outputs": [
        {
          "output_type": "execute_result",
          "data": {
            "text/plain": [
              "<matplotlib.image.AxesImage at 0x7b62d156dd50>"
            ]
          },
          "metadata": {},
          "execution_count": 816
        },
        {
          "output_type": "display_data",
          "data": {
            "text/plain": [
              "<Figure size 640x480 with 1 Axes>"
            ],
            "image/png": "[encoded data removed]"
          },
          "metadata": {}
        }
      ]
    },
    {
      "cell_type": "code",
      "source": [
        "model,opt = get_model()"
      ],
      "metadata": {
        "id": "rJHBEoBrfgTw"
      },
      "execution_count": null,
      "outputs": []
    },
    {
      "cell_type": "code",
      "source": [
        "def fit():\n",
        "    for epoch in range(epochs):\n",
        "        for xb,yb in train_dl:  # getting batches\n",
        "            preds = model(xb)\n",
        "            loss = loss_func(preds, yb)\n",
        "            loss.backward()\n",
        "            opt.step()\n",
        "            opt.zero_grad()\n",
        "        report(loss, preds, yb)\n"
      ],
      "metadata": {
        "id": "KKUrQqQQfgV9"
      },
      "execution_count": null,
      "outputs": []
    },
    {
      "cell_type": "code",
      "source": [
        "fit()\n",
        "loss_func(model(xb), yb), accuracy(model(xb), yb)"
      ],
      "metadata": {
        "colab": {
          "base_uri": "https://localhost:8080/"
        },
        "id": "w9ms0ylLfgYG",
        "outputId": "b5694e9f-96c6-4200-b4df-3aa7e367dad2"
      },
      "execution_count": null,
      "outputs": [
        {
          "output_type": "stream",
          "name": "stdout",
          "text": [
            "0.12, 0.96\n",
            "0.10, 0.98\n",
            "0.10, 0.96\n"
          ]
        },
        {
          "output_type": "execute_result",
          "data": {
            "text/plain": [
              "(tensor(0.05, grad_fn=<NllLossBackward0>), tensor(1.))"
            ]
          },
          "metadata": {},
          "execution_count": 819
        }
      ]
    },
    {
      "cell_type": "markdown",
      "source": [
        "# Random sampling\n",
        "we want our training set to be randomized"
      ],
      "metadata": {
        "id": "bB5R7DhymB1r"
      }
    },
    {
      "cell_type": "code",
      "source": [
        "import random"
      ],
      "metadata": {
        "id": "2iJF0xmQfgaD"
      },
      "execution_count": null,
      "outputs": []
    },
    {
      "cell_type": "code",
      "source": [
        "class Sampler():\n",
        "  def __init__(self, ds, shuffle = False):\n",
        "    self.n, self.shuffle = len(ds), shuffle\n",
        "\n",
        "  def __iter__(self):\n",
        "    res = list(range(self.n))\n",
        "    # print(f'before:{res}')\n",
        "\n",
        "    if self.shuffle:\n",
        "      random.shuffle(res)\n",
        "    # print(f'Later:{res}')\n",
        "    return iter(res)"
      ],
      "metadata": {
        "id": "724wb-oafgb8"
      },
      "execution_count": null,
      "outputs": []
    },
    {
      "cell_type": "code",
      "source": [
        "ss =Sampler(train_ds)\n",
        "ss"
      ],
      "metadata": {
        "colab": {
          "base_uri": "https://localhost:8080/"
        },
        "id": "zOKq0iBGfgfp",
        "outputId": "b7ed04b3-b8c4-478e-999f-0acbe8a4bcad"
      },
      "execution_count": null,
      "outputs": [
        {
          "output_type": "execute_result",
          "data": {
            "text/plain": [
              "<__main__.Sampler at 0x7b62d15965f0>"
            ]
          },
          "metadata": {},
          "execution_count": 822
        }
      ]
    },
    {
      "cell_type": "code",
      "source": [
        "it = iter(ss)  # calling ___iter__()\n",
        "list(it)[:5]   # these are indexes"
      ],
      "metadata": {
        "colab": {
          "base_uri": "https://localhost:8080/"
        },
        "id": "W8BEV8hEfgh2",
        "outputId": "ded7d62e-ba45-4bcf-bda5-9c2b84aaa580"
      },
      "execution_count": null,
      "outputs": [
        {
          "output_type": "execute_result",
          "data": {
            "text/plain": [
              "[0, 1, 2, 3, 4]"
            ]
          },
          "metadata": {},
          "execution_count": 823
        }
      ]
    },
    {
      "cell_type": "code",
      "source": [
        "from itertools import islice"
      ],
      "metadata": {
        "id": "f7VmJyZzq5Op"
      },
      "execution_count": null,
      "outputs": []
    },
    {
      "cell_type": "code",
      "source": [
        "list(islice(ss,5)) # first 5"
      ],
      "metadata": {
        "colab": {
          "base_uri": "https://localhost:8080/"
        },
        "id": "3_GKnf9yfgj3",
        "outputId": "222ee695-f0e9-4f6c-ea6e-31dea450a798"
      },
      "execution_count": null,
      "outputs": [
        {
          "output_type": "execute_result",
          "data": {
            "text/plain": [
              "[0, 1, 2, 3, 4]"
            ]
          },
          "metadata": {},
          "execution_count": 825
        }
      ]
    },
    {
      "cell_type": "code",
      "source": [
        "s =Sampler(train_ds, True)\n",
        "list(islice(s,5)) # first 5"
      ],
      "metadata": {
        "id": "oCRhOF8rq4in",
        "outputId": "89d5b8c0-36d3-4139-9fe0-2cd5734adc98",
        "colab": {
          "base_uri": "https://localhost:8080/"
        }
      },
      "execution_count": null,
      "outputs": [
        {
          "output_type": "execute_result",
          "data": {
            "text/plain": [
              "[12742, 46844, 44137, 8917, 31082]"
            ]
          },
          "metadata": {},
          "execution_count": 826
        }
      ]
    },
    {
      "cell_type": "code",
      "source": [
        "import fastcore.all as fc"
      ],
      "metadata": {
        "id": "oJrNXAlefgms"
      },
      "execution_count": null,
      "outputs": []
    },
    {
      "cell_type": "markdown",
      "source": [
        "## creating batch sampler"
      ],
      "metadata": {
        "id": "T1eOXGo2rYVR"
      }
    },
    {
      "cell_type": "code",
      "source": [
        "class BatchSampler():  # it will do islice for us\n",
        "  def __init__(self, sampler, bs, drop_last = False):\n",
        "    # sampler, bs, drop_last  = self.sampler, self.bs, self.drop_last\n",
        "    fc.store_attr()\n",
        "\n",
        "  def __iter__(self):\n",
        "    yield from fc.chunked(iter(self.sampler), self.bs, drop_last = self.drop_last)\n",
        "\n",
        "\n"
      ],
      "metadata": {
        "id": "sqdqZ2UsrUii"
      },
      "execution_count": null,
      "outputs": []
    },
    {
      "cell_type": "code",
      "source": [
        "batchs = BatchSampler( ss, 4)\n",
        "\n",
        "list(islice(batchs,5))"
      ],
      "metadata": {
        "id": "HxPrXi4srUkv",
        "outputId": "8cc50887-32a1-4ac9-b547-c40820f5a3d7",
        "colab": {
          "base_uri": "https://localhost:8080/"
        }
      },
      "execution_count": null,
      "outputs": [
        {
          "output_type": "execute_result",
          "data": {
            "text/plain": [
              "[[0, 1, 2, 3],\n",
              " [4, 5, 6, 7],\n",
              " [8, 9, 10, 11],\n",
              " [12, 13, 14, 15],\n",
              " [16, 17, 18, 19]]"
            ]
          },
          "metadata": {},
          "execution_count": 829
        }
      ]
    },
    {
      "cell_type": "code",
      "source": [
        "def collate(b):\n",
        "    xs,ys = zip(*b)  # grab batches,, separate x and y separately and then stack them as tecsors\n",
        "    return torch.stack(xs),torch.stack(ys)"
      ],
      "metadata": {
        "id": "K_h5JKTErUm4"
      },
      "execution_count": null,
      "outputs": []
    },
    {
      "cell_type": "code",
      "source": [
        "\n",
        "tensor1 = torch.tensor([1, 2, 3])\n",
        "tensor2 = torch.tensor([4, 5, 6])\n",
        "tensor3 = torch.tensor([7, 8, 9])\n",
        "\n",
        "# Stack tensors along a new dimension (default is dim=0)\n",
        "stacked_tensor = torch.stack([tensor1, tensor2, tensor3])\n",
        "\n",
        "print(stacked_tensor)"
      ],
      "metadata": {
        "id": "WndyAjr1rUpS",
        "outputId": "1fee0916-aa87-49ab-b742-687696ca7884",
        "colab": {
          "base_uri": "https://localhost:8080/"
        }
      },
      "execution_count": null,
      "outputs": [
        {
          "output_type": "stream",
          "name": "stdout",
          "text": [
            "tensor([[1, 2, 3],\n",
            "        [4, 5, 6],\n",
            "        [7, 8, 9]])\n"
          ]
        }
      ]
    },
    {
      "cell_type": "code",
      "source": [
        "class DataLoader():\n",
        "    def __init__(self, ds, batchs, collate_fn=collate):\n",
        "      fc.store_attr()\n",
        "    def __iter__(self):\n",
        "      yield from (self.collate_fn(self.ds[i] for i in b) for b in self.batchs)"
      ],
      "metadata": {
        "id": "O2tJJlCvrUq_"
      },
      "execution_count": null,
      "outputs": []
    },
    {
      "cell_type": "code",
      "source": [
        "train_samp = BatchSampler(Sampler(train_ds, shuffle=True ), bs)\n",
        "valid_samp = BatchSampler(Sampler(valid_ds, shuffle=False), bs)"
      ],
      "metadata": {
        "id": "NGyvpnf6rUtq"
      },
      "execution_count": null,
      "outputs": []
    },
    {
      "cell_type": "code",
      "source": [
        "np.array(list(iter(train_samp))).shape"
      ],
      "metadata": {
        "id": "BLK4jlEN1lS9",
        "outputId": "dd97e257-f8fe-4bda-c922-b1054eca84aa",
        "colab": {
          "base_uri": "https://localhost:8080/"
        }
      },
      "execution_count": null,
      "outputs": [
        {
          "output_type": "execute_result",
          "data": {
            "text/plain": [
              "(1000, 50)"
            ]
          },
          "metadata": {},
          "execution_count": 834
        }
      ]
    },
    {
      "cell_type": "code",
      "source": [
        "np.array(list(iter(train_samp)))[0]"
      ],
      "metadata": {
        "id": "U5k3UNNW5b7I",
        "outputId": "a9410b0e-88bd-4954-e216-73908dc6899f",
        "colab": {
          "base_uri": "https://localhost:8080/"
        }
      },
      "execution_count": null,
      "outputs": [
        {
          "output_type": "execute_result",
          "data": {
            "text/plain": [
              "array([25251,  3845, 19116, 39767, 14644,  9918,  3684, 25079, 31417, 49284, 13230,  2558,  8351,  9741, 47030, 25894,\n",
              "       27713, 15091, 37406, 11465, 45328, 28169, 11984, 22914, 43234, 26381, 21018, 42908, 49173, 41235, 47815,  3658,\n",
              "        6592,  7903, 31382, 35602,  3317, 38432, 39536, 25070, 45335, 36422, 37727, 28774, 41417, 48743, 30712,  1130,\n",
              "        3160, 42527])"
            ]
          },
          "metadata": {},
          "execution_count": 835
        }
      ]
    },
    {
      "cell_type": "code",
      "source": [
        "train_dl = DataLoader(train_ds, batchs=train_samp)\n",
        "valid_dl = DataLoader(valid_ds, batchs=valid_samp)"
      ],
      "metadata": {
        "id": "E62MGwvUrUvW"
      },
      "execution_count": null,
      "outputs": []
    },
    {
      "cell_type": "code",
      "source": [
        "xb,yb = next(iter(valid_dl))\n",
        "plt.imshow(xb[0].view(28,28))\n",
        "yb[0]"
      ],
      "metadata": {
        "id": "1jFCqWgOrUxk",
        "outputId": "37de54a4-69a0-4d51-de3c-a04e5705584f",
        "colab": {
          "base_uri": "https://localhost:8080/",
          "height": 447
        }
      },
      "execution_count": null,
      "outputs": [
        {
          "output_type": "execute_result",
          "data": {
            "text/plain": [
              "tensor(3)"
            ]
          },
          "metadata": {},
          "execution_count": 837
        },
        {
          "output_type": "display_data",
          "data": {
            "text/plain": [
              "<Figure size 640x480 with 1 Axes>"
            ],
            "image/png": "[encoded data removed]"
          },
          "metadata": {}
        }
      ]
    },
    {
      "cell_type": "code",
      "source": [
        "xb.shape,yb.shape\n"
      ],
      "metadata": {
        "id": "Crz5MZOv5hbp",
        "outputId": "fdf7ed95-d8ab-4933-870f-2cc88cb7609a",
        "colab": {
          "base_uri": "https://localhost:8080/"
        }
      },
      "execution_count": null,
      "outputs": [
        {
          "output_type": "execute_result",
          "data": {
            "text/plain": [
              "(torch.Size([50, 784]), torch.Size([50]))"
            ]
          },
          "metadata": {},
          "execution_count": 838
        }
      ]
    },
    {
      "cell_type": "code",
      "source": [
        "model,opt = get_model()\n"
      ],
      "metadata": {
        "id": "qsQ9gWvN5oyY"
      },
      "execution_count": null,
      "outputs": []
    },
    {
      "cell_type": "code",
      "source": [
        "fit()"
      ],
      "metadata": {
        "id": "_4y7Vp8m5o0o",
        "outputId": "36691900-7643-4782-8e9c-b2a1e0db4e3e",
        "colab": {
          "base_uri": "https://localhost:8080/"
        }
      },
      "execution_count": null,
      "outputs": [
        {
          "output_type": "stream",
          "name": "stdout",
          "text": [
            "0.08, 0.98\n",
            "0.09, 0.98\n",
            "0.04, 0.98\n"
          ]
        }
      ]
    },
    {
      "cell_type": "markdown",
      "source": [
        "# Multiprocessing DataLoader\n"
      ],
      "metadata": {
        "id": "r22WKc105tT_"
      }
    },
    {
      "cell_type": "code",
      "source": [],
      "metadata": {
        "id": "kXPF2bzA5o22"
      },
      "execution_count": null,
      "outputs": []
    },
    {
      "cell_type": "code",
      "source": [],
      "metadata": {
        "id": "Sjd2bkG75o5r"
      },
      "execution_count": null,
      "outputs": []
    },
    {
      "cell_type": "code",
      "source": [],
      "metadata": {
        "id": "irS1N_3h5o79"
      },
      "execution_count": null,
      "outputs": []
    }
  ]
}