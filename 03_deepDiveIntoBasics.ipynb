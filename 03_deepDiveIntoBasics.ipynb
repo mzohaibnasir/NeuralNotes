{
  "nbformat": 4,
  "nbformat_minor": 0,
  "metadata": {
    "colab": {
      "provenance": [],
      "authorship_tag": "ABX9TyPoNJ26x3HKgCO5lger8uRb",
      "include_colab_link": true
    },
    "kernelspec": {
      "name": "python3",
      "display_name": "Python 3"
    },
    "language_info": {
      "name": "python"
    }
  },
  "cells": [
    {
      "cell_type": "markdown",
      "metadata": {
        "id": "view-in-github",
        "colab_type": "text"
      },
      "source": [
        "<a href=\"https://colab.research.google.com/github/mzohaibnasir/NeuralNotes/blob/main/03_deepDiveIntoBasics.ipynb\" target=\"_parent\"><img src=\"https://colab.research.google.com/assets/colab-badge.svg\" alt=\"Open In Colab\"/></a>"
      ]
    },
    {
      "cell_type": "markdown",
      "source": [
        "# Minibatch Training"
      ],
      "metadata": {
        "id": "TvS7nn4_nePl"
      }
    },
    {
      "cell_type": "code",
      "source": [
        "import pickle,gzip,math,os,time,shutil,torch,matplotlib as mpl,numpy as np,matplotlib.pyplot as plt\n",
        "from pathlib import Path\n",
        "from torch import tensor,nn\n",
        "import torch.nn.functional as F\n",
        "from fastcore.test import test_close\n"
      ],
      "metadata": {
        "id": "gc0rwmBVnh2w"
      },
      "execution_count": 35,
      "outputs": []
    },
    {
      "cell_type": "code",
      "source": [
        "MNIST_URL='https://github.com/mnielsen/neural-networks-and-deep-learning/blob/d15df08a69ed33ae16a2fff874f83b57a956172c/data/mnist.pkl.gz?raw=true'\n",
        "path_data = Path('data')\n",
        "path_data.mkdir(exist_ok=True )\n",
        "path_gz=path_data/'mnist.pkl.gz'\n",
        "path_gz"
      ],
      "metadata": {
        "colab": {
          "base_uri": "https://localhost:8080/"
        },
        "id": "dWUrQuMfniy3",
        "outputId": "3d0a9afe-6b71-4e90-a336-cda7d6c1d849"
      },
      "execution_count": 36,
      "outputs": [
        {
          "output_type": "execute_result",
          "data": {
            "text/plain": [
              "PosixPath('data/mnist.pkl.gz')"
            ]
          },
          "metadata": {},
          "execution_count": 36
        }
      ]
    },
    {
      "cell_type": "code",
      "source": [
        "from urllib.request import urlretrieve\n",
        "\n",
        "if not path_gz.exists(): urlretrieve(MNIST_URL, path_gz)"
      ],
      "metadata": {
        "id": "8Tg9Z2NKni06"
      },
      "execution_count": 37,
      "outputs": []
    },
    {
      "cell_type": "code",
      "source": [
        "torch.manual_seed(42)\n",
        "\n",
        "\n",
        "mpl.rcParams['image.cmap'] = 'gray'\n",
        "torch.set_printoptions(precision=2, linewidth=125, sci_mode=False)\n",
        "np.set_printoptions(precision=2, linewidth=125)\n"
      ],
      "metadata": {
        "id": "y-R1O60Cni3P"
      },
      "execution_count": 38,
      "outputs": []
    },
    {
      "cell_type": "code",
      "source": [
        "!ls -l data"
      ],
      "metadata": {
        "colab": {
          "base_uri": "https://localhost:8080/"
        },
        "id": "qQ17fE1hni48",
        "outputId": "51ee15b6-7b91-469e-f6ff-a120d52c89a9"
      },
      "execution_count": 39,
      "outputs": [
        {
          "output_type": "stream",
          "name": "stdout",
          "text": [
            "total 16656\n",
            "-rw-r--r-- 1 root root 17051982 Jan 18 11:43 mnist.pkl.gz\n"
          ]
        }
      ]
    },
    {
      "cell_type": "code",
      "source": [
        "with gzip.open(path_gz, 'rb') as f:   #read as binary as opposed to text\n",
        "   ((x_train,y_train), (x_valid,y_valid), _) = pickle.load(f, encoding='latin-1') #destructuring\n",
        "x_train, y_train, x_valid, y_valid = map(tensor, [x_train, y_train, x_valid, y_valid])"
      ],
      "metadata": {
        "id": "L5cfYFRwni6m"
      },
      "execution_count": 40,
      "outputs": []
    },
    {
      "cell_type": "code",
      "source": [],
      "metadata": {
        "id": "W_TY16NRni8g"
      },
      "execution_count": 40,
      "outputs": []
    },
    {
      "cell_type": "code",
      "source": [
        "n,m = x_train.shape\n",
        "c = y_train.max()+1\n",
        "nh = 50\n"
      ],
      "metadata": {
        "id": "-4wkKeZ7ni-G"
      },
      "execution_count": 41,
      "outputs": []
    },
    {
      "cell_type": "code",
      "source": [
        "class Model(nn.Module):\n",
        "    def __init__(self, n_in, nh, n_out):\n",
        "        super().__init__()\n",
        "        self.layers = [nn.Linear(n_in,nh), nn.ReLU(), nn.Linear(nh,n_out)]\n",
        "\n",
        "    def __call__(self, x):\n",
        "        for l in self.layers: x = l(x)\n",
        "        return x"
      ],
      "metadata": {
        "id": "ATdy9A7kni_1"
      },
      "execution_count": 42,
      "outputs": []
    },
    {
      "cell_type": "code",
      "source": [
        "model = Model(m, nh, 10)\n",
        "pred = model(x_train)\n",
        "pred.shape"
      ],
      "metadata": {
        "colab": {
          "base_uri": "https://localhost:8080/"
        },
        "id": "X4e2xfiynjCG",
        "outputId": "bac6cba5-86eb-42ab-e288-988abad02323"
      },
      "execution_count": 43,
      "outputs": [
        {
          "output_type": "execute_result",
          "data": {
            "text/plain": [
              "torch.Size([50000, 10])"
            ]
          },
          "metadata": {},
          "execution_count": 43
        }
      ]
    },
    {
      "cell_type": "code",
      "source": [
        "### CE loss"
      ],
      "metadata": {
        "id": "jyJTU38InjEc"
      },
      "execution_count": 44,
      "outputs": []
    },
    {
      "cell_type": "code",
      "source": [
        "def log_softmax(x):\n",
        "  print(x.shape)\n",
        "  return (x.exp()/x.exp().sum(-1, keepdim=True)).shape\n",
        "log_softmax(pred)"
      ],
      "metadata": {
        "id": "8-nY1xrTnjG8",
        "colab": {
          "base_uri": "https://localhost:8080/"
        },
        "outputId": "30cce52b-cd8e-4e90-aa36-2c32d4946599"
      },
      "execution_count": 45,
      "outputs": [
        {
          "output_type": "stream",
          "name": "stdout",
          "text": [
            "torch.Size([50000, 10])\n"
          ]
        },
        {
          "output_type": "execute_result",
          "data": {
            "text/plain": [
              "torch.Size([50000, 10])"
            ]
          },
          "metadata": {},
          "execution_count": 45
        }
      ]
    },
    {
      "cell_type": "code",
      "source": [
        "def log_softmax(x):\n",
        "  # print(x.shape)\n",
        "  return (x.exp()/x.exp().sum(-1, keepdim=True)).log()\n",
        "log_softmax(pred)"
      ],
      "metadata": {
        "id": "nTI-2__pnjI9",
        "colab": {
          "base_uri": "https://localhost:8080/"
        },
        "outputId": "19bff46b-3580-423b-ad53-70fbe05c40e8"
      },
      "execution_count": 46,
      "outputs": [
        {
          "output_type": "execute_result",
          "data": {
            "text/plain": [
              "tensor([[-2.36, -2.28, -2.09,  ..., -2.43, -2.47, -2.11],\n",
              "        [-2.37, -2.25, -2.09,  ..., -2.46, -2.43, -2.11],\n",
              "        [-2.34, -2.31, -2.14,  ..., -2.44, -2.48, -2.14],\n",
              "        ...,\n",
              "        [-2.26, -2.25, -2.13,  ..., -2.36, -2.53, -2.17],\n",
              "        [-2.39, -2.30, -2.18,  ..., -2.38, -2.42, -2.11],\n",
              "        [-2.40, -2.25, -2.14,  ..., -2.38, -2.45, -2.23]], grad_fn=<LogBackward0>)"
            ]
          },
          "metadata": {},
          "execution_count": 46
        }
      ]
    },
    {
      "cell_type": "code",
      "source": [
        "pred.exp().shape , pred.exp().sum(-1)[:,None].shape"
      ],
      "metadata": {
        "id": "uEU_eMgOnjLT",
        "colab": {
          "base_uri": "https://localhost:8080/"
        },
        "outputId": "9d0d6c53-03e3-4547-df0d-c93cf4fccda0"
      },
      "execution_count": 47,
      "outputs": [
        {
          "output_type": "execute_result",
          "data": {
            "text/plain": [
              "(torch.Size([50000, 10]), torch.Size([50000, 1]))"
            ]
          },
          "metadata": {},
          "execution_count": 47
        }
      ]
    },
    {
      "cell_type": "code",
      "source": [
        "pred.shape"
      ],
      "metadata": {
        "id": "h1sobHmEnjNV",
        "colab": {
          "base_uri": "https://localhost:8080/"
        },
        "outputId": "22256f90-41b5-46fe-b6bb-116386c72e19"
      },
      "execution_count": 48,
      "outputs": [
        {
          "output_type": "execute_result",
          "data": {
            "text/plain": [
              "torch.Size([50000, 10])"
            ]
          },
          "metadata": {},
          "execution_count": 48
        }
      ]
    },
    {
      "cell_type": "markdown",
      "source": [
        "we'll try to use log rules to simply softmax funcction\n",
        "\n",
        "`e^x and log x are opposite`"
      ],
      "metadata": {
        "id": "TLbz6V4BgpkD"
      }
    },
    {
      "cell_type": "code",
      "source": [
        "def log_softmax(x):\n",
        "  return x - x.exp().sum(-1, keepdim=True).log()"
      ],
      "metadata": {
        "id": "saKpYskknjPN"
      },
      "execution_count": 49,
      "outputs": []
    },
    {
      "cell_type": "code",
      "source": [
        "def logsumexp(x):\n",
        "  m = x.max(-1)[0]  # max value of `x`\n",
        "  return m + (x-m[:,None]).exp().sum(-1).log()  #logsumexp trick"
      ],
      "metadata": {
        "id": "sAK7z424njRn"
      },
      "execution_count": 50,
      "outputs": []
    },
    {
      "cell_type": "code",
      "source": [
        "# in pytorch\n",
        "\n",
        "def log_softmax(x):\n",
        "  return x - x.logsumexp(-1, keepdim=True)"
      ],
      "metadata": {
        "id": "1WeVG0MNnjUq"
      },
      "execution_count": 51,
      "outputs": []
    },
    {
      "cell_type": "code",
      "source": [
        "test_close( logsumexp(pred), pred.logsumexp(-1))\n",
        "sm_pred = log_softmax(pred)\n",
        "sm_pred"
      ],
      "metadata": {
        "id": "W_I2zjpAnjXQ",
        "colab": {
          "base_uri": "https://localhost:8080/"
        },
        "outputId": "d6c14ded-d141-4b4c-fef7-1eba036b98c6"
      },
      "execution_count": 52,
      "outputs": [
        {
          "output_type": "execute_result",
          "data": {
            "text/plain": [
              "tensor([[-2.36, -2.28, -2.09,  ..., -2.43, -2.47, -2.11],\n",
              "        [-2.37, -2.25, -2.09,  ..., -2.46, -2.43, -2.11],\n",
              "        [-2.34, -2.31, -2.14,  ..., -2.44, -2.48, -2.14],\n",
              "        ...,\n",
              "        [-2.26, -2.25, -2.13,  ..., -2.36, -2.53, -2.17],\n",
              "        [-2.39, -2.30, -2.18,  ..., -2.38, -2.42, -2.11],\n",
              "        [-2.40, -2.25, -2.14,  ..., -2.38, -2.45, -2.23]], grad_fn=<SubBackward0>)"
            ]
          },
          "metadata": {},
          "execution_count": 52
        }
      ]
    },
    {
      "cell_type": "markdown",
      "source": [
        "The cross entropy loss for some target\n",
        " and some prediction  p(x) is given by:\n",
        "      - sum( x . log(p(x)))\n",
        "\n",
        "  But since our xs are 1-hot encoded (actually, they're just the integer indices), this can be rewritten as -log(pi) where i is the index of the desired target.\n",
        "\n",
        "This can be done using numpy-style integer array indexing. Note that PyTorch supports all the tricks in the advanced indexing methods discussed in that link."
      ],
      "metadata": {
        "id": "fET2pqYnkHwJ"
      }
    },
    {
      "cell_type": "code",
      "source": [
        "y_train[:3]  # actual values of y_train"
      ],
      "metadata": {
        "colab": {
          "base_uri": "https://localhost:8080/"
        },
        "id": "uTBjjbCMjSDe",
        "outputId": "9d02dd89-cbc3-4c93-eb8c-70c1acfbca89"
      },
      "execution_count": 53,
      "outputs": [
        {
          "output_type": "execute_result",
          "data": {
            "text/plain": [
              "tensor([5, 0, 4])"
            ]
          },
          "metadata": {},
          "execution_count": 53
        }
      ]
    },
    {
      "cell_type": "code",
      "source": [
        "# now in our softmaax prediction `sm_pred`, we want to get 5th prediction of 0, 0th of 1, and 4th of 2\n",
        "\n",
        "sm_pred[0,5], sm_pred[1,0], sm_pred[2,4]"
      ],
      "metadata": {
        "colab": {
          "base_uri": "https://localhost:8080/"
        },
        "id": "b6d78JWNjSF4",
        "outputId": "aaf31c28-e86f-4ac7-8438-d1f774b7880c"
      },
      "execution_count": 54,
      "outputs": [
        {
          "output_type": "execute_result",
          "data": {
            "text/plain": [
              "(tensor(-2.40, grad_fn=<SelectBackward0>),\n",
              " tensor(-2.37, grad_fn=<SelectBackward0>),\n",
              " tensor(-2.14, grad_fn=<SelectBackward0>))"
            ]
          },
          "metadata": {},
          "execution_count": 54
        }
      ]
    },
    {
      "cell_type": "code",
      "source": [
        "sm_pred.shape"
      ],
      "metadata": {
        "colab": {
          "base_uri": "https://localhost:8080/"
        },
        "id": "Y1wUYT5DD7_l",
        "outputId": "345db166-41ae-4a75-e2ad-fb8c83bdd384"
      },
      "execution_count": 55,
      "outputs": [
        {
          "output_type": "execute_result",
          "data": {
            "text/plain": [
              "torch.Size([50000, 10])"
            ]
          },
          "metadata": {},
          "execution_count": 55
        }
      ]
    },
    {
      "cell_type": "code",
      "source": [
        "sm_pred[[0,1,2], y_train[:3]]     # [rows, cols]"
      ],
      "metadata": {
        "colab": {
          "base_uri": "https://localhost:8080/"
        },
        "id": "LfE6014YjSHY",
        "outputId": "bfa837f1-497c-4a31-c4a3-cec7ae6d1db3"
      },
      "execution_count": 56,
      "outputs": [
        {
          "output_type": "execute_result",
          "data": {
            "text/plain": [
              "tensor([-2.40, -2.37, -2.14], grad_fn=<IndexBackward0>)"
            ]
          },
          "metadata": {},
          "execution_count": 56
        }
      ]
    },
    {
      "cell_type": "code",
      "source": [
        "sm_pred[range(y_train.shape[0])]"
      ],
      "metadata": {
        "colab": {
          "base_uri": "https://localhost:8080/"
        },
        "id": "XlalSCABC8sq",
        "outputId": "dcf69f68-ed86-4940-bef8-c0ec2ca84f49"
      },
      "execution_count": 57,
      "outputs": [
        {
          "output_type": "execute_result",
          "data": {
            "text/plain": [
              "tensor([[-2.36, -2.28, -2.09,  ..., -2.43, -2.47, -2.11],\n",
              "        [-2.37, -2.25, -2.09,  ..., -2.46, -2.43, -2.11],\n",
              "        [-2.34, -2.31, -2.14,  ..., -2.44, -2.48, -2.14],\n",
              "        ...,\n",
              "        [-2.26, -2.25, -2.13,  ..., -2.36, -2.53, -2.17],\n",
              "        [-2.39, -2.30, -2.18,  ..., -2.38, -2.42, -2.11],\n",
              "        [-2.40, -2.25, -2.14,  ..., -2.38, -2.45, -2.23]], grad_fn=<IndexBackward0>)"
            ]
          },
          "metadata": {},
          "execution_count": 57
        }
      ]
    },
    {
      "cell_type": "code",
      "source": [
        "def nll(input, target): # this will cross entropy loss   # negative non-likelihood loss\n",
        "  return -input[range(target.shape[0]), target].mean()"
      ],
      "metadata": {
        "id": "W0ZnfBUBBAH8"
      },
      "execution_count": 58,
      "outputs": []
    },
    {
      "cell_type": "markdown",
      "source": [],
      "metadata": {
        "id": "Pon5kkkpF5Aj"
      }
    },
    {
      "cell_type": "code",
      "source": [
        "loss = nll(sm_pred, y_train)\n",
        "loss"
      ],
      "metadata": {
        "colab": {
          "base_uri": "https://localhost:8080/"
        },
        "id": "-lLmSkZZBAJ0",
        "outputId": "d487cf30-fc7e-478d-b7da-1fa0ecd4fdd9"
      },
      "execution_count": 59,
      "outputs": [
        {
          "output_type": "execute_result",
          "data": {
            "text/plain": [
              "tensor(2.30, grad_fn=<NegBackward0>)"
            ]
          },
          "metadata": {},
          "execution_count": 59
        }
      ]
    },
    {
      "cell_type": "code",
      "source": [
        "# Then use PyTorch's implementation.\n",
        "test_close(F.nll_loss(F.log_softmax(pred, -1), y_train), loss, 1e-3)\n",
        "\n",
        "\n",
        "\n"
      ],
      "metadata": {
        "id": "qX3HBWS9BAL9"
      },
      "execution_count": 60,
      "outputs": []
    },
    {
      "cell_type": "code",
      "source": [
        "# In PyTorch, F.log_softmax and F.nll_loss are combined in one optimized function, F.cross_entropy.\n",
        "test_close(F.cross_entropy(pred, y_train), loss, 1e-3)\n"
      ],
      "metadata": {
        "id": "wU6E_D6jBAOl"
      },
      "execution_count": 61,
      "outputs": []
    },
    {
      "cell_type": "code",
      "source": [],
      "metadata": {
        "id": "dHLTJNjcjSJK"
      },
      "execution_count": 61,
      "outputs": []
    },
    {
      "cell_type": "code",
      "source": [],
      "metadata": {
        "id": "6CgF_RGnjSL-"
      },
      "execution_count": 61,
      "outputs": []
    },
    {
      "cell_type": "markdown",
      "source": [
        "# basic training loop\n",
        "\n",
        "Basic training loop\n",
        "Basically the training loop repeats over the following steps:\n",
        "\n",
        " * get the output of the model on a batch of inputs\n",
        " * compare the output to the labels we have and compute a loss\n",
        " * calculate the gradients of the loss with respect to every parameter of the model\n",
        " * update said parameters with those gradients to make them a little bit better"
      ],
      "metadata": {
        "id": "FA2j3Gv5F6mO"
      }
    },
    {
      "cell_type": "code",
      "source": [
        "loss_func = F.cross_entropy"
      ],
      "metadata": {
        "id": "482EP6mgF9bT"
      },
      "execution_count": 62,
      "outputs": []
    },
    {
      "cell_type": "code",
      "source": [
        "bs = 60  # batch size\n",
        "xb = x_train[0:bs]  # a mini batch from x\n",
        "preds = model(xb)\n",
        "\n",
        "preds[0], preds.shape"
      ],
      "metadata": {
        "colab": {
          "base_uri": "https://localhost:8080/"
        },
        "id": "ebpHPoCYF95s",
        "outputId": "3a359bae-8598-4033-9bd3-6bf686bc7d01"
      },
      "execution_count": 63,
      "outputs": [
        {
          "output_type": "execute_result",
          "data": {
            "text/plain": [
              "(tensor([-0.05,  0.03,  0.22,  0.02,  0.00, -0.09, -0.04, -0.12, -0.15,  0.20], grad_fn=<SelectBackward0>),\n",
              " torch.Size([60, 10]))"
            ]
          },
          "metadata": {},
          "execution_count": 63
        }
      ]
    },
    {
      "cell_type": "code",
      "source": [
        "yb = y_train[0:bs]\n",
        "yb"
      ],
      "metadata": {
        "colab": {
          "base_uri": "https://localhost:8080/"
        },
        "id": "JS0UuditF970",
        "outputId": "b83eee8a-ea6b-4fb9-82d3-12c852a7916b"
      },
      "execution_count": 64,
      "outputs": [
        {
          "output_type": "execute_result",
          "data": {
            "text/plain": [
              "tensor([5, 0, 4, 1, 9, 2, 1, 3, 1, 4, 3, 5, 3, 6, 1, 7, 2, 8, 6, 9, 4, 0, 9, 1, 1, 2, 4, 3, 2, 7, 3, 8, 6, 9, 0, 5, 6, 0, 7,\n",
              "        6, 1, 8, 7, 9, 3, 9, 8, 5, 9, 3, 3, 0, 7, 4, 9, 8, 0, 9, 4, 1])"
            ]
          },
          "metadata": {},
          "execution_count": 64
        }
      ]
    },
    {
      "cell_type": "code",
      "source": [
        "loss_func(preds, yb)"
      ],
      "metadata": {
        "colab": {
          "base_uri": "https://localhost:8080/"
        },
        "id": "AdqBuZ52F99e",
        "outputId": "dd46a173-1473-4f6e-b915-c11c9ae7d662"
      },
      "execution_count": 65,
      "outputs": [
        {
          "output_type": "execute_result",
          "data": {
            "text/plain": [
              "tensor(2.28, grad_fn=<NllLossBackward0>)"
            ]
          },
          "metadata": {},
          "execution_count": 65
        }
      ]
    },
    {
      "cell_type": "code",
      "source": [
        "preds.argmax(dim=1) # for each rows in preds , find highest number"
      ],
      "metadata": {
        "colab": {
          "base_uri": "https://localhost:8080/"
        },
        "id": "m8wQlEPfF9-2",
        "outputId": "adc1ae2a-9cb5-464a-c317-dc224c925eac"
      },
      "execution_count": 66,
      "outputs": [
        {
          "output_type": "execute_result",
          "data": {
            "text/plain": [
              "tensor([2, 2, 4, 2, 2, 9, 2, 2, 1, 9, 9, 9, 2, 2, 1, 2, 2, 2, 9, 9, 2, 2, 9, 2, 2, 2, 2, 2, 2, 1, 9, 1, 2, 2, 2, 9, 2, 9, 2,\n",
              "        9, 9, 2, 9, 2, 9, 2, 2, 2, 2, 2, 9, 2, 2, 9, 2, 2, 2, 9, 2, 2])"
            ]
          },
          "metadata": {},
          "execution_count": 66
        }
      ]
    },
    {
      "cell_type": "code",
      "source": [
        "def accuracy(out, yb):\n",
        "  return (out.argmax(dim = 1) == yb).float().mean()"
      ],
      "metadata": {
        "id": "zqWDJEHAF-An"
      },
      "execution_count": 67,
      "outputs": []
    },
    {
      "cell_type": "code",
      "source": [
        "accuracy(preds, yb)"
      ],
      "metadata": {
        "colab": {
          "base_uri": "https://localhost:8080/"
        },
        "id": "lj2mupU0F-Cd",
        "outputId": "f3a9fe73-1f95-4a1d-a10c-6c13d9606837"
      },
      "execution_count": 68,
      "outputs": [
        {
          "output_type": "execute_result",
          "data": {
            "text/plain": [
              "tensor(0.15)"
            ]
          },
          "metadata": {},
          "execution_count": 68
        }
      ]
    },
    {
      "cell_type": "code",
      "source": [
        "lr = 0.5\n",
        "epochs = 3"
      ],
      "metadata": {
        "id": "s3LsXd7DF-FI"
      },
      "execution_count": 77,
      "outputs": []
    },
    {
      "cell_type": "code",
      "source": [
        "def report(loss, preds, yb):\n",
        "  print(f\"{loss:.2f}, {accuracy(preds,yb):.2f}\")"
      ],
      "metadata": {
        "id": "XwMP9mc0ZBx5"
      },
      "execution_count": 78,
      "outputs": []
    },
    {
      "cell_type": "code",
      "source": [
        "xb,yb = x_train[:bs],y_train[:bs]\n",
        "preds = model(xb)\n",
        "report(loss_func(preds, yb), preds, yb)"
      ],
      "metadata": {
        "id": "RgHpDCmiZB0b",
        "outputId": "6b4123a8-1b87-4b6d-aa44-d87418af1d45",
        "colab": {
          "base_uri": "https://localhost:8080/"
        }
      },
      "execution_count": 79,
      "outputs": [
        {
          "output_type": "stream",
          "name": "stdout",
          "text": [
            "2.28, 0.15\n"
          ]
        }
      ]
    },
    {
      "cell_type": "code",
      "source": [
        "for epoch in range(epochs):\n",
        "  for i in range(0, n, bs):\n",
        "    s = slice(i, min(n, i+bs))\n",
        "    xb, yb = x_train[s], y_train[s]\n",
        "    preds = model(xb)\n",
        "    loss = loss_func(preds, yb)\n",
        "    loss.backward()\n",
        "\n",
        "    with torch.no_grad():\n",
        "      for l in model.layers:\n",
        "        if( hasattr( l , 'weight')):\n",
        "          l.weight -= l.weight.grad * lr\n",
        "          l.bias -= l.bias.grad * lr\n",
        "\n",
        "          l.weight.grad.zero_()\n",
        "          l.bias.grad.zero_()\n",
        "\n",
        "  report(loss, preds, yb)"
      ],
      "metadata": {
        "id": "a4b_3-z6ZB2Q",
        "outputId": "fd9a2eab-c1f6-4b8f-a7cf-76b411daa41e",
        "colab": {
          "base_uri": "https://localhost:8080/"
        }
      },
      "execution_count": 80,
      "outputs": [
        {
          "output_type": "stream",
          "name": "stdout",
          "text": [
            "0.18, 0.95\n",
            "0.11, 1.00\n",
            "0.05, 1.00\n"
          ]
        }
      ]
    },
    {
      "cell_type": "code",
      "source": [],
      "metadata": {
        "id": "mp9sRhMxZB4k"
      },
      "execution_count": null,
      "outputs": []
    },
    {
      "cell_type": "code",
      "source": [],
      "metadata": {
        "id": "2e8gw1yQZB6s"
      },
      "execution_count": null,
      "outputs": []
    },
    {
      "cell_type": "code",
      "source": [],
      "metadata": {
        "id": "_LUelpKuZB9J"
      },
      "execution_count": null,
      "outputs": []
    },
    {
      "cell_type": "code",
      "source": [],
      "metadata": {
        "id": "FcnwVkdeZB_T"
      },
      "execution_count": null,
      "outputs": []
    },
    {
      "cell_type": "code",
      "source": [],
      "metadata": {
        "id": "MzVAVIo3ZCBn"
      },
      "execution_count": null,
      "outputs": []
    },
    {
      "cell_type": "code",
      "source": [],
      "metadata": {
        "id": "UnADJPssZCDt"
      },
      "execution_count": null,
      "outputs": []
    },
    {
      "cell_type": "code",
      "source": [],
      "metadata": {
        "id": "jCk43FbqZCGe"
      },
      "execution_count": null,
      "outputs": []
    }
  ]
}